{
 "cells": [
  {
   "cell_type": "code",
   "execution_count": 1,
   "metadata": {
    "autoscroll": "json-false",
    "collapsed": false,
    "ein.tags": [
     "worksheet-0"
    ]
   },
   "outputs": [],
   "source": [
    "%matplotlib inline\n",
    "%load_ext autoreload\n",
    "%autoreload 2"
   ]
  },
  {
   "cell_type": "code",
   "execution_count": 2,
   "metadata": {
    "autoscroll": "json-false",
    "collapsed": false,
    "ein.tags": [
     "worksheet-0"
    ]
   },
   "outputs": [],
   "source": [
    "import matplotlib\n",
    "import matplotlib.pyplot as plt\n",
    "matplotlib.rcParams['font.size'] = 12\n",
    "matplotlib.rcParams['font.family'] = 'serif'\n",
    "matplotlib.rcParams['savefig.dpi'] = 100\n",
    "plt.rc('text',usetex=True)\n",
    "plt.rc('font',serif='times')"
   ]
  },
  {
   "cell_type": "code",
   "execution_count": 4,
   "metadata": {
    "autoscroll": "json-false",
    "collapsed": false,
    "ein.tags": [
     "worksheet-0"
    ]
   },
   "outputs": [],
   "source": [
    "from rad_functions import *"
   ]
  },
  {
   "cell_type": "code",
   "execution_count": 23,
   "metadata": {
    "autoscroll": "json-false",
    "collapsed": false,
    "ein.tags": [
     "worksheet-0"
    ]
   },
   "outputs": [
    {
     "name": "stdout",
     "output_type": "stream",
     "text": [
      "\n"
     ]
    },
    {
     "name": "stdout",
     "output_type": "stream",
     "text": [
      "\n",
      "100"
     ]
    },
    {
     "name": "stdout",
     "output_type": "stream",
     "text": [
      "\n",
      "93"
     ]
    },
    {
     "name": "stdout",
     "output_type": "stream",
     "text": [
      "\n",
      "86"
     ]
    },
    {
     "name": "stdout",
     "output_type": "stream",
     "text": [
      "\n",
      "79"
     ]
    },
    {
     "name": "stdout",
     "output_type": "stream",
     "text": [
      "\n",
      "72"
     ]
    },
    {
     "name": "stdout",
     "output_type": "stream",
     "text": [
      "\n",
      "66"
     ]
    },
    {
     "name": "stdout",
     "output_type": "stream",
     "text": [
      "\n",
      "59"
     ]
    },
    {
     "name": "stdout",
     "output_type": "stream",
     "text": [
      "\n",
      "52"
     ]
    },
    {
     "name": "stdout",
     "output_type": "stream",
     "text": [
      "\n",
      "45"
     ]
    },
    {
     "name": "stdout",
     "output_type": "stream",
     "text": [
      "\n",
      "38"
     ]
    },
    {
     "name": "stdout",
     "output_type": "stream",
     "text": [
      "\n",
      "32"
     ]
    },
    {
     "name": "stdout",
     "output_type": "stream",
     "text": [
      "\n",
      "25"
     ]
    },
    {
     "name": "stdout",
     "output_type": "stream",
     "text": [
      "\n",
      "18"
     ]
    },
    {
     "name": "stdout",
     "output_type": "stream",
     "text": [
      "5\n",
      "11"
     ]
    }
   ],
   "source": [
    "ns = np.linspace(5,100,15)\n",
    "mean_beta = np.empty_like(ns)\n",
    "max_beta = np.empty_like(ns)\n",
    "min_beta = np.empty_like(ns)\n",
    "\n",
    "for i,n in enumerate(ns):\n",
    "    n = int(n)\n",
    "    print(n)\n",
    "    betas = beta(p=10,n=n,m1=100,m2=250)\n",
    "    mean_beta[i] = np.mean(betas)\n",
    "    max_beta[i] = np.max(betas)\n",
    "    min_beta[i] = np.percentile(betas,95)\n",
    "\n",
    "plt.plot(ns,max_beta,ns,th_beta(p=10,n=ns))\n",
    "plt.axis(xmin=min(ns));"
   ]
  },
  {
   "cell_type": "code",
   "execution_count": 26,
   "metadata": {
    "autoscroll": "json-false",
    "collapsed": false,
    "ein.tags": [
     "worksheet-0"
    ]
   },
   "outputs": [
    {
     "data": {
      "image/png": "[encoded data removed]",
      "text/plain": [
       "<matplotlib.figure.Figure at 0x1131057f0>"
      ]
     },
     "metadata": {},
     "output_type": "display_data"
    }
   ],
   "source": [
    "plt.plot(ns,max_beta,ns,th_beta(p=10,n=ns))\n",
    "plt.axis(xmin=min(ns));\n",
    "plt.title('Hello $e^{i\\pi}=1$')"
   ]
  },
  {
   "cell_type": "code",
   "execution_count": 9,
   "metadata": {
    "autoscroll": "json-false",
    "collapsed": false,
    "ein.tags": [
     "worksheet-0"
    ]
   },
   "outputs": [],
   "source": [
    "def compute(p,n,m):\n",
    "    M = market(p)\n",
    "\n",
    "    ins = np.empty(m)\n",
    "    oos = np.empty(m)\n",
    "\n",
    "    for i,_ in enumerate(range(m)):\n",
    "        X,r = sample_market(M,n)\n",
    "        q = solve(X,r)\n",
    "        ins[i] = ins_loss(X,r,q)\n",
    "        # oos[i] = oos_loss(q)\n",
    "\n",
    "    return ins#-oos\n",
    "    "
   ]
  },
  {
   "cell_type": "code",
   "execution_count": 15,
   "metadata": {
    "autoscroll": "json-false",
    "collapsed": false,
    "ein.tags": [
     "worksheet-0"
    ]
   },
   "outputs": [],
   "source": [
    "ns = np.linspace(50,500,10)\n",
    "mean_error = np.empty_like(ns)\n",
    "max_error = np.empty_like(ns)\n",
    "min_error = np.empty_like(ns)\n",
    "\n",
    "for i,n in enumerate(ns):\n",
    "    n = int(n)\n",
    "    e = compute(p,n,m)\n",
    "    mean_error[i] = np.mean(e)\n",
    "    max_error[i] = np.percentile(e,5)\n",
    "    min_error[i] = np.percentile(e,95)\n",
    "\n",
    "    "
   ]
  },
  {
   "cell_type": "code",
   "execution_count": 16,
   "metadata": {
    "autoscroll": "json-false",
    "collapsed": false,
    "ein.tags": [
     "worksheet-0"
    ]
   },
   "outputs": [
    {
     "data": {
      "image/png": "[encoded data removed]",
      "text/plain": [
       "<matplotlib.figure.Figure at 0x10a0c6278>"
      ]
     },
     "metadata": {},
     "output_type": "display_data"
    }
   ],
   "source": [
    "plt.plot(ns,mean_error,ns,max_error,ns,min_error);"
   ]
  },
  {
   "cell_type": "code",
   "execution_count": 17,
   "metadata": {
    "autoscroll": "json-false",
    "collapsed": false,
    "ein.tags": [
     "worksheet-0"
    ]
   },
   "outputs": [],
   "source": [
    "ns = np.linspace(50,500,15)\n",
    "mean_error = np.empty_like(ns)\n",
    "max_error = np.empty_like(ns)\n",
    "min_error = np.empty_like(ns)\n",
    "\n",
    "for i,n in enumerate(ns):\n",
    "    n = int(n)\n",
    "    e = compute(p=n,n=n,m=m)\n",
    "    mean_error[i] = np.mean(e)\n",
    "    max_error[i] = np.percentile(e,5)\n",
    "    min_error[i] = np.percentile(e,95)    "
   ]
  },
  {
   "cell_type": "code",
   "execution_count": 18,
   "metadata": {
    "autoscroll": "json-false",
    "collapsed": false,
    "ein.tags": [
     "worksheet-0"
    ]
   },
   "outputs": [
    {
     "data": {
      "image/png": "[encoded data removed]",
      "text/plain": [
       "<matplotlib.figure.Figure at 0x106f69860>"
      ]
     },
     "metadata": {},
     "output_type": "display_data"
    }
   ],
   "source": [
    "plt.plot(ns,mean_error,ns,max_error,ns,min_error);"
   ]
  }
 ],
 "metadata": {
  "kernelspec": {
   "display_name": "Python 3",
   "name": "python3"
  },
  "name": "Rademacher.ipynb"
 },
 "nbformat": 4,
 "nbformat_minor": 0
}
