{
 "cells": [
  {
   "cell_type": "code",
   "execution_count": 1,
   "metadata": {
    "autoscroll": "json-false",
    "collapsed": false,
    "ein.tags": [
     "worksheet-0"
    ]
   },
   "outputs": [],
   "source": [
    "%matplotlib inline\n",
    "%load_ext autoreload\n",
    "%autoreload 2"
   ]
  },
  {
   "cell_type": "code",
   "execution_count": 3,
   "metadata": {
    "autoscroll": "json-false",
    "collapsed": false,
    "ein.tags": [
     "worksheet-0"
    ]
   },
   "outputs": [],
   "source": [
    "import numpy as np\n",
    "import cvxpy as cvx\n",
    "from model.distrs import StudentTDistribution as TDistr\n",
    "from model.distrs import E,Var,Std\n",
    "import model.synth_data as synth\n",
    "import model.utility as ut\n",
    "import model.problem as pr\n",
    "from helper.stats import five_stats"
   ]
  },
  {
   "cell_type": "code",
   "execution_count": 5,
   "metadata": {
    "autoscroll": "json-false",
    "collapsed": false,
    "ein.tags": [
     "worksheet-0"
    ]
   },
   "outputs": [],
   "source": [
    "import matplotlib as mpl\n",
    "import matplotlib.pyplot as plt\n",
    "mpl.rcParams['figure.figsize'] = (6,4)\n",
    "mpl.rcParams['font.size'] = 10\n",
    "mpl.rcParams['font.family'] = 'serif'\n",
    "mpl.rcParams['savefig.dpi'] = 100\n",
    "plt.rc('text',usetex=True)\n",
    "plt.rc('font',serif='times')\n"
   ]
  },
  {
   "cell_type": "markdown",
   "metadata": {
    "ein.tags": [
     "worksheet-0"
    ]
   },
   "source": [
    "# Experiment 1.1\n",
    "\n",
    "1. Small data experiment where $p = O(n^{1/4})$\n",
    "2. Risk-neutral utility"
   ]
  },
  {
   "cell_type": "code",
   "execution_count": 8,
   "metadata": {
    "autoscroll": "json-false",
    "collapsed": false,
    "ein.tags": [
     "worksheet-0"
    ]
   },
   "outputs": [
    {
     "data": {
      "text/plain": [
       "array([[   4.,   70.],\n",
       "       [   5.,   74.],\n",
       "       [   6.,   78.],\n",
       "       [   7.,   81.],\n",
       "       [   8.,   84.],\n",
       "       [   9.,   86.],\n",
       "       [  10.,   88.],\n",
       "       [  11.,   91.],\n",
       "       [  12.,   93.],\n",
       "       [  13.,   94.],\n",
       "       [  14.,   96.],\n",
       "       [  15.,   98.],\n",
       "       [  16.,  100.],\n",
       "       [  17.,  101.],\n",
       "       [  18.,  102.],\n",
       "       [  19.,  104.],\n",
       "       [  20.,  105.],\n",
       "       [  21.,  107.],\n",
       "       [  22.,  108.],\n",
       "       [  23.,  109.],\n",
       "       [  24.,  110.],\n",
       "       [  25.,  111.],\n",
       "       [  26.,  112.],\n",
       "       [  27.,  113.],\n",
       "       [  28.,  115.],\n",
       "       [  29.,  116.],\n",
       "       [  30.,  117.],\n",
       "       [  31.,  117.],\n",
       "       [  32.,  118.],\n",
       "       [  33.,  119.],\n",
       "       [  34.,  120.],\n",
       "       [  35.,  121.],\n",
       "       [  36.,  122.],\n",
       "       [  37.,  123.],\n",
       "       [  38.,  124.],\n",
       "       [  39.,  124.],\n",
       "       [  40.,  125.]])"
      ]
     },
     "execution_count": 8,
     "metadata": {},
     "output_type": "execute_result"
    }
   ],
   "source": [
    "ps = np.arange(4,41)\n",
    "p_true = max(ps)\n",
    "ns = np.floor(50*ps**(1/4))\n",
    "np.array([ps,ns]).T"
   ]
  },
  {
   "cell_type": "code",
   "execution_count": 0,
   "metadata": {
    "autoscroll": "json-false",
    "collapsed": false,
    "ein.tags": [
     "worksheet-0"
    ]
   },
   "outputs": [],
   "source": [
    "n_true = 500000\n",
    "n_experiments = 50\n",
    "λ = 3\n",
    "δ = 0.2"
   ]
  }
 ],
 "metadata": {
  "kernelspec": {
   "display_name": "Python 3",
   "name": "python3"
  },
  "name": "Experiment_Nips.ipynb"
 },
 "nbformat": 4,
 "nbformat_minor": 0
}
