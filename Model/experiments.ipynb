{
 "cells": [
  {
   "cell_type": "markdown",
   "metadata": {
    "ein.tags": [
     "worksheet-0"
    ]
   },
   "source": [
    "# Hello !\n",
    "## I am a markdown. \n",
    "My name is thiery... \n",
    "\n",
    "Bye."
   ]
  },
  {
   "cell_type": "code",
   "execution_count": 5,
   "metadata": {
    "autoscroll": "json-false",
    "collapsed": false,
    "ein.tags": [
     "worksheet-0"
    ]
   },
   "outputs": [],
   "source": [
    "%matplotlib inline\n",
    "%load_ext autoreload\n",
    "%autoreload 2"
   ]
  },
  {
   "cell_type": "code",
   "execution_count": 6,
   "metadata": {
    "autoscroll": "json-false",
    "collapsed": false,
    "ein.tags": [
     "worksheet-0"
    ]
   },
   "outputs": [],
   "source": [
    "import matplotlib.pyplot as plt\n",
    "plt.style.use('fivethirtyeight')\n",
    "import numpy as np"
   ]
  },
  {
   "cell_type": "code",
   "execution_count": 7,
   "metadata": {
    "autoscroll": "json-false",
    "collapsed": false,
    "ein.tags": [
     "worksheet-0"
    ]
   },
   "outputs": [
    {
     "data": {
      "image/png": "[encoded data removed]",
      "text/plain": [
       "<matplotlib.figure.Figure at 0x10d4a9e48>"
      ]
     },
     "metadata": {},
     "output_type": "display_data"
    },
    {
     "data": {
      "text/plain": [
       "(-2.0, 2.0, -10, 3)"
      ]
     },
     "execution_count": 7,
     "metadata": {},
     "output_type": "execute_result"
    }
   ],
   "source": [
    "x = np.arange(-2,2,.01)\n",
    "y = np.log(x**2)\n",
    "plt.plot(x,y,linewidth=4)\n",
    "plt.axis(ymin=-10,ymax=3)\n"
   ]
  },
  {
   "cell_type": "code",
   "execution_count": 49,
   "metadata": {
    "autoscroll": "json-false",
    "collapsed": false,
    "ein.tags": [
     "worksheet-0"
    ]
   },
   "outputs": [
    {
     "data": {
      "text/plain": [
       "array([ 7.76635162,  0.20801511,  0.22568179,  0.19931087,  0.1391093 ,\n",
       "        0.22233732,  0.28203204,  0.17459906,  0.18502549,  0.20461548,\n",
       "        0.25191849,  0.26478545,  0.17560076,  0.21842862,  0.24653097,\n",
       "        0.27346253,  0.22866345,  0.23135401,  0.23644525,  0.25089614,\n",
       "        0.21711835,  0.27364547,  0.27813757,  0.30148695,  0.22827011,\n",
       "        0.24036417])"
      ]
     },
     "execution_count": 49,
     "metadata": {},
     "output_type": "execute_result"
    }
   ],
   "source": [
    "q_star"
   ]
  },
  {
   "cell_type": "code",
   "execution_count": 0,
   "metadata": {
    "autoscroll": "json-false",
    "collapsed": false,
    "ein.tags": [
     "worksheet-0"
    ]
   },
   "outputs": [],
   "source": []
  },
  {
   "cell_type": "code",
   "execution_count": 21,
   "metadata": {
    "autoscroll": "json-false",
    "collapsed": false,
    "ein.tags": [
     "worksheet-1"
    ]
   },
   "outputs": [
    {
     "name": "stdout",
     "output_type": "stream",
     "text": [
      "The autoreload extension is already loaded. To reload it, use:\n",
      "  %reload_ext autoreload\n"
     ]
    }
   ],
   "source": [
    "%matplotlib inline\n",
    "%load_ext autoreload\n",
    "%autoreload 2"
   ]
  },
  {
   "cell_type": "code",
   "execution_count": 25,
   "metadata": {
    "autoscroll": "json-false",
    "collapsed": false,
    "ein.tags": [
     "worksheet-1"
    ]
   },
   "outputs": [],
   "source": [
    "import numpy as np\n",
    "import cvxpy as cvx\n",
    "\n",
    "from model.distrs import StudentTDistribution,DiscreteDistribution,NormalDistribution\n",
    "from model.distrs import E,Var,Std\n",
    "import model.synth_data as synth\n",
    "import model.utility as ut\n",
    "import model.problem as pr\n",
    "\n",
    "from helper.stats import five_stats\n",
    "\n",
    "import matplotlib.pyplot as plt"
   ]
  },
  {
   "cell_type": "code",
   "execution_count": 26,
   "metadata": {
    "autoscroll": "json-false",
    "collapsed": false,
    "ein.tags": [
     "worksheet-1"
    ]
   },
   "outputs": [],
   "source": [
    "p = 25\n",
    "n_true = 50000\n",
    "n_experiments = 500\n",
    "λ = 3\n",
    "δ = 0.2\n",
    "ns = np.arange(25,525,25)\n",
    "\n",
    "#Utility\n",
    "β = 1\n",
    "r_threshold = 60\n",
    "u = ut.LinearPlateauUtility(β,r_threshold)\n",
    "\n",
    "Rf = 0 "
   ]
  },
  {
   "cell_type": "code",
   "execution_count": 27,
   "metadata": {
    "autoscroll": "json-false",
    "collapsed": false,
    "ein.tags": [
     "worksheet-1"
    ]
   },
   "outputs": [],
   "source": [
    "# Continuous market distribution\n",
    "R_true = NormalDistribution(8,10)\n",
    "X_true = [1/np.sqrt(2)*StudentTDistribution(ν=4) for _ in range(p)]\n",
    "M_true = synth.GaussianMarket(X_true,R_true)"
   ]
  },
  {
   "cell_type": "code",
   "execution_count": 28,
   "metadata": {
    "autoscroll": "json-false",
    "collapsed": false,
    "ein.tags": [
     "worksheet-1"
    ]
   },
   "outputs": [],
   "source": [
    "# Discretized market model \n",
    "X,R = M_true.sample(n_true)\n",
    "M = synth.MarketDiscreteDistribution(X,R)"
   ]
  },
  {
   "cell_type": "code",
   "execution_count": 29,
   "metadata": {
    "autoscroll": "json-false",
    "collapsed": false,
    "ein.tags": [
     "worksheet-1"
    ]
   },
   "outputs": [],
   "source": [
    "# Real q∗ value computation\n",
    "p_star = pr.Problem(X,R,λ=0,u=u)\n",
    "p_star.solve()\n",
    "q_star = p_star.q"
   ]
  },
  {
   "cell_type": "code",
   "execution_count": 30,
   "metadata": {
    "autoscroll": "json-false",
    "collapsed": false,
    "ein.tags": [
     "worksheet-1"
    ]
   },
   "outputs": [],
   "source": [
    "R_star = p_star.insample_cost\n",
    "R_star_q_star = R_star(q_star)\n",
    "CE_star = p_star.insample_CE\n",
    "CE_star_q_star = CE_star(q_star)"
   ]
  },
  {
   "cell_type": "code",
   "execution_count": 31,
   "metadata": {
    "autoscroll": "json-false",
    "collapsed": false,
    "ein.tags": [
     "worksheet-1"
    ]
   },
   "outputs": [],
   "source": [
    "# Results placeholder\n",
    "qs = np.zeros(shape=(len(ns),n_experiments,p+1))\n",
    "CEs_ins = np.empty(shape=(n_experiments,len(ns)))\n",
    "CEs_oos = np.empty(shape=(n_experiments,len(ns)))"
   ]
  },
  {
   "cell_type": "code",
   "execution_count": 32,
   "metadata": {
    "autoscroll": "json-false",
    "collapsed": true,
    "ein.tags": [
     "worksheet-1"
    ]
   },
   "outputs": [
    {
     "name": "stdout",
     "output_type": "stream",
     "text": [
      "Sampling 500 problems of size 500 × 26\n"
     ]
    },
    {
     "name": "stdout",
     "output_type": "stream",
     "text": [
      "Sampling 500 problems of size 475 × 26\n"
     ]
    },
    {
     "name": "stdout",
     "output_type": "stream",
     "text": [
      "Sampling 500 problems of size 450 × 26\n"
     ]
    },
    {
     "name": "stdout",
     "output_type": "stream",
     "text": [
      "Sampling 500 problems of size 425 × 26\n"
     ]
    },
    {
     "name": "stdout",
     "output_type": "stream",
     "text": [
      "Sampling 500 problems of size 400 × 26\n"
     ]
    },
    {
     "name": "stdout",
     "output_type": "stream",
     "text": [
      "Sampling 500 problems of size 375 × 26\n"
     ]
    },
    {
     "name": "stdout",
     "output_type": "stream",
     "text": [
      "Sampling 500 problems of size 350 × 26\n"
     ]
    },
    {
     "name": "stdout",
     "output_type": "stream",
     "text": [
      "Sampling 500 problems of size 325 × 26\n"
     ]
    },
    {
     "name": "stdout",
     "output_type": "stream",
     "text": [
      "Sampling 500 problems of size 300 × 26\n"
     ]
    },
    {
     "name": "stdout",
     "output_type": "stream",
     "text": [
      "Sampling 500 problems of size 275 × 26\n"
     ]
    },
    {
     "name": "stdout",
     "output_type": "stream",
     "text": [
      "Sampling 500 problems of size 250 × 26\n"
     ]
    },
    {
     "name": "stdout",
     "output_type": "stream",
     "text": [
      "Sampling 500 problems of size 225 × 26\n"
     ]
    },
    {
     "name": "stdout",
     "output_type": "stream",
     "text": [
      "Sampling 500 problems of size 200 × 26\n"
     ]
    },
    {
     "name": "stdout",
     "output_type": "stream",
     "text": [
      "Sampling 500 problems of size 175 × 26\n"
     ]
    },
    {
     "name": "stdout",
     "output_type": "stream",
     "text": [
      "Sampling 500 problems of size 150 × 26\n"
     ]
    },
    {
     "name": "stdout",
     "output_type": "stream",
     "text": [
      "Sampling 500 problems of size 125 × 26\n"
     ]
    },
    {
     "name": "stdout",
     "output_type": "stream",
     "text": [
      "Sampling 500 problems of size 100 × 26\n"
     ]
    },
    {
     "name": "stdout",
     "output_type": "stream",
     "text": [
      "Sampling 500 problems of size 75 × 26\n"
     ]
    },
    {
     "name": "stdout",
     "output_type": "stream",
     "text": [
      "Sampling 500 problems of size 50 × 26\n"
     ]
    },
    {
     "name": "stdout",
     "output_type": "stream",
     "text": [
      "Sampling 500 problems of size 25 × 26\n"
     ]
    }
   ],
   "source": [
    "# About 5minutes running time.\n",
    "for i,n in enumerate(ns):\n",
    "    prs = pr.ProblemsDistribution(M,n,λ,u,Rf)\n",
    "    prs.sample(n_experiments)\n",
    "    qs[i,:,:] = prs.qs\n",
    "    CEs_ins[:,i] = prs.CEs_ins\n",
    "    CEs_oos[:,i] = prs.CEs_oos"
   ]
  },
  {
   "cell_type": "code",
   "execution_count": 47,
   "metadata": {
    "autoscroll": "json-false",
    "collapsed": false,
    "ein.tags": [
     "worksheet-1"
    ]
   },
   "outputs": [
    {
     "data": {
      "image/png": "[encoded data removed]",
      "text/plain": [
       "<matplotlib.figure.Figure at 0x110b71470>"
      ]
     },
     "metadata": {},
     "output_type": "display_data"
    }
   ],
   "source": [
    "plt.plot(*five_stats(CEs_ins,ns));\n",
    "plt.xlabel('n')\n",
    "plt.ylabel('CE')\n",
    "plt.title('In-sample CE')\n",
    "plt.axis(xmin=25);"
   ]
  },
  {
   "cell_type": "code",
   "execution_count": 46,
   "metadata": {
    "autoscroll": "json-false",
    "collapsed": false,
    "ein.tags": [
     "worksheet-1"
    ]
   },
   "outputs": [
    {
     "data": {
      "image/png": "[encoded data removed]",
      "text/plain": [
       "<matplotlib.figure.Figure at 0x10f7d5a20>"
      ]
     },
     "metadata": {},
     "output_type": "display_data"
    }
   ],
   "source": [
    "plt.plot(*five_stats(CEs_oos-CEs_ins,ns))\n",
    "plt.xlabel('n')\n",
    "plt.ylabel('CE')\n",
    "plt.title('Out-sample CE Error')\n",
    "plt.axis(xmin=25);"
   ]
  },
  {
   "cell_type": "code",
   "execution_count": 50,
   "metadata": {
    "autoscroll": "json-false",
    "collapsed": false,
    "ein.tags": [
     "worksheet-1"
    ]
   },
   "outputs": [
    {
     "data": {
      "image/png": "[encoded data removed]",
      "text/plain": [
       "<matplotlib.figure.Figure at 0x10f94be80>"
      ]
     },
     "metadata": {},
     "output_type": "display_data"
    }
   ],
   "source": [
    "plt.plot(*five_stats(CE_star_q_star - CEs_oos,ns));\n",
    "plt.xlabel('n')\n",
    "plt.ylabel('CE')\n",
    "plt.axis(xmin=25)\n",
    "plt.title('Suboptimality CE Error');"
   ]
  },
  {
   "cell_type": "code",
   "execution_count": 0,
   "metadata": {
    "autoscroll": "json-false",
    "collapsed": false,
    "ein.tags": [
     "worksheet-2"
    ]
   },
   "outputs": [
    {
     "name": "stdout",
     "output_type": "stream",
     "text": [
      "The autoreload extension is already loaded. To reload it, use:\n",
      "  %reload_ext autoreload\n"
     ]
    }
   ],
   "source": [
    "%matplotlib inline\n",
    "%load_ext autoreload\n",
    "%autoreload 2"
   ]
  },
  {
   "cell_type": "code",
   "execution_count": 0,
   "metadata": {
    "autoscroll": "json-false",
    "collapsed": false,
    "ein.tags": [
     "worksheet-2"
    ]
   },
   "outputs": [],
   "source": [
    "import numpy as np\n",
    "import cvxpy as cvx\n",
    "\n",
    "from model.distrs import StudentTDistribution,DiscreteDistribution,NormalDistribution\n",
    "from model.distrs import E,Var,Std\n",
    "import model.synth_data as synth\n",
    "import model.utility as ut\n",
    "import model.problem as pr\n",
    "\n",
    "from helper.stats import five_stats\n",
    "\n",
    "import matplotlib.pyplot as plt"
   ]
  },
  {
   "cell_type": "code",
   "execution_count": 73,
   "metadata": {
    "autoscroll": "json-false",
    "collapsed": false,
    "ein.tags": [
     "worksheet-2"
    ]
   },
   "outputs": [],
   "source": [
    "ps = np.arange(10,41)\n",
    "p_true = max(ps)\n",
    "ns = np.floor(0.4*p**2)\n",
    "n_true = 50000\n",
    "n_experiments = 50\n",
    "λ = 3\n",
    "δ = 0.2\n",
    "\n",
    "#Utility\n",
    "β = 1\n",
    "r_threshold = 60\n",
    "u = ut.LinearPlateauUtility(β,r_threshold)\n",
    "\n",
    "Rf = 0 "
   ]
  },
  {
   "cell_type": "code",
   "execution_count": 67,
   "metadata": {
    "autoscroll": "json-false",
    "collapsed": false,
    "ein.tags": [
     "worksheet-2"
    ]
   },
   "outputs": [
    {
     "data": {
      "text/plain": [
       "array([[  10.,   40.],\n",
       "       [  11.,   48.],\n",
       "       [  12.,   57.],\n",
       "       [  13.,   67.],\n",
       "       [  14.,   78.],\n",
       "       [  15.,   90.],\n",
       "       [  16.,  102.],\n",
       "       [  17.,  115.],\n",
       "       [  18.,  129.],\n",
       "       [  19.,  144.],\n",
       "       [  20.,  160.],\n",
       "       [  21.,  176.],\n",
       "       [  22.,  193.],\n",
       "       [  23.,  211.],\n",
       "       [  24.,  230.],\n",
       "       [  25.,  250.],\n",
       "       [  26.,  270.],\n",
       "       [  27.,  291.],\n",
       "       [  28.,  313.],\n",
       "       [  29.,  336.],\n",
       "       [  30.,  360.],\n",
       "       [  31.,  384.],\n",
       "       [  32.,  409.],\n",
       "       [  33.,  435.],\n",
       "       [  34.,  462.],\n",
       "       [  35.,  490.],\n",
       "       [  36.,  518.],\n",
       "       [  37.,  547.],\n",
       "       [  38.,  577.],\n",
       "       [  39.,  608.],\n",
       "       [  40.,  640.]])"
      ]
     },
     "execution_count": 67,
     "metadata": {},
     "output_type": "execute_result"
    }
   ],
   "source": [
    "np.array([ps,ns]).T"
   ]
  },
  {
   "cell_type": "code",
   "execution_count": 78,
   "metadata": {
    "autoscroll": "json-false",
    "collapsed": false,
    "ein.tags": [
     "worksheet-2"
    ]
   },
   "outputs": [],
   "source": [
    "# True market\n",
    "R_true = NormalDistribution(8,10)\n",
    "X_true = [1/np.sqrt(2)*StudentTDistribution(ν=4) for _ in range(p_true)]\n",
    "M_true = synth.GaussianMarket(X_true,R_true)\n",
    "\n",
    "# Discretized market\n",
    "X,R = M_true.sample(n_true)\n",
    "M = synth.MarketDiscreteDistribution(X,R)"
   ]
  },
  {
   "cell_type": "code",
   "execution_count": 0,
   "metadata": {
    "autoscroll": "json-false",
    "collapsed": false,
    "ein.tags": [
     "worksheet-2"
    ]
   },
   "outputs": [],
   "source": [
    "# Real q∗ value computation\n",
    "p_star = pr.Problem(X,R,λ=0,u=u)\n",
    "p_star.solve()\n",
    "q_star = p_star.q"
   ]
  },
  {
   "cell_type": "code",
   "execution_count": 77,
   "metadata": {
    "autoscroll": "json-false",
    "collapsed": false,
    "ein.tags": [
     "worksheet-2"
    ]
   },
   "outputs": [],
   "source": [
    "R_star = p_star.insample_cost\n",
    "R_star_q_star = R_star(q_star)\n",
    "CE_star = p_star.insample_CE\n",
    "CE_star_q_star = CE_star(q_star)"
   ]
  },
  {
   "cell_type": "code",
   "execution_count": 76,
   "metadata": {
    "autoscroll": "json-false",
    "collapsed": false,
    "ein.tags": [
     "worksheet-2"
    ]
   },
   "outputs": [
    {
     "data": {
      "text/plain": [
       "-29.985311893556656"
      ]
     },
     "execution_count": 76,
     "metadata": {},
     "output_type": "execute_result"
    }
   ],
   "source": [
    "R_star_q_star"
   ]
  },
  {
   "cell_type": "code",
   "execution_count": 0,
   "metadata": {
    "autoscroll": "json-false",
    "collapsed": false,
    "ein.tags": [
     "worksheet-2"
    ]
   },
   "outputs": [],
   "source": [
    "# Results placeholder\n",
    "qs = np.zeros(shape=(len(ns),n_experiments,p+1))\n",
    "CEs_ins = np.empty(shape=(n_experiments,len(ns)))\n",
    "CEs_oos = np.empty(shape=(n_experiments,len(ns)))"
   ]
  }
 ],
 "metadata": {
  "kernelspec": {
   "display_name": "Python 3",
   "name": "python3"
  },
  "language_info": {
   "codemirror_mode": {
    "name": "ipython",
    "version": 3
   },
   "file_extension": ".py",
   "mimetype": "text/x-python",
   "name": "python",
   "nbconvert_exporter": "python",
   "pygments_lexer": "ipython3",
   "version": "3.5.1"
  },
  "name": "experiments.ipynb"
 },
 "nbformat": 4,
 "nbformat_minor": 0
}
