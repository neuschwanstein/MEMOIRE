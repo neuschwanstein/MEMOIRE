{
 "cells": [
  {
   "cell_type": "code",
   "execution_count": 2,
   "metadata": {
    "autoscroll": "json-false",
    "collapsed": true,
    "ein.tags": [
     "worksheet-0"
    ],
    "slideshow": {
     "slide_type": "-"
    }
   },
   "outputs": [
    {
     "name": "stdout",
     "output_type": "stream",
     "text": [
      "The autoreload extension is already loaded. To reload it, use:\n",
      "  %reload_ext autoreload\n"
     ]
    }
   ],
   "source": [
    "%matplotlib inline\n",
    "%load_ext autoreload\n",
    "%autoreload 2"
   ]
  },
  {
   "cell_type": "code",
   "execution_count": 16,
   "metadata": {
    "autoscroll": "json-false",
    "collapsed": false,
    "ein.tags": [
     "worksheet-0"
    ],
    "slideshow": {
     "slide_type": "-"
    }
   },
   "outputs": [],
   "source": [
    "import matplotlib as mpl\n",
    "import matplotlib.pyplot as plt\n",
    "mpl.rcParams['figure.figsize'] = (6,4)\n",
    "mpl.rcParams['font.size'] = 10\n",
    "mpl.rcParams['font.family'] = 'serif'\n",
    "mpl.rcParams['savefig.dpi'] = 100\n",
    "plt.rc('text',usetex=True)\n",
    "plt.rc('font',serif='times')\n",
    "\n",
    "import numpy as np"
   ]
  },
  {
   "cell_type": "code",
   "execution_count": 6,
   "metadata": {
    "autoscroll": "json-false",
    "collapsed": false,
    "ein.tags": [
     "worksheet-0"
    ],
    "slideshow": {
     "slide_type": "-"
    }
   },
   "outputs": [],
   "source": [
    "from process_data import *"
   ]
  },
  {
   "cell_type": "code",
   "execution_count": 7,
   "metadata": {
    "autoscroll": "json-false",
    "collapsed": false,
    "ein.tags": [
     "worksheet-0"
    ],
    "slideshow": {
     "slide_type": "-"
    }
   },
   "outputs": [],
   "source": [
    "samples = get_samples()"
   ]
  },
  {
   "cell_type": "code",
   "execution_count": 44,
   "metadata": {
    "autoscroll": "json-false",
    "collapsed": false,
    "ein.tags": [
     "worksheet-0"
    ],
    "slideshow": {
     "slide_type": "-"
    }
   },
   "outputs": [
    {
     "name": "stdout",
     "output_type": "stream",
     "text": [
      "\n",
      "OPTIMAL (within feastol=1.6e-14, reltol=4.5e-06, abstol=3.1e-10).\n",
      "Runtime: 2.667481 seconds.\n",
      "\n"
     ]
    },
    {
     "name": "stdout",
     "output_type": "stream",
     "text": [
      "24  -7.060e-05  -7.060e-05  +1e-08  5e-13  1e-14  4e-16  9e-12  0.9675  1e-04   2  1  1 |  0  0\n",
      "25  -7.060e-05  -7.060e-05  +3e-10  2e-14  4e-16  1e-17  3e-13  0.9856  1e-02   1  1  1 |  0  0\n"
     ]
    },
    {
     "name": "stdout",
     "output_type": "stream",
     "text": [
      "22  -7.060e-05  -7.060e-05  +4e-06  1e-11  5e-12  1e-13  3e-09  0.8690  9e-03   2  1  1 |  0  0\n",
      "23  -7.060e-05  -7.060e-05  +3e-07  2e-11  4e-13  1e-14  3e-10  0.9754  7e-02   1  1  1 |  0  0\n"
     ]
    },
    {
     "name": "stdout",
     "output_type": "stream",
     "text": [
      "20  -7.060e-05  -7.061e-05  +1e-04  3e-10  1e-10  4e-12  8e-08  0.8417  1e-02   2  1  1 |  0  0\n",
      "21  -7.060e-05  -7.061e-05  +3e-05  7e-11  3e-11  1e-12  2e-08  0.8920  2e-01   2  1  1 |  0  0\n"
     ]
    },
    {
     "name": "stdout",
     "output_type": "stream",
     "text": [
      "18  -7.060e-05  -7.068e-05  +3e-03  6e-09  3e-09  1e-10  2e-06  0.9237  1e-01   2  1  1 |  0  0\n",
      "19  -7.060e-05  -7.062e-05  +6e-04  2e-09  7e-10  2e-11  5e-07  0.8530  1e-01   1  1  1 |  0  0\n"
     ]
    },
    {
     "name": "stdout",
     "output_type": "stream",
     "text": [
      "16  -7.056e-05  -7.107e-05  +2e-02  4e-08  2e-08  9e-10  1e-05  0.6865  1e-01   2  1  1 |  0  0\n",
      "17  -7.058e-05  -7.098e-05  +1e-02  3e-08  2e-08  6e-10  1e-05  0.4372  6e-01   2  1  1 |  0  0\n"
     ]
    },
    {
     "name": "stdout",
     "output_type": "stream",
     "text": [
      "14  -6.929e-05  -7.601e-05  +2e-01  6e-07  3e-07  3e-08  2e-04  0.1040  7e-01   2  2  1 |  0  0\n",
      "15  -7.050e-05  -7.173e-05  +4e-02  1e-07  5e-08  2e-09  3e-05  0.9659  2e-01   2  1  1 |  0  0\n"
     ]
    },
    {
     "name": "stdout",
     "output_type": "stream",
     "text": [
      "12  -6.839e-05  -8.189e-05  +4e-01  1e-06  5e-07  1e-07  4e-04  0.6758  2e-01   3  2  2 |  0  0\n",
      "13  -6.925e-05  -7.615e-05  +2e-01  6e-07  3e-07  3e-08  2e-04  0.7626  4e-01   2  1  1 |  0  0\n"
     ]
    },
    {
     "name": "stdout",
     "output_type": "stream",
     "text": [
      "10  +2.269e-06  -2.108e-04  +7e+00  2e-05  8e-06  3e-06  6e-03  0.7781  2e-01   2  2  2 |  0  0\n",
      "11  -6.515e-05  -9.574e-05  +1e+00  3e-06  1e-06  4e-07  8e-04  0.8727  2e-02   2  2  2 |  0  0\n"
     ]
    },
    {
     "name": "stdout",
     "output_type": "stream",
     "text": [
      " 8  +5.658e-04  -2.272e-03  +8e+01  3e-04  1e-04  2e-04  7e-02  0.6451  2e-01   2  2  2 |  0  0\n",
      " 9  +1.007e-04  -4.274e-04  +2e+01  5e-05  2e-05  1e-05  1e-02  0.9809  2e-01   2  2  2 |  0  0\n"
     ]
    },
    {
     "name": "stdout",
     "output_type": "stream",
     "text": [
      " 6  +2.116e-03  -1.282e-02  +3e+02  2e-03  2e-03  1e-03  2e-01  0.7788  4e-01   2  2  2 |  0  0\n",
      " 7  +1.276e-03  -6.443e-03  +2e+02  9e-04  6e-04  6e-04  1e-01  0.5714  4e-01   2  2  2 |  0  0\n"
     ]
    },
    {
     "name": "stdout",
     "output_type": "stream",
     "text": [
      " 4  +2.624e-03  -4.026e-02  +5e+02  6e-03  3e-02  7e-03  4e-01  0.2276  7e-01   1  1  1 |  0  0\n",
      " 5  +3.541e-03  -4.067e-02  +5e+02  6e-03  1e-02  8e-03  4e-01  0.0695  9e-01   2  2  2 |  0  0\n"
     ]
    },
    {
     "name": "stdout",
     "output_type": "stream",
     "text": [
      " 2  +2.062e-02  -1.360e-01  +6e+02  2e-02  1e-01  1e-02  5e-01  0.1758  6e-01   1  1  1 |  0  0\n",
      " 3  +6.547e-03  -5.997e-02  +5e+02  1e-02  5e-02  1e-02  4e-01  0.2110  6e-01   1  1  1 |  0  0\n"
     ]
    },
    {
     "name": "stdout",
     "output_type": "stream",
     "text": [
      "\n",
      "It     pcost       dcost      gap   pres   dres    k/t    mu     step   sigma     IR    |   BT\n",
      " 0  -8.619e-03  -4.684e+00  +1e+03  9e-01  2e+00  1e+00  1e+00    ---    ---    1  1  - |  -  - \n",
      " 1  +1.587e-01  -7.541e-01  +6e+02  1e-01  7e-01  6e-02  5e-01  0.6072  2e-01   1  1  1 |  0  0\n"
     ]
    },
    {
     "name": "stdout",
     "output_type": "stream",
     "text": [
      "\n",
      "OPTIMAL (within feastol=1.1e-14, reltol=4.6e-06, abstol=3.7e-10).\n",
      "Runtime: 2.733617 seconds.\n",
      "\n",
      "\n",
      "ECOS 2.0.4 - (C) embotech GmbH, Zurich Switzerland, 2012-15. Web: www.embotech.com/ECOS\n"
     ]
    },
    {
     "name": "stdout",
     "output_type": "stream",
     "text": [
      "24  -7.943e-05  -7.943e-05  +1e-08  4e-13  1e-14  5e-16  1e-11  0.9630  2e-04   2  2  2 |  0  0\n",
      "25  -7.943e-05  -7.943e-05  +4e-10  1e-14  4e-16  1e-17  3e-13  0.9890  2e-02   2  2  2 |  0  0\n"
     ]
    },
    {
     "name": "stdout",
     "output_type": "stream",
     "text": [
      "22  -7.943e-05  -7.943e-05  +4e-06  9e-12  4e-12  1e-13  3e-09  0.8655  1e-02   2  1  1 |  0  0\n",
      "23  -7.943e-05  -7.943e-05  +3e-07  9e-12  4e-13  1e-14  3e-10  0.9724  6e-02   1  1  1 |  0  0\n"
     ]
    },
    {
     "name": "stdout",
     "output_type": "stream",
     "text": [
      "20  -7.943e-05  -7.943e-05  +9e-05  2e-10  1e-10  4e-12  8e-08  0.8432  1e-02   2  1  1 |  0  0\n",
      "21  -7.943e-05  -7.943e-05  +3e-05  6e-11  3e-11  1e-12  2e-08  0.8900  2e-01   2  1  1 |  0  0\n"
     ]
    },
    {
     "name": "stdout",
     "output_type": "stream",
     "text": [
      "18  -7.943e-05  -7.949e-05  +2e-03  5e-09  2e-09  8e-11  2e-06  0.9194  9e-02   2  1  1 |  0  0\n",
      "19  -7.943e-05  -7.945e-05  +6e-04  1e-09  6e-10  2e-11  5e-07  0.8354  1e-01   1  1  1 |  0  0\n"
     ]
    },
    {
     "name": "stdout",
     "output_type": "stream",
     "text": [
      "16  -7.938e-05  -7.990e-05  +2e-02  4e-08  2e-08  8e-10  1e-05  0.7441  8e-02   3  1  1 |  0  0\n",
      "17  -7.940e-05  -7.979e-05  +1e-02  3e-08  1e-08  5e-10  1e-05  0.5235  5e-01   1  1  2 |  0  0\n"
     ]
    },
    {
     "name": "stdout",
     "output_type": "stream",
     "text": [
      "14  -7.815e-05  -8.618e-05  +3e-01  7e-07  3e-07  4e-08  2e-04  0.1102  8e-01   2  2  1 |  0  0\n",
      "15  -7.926e-05  -8.090e-05  +5e-02  1e-07  6e-08  3e-09  4e-05  0.9796  2e-01   2  1  1 |  0  0\n"
     ]
    },
    {
     "name": "stdout",
     "output_type": "stream",
     "text": [
      "12  -7.568e-05  -9.585e-05  +7e-01  2e-06  8e-07  1e-07  6e-04  0.5647  4e-01   3  2  1 |  0  0\n",
      "13  -7.814e-05  -8.638e-05  +3e-01  7e-07  3e-07  4e-08  2e-04  0.6858  1e-01   3  2  2 |  0  0\n"
     ]
    },
    {
     "name": "stdout",
     "output_type": "stream",
     "text": [
      "10  +2.722e-05  -2.679e-04  +9e+00  3e-05  1e-05  3e-06  8e-03  0.9890  2e-01   2  2  2 |  0  0\n",
      "11  -7.530e-05  -1.059e-04  +1e+00  3e-06  1e-06  3e-07  8e-04  0.8998  7e-03   2  1  1 |  0  0\n"
     ]
    },
    {
     "name": "stdout",
     "output_type": "stream",
     "text": [
      " 8  +4.127e-04  -1.873e-03  +6e+01  2e-04  1e-04  1e-04  5e-02  0.7581  3e-01   2  2  2 |  0  0\n",
      " 9  +2.204e-04  -1.050e-03  +4e+01  1e-04  5e-05  7e-05  3e-02  0.4833  2e-01   2  2  2 |  0  0\n"
     ]
    },
    {
     "name": "stdout",
     "output_type": "stream",
     "text": [
      " 6  +1.916e-03  -1.429e-02  +3e+02  2e-03  3e-03  2e-03  2e-01  0.7294  5e-01   2  2  2 |  0  0\n",
      " 7  +1.302e-03  -4.327e-03  +1e+02  6e-04  3e-04  4e-04  1e-01  0.7859  3e-01   2  2  2 |  0  0\n"
     ]
    },
    {
     "name": "stdout",
     "output_type": "stream",
     "text": [
      " 4  +4.216e-03  -4.886e-02  +5e+02  7e-03  3e-02  9e-03  4e-01  0.0915  9e-01   1  1  1 |  0  0\n",
      " 5  +3.704e-03  -3.996e-02  +5e+02  6e-03  1e-02  8e-03  4e-01  0.1992  7e-01   2  2  2 |  0  0\n"
     ]
    },
    {
     "name": "stdout",
     "output_type": "stream",
     "text": [
      " 2  +2.159e-02  -1.407e-01  +6e+02  2e-02  1e-01  2e-02  5e-01  0.1621  6e-01   1  1  1 |  0  0\n",
      " 3  +5.336e-03  -5.375e-02  +5e+02  8e-03  4e-02  1e-02  4e-01  0.2524  6e-01   1  1  1 |  0  0\n"
     ]
    },
    {
     "name": "stdout",
     "output_type": "stream",
     "text": [
      "\n",
      "It     pcost       dcost      gap   pres   dres    k/t    mu     step   sigma     IR    |   BT\n",
      " 0  -8.619e-03  -4.684e+00  +1e+03  9e-01  2e+00  1e+00  1e+00    ---    ---    1  1  - |  -  - \n",
      " 1  +1.625e-01  -7.560e-01  +6e+02  1e-01  7e-01  5e-02  5e-01  0.6050  2e-01   1  1  1 |  0  0\n"
     ]
    },
    {
     "name": "stdout",
     "output_type": "stream",
     "text": [
      "\b\b\b\b\b\b\b\b\b\b\b\b\b\b\b\b\b\b\b\b\b\b\b\b\b\b\b\b\b\b\b\b\b\b\b\b\b\b\b\b\b\b\b\b\b\b\b\b\b\b\b\b\b\b\b\b\b\b\b\b\b\b\b\b\b\b\b\b\b\b\b\b\b\b\b\b\b\b\b\b\b\bUnreliable search direction detected, recovering best iterate (26) and stopping.\n",
      "\n",
      "Close to OPTIMAL (within feastol=1.0e-13, reltol=4.4e-04, abstol=4.0e-08).\n",
      "Runtime: 2.859821 seconds.\n",
      "\n",
      "\n",
      "ECOS 2.0.4 - (C) embotech GmbH, Zurich Switzerland, 2012-15. Web: www.embotech.com/ECOS\n"
     ]
    },
    {
     "name": "stdout",
     "output_type": "stream",
     "text": [
      "26  -9.078e-05  -9.078e-05  +4e-08  1e-13  5e-14  2e-15  3e-11  0.9760  6e-02   1  1  1 |  0  0\n",
      "27  -9.078e-05  -9.078e-05  +1e-09  3e-10  2e-15  5e-17  1e-12  0.9650  1e-04   1  2  1 |  0  0\n"
     ]
    },
    {
     "name": "stdout",
     "output_type": "stream",
     "text": [
      "24  -9.078e-05  -9.078e-05  +5e-06  1e-11  5e-12  2e-13  4e-09  0.9409  1e-01   2  1  1 |  0  0\n",
      "25  -9.078e-05  -9.078e-05  +5e-07  1e-12  6e-13  2e-14  4e-10  0.9015  5e-03   1  1  1 |  0  0\n"
     ]
    },
    {
     "name": "stdout",
     "output_type": "stream",
     "text": [
      "22  -9.078e-05  -9.078e-05  +1e-04  4e-10  2e-10  6e-12  1e-07  0.8553  2e-01   2  1  1 |  0  0\n",
      "23  -9.078e-05  -9.078e-05  +3e-05  7e-11  3e-11  1e-12  2e-08  0.8289  1e-02   2  1  1 |  0  0\n"
     ]
    },
    {
     "name": "stdout",
     "output_type": "stream",
     "text": [
      "20  -9.077e-05  -9.088e-05  +4e-03  9e-09  4e-09  2e-10  3e-06  0.7096  4e-01   1  1  1 |  0  0\n",
      "21  -9.078e-05  -9.079e-05  +5e-04  1e-09  6e-10  2e-11  4e-07  0.8845  2e-02   1  1  1 |  0  0\n"
     ]
    },
    {
     "name": "stdout",
     "output_type": "stream",
     "text": [
      "18  -9.071e-05  -9.158e-05  +3e-02  7e-08  3e-08  2e-09  2e-05  0.6465  4e-01   3  1  2 |  0  0\n",
      "19  -9.076e-05  -9.096e-05  +7e-03  2e-08  8e-09  4e-10  5e-06  0.8568  1e-01   2  1  1 |  0  0\n"
     ]
    },
    {
     "name": "stdout",
     "output_type": "stream",
     "text": [
      "16  -8.963e-05  -9.658e-05  +2e-01  6e-07  3e-07  3e-08  2e-04  0.1778  7e-01   1  2  1 |  0  0\n",
      "17  -9.066e-05  -9.214e-05  +5e-02  1e-07  6e-08  5e-09  4e-05  0.8728  1e-01   3  1  1 |  0  0\n"
     ]
    },
    {
     "name": "stdout",
     "output_type": "stream",
     "text": [
      "14  -8.290e-05  -1.135e-04  +1e+00  3e-06  1e-06  3e-07  8e-04  0.2747  7e-01   3  2  1 |  0  0\n",
      "15  -8.959e-05  -9.693e-05  +2e-01  6e-07  3e-07  4e-08  2e-04  0.9071  2e-01   3  1  1 |  0  0\n"
     ]
    },
    {
     "name": "stdout",
     "output_type": "stream",
     "text": [
      "12  -3.771e-05  -1.826e-04  +5e+00  1e-05  6e-06  2e-06  4e-03  0.9461  3e-01   2  2  2 |  0  0\n",
      "13  -8.259e-05  -1.164e-04  +1e+00  3e-06  1e-06  5e-07  9e-04  0.7711  1e-02   2  1  1 |  0  0\n"
     ]
    },
    {
     "name": "stdout",
     "output_type": "stream",
     "text": [
      "10  +1.061e-04  -5.605e-04  +2e+01  6e-05  3e-05  5e-05  2e-02  0.4933  2e-01   2  1  2 |  0  0\n",
      "11  +3.351e-05  -3.727e-04  +1e+01  4e-05  2e-05  3e-05  1e-02  0.4588  2e-01   2  2  2 |  0  0\n"
     ]
    },
    {
     "name": "stdout",
     "output_type": "stream",
     "text": [
      " 8  +1.103e-03  -4.532e-03  +1e+02  7e-04  4e-04  7e-04  1e-01  0.5792  2e-01   2  2  2 |  0  0\n",
      " 9  +2.430e-04  -9.328e-04  +4e+01  1e-04  5e-05  1e-04  3e-02  0.8230  1e-01   2  1  1 |  0  0\n"
     ]
    },
    {
     "name": "stdout",
     "output_type": "stream",
     "text": [
      " 6  +2.312e-03  -1.230e-02  +3e+02  2e-03  2e-03  2e-03  2e-01  0.4908  2e-01   2  2  2 |  0  0\n",
      " 7  +1.819e-03  -1.170e-02  +2e+02  2e-03  1e-03  2e-03  2e-01  0.1387  6e-01   2  2  2 |  0  0\n"
     ]
    },
    {
     "name": "stdout",
     "output_type": "stream",
     "text": [
      " 4  +5.107e-03  -5.228e-02  +5e+02  8e-03  3e-02  1e-02  4e-01  0.0178  9e-01   1  2  2 |  0  0\n",
      " 5  +3.886e-03  -3.298e-02  +4e+02  6e-03  1e-02  6e-03  4e-01  0.2948  5e-01   2  2  2 |  0  0\n"
     ]
    },
    {
     "name": "stdout",
     "output_type": "stream",
     "text": [
      " 2  +2.246e-02  -1.447e-01  +6e+02  2e-02  1e-01  2e-02  5e-01  0.1483  6e-01   1  1  1 |  0  0\n",
      " 3  +4.947e-03  -5.182e-02  +5e+02  8e-03  4e-02  9e-03  4e-01  0.2679  6e-01   1  1  1 |  0  0\n"
     ]
    },
    {
     "name": "stdout",
     "output_type": "stream",
     "text": [
      "\n",
      "It     pcost       dcost      gap   pres   dres    k/t    mu     step   sigma     IR    |   BT\n",
      " 0  -8.619e-03  -4.684e+00  +1e+03  9e-01  2e+00  1e+00  1e+00    ---    ---    1  1  - |  -  - \n",
      " 1  +1.663e-01  -7.572e-01  +6e+02  1e-01  7e-01  5e-02  5e-01  0.6034  2e-01   1  1  1 |  0  0\n"
     ]
    },
    {
     "name": "stdout",
     "output_type": "stream",
     "text": [
      "\n",
      "OPTIMAL (within feastol=6.3e-13, reltol=4.3e-05, abstol=4.5e-09).\n",
      "Runtime: 2.672677 seconds.\n",
      "\n",
      "\n",
      "ECOS 2.0.4 - (C) embotech GmbH, Zurich Switzerland, 2012-15. Web: www.embotech.com/ECOS\n"
     ]
    },
    {
     "name": "stdout",
     "output_type": "stream",
     "text": [
      "24  -1.059e-04  -1.059e-04  +2e-07  3e-11  2e-13  8e-15  2e-10  0.9770  5e-02   2  2  1 |  0  0\n",
      "25  -1.059e-04  -1.059e-04  +5e-09  6e-13  5e-15  2e-16  4e-12  0.9773  2e-04   1  2  2 |  0  0\n"
     ]
    },
    {
     "name": "stdout",
     "output_type": "stream",
     "text": [
      "22  -1.059e-04  -1.059e-04  +2e-05  5e-11  2e-11  1e-12  2e-08  0.9090  2e-01   2  1  2 |  0  0\n",
      "23  -1.059e-04  -1.059e-04  +3e-06  6e-12  3e-12  1e-13  2e-09  0.8845  7e-03   1  1  1 |  0  0\n"
     ]
    },
    {
     "name": "stdout",
     "output_type": "stream",
     "text": [
      "20  -1.059e-04  -1.059e-04  +5e-04  1e-09  6e-10  4e-11  4e-07  0.8441  1e-01   1  1  1 |  0  0\n",
      "21  -1.059e-04  -1.059e-04  +9e-05  2e-10  1e-10  7e-12  7e-08  0.8446  8e-03   2  1  1 |  0  0\n"
     ]
    },
    {
     "name": "stdout",
     "output_type": "stream",
     "text": [
      "18  -1.059e-04  -1.063e-04  +1e-02  3e-08  2e-08  2e-09  1e-05  0.5726  4e-01   1  1  1 |  0  0\n",
      "19  -1.059e-04  -1.060e-04  +2e-03  5e-09  2e-09  2e-10  2e-06  0.9092  5e-02   2  2  2 |  0  0\n"
     ]
    },
    {
     "name": "stdout",
     "output_type": "stream",
     "text": [
      "16  -1.059e-04  -1.079e-04  +7e-02  2e-07  8e-08  2e-08  6e-05  0.9243  8e-02   2  1  1 |  0  0\n",
      "17  -1.059e-04  -1.065e-04  +2e-02  5e-08  2e-08  5e-09  2e-05  0.7784  1e-01   2  1  1 |  0  0\n"
     ]
    },
    {
     "name": "stdout",
     "output_type": "stream",
     "text": [
      "14  -1.032e-04  -1.191e-04  +5e-01  1e-06  6e-07  4e-07  4e-04  0.7097  6e-02   3  2  2 |  0  0\n",
      "15  -1.033e-04  -1.169e-04  +5e-01  1e-06  5e-07  2e-07  4e-04  0.3820  6e-01   2  2  1 |  0  0\n"
     ]
    },
    {
     "name": "stdout",
     "output_type": "stream",
     "text": [
      "12  -4.811e-05  -2.213e-04  +6e+00  1e-05  7e-06  5e-06  5e-03  0.8240  4e-01   2  2  2 |  0  0\n",
      "13  -9.405e-05  -1.424e-04  +2e+00  4e-06  2e-06  1e-06  1e-03  0.7459  4e-02   2  1  2 |  0  0\n"
     ]
    },
    {
     "name": "stdout",
     "output_type": "stream",
     "text": [
      "10  +4.026e-05  -5.355e-04  +2e+01  5e-05  2e-05  5e-05  2e-02  0.6634  8e-02   2  1  1 |  0  0\n",
      "11  -9.928e-06  -3.636e-04  +1e+01  3e-05  1e-05  3e-05  1e-02  0.4629  2e-01   2  2  2 |  0  0\n"
     ]
    },
    {
     "name": "stdout",
     "output_type": "stream",
     "text": [
      " 8  +1.122e-03  -4.798e-03  +1e+02  7e-04  4e-04  7e-04  1e-01  0.5708  2e-01   2  2  2 |  0  0\n",
      " 9  +3.104e-04  -1.288e-03  +5e+01  2e-04  8e-05  2e-04  4e-02  0.7139  8e-02   2  1  1 |  0  0\n"
     ]
    },
    {
     "name": "stdout",
     "output_type": "stream",
     "text": [
      " 6  +2.342e-03  -1.280e-02  +3e+02  2e-03  2e-03  2e-03  2e-01  0.4740  2e-01   2  2  2 |  0  0\n",
      " 7  +1.806e-03  -1.203e-02  +3e+02  2e-03  2e-03  2e-03  2e-01  0.1408  6e-01   2  2  2 |  0  0\n"
     ]
    },
    {
     "name": "stdout",
     "output_type": "stream",
     "text": [
      " 4  +5.165e-03  -5.239e-02  +5e+02  8e-03  3e-02  1e-02  4e-01  0.0238  9e-01   1  2  2 |  0  0\n",
      " 5  +3.943e-03  -3.296e-02  +4e+02  6e-03  1e-02  6e-03  4e-01  0.2905  5e-01   2  2  2 |  0  0\n"
     ]
    },
    {
     "name": "stdout",
     "output_type": "stream",
     "text": [
      " 2  +2.326e-02  -1.480e-01  +6e+02  2e-02  1e-01  2e-02  5e-01  0.1340  6e-01   1  1  1 |  0  0\n",
      " 3  +5.012e-03  -5.214e-02  +5e+02  8e-03  4e-02  9e-03  4e-01  0.2669  6e-01   1  1  1 |  0  0\n"
     ]
    },
    {
     "name": "stdout",
     "output_type": "stream",
     "text": [
      "\n",
      "It     pcost       dcost      gap   pres   dres    k/t    mu     step   sigma     IR    |   BT\n",
      " 0  -8.619e-03  -4.684e+00  +1e+03  9e-01  2e+00  1e+00  1e+00    ---    ---    1  1  - |  -  - \n",
      " 1  +1.699e-01  -7.577e-01  +6e+02  1e-01  7e-01  5e-02  5e-01  0.6026  2e-01   1  1  1 |  0  0\n"
     ]
    },
    {
     "name": "stdout",
     "output_type": "stream",
     "text": [
      "\n",
      "OPTIMAL (within feastol=6.8e-15, reltol=7.5e-06, abstol=9.5e-10).\n",
      "Runtime: 2.680692 seconds.\n",
      "\n",
      "\n",
      "ECOS 2.0.4 - (C) embotech GmbH, Zurich Switzerland, 2012-15. Web: www.embotech.com/ECOS\n"
     ]
    },
    {
     "name": "stdout",
     "output_type": "stream",
     "text": [
      "24  -1.271e-04  -1.271e-04  +4e-08  9e-14  4e-14  2e-15  3e-11  0.9359  2e-03   2  2  2 |  0  0\n",
      "25  -1.271e-04  -1.271e-04  +1e-09  7e-15  1e-15  4e-17  8e-13  0.9854  1e-02   2  1  1 |  0  0\n"
     ]
    },
    {
     "name": "stdout",
     "output_type": "stream",
     "text": [
      "22  -1.271e-04  -1.271e-04  +1e-05  3e-11  1e-11  5e-13  9e-09  0.8471  1e-01   1  1  2 |  0  0\n",
      "23  -1.271e-04  -1.271e-04  +6e-07  1e-12  7e-13  3e-14  5e-10  0.9497  4e-03   2  1  1 |  0  0\n"
     ]
    },
    {
     "name": "stdout",
     "output_type": "stream",
     "text": [
      "20  -1.271e-04  -1.271e-04  +2e-04  4e-10  2e-10  9e-12  1e-07  0.8644  4e-02   1  1  1 |  0  0\n",
      "21  -1.271e-04  -1.271e-04  +4e-05  1e-10  5e-11  2e-12  4e-08  0.8073  1e-01   1  1  1 |  0  0\n"
     ]
    },
    {
     "name": "stdout",
     "output_type": "stream",
     "text": [
      "18  -1.271e-04  -1.274e-04  +1e-02  3e-08  1e-08  7e-10  9e-06  0.7742  4e-01   2  1  1 |  0  0\n",
      "19  -1.271e-04  -1.271e-04  +9e-04  2e-09  1e-09  6e-11  8e-07  0.9323  2e-02   2  1  1 |  0  0\n"
     ]
    },
    {
     "name": "stdout",
     "output_type": "stream",
     "text": [
      "16  -1.271e-04  -1.289e-04  +6e-02  1e-07  7e-08  1e-08  5e-05  0.9280  4e-02   2  1  1 |  0  0\n",
      "17  -1.271e-04  -1.277e-04  +2e-02  5e-08  2e-08  2e-09  2e-05  0.8242  2e-01   2  1  2 |  0  0\n"
     ]
    },
    {
     "name": "stdout",
     "output_type": "stream",
     "text": [
      "14  -1.226e-04  -1.451e-04  +8e-01  2e-06  9e-07  4e-07  6e-04  0.7208  5e-02   2  1  1 |  0  0\n",
      "15  -1.235e-04  -1.395e-04  +5e-01  1e-06  6e-07  1e-07  4e-04  0.6339  5e-01   2  2  1 |  0  0\n"
     ]
    },
    {
     "name": "stdout",
     "output_type": "stream",
     "text": [
      "12  -6.504e-05  -2.981e-04  +8e+00  2e-05  9e-06  2e-05  7e-03  0.4279  2e-01   2  2  2 |  0  0\n",
      "13  -1.050e-04  -1.770e-04  +2e+00  6e-06  3e-06  1e-06  2e-03  0.9327  2e-01   2  2  2 |  0  0\n"
     ]
    },
    {
     "name": "stdout",
     "output_type": "stream",
     "text": [
      "10  +1.907e-06  -5.372e-04  +2e+01  5e-05  2e-05  5e-05  2e-02  0.6837  6e-02   2  2  2 |  0  0\n",
      "11  -3.697e-05  -3.912e-04  +1e+01  3e-05  1e-05  3e-05  1e-02  0.4206  2e-01   2  2  2 |  0  0\n"
     ]
    },
    {
     "name": "stdout",
     "output_type": "stream",
     "text": [
      " 8  +1.104e-03  -4.832e-03  +1e+02  7e-04  4e-04  7e-04  1e-01  0.5696  2e-01   2  2  2 |  0  0\n",
      " 9  +2.923e-04  -1.342e-03  +5e+01  2e-04  8e-05  2e-04  4e-02  0.6969  7e-02   2  1  1 |  0  0\n"
     ]
    },
    {
     "name": "stdout",
     "output_type": "stream",
     "text": [
      " 6  +2.365e-03  -1.303e-02  +3e+02  2e-03  2e-03  2e-03  2e-01  0.4687  2e-01   2  2  2 |  0  0\n",
      " 7  +1.776e-03  -1.207e-02  +3e+02  2e-03  2e-03  2e-03  2e-01  0.1478  5e-01   2  2  2 |  0  0\n"
     ]
    },
    {
     "name": "stdout",
     "output_type": "stream",
     "text": [
      " 4  +5.269e-03  -5.251e-02  +5e+02  8e-03  3e-02  1e-02  4e-01  0.0275  9e-01   1  2  2 |  0  0\n",
      " 5  +3.969e-03  -3.274e-02  +4e+02  5e-03  1e-02  6e-03  4e-01  0.2942  5e-01   2  2  2 |  0  0\n"
     ]
    },
    {
     "name": "stdout",
     "output_type": "stream",
     "text": [
      " 2  +2.398e-02  -1.504e-01  +6e+02  2e-02  1e-01  2e-02  5e-01  0.1192  6e-01   1  1  1 |  0  0\n",
      " 3  +5.100e-03  -5.240e-02  +5e+02  8e-03  4e-02  9e-03  4e-01  0.2654  6e-01   1  1  1 |  0  0\n"
     ]
    },
    {
     "name": "stdout",
     "output_type": "stream",
     "text": [
      "\n",
      "It     pcost       dcost      gap   pres   dres    k/t    mu     step   sigma     IR    |   BT\n",
      " 0  -8.619e-03  -4.684e+00  +1e+03  9e-01  2e+00  1e+00  1e+00    ---    ---    1  1  - |  -  - \n",
      " 1  +1.734e-01  -7.573e-01  +6e+02  1e-01  7e-01  4e-02  5e-01  0.6025  2e-01   1  1  1 |  0  0\n"
     ]
    },
    {
     "name": "stdout",
     "output_type": "stream",
     "text": [
      "\n",
      "OPTIMAL (within feastol=3.3e-15, reltol=6.9e-06, abstol=1.1e-09).\n",
      "Runtime: 2.728083 seconds.\n",
      "\n",
      "\n",
      "ECOS 2.0.4 - (C) embotech GmbH, Zurich Switzerland, 2012-15. Web: www.embotech.com/ECOS\n"
     ]
    },
    {
     "name": "stdout",
     "output_type": "stream",
     "text": [
      "24  -1.589e-04  -1.589e-04  +3e-08  8e-14  4e-14  1e-15  3e-11  0.9737  1e-04   2  1  1 |  0  0\n",
      "25  -1.589e-04  -1.589e-04  +1e-09  3e-15  1e-15  4e-17  9e-13  0.9662  3e-04   1  1  1 |  0  0\n"
     ]
    },
    {
     "name": "stdout",
     "output_type": "stream",
     "text": [
      "22  -1.589e-04  -1.589e-04  +2e-05  5e-11  2e-11  7e-13  2e-08  0.9153  2e-03   2  1  1 |  0  0\n",
      "23  -1.589e-04  -1.589e-04  +1e-06  3e-12  1e-12  4e-14  1e-09  0.9803  4e-02   2  2  1 |  0  0\n"
     ]
    },
    {
     "name": "stdout",
     "output_type": "stream",
     "text": [
      "20  -1.589e-04  -1.589e-04  +1e-03  3e-09  1e-09  5e-11  1e-06  0.9024  8e-02   2  1  1 |  0  0\n",
      "21  -1.589e-04  -1.589e-04  +2e-04  5e-10  3e-10  8e-12  2e-07  0.9136  1e-01   2  1  1 |  0  0\n"
     ]
    },
    {
     "name": "stdout",
     "output_type": "stream",
     "text": [
      "18  -1.588e-04  -1.591e-04  +1e-02  2e-08  1e-08  4e-10  8e-06  0.7440  2e-01   1  1  1 |  0  0\n",
      "19  -1.588e-04  -1.591e-04  +8e-03  2e-08  9e-09  3e-10  6e-06  0.5287  5e-01   2  1  1 |  0  0\n"
     ]
    },
    {
     "name": "stdout",
     "output_type": "stream",
     "text": [
      "16  -1.580e-04  -1.628e-04  +2e-01  4e-07  2e-07  7e-09  1e-04  0.9890  5e-01   2  2  1 |  0  0\n",
      "17  -1.588e-04  -1.596e-04  +3e-02  7e-08  3e-08  1e-09  2e-05  0.8561  4e-02   2  1  1 |  0  0\n"
     ]
    },
    {
     "name": "stdout",
     "output_type": "stream",
     "text": [
      "14  -1.508e-04  -1.842e-04  +1e+00  3e-06  1e-06  5e-07  9e-04  0.7161  8e-02   2  1  1 |  0  0\n",
      "15  -1.574e-04  -1.669e-04  +3e-01  8e-07  4e-07  1e-07  3e-04  0.7649  6e-02   2  2  2 |  0  0\n"
     ]
    },
    {
     "name": "stdout",
     "output_type": "stream",
     "text": [
      "12  -1.103e-04  -2.999e-04  +6e+00  2e-05  8e-06  1e-05  5e-03  0.5396  2e-01   2  2  2 |  0  0\n",
      "13  -1.266e-04  -2.261e-04  +3e+00  8e-06  4e-06  2e-06  3e-03  0.8826  4e-01   2  2  2 |  0  0\n"
     ]
    },
    {
     "name": "stdout",
     "output_type": "stream",
     "text": [
      "10  -4.245e-05  -5.558e-04  +2e+01  5e-05  2e-05  5e-05  1e-02  0.6835  5e-02   2  2  2 |  0  0\n",
      "11  -8.098e-05  -4.089e-04  +1e+01  3e-05  1e-05  3e-05  9e-03  0.4384  2e-01   2  2  2 |  0  0\n"
     ]
    },
    {
     "name": "stdout",
     "output_type": "stream",
     "text": [
      " 8  +1.076e-03  -4.870e-03  +1e+02  7e-04  4e-04  7e-04  1e-01  0.5654  2e-01   2  2  2 |  0  0\n",
      " 9  +2.481e-04  -1.349e-03  +5e+01  2e-04  8e-05  2e-04  4e-02  0.6995  6e-02   2  1  1 |  0  0\n"
     ]
    },
    {
     "name": "stdout",
     "output_type": "stream",
     "text": [
      " 6  +2.375e-03  -1.306e-02  +3e+02  2e-03  2e-03  2e-03  2e-01  0.4684  2e-01   1  2  2 |  0  0\n",
      " 7  +1.765e-03  -1.204e-02  +3e+02  2e-03  2e-03  2e-03  2e-01  0.1494  5e-01   2  2  2 |  0  0\n"
     ]
    },
    {
     "name": "stdout",
     "output_type": "stream",
     "text": [
      " 4  +5.384e-03  -5.263e-02  +5e+02  8e-03  3e-02  1e-02  4e-01  0.0287  9e-01   1  2  2 |  0  0\n",
      " 5  +4.024e-03  -3.270e-02  +4e+02  5e-03  1e-02  6e-03  4e-01  0.2959  5e-01   2  2  2 |  0  0\n"
     ]
    },
    {
     "name": "stdout",
     "output_type": "stream",
     "text": [
      " 2  +2.450e-02  -1.513e-01  +6e+02  2e-02  1e-01  2e-02  5e-01  0.1044  6e-01   1  1  1 |  0  0\n",
      " 3  +5.219e-03  -5.258e-02  +5e+02  8e-03  4e-02  9e-03  4e-01  0.2634  6e-01   1  1  1 |  0  0\n"
     ]
    },
    {
     "name": "stdout",
     "output_type": "stream",
     "text": [
      "\n",
      "It     pcost       dcost      gap   pres   dres    k/t    mu     step   sigma     IR    |   BT\n",
      " 0  -8.619e-03  -4.684e+00  +1e+03  9e-01  2e+00  1e+00  1e+00    ---    ---    1  1  - |  -  - \n",
      " 1  +1.766e-01  -7.559e-01  +6e+02  1e-01  7e-01  4e-02  5e-01  0.6033  2e-01   1  1  1 |  0  0\n"
     ]
    },
    {
     "name": "stdout",
     "output_type": "stream",
     "text": [
      "\n",
      "OPTIMAL (within feastol=4.8e-13, reltol=4.2e-06, abstol=8.9e-10).\n",
      "Runtime: 2.907598 seconds.\n",
      "\n",
      "\n",
      "ECOS 2.0.4 - (C) embotech GmbH, Zurich Switzerland, 2012-15. Web: www.embotech.com/ECOS\n"
     ]
    },
    {
     "name": "stdout",
     "output_type": "stream",
     "text": [
      "26  -2.118e-04  -2.118e-04  +5e-08  1e-13  5e-14  2e-15  4e-11  0.9843  4e-02   1  2  2 |  0  0\n",
      "27  -2.118e-04  -2.118e-04  +9e-10  5e-13  1e-15  3e-17  7e-13  0.9806  1e-04   2  2  2 |  0  0\n"
     ]
    },
    {
     "name": "stdout",
     "output_type": "stream",
     "text": [
      "24  -2.118e-04  -2.118e-04  +7e-06  2e-11  8e-12  3e-13  6e-09  0.9610  8e-02   2  2  2 |  0  0\n",
      "25  -2.118e-04  -2.118e-04  +8e-07  2e-12  9e-13  3e-14  7e-10  0.8931  6e-03   2  2  2 |  0  0\n"
     ]
    },
    {
     "name": "stdout",
     "output_type": "stream",
     "text": [
      "22  -2.118e-04  -2.118e-04  +2e-04  6e-10  3e-10  9e-12  2e-07  0.8401  2e-01   2  2  1 |  0  0\n",
      "23  -2.118e-04  -2.118e-04  +6e-05  1e-10  7e-11  2e-12  5e-08  0.7925  4e-02   1  1  2 |  0  0\n"
     ]
    },
    {
     "name": "stdout",
     "output_type": "stream",
     "text": [
      "20  -2.118e-04  -2.119e-04  +2e-03  5e-09  3e-09  9e-11  2e-06  0.7033  3e-01   1  1  1 |  0  0\n",
      "21  -2.118e-04  -2.118e-04  +7e-04  2e-09  8e-10  3e-11  6e-07  0.7354  5e-02   2  1  1 |  0  0\n"
     ]
    },
    {
     "name": "stdout",
     "output_type": "stream",
     "text": [
      "18  -2.118e-04  -2.123e-04  +2e-02  4e-08  2e-08  8e-10  2e-05  0.6905  3e-01   1  1  1 |  0  0\n",
      "19  -2.118e-04  -2.119e-04  +5e-03  1e-08  5e-09  2e-10  4e-06  0.7688  3e-02   2  1  1 |  0  0\n"
     ]
    },
    {
     "name": "stdout",
     "output_type": "stream",
     "text": [
      "16  -2.111e-04  -2.159e-04  +2e-01  4e-07  2e-07  1e-08  1e-04  0.2569  7e-01   2  1  1 |  0  0\n",
      "17  -2.117e-04  -2.128e-04  +4e-02  8e-08  4e-08  2e-09  3e-05  0.9444  2e-01   1  1  2 |  0  0\n"
     ]
    },
    {
     "name": "stdout",
     "output_type": "stream",
     "text": [
      "14  -2.101e-04  -2.206e-04  +4e-01  8e-07  4e-07  3e-08  3e-04  0.8208  8e-02   2  1  2 |  0  0\n",
      "15  -2.110e-04  -2.162e-04  +2e-01  4e-07  2e-07  1e-08  1e-04  0.6956  3e-01   3  1  1 |  0  0\n"
     ]
    },
    {
     "name": "stdout",
     "output_type": "stream",
     "text": [
      "12  -1.888e-04  -2.788e-04  +3e+00  7e-06  3e-06  3e-06  3e-03  0.8081  3e-01   2  2  2 |  0  0\n",
      "13  -1.997e-04  -2.427e-04  +1e+00  3e-06  2e-06  2e-07  1e-03  0.9681  4e-01   2  1  1 |  0  0\n"
     ]
    },
    {
     "name": "stdout",
     "output_type": "stream",
     "text": [
      "10  -9.027e-05  -6.063e-04  +2e+01  4e-05  2e-05  5e-05  1e-02  0.6510  8e-02   2  2  2 |  0  0\n",
      "11  -1.649e-04  -3.775e-04  +7e+00  2e-05  9e-06  2e-05  6e-03  0.6479  1e-01   2  2  2 |  0  0\n"
     ]
    },
    {
     "name": "stdout",
     "output_type": "stream",
     "text": [
      " 8  +1.036e-03  -4.956e-03  +1e+02  7e-04  4e-04  7e-04  1e-01  0.5540  2e-01   2  2  2 |  0  0\n",
      " 9  +1.434e-04  -1.227e-03  +4e+01  1e-04  6e-05  1e-04  4e-02  0.7515  6e-02   2  1  1 |  0  0\n"
     ]
    },
    {
     "name": "stdout",
     "output_type": "stream",
     "text": [
      " 6  +2.356e-03  -1.272e-02  +3e+02  2e-03  2e-03  2e-03  2e-01  0.4773  2e-01   2  2  2 |  0  0\n",
      " 7  +1.802e-03  -1.192e-02  +3e+02  2e-03  2e-03  2e-03  2e-01  0.1383  6e-01   2  2  2 |  0  0\n"
     ]
    },
    {
     "name": "stdout",
     "output_type": "stream",
     "text": [
      " 4  +5.511e-03  -5.282e-02  +5e+02  8e-03  3e-02  1e-02  4e-01  0.0247  9e-01   1  2  2 |  0  0\n",
      " 5  +4.156e-03  -3.316e-02  +4e+02  6e-03  1e-02  6e-03  4e-01  0.2909  5e-01   2  2  2 |  0  0\n"
     ]
    },
    {
     "name": "stdout",
     "output_type": "stream",
     "text": [
      " 2  +2.441e-02  -1.488e-01  +6e+02  2e-02  1e-01  1e-02  5e-01  0.0908  7e-01   1  1  1 |  0  0\n",
      " 3  +5.397e-03  -5.259e-02  +5e+02  8e-03  4e-02  9e-03  4e-01  0.2619  6e-01   1  1  1 |  0  0\n"
     ]
    },
    {
     "name": "stdout",
     "output_type": "stream",
     "text": [
      "\n",
      "It     pcost       dcost      gap   pres   dres    k/t    mu     step   sigma     IR    |   BT\n",
      " 0  -8.619e-03  -4.684e+00  +1e+03  9e-01  2e+00  1e+00  1e+00    ---    ---    1  1  - |  -  - \n",
      " 1  +1.794e-01  -7.534e-01  +6e+02  1e-01  7e-01  4e-02  5e-01  0.6052  1e-01   1  1  1 |  0  0\n"
     ]
    },
    {
     "name": "stdout",
     "output_type": "stream",
     "text": [
      "22  -3.167e-04  -3.167e-04  +6e-10  7e-15  7e-16  2e-17  5e-13  0.9461  7e-04   2  2  2 |  0  0\n",
      "\n",
      "OPTIMAL (within feastol=7.2e-15, reltol=1.9e-06, abstol=5.9e-10).\n",
      "Runtime: 2.377996 seconds.\n",
      "\n",
      "\n",
      "ECOS 2.0.4 - (C) embotech GmbH, Zurich Switzerland, 2012-15. Web: www.embotech.com/ECOS\n"
     ]
    },
    {
     "name": "stdout",
     "output_type": "stream",
     "text": [
      "20  -3.167e-04  -3.167e-04  +3e-07  6e-13  3e-13  2e-14  3e-10  0.9180  3e-03   1  2  2 |  0  0\n",
      "21  -3.167e-04  -3.167e-04  +1e-08  3e-14  1e-14  4e-16  9e-12  0.9853  2e-02   2  2  2 |  0  0\n"
     ]
    },
    {
     "name": "stdout",
     "output_type": "stream",
     "text": [
      "18  -3.167e-04  -3.167e-04  +2e-04  4e-10  2e-10  9e-12  1e-07  0.9186  9e-02   1  2  2 |  0  0\n",
      "19  -3.167e-04  -3.167e-04  +4e-06  7e-12  4e-12  2e-13  3e-09  0.9800  7e-04   2  2  2 |  0  0\n"
     ]
    },
    {
     "name": "stdout",
     "output_type": "stream",
     "text": [
      "16  -3.167e-04  -3.169e-04  +4e-03  9e-09  5e-09  4e-10  4e-06  0.7268  3e-01   2  1  1 |  0  0\n",
      "17  -3.167e-04  -3.168e-04  +1e-03  2e-09  1e-09  7e-11  9e-07  0.8328  1e-01   2  2  1 |  0  0\n"
     ]
    },
    {
     "name": "stdout",
     "output_type": "stream",
     "text": [
      "14  -3.167e-04  -3.179e-04  +4e-02  8e-08  4e-08  6e-09  3e-05  0.8942  2e-02   2  1  1 |  0  0\n",
      "15  -3.167e-04  -3.170e-04  +9e-03  2e-08  1e-08  1e-09  8e-06  0.8184  6e-02   2  1  1 |  0  0\n"
     ]
    },
    {
     "name": "stdout",
     "output_type": "stream",
     "text": [
      "12  -3.161e-04  -3.362e-04  +7e-01  1e-06  8e-07  2e-07  6e-04  0.8206  3e-02   2  1  2 |  0  0\n",
      "13  -3.157e-04  -3.253e-04  +3e-01  7e-07  4e-07  5e-08  3e-04  0.7887  3e-01   2  1  1 |  0  0\n"
     ]
    },
    {
     "name": "stdout",
     "output_type": "stream",
     "text": [
      "10  -1.712e-04  -7.021e-04  +2e+01  4e-05  2e-05  1e-05  1e-02  0.4859  5e-01   2  2  2 |  0  0\n",
      "11  -2.992e-04  -3.973e-04  +3e+00  7e-06  4e-06  1e-06  3e-03  0.8849  9e-02   2  2  2 |  0  0\n"
     ]
    },
    {
     "name": "stdout",
     "output_type": "stream",
     "text": [
      " 8  +2.973e-04  -2.466e-03  +8e+01  2e-04  1e-04  2e-04  7e-02  0.6453  2e-01   2  2  2 |  0  0\n",
      " 9  -1.229e-04  -8.451e-04  +2e+01  5e-05  3e-05  2e-05  2e-02  0.9307  2e-01   2  1  2 |  0  0\n"
     ]
    },
    {
     "name": "stdout",
     "output_type": "stream",
     "text": [
      " 6  +2.176e-03  -1.257e-02  +3e+02  2e-03  2e-03  1e-03  2e-01  0.8002  4e-01   2  2  2 |  0  0\n",
      " 7  +1.090e-03  -6.588e-03  +2e+02  8e-04  6e-04  5e-04  1e-01  0.5730  4e-01   2  2  2 |  0  0\n"
     ]
    },
    {
     "name": "stdout",
     "output_type": "stream",
     "text": [
      " 4  +3.155e-03  -4.065e-02  +5e+02  6e-03  3e-02  7e-03  4e-01  0.2333  6e-01   1  1  1 |  0  0\n",
      " 5  +4.083e-03  -4.105e-02  +5e+02  6e-03  1e-02  8e-03  4e-01  0.0743  9e-01   2  2  2 |  0  0\n"
     ]
    },
    {
     "name": "stdout",
     "output_type": "stream",
     "text": [
      " 2  +2.253e-02  -1.381e-01  +6e+02  2e-02  1e-01  1e-02  5e-01  0.0815  7e-01   1  1  1 |  0  0\n",
      " 3  +7.461e-03  -6.106e-02  +5e+02  1e-02  5e-02  1e-02  5e-01  0.2111  6e-01   1  1  1 |  0  0\n"
     ]
    },
    {
     "name": "stdout",
     "output_type": "stream",
     "text": [
      "\n",
      "It     pcost       dcost      gap   pres   dres    k/t    mu     step   sigma     IR    |   BT\n",
      " 0  -8.619e-03  -4.684e+00  +1e+03  9e-01  2e+00  1e+00  1e+00    ---    ---    1  1  - |  -  - \n",
      " 1  +1.818e-01  -7.494e-01  +6e+02  1e-01  7e-01  3e-02  5e-01  0.6084  1e-01   1  1  1 |  0  0\n"
     ]
    },
    {
     "name": "stdout",
     "output_type": "stream",
     "text": [
      "24  -6.059e-04  -6.059e-04  +9e-09  1e-13  1e-14  3e-16  7e-12  0.9587  4e-02   3  2  2 |  0  0\n",
      "\n",
      "OPTIMAL (within feastol=1.1e-13, reltol=1.5e-05, abstol=8.8e-09).\n",
      "Runtime: 2.580878 seconds.\n",
      "\n",
      "\n",
      "ECOS 2.0.4 - (C) embotech GmbH, Zurich Switzerland, 2012-15. Web: www.embotech.com/ECOS\n"
     ]
    },
    {
     "name": "stdout",
     "output_type": "stream",
     "text": [
      "22  -6.059e-04  -6.059e-04  +1e-06  2e-12  2e-12  8e-14  1e-09  0.8978  1e-01   1  2  2 |  0  0\n",
      "23  -6.059e-04  -6.059e-04  +1e-07  2e-13  1e-13  5e-15  1e-10  0.9583  4e-02   2  1  1 |  0  0\n"
     ]
    },
    {
     "name": "stdout",
     "output_type": "stream",
     "text": [
      "20  -6.059e-04  -6.059e-04  +2e-05  3e-11  2e-11  3e-12  2e-08  0.7049  2e-01   2  2  2 |  0  0\n",
      "21  -6.059e-04  -6.059e-04  +7e-06  1e-11  8e-12  5e-13  6e-09  0.8365  2e-01   1  1  1 |  0  0\n"
     ]
    },
    {
     "name": "stdout",
     "output_type": "stream",
     "text": [
      "18  -6.059e-04  -6.059e-04  +1e-04  2e-10  1e-10  3e-11  1e-07  0.8919  4e-02   2  2  2 |  0  0\n",
      "19  -6.059e-04  -6.059e-04  +4e-05  7e-11  5e-11  8e-12  3e-08  0.7736  1e-01   2  2  2 |  0  0\n"
     ]
    },
    {
     "name": "stdout",
     "output_type": "stream",
     "text": [
      "16  -6.059e-04  -6.062e-04  +1e-02  2e-08  1e-08  4e-09  8e-06  0.8707  5e-02   2  2  1 |  0  0\n",
      "17  -6.059e-04  -6.060e-04  +9e-04  1e-09  1e-09  3e-10  8e-07  0.9232  2e-02   1  1  1 |  0  0\n"
     ]
    },
    {
     "name": "stdout",
     "output_type": "stream",
     "text": [
      "14  -6.061e-04  -6.123e-04  +2e-01  4e-07  2e-07  1e-07  2e-04  0.8842  1e-02   2  2  2 |  0  0\n",
      "15  -6.060e-04  -6.076e-04  +6e-02  9e-08  6e-08  3e-08  5e-05  0.7721  4e-02   2  1  2 |  0  0\n"
     ]
    },
    {
     "name": "stdout",
     "output_type": "stream",
     "text": [
      "12  -5.676e-04  -7.817e-04  +8e+00  1e-05  9e-06  1e-05  6e-03  0.7595  4e-02   2  2  2 |  0  0\n",
      "13  -6.000e-04  -6.488e-04  +2e+00  3e-06  2e-06  1e-06  1e-03  0.9050  1e-01   2  1  1 |  0  0\n"
     ]
    },
    {
     "name": "stdout",
     "output_type": "stream",
     "text": [
      "10  -3.035e-04  -1.753e-03  +5e+01  1e-04  7e-05  1e-04  4e-02  0.7690  8e-02   2  2  2 |  0  0\n",
      "11  -4.253e-04  -1.257e-03  +3e+01  5e-05  4e-05  5e-05  2e-02  0.6752  4e-01   2  2  2 |  0  0\n"
     ]
    },
    {
     "name": "stdout",
     "output_type": "stream",
     "text": [
      " 8  +1.529e-03  -1.166e-02  +3e+02  2e-03  1e-03  2e-03  2e-01  0.1311  5e-01   2  2  2 |  0  0\n",
      " 9  +6.361e-04  -5.810e-03  +2e+02  6e-04  5e-04  6e-04  1e-01  0.6254  4e-01   2  2  2 |  0  0\n"
     ]
    },
    {
     "name": "stdout",
     "output_type": "stream",
     "text": [
      " 6  +4.257e-03  -3.236e-02  +4e+02  5e-03  1e-02  5e-03  4e-01  0.2814  5e-01   2  2  2 |  0  0\n",
      " 7  +2.188e-03  -1.245e-02  +3e+02  2e-03  2e-03  2e-03  2e-01  0.4733  2e-01   1  2  2 |  0  0\n"
     ]
    },
    {
     "name": "stdout",
     "output_type": "stream",
     "text": [
      " 4  +7.028e-03  -5.413e-02  +5e+02  8e-03  4e-02  8e-03  4e-01  0.1957  5e-01   1  1  1 |  0  0\n",
      " 5  +5.910e-03  -5.109e-02  +5e+02  8e-03  3e-02  8e-03  4e-01  0.0444  7e-01   1  2  2 |  0  0\n"
     ]
    },
    {
     "name": "stdout",
     "output_type": "stream",
     "text": [
      " 2  +1.812e-02  -1.167e-01  +6e+02  2e-02  1e-01  1e-02  5e-01  0.0793  7e-01   1  1  1 |  0  0\n",
      " 3  +1.564e-02  -1.021e-01  +6e+02  2e-02  9e-02  1e-02  5e-01  0.0439  8e-01   1  2  2 |  0  0\n"
     ]
    },
    {
     "name": "stdout",
     "output_type": "stream",
     "text": [
      "\n",
      "It     pcost       dcost      gap   pres   dres    k/t    mu     step   sigma     IR    |   BT\n",
      " 0  -8.619e-03  -4.684e+00  +1e+03  9e-01  2e+00  1e+00  1e+00    ---    ---    1  1  - |  -  - \n",
      " 1  +1.836e-01  -7.438e-01  +6e+02  1e-01  7e-01  3e-02  5e-01  0.6131  1e-01   1  1  1 |  0  0\n"
     ]
    },
    {
     "name": "stdout",
     "output_type": "stream",
     "text": [
      "30  -1.080e-02  -1.080e-02  +8e-09  1e-13  9e-11  2e-13  7e-12  0.9890  1e-04   1  0  0 |  0  0\n",
      "\n",
      "OPTIMAL (within feastol=8.7e-11, reltol=7.6e-07, abstol=8.2e-09).\n",
      "Runtime: 2.951408 seconds.\n",
      "\n",
      "\n",
      "ECOS 2.0.4 - (C) embotech GmbH, Zurich Switzerland, 2012-15. Web: www.embotech.com/ECOS\n"
     ]
    },
    {
     "name": "stdout",
     "output_type": "stream",
     "text": [
      "28  -1.080e-02  -1.080e-02  +6e-05  1e-09  6e-07  1e-09  5e-08  0.9585  1e-02   0  0  0 |  0  0\n",
      "29  -1.080e-02  -1.080e-02  +7e-07  1e-11  8e-09  2e-11  6e-10  0.9875  1e-04   1  0  0 |  0  0\n"
     ]
    },
    {
     "name": "stdout",
     "output_type": "stream",
     "text": [
      "26  -1.077e-02  -1.077e-02  +4e-03  5e-08  3e-05  3e-08  3e-06  0.0495  9e-01   0  0  1 |  0  0\n",
      "27  -1.079e-02  -1.079e-02  +1e-03  2e-08  1e-05  2e-08  9e-07  0.8958  2e-01   0  0  0 |  0  0\n"
     ]
    },
    {
     "name": "stdout",
     "output_type": "stream",
     "text": [
      "24  -1.075e-02  -1.076e-02  +9e-03  8e-08  4e-05  6e-08  7e-06  0.4597  5e-01   0  0  0 |  0  0\n",
      "25  -1.076e-02  -1.076e-02  +4e-03  7e-08  4e-05  8e-08  3e-06  0.6184  2e-01   0  0  0 |  0  0\n"
     ]
    },
    {
     "name": "stdout",
     "output_type": "stream",
     "text": [
      "22  -1.070e-02  -1.072e-02  +5e-02  3e-07  1e-04  1e-07  4e-05  0.5579  3e-01   0  0  0 |  0  0\n",
      "23  -1.076e-02  -1.076e-02  +1e-02  8e-08  4e-05  4e-08  9e-06  0.7868  2e-02   0  0  0 |  0  0\n"
     ]
    },
    {
     "name": "stdout",
     "output_type": "stream",
     "text": [
      "20  -1.064e-02  -1.067e-02  +1e-01  6e-07  3e-04  2e-07  8e-05  0.3271  2e-01   0  0  0 |  0  0\n",
      "21  -1.067e-02  -1.069e-02  +8e-02  4e-07  2e-04  2e-07  6e-05  0.5674  6e-01   0  0  0 |  0  0\n"
     ]
    },
    {
     "name": "stdout",
     "output_type": "stream",
     "text": [
      "18  -1.059e-02  -1.063e-02  +1e-01  8e-07  4e-04  2e-07  1e-04  0.3467  2e-01   0  0  0 |  0  0\n",
      "19  -1.062e-02  -1.065e-02  +1e-01  7e-07  3e-04  2e-07  1e-04  0.5569  8e-01   0  0  0 |  0  0\n"
     ]
    },
    {
     "name": "stdout",
     "output_type": "stream",
     "text": [
      "16  -1.048e-02  -1.055e-02  +4e-01  2e-06  6e-04  2e-07  3e-04  0.9890  4e-01   0  0  0 |  0  0\n",
      "17  -1.057e-02  -1.062e-02  +2e-01  9e-07  4e-04  2e-07  2e-04  0.5288  7e-02   0  0  0 |  0  0\n"
     ]
    },
    {
     "name": "stdout",
     "output_type": "stream",
     "text": [
      "14  -1.020e-02  -1.040e-02  +1e+00  4e-06  1e-03  1e-05  1e-03  0.5050  3e-01   0  0  0 |  0  0\n",
      "15  -1.030e-02  -1.045e-02  +9e-01  3e-06  1e-03  5e-06  7e-04  0.4915  4e-01   0  0  0 |  0  0\n"
     ]
    },
    {
     "name": "stdout",
     "output_type": "stream",
     "text": [
      "12  -9.875e-03  -1.025e-02  +3e+00  8e-06  2e-03  3e-05  3e-03  0.4579  4e-01   0  0  0 |  0  0\n",
      "13  -1.007e-02  -1.033e-02  +2e+00  6e-06  2e-03  2e-05  2e-03  0.5754  3e-01   0  0  0 |  0  0\n"
     ]
    },
    {
     "name": "stdout",
     "output_type": "stream",
     "text": [
      "10  -9.599e-03  -1.017e-02  +7e+00  1e-05  3e-03  6e-05  6e-03  0.5402  3e-01   0  0  0 |  0  0\n",
      "11  -9.764e-03  -1.022e-02  +5e+00  1e-05  3e-03  5e-05  4e-03  0.4060  2e-01   0  0  0 |  0  0\n"
     ]
    },
    {
     "name": "stdout",
     "output_type": "stream",
     "text": [
      " 8  -9.215e-03  -1.010e-02  +2e+01  2e-05  4e-03  1e-04  1e-02  0.5274  2e-01   0  0  0 |  0  0\n",
      " 9  -9.400e-03  -1.012e-02  +1e+01  2e-05  3e-03  1e-04  9e-03  0.4309  2e-01   0  0  0 |  0  0\n"
     ]
    },
    {
     "name": "stdout",
     "output_type": "stream",
     "text": [
      " 6  -8.701e-03  -1.032e-02  +4e+01  4e-05  4e-03  3e-04  4e-02  0.5850  1e-01   0  0  0 |  0  0\n",
      " 7  -8.963e-03  -1.017e-02  +3e+01  3e-05  4e-03  2e-04  2e-02  0.5520  3e-01   0  0  0 |  0  0\n"
     ]
    },
    {
     "name": "stdout",
     "output_type": "stream",
     "text": [
      " 4  -7.247e-03  -1.361e-02  +2e+02  2e-04  1e-02  9e-04  2e-01  0.3214  6e-01   0  1  0 |  0  0\n",
      " 5  -8.226e-03  -1.114e-02  +9e+01  7e-05  6e-03  4e-04  8e-02  0.5733  1e-01   0  0  1 |  0  0\n"
     ]
    },
    {
     "name": "stdout",
     "output_type": "stream",
     "text": [
      " 2  -6.180e-03  -3.439e-02  +6e+02  2e-03  3e-02  8e-03  5e-01  0.0786  9e-01   0  0  1 |  0  0\n",
      " 3  -6.915e-03  -1.360e-02  +2e+02  2e-04  1e-02  1e-03  2e-01  0.7776  2e-01   0  0  1 |  0  0\n"
     ]
    },
    {
     "name": "stdout",
     "output_type": "stream",
     "text": [
      "\n",
      "ECOS 2.0.4 - (C) embotech GmbH, Zurich Switzerland, 2012-15. Web: www.embotech.com/ECOS\n",
      "\n",
      "It     pcost       dcost      gap   pres   dres    k/t    mu     step   sigma     IR    |   BT\n",
      " 0  -8.917e-03  -4.364e+00  +1e+03  9e-01  2e+00  1e+00  1e+00    ---    ---    1  1  - |  -  - \n",
      " 1  +1.808e-01  -8.330e-01  +6e+02  1e-01  9e-01  4e-03  5e-01  0.5722  1e-01   0  0  0 |  0  0\n"
     ]
    },
    {
     "name": "stderr",
     "output_type": "stream",
     "text": [
      "/Users/TBM/Recherche/Memoire/Data/process_data.py:91: SettingWithCopyWarning: \n",
      "A value is trying to be set on a copy of a slice from a DataFrame.\n",
      "Try using .loc[row_indexer,col_indexer] = value instead\n",
      "\n",
      "See the caveats in the documentation: http://pandas.pydata.org/pandas-docs/stable/indexing.html#indexing-view-versus-copy\n",
      "  test['d2v'] = scaler.transform(test['d2v'].values)\n",
      "/Users/TBM/Recherche/Memoire/Data/process_data.py:92: SettingWithCopyWarning: \n",
      "A value is trying to be set on a copy of a slice from a DataFrame.\n",
      "Try using .loc[row_indexer,col_indexer] = value instead\n",
      "\n",
      "See the caveats in the documentation: http://pandas.pydata.org/pandas-docs/stable/indexing.html#indexing-view-versus-copy\n",
      "  train[('d2v','bias')] = np.ones(len(train))\n"
     ]
    },
    {
     "name": "stderr",
     "output_type": "stream",
     "text": [
      "/Users/TBM/Recherche/Memoire/Data/process_data.py:89: SettingWithCopyWarning: \n",
      "A value is trying to be set on a copy of a slice from a DataFrame.\n",
      "Try using .loc[row_indexer,col_indexer] = value instead\n",
      "\n",
      "See the caveats in the documentation: http://pandas.pydata.org/pandas-docs/stable/indexing.html#indexing-view-versus-copy\n",
      "  train_d2v = scaler.transform(train_d2v)\n",
      "/Users/TBM/Recherche/Memoire/Data/process_data.py:90: SettingWithCopyWarning: \n",
      "A value is trying to be set on a copy of a slice from a DataFrame.\n",
      "Try using .loc[row_indexer,col_indexer] = value instead\n",
      "\n",
      "See the caveats in the documentation: http://pandas.pydata.org/pandas-docs/stable/indexing.html#indexing-view-versus-copy\n",
      "  train['d2v'] = train_d2v\n"
     ]
    }
   ],
   "source": [
    "rez = cross_validate(samples);"
   ]
  },
  {
   "cell_type": "code",
   "execution_count": 43,
   "metadata": {
    "autoscroll": "json-false",
    "collapsed": false,
    "ein.tags": [
     "worksheet-0"
    ],
    "slideshow": {
     "slide_type": "-"
    }
   },
   "outputs": [
    {
     "data": {
      "image/png": "[encoded data removed]",
      "text/plain": [
       "<matplotlib.figure.Figure at 0x11416aa20>"
      ]
     },
     "metadata": {},
     "output_type": "display_data"
    }
   ],
   "source": [
    "ls = np.linspace(0,0.1,10)[1:]\n",
    "plt.plot(ls,rez[1:])\n",
    "plt.axis(xmin=min(ls),xmax=max(ls));\n",
    "plt.xlabel('$\\lambda$');\n",
    "plt.ylabel('Returns (\\%)');\n",
    "plt.legend(['In-sample','Out-of-sample']);\n",
    "plt.title('Linear Utility with $\\\\beta=90\\\\%$');\n"
   ]
  },
  {
   "cell_type": "code",
   "execution_count": 41,
   "metadata": {
    "autoscroll": "json-false",
    "collapsed": false,
    "ein.tags": [
     "worksheet-0"
    ],
    "slideshow": {
     "slide_type": "-"
    }
   },
   "outputs": [
    {
     "data": {
      "text/plain": [
       "[(0.011995850096824624, -1.0229414475115381),\n",
       " (0.0012776023958271348, -0.00032933638404132674),\n",
       " (0.00068462685875412741, -0.00016960621949151892),\n",
       " (0.0004612052273553275, -0.00011347292056925841),\n",
       " (0.00034590392016197423, -8.5104726037244679e-05),\n",
       " (0.00027672313566103545, -6.8083747776593337e-05),\n",
       " (0.0002306026141970505, -5.6736481705196829e-05),\n",
       " (0.00019765936827440166, -4.8631244469156022e-05),\n",
       " (0.00017295194687165047, -4.2552353052113967e-05),\n",
       " (0.00015373507573878209, -3.7824324542581661e-05)]"
      ]
     },
     "execution_count": 41,
     "metadata": {},
     "output_type": "execute_result"
    }
   ],
   "source": [
    "rez"
   ]
  }
 ],
 "metadata": {
  "kernelspec": {
   "display_name": "Python 3",
   "name": "python3"
  },
  "name": "data_processor.ipynb"
 },
 "nbformat": 4,
 "nbformat_minor": 0
}
