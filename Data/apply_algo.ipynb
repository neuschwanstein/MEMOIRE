{
 "cells": [
  {
   "cell_type": "code",
   "execution_count": 1,
   "metadata": {
    "autoscroll": "json-false",
    "collapsed": false,
    "ein.tags": [
     "worksheet-0"
    ]
   },
   "outputs": [],
   "source": [
    "%matplotlib inline\n",
    "%load_ext autoreload\n",
    "%autoreload 2"
   ]
  },
  {
   "cell_type": "code",
   "execution_count": 2,
   "metadata": {
    "autoscroll": "json-false",
    "collapsed": false,
    "ein.tags": [
     "worksheet-0"
    ]
   },
   "outputs": [],
   "source": [
    "from collections import namedtuple\n",
    "from random import shuffle\n",
    "from itertools import groupby\n",
    "import datetime as dt"
   ]
  },
  {
   "cell_type": "code",
   "execution_count": 3,
   "metadata": {
    "autoscroll": "json-false",
    "collapsed": false,
    "ein.tags": [
     "worksheet-0"
    ]
   },
   "outputs": [],
   "source": [
    "import gensim.models.doc2vec as d2v\n",
    "import numpy as np\n",
    "import cvxpy as cvx"
   ]
  },
  {
   "cell_type": "code",
   "execution_count": 4,
   "metadata": {
    "autoscroll": "json-false",
    "collapsed": false,
    "ein.tags": [
     "worksheet-0"
    ]
   },
   "outputs": [],
   "source": [
    "from articles import Articles\n",
    "from helper.collections import Namedtuples\n",
    "import model.utility as ut\n",
    "import model.problem as pr\n",
    "from sp500 import get_sp500_records"
   ]
  },
  {
   "cell_type": "code",
   "execution_count": 15,
   "metadata": {
    "autoscroll": "json-false",
    "collapsed": false,
    "ein.tags": [
     "worksheet-0"
    ]
   },
   "outputs": [],
   "source": [
    "# Fetch articles from db, then fetch sp500 records corresponding to the articles dates.\n",
    "# Weed out articles out of business hours.\n",
    "articles = list(Articles(['id','date']))\n",
    "articles = Namedtuples(articles)\n",
    "articles = sorted(articles,key=lambda a: a.date)\n",
    "sp500 = get_sp500_records(beg_date=articles[0].date,end_date=articles[-1].date)\n",
    "articles = [a for a in articles if a.date >= sp500[0].beg_date and a.date < sp500[-1].end_date]"
   ]
  },
  {
   "cell_type": "code",
   "execution_count": 16,
   "metadata": {
    "autoscroll": "json-false",
    "collapsed": false,
    "ein.tags": [
     "worksheet-0"
    ]
   },
   "outputs": [],
   "source": [
    "model = d2v.Doc2Vec.load('300model')"
   ]
  },
  {
   "cell_type": "code",
   "execution_count": 30,
   "metadata": {
    "autoscroll": "json-false",
    "collapsed": false,
    "ein.tags": [
     "worksheet-0"
    ]
   },
   "outputs": [
    {
     "data": {
      "text/plain": [
       "datetime.datetime(2014, 1, 2, 16, 0, 0, 1, tzinfo=<DstTzInfo 'America/New_York' LMT-1 day, 19:04:00 STD>)"
      ]
     },
     "execution_count": 30,
     "metadata": {},
     "output_type": "execute_result"
    }
   ],
   "source": [
    "sp500[0]._asdict()['beg_date']"
   ]
  },
  {
   "cell_type": "code",
   "execution_count": 31,
   "metadata": {
    "autoscroll": "json-false",
    "collapsed": false,
    "ein.tags": [
     "worksheet-0"
    ]
   },
   "outputs": [],
   "source": [
    "Sample = namedtuple('Sample',['beg_date','end_date','data','logreturn'])\n",
    "def create_sample(record):\n",
    "    articles_that_day = [a for a in articles if\n",
    "                         a.date >= record.beg_date and a.date <= record.end_date]\n",
    "    ids = [str(a.id) for a in articles_that_day]\n",
    "    data = np.mean(model.docvecs[ids],axis=0)\n",
    "    return Sample(data=data,**record._asdict())\n",
    "samples = [create_sample(record) for record in sp500]"
   ]
  },
  {
   "cell_type": "code",
   "execution_count": 17,
   "metadata": {
    "autoscroll": "json-false",
    "collapsed": false,
    "ein.tags": [
     "worksheet-0"
    ]
   },
   "outputs": [],
   "source": [
    "Sample = namedtuple('Sample',['date','data','logreturn'])\n",
    "\n",
    "def match(record,article_date):\n",
    "    return article_date > record.beg_date and article_date <= record.end_date\n",
    "\n",
    "def group_date(article_date):\n",
    "    if article_date.time\n",
    "\n",
    "def create_sample(date,daily_articles):\n",
    "    ids = [str(a.id) for a in daily_articles]\n",
    "    data = np.mean(model.docvecs[ids],axis=0)                                     # Aggregate method.\n",
    "    # logreturn = next(record.logreturn for record in sp500 if record.date >= date) # sp500 already sorted!\n",
    "    logreturn = next(record.logreturn for record in sp500 if match(record,date))\n",
    "    return Sample(date=date,data=data,logreturn=logreturn)\n",
    "\n",
    "samples = Namedtuples([create_sample(*grp) for grp in groupby(articles,key=lambda article: article.date)])\n",
    "# shuffle(samples)\n"
   ]
  },
  {
   "cell_type": "code",
   "execution_count": 105,
   "metadata": {
    "autoscroll": "json-false",
    "collapsed": false,
    "ein.tags": [
     "worksheet-0"
    ]
   },
   "outputs": [],
   "source": [
    "train_size = int(0.8 * len(samples))\n",
    "train_samples = samples[:train_size]\n",
    "test_samples = samples[train_size:]"
   ]
  },
  {
   "cell_type": "markdown",
   "metadata": {
    "ein.tags": [
     "worksheet-0"
    ]
   },
   "source": [
    "From this point on we want to compute the $\\hat q$ for our problem, and see how it compares with a test set. "
   ]
  },
  {
   "cell_type": "code",
   "execution_count": 106,
   "metadata": {
    "autoscroll": "json-false",
    "collapsed": false,
    "ein.tags": [
     "worksheet-0"
    ]
   },
   "outputs": [],
   "source": [
    "β = 1\n",
    "r_threshold = 60\n",
    "u = ut.LinearPlateauUtility(β,r_threshold)"
   ]
  },
  {
   "cell_type": "code",
   "execution_count": 128,
   "metadata": {
    "autoscroll": "json-false",
    "collapsed": false,
    "ein.tags": [
     "worksheet-0"
    ]
   },
   "outputs": [],
   "source": [
    "def add_bias(X):\n",
    "    n,p = X.shape\n",
    "    bias = np.ones(n)\n",
    "    res = np.empty(shape=(n,p+1))\n",
    "    res[:,1:] = X\n",
    "    res[:,0] = bias\n",
    "    return res\n",
    "\n",
    "x = add_bias(np.array(train_samples.datas))\n",
    "r = np.array(train_samples.logreturns)\n",
    "\n",
    "x_test = add_bias(np.array(test_samples.datas))\n",
    "r_test = np.array(test_samples.logreturns)"
   ]
  },
  {
   "cell_type": "code",
   "execution_count": 0,
   "metadata": {
    "autoscroll": "json-false",
    "collapsed": false,
    "ein.tags": [
     "worksheet-0"
    ]
   },
   "outputs": [],
   "source": [
    "2+3"
   ]
  },
  {
   "cell_type": "code",
   "execution_count": 138,
   "metadata": {
    "autoscroll": "json-false",
    "collapsed": false,
    "ein.tags": [
     "worksheet-0"
    ]
   },
   "outputs": [
    {
     "ename": "KeyboardInterrupt",
     "evalue": "",
     "output_type": "error",
     "traceback": [
      "\u001b[0;31m---------------------------------------------------------------------------\u001b[0m",
      "\u001b[0;31mKeyboardInterrupt\u001b[0m                         Traceback (most recent call last)",
      "\u001b[0;32m<ipython-input-138-df4ed607f9c2>\u001b[0m in \u001b[0;36m<module>\u001b[0;34m()\u001b[0m\n\u001b[1;32m      1\u001b[0m \u001b[0mproblem\u001b[0m \u001b[0;34m=\u001b[0m \u001b[0mpr\u001b[0m\u001b[0;34m.\u001b[0m\u001b[0mProblem\u001b[0m\u001b[0;34m(\u001b[0m\u001b[0mx\u001b[0m\u001b[0;34m,\u001b[0m\u001b[0mr\u001b[0m\u001b[0;34m,\u001b[0m\u001b[0mλ\u001b[0m\u001b[0;34m=\u001b[0m\u001b[0;36m1\u001b[0m\u001b[0;34m,\u001b[0m\u001b[0mu\u001b[0m\u001b[0;34m=\u001b[0m\u001b[0mu\u001b[0m\u001b[0;34m)\u001b[0m\u001b[0;34m\u001b[0m\u001b[0m\n\u001b[1;32m      2\u001b[0m \u001b[0mproblem\u001b[0m\u001b[0;34m.\u001b[0m\u001b[0msolver\u001b[0m \u001b[0;34m=\u001b[0m \u001b[0mcvx\u001b[0m\u001b[0;34m.\u001b[0m\u001b[0mCVXOPT\u001b[0m\u001b[0;34m\u001b[0m\u001b[0m\n\u001b[0;32m----> 3\u001b[0;31m \u001b[0mproblem\u001b[0m\u001b[0;34m.\u001b[0m\u001b[0msolve\u001b[0m\u001b[0;34m(\u001b[0m\u001b[0;34m)\u001b[0m\u001b[0;34m\u001b[0m\u001b[0m\n\u001b[0m",
      "\u001b[0;32m/Users/TBM/Recherche/Memoire/Model/model/problem.py\u001b[0m in \u001b[0;36msolve\u001b[0;34m(self)\u001b[0m\n\u001b[1;32m    254\u001b[0m         \u001b[0mq\u001b[0m \u001b[0;34m=\u001b[0m \u001b[0mcvx\u001b[0m\u001b[0;34m.\u001b[0m\u001b[0mVariable\u001b[0m\u001b[0;34m(\u001b[0m\u001b[0mself\u001b[0m\u001b[0;34m.\u001b[0m\u001b[0mp\u001b[0m\u001b[0;34m)\u001b[0m\u001b[0;34m\u001b[0m\u001b[0m\n\u001b[1;32m    255\u001b[0m         \u001b[0mobjective\u001b[0m \u001b[0;34m=\u001b[0m \u001b[0mcvx\u001b[0m\u001b[0;34m.\u001b[0m\u001b[0mMinimize\u001b[0m\u001b[0;34m(\u001b[0m\u001b[0mtotal_cost\u001b[0m\u001b[0;34m(\u001b[0m\u001b[0mq\u001b[0m\u001b[0;34m)\u001b[0m\u001b[0;34m)\u001b[0m\u001b[0;34m\u001b[0m\u001b[0m\n\u001b[0;32m--> 256\u001b[0;31m         \u001b[0mproblem\u001b[0m \u001b[0;34m=\u001b[0m \u001b[0mcvx\u001b[0m\u001b[0;34m.\u001b[0m\u001b[0mProblem\u001b[0m\u001b[0;34m(\u001b[0m\u001b[0mobjective\u001b[0m\u001b[0;34m)\u001b[0m\u001b[0;34m\u001b[0m\u001b[0m\n\u001b[0m\u001b[1;32m    257\u001b[0m         \u001b[0mproblem\u001b[0m\u001b[0;34m.\u001b[0m\u001b[0msolve\u001b[0m\u001b[0;34m(\u001b[0m\u001b[0msolver\u001b[0m\u001b[0;34m=\u001b[0m\u001b[0mself\u001b[0m\u001b[0;34m.\u001b[0m\u001b[0msolver\u001b[0m\u001b[0;34m,\u001b[0m\u001b[0mverbose\u001b[0m\u001b[0;34m=\u001b[0m\u001b[0mself\u001b[0m\u001b[0;34m.\u001b[0m\u001b[0mverbose\u001b[0m\u001b[0;34m)\u001b[0m\u001b[0;34m\u001b[0m\u001b[0m\n\u001b[1;32m    258\u001b[0m \u001b[0;34m\u001b[0m\u001b[0m\n",
      "\u001b[0;32m/usr/local/lib/python3.5/site-packages/cvxpy-0.3.5-py3.5.egg/cvxpy/problems/problem.py\u001b[0m in \u001b[0;36msolve\u001b[0;34m(self, *args, **kwargs)\u001b[0m\n\u001b[1;32m    171\u001b[0m             \u001b[0;32mreturn\u001b[0m \u001b[0mfunc\u001b[0m\u001b[0;34m(\u001b[0m\u001b[0mself\u001b[0m\u001b[0;34m,\u001b[0m \u001b[0;34m*\u001b[0m\u001b[0margs\u001b[0m\u001b[0;34m,\u001b[0m \u001b[0;34m**\u001b[0m\u001b[0mkwargs\u001b[0m\u001b[0;34m)\u001b[0m\u001b[0;34m\u001b[0m\u001b[0m\n\u001b[1;32m    172\u001b[0m         \u001b[0;32melse\u001b[0m\u001b[0;34m:\u001b[0m\u001b[0;34m\u001b[0m\u001b[0m\n\u001b[0;32m--> 173\u001b[0;31m             \u001b[0;32mreturn\u001b[0m \u001b[0mself\u001b[0m\u001b[0;34m.\u001b[0m\u001b[0m_solve\u001b[0m\u001b[0;34m(\u001b[0m\u001b[0;34m*\u001b[0m\u001b[0margs\u001b[0m\u001b[0;34m,\u001b[0m \u001b[0;34m**\u001b[0m\u001b[0mkwargs\u001b[0m\u001b[0;34m)\u001b[0m\u001b[0;34m\u001b[0m\u001b[0m\n\u001b[0m\u001b[1;32m    174\u001b[0m \u001b[0;34m\u001b[0m\u001b[0m\n\u001b[1;32m    175\u001b[0m     \u001b[0;34m@\u001b[0m\u001b[0mclassmethod\u001b[0m\u001b[0;34m\u001b[0m\u001b[0m\n",
      "\u001b[0;32m/usr/local/lib/python3.5/site-packages/cvxpy-0.3.5-py3.5.egg/cvxpy/problems/problem.py\u001b[0m in \u001b[0;36m_solve\u001b[0;34m(self, solver, ignore_dcp, warm_start, verbose, parallel, **kwargs)\u001b[0m\n\u001b[1;32m    277\u001b[0m             results_dict = solver.solve(objective, constraints,\n\u001b[1;32m    278\u001b[0m                                         \u001b[0mself\u001b[0m\u001b[0;34m.\u001b[0m\u001b[0m_cached_data\u001b[0m\u001b[0;34m,\u001b[0m \u001b[0mwarm_start\u001b[0m\u001b[0;34m,\u001b[0m \u001b[0mverbose\u001b[0m\u001b[0;34m,\u001b[0m\u001b[0;34m\u001b[0m\u001b[0m\n\u001b[0;32m--> 279\u001b[0;31m                                         kwargs)\n\u001b[0m\u001b[1;32m    280\u001b[0m         \u001b[0;31m# Presolve determined problem was unbounded or infeasible.\u001b[0m\u001b[0;34m\u001b[0m\u001b[0;34m\u001b[0m\u001b[0m\n\u001b[1;32m    281\u001b[0m         \u001b[0;32melse\u001b[0m\u001b[0;34m:\u001b[0m\u001b[0;34m\u001b[0m\u001b[0m\n",
      "\u001b[0;32m/usr/local/lib/python3.5/site-packages/cvxpy-0.3.5-py3.5.egg/cvxpy/problems/solvers/cvxopt_intf.py\u001b[0m in \u001b[0;36msolve\u001b[0;34m(self, objective, constraints, cached_data, warm_start, verbose, solver_opts)\u001b[0m\n\u001b[1;32m    105\u001b[0m         \"\"\"\n\u001b[1;32m    106\u001b[0m         \u001b[0;32mimport\u001b[0m \u001b[0mcvxopt\u001b[0m\u001b[0;34m,\u001b[0m \u001b[0mcvxopt\u001b[0m\u001b[0;34m.\u001b[0m\u001b[0msolvers\u001b[0m\u001b[0;34m\u001b[0m\u001b[0m\n\u001b[0;32m--> 107\u001b[0;31m         \u001b[0mdata\u001b[0m \u001b[0;34m=\u001b[0m \u001b[0mself\u001b[0m\u001b[0;34m.\u001b[0m\u001b[0mget_problem_data\u001b[0m\u001b[0;34m(\u001b[0m\u001b[0mobjective\u001b[0m\u001b[0;34m,\u001b[0m \u001b[0mconstraints\u001b[0m\u001b[0;34m,\u001b[0m \u001b[0mcached_data\u001b[0m\u001b[0;34m)\u001b[0m\u001b[0;34m\u001b[0m\u001b[0m\n\u001b[0m\u001b[1;32m    108\u001b[0m         \u001b[0;31m# Save old data in case need to use robust solver.\u001b[0m\u001b[0;34m\u001b[0m\u001b[0;34m\u001b[0m\u001b[0m\n\u001b[1;32m    109\u001b[0m         old_data = {\n",
      "\u001b[0;32m/usr/local/lib/python3.5/site-packages/cvxpy-0.3.5-py3.5.egg/cvxpy/problems/solvers/solver.py\u001b[0m in \u001b[0;36mget_problem_data\u001b[0;34m(self, objective, constraints, cached_data)\u001b[0m\n\u001b[1;32m    221\u001b[0m         \u001b[0mdata\u001b[0m\u001b[0;34m[\u001b[0m\u001b[0ms\u001b[0m\u001b[0;34m.\u001b[0m\u001b[0mC\u001b[0m\u001b[0;34m]\u001b[0m\u001b[0;34m,\u001b[0m \u001b[0mdata\u001b[0m\u001b[0;34m[\u001b[0m\u001b[0ms\u001b[0m\u001b[0;34m.\u001b[0m\u001b[0mOFFSET\u001b[0m\u001b[0;34m]\u001b[0m \u001b[0;34m=\u001b[0m \u001b[0mmatrix_data\u001b[0m\u001b[0;34m.\u001b[0m\u001b[0mget_objective\u001b[0m\u001b[0;34m(\u001b[0m\u001b[0;34m)\u001b[0m\u001b[0;34m\u001b[0m\u001b[0m\n\u001b[1;32m    222\u001b[0m         \u001b[0mdata\u001b[0m\u001b[0;34m[\u001b[0m\u001b[0ms\u001b[0m\u001b[0;34m.\u001b[0m\u001b[0mA\u001b[0m\u001b[0;34m]\u001b[0m\u001b[0;34m,\u001b[0m \u001b[0mdata\u001b[0m\u001b[0;34m[\u001b[0m\u001b[0ms\u001b[0m\u001b[0;34m.\u001b[0m\u001b[0mB\u001b[0m\u001b[0;34m]\u001b[0m \u001b[0;34m=\u001b[0m \u001b[0mmatrix_data\u001b[0m\u001b[0;34m.\u001b[0m\u001b[0mget_eq_constr\u001b[0m\u001b[0;34m(\u001b[0m\u001b[0;34m)\u001b[0m\u001b[0;34m\u001b[0m\u001b[0m\n\u001b[0;32m--> 223\u001b[0;31m         \u001b[0mdata\u001b[0m\u001b[0;34m[\u001b[0m\u001b[0ms\u001b[0m\u001b[0;34m.\u001b[0m\u001b[0mG\u001b[0m\u001b[0;34m]\u001b[0m\u001b[0;34m,\u001b[0m \u001b[0mdata\u001b[0m\u001b[0;34m[\u001b[0m\u001b[0ms\u001b[0m\u001b[0;34m.\u001b[0m\u001b[0mH\u001b[0m\u001b[0;34m]\u001b[0m \u001b[0;34m=\u001b[0m \u001b[0mmatrix_data\u001b[0m\u001b[0;34m.\u001b[0m\u001b[0mget_ineq_constr\u001b[0m\u001b[0;34m(\u001b[0m\u001b[0;34m)\u001b[0m\u001b[0;34m\u001b[0m\u001b[0m\n\u001b[0m\u001b[1;32m    224\u001b[0m         \u001b[0mdata\u001b[0m\u001b[0;34m[\u001b[0m\u001b[0ms\u001b[0m\u001b[0;34m.\u001b[0m\u001b[0mF\u001b[0m\u001b[0;34m]\u001b[0m \u001b[0;34m=\u001b[0m \u001b[0mmatrix_data\u001b[0m\u001b[0;34m.\u001b[0m\u001b[0mget_nonlin_constr\u001b[0m\u001b[0;34m(\u001b[0m\u001b[0;34m)\u001b[0m\u001b[0;34m\u001b[0m\u001b[0m\n\u001b[1;32m    225\u001b[0m         \u001b[0mdata\u001b[0m\u001b[0;34m[\u001b[0m\u001b[0ms\u001b[0m\u001b[0;34m.\u001b[0m\u001b[0mDIMS\u001b[0m\u001b[0;34m]\u001b[0m \u001b[0;34m=\u001b[0m \u001b[0msym_data\u001b[0m\u001b[0;34m.\u001b[0m\u001b[0mdims\u001b[0m\u001b[0;34m.\u001b[0m\u001b[0mcopy\u001b[0m\u001b[0;34m(\u001b[0m\u001b[0;34m)\u001b[0m\u001b[0;34m\u001b[0m\u001b[0m\n",
      "\u001b[0;32m/usr/local/lib/python3.5/site-packages/cvxpy-0.3.5-py3.5.egg/cvxpy/problems/problem_data/matrix_data.py\u001b[0m in \u001b[0;36mget_ineq_constr\u001b[0;34m(self)\u001b[0m\n\u001b[1;32m    115\u001b[0m         \"\"\"Returns the matrix and vector for the inequality constraint.\n\u001b[1;32m    116\u001b[0m         \"\"\"\n\u001b[0;32m--> 117\u001b[0;31m         \u001b[0;32mreturn\u001b[0m \u001b[0mself\u001b[0m\u001b[0;34m.\u001b[0m\u001b[0m_cache_to_matrix\u001b[0m\u001b[0;34m(\u001b[0m\u001b[0mself\u001b[0m\u001b[0;34m.\u001b[0m\u001b[0mineq_cache\u001b[0m\u001b[0;34m)\u001b[0m\u001b[0;34m\u001b[0m\u001b[0m\n\u001b[0m\u001b[1;32m    118\u001b[0m \u001b[0;34m\u001b[0m\u001b[0m\n\u001b[1;32m    119\u001b[0m     \u001b[0;32mdef\u001b[0m \u001b[0mget_nonlin_constr\u001b[0m\u001b[0;34m(\u001b[0m\u001b[0mself\u001b[0m\u001b[0;34m)\u001b[0m\u001b[0;34m:\u001b[0m\u001b[0;34m\u001b[0m\u001b[0m\n",
      "\u001b[0;32m/usr/local/lib/python3.5/site-packages/cvxpy-0.3.5-py3.5.egg/cvxpy/problems/problem_data/matrix_data.py\u001b[0m in \u001b[0;36m_cache_to_matrix\u001b[0;34m(self, mat_cache)\u001b[0m\n\u001b[1;32m    210\u001b[0m             \u001b[0;31m# Convert the constraints matrix to the correct type.\u001b[0m\u001b[0;34m\u001b[0m\u001b[0;34m\u001b[0m\u001b[0m\n\u001b[1;32m    211\u001b[0m             matrix = self.matrix_intf.const_to_matrix(matrix,\n\u001b[0;32m--> 212\u001b[0;31m                                                       convert_scalars=True)\n\u001b[0m\u001b[1;32m    213\u001b[0m         \u001b[0;32melse\u001b[0m\u001b[0;34m:\u001b[0m \u001b[0;31m# Empty matrix.\u001b[0m\u001b[0;34m\u001b[0m\u001b[0m\n\u001b[1;32m    214\u001b[0m             \u001b[0mmatrix\u001b[0m \u001b[0;34m=\u001b[0m \u001b[0mself\u001b[0m\u001b[0;34m.\u001b[0m\u001b[0mmatrix_intf\u001b[0m\u001b[0;34m.\u001b[0m\u001b[0mzeros\u001b[0m\u001b[0;34m(\u001b[0m\u001b[0mrows\u001b[0m\u001b[0;34m,\u001b[0m \u001b[0mcols\u001b[0m\u001b[0;34m)\u001b[0m\u001b[0;34m\u001b[0m\u001b[0m\n",
      "\u001b[0;32m/usr/local/lib/python3.5/site-packages/cvxpy-0.3.5-py3.5.egg/cvxpy/interface/base_matrix_interface.py\u001b[0m in \u001b[0;36mnew_converter\u001b[0;34m(self, value, convert_scalars)\u001b[0m\n\u001b[1;32m     49\u001b[0m                 \u001b[0;32mreturn\u001b[0m \u001b[0mcvxpy\u001b[0m\u001b[0;34m.\u001b[0m\u001b[0minterface\u001b[0m\u001b[0;34m.\u001b[0m\u001b[0mmatrix_utilities\u001b[0m\u001b[0;34m.\u001b[0m\u001b[0mscalar_value\u001b[0m\u001b[0;34m(\u001b[0m\u001b[0mvalue\u001b[0m\u001b[0;34m)\u001b[0m\u001b[0;34m\u001b[0m\u001b[0m\n\u001b[1;32m     50\u001b[0m             \u001b[0;32melse\u001b[0m\u001b[0;34m:\u001b[0m\u001b[0;34m\u001b[0m\u001b[0m\n\u001b[0;32m---> 51\u001b[0;31m                 \u001b[0;32mreturn\u001b[0m \u001b[0mconverter\u001b[0m\u001b[0;34m(\u001b[0m\u001b[0mself\u001b[0m\u001b[0;34m,\u001b[0m \u001b[0mvalue\u001b[0m\u001b[0;34m)\u001b[0m\u001b[0;34m\u001b[0m\u001b[0m\n\u001b[0m\u001b[1;32m     52\u001b[0m         \u001b[0;32mreturn\u001b[0m \u001b[0mnew_converter\u001b[0m\u001b[0;34m\u001b[0m\u001b[0m\n\u001b[1;32m     53\u001b[0m \u001b[0;34m\u001b[0m\u001b[0m\n",
      "\u001b[0;32m/usr/local/lib/python3.5/site-packages/cvxpy-0.3.5-py3.5.egg/cvxpy/interface/cvxopt_interface/sparse_matrix_interface.py\u001b[0m in \u001b[0;36mconst_to_matrix\u001b[0;34m(self, value, convert_scalars)\u001b[0m\n\u001b[1;32m     51\u001b[0m             \u001b[0mI\u001b[0m \u001b[0;34m=\u001b[0m \u001b[0mvalue\u001b[0m\u001b[0;34m.\u001b[0m\u001b[0mrow\u001b[0m\u001b[0;34m\u001b[0m\u001b[0m\n\u001b[1;32m     52\u001b[0m             \u001b[0mJ\u001b[0m \u001b[0;34m=\u001b[0m \u001b[0mvalue\u001b[0m\u001b[0;34m.\u001b[0m\u001b[0mcol\u001b[0m\u001b[0;34m\u001b[0m\u001b[0m\n\u001b[0;32m---> 53\u001b[0;31m             \u001b[0;32mreturn\u001b[0m \u001b[0mcvxopt\u001b[0m\u001b[0;34m.\u001b[0m\u001b[0mspmatrix\u001b[0m\u001b[0;34m(\u001b[0m\u001b[0mV\u001b[0m\u001b[0;34m,\u001b[0m \u001b[0mI\u001b[0m\u001b[0;34m,\u001b[0m \u001b[0mJ\u001b[0m\u001b[0;34m,\u001b[0m \u001b[0mvalue\u001b[0m\u001b[0;34m.\u001b[0m\u001b[0mshape\u001b[0m\u001b[0;34m,\u001b[0m \u001b[0mtc\u001b[0m\u001b[0;34m=\u001b[0m\u001b[0;34m'd'\u001b[0m\u001b[0;34m)\u001b[0m\u001b[0;34m\u001b[0m\u001b[0m\n\u001b[0m\u001b[1;32m     54\u001b[0m         \u001b[0;32melse\u001b[0m\u001b[0;34m:\u001b[0m \u001b[0;31m# Lists.\u001b[0m\u001b[0;34m\u001b[0m\u001b[0m\n\u001b[1;32m     55\u001b[0m             \u001b[0;32mreturn\u001b[0m \u001b[0mcvxopt\u001b[0m\u001b[0;34m.\u001b[0m\u001b[0msparse\u001b[0m\u001b[0;34m(\u001b[0m\u001b[0mvalue\u001b[0m\u001b[0;34m,\u001b[0m \u001b[0mtc\u001b[0m\u001b[0;34m=\u001b[0m\u001b[0;34m'd'\u001b[0m\u001b[0;34m)\u001b[0m\u001b[0;34m\u001b[0m\u001b[0m\n",
      "\u001b[0;31mKeyboardInterrupt\u001b[0m: "
     ]
    }
   ],
   "source": [
    "problem = pr.Problem(x,r,λ=1,u=u)\n",
    "problem.solver = cvx.CVXOPT\n",
    "problem.solve()"
   ]
  },
  {
   "cell_type": "code",
   "execution_count": 130,
   "metadata": {
    "autoscroll": "json-false",
    "collapsed": false,
    "ein.tags": [
     "worksheet-0"
    ]
   },
   "outputs": [
    {
     "data": {
      "text/plain": [
       "0.045054046762413688"
      ]
     },
     "execution_count": 130,
     "metadata": {},
     "output_type": "execute_result"
    }
   ],
   "source": [
    "problem.outsample_cost(x_test,r_test)"
   ]
  },
  {
   "cell_type": "code",
   "execution_count": 131,
   "metadata": {
    "autoscroll": "json-false",
    "collapsed": false,
    "ein.tags": [
     "worksheet-0"
    ]
   },
   "outputs": [
    {
     "data": {
      "text/plain": [
       "303.34697075381393"
      ]
     },
     "execution_count": 131,
     "metadata": {},
     "output_type": "execute_result"
    }
   ],
   "source": [
    "np.linalg.norm(problem.q)"
   ]
  },
  {
   "cell_type": "code",
   "execution_count": 132,
   "metadata": {
    "autoscroll": "json-false",
    "collapsed": false,
    "ein.tags": [
     "worksheet-0"
    ]
   },
   "outputs": [
    {
     "data": {
      "text/plain": [
       "array([  2.93751051e+02,  -1.96597244e-01,  -6.50896597e-01,\n",
       "        -1.89605620e+00,   6.53254553e+00,   7.50113317e+00,\n",
       "        -2.88062032e+00,   1.91028488e+00,  -1.74966519e-01,\n",
       "         7.92277860e+00,   6.36992258e-01,  -2.88137297e+00,\n",
       "        -7.73442808e+00,   2.48595134e+00,  -9.97884146e+00,\n",
       "        -6.94288716e-02,   1.82848104e+00,   8.64331864e-01,\n",
       "        -6.13194719e-01,  -4.67596980e+00,  -4.06346578e+00,\n",
       "         1.43182442e+00,  -5.80246286e+00,  -3.42225554e+00,\n",
       "         4.19559403e+00,   8.69184576e-02,   1.48193546e+00,\n",
       "         3.99227405e+00,  -1.33997772e+00,  -4.02666588e+00,\n",
       "         6.43198381e+00,   1.29840965e+00,  -5.18256348e+00,\n",
       "         4.84210189e+00,  -2.52523795e+00,   5.38527929e+00,\n",
       "         2.65678202e+00,  -3.35771677e+00,  -2.75850241e+00,\n",
       "        -2.62686961e+00,   2.17131733e+00,   7.45715303e+00,\n",
       "        -1.69901721e+00,   2.04486786e+00,   7.48859202e+00,\n",
       "         1.12060230e+00,   1.18295730e+00,  -4.02402646e+00,\n",
       "        -3.29064085e+00,  -8.33528630e+00,   1.40276736e+00,\n",
       "        -3.87007089e+00,  -4.45534125e+00,   6.69341926e+00,\n",
       "        -2.20984219e+00,  -2.36984158e+00,  -2.10207618e+00,\n",
       "         4.19448744e+00,  -2.13329153e+00,  -2.98478555e+00,\n",
       "        -3.95360463e+00,  -3.40041553e+00,  -6.76826752e+00,\n",
       "        -4.52151598e+00,   3.47955557e+00,   3.56178949e+00,\n",
       "         1.31819592e-01,   2.80964629e+00,   3.67553487e+00,\n",
       "        -1.06904807e+00,  -2.00399748e+00,  -5.64266360e+00,\n",
       "        -2.63131845e+00,  -4.62481533e+00,   8.22037824e+00,\n",
       "        -1.47327438e+00,   1.11921296e+00,  -3.31183385e+00,\n",
       "        -5.52024127e+00,   6.17247971e+00,  -2.43876365e+00,\n",
       "         2.87109761e+00,  -4.69598961e-01,   3.21581257e+00,\n",
       "         2.33974204e+00,   5.56576204e+00,  -7.08903634e-01,\n",
       "         6.76343297e-01,  -4.02425917e+00,  -2.65501716e+00,\n",
       "         1.00222677e+01,  -7.16008018e+00,   1.73436215e+00,\n",
       "         1.16141808e+01,   1.55739587e+00,   2.38704312e-01,\n",
       "         2.88710558e+00,   1.33969957e+00,  -9.07050433e+00,\n",
       "        -6.18342853e-01,   2.49342770e+00,   4.58268142e+00,\n",
       "         4.56376446e-01,   2.41591827e+00,  -5.41473512e+00,\n",
       "         2.64725667e+00,   9.93678296e-01,  -6.35534601e+00,\n",
       "        -5.32280233e-01,   2.22732685e+00,   2.66887741e-01,\n",
       "         1.91703048e+00,  -7.98483091e-01,   7.68156469e+00,\n",
       "        -5.29240209e+00,   8.10862681e-01,  -5.06636469e+00,\n",
       "         4.52981541e+00,  -4.05261640e+00,  -1.65614237e+00,\n",
       "        -2.69327229e+00,   4.37326164e+00,  -3.40658680e-02,\n",
       "         2.42534508e+00,  -4.70917572e+00,  -6.75668446e+00,\n",
       "         2.29430609e-01,   5.72738294e-02,  -2.42549182e+00,\n",
       "        -3.18939540e+00,  -6.56943372e-01,  -8.37141105e-01,\n",
       "         5.54028217e+00,  -7.75921185e+00,  -7.81785939e+00,\n",
       "         7.08990172e+00,  -7.64370456e-01,  -2.26432811e+00,\n",
       "        -4.15900207e+00,   1.43365882e+00,   1.26192619e+01,\n",
       "         1.48167723e+00,   1.40077959e-02,   9.95378400e-02,\n",
       "         3.59192851e-01,  -3.69936359e+00,   2.90974083e+00,\n",
       "        -1.27636440e+00,   1.22822952e+00,   1.53352172e+00,\n",
       "        -2.55690569e+00,   1.57473876e+00,  -5.24400838e-01,\n",
       "         7.45441431e+00,  -1.23934160e-01,   1.09999882e+01,\n",
       "        -5.99948711e+00,   4.73726110e+00,  -8.60140473e+00,\n",
       "        -6.68367112e-03,   8.50708721e+00,  -7.53496197e+00,\n",
       "         5.98129220e-01,  -3.85750809e+00,  -4.98760648e+00,\n",
       "         8.61680487e+00,  -2.81165975e+00,  -1.04727016e+00,\n",
       "         9.19281215e+00,   1.07627036e+00,   5.63135650e+00,\n",
       "        -2.42506631e+00,   5.08038367e+00,   6.70674550e-01,\n",
       "        -1.22116290e+00,   8.43727323e-01,   1.29690162e-01,\n",
       "         1.12292124e-02,  -1.13119637e+00,   5.34889999e+00,\n",
       "         1.87459487e-01,   3.69158489e+00,   1.88443650e-01,\n",
       "        -4.78121301e+00,  -8.17622045e+00,  -4.23529712e+00,\n",
       "         2.42245092e+00,   9.69966766e+00,  -2.86261550e+00,\n",
       "        -3.58163258e+00,  -1.06574689e-01,  -7.41979671e+00,\n",
       "         2.18631768e+00,  -2.18517977e+00,  -7.05505646e+00,\n",
       "        -2.85475274e+00,   6.75883307e+00,  -6.06755059e+00,\n",
       "        -3.26789535e+00,  -5.69934619e-01,   6.40935686e+00,\n",
       "         7.17082632e-01,   2.85834340e+00,  -7.24094529e+00,\n",
       "        -9.08409097e+00,  -3.61915278e+00,   1.99119056e-01,\n",
       "         5.43348602e+00,   3.87037567e+00,   6.23590339e+00,\n",
       "         9.80387012e+00,   2.04378611e+00,   8.06882315e-01,\n",
       "        -7.06188469e-01,   3.31841242e+00,   2.32828393e+00,\n",
       "        -2.38264160e+00,  -1.17066694e+01,   8.51732589e+00,\n",
       "         1.89148138e+00,   1.20233918e+00,  -5.73059489e+00,\n",
       "        -2.76236020e+00,   1.65380896e+00,  -1.01355939e+00,\n",
       "         7.57878456e+00,   3.90934380e+00,  -1.48903719e+00,\n",
       "         2.07671033e+00,  -3.52286222e+00,   3.50164433e+00,\n",
       "        -2.77401146e+00,  -3.40629799e+00,   2.30199407e+00,\n",
       "        -5.83908740e+00,   4.13296075e+00,  -2.79984576e+00,\n",
       "        -4.48747420e+00,   2.45766287e+00,  -4.53430426e+00,\n",
       "         1.00866730e+00,   3.89510003e+00,  -6.45096196e-01,\n",
       "         2.79163304e+00,   3.79358045e+00,   2.36265420e+00,\n",
       "         3.91646768e+00,   2.65651322e+00,   1.07504360e+00,\n",
       "         5.88780328e+00,   1.99283510e+00,   1.68161144e+00,\n",
       "        -4.97041371e+00,  -1.16128138e+00,  -5.61132146e-01,\n",
       "        -5.78167435e+00,   1.09294069e+00,   9.58330599e-01,\n",
       "        -3.19975924e+00,  -6.89607404e-01,  -2.19488489e+00,\n",
       "         2.73070948e+00,   9.32639521e-01,   6.57359233e+00,\n",
       "        -1.27952029e+00,  -2.88507087e+00,   1.41729485e+00,\n",
       "         2.78088726e+00,   4.48703578e+00,   5.47667759e-01,\n",
       "        -9.30500610e+00,  -1.73822670e+00,   2.20830582e+00,\n",
       "         1.41484241e+00,  -5.87845112e+00,  -1.21443571e+01,\n",
       "        -6.30095048e+00,   6.32620796e+00,   9.93409384e-01,\n",
       "         1.08002173e+00,  -1.36581229e+00,   5.28737110e+00,\n",
       "         5.08072012e+00,  -5.00567941e+00,   4.76986710e+00,\n",
       "         5.11259484e+00,   1.84742569e+00,   9.82018855e-01,\n",
       "        -2.78605144e+00,   1.60041629e+00,  -2.44126198e+00,\n",
       "        -3.97508454e+00,   4.57848110e+00,  -2.84931409e-01,\n",
       "         4.46676381e+00,   8.44460510e+00,   5.22762236e+00,\n",
       "         3.44607743e+00,  -1.88490463e+00,   2.13277326e+00,\n",
       "        -3.90557905e+00])"
      ]
     },
     "execution_count": 132,
     "metadata": {},
     "output_type": "execute_result"
    }
   ],
   "source": [
    "problem.q"
   ]
  }
 ],
 "metadata": {
  "kernelspec": {
   "display_name": "Python 3",
   "name": "python3"
  },
  "language_info": {
   "codemirror_mode": {
    "name": "ipython",
    "version": 3
   },
   "file_extension": ".py",
   "mimetype": "text/x-python",
   "name": "python",
   "nbconvert_exporter": "python",
   "pygments_lexer": "ipython3",
   "version": "3.5.1"
  },
  "name": "apply_algo.ipynb"
 },
 "nbformat": 4,
 "nbformat_minor": 0
}
