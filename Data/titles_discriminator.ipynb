{
 "cells": [
  {
   "cell_type": "code",
   "execution_count": 1,
   "metadata": {
    "autoscroll": "json-false",
    "collapsed": false,
    "ein.tags": [
     "worksheet-0"
    ]
   },
   "outputs": [],
   "source": [
    "import sys\n",
    "from collections import Counter\n",
    "\n",
    "import dateutil.parser\n",
    "import re\n",
    "import datetime as dt\n",
    "\n",
    "import numpy as np\n",
    "import sklearn.cross_validation as cvl\n",
    "import sklearn.feature_extraction.text as txt\n",
    "import nltk\n",
    "import requests\n",
    "from bs4 import BeautifulSoup"
   ]
  },
  {
   "cell_type": "code",
   "execution_count": 2,
   "metadata": {
    "autoscroll": "json-false",
    "collapsed": false,
    "ein.tags": [
     "worksheet-0"
    ]
   },
   "outputs": [],
   "source": [
    "import psycopg2 as db\n",
    "conn = db.connect(\"dbname=TBM\")\n",
    "cur = conn.cursor()"
   ]
  },
  {
   "cell_type": "code",
   "execution_count": 3,
   "metadata": {
    "autoscroll": "json-false",
    "collapsed": false,
    "ein.tags": [
     "worksheet-0"
    ]
   },
   "outputs": [],
   "source": [
    "def preprocess(title):\n",
    "    title = title.replace('U.S.','USA')\n",
    "    title = title.replace('.com',' __dotcom__')\n",
    "    title = title.replace(\"'s\",'')\n",
    "    title = title.replace(\"\\'\",' ')\n",
    "    title = title.replace('\\\"',' ')\n",
    "    title = title.replace('-',' ')\n",
    "    title = title.replace('.',' ')\n",
    "    title = title.replace(',',' ')\n",
    "    title = title.replace('(',' ')\n",
    "    title = title.replace(')',' ')\n",
    "    title = title.replace('/',' ')\n",
    "    title = title.replace(';',' ')\n",
    "    title = title.replace(':',' ')\n",
    "    title = title.replace(' to ',' ')\n",
    "    title = title.replace(' in ',' ')\n",
    "    title = title.replace(' for ',' ')\n",
    "    title = title.replace(' on ',' ')\n",
    "    title = title.replace(' as ',' ')\n",
    "    title = title.replace(' of ',' ')\n",
    "    title = title.replace(' by ',' ')\n",
    "    title = title.replace(' at ',' ')\n",
    "    title = title.replace('$',' $ ')\n",
    "    title = title.replace('UPDATE',' ')\n",
    "        \n",
    "    return [w.lower() for w in title.split() if w is '$' or len(w) >= 2 and w.isalpha()]"
   ]
  },
  {
   "cell_type": "code",
   "execution_count": 4,
   "metadata": {
    "autoscroll": "json-false",
    "collapsed": false,
    "ein.tags": [
     "worksheet-0"
    ]
   },
   "outputs": [],
   "source": [
    "class Titles:\n",
    "    def __init__(self,n='ALL'):\n",
    "        if isinstance(n,int):\n",
    "            n = str(n)\n",
    "        select_query = 'SELECT feedly_id,title FROM reuters_usmarkets LIMIT %s' % n\n",
    "        self.batch_size = 1000\n",
    "        cur.execute(select_query)\n",
    "        self.records = []\n",
    "        \n",
    "    def __iter__(self):\n",
    "        return self\n",
    "\n",
    "    def __next__(self):\n",
    "        if not self.records:\n",
    "            self.records = cur.fetchmany(self.batch_size)\n",
    "            if not self.records:\n",
    "                raise StopIteration()\n",
    "        next_article = self.records.pop(0)\n",
    "        return preprocess(next_article[1])\n",
    "\n",
    "titles = list(Titles())"
   ]
  },
  {
   "cell_type": "code",
   "execution_count": 5,
   "metadata": {
    "autoscroll": "json-false",
    "collapsed": false,
    "ein.tags": [
     "worksheet-0"
    ]
   },
   "outputs": [],
   "source": [
    "c = Counter()\n",
    "for title in titles:\n",
    "    c.update(title)"
   ]
  },
  {
   "cell_type": "code",
   "execution_count": 6,
   "metadata": {
    "autoscroll": "json-false",
    "collapsed": false,
    "ein.tags": [
     "worksheet-0"
    ]
   },
   "outputs": [
    {
     "data": {
      "text/plain": [
       "[('usa', 24948),\n",
       " ('$', 15366),\n",
       " ('stocks', 14933),\n",
       " ('says', 13902),\n",
       " ('after', 9657),\n",
       " ('us', 9174),\n",
       " ('new', 8251),\n",
       " ('with', 8146),\n",
       " ('canada', 7792),\n",
       " ('fed', 7678),\n",
       " ('shares', 7564),\n",
       " ('up', 7524),\n",
       " ('china', 7515),\n",
       " ('markets', 7510),\n",
       " ('pct', 7279),\n",
       " ('bln', 6782),\n",
       " ('data', 6590),\n",
       " ('global', 6563),\n",
       " ('bank', 6421),\n",
       " ('brief', 6287)]"
      ]
     },
     "execution_count": 6,
     "metadata": {},
     "output_type": "execute_result"
    }
   ],
   "source": [
    "c.most_common(20)"
   ]
  },
  {
   "cell_type": "code",
   "execution_count": 7,
   "metadata": {
    "autoscroll": "json-false",
    "collapsed": false,
    "ein.tags": [
     "worksheet-0"
    ]
   },
   "outputs": [],
   "source": [
    "def title_score(title):\n",
    "    return np.log(sum([c[w] for w in title])+1)"
   ]
  },
  {
   "cell_type": "code",
   "execution_count": 9,
   "metadata": {
    "autoscroll": "json-false",
    "collapsed": true,
    "ein.tags": [
     "worksheet-0"
    ]
   },
   "outputs": [
    {
     "data": {
      "text/plain": [
       "['usa treasury sell $ bln bills',\n",
       " 'doubleline gundlach says usa equity markets face another major leg down',\n",
       " 'wall st slide unlikely undermine support usa stocks',\n",
       " 'global markets grim china data caps worst week year stocks',\n",
       " 'rpt global markets stocks oil tumble grim china pmi sparks growth fears',\n",
       " 'corrected cbo says usa revenue gains push down deficit delay default',\n",
       " 'firm that vetted snowden $ million settlement with usa',\n",
       " 'usa stock futures tumble month low after weak china pmi',\n",
       " 'usa treasury sells $ bln tips record investor demand',\n",
       " 'usa treasury sells $ bln tips record investor demand',\n",
       " 'moves usa bank hires susie roh from guaranty bank and trust',\n",
       " 'usa inflation probably lower than reported fed study says',\n",
       " 'us stocks snapshot futures up sharply day after global rout',\n",
       " 'oshkosh wins $ bln deal replace usa army marine humvees',\n",
       " 'usa treasury sell $ bln floating rate notes',\n",
       " 'us stocks wall st set fall weak chinese data adds growth fears',\n",
       " 'global bond yields european stocks surge after china cuts rates',\n",
       " 'corrected us stocks wall st set open lower oil prices slump',\n",
       " 'us stocks futures fall oil weighs fed notes global growth fears',\n",
       " 'us stocks wall st rebounds sharply after global market rout',\n",
       " 'forex dollar slumps pct china worries muddy usa rates outlook',\n",
       " 'us stocks wall st poised rebound after global market rout',\n",
       " 'corrected us stocks wall st slumps the open global growth worries',\n",
       " 'us stocks wall st falls volatile trading after fed minutes',\n",
       " 'global markets china rate cut gives stocks oil dollar relief volatility high',\n",
       " 'firm that vetted snowden reaches $ mln settlement with usa',\n",
       " 'usa treasury lew says monitoring china new currency policy',\n",
       " 'global markets stocks post worst week after china data',\n",
       " 'global markets stocks post worst week after china data',\n",
       " 'us stocks snapshot wall st down volatile trading after fed minutes',\n",
       " 'us stocks snapshot wall st opens lower china data fuels growth fears',\n",
       " 'usa treasury sell $ bln week bills this week',\n",
       " 'bank ny mellon sued usa regulator over $ bln soured mortgages',\n",
       " 'usa presidential candidates blame china the fed obama stocks rout',\n",
       " 'us stocks wall st down pct dow and slip into red the year',\n",
       " 'us stocks wall st down pct dow and slip into red the year',\n",
       " 'global markets dollar dips after fed minutes china weighs stocks',\n",
       " 'us stocks snapshot wall st opens lower oil price fall global growth fears',\n",
       " 'global markets stocks post worst week year after china data',\n",
       " 'southern co becomes no usa utility with $ bln agl deal',\n",
       " 'global markets stocks oil dollar extend gains after china cuts rates',\n",
       " 'global markets stocks dollar oil extend gains after china cuts rates',\n",
       " 'global markets stocks oil dollar extend gains after china cuts rates',\n",
       " 'global markets stocks oil dollar rise after china cuts rates',\n",
       " 'us stocks usa stocks rout continues fourth straight day',\n",
       " 'european factors stocks seen extending drop after usa fed',\n",
       " 'refile global markets stocks oil dollar rise after china cuts rates',\n",
       " 'global markets china stock plunge hits world stocks dollar usa stabilizes',\n",
       " 'global markets china stock plunge hits world markets but usa stocks stabilize',\n",
       " 'global markets china stock plunge smacks global shares usa stocks dive']"
      ]
     },
     "execution_count": 9,
     "metadata": {},
     "output_type": "execute_result"
    }
   ],
   "source": [
    "test = titles[:1000]\n",
    "top10 = np.argsort([title_score(title) for title in test])[-50:]\n",
    "[' '.join(test[i]) for i in top10]"
   ]
  },
  {
   "cell_type": "code",
   "execution_count": 15,
   "metadata": {
    "autoscroll": "json-false",
    "collapsed": false,
    "ein.tags": [
     "worksheet-0"
    ]
   },
   "outputs": [],
   "source": [
    "def get_top_articles(url):\n",
    "    # url like http://www.reuters.com/resources/archive/us/20121223.html\n",
    "    r = requests.get(url)\n",
    "    soup = BeautifulSoup(r.text,'lxml')\n",
    "    soup = soup.find('div',class_='primaryContent')\n",
    "    soup = soup.find('div',class_='module')\n",
    "    articles = soup.find_all('div',class_='headlineMed')\n",
    "\n",
    "    links = []; titles = []; \n",
    "    for article in articles:\n",
    "        a_tag = article.find('a')\n",
    "        link = a_tag.get('href')\n",
    "        title = a_tag.text\n",
    "        links.append(link)\n",
    "        titles.append(title)\n",
    "    \n",
    "    n_articles = min(len(titles),100)\n",
    "    scores = [title_score(preprocess(title)) for title in titles]\n",
    "    top_idx = np.argsort(scores)[-n_articles:]\n",
    "    titles = [titles[i] for i in top_idx]\n",
    "    links = [links[i] for i in top_idx]\n",
    "\n",
    "    return links,titles"
   ]
  },
  {
   "cell_type": "code",
   "execution_count": 16,
   "metadata": {
    "autoscroll": "json-false",
    "collapsed": false,
    "ein.tags": [
     "worksheet-0"
    ]
   },
   "outputs": [],
   "source": [
    "def get_contents(url):\n",
    "    r = requests.get(url)\n",
    "    soup = BeautifulSoup(r.text, 'lxml')\n",
    "\n",
    "    date = soup.find('span',class_='timestamp').text\n",
    "    date = dateutil.parser.parse(date)\n",
    "    title = soup.find('h1',class_='article-headline').text\n",
    "    content = soup.find(id='articleText').text\n",
    "\n",
    "    return date,content"
   ]
  },
  {
   "cell_type": "code",
   "execution_count": 17,
   "metadata": {
    "autoscroll": "json-false",
    "collapsed": false,
    "ein.tags": [
     "worksheet-0"
    ]
   },
   "outputs": [],
   "source": [
    "def get_articles_by_date(date):\n",
    "    url = 'http://www.reuters.com/resources/archive/us/%s.html' % date.strftime('%Y%m%d')\n",
    "    links,titles = get_top_articles(url)\n",
    "    \n",
    "    dates = []; contents = []\n",
    "    for url in links:\n",
    "        try:\n",
    "            date,content = get_contents(url)\n",
    "            content = content.strip()\n",
    "            dates.append(date)\n",
    "            contents.append(content)\n",
    "        except Exception as e:\n",
    "            print(e,url)\n",
    "            dates.append(None)\n",
    "            contents.append(None)\n",
    "\n",
    "    links = [link for link,date in zip(links,dates) if date is not None]\n",
    "    titles = [title for title,date in zip(titles,dates) if date is not None]\n",
    "    dates = [date for date in dates if date is not None]\n",
    "    contents = [content for content in contents if content is not None]\n",
    "\n",
    "    return dates,titles,contents,links"
   ]
  },
  {
   "cell_type": "code",
   "execution_count": 18,
   "metadata": {
    "autoscroll": "json-false",
    "collapsed": false,
    "ein.tags": [
     "worksheet-0"
    ]
   },
   "outputs": [],
   "source": [
    "def insert_in_db(dates,titles,contents,links):\n",
    "    query = 'INSERT INTO articles3 (date,title,content,link) VALUES (%s,%s,%s,%s)'\n",
    "\n",
    "    for val in zip(dates,titles,contents,links):\n",
    "        cur.execute(query,val)\n",
    "\n",
    "    conn.commit()"
   ]
  },
  {
   "cell_type": "code",
   "execution_count": 19,
   "metadata": {
    "autoscroll": "json-false",
    "collapsed": false,
    "ein.tags": [
     "worksheet-0"
    ]
   },
   "outputs": [
    {
     "name": "stdout",
     "output_type": "stream",
     "text": [
      " http://www.reuters.com/article/2014/01/01/mrclean-timessquare-idUSnPnMMfFPnh+16c+PRN20140101\n"
     ]
    },
    {
     "name": "stdout",
     "output_type": "stream",
     "text": [
      " http://www.reuters.com/article/2014/01/02/mi-uaw-retiree-trust-idUSnPnDEgztJ6+162+PRN20140102\n",
      "'NoneType' object has no attribute 'text'"
     ]
    },
    {
     "name": "stdout",
     "output_type": "stream",
     "text": [
      " http://www.reuters.com/article/2014/01/01/bc-ac-idUSnPnjsB8hn+88+PRN20140101\n",
      "'NoneType' object has no attribute 'text'"
     ]
    },
    {
     "name": "stdout",
     "output_type": "stream",
     "text": [
      " http://www.reuters.com/article/2014/01/01/farmers-thankamillion-idUSnPnMMgjSp8+164+PRN20140101\n",
      "'NoneType' object has no attribute 'text'"
     ]
    },
    {
     "name": "stdout",
     "output_type": "stream",
     "text": [
      " http://www.reuters.com/article/2014/01/01/toshiba-vision-ny-idUSnPnHKgyW9C+165+PRN20140101\n",
      "'NoneType' object has no attribute 'text'"
     ]
    },
    {
     "name": "stdout",
     "output_type": "stream",
     "text": [
      " http://www.reuters.com/article/2014/01/01/census-daily-feature-idUSnPnDCgph1+b0+PRN20140101\n",
      "'NoneType' object has no attribute 'text'"
     ]
    },
    {
     "name": "stdout",
     "output_type": "stream",
     "text": [
      " http://www.reuters.com/article/2014/01/01/amgen-ucb-clinical-idUSnPnLAgxbCH+163+PRN20140101\n",
      "'NoneType' object has no attribute 'text'"
     ]
    },
    {
     "name": "stdout",
     "output_type": "stream",
     "text": [
      " http://www.reuters.com/article/2014/01/01/bc-ac-idUSnPnjsB5hn+88+PRN20140101\n",
      "'NoneType' object has no attribute 'text'"
     ]
    },
    {
     "name": "stdout",
     "output_type": "stream",
     "text": [
      " http://www.reuters.com/article/2014/01/01/bc-ac-idUSnPnjsB9hn+88+PRN20140101\n",
      "'NoneType' object has no attribute 'text'"
     ]
    },
    {
     "name": "stdout",
     "output_type": "stream",
     "text": [
      " http://www.reuters.com/article/2014/01/01/ga-mars-mms-idUSnPnCGgyw6T+161+PRN20140101\n",
      "'NoneType' object has no attribute 'text'"
     ]
    },
    {
     "name": "stdout",
     "output_type": "stream",
     "text": [
      " http://www.reuters.com/article/2014/01/01/chrysler-uaw-update-idUSnPnDEgzbwz+160+PRN20140101\n",
      "'NoneType' object has no attribute 'text'"
     ]
    },
    {
     "name": "stdout",
     "output_type": "stream",
     "text": [
      " http://www.reuters.com/article/2014/01/01/chrysler-uaw-agreemnt-idUSnPnDEgz2tJ+161+PRN20140101\n",
      "'NoneType' object has no attribute 'text'"
     ]
    },
    {
     "name": "stdout",
     "output_type": "stream",
     "text": [
      " http://www.reuters.com/article/2014/01/02/greenagriculturehonor-idUSnPnCNgzFPZ+167+PRN20140102\n",
      "'NoneType' object has no attribute 'text'"
     ]
    },
    {
     "name": "stdout",
     "output_type": "stream",
     "text": [
      " http://www.reuters.com/article/2014/01/02/ny-sinoamfriend-nye-idUSnPnMXgzwLv+162+PRN20140102\n",
      "'NoneType' object has no attribute 'text'"
     ]
    },
    {
     "name": "stdout",
     "output_type": "stream",
     "text": [
      " http://www.reuters.com/article/2014/01/01/pseg-storm-ready-idUSnPnNYgz5s8+160+PRN20140101\n",
      "'NoneType' object has no attribute 'text'"
     ]
    },
    {
     "name": "stdout",
     "output_type": "stream",
     "text": [
      " http://www.reuters.com/article/2014/01/01/pa-sheetz-promotesevp-idUSnPnNEgzfxX+161+PRN20140101\n",
      "'NoneType' object has no attribute 'text'"
     ]
    },
    {
     "name": "stdout",
     "output_type": "stream",
     "text": [
      " http://www.reuters.com/article/2014/01/01/bc-analysts-corner-idUSnPnjsBbhn+88+PRN20140101\n",
      "'NoneType' object has no attribute 'text'"
     ]
    },
    {
     "name": "stdout",
     "output_type": "stream",
     "text": [
      "\n",
      "'NoneType' object has no attribute 'text'"
     ]
    },
    {
     "name": "stdout",
     "output_type": "stream",
     "text": [
      " http://www.reuters.com/article/2014/01/02/alon-usa-energy-idUSnPnDAgHbzS+169+PRN20140102\n",
      "2014-01-01"
     ]
    },
    {
     "name": "stdout",
     "output_type": "stream",
     "text": [
      " http://www.reuters.com/article/2014/01/02/ct-cartus-job-survey-idUSnPnNYgBmmp+168+PRN20140102\n",
      "'NoneType' object has no attribute 'text'"
     ]
    },
    {
     "name": "stdout",
     "output_type": "stream",
     "text": [
      " http://www.reuters.com/article/2014/01/02/planetfitness-newyear-idUSnPnNYgzmpF+161+PRN20140102\n",
      "'NoneType' object has no attribute 'text'"
     ]
    },
    {
     "name": "stdout",
     "output_type": "stream",
     "text": [
      " http://www.reuters.com/article/2014/01/02/pa-emerginggrowthdsci-idUSnPnPHgBNlm+16c+PRN20140102\n",
      "'NoneType' object has no attribute 'text'"
     ]
    },
    {
     "name": "stdout",
     "output_type": "stream",
     "text": [
      " http://www.reuters.com/article/2014/01/02/fda-eisai-fycompa-idUSnPnMMfwxht+160+PRN20140102\n",
      "'NoneType' object has no attribute 'text'"
     ]
    },
    {
     "name": "stdout",
     "output_type": "stream",
     "text": [
      " http://www.reuters.com/article/2014/01/02/co-massroots-funding-idUSnPnPHgxNj8+164+PRN20140102\n",
      "'NoneType' object has no attribute 'text'"
     ]
    },
    {
     "name": "stdout",
     "output_type": "stream",
     "text": [
      " http://www.reuters.com/article/2014/01/03/chrysler-dec-sales-idUSnPnCLgLthn+168+PRN20140103\n",
      "2014-01-02\n",
      "'NoneType' object has no attribute 'text'"
     ]
    },
    {
     "name": "stdout",
     "output_type": "stream",
     "text": [
      " http://www.reuters.com/article/2014/01/03/nj-healthcare-corp-idUSnPnNYgGRcx+16c+PRN20140103\n",
      "'NoneType' object has no attribute 'text'"
     ]
    },
    {
     "name": "stdout",
     "output_type": "stream",
     "text": [
      " http://www.reuters.com/article/2014/01/03/us-postal-flat-rate-idUSnPnDCgNtq1+168+PRN20140103\n",
      "'NoneType' object has no attribute 'text'"
     ]
    },
    {
     "name": "stdout",
     "output_type": "stream",
     "text": [
      " http://www.reuters.com/article/2014/01/03/tn-nissan-sales-idUSnPnCLgP1rG+169+PRN20140103\n",
      "'NoneType' object has no attribute 'text'"
     ]
    },
    {
     "name": "stdout",
     "output_type": "stream",
     "text": [
      " http://www.reuters.com/article/2014/01/03/nj-bmw-dec-sales-idUSnPnNYgQswG+169+PRN20140103\n",
      "'NoneType' object has no attribute 'text'"
     ]
    },
    {
     "name": "stdout",
     "output_type": "stream",
     "text": [
      " http://www.reuters.com/article/2014/01/03/nat-geo-alaska-swpstk-idUSnPnDCgT5D0+16a+PRN20140103\n",
      "'NoneType' object has no attribute 'text'"
     ]
    },
    {
     "name": "stdout",
     "output_type": "stream",
     "text": [
      " http://www.reuters.com/article/2014/01/03/ajc-john-kerry-israel-idUSnPnDCgR4x0+168+PRN20140103\n",
      "'NoneType' object has no attribute 'text'"
     ]
    },
    {
     "name": "stdout",
     "output_type": "stream",
     "text": [
      " http://www.reuters.com/article/2014/01/03/haemonetics-call-idUSnPnNEgPHzM+16d+PRN20140103\n",
      "'NoneType' object has no attribute 'text'"
     ]
    },
    {
     "name": "stdout",
     "output_type": "stream",
     "text": [
      "\n",
      "'NoneType' object has no attribute 'text'"
     ]
    },
    {
     "name": "stdout",
     "output_type": "stream",
     "text": [
      " http://www.reuters.com/article/2014/01/04/oh-dickeys-new-loc-idUSnPnDAgWmhn+168+PRN20140104\n",
      "2014-01-03"
     ]
    },
    {
     "name": "stdout",
     "output_type": "stream",
     "text": [
      " http://www.reuters.com/article/2014/01/04/census-daily-feature-idUSnPnDCgpn1+b0+PRN20140104\n",
      "'NoneType' object has no attribute 'text'"
     ]
    },
    {
     "name": "stdout",
     "output_type": "stream",
     "text": [
      " http://www.reuters.com/article/2014/01/04/cleerav-ces-showcases-idUSnPnNYgX7p8+168+PRN20140104\n",
      "'NoneType' object has no attribute 'text'"
     ]
    },
    {
     "name": "stdout",
     "output_type": "stream",
     "text": [
      " http://www.reuters.com/article/2014/01/04/wa-boeing-newzealand-idUSnPnSFgXQCJ+16f+PRN20140104\n",
      "'NoneType' object has no attribute 'text'"
     ]
    },
    {
     "name": "stdout",
     "output_type": "stream",
     "text": [
      " http://www.reuters.com/article/2014/01/05/pa-pa-lottery-raffle-idUSnPnDCgXZJm+16e+PRN20140105\n",
      "'NoneType' object has no attribute 'text'"
     ]
    },
    {
     "name": "stdout",
     "output_type": "stream",
     "text": [
      "\n",
      "'NoneType' object has no attribute 'text'"
     ]
    },
    {
     "name": "stdout",
     "output_type": "stream",
     "text": [
      " http://www.reuters.com/article/2014/01/05/ca-dickeys-visalia-idUSnPnDAgWrzM+169+PRN20140105\n",
      "2014-01-04"
     ]
    },
    {
     "name": "stdout",
     "output_type": "stream",
     "text": [
      " http://www.reuters.com/article/2014/01/05/census-daily-feature-idUSnPnDCgpp1+b0+PRN20140105\n",
      "'NoneType' object has no attribute 'text'"
     ]
    },
    {
     "name": "stdout",
     "output_type": "stream",
     "text": [
      " http://www.reuters.com/article/2014/01/06/nv-samsung-smartcam-idUSnPnNYgGVHx+16e+PRN20140106\n",
      "'NoneType' object has no attribute 'text'"
     ]
    },
    {
     "name": "stdout",
     "output_type": "stream",
     "text": [
      " http://www.reuters.com/article/2014/01/05/alarm-provides-health-idUSnPnDCgPFhY+16d+PRN20140105\n",
      "'NoneType' object has no attribute 'text'"
     ]
    },
    {
     "name": "stdout",
     "output_type": "stream",
     "text": [
      "\n",
      "'NoneType' object has no attribute 'text'"
     ]
    },
    {
     "name": "stdout",
     "output_type": "stream",
     "text": [
      " http://www.reuters.com/article/2014/01/06/dc-afire-real-estate-idUSnPnCLgXnkx+168+PRN20140106\n",
      "2014-01-05"
     ]
    },
    {
     "name": "stdout",
     "output_type": "stream",
     "text": [
      " http://www.reuters.com/article/2014/01/06/bc-analysts-corner-idUSnPn7znvhn+80+PRN20140106\n",
      "'NoneType' object has no attribute 'text'"
     ]
    },
    {
     "name": "stdout",
     "output_type": "stream",
     "text": [
      " http://www.reuters.com/article/2014/01/06/pa-air-prod-big-river-idUSnPnPHh2LkT+165+PRN20140106\n",
      "'NoneType' object has no attribute 'text'"
     ]
    },
    {
     "name": "stdout",
     "output_type": "stream",
     "text": [
      " http://www.reuters.com/article/2014/01/07/ny-nikon-new-d-idUSnPnNYgZcMp+16a+PRN20140107\n",
      "'NoneType' object has no attribute 'text'"
     ]
    },
    {
     "name": "stdout",
     "output_type": "stream",
     "text": [
      " http://www.reuters.com/article/2014/01/06/sino-global-chinadeal-idUSnPnCNgKGhn+16c+PRN20140106\n",
      "'NoneType' object has no attribute 'text'"
     ]
    },
    {
     "name": "stdout",
     "output_type": "stream",
     "text": [
      " http://www.reuters.com/article/2014/01/06/ca-solopreneur-top-idUSnPnCGh11kj+160+PRN20140106\n",
      "'NoneType' object has no attribute 'text'"
     ]
    },
    {
     "name": "stdout",
     "output_type": "stream",
     "text": [
      " http://www.reuters.com/article/2014/01/06/ludwig-cancer-funding-idUSnPnNYh1dfs+160+PRN20140106\n",
      "'NoneType' object has no attribute 'text'"
     ]
    },
    {
     "name": "stdout",
     "output_type": "stream",
     "text": [
      "\n",
      "'NoneType' object has no attribute 'text'"
     ]
    },
    {
     "name": "stdout",
     "output_type": "stream",
     "text": [
      " http://www.reuters.com/article/2014/01/07/bc-fn-media-group-llc-idUSnPn7F7VkW+95+PRN20140107\n",
      "2014-01-06"
     ]
    },
    {
     "name": "stdout",
     "output_type": "stream",
     "text": [
      " http://www.reuters.com/article/2014/01/07/va-scor-e-commerce-idUSnPnCGhB8w8+168+PRN20140107\n",
      "'NoneType' object has no attribute 'text'"
     ]
    },
    {
     "name": "stdout",
     "output_type": "stream",
     "text": [
      " http://www.reuters.com/article/2014/01/07/commercial-metals-ern-idUSnPnDAhnPfs+164+PRN20140107\n",
      "'NoneType' object has no attribute 'text'"
     ]
    },
    {
     "name": "stdout",
     "output_type": "stream",
     "text": [
      " http://www.reuters.com/article/2014/01/07/legacy-poll-smoking-idUSnPnDChbkmd+160+PRN20140107\n",
      "'NoneType' object has no attribute 'text'"
     ]
    },
    {
     "name": "stdout",
     "output_type": "stream",
     "text": [
      " http://www.reuters.com/article/2014/01/07/dc-xiangtianagreement-idUSnPnPHhxgt0+160+PRN20140107\n",
      "'NoneType' object has no attribute 'text'"
     ]
    },
    {
     "name": "stdout",
     "output_type": "stream",
     "text": [
      " http://www.reuters.com/article/2014/01/07/ca-globalmilitary-idUSnPnLAfF5hG+169+PRN20140107\n",
      "'NoneType' object has no attribute 'text'"
     ]
    },
    {
     "name": "stdout",
     "output_type": "stream",
     "text": [
      " http://www.reuters.com/article/2014/01/07/dc-ex-im-nov-exports-idUSnPnDChx3pC+161+PRN20140107\n",
      "'NoneType' object has no attribute 'text'"
     ]
    },
    {
     "name": "stdout",
     "output_type": "stream",
     "text": [
      " http://www.reuters.com/article/2014/01/07/td-rbc-capital-conf-idUSnPnTOd8p8+b0+PRN20140107\n",
      "'NoneType' object has no attribute 'text'"
     ]
    },
    {
     "name": "stdout",
     "output_type": "stream",
     "text": [
      " http://www.reuters.com/article/2014/01/07/video-insight-grant-idUSnPnDAhBvwN+169+PRN20140107\n",
      "'NoneType' object has no attribute 'text'"
     ]
    },
    {
     "name": "stdout",
     "output_type": "stream",
     "text": [
      " http://www.reuters.com/article/2014/01/07/fei-applauds-yellen-idUSnPnNYhrfhn+160+PRN20140107\n",
      "'NoneType' object has no attribute 'text'"
     ]
    },
    {
     "name": "stdout",
     "output_type": "stream",
     "text": [
      " http://www.reuters.com/article/2014/01/07/intrepid-fallenheroes-idUSnPnNYhwxr4+160+PRN20140107\n",
      "'NoneType' object has no attribute 'text'"
     ]
    },
    {
     "name": "stdout",
     "output_type": "stream",
     "text": [
      " http://www.reuters.com/article/2014/01/07/nv-sennheiserces-idUSnPnNYgwZt0+164+PRN20140107\n",
      "'NoneType' object has no attribute 'text'"
     ]
    },
    {
     "name": "stdout",
     "output_type": "stream",
     "text": [
      " http://www.reuters.com/article/2014/01/08/rbcgam-us-newfunds-idUSnPnTOf6kj+b0+PRN20140108\n",
      "2014-01-07\n",
      "'NoneType' object has no attribute 'text'"
     ]
    },
    {
     "name": "stdout",
     "output_type": "stream",
     "text": [
      " http://www.reuters.com/article/2014/01/08/us-european-hardware-idUSnPnNEhG1hn+168+PRN20140108\n",
      "'NoneType' object has no attribute 'text'"
     ]
    },
    {
     "name": "stdout",
     "output_type": "stream",
     "text": [
      " http://www.reuters.com/article/2014/01/08/ut-penfed-sponsors-idUSnPnDChKBcx+16c+PRN20140108\n",
      "'NoneType' object has no attribute 'text'"
     ]
    },
    {
     "name": "stdout",
     "output_type": "stream",
     "text": [
      " http://www.reuters.com/article/2014/01/08/daiichi-sankyo-fda-idUSnPnNYhRvrD+169+PRN20140108\n",
      "'NoneType' object has no attribute 'text'"
     ]
    },
    {
     "name": "stdout",
     "output_type": "stream",
     "text": [
      " http://www.reuters.com/article/2014/01/08/ny-ensil-launches-idUSnPnSFhJMcT+16d+PRN20140108\n",
      "'NoneType' object has no attribute 'text'"
     ]
    },
    {
     "name": "stdout",
     "output_type": "stream",
     "text": [
      " http://www.reuters.com/article/2014/01/09/gw-pharma-offering-idUSnPnNYj3cRk+162+PRN20140109\n",
      "'NoneType' object has no attribute 'text'"
     ]
    },
    {
     "name": "stdout",
     "output_type": "stream",
     "text": [
      " http://www.reuters.com/article/2014/01/08/bc-fn-media-group-idUSnPn7JSbhY+99+PRN20140108\n",
      "'NoneType' object has no attribute 'text'"
     ]
    },
    {
     "name": "stdout",
     "output_type": "stream",
     "text": [
      " http://www.reuters.com/article/2014/01/08/fl-iliv-acquires-idUSnPnFLhWgyb+168+PRN20140108\n",
      "'NoneType' object has no attribute 'text'"
     ]
    },
    {
     "name": "stdout",
     "output_type": "stream",
     "text": [
      " http://www.reuters.com/article/2014/01/08/ny-weillcornell-gift-idUSnPnYAhD8FQ+16b+PRN20140108\n",
      "'NoneType' object has no attribute 'text'"
     ]
    },
    {
     "name": "stdout",
     "output_type": "stream",
     "text": [
      " http://www.reuters.com/article/2014/01/08/ny-weillcornell-gift-idUSnPnNYhD8g2+168+PRN20140108\n",
      "'NoneType' object has no attribute 'text'"
     ]
    },
    {
     "name": "stdout",
     "output_type": "stream",
     "text": [
      " http://www.reuters.com/article/2014/01/08/uofmiamihealthconfrnc-idUSnPnDChPxlq+168+PRN20140108\n",
      "'NoneType' object has no attribute 'text'"
     ]
    },
    {
     "name": "stdout",
     "output_type": "stream",
     "text": [
      " http://www.reuters.com/article/2014/01/08/ny-lote-facilitylimit-idUSnPnLAhTDv2+16c+PRN20140108\n",
      "'NoneType' object has no attribute 'text'"
     ]
    },
    {
     "name": "stdout",
     "output_type": "stream",
     "text": [
      " http://www.reuters.com/article/2014/01/08/lockheed-martin-con-idUSnPnFLhMGmd+16c+PRN20140108\n",
      "'NoneType' object has no attribute 'text'"
     ]
    },
    {
     "name": "stdout",
     "output_type": "stream",
     "text": [
      " http://www.reuters.com/article/2014/01/09/yesstyle-yesasia-idUSnPnHKj31PM+163+PRN20140109\n",
      "'NoneType' object has no attribute 'text'"
     ]
    },
    {
     "name": "stdout",
     "output_type": "stream",
     "text": [
      " http://www.reuters.com/article/2014/01/08/bloomberg-tv-trujillo-idUSnPnNYhYdBb+16a+PRN20140108\n",
      "'NoneType' object has no attribute 'text'"
     ]
    },
    {
     "name": "stdout",
     "output_type": "stream",
     "text": [
      "\n",
      "'NoneType' object has no attribute 'text'"
     ]
    },
    {
     "name": "stdout",
     "output_type": "stream",
     "text": [
      " http://www.reuters.com/article/2014/01/09/rbc-expandsusoffering-idUSnPnTOfChY+b5+PRN20140109\n",
      "2014-01-08"
     ]
    },
    {
     "name": "stdout",
     "output_type": "stream",
     "text": [
      " http://www.reuters.com/article/2014/01/09/uncle-bens-cafeteria-idUSnPnMMj6qmd+160+PRN20140109\n",
      "'NoneType' object has no attribute 'text'"
     ]
    },
    {
     "name": "stdout",
     "output_type": "stream",
     "text": [
      " http://www.reuters.com/article/2014/01/09/bc-analysts-corner-idUSnPn7JTxhn+98+PRN20140109\n",
      "'NoneType' object has no attribute 'text'"
     ]
    },
    {
     "name": "stdout",
     "output_type": "stream",
     "text": [
      " http://www.reuters.com/article/2014/01/09/tx-rick-1q14sales-idUSnPnDAhVckj+168+PRN20140109\n",
      "'NoneType' object has no attribute 'text'"
     ]
    },
    {
     "name": "stdout",
     "output_type": "stream",
     "text": [
      " http://www.reuters.com/article/2014/01/09/uncle-bens-cafeteria-idUSnPnMMj6smk+160+PRN20140109\n",
      "'NoneType' object has no attribute 'text'"
     ]
    },
    {
     "name": "stdout",
     "output_type": "stream",
     "text": [
      " http://www.reuters.com/article/2014/01/09/new-lung-cancer-rates-idUSnPnDCjbRvW+165+PRN20140109\n",
      "'NoneType' object has no attribute 'text'"
     ]
    },
    {
     "name": "stdout",
     "output_type": "stream",
     "text": [
      " http://www.reuters.com/article/2014/01/09/bc-fn-media-group-idUSnPn7NCYkp+9c+PRN20140109\n",
      "'NoneType' object has no attribute 'text'"
     ]
    },
    {
     "name": "stdout",
     "output_type": "stream",
     "text": [
      "\n",
      "'NoneType' object has no attribute 'text'"
     ]
    },
    {
     "name": "stdout",
     "output_type": "stream",
     "text": [
      " http://www.reuters.com/article/2014/01/10/keys-greaterthanaids-idUSnPnDCjgWkj+164+PRN20140110\n",
      "2014-01-09"
     ]
    },
    {
     "name": "stdout",
     "output_type": "stream",
     "text": [
      " http://www.reuters.com/article/2014/01/10/sap-ag-prelim-earns-idUSnPnNYjkTdk+164+PRN20140110\n",
      "'NoneType' object has no attribute 'text'"
     ]
    },
    {
     "name": "stdout",
     "output_type": "stream",
     "text": [
      " http://www.reuters.com/article/2014/01/10/ct-general-dynamics-idUSnPnPHjm5md+160+PRN20140110\n",
      "'NoneType' object has no attribute 'text'"
     ]
    },
    {
     "name": "stdout",
     "output_type": "stream",
     "text": [
      " http://www.reuters.com/article/2014/01/10/az-natural-news-idUSnPnPHjfmj8+160+PRN20140110\n",
      "'NoneType' object has no attribute 'text'"
     ]
    },
    {
     "name": "stdout",
     "output_type": "stream",
     "text": [
      "\n",
      "'NoneType' object has no attribute 'text'"
     ]
    },
    {
     "name": "stdout",
     "output_type": "stream",
     "text": [
      " http://www.reuters.com/article/2014/01/11/census-daily-feature-idUSnPnDCgCt1+b4+PRN20140111\n",
      "2014-01-10"
     ]
    },
    {
     "name": "stdout",
     "output_type": "stream",
     "text": [
      " http://www.reuters.com/article/2014/01/11/openingmindsawards-idUSnPnDCjvWhD+165+PRN20140111\n",
      "'NoneType' object has no attribute 'text'"
     ]
    },
    {
     "name": "stdout",
     "output_type": "stream",
     "text": [
      " http://www.reuters.com/article/2014/01/11/tx-dickeys-bigspring-idUSnPnDAjvDmd+164+PRN20140111\n",
      "'NoneType' object has no attribute 'text'"
     ]
    },
    {
     "name": "stdout",
     "output_type": "stream",
     "text": [
      " http://www.reuters.com/article/2014/01/11/ny-teamsters-stmnt-idUSnPnDCjxnfs+160+PRN20140111\n",
      "'NoneType' object has no attribute 'text'"
     ]
    },
    {
     "name": "stdout",
     "output_type": "stream",
     "text": [
      " http://www.reuters.com/article/2014/01/11/soda-stream-johansson-idUSnPnNYhLtkj+168+PRN20140111\n",
      "'NoneType' object has no attribute 'text'"
     ]
    },
    {
     "name": "stdout",
     "output_type": "stream",
     "text": [
      " http://www.reuters.com/article/2014/01/11/tx-att-beats-music-idUSnPnCGjxLyS+165+PRN20140111\n",
      "'NoneType' object has no attribute 'text'"
     ]
    },
    {
     "name": "stdout",
     "output_type": "stream",
     "text": [
      " http://www.reuters.com/article/2014/01/12/gac-motor-expansion-idUSnPnCNjn2Rs+162+PRN20140112\n",
      "'NoneType' object has no attribute 'text'"
     ]
    },
    {
     "name": "stdout",
     "output_type": "stream",
     "text": [
      "\n",
      "'NoneType' object has no attribute 'text'"
     ]
    },
    {
     "name": "stdout",
     "output_type": "stream",
     "text": [
      " http://www.reuters.com/article/2014/01/12/census-daily-feature-idUSnPnDCgCv1+b4+PRN20140112\n",
      "2014-01-11"
     ]
    },
    {
     "name": "stdout",
     "output_type": "stream",
     "text": [
      " http://www.reuters.com/article/2014/01/12/bc-global-competitivenes-idUSnPn80N9fD+89+PRN20140112\n",
      "'NoneType' object has no attribute 'text'"
     ]
    },
    {
     "name": "stdout",
     "output_type": "stream",
     "text": [
      " http://www.reuters.com/article/2014/01/12/caruso-retail-keynote-idUSnPnNYjvHpK+165+PRN20140112\n",
      "'NoneType' object has no attribute 'text'"
     ]
    },
    {
     "name": "stdout",
     "output_type": "stream",
     "text": [
      " http://www.reuters.com/article/2014/01/13/liberty-mutual-usoc-idUSnPnNEjy1hK+161+PRN20140113\n",
      "2014-01-12\n",
      "'NoneType' object has no attribute 'text'"
     ]
    },
    {
     "name": "stdout",
     "output_type": "stream",
     "text": [
      " http://www.reuters.com/article/2014/01/13/mi-bearnaked-oneupit-idUSnPnMMjjhl4+160+PRN20140113\n",
      "'NoneType' object has no attribute 'text'"
     ]
    },
    {
     "name": "stdout",
     "output_type": "stream",
     "text": [
      " http://www.reuters.com/article/2014/01/13/fl-us-news-rankings-idUSnPnPHjP8FD+16b+PRN20140113\n",
      "'NoneType' object has no attribute 'text'"
     ]
    },
    {
     "name": "stdout",
     "output_type": "stream",
     "text": [
      " http://www.reuters.com/article/2014/01/13/ny-cohensteers-funds-idUSnPnNYjRxD8+16a+PRN20140113\n",
      "'NoneType' object has no attribute 'text'"
     ]
    },
    {
     "name": "stdout",
     "output_type": "stream",
     "text": [
      " http://www.reuters.com/article/2014/01/13/stimson-japan-us-idUSnPnDCjG3lb+168+PRN20140113\n",
      "'NoneType' object has no attribute 'text'"
     ]
    },
    {
     "name": "stdout",
     "output_type": "stream",
     "text": [
      " http://www.reuters.com/article/2014/01/13/fl-sanomedics-growth-idUSnPnFLjB8gy+168+PRN20140113\n",
      "'NoneType' object has no attribute 'text'"
     ]
    },
    {
     "name": "stdout",
     "output_type": "stream",
     "text": [
      " http://www.reuters.com/article/2014/01/13/mi-2015-chrysler-idUSnPnDEjd8mP+161+PRN20140113\n",
      "'NoneType' object has no attribute 'text'"
     ]
    },
    {
     "name": "stdout",
     "output_type": "stream",
     "text": [
      " http://www.reuters.com/article/2014/01/13/aon-catastrophe-study-idUSnPnCGjGCms+16c+PRN20140113\n",
      "'NoneType' object has no attribute 'text'"
     ]
    },
    {
     "name": "stdout",
     "output_type": "stream",
     "text": [
      " http://www.reuters.com/article/2014/01/13/lockheed-martin-navy-idUSnPnNEjGvt0+168+PRN20140113\n",
      "'NoneType' object has no attribute 'text'"
     ]
    },
    {
     "name": "stdout",
     "output_type": "stream",
     "text": [
      " http://www.reuters.com/article/2014/01/13/td-rbc-capital-conf-idUSnPnTOdbp8+b0+PRN20140113\n",
      "'NoneType' object has no attribute 'text'"
     ]
    },
    {
     "name": "stdout",
     "output_type": "stream",
     "text": [
      " http://www.reuters.com/article/2014/01/13/dc-brandusa-agreement-idUSnPnPHjmqp8+160+PRN20140113\n",
      "'NoneType' object has no attribute 'text'"
     ]
    },
    {
     "name": "stdout",
     "output_type": "stream",
     "text": [
      " http://www.reuters.com/article/2014/01/13/ca-lead-paint-verdict-idUSnPnDCjKws0+168+PRN20140113\n",
      "'NoneType' object has no attribute 'text'"
     ]
    },
    {
     "name": "stdout",
     "output_type": "stream",
     "text": [
      "\n",
      "'NoneType' object has no attribute 'text'"
     ]
    },
    {
     "name": "stdout",
     "output_type": "stream",
     "text": [
      " http://www.reuters.com/article/2014/01/14/usatoday-gannett-idUSnPnDCk90yH+161+PRN20140114\n",
      "2014-01-13"
     ]
    },
    {
     "name": "stdout",
     "output_type": "stream",
     "text": [
      " http://www.reuters.com/article/2014/01/14/fl-forex-trading-tips-idUSnPnPHjPChY+16d+PRN20140114\n",
      "'NoneType' object has no attribute 'text'"
     ]
    },
    {
     "name": "stdout",
     "output_type": "stream",
     "text": [
      " http://www.reuters.com/article/2014/01/14/credit-suisse-coupons-idUSnPnNYjVhhn+168+PRN20140114\n",
      "'NoneType' object has no attribute 'text'"
     ]
    },
    {
     "name": "stdout",
     "output_type": "stream",
     "text": [
      " http://www.reuters.com/article/2014/01/14/idUSnMKWq76tDa+1c2+MKW20140114\n",
      "'NoneType' object has no attribute 'text'"
     ]
    },
    {
     "name": "stdout",
     "output_type": "stream",
     "text": [
      " http://www.reuters.com/article/2014/01/14/mi-kia20thusanniv7new-idUSnPnLAjXMcx+16c+PRN20140114\n",
      "'NoneType' object has no attribute 'text'"
     ]
    },
    {
     "name": "stdout",
     "output_type": "stream",
     "text": [
      " http://www.reuters.com/article/2014/01/14/jinkosolar-offering-idUSnPnCNkdyDG+163+PRN20140114\n",
      "'NoneType' object has no attribute 'text'"
     ]
    },
    {
     "name": "stdout",
     "output_type": "stream",
     "text": [
      " http://www.reuters.com/article/2014/01/14/china-gold-stone-ofr-idUSnPnCLjy8cx+160+PRN20140114\n",
      "'NoneType' object has no attribute 'text'"
     ]
    },
    {
     "name": "stdout",
     "output_type": "stream",
     "text": [
      " http://www.reuters.com/article/2014/01/14/ca-voskos-tv-ad-idUSnPnLAjZymP+169+PRN20140114\n",
      "'NoneType' object has no attribute 'text'"
     ]
    },
    {
     "name": "stdout",
     "output_type": "stream",
     "text": [
      " http://www.reuters.com/article/2014/01/14/ca-johnny-rockets-idUSnPnLAhc1CJ+163+PRN20140114\n",
      "'NoneType' object has no attribute 'text'"
     ]
    },
    {
     "name": "stdout",
     "output_type": "stream",
     "text": [
      " http://www.reuters.com/article/2014/01/14/aeterna-closing-idUSnPnMOgZpr+b4+PRN20140114\n",
      "'NoneType' object has no attribute 'text'"
     ]
    },
    {
     "name": "stdout",
     "output_type": "stream",
     "text": [
      " http://www.reuters.com/article/2014/01/14/broadband-for-america-idUSnPnNYk5Btd+164+PRN20140114\n",
      "'NoneType' object has no attribute 'text'"
     ]
    },
    {
     "name": "stdout",
     "output_type": "stream",
     "text": [
      "\n",
      "'NoneType' object has no attribute 'text'"
     ]
    },
    {
     "name": "stdout",
     "output_type": "stream",
     "text": [
      " http://www.reuters.com/article/2014/01/15/tx-sanchez-energy-idUSnPnLAkbmkj+160+PRN20140115\n",
      "2014-01-14"
     ]
    },
    {
     "name": "stdout",
     "output_type": "stream",
     "text": [
      " http://www.reuters.com/article/2014/01/15/borgwarner-guidance-idUSnPnNYklTrR+165+PRN20140115\n",
      "'NoneType' object has no attribute 'text'"
     ]
    },
    {
     "name": "stdout",
     "output_type": "stream",
     "text": [
      " http://www.reuters.com/article/2014/01/15/millenium-research-idUSnPnNEjFjhn+168+PRN20140115\n",
      "'NoneType' object has no attribute 'text'"
     ]
    },
    {
     "name": "stdout",
     "output_type": "stream",
     "text": [
      " http://www.reuters.com/article/2014/01/15/electricboat-contract-idUSnPnPHkkJmd+164+PRN20140115\n",
      "'NoneType' object has no attribute 'text'"
     ]
    },
    {
     "name": "stdout",
     "output_type": "stream",
     "text": [
      " http://www.reuters.com/article/2014/01/15/att-inc-idUSnPnCGkc01+b0+PRN20140115\n",
      "'NoneType' object has no attribute 'text'"
     ]
    },
    {
     "name": "stdout",
     "output_type": "stream",
     "text": [
      " http://www.reuters.com/article/2014/01/15/uma-top-online-degree-idUSnPnDCkrJw4+164+PRN20140115\n",
      "'NoneType' object has no attribute 'text'"
     ]
    },
    {
     "name": "stdout",
     "output_type": "stream",
     "text": [
      " http://www.reuters.com/article/2014/01/15/hcca-patient-data-idUSnPnDCkrDw9+164+PRN20140115\n",
      "'NoneType' object has no attribute 'text'"
     ]
    },
    {
     "name": "stdout",
     "output_type": "stream",
     "text": [
      " http://www.reuters.com/article/2014/01/15/md-walker-dunlop-loan-idUSnPnPHkljB3+162+PRN20140115\n",
      "'NoneType' object has no attribute 'text'"
     ]
    },
    {
     "name": "stdout",
     "output_type": "stream",
     "text": [
      "\n",
      "'NoneType' object has no attribute 'text'"
     ]
    },
    {
     "name": "stdout",
     "output_type": "stream",
     "text": [
      " http://www.reuters.com/article/2014/01/16/iberdrola-elects-bod-idUSnPnNYkHjpK+169+PRN20140116\n",
      "2014-01-15"
     ]
    },
    {
     "name": "stdout",
     "output_type": "stream",
     "text": [
      " http://www.reuters.com/article/2014/01/17/braskem-finance-limit-idUSnPnNYkRDRn+16e+PRN20140117\n",
      "'NoneType' object has no attribute 'text'"
     ]
    },
    {
     "name": "stdout",
     "output_type": "stream",
     "text": [
      " http://www.reuters.com/article/2014/01/16/braskem-finance-offer-idUSnPnNYkF7l9+168+PRN20140116\n",
      "'NoneType' object has no attribute 'text'"
     ]
    },
    {
     "name": "stdout",
     "output_type": "stream",
     "text": [
      " http://www.reuters.com/article/2014/01/16/ca-upperdeck-free-idUSnPnLAkKKwd+16c+PRN20140116\n",
      "'NoneType' object has no attribute 'text'"
     ]
    },
    {
     "name": "stdout",
     "output_type": "stream",
     "text": [
      " http://www.reuters.com/article/2014/01/16/sterling-home-styling-idUSnPnFLkp3hn+160+PRN20140116\n",
      "'NoneType' object has no attribute 'text'"
     ]
    },
    {
     "name": "stdout",
     "output_type": "stream",
     "text": [
      " http://www.reuters.com/article/2014/01/16/pa-pnc-earnings-idUSnPnNEjVQd9+16c+PRN20140116\n",
      "'NoneType' object has no attribute 'text'"
     ]
    },
    {
     "name": "stdout",
     "output_type": "stream",
     "text": [
      " http://www.reuters.com/article/2014/01/16/aegean-marine-finan-idUSnPnNYkLnB3+16a+PRN20140116\n",
      "'NoneType' object has no attribute 'text'"
     ]
    },
    {
     "name": "stdout",
     "output_type": "stream",
     "text": [
      " http://www.reuters.com/article/2014/01/16/general-dynamics-con-idUSnPnPHkJ9t0+168+PRN20140116\n",
      "'NoneType' object has no attribute 'text'"
     ]
    },
    {
     "name": "stdout",
     "output_type": "stream",
     "text": [
      " http://www.reuters.com/article/2014/01/16/gow-trainer-app-idUSnPnPHkxLhY+165+PRN20140116\n",
      "'NoneType' object has no attribute 'text'"
     ]
    },
    {
     "name": "stdout",
     "output_type": "stream",
     "text": [
      " http://www.reuters.com/article/2014/01/16/lionbridge-agreements-idUSnPnNEkFjmf+168+PRN20140116\n",
      "'NoneType' object has no attribute 'text'"
     ]
    },
    {
     "name": "stdout",
     "output_type": "stream",
     "text": [
      " http://www.reuters.com/article/2014/01/16/jinkosolar-offerings-idUSnPnCNkBNdg+16c+PRN20140116\n",
      "'NoneType' object has no attribute 'text'"
     ]
    },
    {
     "name": "stdout",
     "output_type": "stream",
     "text": [
      " http://www.reuters.com/article/2014/01/16/lionsgate-earns-conf-idUSnPnLAkydhn+160+PRN20140116\n",
      "'NoneType' object has no attribute 'text'"
     ]
    },
    {
     "name": "stdout",
     "output_type": "stream",
     "text": [
      " http://www.reuters.com/article/2014/01/16/va-capone-earns-idUSnPnNEkgLzS+165+PRN20140116\n",
      "'NoneType' object has no attribute 'text'"
     ]
    },
    {
     "name": "stdout",
     "output_type": "stream",
     "text": [
      " http://www.reuters.com/article/2014/01/16/argonmedical-fda-idUSnPnDAkzCfT+165+PRN20140116\n",
      "'NoneType' object has no attribute 'text'"
     ]
    },
    {
     "name": "stdout",
     "output_type": "stream",
     "text": [
      " http://www.reuters.com/article/2014/01/16/fair-texas-taxpayer-idUSnPnDCkLTx3+16c+PRN20140116\n",
      "'NoneType' object has no attribute 'text'"
     ]
    },
    {
     "name": "stdout",
     "output_type": "stream",
     "text": [
      "\n",
      "'NoneType' object has no attribute 'text'"
     ]
    },
    {
     "name": "stdout",
     "output_type": "stream",
     "text": [
      " http://www.reuters.com/article/2014/01/17/ny-bny-mellon-earn-idUSnPnNYkzcd6+160+PRN20140117\n",
      "2014-01-16"
     ]
    },
    {
     "name": "stdout",
     "output_type": "stream",
     "text": [
      " http://www.reuters.com/article/2014/01/17/ny-al-jazeera-america-idUSnPnNYkQJfL+16d+PRN20140117\n",
      "'NoneType' object has no attribute 'text'"
     ]
    },
    {
     "name": "stdout",
     "output_type": "stream",
     "text": [
      " http://www.reuters.com/article/2014/01/18/nj-pseg-doe-meeting-idUSnPnNYl2tKX+163+PRN20140118\n",
      "'NoneType' object has no attribute 'text'"
     ]
    },
    {
     "name": "stdout",
     "output_type": "stream",
     "text": [
      " http://www.reuters.com/article/2014/01/17/novasoutheastern-tree-idUSnPnFLkYbwl+168+PRN20140117\n",
      "'NoneType' object has no attribute 'text'"
     ]
    },
    {
     "name": "stdout",
     "output_type": "stream",
     "text": [
      "\n",
      "'NoneType' object has no attribute 'text'"
     ]
    },
    {
     "name": "stdout",
     "output_type": "stream",
     "text": [
      " http://www.reuters.com/article/2014/01/18/nektar-gastro-cancers-idUSnPnSFl36r4+160+PRN20140118\n",
      "2014-01-17"
     ]
    },
    {
     "name": "stdout",
     "output_type": "stream",
     "text": [
      " http://www.reuters.com/article/2014/01/18/census-daily-feature-idUSnPnDCgMy1+b4+PRN20140118\n",
      "'NoneType' object has no attribute 'text'"
     ]
    },
    {
     "name": "stdout",
     "output_type": "stream",
     "text": [
      " http://www.reuters.com/article/2014/01/18/ny-st-martins-press-idUSnPnAAky4B6+162+PRN20140118\n",
      "'NoneType' object has no attribute 'text'"
     ]
    },
    {
     "name": "stdout",
     "output_type": "stream",
     "text": [
      " http://www.reuters.com/article/2014/01/18/lca-research-funding-idUSnPnDCkWRq6+16c+PRN20140118\n",
      "'NoneType' object has no attribute 'text'"
     ]
    },
    {
     "name": "stdout",
     "output_type": "stream",
     "text": [
      " http://www.reuters.com/article/2014/01/18/jellybelly-draftbeer-idUSnPnMMkYtxR+169+PRN20140118\n",
      "'NoneType' object has no attribute 'text'"
     ]
    },
    {
     "name": "stdout",
     "output_type": "stream",
     "text": [
      " http://www.reuters.com/article/2014/01/18/oneup-nflconnect-game-idUSnPnFLl1kmd+160+PRN20140118\n",
      "'NoneType' object has no attribute 'text'"
     ]
    },
    {
     "name": "stdout",
     "output_type": "stream",
     "text": [
      " http://www.reuters.com/article/2014/01/18/tx-deanslyons-vs-cec-idUSnPnDAl3hD9+162+PRN20140118\n",
      "'NoneType' object has no attribute 'text'"
     ]
    },
    {
     "name": "stdout",
     "output_type": "stream",
     "text": [
      " http://www.reuters.com/article/2014/01/18/tx-caris-tumor-study-idUSnPnPHl0Pfs+164+PRN20140118\n",
      "'NoneType' object has no attribute 'text'"
     ]
    },
    {
     "name": "stdout",
     "output_type": "stream",
     "text": [
      " http://www.reuters.com/article/2014/01/18/acr-thorwarth-ceo-idUSnPnDCl0hyW+161+PRN20140118\n",
      "'NoneType' object has no attribute 'text'"
     ]
    },
    {
     "name": "stdout",
     "output_type": "stream",
     "text": [
      "\n",
      "'NoneType' object has no attribute 'text'"
     ]
    },
    {
     "name": "stdout",
     "output_type": "stream",
     "text": [
      " http://www.reuters.com/article/2014/01/19/census-daily-feature-idUSnPnDCgMz1+b4+PRN20140119\n",
      "2014-01-18"
     ]
    },
    {
     "name": "stdout",
     "output_type": "stream",
     "text": [
      " http://www.reuters.com/article/2014/01/19/qatar-airways-sale-idUSnPnNYkr5rF+161+PRN20140119\n",
      "'NoneType' object has no attribute 'text'"
     ]
    },
    {
     "name": "stdout",
     "output_type": "stream",
     "text": [
      "\n",
      "'NoneType' object has no attribute 'text'"
     ]
    },
    {
     "name": "stdout",
     "output_type": "stream",
     "text": [
      " http://www.reuters.com/article/2014/01/20/ctrip-conf-call-feb-idUSnPnCNl4H7H+165+PRN20140120\n",
      "2014-01-19"
     ]
    },
    {
     "name": "stdout",
     "output_type": "stream",
     "text": [
      " http://www.reuters.com/article/2014/01/20/macallan-record-price-idUSnPnNYl7wpY+161+PRN20140120\n",
      "'NoneType' object has no attribute 'text'"
     ]
    },
    {
     "name": "stdout",
     "output_type": "stream",
     "text": [
      " http://www.reuters.com/article/2014/01/20/va-lunarlinetestimony-idUSnPnPHl8Vrm+164+PRN20140120\n",
      "'NoneType' object has no attribute 'text'"
     ]
    },
    {
     "name": "stdout",
     "output_type": "stream",
     "text": [
      " http://www.reuters.com/article/2014/01/20/ny-levikorsinsky-idUSnPnNYl95rn+160+PRN20140120\n",
      "'NoneType' object has no attribute 'text'"
     ]
    },
    {
     "name": "stdout",
     "output_type": "stream",
     "text": [
      " http://www.reuters.com/article/2014/01/20/rubiales-pel-start-up-idUSnPnTOjccx+b0+PRN20140120\n",
      "'NoneType' object has no attribute 'text'"
     ]
    },
    {
     "name": "stdout",
     "output_type": "stream",
     "text": [
      "\n",
      "'NoneType' object has no attribute 'text'"
     ]
    },
    {
     "name": "stdout",
     "output_type": "stream",
     "text": [
      " http://www.reuters.com/article/2014/01/21/tx-academic-partner-idUSnPnAQly5B1+162+PRN20140121\n",
      "2014-01-20"
     ]
    },
    {
     "name": "stdout",
     "output_type": "stream",
     "text": [
      " http://www.reuters.com/article/2014/01/21/consol-growthstrategy-idUSnPnNEl8Hfs+164+PRN20140121\n",
      "'NoneType' object has no attribute 'text'"
     ]
    },
    {
     "name": "stdout",
     "output_type": "stream",
     "text": [
      " http://www.reuters.com/article/2014/01/21/decision-resources-idUSnPnNElrxr4+160+PRN20140121\n",
      "'NoneType' object has no attribute 'text'"
     ]
    },
    {
     "name": "stdout",
     "output_type": "stream",
     "text": [
      " http://www.reuters.com/article/2014/01/21/nj-ny-valerie-fund-idUSnPnNYldjhK+161+PRN20140121\n",
      "'NoneType' object has no attribute 'text'"
     ]
    },
    {
     "name": "stdout",
     "output_type": "stream",
     "text": [
      " http://www.reuters.com/article/2014/01/21/mcdonaldhouse-rangers-idUSnPnNYkXcnh+168+PRN20140121\n",
      "'NoneType' object has no attribute 'text'"
     ]
    },
    {
     "name": "stdout",
     "output_type": "stream",
     "text": [
      " http://www.reuters.com/article/2014/01/21/opentext-venture-cap-idUSnPnCLlD9Gj+16a+PRN20140121\n",
      "'NoneType' object has no attribute 'text'"
     ]
    },
    {
     "name": "stdout",
     "output_type": "stream",
     "text": [
      " http://www.reuters.com/article/2014/01/21/oxford-finance-expand-idUSnPnNYlmXmd+164+PRN20140121\n",
      "'NoneType' object has no attribute 'text'"
     ]
    },
    {
     "name": "stdout",
     "output_type": "stream",
     "text": [
      " http://www.reuters.com/article/2014/01/21/bny-mellon-report-idUSnPnNYlmDgn+164+PRN20140121\n",
      "'NoneType' object has no attribute 'text'"
     ]
    },
    {
     "name": "stdout",
     "output_type": "stream",
     "text": [
      " http://www.reuters.com/article/2014/01/21/ca-autopacific-foreca-idUSnPnLAl9g1+b0+PRN20140121\n",
      "'NoneType' object has no attribute 'text'"
     ]
    },
    {
     "name": "stdout",
     "output_type": "stream",
     "text": [
      " http://www.reuters.com/article/2014/01/21/bbva-compass-award-idUSnPnDAlpln7+160+PRN20140121\n",
      "'NoneType' object has no attribute 'text'"
     ]
    },
    {
     "name": "stdout",
     "output_type": "stream",
     "text": [
      " http://www.reuters.com/article/2014/01/21/stonyfield-new-flavor-idUSnPnNElntkK+161+PRN20140121\n",
      "'NoneType' object has no attribute 'text'"
     ]
    },
    {
     "name": "stdout",
     "output_type": "stream",
     "text": [
      " http://www.reuters.com/article/2014/01/21/ca-jassc-japan-idUSnPnLAlvLwf+164+PRN20140121\n",
      "'NoneType' object has no attribute 'text'"
     ]
    },
    {
     "name": "stdout",
     "output_type": "stream",
     "text": [
      " http://www.reuters.com/article/2014/01/21/va-nii-holdings-prip-idUSnPnFLlhzhn+160+PRN20140121\n",
      "'NoneType' object has no attribute 'text'"
     ]
    },
    {
     "name": "stdout",
     "output_type": "stream",
     "text": [
      "\n",
      "'NoneType' object has no attribute 'text'"
     ]
    },
    {
     "name": "stdout",
     "output_type": "stream",
     "text": [
      " http://www.reuters.com/article/2014/01/22/honeywell-us-army-idUSnPnNYlrGkj+164+PRN20140122\n",
      "2014-01-21"
     ]
    },
    {
     "name": "stdout",
     "output_type": "stream",
     "text": [
      " http://www.reuters.com/article/2014/01/22/ca-wdc-q2-earnings-idUSnPnLAlPRB3+16e+PRN20140122\n",
      "'NoneType' object has no attribute 'text'"
     ]
    },
    {
     "name": "stdout",
     "output_type": "stream",
     "text": [
      " http://www.reuters.com/article/2014/01/22/tx-choiceyone-website-idUSnPnFLlSFyR+16d+PRN20140122\n",
      "'NoneType' object has no attribute 'text'"
     ]
    },
    {
     "name": "stdout",
     "output_type": "stream",
     "text": [
      " http://www.reuters.com/article/2014/01/22/garmatex-makers-usa-idUSnPnTOjY9C+b5+PRN20140122\n",
      "'NoneType' object has no attribute 'text'"
     ]
    },
    {
     "name": "stdout",
     "output_type": "stream",
     "text": [
      " http://www.reuters.com/article/2014/01/22/sixt-franchise-usa-idUSnPnFLl6KhY+165+PRN20140122\n",
      "'NoneType' object has no attribute 'text'"
     ]
    },
    {
     "name": "stdout",
     "output_type": "stream",
     "text": [
      " http://www.reuters.com/article/2014/01/22/ma-decision-resources-idUSnPnNElzJmd+164+PRN20140122\n",
      "'NoneType' object has no attribute 'text'"
     ]
    },
    {
     "name": "stdout",
     "output_type": "stream",
     "text": [
      " http://www.reuters.com/article/2014/01/22/ct-utc-q4-earnings-idUSnPnNElD2dG+169+PRN20140122\n",
      "'NoneType' object has no attribute 'text'"
     ]
    },
    {
     "name": "stdout",
     "output_type": "stream",
     "text": [
      " http://www.reuters.com/article/2014/01/22/tx-rigzone-hiring-svy-idUSnPnNYlnjmq+160+PRN20140122\n",
      "'NoneType' object has no attribute 'text'"
     ]
    },
    {
     "name": "stdout",
     "output_type": "stream",
     "text": [
      " http://www.reuters.com/article/2014/01/22/jinko-offerings-idUSnPnCNlHrCH+16b+PRN20140122\n",
      "'NoneType' object has no attribute 'text'"
     ]
    },
    {
     "name": "stdout",
     "output_type": "stream",
     "text": [
      "\n",
      "'NoneType' object has no attribute 'text'"
     ]
    },
    {
     "name": "stdout",
     "output_type": "stream",
     "text": [
      " http://www.reuters.com/article/2014/01/23/oh-keycorp-earnings-idUSnPnCLkZMdp+16c+PRN20140123\n",
      "2014-01-22"
     ]
    },
    {
     "name": "stdout",
     "output_type": "stream",
     "text": [
      " http://www.reuters.com/article/2014/01/23/cathaygeneralbancorp-idUSnPnLAlYkBl+16a+PRN20140123\n",
      "'NoneType' object has no attribute 'text'"
     ]
    },
    {
     "name": "stdout",
     "output_type": "stream",
     "text": [
      " http://www.reuters.com/article/2014/01/23/uscm-walmart-jobs-idUSnPnDCmc2Bp+162+PRN20140123\n",
      "'NoneType' object has no attribute 'text'"
     ]
    },
    {
     "name": "stdout",
     "output_type": "stream",
     "text": [
      " http://www.reuters.com/article/2014/01/23/wal-mart-new-fund-idUSnPnDAm2Gpg+164+PRN20140123\n",
      "'NoneType' object has no attribute 'text'"
     ]
    },
    {
     "name": "stdout",
     "output_type": "stream",
     "text": [
      " http://www.reuters.com/article/2014/01/23/mo-gsbc-q4-earnings-idUSnPnCGlYsfs+168+PRN20140123\n",
      "'NoneType' object has no attribute 'text'"
     ]
    },
    {
     "name": "stdout",
     "output_type": "stream",
     "text": [
      " http://www.reuters.com/article/2014/01/23/min-wage-sec-of-labor-idUSnPnDCm99wZ+161+PRN20140123\n",
      "'NoneType' object has no attribute 'text'"
     ]
    },
    {
     "name": "stdout",
     "output_type": "stream",
     "text": [
      " http://www.reuters.com/article/2014/01/23/ahaa-conference-idUSnPnDClXphn+168+PRN20140123\n",
      "'NoneType' object has no attribute 'text'"
     ]
    },
    {
     "name": "stdout",
     "output_type": "stream",
     "text": [
      " http://www.reuters.com/article/2014/01/23/ad-council-adoption-idUSnPnMMkDTd6+16c+PRN20140123\n",
      "'NoneType' object has no attribute 'text'"
     ]
    },
    {
     "name": "stdout",
     "output_type": "stream",
     "text": [
      " http://www.reuters.com/article/2014/01/24/nj-honeywell-earnings-idUSnPnNYm8Hfs+164+PRN20140124\n",
      "2014-01-23\n",
      "'NoneType' object has no attribute 'text'"
     ]
    },
    {
     "name": "stdout",
     "output_type": "stream",
     "text": [
      " http://www.reuters.com/article/2014/01/24/bc-santa-fe-gold-idUSnPn8SDhhn+98+PRN20140124\n",
      "'NoneType' object has no attribute 'text'"
     ]
    },
    {
     "name": "stdout",
     "output_type": "stream",
     "text": [
      " http://www.reuters.com/article/2014/01/24/kellogg-sochi-teens-idUSnPnMMmfpkj+160+PRN20140124\n",
      "'NoneType' object has no attribute 'text'"
     ]
    },
    {
     "name": "stdout",
     "output_type": "stream",
     "text": [
      " http://www.reuters.com/article/2014/01/24/nd-bnccorpinc-erns-idUSnPnCGm9Yfs+164+PRN20140124\n",
      "'NoneType' object has no attribute 'text'"
     ]
    },
    {
     "name": "stdout",
     "output_type": "stream",
     "text": [
      " http://www.reuters.com/article/2014/01/24/abu-dhabi-southwest-idUSnPnDCmrNFQ+167+PRN20140124\n",
      "'NoneType' object has no attribute 'text'"
     ]
    },
    {
     "name": "stdout",
     "output_type": "stream",
     "text": [
      " http://www.reuters.com/article/2014/01/24/uscommisscivilrights-idUSnPnDCmlgrx+160+PRN20140124\n",
      "'NoneType' object has no attribute 'text'"
     ]
    },
    {
     "name": "stdout",
     "output_type": "stream",
     "text": [
      " http://www.reuters.com/article/2014/01/24/mslgroup-food-trends-idUSnPnNYmm1tJ+161+PRN20140124\n",
      "'NoneType' object has no attribute 'text'"
     ]
    },
    {
     "name": "stdout",
     "output_type": "stream",
     "text": [
      "\n",
      "'NoneType' object has no attribute 'text'"
     ]
    },
    {
     "name": "stdout",
     "output_type": "stream",
     "text": [
      " http://www.reuters.com/article/2014/01/25/faruqi-llp-nu-skin-idUSnPnNYmsGmq+164+PRN20140125\n",
      "2014-01-24"
     ]
    },
    {
     "name": "stdout",
     "output_type": "stream",
     "text": [
      " http://www.reuters.com/article/2014/01/25/census-daily-feature-idUSnPnDCj8G1+b2+PRN20140125\n",
      "'NoneType' object has no attribute 'text'"
     ]
    },
    {
     "name": "stdout",
     "output_type": "stream",
     "text": [
      " http://www.reuters.com/article/2014/01/25/la-lotlinx-research-idUSnPnSFm5qht+160+PRN20140125\n",
      "'NoneType' object has no attribute 'text'"
     ]
    },
    {
     "name": "stdout",
     "output_type": "stream",
     "text": [
      " http://www.reuters.com/article/2014/01/25/mi-ford-2013-giving-idUSnPnDEmpth+b0+PRN20140125\n",
      "'NoneType' object has no attribute 'text'"
     ]
    },
    {
     "name": "stdout",
     "output_type": "stream",
     "text": [
      " http://www.reuters.com/article/2014/01/25/la-ally-time-award-idUSnPnDEmtJFP+167+PRN20140125\n",
      "'NoneType' object has no attribute 'text'"
     ]
    },
    {
     "name": "stdout",
     "output_type": "stream",
     "text": [
      " http://www.reuters.com/article/2014/01/26/ga-honda-hbcu-bands-idUSnPnLAmtYPp+166+PRN20140126\n",
      "'NoneType' object has no attribute 'text'"
     ]
    },
    {
     "name": "stdout",
     "output_type": "stream",
     "text": [
      " http://www.reuters.com/article/2014/01/25/nada-2014-auto-sales-idUSnPnDCmtxpN+161+PRN20140125\n",
      "'NoneType' object has no attribute 'text'"
     ]
    },
    {
     "name": "stdout",
     "output_type": "stream",
     "text": [
      " http://www.reuters.com/article/2014/01/25/reynolds-docupad-idUSnPnCLmtnvW+161+PRN20140125\n",
      "'NoneType' object has no attribute 'text'"
     ]
    },
    {
     "name": "stdout",
     "output_type": "stream",
     "text": [
      " http://www.reuters.com/article/2014/01/25/hyundai-superbowl-ad-idUSnPnLAmgphn+160+PRN20140125\n",
      "'NoneType' object has no attribute 'text'"
     ]
    },
    {
     "name": "stdout",
     "output_type": "stream",
     "text": [
      " http://www.reuters.com/article/2014/01/25/la-carscom-idUSnPnCGmrBmd+164+PRN20140125\n",
      "'NoneType' object has no attribute 'text'"
     ]
    },
    {
     "name": "stdout",
     "output_type": "stream",
     "text": [
      " http://www.reuters.com/article/2014/01/25/manheim-usedcarreport-idUSnPnCLmmWq1+164+PRN20140125\n",
      "'NoneType' object has no attribute 'text'"
     ]
    },
    {
     "name": "stdout",
     "output_type": "stream",
     "text": [
      "\n",
      "'NoneType' object has no attribute 'text'"
     ]
    },
    {
     "name": "stdout",
     "output_type": "stream",
     "text": [
      " http://www.reuters.com/article/2014/01/27/wealth-x-lina-idUSnPnNYmxgRP+163+PRN20140127\n",
      "2014-01-25"
     ]
    },
    {
     "name": "stdout",
     "output_type": "stream",
     "text": [
      " http://www.reuters.com/article/2014/01/26/census-daily-feature-idUSnPnDCl7l1+b0+PRN20140126\n",
      "'NoneType' object has no attribute 'text'"
     ]
    },
    {
     "name": "stdout",
     "output_type": "stream",
     "text": [
      " http://www.reuters.com/article/2014/01/26/honduran-zede-idUSnPnMXmw3GK+163+PRN20140126\n",
      "'NoneType' object has no attribute 'text'"
     ]
    },
    {
     "name": "stdout",
     "output_type": "stream",
     "text": [
      " http://www.reuters.com/article/2014/01/26/olympuspartners-acqrs-idUSnPnDCmvgp8+160+PRN20140126\n",
      "'NoneType' object has no attribute 'text'"
     ]
    },
    {
     "name": "stdout",
     "output_type": "stream",
     "text": [
      " http://www.reuters.com/article/2014/01/27/la-nada-adesa-auction-idUSnPnDCmwlKJ+163+PRN20140127\n",
      "'NoneType' object has no attribute 'text'"
     ]
    },
    {
     "name": "stdout",
     "output_type": "stream",
     "text": [
      " http://www.reuters.com/article/2014/01/26/nv-tempursealyintl-idUSnPnCGmnyhn+160+PRN20140126\n",
      "'NoneType' object has no attribute 'text'"
     ]
    },
    {
     "name": "stdout",
     "output_type": "stream",
     "text": [
      " http://www.reuters.com/article/2014/01/26/ks-vinsolutions-brand-idUSnPnCLmvkr4+160+PRN20140126\n",
      "'NoneType' object has no attribute 'text'"
     ]
    },
    {
     "name": "stdout",
     "output_type": "stream",
     "text": [
      "\n",
      "'NoneType' object has no attribute 'text'"
     ]
    },
    {
     "name": "stdout",
     "output_type": "stream",
     "text": [
      " http://www.reuters.com/article/2014/01/27/pa-verifirstscreening-idUSnPnPHmnVj3+164+PRN20140127\n",
      "2014-01-26"
     ]
    },
    {
     "name": "stdout",
     "output_type": "stream",
     "text": [
      " http://www.reuters.com/article/2014/01/27/southwestannounces-idUSnPnDAmwXhn+164+PRN20140127\n",
      "'NoneType' object has no attribute 'text'"
     ]
    },
    {
     "name": "stdout",
     "output_type": "stream",
     "text": [
      " http://www.reuters.com/article/2014/01/27/siliconware-ern-idUSnPnHKmx9G+b1+PRN20140127\n",
      "'NoneType' object has no attribute 'text'"
     ]
    },
    {
     "name": "stdout",
     "output_type": "stream",
     "text": [
      " http://www.reuters.com/article/2014/01/27/ma-haemonetics-earns-idUSnPnNEmjlcx+160+PRN20140127\n",
      "'NoneType' object has no attribute 'text'"
     ]
    },
    {
     "name": "stdout",
     "output_type": "stream",
     "text": [
      " http://www.reuters.com/article/2014/01/27/ny-pwc-us-lodging-idUSnPnNYmr1p8+160+PRN20140127\n",
      "'NoneType' object has no attribute 'text'"
     ]
    },
    {
     "name": "stdout",
     "output_type": "stream",
     "text": [
      " http://www.reuters.com/article/2014/01/27/ny-bny-mellon-global-idUSnPnNYmlpfs+160+PRN20140127\n",
      "'NoneType' object has no attribute 'text'"
     ]
    },
    {
     "name": "stdout",
     "output_type": "stream",
     "text": [
      " http://www.reuters.com/article/2014/01/27/zions-bancorp-earnsq-idUSnPnLAmtGzY+165+PRN20140127\n",
      "'NoneType' object has no attribute 'text'"
     ]
    },
    {
     "name": "stdout",
     "output_type": "stream",
     "text": [
      " http://www.reuters.com/article/2014/01/27/co-olive-tech-elects-idUSnPnPHmrjhY+161+PRN20140127\n",
      "'NoneType' object has no attribute 'text'"
     ]
    },
    {
     "name": "stdout",
     "output_type": "stream",
     "text": [
      " http://www.reuters.com/article/2014/01/27/ny-eladgrouppenthouse-idUSnPnNYmFwt2+168+PRN20140127\n",
      "'NoneType' object has no attribute 'text'"
     ]
    },
    {
     "name": "stdout",
     "output_type": "stream",
     "text": [
      "\n",
      "'NoneType' object has no attribute 'text'"
     ]
    },
    {
     "name": "stdout",
     "output_type": "stream",
     "text": [
      " http://www.reuters.com/article/2014/01/28/united-bancorp-earns-idUSnPnCLn3DvW+165+PRN20140128\n",
      "2014-01-27"
     ]
    },
    {
     "name": "stdout",
     "output_type": "stream",
     "text": [
      " http://www.reuters.com/article/2014/01/28/fl-eastern-air-lines-idUSnPnFLn09pr+160+PRN20140128\n",
      "'NoneType' object has no attribute 'text'"
     ]
    },
    {
     "name": "stdout",
     "output_type": "stream",
     "text": [
      " http://www.reuters.com/article/2014/01/28/7-eleven-pizzapricing-idUSnPnDAmwBs3+164+PRN20140128\n",
      "'NoneType' object has no attribute 'text'"
     ]
    },
    {
     "name": "stdout",
     "output_type": "stream",
     "text": [
      " http://www.reuters.com/article/2014/01/28/dupont-earnings-idUSnPnPHmS3cx+168+PRN20140128\n",
      "'NoneType' object has no attribute 'text'"
     ]
    },
    {
     "name": "stdout",
     "output_type": "stream",
     "text": [
      " http://www.reuters.com/article/2014/01/28/mi-ford-earnings-idUSnPnDEmK7fs+168+PRN20140128\n",
      "'NoneType' object has no attribute 'text'"
     ]
    },
    {
     "name": "stdout",
     "output_type": "stream",
     "text": [
      " http://www.reuters.com/article/2014/01/28/pwc-us-mergeacquire-idUSnPnNYmSfkj+168+PRN20140128\n",
      "'NoneType' object has no attribute 'text'"
     ]
    },
    {
     "name": "stdout",
     "output_type": "stream",
     "text": [
      " http://www.reuters.com/article/2014/01/28/al-byowireless-plans-idUSnPnDAn3Frw+164+PRN20140128\n",
      "'NoneType' object has no attribute 'text'"
     ]
    },
    {
     "name": "stdout",
     "output_type": "stream",
     "text": [
      " http://www.reuters.com/article/2014/01/28/ny-convergex-hires-idUSnPnNYn8tyM+161+PRN20140128\n",
      "'NoneType' object has no attribute 'text'"
     ]
    },
    {
     "name": "stdout",
     "output_type": "stream",
     "text": [
      " http://www.reuters.com/article/2014/01/28/ny-greenhill-co-earn-idUSnPnNYn6BzN+165+PRN20140128\n",
      "'NoneType' object has no attribute 'text'"
     ]
    },
    {
     "name": "stdout",
     "output_type": "stream",
     "text": [
      " http://www.reuters.com/article/2014/01/28/ford-credit-earnings-idUSnPnDEmDtfw+168+PRN20140128\n",
      "'NoneType' object has no attribute 'text'"
     ]
    },
    {
     "name": "stdout",
     "output_type": "stream",
     "text": [
      " http://www.reuters.com/article/2014/01/28/lockheed-martin-con-idUSnPnFLmY3md+168+PRN20140128\n",
      "'NoneType' object has no attribute 'text'"
     ]
    },
    {
     "name": "stdout",
     "output_type": "stream",
     "text": [
      " http://www.reuters.com/article/2014/01/29/ny-wealth-x-mayer-idUSnPnNYngSQ9+166+PRN20140129\n",
      "'NoneType' object has no attribute 'text'"
     ]
    },
    {
     "name": "stdout",
     "output_type": "stream",
     "text": [
      " http://www.reuters.com/article/2014/01/28/amgen-ernsdiv-idUSnPnLAmSFzP+16d+PRN20140128\n",
      "'NoneType' object has no attribute 'text'"
     ]
    },
    {
     "name": "stdout",
     "output_type": "stream",
     "text": [
      " http://www.reuters.com/article/2014/01/28/il-joneslang-earnings-idUSnPnCLmNKB3+16e+PRN20140128\n",
      "'NoneType' object has no attribute 'text'"
     ]
    },
    {
     "name": "stdout",
     "output_type": "stream",
     "text": [
      " http://www.reuters.com/article/2014/01/28/ca-winans-housing-idUSnPnSFnd4Gf+162+PRN20140128\n",
      "'NoneType' object has no attribute 'text'"
     ]
    },
    {
     "name": "stdout",
     "output_type": "stream",
     "text": [
      " http://www.reuters.com/article/2014/01/28/ctia-klcs-kjla-pilot-idUSnPnDCn2cyq+160+PRN20140128\n",
      "'NoneType' object has no attribute 'text'"
     ]
    },
    {
     "name": "stdout",
     "output_type": "stream",
     "text": [
      " http://www.reuters.com/article/2014/01/28/bc-yotta-idUSnPn98wXmD+85+PRN20140128\n",
      "'NoneType' object has no attribute 'text'"
     ]
    },
    {
     "name": "stdout",
     "output_type": "stream",
     "text": [
      " http://www.reuters.com/article/2014/01/28/tx-ezpw-earnings-idUSnPnDAn32zM+161+PRN20140128\n",
      "'NoneType' object has no attribute 'text'"
     ]
    },
    {
     "name": "stdout",
     "output_type": "stream",
     "text": [
      " http://www.reuters.com/article/2014/01/28/me-camden-earns-idUSnPnNEmNDzS+16d+PRN20140128\n",
      "'NoneType' object has no attribute 'text'"
     ]
    },
    {
     "name": "stdout",
     "output_type": "stream",
     "text": [
      " http://www.reuters.com/article/2014/01/28/ny-princeton-review-idUSnPnNYmV1d6+168+PRN20140128\n",
      "'NoneType' object has no attribute 'text'"
     ]
    },
    {
     "name": "stdout",
     "output_type": "stream",
     "text": [
      " http://www.reuters.com/article/2014/01/28/pa-atlaspipeline-call-idUSnPnPHn9JBB+167+PRN20140128\n",
      "'NoneType' object has no attribute 'text'"
     ]
    },
    {
     "name": "stdout",
     "output_type": "stream",
     "text": [
      "\n",
      "'NoneType' object has no attribute 'text'"
     ]
    },
    {
     "name": "stdout",
     "output_type": "stream",
     "text": [
      " http://www.reuters.com/article/2014/01/29/rogers-tender-offers-idUSnPnTOlyzM+b1+PRN20140129\n",
      "2014-01-28"
     ]
    },
    {
     "name": "stdout",
     "output_type": "stream",
     "text": [
      " http://www.reuters.com/article/2014/01/29/energizer-holdings-idUSnPnCGnfBg2+164+PRN20140129\n",
      "'NoneType' object has no attribute 'text'"
     ]
    },
    {
     "name": "stdout",
     "output_type": "stream",
     "text": [
      " http://www.reuters.com/article/2014/01/29/contourglobal-acquire-idUSnPnLAnl0hZ+161+PRN20140129\n",
      "'NoneType' object has no attribute 'text'"
     ]
    },
    {
     "name": "stdout",
     "output_type": "stream",
     "text": [
      " http://www.reuters.com/article/2014/01/29/aep-lp-equity-aeno-idUSnPnNYng7fs+160+PRN20140129\n",
      "'NoneType' object has no attribute 'text'"
     ]
    },
    {
     "name": "stdout",
     "output_type": "stream",
     "text": [
      " http://www.reuters.com/article/2014/01/29/astoria-financial-ern-idUSnPnNYnqGBp+166+PRN20140129\n",
      "'NoneType' object has no attribute 'text'"
     ]
    },
    {
     "name": "stdout",
     "output_type": "stream",
     "text": [
      " http://www.reuters.com/article/2014/01/29/usa-today-50yard-idUSnPnDCncSkr+164+PRN20140129\n",
      "'NoneType' object has no attribute 'text'"
     ]
    },
    {
     "name": "stdout",
     "output_type": "stream",
     "text": [
      " http://www.reuters.com/article/2014/01/29/yongestnamingrights-idUSnPnTOlDwg+b4+PRN20140129\n",
      "'NoneType' object has no attribute 'text'"
     ]
    },
    {
     "name": "stdout",
     "output_type": "stream",
     "text": [
      " http://www.reuters.com/article/2014/01/29/core-labs-earnings-idUSnPnDAnxmD2+162+PRN20140129\n",
      "'NoneType' object has no attribute 'text'"
     ]
    },
    {
     "name": "stdout",
     "output_type": "stream",
     "text": [
      " http://www.reuters.com/article/2014/01/29/mi-chrysler-earns-idUSnPnDEndXb5+164+PRN20140129\n",
      "'NoneType' object has no attribute 'text'"
     ]
    },
    {
     "name": "stdout",
     "output_type": "stream",
     "text": [
      " http://www.reuters.com/article/2014/01/29/comerica-incorporated-idUSnPnDAnlkl1+160+PRN20140129\n",
      "'NoneType' object has no attribute 'text'"
     ]
    },
    {
     "name": "stdout",
     "output_type": "stream",
     "text": [
      " http://www.reuters.com/article/2014/01/29/ny-wealthx-oil-rich-idUSnPnNYnj67H+161+PRN20140129\n",
      "'NoneType' object has no attribute 'text'"
     ]
    },
    {
     "name": "stdout",
     "output_type": "stream",
     "text": [
      " http://www.reuters.com/article/2014/01/29/co-cannabis-science-idUSnPnLAnqss7+160+PRN20140129\n",
      "'NoneType' object has no attribute 'text'"
     ]
    },
    {
     "name": "stdout",
     "output_type": "stream",
     "text": [
      " http://www.reuters.com/article/2014/01/29/at-kearney-fdici-idUSnPnCGnxGCX+167+PRN20140129\n",
      "'NoneType' object has no attribute 'text'"
     ]
    },
    {
     "name": "stdout",
     "output_type": "stream",
     "text": [
      " http://www.reuters.com/article/2014/01/29/ok-guthrie-prize-idUSnPnDAnw1yP+161+PRN20140129\n",
      "'NoneType' object has no attribute 'text'"
     ]
    },
    {
     "name": "stdout",
     "output_type": "stream",
     "text": [
      " http://www.reuters.com/article/2014/01/29/decision-resources-idUSnPnNEnbHmd+164+PRN20140129\n",
      "'NoneType' object has no attribute 'text'"
     ]
    },
    {
     "name": "stdout",
     "output_type": "stream",
     "text": [
      " http://www.reuters.com/article/2014/01/29/ca-truecar-forecast-idUSnPnLAnj4fs+160+PRN20140129\n",
      "'NoneType' object has no attribute 'text'"
     ]
    },
    {
     "name": "stdout",
     "output_type": "stream",
     "text": [
      " http://www.reuters.com/article/2014/01/29/ntuf-obama-sotu-idUSnPnDCnwDzZ+165+PRN20140129\n",
      "'NoneType' object has no attribute 'text'"
     ]
    },
    {
     "name": "stdout",
     "output_type": "stream",
     "text": [
      "\n",
      "'NoneType' object has no attribute 'text'"
     ]
    },
    {
     "name": "stdout",
     "output_type": "stream",
     "text": [
      " http://www.reuters.com/article/2014/01/30/cms-energy-earns-idUSnPnDEnvCg2+164+PRN20140130\n",
      "2014-01-29"
     ]
    },
    {
     "name": "stdout",
     "output_type": "stream",
     "text": [
      " http://www.reuters.com/article/2014/01/31/braskem-finance-offer-idUSnPnNYnW6L8+16a+PRN20140131\n",
      "'NoneType' object has no attribute 'text'"
     ]
    },
    {
     "name": "stdout",
     "output_type": "stream",
     "text": [
      " http://www.reuters.com/article/2014/01/30/ny-nickelodeon-nfl-idUSnPnNYnKppL+169+PRN20140130\n",
      "'NoneType' object has no attribute 'text'"
     ]
    },
    {
     "name": "stdout",
     "output_type": "stream",
     "text": [
      " http://www.reuters.com/article/2014/01/30/co-fourpoint-enervest-idUSnPnLAnV4Gn+16a+PRN20140130\n",
      "'NoneType' object has no attribute 'text'"
     ]
    },
    {
     "name": "stdout",
     "output_type": "stream",
     "text": [
      " http://www.reuters.com/article/2014/01/30/nam-harvard-piracy-us-idUSnPnDCnJCpK+16d+PRN20140130\n",
      "'NoneType' object has no attribute 'text'"
     ]
    },
    {
     "name": "stdout",
     "output_type": "stream",
     "text": [
      " http://www.reuters.com/article/2014/01/30/unilevernewaxehairgel-idUSnPnMMnBDht+16c+PRN20140130\n",
      "'NoneType' object has no attribute 'text'"
     ]
    },
    {
     "name": "stdout",
     "output_type": "stream",
     "text": [
      " http://www.reuters.com/article/2014/01/30/ca-corelogic-indexes-idUSnPnSFnvwht+160+PRN20140130\n",
      "'NoneType' object has no attribute 'text'"
     ]
    },
    {
     "name": "stdout",
     "output_type": "stream",
     "text": [
      " http://www.reuters.com/article/2014/01/30/sli-systems-football-idUSnPnSFnBlhn+168+PRN20140130\n",
      "'NoneType' object has no attribute 'text'"
     ]
    },
    {
     "name": "stdout",
     "output_type": "stream",
     "text": [
      " http://www.reuters.com/article/2014/01/30/cat-repurchase-auth-idUSnPnCGnvskj+160+PRN20140130\n",
      "'NoneType' object has no attribute 'text'"
     ]
    },
    {
     "name": "stdout",
     "output_type": "stream",
     "text": [
      " http://www.reuters.com/article/2014/01/30/chubbcorporationearns-idUSnPnNYnJzzN+169+PRN20140130\n",
      "'NoneType' object has no attribute 'text'"
     ]
    },
    {
     "name": "stdout",
     "output_type": "stream",
     "text": [
      " http://www.reuters.com/article/2014/01/30/toysrusspecolympics-idUSnPnNYnv0jv+160+PRN20140130\n",
      "'NoneType' object has no attribute 'text'"
     ]
    },
    {
     "name": "stdout",
     "output_type": "stream",
     "text": [
      " http://www.reuters.com/article/2014/01/30/tx-trend-micro-grants-idUSnPnSFnJjpb+168+PRN20140130\n",
      "'NoneType' object has no attribute 'text'"
     ]
    },
    {
     "name": "stdout",
     "output_type": "stream",
     "text": [
      " http://www.reuters.com/article/2014/01/30/csi-water-energy-idUSnPnDCnL4t0+168+PRN20140130\n",
      "'NoneType' object has no attribute 'text'"
     ]
    },
    {
     "name": "stdout",
     "output_type": "stream",
     "text": [
      "\n",
      "'NoneType' object has no attribute 'text'"
     ]
    },
    {
     "name": "stdout",
     "output_type": "stream",
     "text": [
      " http://www.reuters.com/article/2014/01/31/us-antidumping-china-idUSnPnDCnYBlq+16c+PRN20140131\n",
      "2014-01-30"
     ]
    },
    {
     "name": "stdout",
     "output_type": "stream",
     "text": [
      " http://www.reuters.com/article/2014/01/31/tyco-earnings-q-idUSnPnPHmxmbL+161+PRN20140131\n",
      "'NoneType' object has no attribute 'text'"
     ]
    },
    {
     "name": "stdout",
     "output_type": "stream",
     "text": [
      " http://www.reuters.com/article/2014/01/31/health-insurance-hike-idUSnPnDCp37wS+161+PRN20140131\n",
      "'NoneType' object has no attribute 'text'"
     ]
    },
    {
     "name": "stdout",
     "output_type": "stream",
     "text": [
      " http://www.reuters.com/article/2014/01/31/dcaa-junk-food-tax-idUSnPnDCp5RDg+166+PRN20140131\n",
      "'NoneType' object has no attribute 'text'"
     ]
    },
    {
     "name": "stdout",
     "output_type": "stream",
     "text": [
      " http://www.reuters.com/article/2014/01/31/ca-kfn-q4-earnings-idUSnPnSFnTChr+16c+PRN20140131\n",
      "'NoneType' object has no attribute 'text'"
     ]
    },
    {
     "name": "stdout",
     "output_type": "stream",
     "text": [
      " http://www.reuters.com/article/2014/01/31/va-genworth-financial-idUSnPnNEnRThG+16d+PRN20140131\n",
      "'NoneType' object has no attribute 'text'"
     ]
    },
    {
     "name": "stdout",
     "output_type": "stream",
     "text": [
      "\n",
      "'NoneType' object has no attribute 'text'"
     ]
    },
    {
     "name": "stdout",
     "output_type": "stream",
     "text": [
      " http://www.reuters.com/article/2014/02/01/census-daily-feature-idUSnPnDCnnC1+b2+PRN20140201\n",
      "2014-01-31"
     ]
    },
    {
     "name": "stdout",
     "output_type": "stream",
     "text": [
      " http://www.reuters.com/article/2014/02/01/nj-sony-camerasgame-idUSnPnLAp8Byz+164+PRN20140201\n",
      "'NoneType' object has no attribute 'text'"
     ]
    },
    {
     "name": "stdout",
     "output_type": "stream",
     "text": [
      " http://www.reuters.com/article/2014/02/02/irish-music-assn-awds-idUSnPnDCp8lHQ+163+PRN20140202\n",
      "'NoneType' object has no attribute 'text'"
     ]
    },
    {
     "name": "stdout",
     "output_type": "stream",
     "text": [
      " http://www.reuters.com/article/2014/02/01/ca-u2-free-download-idUSnPnLAp6M+59+PRN20140201\n",
      "'NoneType' object has no attribute 'text'"
     ]
    },
    {
     "name": "stdout",
     "output_type": "stream",
     "text": [
      " http://www.reuters.com/article/2014/02/01/ny-morganmorgan-apfc-idUSnPnNYp88hw+160+PRN20140201\n",
      "'NoneType' object has no attribute 'text'"
     ]
    },
    {
     "name": "stdout",
     "output_type": "stream",
     "text": [
      " http://www.reuters.com/article/2014/02/01/tx-att-launches-new-idUSnPnAQp8jvW+161+PRN20140201\n",
      "'NoneType' object has no attribute 'text'"
     ]
    },
    {
     "name": "stdout",
     "output_type": "stream",
     "text": [
      " http://www.reuters.com/article/2014/02/01/oh-rg-barry-zacks-idUSnPnCLp8zyB+161+PRN20140201\n",
      "'NoneType' object has no attribute 'text'"
     ]
    },
    {
     "name": "stdout",
     "output_type": "stream",
     "text": [
      " http://www.reuters.com/article/2014/02/02/ia-bacon-wedding-idUSnPnNYp8HHQ+167+PRN20140202\n",
      "'NoneType' object has no attribute 'text'"
     ]
    },
    {
     "name": "stdout",
     "output_type": "stream",
     "text": [
      "\n",
      "'NoneType' object has no attribute 'text'"
     ]
    },
    {
     "name": "stdout",
     "output_type": "stream",
     "text": [
      " http://www.reuters.com/article/2014/02/03/frito-lay-doritos-idUSnPnLApbjRG+163+PRN20140203\n",
      "2014-02-01"
     ]
    },
    {
     "name": "stdout",
     "output_type": "stream",
     "text": [
      " http://www.reuters.com/article/2014/02/02/e-coalitionmd-euthana-idUSnPnMO8dq2+b0+PRN20140202\n",
      "'NoneType' object has no attribute 'text'"
     ]
    },
    {
     "name": "stdout",
     "output_type": "stream",
     "text": [
      " http://www.reuters.com/article/2014/02/02/census-daily-feature-idUSnPnDCnnF1+b2+PRN20140202\n",
      "'NoneType' object has no attribute 'text'"
     ]
    },
    {
     "name": "stdout",
     "output_type": "stream",
     "text": [
      " http://www.reuters.com/article/2014/02/03/dc-dref-ceo-elect-idUSnPnPHp9QS5+166+PRN20140203\n",
      "'NoneType' object has no attribute 'text'"
     ]
    },
    {
     "name": "stdout",
     "output_type": "stream",
     "text": [
      " http://www.reuters.com/article/2014/02/03/pistachios-colbert-ad-idUSnPnLAp9MJq+166+PRN20140203\n",
      "'NoneType' object has no attribute 'text'"
     ]
    },
    {
     "name": "stdout",
     "output_type": "stream",
     "text": [
      " http://www.reuters.com/article/2014/02/03/hondasafetysuperbowl-idUSnPnLAp9XML+167+PRN20140203\n",
      "'NoneType' object has no attribute 'text'"
     ]
    },
    {
     "name": "stdout",
     "output_type": "stream",
     "text": [
      " http://www.reuters.com/article/2014/02/02/bc-elbit-imaging-ltd-idUSnPngqmVhG+85+PRN20140202\n",
      "'NoneType' object has no attribute 'text'"
     ]
    },
    {
     "name": "stdout",
     "output_type": "stream",
     "text": [
      " http://www.reuters.com/article/2014/02/03/chrysler-superbowl-ad-idUSnPnDEp8ZMz+166+PRN20140203\n",
      "'NoneType' object has no attribute 'text'"
     ]
    },
    {
     "name": "stdout",
     "output_type": "stream",
     "text": [
      " http://www.reuters.com/article/2014/02/02/wa-dickeys-opening-idUSnPnDAp6N7H+165+PRN20140202\n",
      "'NoneType' object has no attribute 'text'"
     ]
    },
    {
     "name": "stdout",
     "output_type": "stream",
     "text": [
      "\n",
      "'NoneType' object has no attribute 'text'"
     ]
    },
    {
     "name": "stdout",
     "output_type": "stream",
     "text": [
      " http://www.reuters.com/article/2014/02/03/pensionsinvestments-idUSnPnDEp3Khn+164+PRN20140203\n",
      "2014-02-02"
     ]
    },
    {
     "name": "stdout",
     "output_type": "stream",
     "text": [
      " http://www.reuters.com/article/2014/02/03/rochongenova-cibc-idUSnPnTOpsPCW+167+PRN20140203\n",
      "'NoneType' object has no attribute 'text'"
     ]
    },
    {
     "name": "stdout",
     "output_type": "stream",
     "text": [
      " http://www.reuters.com/article/2014/02/03/neweconomyinitiative-idUSnPnCLpdvhn+160+PRN20140203\n",
      "'NoneType' object has no attribute 'text'"
     ]
    },
    {
     "name": "stdout",
     "output_type": "stream",
     "text": [
      " http://www.reuters.com/article/2014/02/03/lubbock-entertainment-idUSnPnPHp3wj3+160+PRN20140203\n",
      "'NoneType' object has no attribute 'text'"
     ]
    },
    {
     "name": "stdout",
     "output_type": "stream",
     "text": [
      " http://www.reuters.com/article/2014/02/03/americancptlagncyerns-idUSnPnPHnZhzN+169+PRN20140203\n",
      "'NoneType' object has no attribute 'text'"
     ]
    },
    {
     "name": "stdout",
     "output_type": "stream",
     "text": [
      " http://www.reuters.com/article/2014/02/03/gcmrestructuringloan-idUSnPnTO8jfs+b0+PRN20140203\n",
      "'NoneType' object has no attribute 'text'"
     ]
    },
    {
     "name": "stdout",
     "output_type": "stream",
     "text": [
      " http://www.reuters.com/article/2014/02/03/il-tds-us-cellular-idUSnPnCGppty8+160+PRN20140203\n",
      "'NoneType' object has no attribute 'text'"
     ]
    },
    {
     "name": "stdout",
     "output_type": "stream",
     "text": [
      " http://www.reuters.com/article/2014/02/03/kingswayfinancialnote-idUSnPnTO8BFH+b7+PRN20140203\n",
      "'NoneType' object has no attribute 'text'"
     ]
    },
    {
     "name": "stdout",
     "output_type": "stream",
     "text": [
      " http://www.reuters.com/article/2014/02/03/zacks-analyst-blog-idUSnPnCGpd1kT+161+PRN20140203\n",
      "'NoneType' object has no attribute 'text'"
     ]
    },
    {
     "name": "stdout",
     "output_type": "stream",
     "text": [
      " http://www.reuters.com/article/2014/02/03/nc-dude-solutions-idUSnPnNYp6bp8+160+PRN20140203\n",
      "'NoneType' object has no attribute 'text'"
     ]
    },
    {
     "name": "stdout",
     "output_type": "stream",
     "text": [
      " http://www.reuters.com/article/2014/02/03/chrysler-january-sale-idUSnPnCLp8ghn+160+PRN20140203\n",
      "'NoneType' object has no attribute 'text'"
     ]
    },
    {
     "name": "stdout",
     "output_type": "stream",
     "text": [
      " http://www.reuters.com/article/2014/02/03/pr-2013-genfund-rev-idUSnPnDCpgtp8+160+PRN20140203\n",
      "'NoneType' object has no attribute 'text'"
     ]
    },
    {
     "name": "stdout",
     "output_type": "stream",
     "text": [
      " http://www.reuters.com/article/2014/02/03/fl-gunster-law-award-idUSnPnPHp2dhY+161+PRN20140203\n",
      "'NoneType' object has no attribute 'text'"
     ]
    },
    {
     "name": "stdout",
     "output_type": "stream",
     "text": [
      "\n",
      "'NoneType' object has no attribute 'text'"
     ]
    },
    {
     "name": "stdout",
     "output_type": "stream",
     "text": [
      " http://www.reuters.com/article/2014/02/04/lionbridge-tech-earns-idUSnPnNEpvWhn+164+PRN20140204\n",
      "2014-02-03"
     ]
    },
    {
     "name": "stdout",
     "output_type": "stream",
     "text": [
      " http://www.reuters.com/article/2014/02/04/nj-covance-erns-idUSnPnNEpJyzP+169+PRN20140204\n",
      "'NoneType' object has no attribute 'text'"
     ]
    },
    {
     "name": "stdout",
     "output_type": "stream",
     "text": [
      " http://www.reuters.com/article/2014/02/04/ny-unilever-fit-idUSnPnNYpvLkj+164+PRN20140204\n",
      "'NoneType' object has no attribute 'text'"
     ]
    },
    {
     "name": "stdout",
     "output_type": "stream",
     "text": [
      " http://www.reuters.com/article/2014/02/04/ny-mcgraw-hill-study-idUSnPnNYpKtt0+168+PRN20140204\n",
      "'NoneType' object has no attribute 'text'"
     ]
    },
    {
     "name": "stdout",
     "output_type": "stream",
     "text": [
      " http://www.reuters.com/article/2014/02/04/u2teamedupwith-idUSnPnNYpDxkD+169+PRN20140204\n",
      "'NoneType' object has no attribute 'text'"
     ]
    },
    {
     "name": "stdout",
     "output_type": "stream",
     "text": [
      " http://www.reuters.com/article/2014/02/04/ca-regen-energy-fund-idUSnPnLApGCqc+16c+PRN20140204\n",
      "'NoneType' object has no attribute 'text'"
     ]
    },
    {
     "name": "stdout",
     "output_type": "stream",
     "text": [
      " http://www.reuters.com/article/2014/02/04/co-cbis-legalize-hemp-idUSnPnLApD8jn+168+PRN20140204\n",
      "'NoneType' object has no attribute 'text'"
     ]
    },
    {
     "name": "stdout",
     "output_type": "stream",
     "text": [
      " http://www.reuters.com/article/2014/02/04/ny-axa-us-new-brand-idUSnPnMMpFQrt+16c+PRN20140204\n",
      "'NoneType' object has no attribute 'text'"
     ]
    },
    {
     "name": "stdout",
     "output_type": "stream",
     "text": [
      " http://www.reuters.com/article/2014/02/04/raredisease-diagnosis-idUSnPnDCpMVyb+16c+PRN20140204\n",
      "'NoneType' object has no attribute 'text'"
     ]
    },
    {
     "name": "stdout",
     "output_type": "stream",
     "text": [
      " http://www.reuters.com/article/2014/02/04/bc-fn-media-group-llc-idUSnPngyQbkp+88+PRN20140204\n",
      "'NoneType' object has no attribute 'text'"
     ]
    },
    {
     "name": "stdout",
     "output_type": "stream",
     "text": [
      " http://www.reuters.com/article/2014/02/04/ny-bernstein-liebhard-idUSnPnNYpHCrh+16c+PRN20140204\n",
      "'NoneType' object has no attribute 'text'"
     ]
    },
    {
     "name": "stdout",
     "output_type": "stream",
     "text": [
      " http://www.reuters.com/article/2014/02/04/va-gannett-earnings-idUSnPnPHpBMjf+16c+PRN20140204\n",
      "'NoneType' object has no attribute 'text'"
     ]
    },
    {
     "name": "stdout",
     "output_type": "stream",
     "text": [
      " http://www.reuters.com/article/2014/02/04/az-general-dynamics-idUSnPnPHpLdtz+168+PRN20140204\n",
      "'NoneType' object has no attribute 'text'"
     ]
    },
    {
     "name": "stdout",
     "output_type": "stream",
     "text": [
      " http://www.reuters.com/article/2014/02/04/bc-mmf-report-idUSnPn9mMRt0+8c+PRN20140204\n",
      "'NoneType' object has no attribute 'text'"
     ]
    },
    {
     "name": "stdout",
     "output_type": "stream",
     "text": [
      " http://www.reuters.com/article/2014/02/04/ca-visalus-project-idUSnPnMMnD4mP+169+PRN20140204\n",
      "'NoneType' object has no attribute 'text'"
     ]
    },
    {
     "name": "stdout",
     "output_type": "stream",
     "text": [
      " http://www.reuters.com/article/2014/02/04/presstheprespuppybowl-idUSnPnDCpHwq6+168+PRN20140204\n",
      "'NoneType' object has no attribute 'text'"
     ]
    },
    {
     "name": "stdout",
     "output_type": "stream",
     "text": [
      "\n",
      "'NoneType' object has no attribute 'text'"
     ]
    },
    {
     "name": "stdout",
     "output_type": "stream",
     "text": [
      " http://www.reuters.com/article/2014/02/05/brandywinerealty-erns-idUSnPnPHq6NBt+166+PRN20140205\n",
      "2014-02-04"
     ]
    },
    {
     "name": "stdout",
     "output_type": "stream",
     "text": [
      " http://www.reuters.com/article/2014/02/05/hanover-insur-earns-idUSnPnNYq4SzS+165+PRN20140205\n",
      "'NoneType' object has no attribute 'text'"
     ]
    },
    {
     "name": "stdout",
     "output_type": "stream",
     "text": [
      " http://www.reuters.com/article/2014/02/05/nextworth-smartphone-idUSnPnNEpZshn+168+PRN20140205\n",
      "'NoneType' object has no attribute 'text'"
     ]
    },
    {
     "name": "stdout",
     "output_type": "stream",
     "text": [
      " http://www.reuters.com/article/2014/02/05/ca-healthmedica-inc-idUSnPnAQpBkmP+169+PRN20140205\n",
      "'NoneType' object has no attribute 'text'"
     ]
    },
    {
     "name": "stdout",
     "output_type": "stream",
     "text": [
      " http://www.reuters.com/article/2014/02/05/allegheny-health-olym-idUSnPnDCq8Qyw+164+PRN20140205\n",
      "'NoneType' object has no attribute 'text'"
     ]
    },
    {
     "name": "stdout",
     "output_type": "stream",
     "text": [
      " http://www.reuters.com/article/2014/02/05/md-tcs-us-army-con-idUSnPnPHpSzg2+168+PRN20140205\n",
      "'NoneType' object has no attribute 'text'"
     ]
    },
    {
     "name": "stdout",
     "output_type": "stream",
     "text": [
      " http://www.reuters.com/article/2014/02/05/bc-fn-media-group-idUSnPngDBpkp+98+PRN20140205\n",
      "'NoneType' object has no attribute 'text'"
     ]
    },
    {
     "name": "stdout",
     "output_type": "stream",
     "text": [
      " http://www.reuters.com/article/2014/02/05/amer-cap-mortg-earns-idUSnPnPHpZjzN+169+PRN20140205\n",
      "'NoneType' object has no attribute 'text'"
     ]
    },
    {
     "name": "stdout",
     "output_type": "stream",
     "text": [
      " http://www.reuters.com/article/2014/02/05/aarp-mag-sarandon-idUSnPnDCq1Mp8+164+PRN20140205\n",
      "'NoneType' object has no attribute 'text'"
     ]
    },
    {
     "name": "stdout",
     "output_type": "stream",
     "text": [
      " http://www.reuters.com/article/2014/02/05/decision-resources-idUSnPnNEq2ht0+160+PRN20140205\n",
      "'NoneType' object has no attribute 'text'"
     ]
    },
    {
     "name": "stdout",
     "output_type": "stream",
     "text": [
      " http://www.reuters.com/article/2014/02/05/ing-us-inc-conf-idUSnPnCLpZGhX+16d+PRN20140205\n",
      "'NoneType' object has no attribute 'text'"
     ]
    },
    {
     "name": "stdout",
     "output_type": "stream",
     "text": [
      " http://www.reuters.com/article/2014/02/05/radcom-q4-earns-idUSnPnNYpZ0fs+168+PRN20140205\n",
      "'NoneType' object has no attribute 'text'"
     ]
    },
    {
     "name": "stdout",
     "output_type": "stream",
     "text": [
      " http://www.reuters.com/article/2014/02/05/il-uscellularnophone-idUSnPnCGpKkhr+168+PRN20140205\n",
      "'NoneType' object has no attribute 'text'"
     ]
    },
    {
     "name": "stdout",
     "output_type": "stream",
     "text": [
      " http://www.reuters.com/article/2014/02/05/fmc-corp-earnings-idUSnPnPHq27B3+162+PRN20140205\n",
      "'NoneType' object has no attribute 'text'"
     ]
    },
    {
     "name": "stdout",
     "output_type": "stream",
     "text": [
      " http://www.reuters.com/article/2014/02/05/wealth-x-chrishughes-idUSnPnNYpYZbb+16c+PRN20140205\n",
      "'NoneType' object has no attribute 'text'"
     ]
    },
    {
     "name": "stdout",
     "output_type": "stream",
     "text": [
      " http://www.reuters.com/article/2014/02/05/ok-hobby-lobby-idUSnPnDAq5gtn+160+PRN20140205\n",
      "'NoneType' object has no attribute 'text'"
     ]
    },
    {
     "name": "stdout",
     "output_type": "stream",
     "text": [
      " http://www.reuters.com/article/2014/02/05/regulus-therapeutics-idUSnPnLApW8hn+168+PRN20140205\n",
      "'NoneType' object has no attribute 'text'"
     ]
    },
    {
     "name": "stdout",
     "output_type": "stream",
     "text": [
      " http://www.reuters.com/article/2014/02/05/airweave-olympics-idUSnPnLApyHkj+164+PRN20140205\n",
      "'NoneType' object has no attribute 'text'"
     ]
    },
    {
     "name": "stdout",
     "output_type": "stream",
     "text": [
      " http://www.reuters.com/article/2014/02/05/tx-aal-codeshare-idUSnPnDApwmkj+160+PRN20140205\n",
      "'NoneType' object has no attribute 'text'"
     ]
    },
    {
     "name": "stdout",
     "output_type": "stream",
     "text": [
      " http://www.reuters.com/article/2014/02/05/new-era-mlb-new-caps-idUSnPnNYpTBkj+16c+PRN20140205\n",
      "'NoneType' object has no attribute 'text'"
     ]
    },
    {
     "name": "stdout",
     "output_type": "stream",
     "text": [
      "\n",
      "'NoneType' object has no attribute 'text'"
     ]
    },
    {
     "name": "stdout",
     "output_type": "stream",
     "text": [
      " http://www.reuters.com/article/2014/02/06/ca-lionsgate-q3-earns-idUSnPnLAqsfzN+161+PRN20140206\n",
      "2014-02-05"
     ]
    },
    {
     "name": "stdout",
     "output_type": "stream",
     "text": [
      " http://www.reuters.com/article/2014/02/06/mo-sigma-aldrich-idUSnPnCGqdgfs+160+PRN20140206\n",
      "'NoneType' object has no attribute 'text'"
     ]
    },
    {
     "name": "stdout",
     "output_type": "stream",
     "text": [
      " http://www.reuters.com/article/2014/02/06/libertymutual-olympic-idUSnPnNEq1Pkj+164+PRN20140206\n",
      "'NoneType' object has no attribute 'text'"
     ]
    },
    {
     "name": "stdout",
     "output_type": "stream",
     "text": [
      " http://www.reuters.com/article/2014/02/06/tx-alj-div-erns-call-idUSnPnDAqsqB3+162+PRN20140206\n",
      "'NoneType' object has no attribute 'text'"
     ]
    },
    {
     "name": "stdout",
     "output_type": "stream",
     "text": [
      " http://www.reuters.com/article/2014/02/06/careerbuilder-report-idUSnPnCGqcCcx+164+PRN20140206\n",
      "'NoneType' object has no attribute 'text'"
     ]
    },
    {
     "name": "stdout",
     "output_type": "stream",
     "text": [
      " http://www.reuters.com/article/2014/02/06/st-jude-giving-campgn-idUSnPnDCqm3rF+161+PRN20140206\n",
      "'NoneType' object has no attribute 'text'"
     ]
    },
    {
     "name": "stdout",
     "output_type": "stream",
     "text": [
      " http://www.reuters.com/article/2014/02/06/body-contouring-tech-idUSnPnNEppbmd+160+PRN20140206\n",
      "'NoneType' object has no attribute 'text'"
     ]
    },
    {
     "name": "stdout",
     "output_type": "stream",
     "text": [
      " http://www.reuters.com/article/2014/02/06/nc-military-hardware-idUSnPnCLqn2pZ+161+PRN20140206\n",
      "'NoneType' object has no attribute 'text'"
     ]
    },
    {
     "name": "stdout",
     "output_type": "stream",
     "text": [
      " http://www.reuters.com/article/2014/02/06/ny-wealthx-twitterceo-idUSnPnNYqgXh+b2+PRN20140206\n",
      "'NoneType' object has no attribute 'text'"
     ]
    },
    {
     "name": "stdout",
     "output_type": "stream",
     "text": [
      " http://www.reuters.com/article/2014/02/06/transportation-plan-idUSnPnDCqrsw5+160+PRN20140206\n",
      "'NoneType' object has no attribute 'text'"
     ]
    },
    {
     "name": "stdout",
     "output_type": "stream",
     "text": [
      " http://www.reuters.com/article/2014/02/06/newgoldq4results-idUSnPnTO9khn+b0+PRN20140206\n",
      "'NoneType' object has no attribute 'text'"
     ]
    },
    {
     "name": "stdout",
     "output_type": "stream",
     "text": [
      " http://www.reuters.com/article/2014/02/06/nj-mdlz-biscuitmanuf-idUSnPnCGqqmzN+161+PRN20140206\n",
      "'NoneType' object has no attribute 'text'"
     ]
    },
    {
     "name": "stdout",
     "output_type": "stream",
     "text": [
      " http://www.reuters.com/article/2014/02/07/cga-new-products-idUSnPnCNqyGPG+167+PRN20140207\n",
      "'NoneType' object has no attribute 'text'"
     ]
    },
    {
     "name": "stdout",
     "output_type": "stream",
     "text": [
      " http://www.reuters.com/article/2014/02/06/il-toyota-highlander-idUSnPnNYqgYkT+165+PRN20140206\n",
      "'NoneType' object has no attribute 'text'"
     ]
    },
    {
     "name": "stdout",
     "output_type": "stream",
     "text": [
      " http://www.reuters.com/article/2014/02/06/ex-im-us-2013-exports-idUSnPnDCqnMpZ+165+PRN20140206\n",
      "'NoneType' object has no attribute 'text'"
     ]
    },
    {
     "name": "stdout",
     "output_type": "stream",
     "text": [
      " http://www.reuters.com/article/2014/02/06/confbd-inflation-rpt-idUSnPnNYqkTmd+164+PRN20140206\n",
      "'NoneType' object has no attribute 'text'"
     ]
    },
    {
     "name": "stdout",
     "output_type": "stream",
     "text": [
      "\n",
      "'NoneType' object has no attribute 'text'"
     ]
    },
    {
     "name": "stdout",
     "output_type": "stream",
     "text": [
      " http://www.reuters.com/article/2014/02/07/co-big-cannabis-cup-idUSnPnPHqshj3+160+PRN20140207\n",
      "2014-02-06"
     ]
    },
    {
     "name": "stdout",
     "output_type": "stream",
     "text": [
      " http://www.reuters.com/article/2014/02/07/usps-q1-recordloss-idUSnPnDCqBQn2+16c+PRN20140207\n",
      "'NoneType' object has no attribute 'text'"
     ]
    },
    {
     "name": "stdout",
     "output_type": "stream",
     "text": [
      " http://www.reuters.com/article/2014/02/07/dhxmedia-ellaelephant-idUSnPnMMqmWkT+165+PRN20140207\n",
      "'NoneType' object has no attribute 'text'"
     ]
    },
    {
     "name": "stdout",
     "output_type": "stream",
     "text": [
      " http://www.reuters.com/article/2014/02/07/il-travelport-united-idUSnPnCGqwkmP+161+PRN20140207\n",
      "'NoneType' object has no attribute 'text'"
     ]
    },
    {
     "name": "stdout",
     "output_type": "stream",
     "text": [
      " http://www.reuters.com/article/2014/02/07/us-dept-transpor-tenn-idUSnPnDCqF4t1+168+PRN20140207\n",
      "'NoneType' object has no attribute 'text'"
     ]
    },
    {
     "name": "stdout",
     "output_type": "stream",
     "text": [
      " http://www.reuters.com/article/2014/02/07/greendreamgroup-tour-idUSnPnPHqxwhY+161+PRN20140207\n",
      "'NoneType' object has no attribute 'text'"
     ]
    },
    {
     "name": "stdout",
     "output_type": "stream",
     "text": [
      "\n",
      "'NoneType' object has no attribute 'text'"
     ]
    },
    {
     "name": "stdout",
     "output_type": "stream",
     "text": [
      " http://www.reuters.com/article/2014/02/08/tx-colgate-black-hist-idUSnPnNYqMxcx+168+PRN20140208\n",
      "2014-02-07"
     ]
    },
    {
     "name": "stdout",
     "output_type": "stream",
     "text": [
      " http://www.reuters.com/article/2014/02/08/globalpolio-donation-idUSnPnDCqNBkj+16c+PRN20140208\n",
      "'NoneType' object has no attribute 'text'"
     ]
    },
    {
     "name": "stdout",
     "output_type": "stream",
     "text": [
      " http://www.reuters.com/article/2014/02/08/census-daily-feature-idUSnPnDCnnV1+b2+PRN20140208\n",
      "'NoneType' object has no attribute 'text'"
     ]
    },
    {
     "name": "stdout",
     "output_type": "stream",
     "text": [
      " http://www.reuters.com/article/2014/02/08/texas-am-scholars-idUSnPnDCqNSwK+16d+PRN20140208\n",
      "'NoneType' object has no attribute 'text'"
     ]
    },
    {
     "name": "stdout",
     "output_type": "stream",
     "text": [
      " http://www.reuters.com/article/2014/02/08/ma-hempest-farm-bill-idUSnPnNEqNFkW+16d+PRN20140208\n",
      "'NoneType' object has no attribute 'text'"
     ]
    },
    {
     "name": "stdout",
     "output_type": "stream",
     "text": [
      " http://www.reuters.com/article/2014/02/09/family-research-stmnt-idUSnPnDCqP7Jh+16a+PRN20140209\n",
      "'NoneType' object has no attribute 'text'"
     ]
    },
    {
     "name": "stdout",
     "output_type": "stream",
     "text": [
      " http://www.reuters.com/article/2014/02/08/md-bitcoin-acquires-idUSnPnPHqNHmX+16d+PRN20140208\n",
      "'NoneType' object has no attribute 'text'"
     ]
    },
    {
     "name": "stdout",
     "output_type": "stream",
     "text": [
      " http://www.reuters.com/article/2014/02/08/sci-fi-best-seller-idUSnPnBRqjLfs+164+PRN20140208\n",
      "'NoneType' object has no attribute 'text'"
     ]
    },
    {
     "name": "stdout",
     "output_type": "stream",
     "text": [
      " http://www.reuters.com/article/2014/02/08/nj-usfuel-announces-idUSnPnNYqNMrq+16c+PRN20140208\n",
      "'NoneType' object has no attribute 'text'"
     ]
    },
    {
     "name": "stdout",
     "output_type": "stream",
     "text": [
      " http://www.reuters.com/article/2014/02/08/dc-20-20productions-idUSnPnPHqNGl4+16c+PRN20140208\n",
      "'NoneType' object has no attribute 'text'"
     ]
    },
    {
     "name": "stdout",
     "output_type": "stream",
     "text": [
      "\n",
      "'NoneType' object has no attribute 'text'"
     ]
    },
    {
     "name": "stdout",
     "output_type": "stream",
     "text": [
      " http://www.reuters.com/article/2014/02/10/boeing-asia-pacific-idUSnPnSFqGxLg+16a+PRN20140210\n",
      "2014-02-08"
     ]
    },
    {
     "name": "stdout",
     "output_type": "stream",
     "text": [
      " http://www.reuters.com/article/2014/02/09/meet-the-beatles-idUSnPnDCnnW1+b2+PRN20140209\n",
      "'NoneType' object has no attribute 'text'"
     ]
    },
    {
     "name": "stdout",
     "output_type": "stream",
     "text": [
      " http://www.reuters.com/article/2014/02/10/china-green-conf-call-idUSnPnCNqR9PD+16b+PRN20140210\n",
      "'NoneType' object has no attribute 'text'"
     ]
    },
    {
     "name": "stdout",
     "output_type": "stream",
     "text": [
      " http://www.reuters.com/article/2014/02/10/cpsj-stop-euthanasia-idUSnPnMObkHG+b3+PRN20140210\n",
      "'NoneType' object has no attribute 'text'"
     ]
    },
    {
     "name": "stdout",
     "output_type": "stream",
     "text": [
      " http://www.reuters.com/article/2014/02/09/arm-smic-ip-partners-idUSnPnCNqzh7H+161+PRN20140209\n",
      "'NoneType' object has no attribute 'text'"
     ]
    },
    {
     "name": "stdout",
     "output_type": "stream",
     "text": [
      " http://www.reuters.com/article/2014/02/09/ny-fenwickkeats-pet-idUSnPnNYqNQpJ+16d+PRN20140209\n",
      "'NoneType' object has no attribute 'text'"
     ]
    },
    {
     "name": "stdout",
     "output_type": "stream",
     "text": [
      " http://www.reuters.com/article/2014/02/10/americancapital-earns-idUSnPnPHqPsCT+16b+PRN20140210\n",
      "2014-02-09\n",
      "'NoneType' object has no attribute 'text'"
     ]
    },
    {
     "name": "stdout",
     "output_type": "stream",
     "text": [
      " http://www.reuters.com/article/2014/02/10/usatoday-cannes-idUSnPnDCr1mw7+160+PRN20140210\n",
      "'NoneType' object has no attribute 'text'"
     ]
    },
    {
     "name": "stdout",
     "output_type": "stream",
     "text": [
      " http://www.reuters.com/article/2014/02/10/ny-pwc-us-retail-rpt-idUSnPnNYqVCkZ+16d+PRN20140210\n",
      "'NoneType' object has no attribute 'text'"
     ]
    },
    {
     "name": "stdout",
     "output_type": "stream",
     "text": [
      " http://www.reuters.com/article/2014/02/10/ny-sungard-cash-offer-idUSnPnNYr5YD8+166+PRN20140210\n",
      "'NoneType' object has no attribute 'text'"
     ]
    },
    {
     "name": "stdout",
     "output_type": "stream",
     "text": [
      " http://www.reuters.com/article/2014/02/10/baskin-robbinsnewline-idUSnPnNYqPNkj+16c+PRN20140210\n",
      "'NoneType' object has no attribute 'text'"
     ]
    },
    {
     "name": "stdout",
     "output_type": "stream",
     "text": [
      " http://www.reuters.com/article/2014/02/10/ny-cohensteers-aum-idUSnPnNYr3CCH+167+PRN20140210\n",
      "'NoneType' object has no attribute 'text'"
     ]
    },
    {
     "name": "stdout",
     "output_type": "stream",
     "text": [
      " http://www.reuters.com/article/2014/02/10/puerto-rico-treasury-idUSnPnDCqQGcx+16c+PRN20140210\n",
      "'NoneType' object has no attribute 'text'"
     ]
    },
    {
     "name": "stdout",
     "output_type": "stream",
     "text": [
      " http://www.reuters.com/article/2014/02/10/crowded-coop-toy-fair-idUSnPnNYqZWtM+16d+PRN20140210\n",
      "'NoneType' object has no attribute 'text'"
     ]
    },
    {
     "name": "stdout",
     "output_type": "stream",
     "text": [
      " http://www.reuters.com/article/2014/02/10/sony-dolly-parton-idUSnPnNYr03xY+161+PRN20140210\n",
      "'NoneType' object has no attribute 'text'"
     ]
    },
    {
     "name": "stdout",
     "output_type": "stream",
     "text": [
      " http://www.reuters.com/article/2014/02/10/irmep-natl-press-club-idUSnPnDCqPFkj+16c+PRN20140210\n",
      "'NoneType' object has no attribute 'text'"
     ]
    },
    {
     "name": "stdout",
     "output_type": "stream",
     "text": [
      " http://www.reuters.com/article/2014/02/10/bc-elbit-imaging-ltd-idUSnPnh0dpkp+80+PRN20140210\n",
      "'NoneType' object has no attribute 'text'"
     ]
    },
    {
     "name": "stdout",
     "output_type": "stream",
     "text": [
      " http://www.reuters.com/article/2014/02/10/ca-zpizza-goinforgold-idUSnPnLAqCVmt+16c+PRN20140210\n",
      "'NoneType' object has no attribute 'text'"
     ]
    },
    {
     "name": "stdout",
     "output_type": "stream",
     "text": [
      " http://www.reuters.com/article/2014/02/10/trellis-fine-florals-idUSnPnNYqXdy5+168+PRN20140210\n",
      "'NoneType' object has no attribute 'text'"
     ]
    },
    {
     "name": "stdout",
     "output_type": "stream",
     "text": [
      " http://www.reuters.com/article/2014/02/10/md-1stmariner-restruc-idUSnPnNEqLbhY+169+PRN20140210\n",
      "'NoneType' object has no attribute 'text'"
     ]
    },
    {
     "name": "stdout",
     "output_type": "stream",
     "text": [
      " http://www.reuters.com/article/2014/02/10/usccr-emtala-idUSnPnDCqJGcx+16c+PRN20140210\n",
      "'NoneType' object has no attribute 'text'"
     ]
    },
    {
     "name": "stdout",
     "output_type": "stream",
     "text": [
      "\n",
      "'NoneType' object has no attribute 'text'"
     ]
    },
    {
     "name": "stdout",
     "output_type": "stream",
     "text": [
      " http://www.reuters.com/article/2014/02/11/rogerscommoffrextensn-idUSnPnTObxD7+b2+PRN20140211\n",
      "2014-02-10"
     ]
    },
    {
     "name": "stdout",
     "output_type": "stream",
     "text": [
      " http://www.reuters.com/article/2014/02/11/ma-decision-resources-idUSnPnNEqJYmd+16c+PRN20140211\n",
      "'NoneType' object has no attribute 'text'"
     ]
    },
    {
     "name": "stdout",
     "output_type": "stream",
     "text": [
      " http://www.reuters.com/article/2014/02/11/hogan-lovells-idUSnPnCGrhtnd+160+PRN20140211\n",
      "'NoneType' object has no attribute 'text'"
     ]
    },
    {
     "name": "stdout",
     "output_type": "stream",
     "text": [
      " http://www.reuters.com/article/2014/02/11/allot-comm-earnings-idUSnPnNYqWM4J+16d+PRN20140211\n",
      "'NoneType' object has no attribute 'text'"
     ]
    },
    {
     "name": "stdout",
     "output_type": "stream",
     "text": [
      " http://www.reuters.com/article/2014/02/11/il-idt-new-product-idUSnPnCLrp0wK+161+PRN20140211\n",
      "'NoneType' object has no attribute 'text'"
     ]
    },
    {
     "name": "stdout",
     "output_type": "stream",
     "text": [
      " http://www.reuters.com/article/2014/02/11/usccr-resked-meeting-idUSnPnDCrpswV+161+PRN20140211\n",
      "'NoneType' object has no attribute 'text'"
     ]
    },
    {
     "name": "stdout",
     "output_type": "stream",
     "text": [
      " http://www.reuters.com/article/2014/02/11/bbva-foundation-award-idUSnPnDArgYmN+165+PRN20140211\n",
      "'NoneType' object has no attribute 'text'"
     ]
    },
    {
     "name": "stdout",
     "output_type": "stream",
     "text": [
      " http://www.reuters.com/article/2014/02/11/ny-anchin-block-award-idUSnPnNYrhdpb+160+PRN20140211\n",
      "'NoneType' object has no attribute 'text'"
     ]
    },
    {
     "name": "stdout",
     "output_type": "stream",
     "text": [
      " http://www.reuters.com/article/2014/02/11/usa-truck-results-idUSnPnDAr70fs+160+PRN20140211\n",
      "'NoneType' object has no attribute 'text'"
     ]
    },
    {
     "name": "stdout",
     "output_type": "stream",
     "text": [
      " http://www.reuters.com/article/2014/02/11/canadiansolaroffering-idUSnPnCNrbBcx+164+PRN20140211\n",
      "'NoneType' object has no attribute 'text'"
     ]
    },
    {
     "name": "stdout",
     "output_type": "stream",
     "text": [
      " http://www.reuters.com/article/2014/02/11/zacks-equity-research-idUSnPnCGrf7kT+161+PRN20140211\n",
      "'NoneType' object has no attribute 'text'"
     ]
    },
    {
     "name": "stdout",
     "output_type": "stream",
     "text": [
      " http://www.reuters.com/article/2014/02/11/ca-milani-cosmetics-idUSnPnNYr1rhw+160+PRN20140211\n",
      "'NoneType' object has no attribute 'text'"
     ]
    },
    {
     "name": "stdout",
     "output_type": "stream",
     "text": [
      " http://www.reuters.com/article/2014/02/11/ca-ziprealty-vets-idUSnPnSFr9wmd+160+PRN20140211\n",
      "'NoneType' object has no attribute 'text'"
     ]
    },
    {
     "name": "stdout",
     "output_type": "stream",
     "text": [
      " http://www.reuters.com/article/2014/02/11/fla-rcc-2014-projects-idUSnPnCLqY7fV+169+PRN20140211\n",
      "'NoneType' object has no attribute 'text'"
     ]
    },
    {
     "name": "stdout",
     "output_type": "stream",
     "text": [
      "\n",
      "'NoneType' object has no attribute 'text'"
     ]
    },
    {
     "name": "stdout",
     "output_type": "stream",
     "text": [
      " http://www.reuters.com/article/2014/02/12/magic-software-earns-idUSnPnNYrky8N+161+PRN20140212\n",
      "2014-02-11"
     ]
    },
    {
     "name": "stdout",
     "output_type": "stream",
     "text": [
      " http://www.reuters.com/article/2014/02/12/rcs-capital-earnings-idUSnPnNYry9cQ+161+PRN20140212\n",
      "'NoneType' object has no attribute 'text'"
     ]
    },
    {
     "name": "stdout",
     "output_type": "stream",
     "text": [
      " http://www.reuters.com/article/2014/02/12/ma-cynosure-earnings-idUSnPnNErtkhn+160+PRN20140212\n",
      "'NoneType' object has no attribute 'text'"
     ]
    },
    {
     "name": "stdout",
     "output_type": "stream",
     "text": [
      " http://www.reuters.com/article/2014/02/13/tx-cheeseburger-in-pa-idUSnPnDArRFHP+16f+PRN20140213\n",
      "'NoneType' object has no attribute 'text'"
     ]
    },
    {
     "name": "stdout",
     "output_type": "stream",
     "text": [
      " http://www.reuters.com/article/2014/02/12/fidelity-natl-earns-idUSnPnFLrGJBk+16e+PRN20140212\n",
      "'NoneType' object has no attribute 'text'"
     ]
    },
    {
     "name": "stdout",
     "output_type": "stream",
     "text": [
      " http://www.reuters.com/article/2014/02/12/ca-imbruvica-idUSnPnSFryftl+160+PRN20140212\n",
      "'NoneType' object has no attribute 'text'"
     ]
    },
    {
     "name": "stdout",
     "output_type": "stream",
     "text": [
      " http://www.reuters.com/article/2014/02/12/imd-atm-co-idUSnPnTOcffs+b0+PRN20140212\n",
      "'NoneType' object has no attribute 'text'"
     ]
    },
    {
     "name": "stdout",
     "output_type": "stream",
     "text": [
      " http://www.reuters.com/article/2014/02/12/csiq-common-shares-idUSnPnCNrzJfv+164+PRN20140212\n",
      "'NoneType' object has no attribute 'text'"
     ]
    },
    {
     "name": "stdout",
     "output_type": "stream",
     "text": [
      " http://www.reuters.com/article/2014/02/12/leclersfoodusa-phoeni-idUSnPnMOcnwn+b0+PRN20140212\n",
      "'NoneType' object has no attribute 'text'"
     ]
    },
    {
     "name": "stdout",
     "output_type": "stream",
     "text": [
      " http://www.reuters.com/article/2014/02/12/leclerc-expansion-idUSnPnMOcpwq+b0+PRN20140212\n",
      "'NoneType' object has no attribute 'text'"
     ]
    },
    {
     "name": "stdout",
     "output_type": "stream",
     "text": [
      " http://www.reuters.com/article/2014/02/12/acura-best-report-idUSnPnLArvMkj+164+PRN20140212\n",
      "'NoneType' object has no attribute 'text'"
     ]
    },
    {
     "name": "stdout",
     "output_type": "stream",
     "text": [
      " http://www.reuters.com/article/2014/02/12/ca-mazda-usnewsworld-idUSnPnLArK7t2+168+PRN20140212\n",
      "'NoneType' object has no attribute 'text'"
     ]
    },
    {
     "name": "stdout",
     "output_type": "stream",
     "text": [
      " http://www.reuters.com/article/2014/02/12/janssen-biotech-fda-idUSnPnNYqWqtJ+169+PRN20140212\n",
      "'NoneType' object has no attribute 'text'"
     ]
    },
    {
     "name": "stdout",
     "output_type": "stream",
     "text": [
      " http://www.reuters.com/article/2014/02/12/product-of-the-year-idUSnPnNYr4ckj+160+PRN20140212\n",
      "'NoneType' object has no attribute 'text'"
     ]
    },
    {
     "name": "stdout",
     "output_type": "stream",
     "text": [
      "\n",
      "'NoneType' object has no attribute 'text'"
     ]
    },
    {
     "name": "stdout",
     "output_type": "stream",
     "text": [
      " http://www.reuters.com/article/2014/02/13/manulife-q4-results-idUSnPnTObscx+b0+PRN20140213\n",
      "2014-02-12"
     ]
    },
    {
     "name": "stdout",
     "output_type": "stream",
     "text": [
      " http://www.reuters.com/article/2014/02/13/bladex-4q13-earnings-idUSnPnMXrTzhn+168+PRN20140213\n",
      "'NoneType' object has no attribute 'text'"
     ]
    },
    {
     "name": "stdout",
     "output_type": "stream",
     "text": [
      " http://www.reuters.com/article/2014/02/13/mi-borgwarner-q4earns-idUSnPnNYrHmhn+168+PRN20140213\n",
      "'NoneType' object has no attribute 'text'"
     ]
    },
    {
     "name": "stdout",
     "output_type": "stream",
     "text": [
      " http://www.reuters.com/article/2014/02/13/netflix-adds-starwars-idUSnPnSFrVbcx+168+PRN20140213\n",
      "'NoneType' object has no attribute 'text'"
     ]
    },
    {
     "name": "stdout",
     "output_type": "stream",
     "text": [
      " http://www.reuters.com/article/2014/02/13/ny-chobani-food-bank-idUSnPnNYrSSfG+16d+PRN20140213\n",
      "'NoneType' object has no attribute 'text'"
     ]
    },
    {
     "name": "stdout",
     "output_type": "stream",
     "text": [
      " http://www.reuters.com/article/2014/02/13/us-news-advisorfinder-idUSnPnPHrQm1+b4+PRN20140213\n",
      "'NoneType' object has no attribute 'text'"
     ]
    },
    {
     "name": "stdout",
     "output_type": "stream",
     "text": [
      " http://www.reuters.com/article/2014/02/13/tx-alon-q4-cca-div-idUSnPnDAs0SB3+166+PRN20140213\n",
      "'NoneType' object has no attribute 'text'"
     ]
    },
    {
     "name": "stdout",
     "output_type": "stream",
     "text": [
      " http://www.reuters.com/article/2014/02/13/boardwalk-reit-q-idUSnPnTOcCCN+b7+PRN20140213\n",
      "'NoneType' object has no attribute 'text'"
     ]
    },
    {
     "name": "stdout",
     "output_type": "stream",
     "text": [
      " http://www.reuters.com/article/2014/02/13/il-ustr-q4-earnings-idUSnPnCGs1hzS+161+PRN20140213\n",
      "'NoneType' object has no attribute 'text'"
     ]
    },
    {
     "name": "stdout",
     "output_type": "stream",
     "text": [
      " http://www.reuters.com/article/2014/02/13/bc-sapetro-contract-idUSnPnh7NYmG+8d+PRN20140213\n",
      "'NoneType' object has no attribute 'text'"
     ]
    },
    {
     "name": "stdout",
     "output_type": "stream",
     "text": [
      " http://www.reuters.com/article/2014/02/13/la-siesta-hammock-usa-idUSnPnMMs5xys+160+PRN20140213\n",
      "'NoneType' object has no attribute 'text'"
     ]
    },
    {
     "name": "stdout",
     "output_type": "stream",
     "text": [
      " http://www.reuters.com/article/2014/02/13/discovery-comm-earns-idUSnPnPHrT5fw+168+PRN20140213\n",
      "'NoneType' object has no attribute 'text'"
     ]
    },
    {
     "name": "stdout",
     "output_type": "stream",
     "text": [
      "\n",
      "'NoneType' object has no attribute 'text'"
     ]
    },
    {
     "name": "stdout",
     "output_type": "stream",
     "text": [
      " http://www.reuters.com/article/2014/02/14/innolux-sales-incomes-idUSnPnHKsbYb5+164+PRN20140214\n",
      "2014-02-13"
     ]
    },
    {
     "name": "stdout",
     "output_type": "stream",
     "text": [
      " http://www.reuters.com/article/2014/02/14/afb-edu-legislation-idUSnPnDCsjztz+160+PRN20140214\n",
      "'NoneType' object has no attribute 'text'"
     ]
    },
    {
     "name": "stdout",
     "output_type": "stream",
     "text": [
      " http://www.reuters.com/article/2014/02/14/ct-conning-outlook-idUSnPnNYrPrkT+169+PRN20140214\n",
      "'NoneType' object has no attribute 'text'"
     ]
    },
    {
     "name": "stdout",
     "output_type": "stream",
     "text": [
      " http://www.reuters.com/article/2014/02/14/ca-vibra-bank-ceo-idUSnPnLAsbkkj+160+PRN20140214\n",
      "'NoneType' object has no attribute 'text'"
     ]
    },
    {
     "name": "stdout",
     "output_type": "stream",
     "text": [
      " http://www.reuters.com/article/2014/02/14/ga-embre-launches-idUSnPnCLs4Tcx+164+PRN20140214\n",
      "'NoneType' object has no attribute 'text'"
     ]
    },
    {
     "name": "stdout",
     "output_type": "stream",
     "text": [
      "\n",
      "'NoneType' object has no attribute 'text'"
     ]
    },
    {
     "name": "stdout",
     "output_type": "stream",
     "text": [
      " http://www.reuters.com/article/2014/02/15/ca-saleen-earnings-idUSnPnLAsr0hG+161+PRN20140215\n",
      "2014-02-14"
     ]
    },
    {
     "name": "stdout",
     "output_type": "stream",
     "text": [
      " http://www.reuters.com/article/2014/02/15/census-daily-feature-idUSnPnDCnMY1+b6+PRN20140215\n",
      "'NoneType' object has no attribute 'text'"
     ]
    },
    {
     "name": "stdout",
     "output_type": "stream",
     "text": [
      " http://www.reuters.com/article/2014/02/15/ny-personhood-usa-idUSnPnCLsrxDk+162+PRN20140215\n",
      "'NoneType' object has no attribute 'text'"
     ]
    },
    {
     "name": "stdout",
     "output_type": "stream",
     "text": [
      " http://www.reuters.com/article/2014/02/15/snorkelboard-toyfair-idUSnPnNYsrft8+160+PRN20140215\n",
      "'NoneType' object has no attribute 'text'"
     ]
    },
    {
     "name": "stdout",
     "output_type": "stream",
     "text": [
      " http://www.reuters.com/article/2014/02/15/ga-autotraderturner-idUSnPnCLspVvW+165+PRN20140215\n",
      "'NoneType' object has no attribute 'text'"
     ]
    },
    {
     "name": "stdout",
     "output_type": "stream",
     "text": [
      "\n",
      "'NoneType' object has no attribute 'text'"
     ]
    },
    {
     "name": "stdout",
     "output_type": "stream",
     "text": [
      " http://www.reuters.com/article/2014/02/16/smartmax-innovative-idUSnPnDCrJ9kT+169+PRN20140216\n",
      "2014-02-15"
     ]
    },
    {
     "name": "stdout",
     "output_type": "stream",
     "text": [
      " http://www.reuters.com/article/2014/02/16/census-daily-feature-idUSnPnDCnZB1+b6+PRN20140216\n",
      "'NoneType' object has no attribute 'text'"
     ]
    },
    {
     "name": "stdout",
     "output_type": "stream",
     "text": [
      " http://www.reuters.com/article/2014/02/16/ny-lego-sales-report-idUSnPnCLsrtkj+160+PRN20140216\n",
      "'NoneType' object has no attribute 'text'"
     ]
    },
    {
     "name": "stdout",
     "output_type": "stream",
     "text": [
      " http://www.reuters.com/article/2014/02/16/toyindustryassoc-awds-idUSnPnNYsrThD+165+PRN20140216\n",
      "'NoneType' object has no attribute 'text'"
     ]
    },
    {
     "name": "stdout",
     "output_type": "stream",
     "text": [
      " http://www.reuters.com/article/2014/02/16/ny-toy-fair-opens-idUSnPnNYss5t0+160+PRN20140216\n",
      "'NoneType' object has no attribute 'text'"
     ]
    },
    {
     "name": "stdout",
     "output_type": "stream",
     "text": [
      " http://www.reuters.com/article/2014/02/16/ravensburger-toy-fair-idUSnPnNYs6Rkj+164+PRN20140216\n",
      "'NoneType' object has no attribute 'text'"
     ]
    },
    {
     "name": "stdout",
     "output_type": "stream",
     "text": [
      "\n",
      "'NoneType' object has no attribute 'text'"
     ]
    },
    {
     "name": "stdout",
     "output_type": "stream",
     "text": [
      " http://www.reuters.com/article/2014/02/17/imtcbrazil-idUSnPnSFrwQcT+165+PRN20140217\n",
      "2014-02-16"
     ]
    },
    {
     "name": "stdout",
     "output_type": "stream",
     "text": [
      " http://www.reuters.com/article/2014/02/17/mi-urban-science-auto-idUSnPnDEsm1vW+161+PRN20140217\n",
      "'NoneType' object has no attribute 'text'"
     ]
    },
    {
     "name": "stdout",
     "output_type": "stream",
     "text": [
      " http://www.reuters.com/article/2014/02/17/fcbh-military-bibles-idUSnPnDCskCmw+164+PRN20140217\n",
      "'NoneType' object has no attribute 'text'"
     ]
    },
    {
     "name": "stdout",
     "output_type": "stream",
     "text": [
      " http://www.reuters.com/article/2014/02/17/amercianhotelreit-idUSnPnTOdKDc+b6+PRN20140217\n",
      "'NoneType' object has no attribute 'text'"
     ]
    },
    {
     "name": "stdout",
     "output_type": "stream",
     "text": [
      " http://www.reuters.com/article/2014/02/17/usatoday-best-coach-idUSnPnDCswNt0+164+PRN20140217\n",
      "'NoneType' object has no attribute 'text'"
     ]
    },
    {
     "name": "stdout",
     "output_type": "stream",
     "text": [
      " http://www.reuters.com/article/2014/02/17/mi-kellogs-teamkellog-idUSnPnCGsyvwP+161+PRN20140217\n",
      "'NoneType' object has no attribute 'text'"
     ]
    },
    {
     "name": "stdout",
     "output_type": "stream",
     "text": [
      " http://www.reuters.com/article/2014/02/17/gaw-cap-nemstov-vp-idUSnPnCNssT9C+165+PRN20140217\n",
      "'NoneType' object has no attribute 'text'"
     ]
    },
    {
     "name": "stdout",
     "output_type": "stream",
     "text": [
      "\n",
      "'NoneType' object has no attribute 'text'"
     ]
    },
    {
     "name": "stdout",
     "output_type": "stream",
     "text": [
      " http://www.reuters.com/article/2014/02/18/mn-ani-pharma-erns-idUSnPnCGsFfhY+169+PRN20140218\n",
      "2014-02-17"
     ]
    },
    {
     "name": "stdout",
     "output_type": "stream",
     "text": [
      " http://www.reuters.com/article/2014/02/18/creditsuisse-feb-etn-idUSnPnNYsDphY+169+PRN20140218\n",
      "'NoneType' object has no attribute 'text'"
     ]
    },
    {
     "name": "stdout",
     "output_type": "stream",
     "text": [
      " http://www.reuters.com/article/2014/02/18/synqera-survey-retail-idUSnPnNYsyRkm+164+PRN20140218\n",
      "'NoneType' object has no attribute 'text'"
     ]
    },
    {
     "name": "stdout",
     "output_type": "stream",
     "text": [
      " http://www.reuters.com/article/2014/02/18/va-arc-jantravelsales-idUSnPnPHsPVtb+16c+PRN20140218\n",
      "'NoneType' object has no attribute 'text'"
     ]
    },
    {
     "name": "stdout",
     "output_type": "stream",
     "text": [
      " http://www.reuters.com/article/2014/02/18/corvusterraprojctsale-idUSnPnTOdVhn+b4+PRN20140218\n",
      "'NoneType' object has no attribute 'text'"
     ]
    },
    {
     "name": "stdout",
     "output_type": "stream",
     "text": [
      " http://www.reuters.com/article/2014/02/18/ma-decision-resources-idUSnPnNEsNmt0+168+PRN20140218\n",
      "'NoneType' object has no attribute 'text'"
     ]
    },
    {
     "name": "stdout",
     "output_type": "stream",
     "text": [
      " http://www.reuters.com/article/2014/02/18/ca-intacct-financing-idUSnPnSFsnXg2+164+PRN20140218\n",
      "'NoneType' object has no attribute 'text'"
     ]
    },
    {
     "name": "stdout",
     "output_type": "stream",
     "text": [
      " http://www.reuters.com/article/2014/02/18/eatonvance-amend-pol-idUSnPnNEsPMrY+16d+PRN20140218\n",
      "'NoneType' object has no attribute 'text'"
     ]
    },
    {
     "name": "stdout",
     "output_type": "stream",
     "text": [
      " http://www.reuters.com/article/2014/02/18/canadian-solar-offers-idUSnPnCNsJ6Bl+16a+PRN20140218\n",
      "'NoneType' object has no attribute 'text'"
     ]
    },
    {
     "name": "stdout",
     "output_type": "stream",
     "text": [
      " http://www.reuters.com/article/2014/02/18/ny-ondeck-term-idUSnPnLAsDmft+168+PRN20140218\n",
      "'NoneType' object has no attribute 'text'"
     ]
    },
    {
     "name": "stdout",
     "output_type": "stream",
     "text": [
      " http://www.reuters.com/article/2014/02/18/ny-american-farmland-idUSnPnPHsJHkn+16c+PRN20140218\n",
      "'NoneType' object has no attribute 'text'"
     ]
    },
    {
     "name": "stdout",
     "output_type": "stream",
     "text": [
      " http://www.reuters.com/article/2014/02/18/bc-santa-fe-gold-corpora-idUSnPnhvqskB+81+PRN20140218\n",
      "'NoneType' object has no attribute 'text'"
     ]
    },
    {
     "name": "stdout",
     "output_type": "stream",
     "text": [
      " http://www.reuters.com/article/2014/02/18/nj-royalphilips-light-idUSnPnNYsnvhn+160+PRN20140218\n",
      "'NoneType' object has no attribute 'text'"
     ]
    },
    {
     "name": "stdout",
     "output_type": "stream",
     "text": [
      "\n",
      "'NoneType' object has no attribute 'text'"
     ]
    },
    {
     "name": "stdout",
     "output_type": "stream",
     "text": [
      " http://www.reuters.com/article/2014/02/19/china-embassy-in-dc-idUSnPnDCt7CrP+165+PRN20140219\n",
      "2014-02-18"
     ]
    },
    {
     "name": "stdout",
     "output_type": "stream",
     "text": [
      " http://www.reuters.com/article/2014/02/19/fl-neogenomics-earns-idUSnPnNYt11fs+160+PRN20140219\n",
      "'NoneType' object has no attribute 'text'"
     ]
    },
    {
     "name": "stdout",
     "output_type": "stream",
     "text": [
      " http://www.reuters.com/article/2014/02/19/ca-nektartherapeutics-idUSnPnSFtbKB3+166+PRN20140219\n",
      "'NoneType' object has no attribute 'text'"
     ]
    },
    {
     "name": "stdout",
     "output_type": "stream",
     "text": [
      " http://www.reuters.com/article/2014/02/19/ma-decision-resources-idUSnPnNErNhmd+168+PRN20140219\n",
      "'NoneType' object has no attribute 'text'"
     ]
    },
    {
     "name": "stdout",
     "output_type": "stream",
     "text": [
      " http://www.reuters.com/article/2014/02/19/att-newhome-security-idUSnPnCGsSxkT+169+PRN20140219\n",
      "'NoneType' object has no attribute 'text'"
     ]
    },
    {
     "name": "stdout",
     "output_type": "stream",
     "text": [
      " http://www.reuters.com/article/2014/02/20/wealth-x-elon-musk-idUSnPnNYtlyPB+163+PRN20140220\n",
      "'NoneType' object has no attribute 'text'"
     ]
    },
    {
     "name": "stdout",
     "output_type": "stream",
     "text": [
      " http://www.reuters.com/article/2014/02/19/dc-benjamin-mccown-idUSnPnDAt0Rcx+164+PRN20140219\n",
      "'NoneType' object has no attribute 'text'"
     ]
    },
    {
     "name": "stdout",
     "output_type": "stream",
     "text": [
      " http://www.reuters.com/article/2014/02/19/ny-pwc-crime-survey-idUSnPnNYt0nhn+160+PRN20140219\n",
      "'NoneType' object has no attribute 'text'"
     ]
    },
    {
     "name": "stdout",
     "output_type": "stream",
     "text": [
      " http://www.reuters.com/article/2014/02/19/ok-aeu-offering-idUSnPnNYtjgGF+163+PRN20140219\n",
      "'NoneType' object has no attribute 'text'"
     ]
    },
    {
     "name": "stdout",
     "output_type": "stream",
     "text": [
      " http://www.reuters.com/article/2014/02/19/ehrmann-world-record-idUSnPnLAt1Rkj+164+PRN20140219\n",
      "'NoneType' object has no attribute 'text'"
     ]
    },
    {
     "name": "stdout",
     "output_type": "stream",
     "text": [
      " http://www.reuters.com/article/2014/02/19/sunlifepresidentusgrp-idUSnPnTOfCt0+b4+PRN20140219\n",
      "'NoneType' object has no attribute 'text'"
     ]
    },
    {
     "name": "stdout",
     "output_type": "stream",
     "text": [
      " http://www.reuters.com/article/2014/02/19/oh-firstenergy-invest-idUSnPnCLsRKhG+16d+PRN20140219\n",
      "'NoneType' object has no attribute 'text'"
     ]
    },
    {
     "name": "stdout",
     "output_type": "stream",
     "text": [
      " http://www.reuters.com/article/2014/02/19/il-tdsanduscell-idUSnPnCGt56n4+160+PRN20140219\n",
      "'NoneType' object has no attribute 'text'"
     ]
    },
    {
     "name": "stdout",
     "output_type": "stream",
     "text": [
      " http://www.reuters.com/article/2014/02/19/e-cn-investments-idUSnPnMOfJmd+b4+PRN20140219\n",
      "'NoneType' object has no attribute 'text'"
     ]
    },
    {
     "name": "stdout",
     "output_type": "stream",
     "text": [
      "\n",
      "'NoneType' object has no attribute 'text'"
     ]
    },
    {
     "name": "stdout",
     "output_type": "stream",
     "text": [
      " http://www.reuters.com/article/2014/02/20/voiceserviceretention-idUSnPnLAtzgCS+163+PRN20140220\n",
      "2014-02-19"
     ]
    },
    {
     "name": "stdout",
     "output_type": "stream",
     "text": [
      " http://www.reuters.com/article/2014/02/20/biostar-rev-growth-idUSnPnCNtlQhn+164+PRN20140220\n",
      "'NoneType' object has no attribute 'text'"
     ]
    },
    {
     "name": "stdout",
     "output_type": "stream",
     "text": [
      " http://www.reuters.com/article/2014/02/20/fl-lockheed-martin-idUSnPnFLtfXmd+164+PRN20140220\n",
      "'NoneType' object has no attribute 'text'"
     ]
    },
    {
     "name": "stdout",
     "output_type": "stream",
     "text": [
      " http://www.reuters.com/article/2014/02/20/bill-barrett-ern-idUSnPnLAtjhB3+162+PRN20140220\n",
      "'NoneType' object has no attribute 'text'"
     ]
    },
    {
     "name": "stdout",
     "output_type": "stream",
     "text": [
      " http://www.reuters.com/article/2014/02/20/amer-chem-council-idUSnPnDCtr3ps+160+PRN20140220\n",
      "'NoneType' object has no attribute 'text'"
     ]
    },
    {
     "name": "stdout",
     "output_type": "stream",
     "text": [
      " http://www.reuters.com/article/2014/02/20/ct-priceline-group-idUSnPnNYtqpmP+161+PRN20140220\n",
      "'NoneType' object has no attribute 'text'"
     ]
    },
    {
     "name": "stdout",
     "output_type": "stream",
     "text": [
      " http://www.reuters.com/article/2014/02/20/stgeorgesvetoptions-idUSnPnNYtgkkj+160+PRN20140220\n",
      "'NoneType' object has no attribute 'text'"
     ]
    },
    {
     "name": "stdout",
     "output_type": "stream",
     "text": [
      " http://www.reuters.com/article/2014/02/20/ny-mdc-partners-div-idUSnPnNYtjdzN+161+PRN20140220\n",
      "'NoneType' object has no attribute 'text'"
     ]
    },
    {
     "name": "stdout",
     "output_type": "stream",
     "text": [
      " http://www.reuters.com/article/2014/02/20/honda-accord-1-sales-idUSnPnLAtyWBN+167+PRN20140220\n",
      "'NoneType' object has no attribute 'text'"
     ]
    },
    {
     "name": "stdout",
     "output_type": "stream",
     "text": [
      " http://www.reuters.com/article/2014/02/20/timhortonshareprgm-idUSnPnTOg8g4+b0+PRN20140220\n",
      "'NoneType' object has no attribute 'text'"
     ]
    },
    {
     "name": "stdout",
     "output_type": "stream",
     "text": [
      " http://www.reuters.com/article/2014/02/20/cognizant-recognized-idUSnPnNYt4Hcx+164+PRN20140220\n",
      "'NoneType' object has no attribute 'text'"
     ]
    },
    {
     "name": "stdout",
     "output_type": "stream",
     "text": [
      " http://www.reuters.com/article/2014/02/20/ga-pgi-earnings-idUSnPnCLtrRzS+165+PRN20140220\n",
      "'NoneType' object has no attribute 'text'"
     ]
    },
    {
     "name": "stdout",
     "output_type": "stream",
     "text": [
      " http://www.reuters.com/article/2014/02/20/dc-twtc-hhs-contract-idUSnPnLAtrXpK+165+PRN20140220\n",
      "'NoneType' object has no attribute 'text'"
     ]
    },
    {
     "name": "stdout",
     "output_type": "stream",
     "text": [
      "\n",
      "'NoneType' object has no attribute 'text'"
     ]
    },
    {
     "name": "stdout",
     "output_type": "stream",
     "text": [
      " http://www.reuters.com/article/2014/02/21/xlgroup-sharebuyback-idUSnPnMXtCnjg+168+PRN20140221\n",
      "2014-02-20"
     ]
    },
    {
     "name": "stdout",
     "output_type": "stream",
     "text": [
      " http://www.reuters.com/article/2014/02/21/pa-federatedinvestors-idUSnPnNEtH7B1+16a+PRN20140221\n",
      "'NoneType' object has no attribute 'text'"
     ]
    },
    {
     "name": "stdout",
     "output_type": "stream",
     "text": [
      " http://www.reuters.com/article/2014/02/21/bc-gc-aesthetics-financi-idUSnPnhJG4gd+98+PRN20140221\n",
      "'NoneType' object has no attribute 'text'"
     ]
    },
    {
     "name": "stdout",
     "output_type": "stream",
     "text": [
      " http://www.reuters.com/article/2014/02/21/dc-fannie-mae-earns-idUSnPnPHtDYg2+16c+PRN20140221\n",
      "'NoneType' object has no attribute 'text'"
     ]
    },
    {
     "name": "stdout",
     "output_type": "stream",
     "text": [
      " http://www.reuters.com/article/2014/02/21/ca-hermes-rsc-conf-idUSnPnPHtGWmd+16c+PRN20140221\n",
      "'NoneType' object has no attribute 'text'"
     ]
    },
    {
     "name": "stdout",
     "output_type": "stream",
     "text": [
      " http://www.reuters.com/article/2014/02/21/hi-pacific-financial-idUSnPnLAtD3fs+168+PRN20140221\n",
      "'NoneType' object has no attribute 'text'"
     ]
    },
    {
     "name": "stdout",
     "output_type": "stream",
     "text": [
      " http://www.reuters.com/article/2014/02/21/fl-unitedlaunch-delta-idUSnPnSFtF62d+168+PRN20140221\n",
      "'NoneType' object has no attribute 'text'"
     ]
    },
    {
     "name": "stdout",
     "output_type": "stream",
     "text": [
      "\n",
      "'NoneType' object has no attribute 'text'"
     ]
    },
    {
     "name": "stdout",
     "output_type": "stream",
     "text": [
      " http://www.reuters.com/article/2014/02/22/red-robin-burger-fest-idUSnPnNYtT7kj+168+PRN20140222\n",
      "2014-02-21"
     ]
    },
    {
     "name": "stdout",
     "output_type": "stream",
     "text": [
      " http://www.reuters.com/article/2014/02/22/census-daily-feature-idUSnPnDCqv71+b0+PRN20140222\n",
      "'NoneType' object has no attribute 'text'"
     ]
    },
    {
     "name": "stdout",
     "output_type": "stream",
     "text": [
      " http://www.reuters.com/article/2014/02/22/tx-groupweb-media-idUSnPnLAtSS1W+16d+PRN20140222\n",
      "'NoneType' object has no attribute 'text'"
     ]
    },
    {
     "name": "stdout",
     "output_type": "stream",
     "text": [
      " http://www.reuters.com/article/2014/02/22/muvee-mams-mwc-idUSnPnNYtNxcx+168+PRN20140222\n",
      "'NoneType' object has no attribute 'text'"
     ]
    },
    {
     "name": "stdout",
     "output_type": "stream",
     "text": [
      " http://www.reuters.com/article/2014/02/22/lendingtree-nascar-idUSnPnCLtRxkN+169+PRN20140222\n",
      "'NoneType' object has no attribute 'text'"
     ]
    },
    {
     "name": "stdout",
     "output_type": "stream",
     "text": [
      " http://www.reuters.com/article/2014/02/22/do-ac-boardwalk-wine-idUSnPnNYtLKr4+16c+PRN20140222\n",
      "'NoneType' object has no attribute 'text'"
     ]
    },
    {
     "name": "stdout",
     "output_type": "stream",
     "text": [
      " http://www.reuters.com/article/2014/02/22/incipio-cashwrap-mwc-idUSnPnNYtFHp8+16c+PRN20140222\n",
      "'NoneType' object has no attribute 'text'"
     ]
    },
    {
     "name": "stdout",
     "output_type": "stream",
     "text": [
      "\n",
      "'NoneType' object has no attribute 'text'"
     ]
    },
    {
     "name": "stdout",
     "output_type": "stream",
     "text": [
      " http://www.reuters.com/article/2014/02/23/spreadtrum-25-phone-idUSnPnCNtFbmd+168+PRN20140223\n",
      "2014-02-22"
     ]
    },
    {
     "name": "stdout",
     "output_type": "stream",
     "text": [
      " http://www.reuters.com/article/2014/02/23/personhood-pelletier-idUSnPnDCtWmBf+16a+PRN20140223\n",
      "'NoneType' object has no attribute 'text'"
     ]
    },
    {
     "name": "stdout",
     "output_type": "stream",
     "text": [
      " http://www.reuters.com/article/2014/02/24/ti-wireless-backhaul-idUSnPnCLtVKRP+16f+PRN20140224\n",
      "'NoneType' object has no attribute 'text'"
     ]
    },
    {
     "name": "stdout",
     "output_type": "stream",
     "text": [
      " http://www.reuters.com/article/2014/02/23/census-daily-feature-idUSnPnDCqv91+b0+PRN20140223\n",
      "'NoneType' object has no attribute 'text'"
     ]
    },
    {
     "name": "stdout",
     "output_type": "stream",
     "text": [
      " http://www.reuters.com/article/2014/02/23/mediatek-new-product-idUSnPnHKtTMp8+16c+PRN20140223\n",
      "'NoneType' object has no attribute 'text'"
     ]
    },
    {
     "name": "stdout",
     "output_type": "stream",
     "text": [
      " http://www.reuters.com/article/2014/02/23/good-tech-partners-idUSnPnSFtVqp8+168+PRN20140223\n",
      "'NoneType' object has no attribute 'text'"
     ]
    },
    {
     "name": "stdout",
     "output_type": "stream",
     "text": [
      " http://www.reuters.com/article/2014/02/23/maxthon-parnters-idUSnPnCNtVklj+168+PRN20140223\n",
      "'NoneType' object has no attribute 'text'"
     ]
    },
    {
     "name": "stdout",
     "output_type": "stream",
     "text": [
      "\n",
      "'NoneType' object has no attribute 'text'"
     ]
    },
    {
     "name": "stdout",
     "output_type": "stream",
     "text": [
      " http://www.reuters.com/article/2014/02/24/nj-maetrics-elect-idUSnPnPHv6CtK+165+PRN20140224\n",
      "2014-02-23"
     ]
    },
    {
     "name": "stdout",
     "output_type": "stream",
     "text": [
      " http://www.reuters.com/article/2014/02/24/fl-chromalloycontract-idUSnPnNYtPrmg+168+PRN20140224\n",
      "'NoneType' object has no attribute 'text'"
     ]
    },
    {
     "name": "stdout",
     "output_type": "stream",
     "text": [
      " http://www.reuters.com/article/2014/02/24/ok-american-energy-idUSnPnNYtJnfs+168+PRN20140224\n",
      "'NoneType' object has no attribute 'text'"
     ]
    },
    {
     "name": "stdout",
     "output_type": "stream",
     "text": [
      " http://www.reuters.com/article/2014/02/24/firstenergy-invests-idUSnPnCLv0vmd+160+PRN20140224\n",
      "'NoneType' object has no attribute 'text'"
     ]
    },
    {
     "name": "stdout",
     "output_type": "stream",
     "text": [
      " http://www.reuters.com/article/2014/02/24/census-facts-features-idUSnPnDCv75tG+161+PRN20140224\n",
      "'NoneType' object has no attribute 'text'"
     ]
    },
    {
     "name": "stdout",
     "output_type": "stream",
     "text": [
      " http://www.reuters.com/article/2014/02/24/young-americans-idUSnPnPHtx3j3+160+PRN20140224\n",
      "'NoneType' object has no attribute 'text'"
     ]
    },
    {
     "name": "stdout",
     "output_type": "stream",
     "text": [
      " http://www.reuters.com/article/2014/02/24/pa-firstenergy-met-ed-idUSnPnCLv0tmd+160+PRN20140224\n",
      "'NoneType' object has no attribute 'text'"
     ]
    },
    {
     "name": "stdout",
     "output_type": "stream",
     "text": [
      " http://www.reuters.com/article/2014/02/24/eog-4q13-earns-idUSnPnDAtJsD5+16a+PRN20140224\n",
      "'NoneType' object has no attribute 'text'"
     ]
    },
    {
     "name": "stdout",
     "output_type": "stream",
     "text": [
      " http://www.reuters.com/article/2014/02/24/tx-nshmba-conference-idUSnPnDAv4Mq9+164+PRN20140224\n",
      "'NoneType' object has no attribute 'text'"
     ]
    },
    {
     "name": "stdout",
     "output_type": "stream",
     "text": [
      " http://www.reuters.com/article/2014/02/24/ca-secretropin-canada-idUSnPnPHtMyj8+168+PRN20140224\n",
      "'NoneType' object has no attribute 'text'"
     ]
    },
    {
     "name": "stdout",
     "output_type": "stream",
     "text": [
      " http://www.reuters.com/article/2014/02/24/pelletier-mthr-collap-idUSnPnDCvg8BV+163+PRN20140224\n",
      "'NoneType' object has no attribute 'text'"
     ]
    },
    {
     "name": "stdout",
     "output_type": "stream",
     "text": [
      " http://www.reuters.com/article/2014/02/24/att4g-lte13countries-idUSnPnCGtR75M+169+PRN20140224\n",
      "'NoneType' object has no attribute 'text'"
     ]
    },
    {
     "name": "stdout",
     "output_type": "stream",
     "text": [
      "\n",
      "'NoneType' object has no attribute 'text'"
     ]
    },
    {
     "name": "stdout",
     "output_type": "stream",
     "text": [
      " http://www.reuters.com/article/2014/02/26/ut-newamericaneconomy-idUSnPnLAvHwJG+16b+PRN20140226\n",
      "2014-02-24"
     ]
    },
    {
     "name": "stdout",
     "output_type": "stream",
     "text": [
      " http://www.reuters.com/article/2014/02/25/ny-hipercept-iearn-idUSnPnPHv6rhY+161+PRN20140225\n",
      "'NoneType' object has no attribute 'text'"
     ]
    },
    {
     "name": "stdout",
     "output_type": "stream",
     "text": [
      " http://www.reuters.com/article/2014/02/25/va-general-dynamics-idUSnPnPHvB9yq+168+PRN20140225\n",
      "'NoneType' object has no attribute 'text'"
     ]
    },
    {
     "name": "stdout",
     "output_type": "stream",
     "text": [
      " http://www.reuters.com/article/2014/02/25/carrington-realestate-idUSnPnLAvlHkj+164+PRN20140225\n",
      "'NoneType' object has no attribute 'text'"
     ]
    },
    {
     "name": "stdout",
     "output_type": "stream",
     "text": [
      " http://www.reuters.com/article/2014/02/25/bc-888-com-idUSnPnj0z5fT+81+PRN20140225\n",
      "'NoneType' object has no attribute 'text'"
     ]
    },
    {
     "name": "stdout",
     "output_type": "stream",
     "text": [
      " http://www.reuters.com/article/2014/02/25/tx-intervale-capital-idUSnPnLAvlfcx+160+PRN20140225\n",
      "'NoneType' object has no attribute 'text'"
     ]
    },
    {
     "name": "stdout",
     "output_type": "stream",
     "text": [
      " http://www.reuters.com/article/2014/02/25/usgcorp-sochiusahouse-idUSnPnMMvkpp8+160+PRN20140225\n",
      "'NoneType' object has no attribute 'text'"
     ]
    },
    {
     "name": "stdout",
     "output_type": "stream",
     "text": [
      " http://www.reuters.com/article/2014/02/25/matson-inc-idUSnPnSFvnpzM+161+PRN20140225\n",
      "'NoneType' object has no attribute 'text'"
     ]
    },
    {
     "name": "stdout",
     "output_type": "stream",
     "text": [
      " http://www.reuters.com/article/2014/02/25/zacks-analyst-blog-idUSnPnCGvqDkT+165+PRN20140225\n",
      "'NoneType' object has no attribute 'text'"
     ]
    },
    {
     "name": "stdout",
     "output_type": "stream",
     "text": [
      " http://www.reuters.com/article/2014/02/25/va-us-army-ciaa-idUSnPnCGvt5t0+160+PRN20140225\n",
      "'NoneType' object has no attribute 'text'"
     ]
    },
    {
     "name": "stdout",
     "output_type": "stream",
     "text": [
      " http://www.reuters.com/article/2014/02/25/uscm-aafhonorgoodmans-idUSnPnDCvswn7+160+PRN20140225\n",
      "'NoneType' object has no attribute 'text'"
     ]
    },
    {
     "name": "stdout",
     "output_type": "stream",
     "text": [
      " http://www.reuters.com/article/2014/02/25/adcouncilforestsvcrio-idUSnPnMMtbPhY+165+PRN20140225\n",
      "'NoneType' object has no attribute 'text'"
     ]
    },
    {
     "name": "stdout",
     "output_type": "stream",
     "text": [
      " http://www.reuters.com/article/2014/02/25/adformexpandstous-idUSnPnLAvlcfG+161+PRN20140225\n",
      "'NoneType' object has no attribute 'text'"
     ]
    },
    {
     "name": "stdout",
     "output_type": "stream",
     "text": [
      " http://www.reuters.com/article/2014/02/25/endemol-courtney-love-idUSnPnMMs6hmd+160+PRN20140225\n",
      "'NoneType' object has no attribute 'text'"
     ]
    },
    {
     "name": "stdout",
     "output_type": "stream",
     "text": [
      " http://www.reuters.com/article/2014/02/25/spaceracersshowlaunch-idUSnPnDCvsMn3+164+PRN20140225\n",
      "'NoneType' object has no attribute 'text'"
     ]
    },
    {
     "name": "stdout",
     "output_type": "stream",
     "text": [
      " http://www.reuters.com/article/2014/02/25/truecar-feb-sales-idUSnPnLAvn9fs+160+PRN20140225\n",
      "'NoneType' object has no attribute 'text'"
     ]
    },
    {
     "name": "stdout",
     "output_type": "stream",
     "text": [
      " http://www.reuters.com/article/2014/02/25/girlscouts-ceochavez-idUSnPnMMvtTpQ+165+PRN20140225\n",
      "'NoneType' object has no attribute 'text'"
     ]
    },
    {
     "name": "stdout",
     "output_type": "stream",
     "text": [
      " http://www.reuters.com/article/2014/02/25/md-us-silica-earns-idUSnPnPHvxHBl+166+PRN20140225\n",
      "'NoneType' object has no attribute 'text'"
     ]
    },
    {
     "name": "stdout",
     "output_type": "stream",
     "text": [
      "\n",
      "'NoneType' object has no attribute 'text'"
     ]
    },
    {
     "name": "stdout",
     "output_type": "stream",
     "text": [
      " http://www.reuters.com/article/2014/02/26/habitant-for-humanity-idUSnPnCLvKdkj+168+PRN20140226\n",
      "2014-02-25"
     ]
    },
    {
     "name": "stdout",
     "output_type": "stream",
     "text": [
      " http://www.reuters.com/article/2014/02/26/tax-reform-proposal-idUSnPnDCw3HGG+167+PRN20140226\n",
      "'NoneType' object has no attribute 'text'"
     ]
    },
    {
     "name": "stdout",
     "output_type": "stream",
     "text": [
      " http://www.reuters.com/article/2014/02/26/dc-oiac-iran-idUSnPnDCvL23R+169+PRN20140226\n",
      "'NoneType' object has no attribute 'text'"
     ]
    },
    {
     "name": "stdout",
     "output_type": "stream",
     "text": [
      " http://www.reuters.com/article/2014/02/26/st-jude-univision-idUSnPnMMv2vB6+162+PRN20140226\n",
      "'NoneType' object has no attribute 'text'"
     ]
    },
    {
     "name": "stdout",
     "output_type": "stream",
     "text": [
      " http://www.reuters.com/article/2014/02/26/penn-power-upgrades-idUSnPnCLvPBn5+16c+PRN20140226\n",
      "'NoneType' object has no attribute 'text'"
     ]
    },
    {
     "name": "stdout",
     "output_type": "stream",
     "text": [
      " http://www.reuters.com/article/2014/02/26/firstenergycorp228m-idUSnPnCLvPtn5+168+PRN20140226\n",
      "'NoneType' object has no attribute 'text'"
     ]
    },
    {
     "name": "stdout",
     "output_type": "stream",
     "text": [
      " http://www.reuters.com/article/2014/02/26/tn-artelon-expands-idUSnPnPHvGQhY+16d+PRN20140226\n",
      "'NoneType' object has no attribute 'text'"
     ]
    },
    {
     "name": "stdout",
     "output_type": "stream",
     "text": [
      " http://www.reuters.com/article/2014/02/26/xueda-earnings-idUSnPnCNvTGzS+16d+PRN20140226\n",
      "'NoneType' object has no attribute 'text'"
     ]
    },
    {
     "name": "stdout",
     "output_type": "stream",
     "text": [
      " http://www.reuters.com/article/2014/02/26/il-tdsanduscell-idUSnPnCGt56hn+160+PRN20140226\n",
      "'NoneType' object has no attribute 'text'"
     ]
    },
    {
     "name": "stdout",
     "output_type": "stream",
     "text": [
      " http://www.reuters.com/article/2014/02/26/ny-schroders-survey-idUSnPnNYvDWhr+16c+PRN20140226\n",
      "'NoneType' object has no attribute 'text'"
     ]
    },
    {
     "name": "stdout",
     "output_type": "stream",
     "text": [
      " http://www.reuters.com/article/2014/02/26/china-recycling-loans-idUSnPnCNvLrhY+169+PRN20140226\n",
      "'NoneType' object has no attribute 'text'"
     ]
    },
    {
     "name": "stdout",
     "output_type": "stream",
     "text": [
      " http://www.reuters.com/article/2014/02/26/ma-decision-resources-idUSnPnNEtrcmd+160+PRN20140226\n",
      "'NoneType' object has no attribute 'text'"
     ]
    },
    {
     "name": "stdout",
     "output_type": "stream",
     "text": [
      " http://www.reuters.com/article/2014/02/26/nlc-citiesunited-idUSnPnDCvT8rt+168+PRN20140226\n",
      "'NoneType' object has no attribute 'text'"
     ]
    },
    {
     "name": "stdout",
     "output_type": "stream",
     "text": [
      " http://www.reuters.com/article/2014/02/26/ma-lionbridge-secures-idUSnPnNEvDSkj+16c+PRN20140226\n",
      "'NoneType' object has no attribute 'text'"
     ]
    },
    {
     "name": "stdout",
     "output_type": "stream",
     "text": [
      " http://www.reuters.com/article/2014/02/26/az-providence4thqerns-idUSnPnLAvKchY+169+PRN20140226\n",
      "'NoneType' object has no attribute 'text'"
     ]
    },
    {
     "name": "stdout",
     "output_type": "stream",
     "text": [
      "\n",
      "'NoneType' object has no attribute 'text'"
     ]
    },
    {
     "name": "stdout",
     "output_type": "stream",
     "text": [
      " http://www.reuters.com/article/2014/02/27/oncolyticscmmnshare-idUSnPnTOjykP+b1+PRN20140227\n",
      "2014-02-26"
     ]
    },
    {
     "name": "stdout",
     "output_type": "stream",
     "text": [
      " http://www.reuters.com/article/2014/02/27/decisionresources-aca-idUSnPnNEwhGwz+164+PRN20140227\n",
      "'NoneType' object has no attribute 'text'"
     ]
    },
    {
     "name": "stdout",
     "output_type": "stream",
     "text": [
      " http://www.reuters.com/article/2014/02/27/amrealtycapprop-erns-idUSnPnNYw6Nd6+164+PRN20140227\n",
      "'NoneType' object has no attribute 'text'"
     ]
    },
    {
     "name": "stdout",
     "output_type": "stream",
     "text": [
      " http://www.reuters.com/article/2014/02/27/pa-mylan-4q-earnings-idUSnPnNEw5vfs+160+PRN20140227\n",
      "'NoneType' object has no attribute 'text'"
     ]
    },
    {
     "name": "stdout",
     "output_type": "stream",
     "text": [
      " http://www.reuters.com/article/2014/02/27/digitale-idUSnPnBRwjBy9+164+PRN20140227\n",
      "'NoneType' object has no attribute 'text'"
     ]
    },
    {
     "name": "stdout",
     "output_type": "stream",
     "text": [
      " http://www.reuters.com/article/2014/02/27/ma-decision-resources-idUSnPnNEtr9md+160+PRN20140227\n",
      "'NoneType' object has no attribute 'text'"
     ]
    },
    {
     "name": "stdout",
     "output_type": "stream",
     "text": [
      " http://www.reuters.com/article/2014/02/27/dc-brand-usa-board-idUSnPnPHvHGhP+16d+PRN20140227\n",
      "'NoneType' object has no attribute 'text'"
     ]
    },
    {
     "name": "stdout",
     "output_type": "stream",
     "text": [
      " http://www.reuters.com/article/2014/02/27/potomacedison-enhance-idUSnPnCLw9wp8+160+PRN20140227\n",
      "'NoneType' object has no attribute 'text'"
     ]
    },
    {
     "name": "stdout",
     "output_type": "stream",
     "text": [
      " http://www.reuters.com/article/2014/02/27/nc-attfilling130jobs-idUSnPnDAw4j6Q+161+PRN20140227\n",
      "'NoneType' object has no attribute 'text'"
     ]
    },
    {
     "name": "stdout",
     "output_type": "stream",
     "text": [
      "\n",
      "'NoneType' object has no attribute 'text'"
     ]
    },
    {
     "name": "stdout",
     "output_type": "stream",
     "text": [
      " http://www.reuters.com/article/2014/02/28/cib-mardigrasmenu-idUSnPnDAwwJtF+165+PRN20140228\n",
      "2014-02-27"
     ]
    },
    {
     "name": "stdout",
     "output_type": "stream",
     "text": [
      " http://www.reuters.com/article/2014/02/28/xacfaq-xac-usa-idUSnPnPHwkPj3+164+PRN20140228\n",
      "'NoneType' object has no attribute 'text'"
     ]
    },
    {
     "name": "stdout",
     "output_type": "stream",
     "text": [
      " http://www.reuters.com/article/2014/02/28/bny-mellon-china-econ-idUSnPnNYwlrhY+161+PRN20140228\n",
      "'NoneType' object has no attribute 'text'"
     ]
    },
    {
     "name": "stdout",
     "output_type": "stream",
     "text": [
      " http://www.reuters.com/article/2014/02/28/astellas-pharma-idUSnPnAQwrjfs+160+PRN20140228\n",
      "'NoneType' object has no attribute 'text'"
     ]
    },
    {
     "name": "stdout",
     "output_type": "stream",
     "text": [
      " http://www.reuters.com/article/2014/02/28/personhoodusa-vigil-idUSnPnDCwy6rz+160+PRN20140228\n",
      "'NoneType' object has no attribute 'text'"
     ]
    },
    {
     "name": "stdout",
     "output_type": "stream",
     "text": [
      " http://www.reuters.com/article/2014/02/28/csn-record-netrev-idUSnPnBRwsLg8+164+PRN20140228\n",
      "'NoneType' object has no attribute 'text'"
     ]
    },
    {
     "name": "stdout",
     "output_type": "stream",
     "text": [
      " http://www.reuters.com/article/2014/02/28/the-home-depot-elects-idUSnPnCLwsNgf+164+PRN20140228\n",
      "'NoneType' object has no attribute 'text'"
     ]
    },
    {
     "name": "stdout",
     "output_type": "stream",
     "text": [
      " http://www.reuters.com/article/2014/02/28/american-indian-found-idUSnPnPHwmzj8+160+PRN20140228\n",
      "'NoneType' object has no attribute 'text'"
     ]
    },
    {
     "name": "stdout",
     "output_type": "stream",
     "text": [
      " http://www.reuters.com/article/2014/02/28/personhoodusa-justina-idUSnPnDCwC4yf+168+PRN20140228\n",
      "'NoneType' object has no attribute 'text'"
     ]
    },
    {
     "name": "stdout",
     "output_type": "stream",
     "text": [
      "\n",
      "'NoneType' object has no attribute 'text'"
     ]
    },
    {
     "name": "stdout",
     "output_type": "stream",
     "text": [
      " http://www.reuters.com/article/2014/03/01/census-daily-feature-idUSnPnDCwwd1+b0+PRN20140301\n",
      "2014-02-28"
     ]
    },
    {
     "name": "stdout",
     "output_type": "stream",
     "text": [
      " http://www.reuters.com/article/2014/03/01/ca-csl-behring-study-idUSnPnNYwv8rX+161+PRN20140301\n",
      "'NoneType' object has no attribute 'text'"
     ]
    },
    {
     "name": "stdout",
     "output_type": "stream",
     "text": [
      " http://www.reuters.com/article/2014/03/01/renewable-energy-idUSnPnDCwJyl0+168+PRN20140301\n",
      "'NoneType' object has no attribute 'text'"
     ]
    },
    {
     "name": "stdout",
     "output_type": "stream",
     "text": [
      " http://www.reuters.com/article/2014/03/01/amgen-at-cowen-conf-idUSnPnLAwJQtv+16c+PRN20140301\n",
      "'NoneType' object has no attribute 'text'"
     ]
    },
    {
     "name": "stdout",
     "output_type": "stream",
     "text": [
      " http://www.reuters.com/article/2014/03/01/collegiate-licensing-idUSnPnCLwD7zY+169+PRN20140301\n",
      "'NoneType' object has no attribute 'text'"
     ]
    },
    {
     "name": "stdout",
     "output_type": "stream",
     "text": [
      "\n",
      "'NoneType' object has no attribute 'text'"
     ]
    },
    {
     "name": "stdout",
     "output_type": "stream",
     "text": [
      " http://www.reuters.com/article/2014/03/02/census-daily-feature-idUSnPnDCwwg1+b0+PRN20140302\n",
      "2014-03-01"
     ]
    },
    {
     "name": "stdout",
     "output_type": "stream",
     "text": [
      "\n",
      "'NoneType' object has no attribute 'text'"
     ]
    },
    {
     "name": "stdout",
     "output_type": "stream",
     "text": [
      " http://www.reuters.com/article/2014/03/03/shahin-uae-obama-idUSnPnDCwVyrt+168+PRN20140303\n",
      "2014-03-02"
     ]
    },
    {
     "name": "stdout",
     "output_type": "stream",
     "text": [
      " http://www.reuters.com/article/2014/03/03/ri-winter-weather-idUSnPnNYwNxmd+168+PRN20140303\n",
      "'NoneType' object has no attribute 'text'"
     ]
    },
    {
     "name": "stdout",
     "output_type": "stream",
     "text": [
      " http://www.reuters.com/article/2014/03/03/ohio-aerospace-instit-idUSnPnCLwSxmV+169+PRN20140303\n",
      "'NoneType' object has no attribute 'text'"
     ]
    },
    {
     "name": "stdout",
     "output_type": "stream",
     "text": [
      " http://www.reuters.com/article/2014/03/04/rogers-offering-750m-idUSnPnTOkVQ1+b6+PRN20140304\n",
      "'NoneType' object has no attribute 'text'"
     ]
    },
    {
     "name": "stdout",
     "output_type": "stream",
     "text": [
      " http://www.reuters.com/article/2014/03/03/kellogg-healthy-kids-idUSnPnMMwkXkj+164+PRN20140303\n",
      "'NoneType' object has no attribute 'text'"
     ]
    },
    {
     "name": "stdout",
     "output_type": "stream",
     "text": [
      " http://www.reuters.com/article/2014/03/03/edf-methane-study-idUSnPnDCwQSj0+16c+PRN20140303\n",
      "'NoneType' object has no attribute 'text'"
     ]
    },
    {
     "name": "stdout",
     "output_type": "stream",
     "text": [
      " http://www.reuters.com/article/2014/03/04/gaw-wins-awards-idUSnPnCNx7mPY+163+PRN20140304\n",
      "'NoneType' object has no attribute 'text'"
     ]
    },
    {
     "name": "stdout",
     "output_type": "stream",
     "text": [
      " http://www.reuters.com/article/2014/03/03/co-steadman-clinic-idUSnPnNYwMHtz+16c+PRN20140303\n",
      "'NoneType' object has no attribute 'text'"
     ]
    },
    {
     "name": "stdout",
     "output_type": "stream",
     "text": [
      " http://www.reuters.com/article/2014/03/03/il-fuel-up-breakfast-idUSnPnCGwywhp+160+PRN20140303\n",
      "'NoneType' object has no attribute 'text'"
     ]
    },
    {
     "name": "stdout",
     "output_type": "stream",
     "text": [
      " http://www.reuters.com/article/2014/03/03/mi-chrysler-feb-sales-idUSnPnCLwJDhS+16d+PRN20140303\n",
      "'NoneType' object has no attribute 'text'"
     ]
    },
    {
     "name": "stdout",
     "output_type": "stream",
     "text": [
      " http://www.reuters.com/article/2014/03/03/optimalpayments-net-idUSnPnMOknhn+b0+PRN20140303\n",
      "'NoneType' object has no attribute 'text'"
     ]
    },
    {
     "name": "stdout",
     "output_type": "stream",
     "text": [
      "\n",
      "'NoneType' object has no attribute 'text'"
     ]
    },
    {
     "name": "stdout",
     "output_type": "stream",
     "text": [
      " http://www.reuters.com/article/2014/03/04/inrixtrafficscorecard-idUSnPnMMx2Yhn+164+PRN20140304\n",
      "2014-03-03"
     ]
    },
    {
     "name": "stdout",
     "output_type": "stream",
     "text": [
      " http://www.reuters.com/article/2014/03/04/puertorico-netrevenue-idUSnPnDCxhQtv+164+PRN20140304\n",
      "'NoneType' object has no attribute 'text'"
     ]
    },
    {
     "name": "stdout",
     "output_type": "stream",
     "text": [
      " http://www.reuters.com/article/2014/03/04/beit-hatfutsot-museum-idUSnPnNYwFjhY+169+PRN20140304\n",
      "'NoneType' object has no attribute 'text'"
     ]
    },
    {
     "name": "stdout",
     "output_type": "stream",
     "text": [
      " http://www.reuters.com/article/2014/03/05/mayors-budget-reax-idUSnPnDCxsDHM+167+PRN20140305\n",
      "'NoneType' object has no attribute 'text'"
     ]
    },
    {
     "name": "stdout",
     "output_type": "stream",
     "text": [
      " http://www.reuters.com/article/2014/03/04/levi-korsinsky-cxbt-idUSnPnNYxqMDp+166+PRN20140304\n",
      "'NoneType' object has no attribute 'text'"
     ]
    },
    {
     "name": "stdout",
     "output_type": "stream",
     "text": [
      " http://www.reuters.com/article/2014/03/04/cme-group-contracts-idUSnPnAQx3bg2+160+PRN20140304\n",
      "'NoneType' object has no attribute 'text'"
     ]
    },
    {
     "name": "stdout",
     "output_type": "stream",
     "text": [
      " http://www.reuters.com/article/2014/03/04/ma-decision-resources-idUSnPnNEwTXmd+16c+PRN20140304\n",
      "'NoneType' object has no attribute 'text'"
     ]
    },
    {
     "name": "stdout",
     "output_type": "stream",
     "text": [
      " http://www.reuters.com/article/2014/03/04/libertymsma-mtsoledad-idUSnPnDCxjrvY+161+PRN20140304\n",
      "'NoneType' object has no attribute 'text'"
     ]
    },
    {
     "name": "stdout",
     "output_type": "stream",
     "text": [
      " http://www.reuters.com/article/2014/03/04/tx-aldw-q4-earnings-idUSnPnDAxkXDp+166+PRN20140304\n",
      "'NoneType' object has no attribute 'text'"
     ]
    },
    {
     "name": "stdout",
     "output_type": "stream",
     "text": [
      " http://www.reuters.com/article/2014/03/04/ny-kpmg-on-tax-plans-idUSnPnNYxnczM+161+PRN20140304\n",
      "'NoneType' object has no attribute 'text'"
     ]
    },
    {
     "name": "stdout",
     "output_type": "stream",
     "text": [
      " http://www.reuters.com/article/2014/03/04/ny-att-investment-idUSnPnDAwWNhn+16c+PRN20140304\n",
      "'NoneType' object has no attribute 'text'"
     ]
    },
    {
     "name": "stdout",
     "output_type": "stream",
     "text": [
      " http://www.reuters.com/article/2014/03/04/ny-hain-celestial-idUSnPnNYx1xhY+161+PRN20140304\n",
      "'NoneType' object has no attribute 'text'"
     ]
    },
    {
     "name": "stdout",
     "output_type": "stream",
     "text": [
      " http://www.reuters.com/article/2014/03/04/huntkey-newegg-idUSnPnCNx7wkj+160+PRN20140304\n",
      "'NoneType' object has no attribute 'text'"
     ]
    },
    {
     "name": "stdout",
     "output_type": "stream",
     "text": [
      " http://www.reuters.com/article/2014/03/04/clinicient-catalyst-idUSnPnSFx7xhn+160+PRN20140304\n",
      "'NoneType' object has no attribute 'text'"
     ]
    },
    {
     "name": "stdout",
     "output_type": "stream",
     "text": [
      "\n",
      "'NoneType' object has no attribute 'text'"
     ]
    },
    {
     "name": "stdout",
     "output_type": "stream",
     "text": [
      " http://www.reuters.com/article/2014/03/05/zacks-investment-idea-idUSnPnCGxyZkT+165+PRN20140305\n",
      "2014-03-04"
     ]
    },
    {
     "name": "stdout",
     "output_type": "stream",
     "text": [
      " http://www.reuters.com/article/2014/03/05/summit-strategic-comm-idUSnPnNYxp3ml+160+PRN20140305\n",
      "'NoneType' object has no attribute 'text'"
     ]
    },
    {
     "name": "stdout",
     "output_type": "stream",
     "text": [
      " http://www.reuters.com/article/2014/03/05/kelleydryewarrengoes-idUSnPnDCxPMGG+16f+PRN20140305\n",
      "'NoneType' object has no attribute 'text'"
     ]
    },
    {
     "name": "stdout",
     "output_type": "stream",
     "text": [
      " http://www.reuters.com/article/2014/03/05/omeros-corporation-idUSnPnSFxw5jn+160+PRN20140305\n",
      "'NoneType' object has no attribute 'text'"
     ]
    },
    {
     "name": "stdout",
     "output_type": "stream",
     "text": [
      " http://www.reuters.com/article/2014/03/05/citizens-menthol-fda-idUSnPnDCx7Wmd+164+PRN20140305\n",
      "'NoneType' object has no attribute 'text'"
     ]
    },
    {
     "name": "stdout",
     "output_type": "stream",
     "text": [
      " http://www.reuters.com/article/2014/03/05/star-spangled-anniv-idUSnPnDCxrGkp+164+PRN20140305\n",
      "'NoneType' object has no attribute 'text'"
     ]
    },
    {
     "name": "stdout",
     "output_type": "stream",
     "text": [
      " http://www.reuters.com/article/2014/03/05/gmp-expands-houston-idUSnPnTOllnd+b0+PRN20140305\n",
      "'NoneType' object has no attribute 'text'"
     ]
    },
    {
     "name": "stdout",
     "output_type": "stream",
     "text": [
      " http://www.reuters.com/article/2014/03/05/bc-analyst-review-idUSnPnpHNkyq+98+PRN20140305\n",
      "'NoneType' object has no attribute 'text'"
     ]
    },
    {
     "name": "stdout",
     "output_type": "stream",
     "text": [
      " http://www.reuters.com/article/2014/03/05/competitivetechelects-idUSnPnNYxz1kz+160+PRN20140305\n",
      "'NoneType' object has no attribute 'text'"
     ]
    },
    {
     "name": "stdout",
     "output_type": "stream",
     "text": [
      " http://www.reuters.com/article/2014/03/05/atlantic-power-div-idUSnPnNEwX6r4+168+PRN20140305\n",
      "'NoneType' object has no attribute 'text'"
     ]
    },
    {
     "name": "stdout",
     "output_type": "stream",
     "text": [
      " http://www.reuters.com/article/2014/03/05/oh-streamlink-35m-idUSnPnCLx3kvW+161+PRN20140305\n",
      "'NoneType' object has no attribute 'text'"
     ]
    },
    {
     "name": "stdout",
     "output_type": "stream",
     "text": [
      "\n",
      "'NoneType' object has no attribute 'text'"
     ]
    },
    {
     "name": "stdout",
     "output_type": "stream",
     "text": [
      " http://www.reuters.com/article/2014/03/06/zackshahin-statedept-idUSnPnDCxY3pw+168+PRN20140306\n",
      "2014-03-05"
     ]
    },
    {
     "name": "stdout",
     "output_type": "stream",
     "text": [
      " http://www.reuters.com/article/2014/03/06/poll-results-pope-yr-idUSnPnDCxNv1+b4+PRN20140306\n",
      "'NoneType' object has no attribute 'text'"
     ]
    },
    {
     "name": "stdout",
     "output_type": "stream",
     "text": [
      " http://www.reuters.com/article/2014/03/06/decisionresources-svy-idUSnPnNEy14t4+160+PRN20140306\n",
      "'NoneType' object has no attribute 'text'"
     ]
    },
    {
     "name": "stdout",
     "output_type": "stream",
     "text": [
      " http://www.reuters.com/article/2014/03/06/ondecktigerglobal-idUSnPnLAxFmdn+168+PRN20140306\n",
      "'NoneType' object has no attribute 'text'"
     ]
    },
    {
     "name": "stdout",
     "output_type": "stream",
     "text": [
      " http://www.reuters.com/article/2014/03/06/tx-breitlingcasestudy-idUSnPnPHxLfjf+168+PRN20140306\n",
      "'NoneType' object has no attribute 'text'"
     ]
    },
    {
     "name": "stdout",
     "output_type": "stream",
     "text": [
      " http://www.reuters.com/article/2014/03/06/tx-alj-q4-earnings-idUSnPnDAxZtCY+16b+PRN20140306\n",
      "'NoneType' object has no attribute 'text'"
     ]
    },
    {
     "name": "stdout",
     "output_type": "stream",
     "text": [
      " http://www.reuters.com/article/2014/03/06/ball-corp-rumble-idUSnPnLAy4MCH+167+PRN20140306\n",
      "'NoneType' object has no attribute 'text'"
     ]
    },
    {
     "name": "stdout",
     "output_type": "stream",
     "text": [
      " http://www.reuters.com/article/2014/03/06/ca-jawbone-sleepstudy-idUSnPnSFxSqkj+168+PRN20140306\n",
      "'NoneType' object has no attribute 'text'"
     ]
    },
    {
     "name": "stdout",
     "output_type": "stream",
     "text": [
      "\n",
      "'NoneType' object has no attribute 'text'"
     ]
    },
    {
     "name": "stdout",
     "output_type": "stream",
     "text": [
      " http://www.reuters.com/article/2014/03/07/pioneer-power-earns-idUSnPnPHxZGhB+16d+PRN20140307\n",
      "2014-03-06"
     ]
    },
    {
     "name": "stdout",
     "output_type": "stream",
     "text": [
      " http://www.reuters.com/article/2014/03/07/usa-masters-track-idUSnPnDCyn5CZ+163+PRN20140307\n",
      "'NoneType' object has no attribute 'text'"
     ]
    },
    {
     "name": "stdout",
     "output_type": "stream",
     "text": [
      " http://www.reuters.com/article/2014/03/07/touchmedia-new-forum-idUSnPnCNxxx9C+161+PRN20140307\n",
      "'NoneType' object has no attribute 'text'"
     ]
    },
    {
     "name": "stdout",
     "output_type": "stream",
     "text": [
      " http://www.reuters.com/article/2014/03/07/eximbank-192b-exports-idUSnPnDCyl6yk+160+PRN20140307\n",
      "'NoneType' object has no attribute 'text'"
     ]
    },
    {
     "name": "stdout",
     "output_type": "stream",
     "text": [
      " http://www.reuters.com/article/2014/03/07/cbis-closes-1mfinanc-idUSnPnLAydzmB+161+PRN20140307\n",
      "'NoneType' object has no attribute 'text'"
     ]
    },
    {
     "name": "stdout",
     "output_type": "stream",
     "text": [
      "\n",
      "'NoneType' object has no attribute 'text'"
     ]
    },
    {
     "name": "stdout",
     "output_type": "stream",
     "text": [
      " http://www.reuters.com/article/2014/03/08/bc-elbit-systems-idUSnPnpW0Bbb+94+PRN20140308\n",
      "2014-03-07"
     ]
    },
    {
     "name": "stdout",
     "output_type": "stream",
     "text": [
      " http://www.reuters.com/article/2014/03/08/census-daily-feature-idUSnPnDCwwq1+b0+PRN20140308\n",
      "'NoneType' object has no attribute 'text'"
     ]
    },
    {
     "name": "stdout",
     "output_type": "stream",
     "text": [
      " http://www.reuters.com/article/2014/03/08/nc-duke-power-out-idUSnPnCLyrlr9+160+PRN20140308\n",
      "'NoneType' object has no attribute 'text'"
     ]
    },
    {
     "name": "stdout",
     "output_type": "stream",
     "text": [
      " http://www.reuters.com/article/2014/03/08/tx-att-valueplans-idUSnPnCGylNvW+165+PRN20140308\n",
      "'NoneType' object has no attribute 'text'"
     ]
    },
    {
     "name": "stdout",
     "output_type": "stream",
     "text": [
      " http://www.reuters.com/article/2014/03/09/cheerios-racing-csr-idUSnPnNYxnTMn+166+PRN20140309\n",
      "'NoneType' object has no attribute 'text'"
     ]
    },
    {
     "name": "stdout",
     "output_type": "stream",
     "text": [
      "\n",
      "'NoneType' object has no attribute 'text'"
     ]
    },
    {
     "name": "stdout",
     "output_type": "stream",
     "text": [
      " http://www.reuters.com/article/2014/03/09/natl-league-of-cities-idUSnPnDCysMG2+166+PRN20140309\n",
      "2014-03-08"
     ]
    },
    {
     "name": "stdout",
     "output_type": "stream",
     "text": [
      " http://www.reuters.com/article/2014/03/09/census-daily-feature-idUSnPnDCwwr1+b0+PRN20140309\n",
      "'NoneType' object has no attribute 'text'"
     ]
    },
    {
     "name": "stdout",
     "output_type": "stream",
     "text": [
      " http://www.reuters.com/article/2014/03/09/adama-q4-fy-idUSnPnNYyrS83+164+PRN20140309\n",
      "'NoneType' object has no attribute 'text'"
     ]
    },
    {
     "name": "stdout",
     "output_type": "stream",
     "text": [
      " http://www.reuters.com/article/2014/03/09/bc-arabtec-historic-agre-idUSnPnpZJ3yB+99+PRN20140309\n",
      "'NoneType' object has no attribute 'text'"
     ]
    },
    {
     "name": "stdout",
     "output_type": "stream",
     "text": [
      "\n",
      "'NoneType' object has no attribute 'text'"
     ]
    },
    {
     "name": "stdout",
     "output_type": "stream",
     "text": [
      " http://www.reuters.com/article/2014/03/10/tsa-partners-with-cdc-idUSnPnDCyyCmX+165+PRN20140310\n",
      "2014-03-09"
     ]
    },
    {
     "name": "stdout",
     "output_type": "stream",
     "text": [
      " http://www.reuters.com/article/2014/03/10/e-blackshape-cf300pla-idUSnPnMO7Whn+b4+PRN20140310\n",
      "'NoneType' object has no attribute 'text'"
     ]
    },
    {
     "name": "stdout",
     "output_type": "stream",
     "text": [
      " http://www.reuters.com/article/2014/03/10/tx-summit-midstreamq-idUSnPnDAyrVzP+165+PRN20140310\n",
      "'NoneType' object has no attribute 'text'"
     ]
    },
    {
     "name": "stdout",
     "output_type": "stream",
     "text": [
      " http://www.reuters.com/article/2014/03/10/mason-im-article-idUSnPnTO8czW+b1+PRN20140310\n",
      "'NoneType' object has no attribute 'text'"
     ]
    },
    {
     "name": "stdout",
     "output_type": "stream",
     "text": [
      " http://www.reuters.com/article/2014/03/10/petrochemwire-propane-idUSnPnLAyDbs1+168+PRN20140310\n",
      "'NoneType' object has no attribute 'text'"
     ]
    },
    {
     "name": "stdout",
     "output_type": "stream",
     "text": [
      " http://www.reuters.com/article/2014/03/10/ny-ing-us-files-sec-idUSnPnCLyJbCV+16b+PRN20140310\n",
      "'NoneType' object has no attribute 'text'"
     ]
    },
    {
     "name": "stdout",
     "output_type": "stream",
     "text": [
      " http://www.reuters.com/article/2014/03/10/dc-cair-uscmo-launch-idUSnPnDCyBjpR+169+PRN20140310\n",
      "'NoneType' object has no attribute 'text'"
     ]
    },
    {
     "name": "stdout",
     "output_type": "stream",
     "text": [
      " http://www.reuters.com/article/2014/03/10/votorantimtenderoffer-idUSnPnNYyzsq2+160+PRN20140310\n",
      "'NoneType' object has no attribute 'text'"
     ]
    },
    {
     "name": "stdout",
     "output_type": "stream",
     "text": [
      " http://www.reuters.com/article/2014/03/10/nj-elusys-patent-idUSnPnNYyxSmd+164+PRN20140310\n",
      "'NoneType' object has no attribute 'text'"
     ]
    },
    {
     "name": "stdout",
     "output_type": "stream",
     "text": [
      " http://www.reuters.com/article/2014/03/10/bc-ie-idUSnPnq3s8vZ+81+PRN20140310\n",
      "'NoneType' object has no attribute 'text'"
     ]
    },
    {
     "name": "stdout",
     "output_type": "stream",
     "text": [
      " http://www.reuters.com/article/2014/03/10/nlc-education-mou-idUSnPnDCyxXmP+165+PRN20140310\n",
      "'NoneType' object has no attribute 'text'"
     ]
    },
    {
     "name": "stdout",
     "output_type": "stream",
     "text": [
      " http://www.reuters.com/article/2014/03/10/us-comm-adds-dr-myers-idUSnPnDCy6Scx+164+PRN20140310\n",
      "'NoneType' object has no attribute 'text'"
     ]
    },
    {
     "name": "stdout",
     "output_type": "stream",
     "text": [
      "\n",
      "'NoneType' object has no attribute 'text'"
     ]
    },
    {
     "name": "stdout",
     "output_type": "stream",
     "text": [
      " http://www.reuters.com/article/2014/03/11/gdsi-intent-toacquire-idUSnPnPHyWVB4+16e+PRN20140311\n",
      "2014-03-10"
     ]
    },
    {
     "name": "stdout",
     "output_type": "stream",
     "text": [
      " http://www.reuters.com/article/2014/03/11/tragon-wine-cork-idUSnPnLAyKrkj+168+PRN20140311\n",
      "'NoneType' object has no attribute 'text'"
     ]
    },
    {
     "name": "stdout",
     "output_type": "stream",
     "text": [
      " http://www.reuters.com/article/2014/03/11/us-news-univ-report-idUSnPnPHz1Kw7+164+PRN20140311\n",
      "'NoneType' object has no attribute 'text'"
     ]
    },
    {
     "name": "stdout",
     "output_type": "stream",
     "text": [
      " http://www.reuters.com/article/2014/03/11/capital-corp-merchant-idUSnPnLAyK39C+169+PRN20140311\n",
      "'NoneType' object has no attribute 'text'"
     ]
    },
    {
     "name": "stdout",
     "output_type": "stream",
     "text": [
      " http://www.reuters.com/article/2014/03/11/ct-general-dynamics-idUSnPnPHz1FxR+165+PRN20140311\n",
      "'NoneType' object has no attribute 'text'"
     ]
    },
    {
     "name": "stdout",
     "output_type": "stream",
     "text": [
      " http://www.reuters.com/article/2014/03/11/il-apartmentscom-us-idUSnPnCGyzr9C+161+PRN20140311\n",
      "'NoneType' object has no attribute 'text'"
     ]
    },
    {
     "name": "stdout",
     "output_type": "stream",
     "text": [
      " http://www.reuters.com/article/2014/03/11/ga-gray-tv-earnings-idUSnPnCLynqcx+160+PRN20140311\n",
      "'NoneType' object has no attribute 'text'"
     ]
    },
    {
     "name": "stdout",
     "output_type": "stream",
     "text": [
      " http://www.reuters.com/article/2014/03/11/datadrivenmarketing-idUSnPnLAz0ZtK+165+PRN20140311\n",
      "'NoneType' object has no attribute 'text'"
     ]
    },
    {
     "name": "stdout",
     "output_type": "stream",
     "text": [
      " http://www.reuters.com/article/2014/03/11/tx-michaels-bookdrive-idUSnPnDAyNvfG+169+PRN20140311\n",
      "'NoneType' object has no attribute 'text'"
     ]
    },
    {
     "name": "stdout",
     "output_type": "stream",
     "text": [
      " http://www.reuters.com/article/2014/03/11/il-medacpharma-patent-idUSnPnNYyCjmy+168+PRN20140311\n",
      "'NoneType' object has no attribute 'text'"
     ]
    },
    {
     "name": "stdout",
     "output_type": "stream",
     "text": [
      " http://www.reuters.com/article/2014/03/12/vipshop-notes-pricing-idUSnPnCNz9HPj+166+PRN20140312\n",
      "'NoneType' object has no attribute 'text'"
     ]
    },
    {
     "name": "stdout",
     "output_type": "stream",
     "text": [
      " http://www.reuters.com/article/2014/03/11/ma-temkin-engage-idUSnPnPHyFxhY+169+PRN20140311\n",
      "'NoneType' object has no attribute 'text'"
     ]
    },
    {
     "name": "stdout",
     "output_type": "stream",
     "text": [
      " http://www.reuters.com/article/2014/03/11/cantel-med-2q-earns-idUSnPnNYyQqhn+168+PRN20140311\n",
      "'NoneType' object has no attribute 'text'"
     ]
    },
    {
     "name": "stdout",
     "output_type": "stream",
     "text": [
      " http://www.reuters.com/article/2014/03/11/az-top-institutions-idUSnPnLAz7cFZ+163+PRN20140311\n",
      "'NoneType' object has no attribute 'text'"
     ]
    },
    {
     "name": "stdout",
     "output_type": "stream",
     "text": [
      " http://www.reuters.com/article/2014/03/11/interaction-withsyria-idUSnPnDCyNbfR+169+PRN20140311\n",
      "'NoneType' object has no attribute 'text'"
     ]
    },
    {
     "name": "stdout",
     "output_type": "stream",
     "text": [
      " http://www.reuters.com/article/2014/03/11/citigroupglobalmarket-idUSnPnNYz2FwR+165+PRN20140311\n",
      "'NoneType' object has no attribute 'text'"
     ]
    },
    {
     "name": "stdout",
     "output_type": "stream",
     "text": [
      " http://www.reuters.com/article/2014/03/11/ct-dunkindonutsstjude-idUSnPnNYyWhp8+168+PRN20140311\n",
      "'NoneType' object has no attribute 'text'"
     ]
    },
    {
     "name": "stdout",
     "output_type": "stream",
     "text": [
      " http://www.reuters.com/article/2014/03/12/mi-uaoc-usa-pressconf-idUSnPnDEzfCp9+164+PRN20140312\n",
      "2014-03-11\n",
      "'NoneType' object has no attribute 'text'"
     ]
    },
    {
     "name": "stdout",
     "output_type": "stream",
     "text": [
      " http://www.reuters.com/article/2014/03/12/ny-cohen-steers-fund-idUSnPnNYzpqD8+162+PRN20140312\n",
      "'NoneType' object has no attribute 'text'"
     ]
    },
    {
     "name": "stdout",
     "output_type": "stream",
     "text": [
      " http://www.reuters.com/article/2014/03/12/fellowship-ukraine-idUSnPnDCzrMDg+166+PRN20140312\n",
      "'NoneType' object has no attribute 'text'"
     ]
    },
    {
     "name": "stdout",
     "output_type": "stream",
     "text": [
      " http://www.reuters.com/article/2014/03/12/amerigenpharma-fda-idUSnPnCLyK1kj+168+PRN20140312\n",
      "'NoneType' object has no attribute 'text'"
     ]
    },
    {
     "name": "stdout",
     "output_type": "stream",
     "text": [
      " http://www.reuters.com/article/2014/03/12/bc-investor-edge-idUSnPnqbZ0ry+88+PRN20140312\n",
      "'NoneType' object has no attribute 'text'"
     ]
    },
    {
     "name": "stdout",
     "output_type": "stream",
     "text": [
      " http://www.reuters.com/article/2014/03/12/child-wellbeing-site-idUSnPnDCzj4rg+160+PRN20140312\n",
      "'NoneType' object has no attribute 'text'"
     ]
    },
    {
     "name": "stdout",
     "output_type": "stream",
     "text": [
      " http://www.reuters.com/article/2014/03/12/tighar-earhart-search-idUSnPnDCzlJwY+165+PRN20140312\n",
      "'NoneType' object has no attribute 'text'"
     ]
    },
    {
     "name": "stdout",
     "output_type": "stream",
     "text": [
      " http://www.reuters.com/article/2014/03/12/the-real-truth-march-idUSnPnDCzdvmL+161+PRN20140312\n",
      "'NoneType' object has no attribute 'text'"
     ]
    },
    {
     "name": "stdout",
     "output_type": "stream",
     "text": [
      " http://www.reuters.com/article/2014/03/12/faruqi-llp-epl-oilgas-idUSnPnNYzscHQ+163+PRN20140312\n",
      "'NoneType' object has no attribute 'text'"
     ]
    },
    {
     "name": "stdout",
     "output_type": "stream",
     "text": [
      " http://www.reuters.com/article/2014/03/12/bc-analysts-review-idUSnPnqbXmhn+88+PRN20140312\n",
      "'NoneType' object has no attribute 'text'"
     ]
    },
    {
     "name": "stdout",
     "output_type": "stream",
     "text": [
      " http://www.reuters.com/article/2014/03/12/duq-ocelot-survival-idUSnPnDCzjpq7+160+PRN20140312\n",
      "'NoneType' object has no attribute 'text'"
     ]
    },
    {
     "name": "stdout",
     "output_type": "stream",
     "text": [
      "\n",
      "'NoneType' object has no attribute 'text'"
     ]
    },
    {
     "name": "stdout",
     "output_type": "stream",
     "text": [
      " http://www.reuters.com/article/2014/03/13/uscm-walmart-grant-idUSnPnDCzJLwf+16c+PRN20140313\n",
      "2014-03-12"
     ]
    },
    {
     "name": "stdout",
     "output_type": "stream",
     "text": [
      " http://www.reuters.com/article/2014/03/13/formula-systems-earns-idUSnPnNYzz8jn+160+PRN20140313\n",
      "'NoneType' object has no attribute 'text'"
     ]
    },
    {
     "name": "stdout",
     "output_type": "stream",
     "text": [
      " http://www.reuters.com/article/2014/03/13/gsol-tender-offer-idUSnPnHKzxW3R+165+PRN20140313\n",
      "'NoneType' object has no attribute 'text'"
     ]
    },
    {
     "name": "stdout",
     "output_type": "stream",
     "text": [
      " http://www.reuters.com/article/2014/03/13/ny-arcp-stock-distrib-idUSnPnNYzyfcx+160+PRN20140313\n",
      "'NoneType' object has no attribute 'text'"
     ]
    },
    {
     "name": "stdout",
     "output_type": "stream",
     "text": [
      " http://www.reuters.com/article/2014/03/13/aclj-pastorabedini-idUSnPnDCzFFpy+16c+PRN20140313\n",
      "'NoneType' object has no attribute 'text'"
     ]
    },
    {
     "name": "stdout",
     "output_type": "stream",
     "text": [
      " http://www.reuters.com/article/2014/03/13/wa-zillow-index-idUSnPnSFzxdhn+160+PRN20140313\n",
      "'NoneType' object has no attribute 'text'"
     ]
    },
    {
     "name": "stdout",
     "output_type": "stream",
     "text": [
      " http://www.reuters.com/article/2014/03/13/nc-convatec-study-idUSnPnCLzDMph+16c+PRN20140313\n",
      "'NoneType' object has no attribute 'text'"
     ]
    },
    {
     "name": "stdout",
     "output_type": "stream",
     "text": [
      " http://www.reuters.com/article/2014/03/13/bc-duet-group-ghana-inve-idUSnPnqgLbrt+88+PRN20140313\n",
      "'NoneType' object has no attribute 'text'"
     ]
    },
    {
     "name": "stdout",
     "output_type": "stream",
     "text": [
      " http://www.reuters.com/article/2014/03/13/decisionresourcesgrp-idUSnPnNEzpPt0+164+PRN20140313\n",
      "'NoneType' object has no attribute 'text'"
     ]
    },
    {
     "name": "stdout",
     "output_type": "stream",
     "text": [
      " http://www.reuters.com/article/2014/03/13/tx-exclusivegenetics-idUSnPnNYzysfs+160+PRN20140313\n",
      "'NoneType' object has no attribute 'text'"
     ]
    },
    {
     "name": "stdout",
     "output_type": "stream",
     "text": [
      " http://www.reuters.com/article/2014/03/13/lockheedmartinarmycon-idUSnPnFLzBCmd+16c+PRN20140313\n",
      "'NoneType' object has no attribute 'text'"
     ]
    },
    {
     "name": "stdout",
     "output_type": "stream",
     "text": [
      " http://www.reuters.com/article/2014/03/13/dk-veloxispharma-idUSnPnNYzJctR+169+PRN20140313\n",
      "'NoneType' object has no attribute 'text'"
     ]
    },
    {
     "name": "stdout",
     "output_type": "stream",
     "text": [
      "\n",
      "'NoneType' object has no attribute 'text'"
     ]
    },
    {
     "name": "stdout",
     "output_type": "stream",
     "text": [
      " http://www.reuters.com/article/2014/03/14/ca-asian-american-idUSnPnDCzRPtS+16d+PRN20140314\n",
      "2014-03-13"
     ]
    },
    {
     "name": "stdout",
     "output_type": "stream",
     "text": [
      " http://www.reuters.com/article/2014/03/14/bc-analystsreviewcom-idUSnPnqltfhn+80+PRN20140314\n",
      "'NoneType' object has no attribute 'text'"
     ]
    },
    {
     "name": "stdout",
     "output_type": "stream",
     "text": [
      " http://www.reuters.com/article/2014/03/14/drug-test-doctors-idUSnPnDCB0kwt+170+PRN20140314\n",
      "'NoneType' object has no attribute 'text'"
     ]
    },
    {
     "name": "stdout",
     "output_type": "stream",
     "text": [
      " http://www.reuters.com/article/2014/03/14/va-genworth-at-iltci-idUSnPnNEzTrmP+169+PRN20140314\n",
      "'NoneType' object has no attribute 'text'"
     ]
    },
    {
     "name": "stdout",
     "output_type": "stream",
     "text": [
      " http://www.reuters.com/article/2014/03/14/gnc-holdings-csr-idUSnPnNEzSYjf+16c+PRN20140314\n",
      "'NoneType' object has no attribute 'text'"
     ]
    },
    {
     "name": "stdout",
     "output_type": "stream",
     "text": [
      " http://www.reuters.com/article/2014/03/14/il-sears-landsend-idUSnPnCGB4qGl+172+PRN20140314\n",
      "'NoneType' object has no attribute 'text'"
     ]
    },
    {
     "name": "stdout",
     "output_type": "stream",
     "text": [
      " http://www.reuters.com/article/2014/03/14/levi-investigates-epl-idUSnPnNYzXVtv+16c+PRN20140314\n",
      "'NoneType' object has no attribute 'text'"
     ]
    },
    {
     "name": "stdout",
     "output_type": "stream",
     "text": [
      " http://www.reuters.com/article/2014/03/14/oh-polycase-nema-idUSnPnPHzNQhY+16d+PRN20140314\n",
      "'NoneType' object has no attribute 'text'"
     ]
    },
    {
     "name": "stdout",
     "output_type": "stream",
     "text": [
      " http://www.reuters.com/article/2014/03/14/ou-price-energy-forum-idUSnPnDCB4kGb+172+PRN20140314\n",
      "'NoneType' object has no attribute 'text'"
     ]
    },
    {
     "name": "stdout",
     "output_type": "stream",
     "text": [
      " http://www.reuters.com/article/2014/03/14/census-esa-budgetfy-idUSnPnDCzXnpN+169+PRN20140314\n",
      "'NoneType' object has no attribute 'text'"
     ]
    },
    {
     "name": "stdout",
     "output_type": "stream",
     "text": [
      " http://www.reuters.com/article/2014/03/14/wealth-x-report-idUSnPnNYzSDg2+16c+PRN20140314\n",
      "'NoneType' object has no attribute 'text'"
     ]
    },
    {
     "name": "stdout",
     "output_type": "stream",
     "text": [
      " http://www.reuters.com/article/2014/03/14/zacks-etf-analyst-idUSnPnCGzT0kT+169+PRN20140314\n",
      "'NoneType' object has no attribute 'text'"
     ]
    },
    {
     "name": "stdout",
     "output_type": "stream",
     "text": [
      "\n",
      "'NoneType' object has no attribute 'text'"
     ]
    },
    {
     "name": "stdout",
     "output_type": "stream",
     "text": [
      " http://www.reuters.com/article/2014/03/15/census-daily-feature-idUSnPnDCwVj1+b4+PRN20140315\n",
      "2014-03-14"
     ]
    },
    {
     "name": "stdout",
     "output_type": "stream",
     "text": [
      " http://www.reuters.com/article/2014/03/15/kitchenaidcoffeemaker-idUSnPnDEB64n7+170+PRN20140315\n",
      "'NoneType' object has no attribute 'text'"
     ]
    },
    {
     "name": "stdout",
     "output_type": "stream",
     "text": [
      " http://www.reuters.com/article/2014/03/15/il-kitchenaid-mixer-idUSnPnDEB5nmT+171+PRN20140315\n",
      "'NoneType' object has no attribute 'text'"
     ]
    },
    {
     "name": "stdout",
     "output_type": "stream",
     "text": [
      " http://www.reuters.com/article/2014/03/15/ny-kaplan-fox-coty-idUSnPnNYB3Y7H+175+PRN20140315\n",
      "'NoneType' object has no attribute 'text'"
     ]
    },
    {
     "name": "stdout",
     "output_type": "stream",
     "text": [
      " http://www.reuters.com/article/2014/03/15/il-kuvings-juicer-new-idUSnPnNYB4fhn+170+PRN20140315\n",
      "'NoneType' object has no attribute 'text'"
     ]
    },
    {
     "name": "stdout",
     "output_type": "stream",
     "text": [
      " http://www.reuters.com/article/2014/03/15/il-world-kitchen-llc-idUSnPnCGB4Kkj+174+PRN20140315\n",
      "'NoneType' object has no attribute 'text'"
     ]
    },
    {
     "name": "stdout",
     "output_type": "stream",
     "text": [
      " http://www.reuters.com/article/2014/03/15/kitchenaidhousewares-idUSnPnDEB5hmB+171+PRN20140315\n",
      "'NoneType' object has no attribute 'text'"
     ]
    },
    {
     "name": "stdout",
     "output_type": "stream",
     "text": [
      " http://www.reuters.com/article/2014/03/15/test-idUSnPnDCB3Qdc+174+PRN20140315\n",
      "'NoneType' object has no attribute 'text'"
     ]
    },
    {
     "name": "stdout",
     "output_type": "stream",
     "text": [
      "\n",
      "'NoneType' object has no attribute 'text'"
     ]
    },
    {
     "name": "stdout",
     "output_type": "stream",
     "text": [
      " http://www.reuters.com/article/2014/03/16/census-daily-feature-idUSnPnbCX1zS+99+PRN20140316\n",
      "2014-03-15"
     ]
    },
    {
     "name": "stdout",
     "output_type": "stream",
     "text": [
      " http://www.reuters.com/article/2014/03/16/e-coalitionmd-hampshi-idUSnPn2d0JTz+86+PRN20140316\n",
      "'NoneType' object has no attribute 'text'"
     ]
    },
    {
     "name": "stdout",
     "output_type": "stream",
     "text": [
      "\n",
      "'NoneType' object has no attribute 'text'"
     ]
    },
    {
     "name": "stdout",
     "output_type": "stream",
     "text": [
      " http://www.reuters.com/article/2014/03/17/ny-credit-suisse-ag-idUSnPnc1Tkw8+88+PRN20140317\n",
      "2014-03-16"
     ]
    },
    {
     "name": "stdout",
     "output_type": "stream",
     "text": [
      " http://www.reuters.com/article/2014/03/17/carrier-new-facility-idUSnPn10SN1K+8d+PRN20140317\n",
      "'NoneType' object has no attribute 'text'"
     ]
    },
    {
     "name": "stdout",
     "output_type": "stream",
     "text": [
      " http://www.reuters.com/article/2014/03/17/ing-fund-distribution-idUSnPnzfrKf+42+PRN20140317\n",
      "'NoneType' object has no attribute 'text'"
     ]
    },
    {
     "name": "stdout",
     "output_type": "stream",
     "text": [
      " http://www.reuters.com/article/2014/03/17/generaldynam-contract-idUSnPn9gvVzX+85+PRN20140317\n",
      "'NoneType' object has no attribute 'text'"
     ]
    },
    {
     "name": "stdout",
     "output_type": "stream",
     "text": [
      " http://www.reuters.com/article/2014/03/17/psych-survey-therapy-idUSnPnb6H7NX+8b+PRN20140317\n",
      "'NoneType' object has no attribute 'text'"
     ]
    },
    {
     "name": "stdout",
     "output_type": "stream",
     "text": [
      " http://www.reuters.com/article/2014/03/17/arc-air-ticket-report-idUSnPn5t8KCb+86+PRN20140317\n",
      "'NoneType' object has no attribute 'text'"
     ]
    },
    {
     "name": "stdout",
     "output_type": "stream",
     "text": [
      " http://www.reuters.com/article/2014/03/17/abpiacounterfeitdress-idUSnPn7mpMZz+86+PRN20140317\n",
      "'NoneType' object has no attribute 'text'"
     ]
    },
    {
     "name": "stdout",
     "output_type": "stream",
     "text": [
      " http://www.reuters.com/article/2014/03/17/ma-voltdb-funding-idUSnPnb2v30b+80+PRN20140317\n",
      "'NoneType' object has no attribute 'text'"
     ]
    },
    {
     "name": "stdout",
     "output_type": "stream",
     "text": [
      " http://www.reuters.com/article/2014/03/17/tx-boyarmiller-idUSnPn66JQ3y+8c+PRN20140317\n",
      "'NoneType' object has no attribute 'text'"
     ]
    },
    {
     "name": "stdout",
     "output_type": "stream",
     "text": [
      "\n",
      "'NoneType' object has no attribute 'text'"
     ]
    },
    {
     "name": "stdout",
     "output_type": "stream",
     "text": [
      " http://www.reuters.com/article/2014/03/18/dc-new-american-econ-idUSnPncj9kf+40+PRN20140318\n",
      "2014-03-17"
     ]
    },
    {
     "name": "stdout",
     "output_type": "stream",
     "text": [
      " http://www.reuters.com/article/2014/03/18/rutgers-us-news-rank-idUSnPn8nbtMG+83+PRN20140318\n",
      "'NoneType' object has no attribute 'text'"
     ]
    },
    {
     "name": "stdout",
     "output_type": "stream",
     "text": [
      " http://www.reuters.com/article/2014/03/18/nrdc-carbon-study-idUSnPnzrppg+40+PRN20140318\n",
      "'NoneType' object has no attribute 'text'"
     ]
    },
    {
     "name": "stdout",
     "output_type": "stream",
     "text": [
      " http://www.reuters.com/article/2014/03/18/tx-bio2-medicalinc-idUSnPn30lh6q+80+PRN20140318\n",
      "'NoneType' object has no attribute 'text'"
     ]
    },
    {
     "name": "stdout",
     "output_type": "stream",
     "text": [
      " http://www.reuters.com/article/2014/03/18/urban-teacher-center-idUSnPnb9h2kD+81+PRN20140318\n",
      "'NoneType' object has no attribute 'text'"
     ]
    },
    {
     "name": "stdout",
     "output_type": "stream",
     "text": [
      " http://www.reuters.com/article/2014/03/18/fl-forex-peace-army-idUSnPn9cfSw0+84+PRN20140318\n",
      "'NoneType' object has no attribute 'text'"
     ]
    },
    {
     "name": "stdout",
     "output_type": "stream",
     "text": [
      " http://www.reuters.com/article/2014/03/18/bc-analysts-review-idUSnPn26G4GS+8b+PRN20140318\n",
      "'NoneType' object has no attribute 'text'"
     ]
    },
    {
     "name": "stdout",
     "output_type": "stream",
     "text": [
      " http://www.reuters.com/article/2014/03/18/levikorsinsky-probe-idUSnPnbPrxkc+90+PRN20140318\n",
      "'NoneType' object has no attribute 'text'"
     ]
    },
    {
     "name": "stdout",
     "output_type": "stream",
     "text": [
      " http://www.reuters.com/article/2014/03/18/calvin-harris-single-idUSnPn4jRYTw+8e+PRN20140318\n",
      "'NoneType' object has no attribute 'text'"
     ]
    },
    {
     "name": "stdout",
     "output_type": "stream",
     "text": [
      " http://www.reuters.com/article/2014/03/18/bc-investor-edgecom-idUSnPn1rl741+80+PRN20140318\n",
      "'NoneType' object has no attribute 'text'"
     ]
    },
    {
     "name": "stdout",
     "output_type": "stream",
     "text": [
      " http://www.reuters.com/article/2014/03/18/nv-best-bet-on-sports-idUSnPn5NBpRG+9b+PRN20140318\n",
      "'NoneType' object has no attribute 'text'"
     ]
    },
    {
     "name": "stdout",
     "output_type": "stream",
     "text": [
      " http://www.reuters.com/article/2014/03/18/ga-mizuno-usa-team-idUSnPnbBpRlh+94+PRN20140318\n",
      "'NoneType' object has no attribute 'text'"
     ]
    },
    {
     "name": "stdout",
     "output_type": "stream",
     "text": [
      "\n",
      "'NoneType' object has no attribute 'text'"
     ]
    },
    {
     "name": "stdout",
     "output_type": "stream",
     "text": [
      " http://www.reuters.com/article/2014/03/19/ny-ing-us-offering-idUSnPn7kXD5B+8d+PRN20140319\n",
      "2014-03-18"
     ]
    },
    {
     "name": "stdout",
     "output_type": "stream",
     "text": [
      " http://www.reuters.com/article/2014/03/19/parispresents-growing-idUSnPn5Rp0pC+91+PRN20140319\n",
      "'NoneType' object has no attribute 'text'"
     ]
    },
    {
     "name": "stdout",
     "output_type": "stream",
     "text": [
      " http://www.reuters.com/article/2014/03/19/bc-investor-edge-idUSnPn3G310G+91+PRN20140319\n",
      "'NoneType' object has no attribute 'text'"
     ]
    },
    {
     "name": "stdout",
     "output_type": "stream",
     "text": [
      " http://www.reuters.com/article/2014/03/19/us-silica-conferences-idUSnPn4w6Bf+42+PRN20140319\n",
      "'NoneType' object has no attribute 'text'"
     ]
    },
    {
     "name": "stdout",
     "output_type": "stream",
     "text": [
      " http://www.reuters.com/article/2014/03/19/siriusxm-steeleungar-idUSnPn4d5S5L+85+PRN20140319\n",
      "'NoneType' object has no attribute 'text'"
     ]
    },
    {
     "name": "stdout",
     "output_type": "stream",
     "text": [
      " http://www.reuters.com/article/2014/03/19/ieee-tech-h1b-temp-idUSnPnbG6vZg+92+PRN20140319\n",
      "'NoneType' object has no attribute 'text'"
     ]
    },
    {
     "name": "stdout",
     "output_type": "stream",
     "text": [
      " http://www.reuters.com/article/2014/03/19/netease-game-us-idUSnPn2nhVfk+84+PRN20140319\n",
      "'NoneType' object has no attribute 'text'"
     ]
    },
    {
     "name": "stdout",
     "output_type": "stream",
     "text": [
      " http://www.reuters.com/article/2014/03/20/zack-shahin-imprision-idUSnPn1NQJfl+9c+PRN20140320\n",
      "2014-03-19\n",
      "'NoneType' object has no attribute 'text'"
     ]
    },
    {
     "name": "stdout",
     "output_type": "stream",
     "text": [
      " http://www.reuters.com/article/2014/03/20/ca-fearnet-idUSnPn4tLyfb+88+PRN20140320\n",
      "'NoneType' object has no attribute 'text'"
     ]
    },
    {
     "name": "stdout",
     "output_type": "stream",
     "text": [
      " http://www.reuters.com/article/2014/03/21/avon-women-violence-idUSnPn5TbLrZ+95+PRN20140321\n",
      "'NoneType' object has no attribute 'text'"
     ]
    },
    {
     "name": "stdout",
     "output_type": "stream",
     "text": [
      " http://www.reuters.com/article/2014/03/20/altus-power-program-idUSnPnbgd9q5+80+PRN20140320\n",
      "'NoneType' object has no attribute 'text'"
     ]
    },
    {
     "name": "stdout",
     "output_type": "stream",
     "text": [
      " http://www.reuters.com/article/2014/03/20/bny-mellon-named-top-idUSnPnc47b49+80+PRN20140320\n",
      "'NoneType' object has no attribute 'text'"
     ]
    },
    {
     "name": "stdout",
     "output_type": "stream",
     "text": [
      " http://www.reuters.com/article/2014/03/20/bc-investor-edge-idUSnPnZZdN2+5a+PRN20140320\n",
      "'NoneType' object has no attribute 'text'"
     ]
    },
    {
     "name": "stdout",
     "output_type": "stream",
     "text": [
      " http://www.reuters.com/article/2014/03/20/cdc-tb-guidelines-idUSnPn2cw5WV+83+PRN20140320\n",
      "'NoneType' object has no attribute 'text'"
     ]
    },
    {
     "name": "stdout",
     "output_type": "stream",
     "text": [
      " http://www.reuters.com/article/2014/03/20/saic-army-contract-idUSnPnc2CwLG+8b+PRN20140320\n",
      "'NoneType' object has no attribute 'text'"
     ]
    },
    {
     "name": "stdout",
     "output_type": "stream",
     "text": [
      " http://www.reuters.com/article/2014/03/20/ansi-global-economy-idUSnPn2SsMj1+94+PRN20140320\n",
      "'NoneType' object has no attribute 'text'"
     ]
    },
    {
     "name": "stdout",
     "output_type": "stream",
     "text": [
      " http://www.reuters.com/article/2014/03/20/tx-bigbrotherssisters-idUSnPn6XF2Yb+9a+PRN20140320\n",
      "'NoneType' object has no attribute 'text'"
     ]
    },
    {
     "name": "stdout",
     "output_type": "stream",
     "text": [
      " http://www.reuters.com/article/2014/03/20/uscm-rpt-naturalgas-idUSnPn5hJDvb+8c+PRN20140320\n",
      "'NoneType' object has no attribute 'text'"
     ]
    },
    {
     "name": "stdout",
     "output_type": "stream",
     "text": [
      " http://www.reuters.com/article/2014/03/20/rfmk-secfullyreportng-idUSnPn7XJrWL+9b+PRN20140320\n",
      "'NoneType' object has no attribute 'text'"
     ]
    },
    {
     "name": "stdout",
     "output_type": "stream",
     "text": [
      " http://www.reuters.com/article/2014/03/22/scm-travel-security-idUSnPnbYZQsK+9d+PRN20140322\n",
      "2014-03-20\n",
      "'NoneType' object has no attribute 'text'"
     ]
    },
    {
     "name": "stdout",
     "output_type": "stream",
     "text": [
      " http://www.reuters.com/article/2014/03/21/vitalvoices-avon-dos-idUSnPn88SjJn+8a+PRN20140321\n",
      "'NoneType' object has no attribute 'text'"
     ]
    },
    {
     "name": "stdout",
     "output_type": "stream",
     "text": [
      " http://www.reuters.com/article/2014/03/21/va-general-dynamics-idUSnPn2qgGVm+86+PRN20140321\n",
      "'NoneType' object has no attribute 'text'"
     ]
    },
    {
     "name": "stdout",
     "output_type": "stream",
     "text": [
      " http://www.reuters.com/article/2014/03/21/bc-tat-technologies-idUSnPnn3qbg+40+PRN20140321\n",
      "'NoneType' object has no attribute 'text'"
     ]
    },
    {
     "name": "stdout",
     "output_type": "stream",
     "text": [
      " http://www.reuters.com/article/2014/03/21/estacio-growth-idUSnPnTCKNt+5e+PRN20140321\n",
      "'NoneType' object has no attribute 'text'"
     ]
    },
    {
     "name": "stdout",
     "output_type": "stream",
     "text": [
      " http://www.reuters.com/article/2014/03/21/cochlear-americas-fda-idUSnPn3XjfW5+92+PRN20140321\n",
      "'NoneType' object has no attribute 'text'"
     ]
    },
    {
     "name": "stdout",
     "output_type": "stream",
     "text": [
      " http://www.reuters.com/article/2014/03/21/empowered-products-idUSnPn9j9vZP+83+PRN20140321\n",
      "'NoneType' object has no attribute 'text'"
     ]
    },
    {
     "name": "stdout",
     "output_type": "stream",
     "text": [
      " http://www.reuters.com/article/2014/03/21/cameron-repurchase-idUSnPn9hXnX1+8a+PRN20140321\n",
      "'NoneType' object has no attribute 'text'"
     ]
    },
    {
     "name": "stdout",
     "output_type": "stream",
     "text": [
      " http://www.reuters.com/article/2014/03/21/sap-filesannualreport-idUSnPn6NdR62+94+PRN20140321\n",
      "'NoneType' object has no attribute 'text'"
     ]
    },
    {
     "name": "stdout",
     "output_type": "stream",
     "text": [
      " http://www.reuters.com/article/2014/03/21/bc-analysts-review-idUSnPn2fvyZW+83+PRN20140321\n",
      "'NoneType' object has no attribute 'text'"
     ]
    },
    {
     "name": "stdout",
     "output_type": "stream",
     "text": [
      " http://www.reuters.com/article/2014/03/21/ny-ing-offering-idUSnPn9vPnY0+8a+PRN20140321\n",
      "'NoneType' object has no attribute 'text'"
     ]
    },
    {
     "name": "stdout",
     "output_type": "stream",
     "text": [
      "\n",
      "'NoneType' object has no attribute 'text'"
     ]
    },
    {
     "name": "stdout",
     "output_type": "stream",
     "text": [
      " http://www.reuters.com/article/2014/03/22/census-daily-feature-idUSnPn5CNwvX+99+PRN20140322\n",
      "2014-03-21"
     ]
    },
    {
     "name": "stdout",
     "output_type": "stream",
     "text": [
      " http://www.reuters.com/article/2014/03/22/wflf-csah-charity-idUSnPnc8R1tK+89+PRN20140322\n",
      "'NoneType' object has no attribute 'text'"
     ]
    },
    {
     "name": "stdout",
     "output_type": "stream",
     "text": [
      " http://www.reuters.com/article/2014/03/22/nj-novartis-psoriasis-idUSnPn6JqwRX+93+PRN20140322\n",
      "'NoneType' object has no attribute 'text'"
     ]
    },
    {
     "name": "stdout",
     "output_type": "stream",
     "text": [
      " http://www.reuters.com/article/2014/03/23/e-cn-conductorsaccept-idUSnPnvWZrp+4c+PRN20140323\n",
      "'NoneType' object has no attribute 'text'"
     ]
    },
    {
     "name": "stdout",
     "output_type": "stream",
     "text": [
      " http://www.reuters.com/article/2014/03/22/tx-scotts-miracle-gro-idUSnPn3nBzZb+8a+PRN20140322\n",
      "'NoneType' object has no attribute 'text'"
     ]
    },
    {
     "name": "stdout",
     "output_type": "stream",
     "text": [
      " http://www.reuters.com/article/2014/03/22/co-madd-5k-walk-idUSnPn9k7jCq+82+PRN20140322\n",
      "'NoneType' object has no attribute 'text'"
     ]
    },
    {
     "name": "stdout",
     "output_type": "stream",
     "text": [
      "\n",
      "'NoneType' object has no attribute 'text'"
     ]
    },
    {
     "name": "stdout",
     "output_type": "stream",
     "text": [
      " http://www.reuters.com/article/2014/03/23/census-daily-feature-idUSnPn9WyKKn+96+PRN20140323\n",
      "2014-03-22"
     ]
    },
    {
     "name": "stdout",
     "output_type": "stream",
     "text": [
      " http://www.reuters.com/article/2014/03/23/bc-energy-discounts-idUSnPnF4Ztk+54+PRN20140323\n",
      "'NoneType' object has no attribute 'text'"
     ]
    },
    {
     "name": "stdout",
     "output_type": "stream",
     "text": [
      " http://www.reuters.com/article/2014/03/24/secure-domain-foundat-idUSnPnbRxXLR+97+PRN20140324\n",
      "'NoneType' object has no attribute 'text'"
     ]
    },
    {
     "name": "stdout",
     "output_type": "stream",
     "text": [
      "\n",
      "'NoneType' object has no attribute 'text'"
     ]
    },
    {
     "name": "stdout",
     "output_type": "stream",
     "text": [
      " http://www.reuters.com/article/2014/03/24/uae-shahin-idUSnPn6STdMW+9b+PRN20140324\n",
      "2014-03-23"
     ]
    },
    {
     "name": "stdout",
     "output_type": "stream",
     "text": [
      " http://www.reuters.com/article/2014/03/24/bc-investor-edge-idUSnPn28zkDr+82+PRN20140324\n",
      "'NoneType' object has no attribute 'text'"
     ]
    },
    {
     "name": "stdout",
     "output_type": "stream",
     "text": [
      " http://www.reuters.com/article/2014/03/24/us-smoking-rates-vary-idUSnPn3r3YVM+87+PRN20140324\n",
      "'NoneType' object has no attribute 'text'"
     ]
    },
    {
     "name": "stdout",
     "output_type": "stream",
     "text": [
      " http://www.reuters.com/article/2014/03/24/newmix1debut-expowest-idUSnPnbCr33L+91+PRN20140324\n",
      "'NoneType' object has no attribute 'text'"
     ]
    },
    {
     "name": "stdout",
     "output_type": "stream",
     "text": [
      " http://www.reuters.com/article/2014/03/24/bc-investor-edge-idUSnPn8hxdnp+80+PRN20140324\n",
      "'NoneType' object has no attribute 'text'"
     ]
    },
    {
     "name": "stdout",
     "output_type": "stream",
     "text": [
      " http://www.reuters.com/article/2014/03/24/starsstripesfestival-idUSnPnZvsGG+53+PRN20140324\n",
      "'NoneType' object has no attribute 'text'"
     ]
    },
    {
     "name": "stdout",
     "output_type": "stream",
     "text": [
      " http://www.reuters.com/article/2014/03/24/bc-investor-edge-idUSnPn4Yb4y+48+PRN20140324\n",
      "'NoneType' object has no attribute 'text'"
     ]
    },
    {
     "name": "stdout",
     "output_type": "stream",
     "text": [
      " http://www.reuters.com/article/2014/03/24/bc-investor-edge-idUSnPn7plzP2+82+PRN20140324\n",
      "'NoneType' object has no attribute 'text'"
     ]
    },
    {
     "name": "stdout",
     "output_type": "stream",
     "text": [
      " http://www.reuters.com/article/2014/03/24/ca-usautopdirector-idUSnPn4XvGcg+94+PRN20140324\n",
      "'NoneType' object has no attribute 'text'"
     ]
    },
    {
     "name": "stdout",
     "output_type": "stream",
     "text": [
      " http://www.reuters.com/article/2014/03/24/az-pure-flix-new-film-idUSnPn7hkKR4+86+PRN20140324\n",
      "'NoneType' object has no attribute 'text'"
     ]
    },
    {
     "name": "stdout",
     "output_type": "stream",
     "text": [
      "\n",
      "'NoneType' object has no attribute 'text'"
     ]
    },
    {
     "name": "stdout",
     "output_type": "stream",
     "text": [
      " http://www.reuters.com/article/2014/03/25/ing-sale-completion-idUSnPn60DK6C+8d+PRN20140325\n",
      "2014-03-24"
     ]
    },
    {
     "name": "stdout",
     "output_type": "stream",
     "text": [
      " http://www.reuters.com/article/2014/03/25/bc-a-idUSnPn8m67zC+81+PRN20140325\n",
      "'NoneType' object has no attribute 'text'"
     ]
    },
    {
     "name": "stdout",
     "output_type": "stream",
     "text": [
      " http://www.reuters.com/article/2014/03/25/statsonliposuction-idUSnPn5Hbjb3+90+PRN20140325\n",
      "'NoneType' object has no attribute 'text'"
     ]
    },
    {
     "name": "stdout",
     "output_type": "stream",
     "text": [
      " http://www.reuters.com/article/2014/03/25/md-trace-ge-report-idUSnPn1xbj8W+81+PRN20140325\n",
      "'NoneType' object has no attribute 'text'"
     ]
    },
    {
     "name": "stdout",
     "output_type": "stream",
     "text": [
      " http://www.reuters.com/article/2014/03/25/fiveoaksinvestmnt-div-idUSnPnbBy3zj+90+PRN20140325\n",
      "'NoneType' object has no attribute 'text'"
     ]
    },
    {
     "name": "stdout",
     "output_type": "stream",
     "text": [
      " http://www.reuters.com/article/2014/03/25/window-film-savings-idUSnPn6C719t+90+PRN20140325\n",
      "'NoneType' object has no attribute 'text'"
     ]
    },
    {
     "name": "stdout",
     "output_type": "stream",
     "text": [
      " http://www.reuters.com/article/2014/03/25/wa-blfs-offering-idUSnPn9rd5Qs+82+PRN20140325\n",
      "'NoneType' object has no attribute 'text'"
     ]
    },
    {
     "name": "stdout",
     "output_type": "stream",
     "text": [
      " http://www.reuters.com/article/2014/03/25/wall-street-fraud-idUSnPn6b4g72+80+PRN20140325\n",
      "'NoneType' object has no attribute 'text'"
     ]
    },
    {
     "name": "stdout",
     "output_type": "stream",
     "text": [
      " http://www.reuters.com/article/2014/03/25/bc-analysts-review-idUSnPn6bBHZm+8e+PRN20140325\n",
      "'NoneType' object has no attribute 'text'"
     ]
    },
    {
     "name": "stdout",
     "output_type": "stream",
     "text": [
      " http://www.reuters.com/article/2014/03/25/truecar-march-saar-idUSnPn6TzNDZ+97+PRN20140325\n",
      "'NoneType' object has no attribute 'text'"
     ]
    },
    {
     "name": "stdout",
     "output_type": "stream",
     "text": [
      " http://www.reuters.com/article/2014/03/26/tx-thomashenry-gmsuit-idUSnPn90qSB+43+PRN20140326\n",
      "'NoneType' object has no attribute 'text'"
     ]
    },
    {
     "name": "stdout",
     "output_type": "stream",
     "text": [
      " http://www.reuters.com/article/2014/03/25/fla-prescription-cost-idUSnPn4mqhYc+82+PRN20140325\n",
      "'NoneType' object has no attribute 'text'"
     ]
    },
    {
     "name": "stdout",
     "output_type": "stream",
     "text": [
      "\n",
      "'NoneType' object has no attribute 'text'"
     ]
    },
    {
     "name": "stdout",
     "output_type": "stream",
     "text": [
      " http://www.reuters.com/article/2014/03/26/bc-concord-watches-idUSnPn9Zn0n8+90+PRN20140326\n",
      "2014-03-25"
     ]
    },
    {
     "name": "stdout",
     "output_type": "stream",
     "text": [
      " http://www.reuters.com/article/2014/03/26/strauss-group-earns-idUSnPn6xVBTC+8f+PRN20140326\n",
      "'NoneType' object has no attribute 'text'"
     ]
    },
    {
     "name": "stdout",
     "output_type": "stream",
     "text": [
      " http://www.reuters.com/article/2014/03/26/ny-bdca-sbic-license-idUSnPn39rZfj+84+PRN20140326\n",
      "'NoneType' object has no attribute 'text'"
     ]
    },
    {
     "name": "stdout",
     "output_type": "stream",
     "text": [
      " http://www.reuters.com/article/2014/03/26/ma-decision-resources-idUSnPn99q7dp+80+PRN20140326\n",
      "'NoneType' object has no attribute 'text'"
     ]
    },
    {
     "name": "stdout",
     "output_type": "stream",
     "text": [
      " http://www.reuters.com/article/2014/03/27/ny-wealth-x-report-idUSnPn9ghjR5+82+PRN20140327\n",
      "'NoneType' object has no attribute 'text'"
     ]
    },
    {
     "name": "stdout",
     "output_type": "stream",
     "text": [
      " http://www.reuters.com/article/2014/03/26/american-casino-guide-idUSnPncglJD+43+PRN20140326\n",
      "'NoneType' object has no attribute 'text'"
     ]
    },
    {
     "name": "stdout",
     "output_type": "stream",
     "text": [
      " http://www.reuters.com/article/2014/03/26/ny-drfischeronamazon-idUSnPn4vd3yR+81+PRN20140326\n",
      "'NoneType' object has no attribute 'text'"
     ]
    },
    {
     "name": "stdout",
     "output_type": "stream",
     "text": [
      " http://www.reuters.com/article/2014/03/26/capital-one-repurchse-idUSnPn6Sx1rr+90+PRN20140326\n",
      "'NoneType' object has no attribute 'text'"
     ]
    },
    {
     "name": "stdout",
     "output_type": "stream",
     "text": [
      " http://www.reuters.com/article/2014/03/26/pa-bayer-awards-grant-idUSnPnWTl11+58+PRN20140326\n",
      "'NoneType' object has no attribute 'text'"
     ]
    },
    {
     "name": "stdout",
     "output_type": "stream",
     "text": [
      " http://www.reuters.com/article/2014/03/26/wuxisuntech-trade-idUSnPn2fqXkj+84+PRN20140326\n",
      "'NoneType' object has no attribute 'text'"
     ]
    },
    {
     "name": "stdout",
     "output_type": "stream",
     "text": [
      " http://www.reuters.com/article/2014/03/26/cw-campaign-wellpoint-idUSnPn5fqFDK+87+PRN20140326\n",
      "'NoneType' object has no attribute 'text'"
     ]
    },
    {
     "name": "stdout",
     "output_type": "stream",
     "text": [
      " http://www.reuters.com/article/2014/03/26/renesola-anti-dumping-idUSnPn1p2Gd9+84+PRN20140326\n",
      "'NoneType' object has no attribute 'text'"
     ]
    },
    {
     "name": "stdout",
     "output_type": "stream",
     "text": [
      "\n",
      "'NoneType' object has no attribute 'text'"
     ]
    },
    {
     "name": "stdout",
     "output_type": "stream",
     "text": [
      " http://www.reuters.com/article/2014/03/27/mi-2015-chrysler-idUSnPnc46rjc+80+PRN20140327\n",
      "2014-03-26"
     ]
    },
    {
     "name": "stdout",
     "output_type": "stream",
     "text": [
      " http://www.reuters.com/article/2014/03/27/levy-minsky-dc-event-idUSnPn6sSVr5+8c+PRN20140327\n",
      "'NoneType' object has no attribute 'text'"
     ]
    },
    {
     "name": "stdout",
     "output_type": "stream",
     "text": [
      " http://www.reuters.com/article/2014/03/27/az-pipelineoil-invest-idUSnPnb9cpWW+83+PRN20140327\n",
      "'NoneType' object has no attribute 'text'"
     ]
    },
    {
     "name": "stdout",
     "output_type": "stream",
     "text": [
      " http://www.reuters.com/article/2014/03/27/dc-americanopen-dec-idUSnPn4FK3dd+98+PRN20140327\n",
      "'NoneType' object has no attribute 'text'"
     ]
    },
    {
     "name": "stdout",
     "output_type": "stream",
     "text": [
      " http://www.reuters.com/article/2014/03/27/commercial-metals-ern-idUSnPn6kWsD5+8a+PRN20140327\n",
      "'NoneType' object has no attribute 'text'"
     ]
    },
    {
     "name": "stdout",
     "output_type": "stream",
     "text": [
      " http://www.reuters.com/article/2014/03/27/pa-duchesnay-pregnant-idUSnPn2pTxS2+8a+PRN20140327\n",
      "'NoneType' object has no attribute 'text'"
     ]
    },
    {
     "name": "stdout",
     "output_type": "stream",
     "text": [
      " http://www.reuters.com/article/2014/03/27/garymarywest-acquire-idUSnPn7hwFWs+86+PRN20140327\n",
      "'NoneType' object has no attribute 'text'"
     ]
    },
    {
     "name": "stdout",
     "output_type": "stream",
     "text": [
      " http://www.reuters.com/article/2014/03/27/aarp-patrick-stewart-idUSnPn2mjMJY+87+PRN20140327\n",
      "'NoneType' object has no attribute 'text'"
     ]
    },
    {
     "name": "stdout",
     "output_type": "stream",
     "text": [
      " http://www.reuters.com/article/2014/03/27/alliancebernstein-lp-idUSnPn5m4bYZ+83+PRN20140327\n",
      "'NoneType' object has no attribute 'text'"
     ]
    },
    {
     "name": "stdout",
     "output_type": "stream",
     "text": [
      " http://www.reuters.com/article/2014/03/27/biodelivery-sciences-idUSnPn7NRbhN+99+PRN20140327\n",
      "'NoneType' object has no attribute 'text'"
     ]
    },
    {
     "name": "stdout",
     "output_type": "stream",
     "text": [
      " http://www.reuters.com/article/2014/03/27/ny-alliancebernstein-idUSnPn10YT9H+8d+PRN20140327\n",
      "'NoneType' object has no attribute 'text'"
     ]
    },
    {
     "name": "stdout",
     "output_type": "stream",
     "text": [
      " http://www.reuters.com/article/2014/03/27/supercom-contracts-idUSnPnfHVPY+4f+PRN20140327\n",
      "'NoneType' object has no attribute 'text'"
     ]
    },
    {
     "name": "stdout",
     "output_type": "stream",
     "text": [
      " http://www.reuters.com/article/2014/03/27/greenwichassoc-report-idUSnPn9jsSnr+84+PRN20140327\n",
      "'NoneType' object has no attribute 'text'"
     ]
    },
    {
     "name": "stdout",
     "output_type": "stream",
     "text": [
      "\n",
      "'NoneType' object has no attribute 'text'"
     ]
    },
    {
     "name": "stdout",
     "output_type": "stream",
     "text": [
      " http://www.reuters.com/article/2014/03/28/intersolar-nj-summit-idUSnPnVTg1p+58+PRN20140328\n",
      "2014-03-27"
     ]
    },
    {
     "name": "stdout",
     "output_type": "stream",
     "text": [
      " http://www.reuters.com/article/2014/03/28/lgbtcutiecom-idUSnPn5Gmh2Q+91+PRN20140328\n",
      "'NoneType' object has no attribute 'text'"
     ]
    },
    {
     "name": "stdout",
     "output_type": "stream",
     "text": [
      " http://www.reuters.com/article/2014/03/28/genshopbrazil-conf-idUSnPn82bJpX+85+PRN20140328\n",
      "'NoneType' object has no attribute 'text'"
     ]
    },
    {
     "name": "stdout",
     "output_type": "stream",
     "text": [
      " http://www.reuters.com/article/2014/03/28/all-you-magazine-idUSnPn45DDCj+8e+PRN20140328\n",
      "'NoneType' object has no attribute 'text'"
     ]
    },
    {
     "name": "stdout",
     "output_type": "stream",
     "text": [
      " http://www.reuters.com/article/2014/03/28/mna-northadamshosp-ed-idUSnPn8NH51F+99+PRN20140328\n",
      "'NoneType' object has no attribute 'text'"
     ]
    },
    {
     "name": "stdout",
     "output_type": "stream",
     "text": [
      " http://www.reuters.com/article/2014/03/28/friendspavilionmilano-idUSnPn8DBQ4q+9c+PRN20140328\n",
      "'NoneType' object has no attribute 'text'"
     ]
    },
    {
     "name": "stdout",
     "output_type": "stream",
     "text": [
      " http://www.reuters.com/article/2014/03/28/metropolis-durbin-idUSnPnMfMqM+55+PRN20140328\n",
      "'NoneType' object has no attribute 'text'"
     ]
    },
    {
     "name": "stdout",
     "output_type": "stream",
     "text": [
      " http://www.reuters.com/article/2014/03/28/bc-investor-edge-idUSnPn9Hm8xd+90+PRN20140328\n",
      "'NoneType' object has no attribute 'text'"
     ]
    },
    {
     "name": "stdout",
     "output_type": "stream",
     "text": [
      " http://www.reuters.com/article/2014/03/28/ca-morgangold-webinar-idUSnPn6jLBsy+8c+PRN20140328\n",
      "'NoneType' object has no attribute 'text'"
     ]
    },
    {
     "name": "stdout",
     "output_type": "stream",
     "text": [
      " http://www.reuters.com/article/2014/03/28/bc-i-idUSnPn9gsfLF+83+PRN20140328\n",
      "'NoneType' object has no attribute 'text'"
     ]
    },
    {
     "name": "stdout",
     "output_type": "stream",
     "text": [
      " http://www.reuters.com/article/2014/03/28/mcdonalds-free-mccafe-idUSnPnc9qWSG+87+PRN20140328\n",
      "'NoneType' object has no attribute 'text'"
     ]
    },
    {
     "name": "stdout",
     "output_type": "stream",
     "text": [
      " http://www.reuters.com/article/2014/03/28/mcdonalds-freemccafe-idUSnPnQTgsf+58+PRN20140328\n",
      "'NoneType' object has no attribute 'text'"
     ]
    },
    {
     "name": "stdout",
     "output_type": "stream",
     "text": [
      "\n",
      "'NoneType' object has no attribute 'text'"
     ]
    },
    {
     "name": "stdout",
     "output_type": "stream",
     "text": [
      " http://www.reuters.com/article/2014/03/29/ca-tritondistribution-idUSnPnbtfQk5+84+PRN20140329\n",
      "2014-03-28"
     ]
    },
    {
     "name": "stdout",
     "output_type": "stream",
     "text": [
      " http://www.reuters.com/article/2014/03/29/therialts-auction-idUSnPn6Vf5x8+90+PRN20140329\n",
      "'NoneType' object has no attribute 'text'"
     ]
    },
    {
     "name": "stdout",
     "output_type": "stream",
     "text": [
      " http://www.reuters.com/article/2014/03/29/amgen-evolocumab-data-idUSnPnbf9rD9+82+PRN20140329\n",
      "'NoneType' object has no attribute 'text'"
     ]
    },
    {
     "name": "stdout",
     "output_type": "stream",
     "text": [
      " http://www.reuters.com/article/2014/03/29/census-daily-feature-idUSnPn1NsKj0+94+PRN20140329\n",
      "'NoneType' object has no attribute 'text'"
     ]
    },
    {
     "name": "stdout",
     "output_type": "stream",
     "text": [
      " http://www.reuters.com/article/2014/03/29/acess-fixtures-canopy-idUSnPn2TGDrl+9c+PRN20140329\n",
      "'NoneType' object has no attribute 'text'"
     ]
    },
    {
     "name": "stdout",
     "output_type": "stream",
     "text": [
      " http://www.reuters.com/article/2014/03/29/mathesonflightextend-idUSnPn1BzFHr+96+PRN20140329\n",
      "'NoneType' object has no attribute 'text'"
     ]
    },
    {
     "name": "stdout",
     "output_type": "stream",
     "text": [
      " http://www.reuters.com/article/2014/03/29/marinis-formula1-wknd-idUSnPn1H8R7f+94+PRN20140329\n",
      "'NoneType' object has no attribute 'text'"
     ]
    },
    {
     "name": "stdout",
     "output_type": "stream",
     "text": [
      " http://www.reuters.com/article/2014/03/29/dickeys-barbecue-idUSnPn9QnsQ9+92+PRN20140329\n",
      "'NoneType' object has no attribute 'text'"
     ]
    },
    {
     "name": "stdout",
     "output_type": "stream",
     "text": [
      " http://www.reuters.com/article/2014/03/29/emmis-conf-call-idUSnPnd98n1+40+PRN20140329\n",
      "'NoneType' object has no attribute 'text'"
     ]
    },
    {
     "name": "stdout",
     "output_type": "stream",
     "text": [
      " http://www.reuters.com/article/2014/03/29/blackwomens-aarp-idUSnPncb44x1+80+PRN20140329\n",
      "'NoneType' object has no attribute 'text'"
     ]
    },
    {
     "name": "stdout",
     "output_type": "stream",
     "text": [
      " http://www.reuters.com/article/2014/03/29/grant-legal-gm-recall-idUSnPn7LBzhW+99+PRN20140329\n",
      "'NoneType' object has no attribute 'text'"
     ]
    },
    {
     "name": "stdout",
     "output_type": "stream",
     "text": [
      " http://www.reuters.com/article/2014/03/29/ca-sony-earth-hour-idUSnPn4W65P0+92+PRN20140329\n",
      "'NoneType' object has no attribute 'text'"
     ]
    },
    {
     "name": "stdout",
     "output_type": "stream",
     "text": [
      "\n",
      "'NoneType' object has no attribute 'text'"
     ]
    },
    {
     "name": "stdout",
     "output_type": "stream",
     "text": [
      " http://www.reuters.com/article/2014/03/30/il-justice-symposium-idUSnPnjJjCw+4a+PRN20140330\n",
      "2014-03-29"
     ]
    },
    {
     "name": "stdout",
     "output_type": "stream",
     "text": [
      " http://www.reuters.com/article/2014/03/30/bostonscientific-data-idUSnPn75N5Jk+8a+PRN20140330\n",
      "'NoneType' object has no attribute 'text'"
     ]
    },
    {
     "name": "stdout",
     "output_type": "stream",
     "text": [
      " http://www.reuters.com/article/2014/03/30/caloriecontrolcouncil-idUSnPn2bJMvd+8c+PRN20140330\n",
      "'NoneType' object has no attribute 'text'"
     ]
    },
    {
     "name": "stdout",
     "output_type": "stream",
     "text": [
      " http://www.reuters.com/article/2014/03/30/elbitsystems-contract-idUSnPnJTPbm+5c+PRN20140330\n",
      "'NoneType' object has no attribute 'text'"
     ]
    },
    {
     "name": "stdout",
     "output_type": "stream",
     "text": [
      " http://www.reuters.com/article/2014/03/30/census-daily-feature-idUSnPnRLyXk+5a+PRN20140330\n",
      "'NoneType' object has no attribute 'text'"
     ]
    },
    {
     "name": "stdout",
     "output_type": "stream",
     "text": [
      " http://www.reuters.com/article/2014/03/30/ca-amgen-phase3-study-idUSnPnbMGTBp+9e+PRN20140330\n",
      "'NoneType' object has no attribute 'text'"
     ]
    },
    {
     "name": "stdout",
     "output_type": "stream",
     "text": [
      " http://www.reuters.com/article/2014/03/31/junoawards-idUSnPn2HqBJj+96+PRN20140331\n",
      "'NoneType' object has no attribute 'text'"
     ]
    },
    {
     "name": "stdout",
     "output_type": "stream",
     "text": [
      "\n",
      "'NoneType' object has no attribute 'text'"
     ]
    },
    {
     "name": "stdout",
     "output_type": "stream",
     "text": [
      " http://www.reuters.com/article/2014/03/31/bc-mb-aerospace-acquisit-idUSnPn9hmrsy+80+PRN20140331\n",
      "2014-03-30"
     ]
    },
    {
     "name": "stdout",
     "output_type": "stream",
     "text": [
      " http://www.reuters.com/article/2014/03/31/az-stryker-setsrecord-idUSnPn4VkDCt+96+PRN20140331\n",
      "'NoneType' object has no attribute 'text'"
     ]
    },
    {
     "name": "stdout",
     "output_type": "stream",
     "text": [
      " http://www.reuters.com/article/2014/03/31/ca-growlife-q4report-idUSnPn2YFC4l+9c+PRN20140331\n",
      "'NoneType' object has no attribute 'text'"
     ]
    },
    {
     "name": "stdout",
     "output_type": "stream",
     "text": [
      " http://www.reuters.com/article/2014/03/31/decisionresources-svy-idUSnPn5M8xBz+92+PRN20140331\n",
      "'NoneType' object has no attribute 'text'"
     ]
    },
    {
     "name": "stdout",
     "output_type": "stream",
     "text": [
      " http://www.reuters.com/article/2014/03/31/ct-ing-new-solution-idUSnPn5PZk0j+98+PRN20140331\n",
      "'NoneType' object has no attribute 'text'"
     ]
    },
    {
     "name": "stdout",
     "output_type": "stream",
     "text": [
      "\n",
      "'NoneType' object has no attribute 'text'"
     ]
    },
    {
     "name": "stdout",
     "output_type": "stream",
     "text": [
      " http://www.reuters.com/article/2014/04/01/hertz-3-year-contract-idUSnPn3rswlc+80+PRN20140401\n",
      "2014-03-31"
     ]
    },
    {
     "name": "stdout",
     "output_type": "stream",
     "text": [
      " http://www.reuters.com/article/2014/04/01/product-of-the-year-idUSnPn9Bbx5t+90+PRN20140401\n",
      "'NoneType' object has no attribute 'text'"
     ]
    },
    {
     "name": "stdout",
     "output_type": "stream",
     "text": [
      " http://www.reuters.com/article/2014/04/01/pre-ocensa-pipeline-idUSnPn8Dyhgn+90+PRN20140401\n",
      "'NoneType' object has no attribute 'text'"
     ]
    },
    {
     "name": "stdout",
     "output_type": "stream",
     "text": [
      " http://www.reuters.com/article/2014/04/01/dc-world-first-oanda-idUSnPn83nWH1+86+PRN20140401\n",
      "'NoneType' object has no attribute 'text'"
     ]
    },
    {
     "name": "stdout",
     "output_type": "stream",
     "text": [
      " http://www.reuters.com/article/2014/04/01/bc-investor-edge-idUSnPn3Gfcp9+90+PRN20140401\n",
      "'NoneType' object has no attribute 'text'"
     ]
    },
    {
     "name": "stdout",
     "output_type": "stream",
     "text": [
      " http://www.reuters.com/article/2014/04/01/nj-janssen-nda-idUSnPn5cXGbR+8d+PRN20140401\n",
      "'NoneType' object has no attribute 'text'"
     ]
    },
    {
     "name": "stdout",
     "output_type": "stream",
     "text": [
      " http://www.reuters.com/article/2014/04/01/spider-man-soundtrack-idUSnPn1jG0M6+8a+PRN20140401\n",
      "'NoneType' object has no attribute 'text'"
     ]
    },
    {
     "name": "stdout",
     "output_type": "stream",
     "text": [
      " http://www.reuters.com/article/2014/04/01/mi-chrysler-sales-idUSnPn3T2pnW+91+PRN20140401\n",
      "'NoneType' object has no attribute 'text'"
     ]
    },
    {
     "name": "stdout",
     "output_type": "stream",
     "text": [
      " http://www.reuters.com/article/2014/04/01/dc-vox-global-water-idUSnPn36NsGf+8a+PRN20140401\n",
      "'NoneType' object has no attribute 'text'"
     ]
    },
    {
     "name": "stdout",
     "output_type": "stream",
     "text": [
      " http://www.reuters.com/article/2014/04/01/nj-gehtsoft-forum-idUSnPn17Lfl4+88+PRN20140401\n",
      "'NoneType' object has no attribute 'text'"
     ]
    },
    {
     "name": "stdout",
     "output_type": "stream",
     "text": [
      " http://www.reuters.com/article/2014/04/01/far-east-energy-idUSnPn7hjcS1+82+PRN20140401\n",
      "'NoneType' object has no attribute 'text'"
     ]
    },
    {
     "name": "stdout",
     "output_type": "stream",
     "text": [
      " http://www.reuters.com/article/2014/04/01/co-platts-gas-output-idUSnPn6B6FT3+96+PRN20140401\n",
      "'NoneType' object has no attribute 'text'"
     ]
    },
    {
     "name": "stdout",
     "output_type": "stream",
     "text": [
      "\n",
      "'NoneType' object has no attribute 'text'"
     ]
    },
    {
     "name": "stdout",
     "output_type": "stream",
     "text": [
      " http://www.reuters.com/article/2014/04/02/gardening-report-idUSnPn61tLk7+84+PRN20140402\n",
      "2014-04-01"
     ]
    },
    {
     "name": "stdout",
     "output_type": "stream",
     "text": [
      " http://www.reuters.com/article/2014/04/02/bc-analystsreviewcom-idUSnPn7xW7Yb+8a+PRN20140402\n",
      "'NoneType' object has no attribute 'text'"
     ]
    },
    {
     "name": "stdout",
     "output_type": "stream",
     "text": [
      " http://www.reuters.com/article/2014/04/02/ma-decision-resources-idUSnPn75qTt2+84+PRN20140402\n",
      "'NoneType' object has no attribute 'text'"
     ]
    },
    {
     "name": "stdout",
     "output_type": "stream",
     "text": [
      " http://www.reuters.com/article/2014/04/02/ma-decision-resources-idUSnPn6Zc3sN+91+PRN20140402\n",
      "'NoneType' object has no attribute 'text'"
     ]
    },
    {
     "name": "stdout",
     "output_type": "stream",
     "text": [
      " http://www.reuters.com/article/2014/04/02/sabine-conf-call-idUSnPn9RxKrY+95+PRN20140402\n",
      "'NoneType' object has no attribute 'text'"
     ]
    },
    {
     "name": "stdout",
     "output_type": "stream",
     "text": [
      " http://www.reuters.com/article/2014/04/02/ucla-andersonforecast-idUSnPn6nLB9v+8c+PRN20140402\n",
      "'NoneType' object has no attribute 'text'"
     ]
    },
    {
     "name": "stdout",
     "output_type": "stream",
     "text": [
      " http://www.reuters.com/article/2014/04/02/bioremyeendresults-idUSnPn5PD8M3+9a+PRN20140402\n",
      "'NoneType' object has no attribute 'text'"
     ]
    },
    {
     "name": "stdout",
     "output_type": "stream",
     "text": [
      " http://www.reuters.com/article/2014/04/02/bc-redwood-software-idUSnPn50rbQ1+82+PRN20140402\n",
      "'NoneType' object has no attribute 'text'"
     ]
    },
    {
     "name": "stdout",
     "output_type": "stream",
     "text": [
      " http://www.reuters.com/article/2014/04/02/diamondhead-offering-idUSnPn6GYGvs+9c+PRN20140402\n",
      "'NoneType' object has no attribute 'text'"
     ]
    },
    {
     "name": "stdout",
     "output_type": "stream",
     "text": [
      " http://www.reuters.com/article/2014/04/02/ca-active-mind-golf-idUSnPnbbLmF3+8a+PRN20140402\n",
      "'NoneType' object has no attribute 'text'"
     ]
    },
    {
     "name": "stdout",
     "output_type": "stream",
     "text": [
      " http://www.reuters.com/article/2014/04/02/ny-gannett-weinstein-idUSnPn4LZvQV+9b+PRN20140402\n",
      "'NoneType' object has no attribute 'text'"
     ]
    },
    {
     "name": "stdout",
     "output_type": "stream",
     "text": [
      " http://www.reuters.com/article/2014/04/02/neumann-ct-estate-idUSnPn83CGZr+8e+PRN20140402\n",
      "'NoneType' object has no attribute 'text'"
     ]
    },
    {
     "name": "stdout",
     "output_type": "stream",
     "text": [
      " http://www.reuters.com/article/2014/04/02/bc-investor-edgecom-idUSnPn8kRv2X+89+PRN20140402\n",
      "'NoneType' object has no attribute 'text'"
     ]
    },
    {
     "name": "stdout",
     "output_type": "stream",
     "text": [
      " http://www.reuters.com/article/2014/04/02/ca-storytellerapps-idUSnPn3rfmgg+80+PRN20140402\n",
      "'NoneType' object has no attribute 'text'"
     ]
    },
    {
     "name": "stdout",
     "output_type": "stream",
     "text": [
      " http://www.reuters.com/article/2014/04/02/ny-halogroupspeyburn-idUSnPn9t3jJ+41+PRN20140402\n",
      "'NoneType' object has no attribute 'text'"
     ]
    },
    {
     "name": "stdout",
     "output_type": "stream",
     "text": [
      "\n",
      "'NoneType' object has no attribute 'text'"
     ]
    },
    {
     "name": "stdout",
     "output_type": "stream",
     "text": [
      " http://www.reuters.com/article/2014/04/03/ny-c3-intnl-summit-idUSnPn3FxqMb+92+PRN20140403\n",
      "2014-04-02"
     ]
    },
    {
     "name": "stdout",
     "output_type": "stream",
     "text": [
      " http://www.reuters.com/article/2014/04/03/masters-group-lawsuit-idUSnPn6lGMg1+8c+PRN20140403\n",
      "'NoneType' object has no attribute 'text'"
     ]
    },
    {
     "name": "stdout",
     "output_type": "stream",
     "text": [
      " http://www.reuters.com/article/2014/04/03/ex-im-feb-export-data-idUSnPn9W0Dzt+94+PRN20140403\n",
      "'NoneType' object has no attribute 'text'"
     ]
    },
    {
     "name": "stdout",
     "output_type": "stream",
     "text": [
      " http://www.reuters.com/article/2014/04/03/ca-corelogic-report-idUSnPn5jf7hB+81+PRN20140403\n",
      "'NoneType' object has no attribute 'text'"
     ]
    },
    {
     "name": "stdout",
     "output_type": "stream",
     "text": [
      " http://www.reuters.com/article/2014/04/03/bc-investor-edge-idUSnPn7ccW8n+84+PRN20140403\n",
      "'NoneType' object has no attribute 'text'"
     ]
    },
    {
     "name": "stdout",
     "output_type": "stream",
     "text": [
      " http://www.reuters.com/article/2014/04/03/co-great-west-jp-morg-idUSnPn3SXx7N+99+PRN20140403\n",
      "'NoneType' object has no attribute 'text'"
     ]
    },
    {
     "name": "stdout",
     "output_type": "stream",
     "text": [
      " http://www.reuters.com/article/2014/04/03/bc-analystsreviewcom-idUSnPn4F8dl2+90+PRN20140403\n",
      "'NoneType' object has no attribute 'text'"
     ]
    },
    {
     "name": "stdout",
     "output_type": "stream",
     "text": [
      " http://www.reuters.com/article/2014/04/03/tx-breitling-energy-idUSnPn75qcyx+80+PRN20140403\n",
      "'NoneType' object has no attribute 'text'"
     ]
    },
    {
     "name": "stdout",
     "output_type": "stream",
     "text": [
      "\n",
      "'NoneType' object has no attribute 'text'"
     ]
    },
    {
     "name": "stdout",
     "output_type": "stream",
     "text": [
      " http://www.reuters.com/article/2014/04/04/co-cbis-nevada-legal-idUSnPn4XgrGt+92+PRN20140404\n",
      "2014-04-03"
     ]
    },
    {
     "name": "stdout",
     "output_type": "stream",
     "text": [
      " http://www.reuters.com/article/2014/04/04/carrani-and-gray-line-idUSnPn7kYQMX+8f+PRN20140404\n",
      "'NoneType' object has no attribute 'text'"
     ]
    },
    {
     "name": "stdout",
     "output_type": "stream",
     "text": [
      " http://www.reuters.com/article/2014/04/04/nv-bestbetonsports-idUSnPn5ZtJqN+95+PRN20140404\n",
      "'NoneType' object has no attribute 'text'"
     ]
    },
    {
     "name": "stdout",
     "output_type": "stream",
     "text": [
      " http://www.reuters.com/article/2014/04/04/gen-dynam-contract-idUSnPn89l6c1+80+PRN20140404\n",
      "'NoneType' object has no attribute 'text'"
     ]
    },
    {
     "name": "stdout",
     "output_type": "stream",
     "text": [
      "\n",
      "'NoneType' object has no attribute 'text'"
     ]
    },
    {
     "name": "stdout",
     "output_type": "stream",
     "text": [
      " http://www.reuters.com/article/2014/04/05/lg-coaches-cook-off-idUSnPn89l4lk+80+PRN20140405\n",
      "2014-04-04"
     ]
    },
    {
     "name": "stdout",
     "output_type": "stream",
     "text": [
      " http://www.reuters.com/article/2014/04/05/census-daily-feature-idUSnPn7MTxgL+99+PRN20140405\n",
      "'NoneType' object has no attribute 'text'"
     ]
    },
    {
     "name": "stdout",
     "output_type": "stream",
     "text": [
      " http://www.reuters.com/article/2014/04/05/dickeys-opens-neworle-idUSnPn7NCBNm+9e+PRN20140405\n",
      "'NoneType' object has no attribute 'text'"
     ]
    },
    {
     "name": "stdout",
     "output_type": "stream",
     "text": [
      " http://www.reuters.com/article/2014/04/05/relleciga-new-bikini-idUSnPn8j57DQ+83+PRN20140405\n",
      "'NoneType' object has no attribute 'text'"
     ]
    },
    {
     "name": "stdout",
     "output_type": "stream",
     "text": [
      " http://www.reuters.com/article/2014/04/05/ny-princemineralslogo-idUSnPn2lpBJH+87+PRN20140405\n",
      "'NoneType' object has no attribute 'text'"
     ]
    },
    {
     "name": "stdout",
     "output_type": "stream",
     "text": [
      " http://www.reuters.com/article/2014/04/05/bc-russia-ukraine-tensio-idUSnPnY5N8H+55+PRN20140405\n",
      "'NoneType' object has no attribute 'text'"
     ]
    },
    {
     "name": "stdout",
     "output_type": "stream",
     "text": [
      " http://www.reuters.com/article/2014/04/05/ut-dickeysbbq-opening-idUSnPn2J7tL4+92+PRN20140405\n",
      "'NoneType' object has no attribute 'text'"
     ]
    },
    {
     "name": "stdout",
     "output_type": "stream",
     "text": [
      " http://www.reuters.com/article/2014/04/05/human-touch-awards-idUSnPn6tphrT+81+PRN20140405\n",
      "'NoneType' object has no attribute 'text'"
     ]
    },
    {
     "name": "stdout",
     "output_type": "stream",
     "text": [
      " http://www.reuters.com/article/2014/04/05/scotland-run-nyc-idUSnPn6HwHMS+97+PRN20140405\n",
      "'NoneType' object has no attribute 'text'"
     ]
    },
    {
     "name": "stdout",
     "output_type": "stream",
     "text": [
      "\n",
      "'NoneType' object has no attribute 'text'"
     ]
    },
    {
     "name": "stdout",
     "output_type": "stream",
     "text": [
      " http://www.reuters.com/article/2014/04/06/census-daily-feature-idUSnPnbgJS2Q+8d+PRN20140406\n",
      "2014-04-05"
     ]
    },
    {
     "name": "stdout",
     "output_type": "stream",
     "text": [
      " http://www.reuters.com/article/2014/04/06/ca-mptf-event-idUSnPnc06bqT+81+PRN20140406\n",
      "'NoneType' object has no attribute 'text'"
     ]
    },
    {
     "name": "stdout",
     "output_type": "stream",
     "text": [
      " http://www.reuters.com/article/2014/04/06/americanlegioncontest-idUSnPn3vZvh2+88+PRN20140406\n",
      "'NoneType' object has no attribute 'text'"
     ]
    },
    {
     "name": "stdout",
     "output_type": "stream",
     "text": [
      " http://www.reuters.com/article/2014/04/06/sonygivescontent-idUSnPn7xCxZS+8b+PRN20140406\n",
      "'NoneType' object has no attribute 'text'"
     ]
    },
    {
     "name": "stdout",
     "output_type": "stream",
     "text": [
      "\n",
      "'NoneType' object has no attribute 'text'"
     ]
    },
    {
     "name": "stdout",
     "output_type": "stream",
     "text": [
      " http://www.reuters.com/article/2014/04/07/ca-gs-medical-usa-idUSnPn6rlm2t+80+PRN20140407\n",
      "2014-04-06"
     ]
    },
    {
     "name": "stdout",
     "output_type": "stream",
     "text": [
      " http://www.reuters.com/article/2014/04/07/dodge-challenger-idUSnPn4gVGwB+8d+PRN20140407\n",
      "'NoneType' object has no attribute 'text'"
     ]
    },
    {
     "name": "stdout",
     "output_type": "stream",
     "text": [
      " http://www.reuters.com/article/2014/04/07/ca-universal-citywalk-idUSnPn6kC9zJ+89+PRN20140407\n",
      "'NoneType' object has no attribute 'text'"
     ]
    },
    {
     "name": "stdout",
     "output_type": "stream",
     "text": [
      " http://www.reuters.com/article/2014/04/07/retiremyroom-season-idUSnPn8MyFwq+94+PRN20140407\n",
      "'NoneType' object has no attribute 'text'"
     ]
    },
    {
     "name": "stdout",
     "output_type": "stream",
     "text": [
      " http://www.reuters.com/article/2014/04/07/carderoresourcesupdte-idUSnPn1RNNzc+9c+PRN20140407\n",
      "'NoneType' object has no attribute 'text'"
     ]
    },
    {
     "name": "stdout",
     "output_type": "stream",
     "text": [
      " http://www.reuters.com/article/2014/04/07/aarp-barbara-walters-idUSnPn1CRmGZ+9b+PRN20140407\n",
      "'NoneType' object has no attribute 'text'"
     ]
    },
    {
     "name": "stdout",
     "output_type": "stream",
     "text": [
      " http://www.reuters.com/article/2014/04/07/plaza-construction-idUSnPn30F63N+89+PRN20140407\n",
      "'NoneType' object has no attribute 'text'"
     ]
    },
    {
     "name": "stdout",
     "output_type": "stream",
     "text": [
      " http://www.reuters.com/article/2014/04/07/adaptive-biotech-idUSnPn6vv6q1+80+PRN20140407\n",
      "'NoneType' object has no attribute 'text'"
     ]
    },
    {
     "name": "stdout",
     "output_type": "stream",
     "text": [
      " http://www.reuters.com/article/2014/04/07/mna-outside-hearing-idUSnPn9Y8X9G+95+PRN20140407\n",
      "'NoneType' object has no attribute 'text'"
     ]
    },
    {
     "name": "stdout",
     "output_type": "stream",
     "text": [
      " http://www.reuters.com/article/2014/04/07/raiseup-dropout-cntst-idUSnPn77SmgY+89+PRN20140407\n",
      "'NoneType' object has no attribute 'text'"
     ]
    },
    {
     "name": "stdout",
     "output_type": "stream",
     "text": [
      " http://www.reuters.com/article/2014/04/07/nj-hcca-1m-financing-idUSnPn2xd0S7+82+PRN20140407\n",
      "'NoneType' object has no attribute 'text'"
     ]
    },
    {
     "name": "stdout",
     "output_type": "stream",
     "text": [
      " http://www.reuters.com/article/2014/04/08/marfrig-tender-offer-idUSnPn2DVkj8+98+PRN20140408\n",
      "2014-04-07\n",
      "'NoneType' object has no attribute 'text'"
     ]
    },
    {
     "name": "stdout",
     "output_type": "stream",
     "text": [
      " http://www.reuters.com/article/2014/04/08/relmwireless-receives-idUSnPn1Cc4K1+92+PRN20140408\n",
      "'NoneType' object has no attribute 'text'"
     ]
    },
    {
     "name": "stdout",
     "output_type": "stream",
     "text": [
      " http://www.reuters.com/article/2014/04/08/ricks-cabaret-sales-idUSnPn1Bpktc+90+PRN20140408\n",
      "'NoneType' object has no attribute 'text'"
     ]
    },
    {
     "name": "stdout",
     "output_type": "stream",
     "text": [
      " http://www.reuters.com/article/2014/04/08/bc-analysts-review-idUSnPn1c5JCw+86+PRN20140408\n",
      "'NoneType' object has no attribute 'text'"
     ]
    },
    {
     "name": "stdout",
     "output_type": "stream",
     "text": [
      " http://www.reuters.com/article/2014/04/08/bc-ie-idUSnPn31b96X+81+PRN20140408\n",
      "'NoneType' object has no attribute 'text'"
     ]
    },
    {
     "name": "stdout",
     "output_type": "stream",
     "text": [
      " http://www.reuters.com/article/2014/04/08/firstenergy-ceo-event-idUSnPnbD2kZJ+93+PRN20140408\n",
      "'NoneType' object has no attribute 'text'"
     ]
    },
    {
     "name": "stdout",
     "output_type": "stream",
     "text": [
      " http://www.reuters.com/article/2014/04/08/gbta-travel-forecast-idUSnPn1t7DmC+85+PRN20140408\n",
      "'NoneType' object has no attribute 'text'"
     ]
    },
    {
     "name": "stdout",
     "output_type": "stream",
     "text": [
      " http://www.reuters.com/article/2014/04/08/consumers-energy-awd-idUSnPnzX98y+48+PRN20140408\n",
      "'NoneType' object has no attribute 'text'"
     ]
    },
    {
     "name": "stdout",
     "output_type": "stream",
     "text": [
      " http://www.reuters.com/article/2014/04/08/atlantictrustkeyissue-idUSnPnbtjLtp+84+PRN20140408\n",
      "'NoneType' object has no attribute 'text'"
     ]
    },
    {
     "name": "stdout",
     "output_type": "stream",
     "text": [
      " http://www.reuters.com/article/2014/04/08/nj-janssen-snda-idUSnPn9cZzVn+8a+PRN20140408\n",
      "'NoneType' object has no attribute 'text'"
     ]
    },
    {
     "name": "stdout",
     "output_type": "stream",
     "text": [
      " http://www.reuters.com/article/2014/04/08/ma-decision-resources-idUSnPn6bBfMW+8b+PRN20140408\n",
      "'NoneType' object has no attribute 'text'"
     ]
    },
    {
     "name": "stdout",
     "output_type": "stream",
     "text": [
      " http://www.reuters.com/article/2014/04/08/bc-analysts-review-idUSnPnc78c6V+81+PRN20140408\n",
      "'NoneType' object has no attribute 'text'"
     ]
    },
    {
     "name": "stdout",
     "output_type": "stream",
     "text": [
      " http://www.reuters.com/article/2014/04/09/satuitfundsanniversry-idUSnPnbQywqh+90+PRN20140409\n",
      "2014-04-08\n",
      "'NoneType' object has no attribute 'text'"
     ]
    },
    {
     "name": "stdout",
     "output_type": "stream",
     "text": [
      " http://www.reuters.com/article/2014/04/09/cohen-steers-assets-idUSnPn52gNBw+86+PRN20140409\n",
      "'NoneType' object has no attribute 'text'"
     ]
    },
    {
     "name": "stdout",
     "output_type": "stream",
     "text": [
      " http://www.reuters.com/article/2014/04/09/il-aonbenfield-impact-idUSnPnHWGXW+5f+PRN20140409\n",
      "'NoneType' object has no attribute 'text'"
     ]
    },
    {
     "name": "stdout",
     "output_type": "stream",
     "text": [
      " http://www.reuters.com/article/2014/04/09/ma-decision-resources-idUSnPn5XRZNl+9e+PRN20140409\n",
      "'NoneType' object has no attribute 'text'"
     ]
    },
    {
     "name": "stdout",
     "output_type": "stream",
     "text": [
      " http://www.reuters.com/article/2014/04/09/ma-decision-resources-idUSnPnpm7Q8+42+PRN20140409\n",
      "'NoneType' object has no attribute 'text'"
     ]
    },
    {
     "name": "stdout",
     "output_type": "stream",
     "text": [
      " http://www.reuters.com/article/2014/04/09/uli-infrastructure-idUSnPn1BNz9R+99+PRN20140409\n",
      "'NoneType' object has no attribute 'text'"
     ]
    },
    {
     "name": "stdout",
     "output_type": "stream",
     "text": [
      " http://www.reuters.com/article/2014/04/09/asur-files-form-20-f-idUSnPn5yyl9v+80+PRN20140409\n",
      "'NoneType' object has no attribute 'text'"
     ]
    },
    {
     "name": "stdout",
     "output_type": "stream",
     "text": [
      " http://www.reuters.com/article/2014/04/09/bayer-usa-foundation-idUSnPn5g0311+80+PRN20140409\n",
      "'NoneType' object has no attribute 'text'"
     ]
    },
    {
     "name": "stdout",
     "output_type": "stream",
     "text": [
      " http://www.reuters.com/article/2014/04/09/mi-visteon-credit-idUSnPnc1sGhy+84+PRN20140409\n",
      "'NoneType' object has no attribute 'text'"
     ]
    },
    {
     "name": "stdout",
     "output_type": "stream",
     "text": [
      " http://www.reuters.com/article/2014/04/09/4-h-molina-teen-study-idUSnPn6WnVq9+94+PRN20140409\n",
      "'NoneType' object has no attribute 'text'"
     ]
    },
    {
     "name": "stdout",
     "output_type": "stream",
     "text": [
      " http://www.reuters.com/article/2014/04/09/bc-investor-edge-idUSnPn9nMgLj+8a+PRN20140409\n",
      "'NoneType' object has no attribute 'text'"
     ]
    },
    {
     "name": "stdout",
     "output_type": "stream",
     "text": [
      " http://www.reuters.com/article/2014/04/09/sal-army-wtaetv-golf-idUSnPn6x437z+80+PRN20140409\n",
      "'NoneType' object has no attribute 'text'"
     ]
    },
    {
     "name": "stdout",
     "output_type": "stream",
     "text": [
      "\n",
      "'NoneType' object has no attribute 'text'"
     ]
    },
    {
     "name": "stdout",
     "output_type": "stream",
     "text": [
      " http://www.reuters.com/article/2014/04/10/malaysia-kitchen-idUSnPnbJxjcl+90+PRN20140410\n",
      "2014-04-09"
     ]
    },
    {
     "name": "stdout",
     "output_type": "stream",
     "text": [
      " http://www.reuters.com/article/2014/04/10/pwc-healthcare-survey-idUSnPn3QqyYF+93+PRN20140410\n",
      "'NoneType' object has no attribute 'text'"
     ]
    },
    {
     "name": "stdout",
     "output_type": "stream",
     "text": [
      " http://www.reuters.com/article/2014/04/10/bc-ar-idUSnPn4ld3HR+83+PRN20140410\n",
      "'NoneType' object has no attribute 'text'"
     ]
    },
    {
     "name": "stdout",
     "output_type": "stream",
     "text": [
      " http://www.reuters.com/article/2014/04/10/all-usa-boys-bball-idUSnPn5JylCK+93+PRN20140410\n",
      "'NoneType' object has no attribute 'text'"
     ]
    },
    {
     "name": "stdout",
     "output_type": "stream",
     "text": [
      " http://www.reuters.com/article/2014/04/10/bc-investor-edge-idUSnPn8RrbmN+91+PRN20140410\n",
      "'NoneType' object has no attribute 'text'"
     ]
    },
    {
     "name": "stdout",
     "output_type": "stream",
     "text": [
      " http://www.reuters.com/article/2014/04/10/tx-klein-tools-opens-idUSnPn1bBlbL+89+PRN20140410\n",
      "'NoneType' object has no attribute 'text'"
     ]
    },
    {
     "name": "stdout",
     "output_type": "stream",
     "text": [
      " http://www.reuters.com/article/2014/04/10/bia-kelsey-mobile-ads-idUSnPn2FVhfV+99+PRN20140410\n",
      "'NoneType' object has no attribute 'text'"
     ]
    },
    {
     "name": "stdout",
     "output_type": "stream",
     "text": [
      " http://www.reuters.com/article/2014/04/10/tn-crown-taxesbible-idUSnPn3syNd9+84+PRN20140410\n",
      "'NoneType' object has no attribute 'text'"
     ]
    },
    {
     "name": "stdout",
     "output_type": "stream",
     "text": [
      " http://www.reuters.com/article/2014/04/10/thomsonreuters-g-idUSnPn80NMr6+8c+PRN20140410\n",
      "'NoneType' object has no attribute 'text'"
     ]
    },
    {
     "name": "stdout",
     "output_type": "stream",
     "text": [
      " http://www.reuters.com/article/2014/04/10/confbd-intl-labor-svy-idUSnPn44cpPN+83+PRN20140410\n",
      "'NoneType' object has no attribute 'text'"
     ]
    },
    {
     "name": "stdout",
     "output_type": "stream",
     "text": [
      " http://www.reuters.com/article/2014/04/10/the-hunt-investment-idUSnPn24RXgK+8d+PRN20140410\n",
      "'NoneType' object has no attribute 'text'"
     ]
    },
    {
     "name": "stdout",
     "output_type": "stream",
     "text": [
      " http://www.reuters.com/article/2014/04/10/bpc-publish-report-idUSnPn86wdKr+82+PRN20140410\n",
      "'NoneType' object has no attribute 'text'"
     ]
    },
    {
     "name": "stdout",
     "output_type": "stream",
     "text": [
      " http://www.reuters.com/article/2014/04/10/nikon-coolpix-s810c-idUSnPn6GVkfL+99+PRN20140410\n",
      "'NoneType' object has no attribute 'text'"
     ]
    },
    {
     "name": "stdout",
     "output_type": "stream",
     "text": [
      "\n",
      "'NoneType' object has no attribute 'text'"
     ]
    },
    {
     "name": "stdout",
     "output_type": "stream",
     "text": [
      " http://www.reuters.com/article/2014/04/11/pa-police-drug-seize-idUSnPn1Lc0wJ+91+PRN20140411\n",
      "2014-04-10"
     ]
    },
    {
     "name": "stdout",
     "output_type": "stream",
     "text": [
      " http://www.reuters.com/article/2014/04/11/wi-allen-edmonds-sale-idUSnPnbWGWKm+9e+PRN20140411\n",
      "'NoneType' object has no attribute 'text'"
     ]
    },
    {
     "name": "stdout",
     "output_type": "stream",
     "text": [
      " http://www.reuters.com/article/2014/04/11/bc-ar-idUSnPn5RR6Vq+9a+PRN20140411\n",
      "'NoneType' object has no attribute 'text'"
     ]
    },
    {
     "name": "stdout",
     "output_type": "stream",
     "text": [
      " http://www.reuters.com/article/2014/04/11/tepper-school-donor-idUSnPn62FdMH+8b+PRN20140411\n",
      "'NoneType' object has no attribute 'text'"
     ]
    },
    {
     "name": "stdout",
     "output_type": "stream",
     "text": [
      " http://www.reuters.com/article/2014/04/11/ex-im-pta-bank-deal-idUSnPn9PZxdM+99+PRN20140411\n",
      "'NoneType' object has no attribute 'text'"
     ]
    },
    {
     "name": "stdout",
     "output_type": "stream",
     "text": [
      " http://www.reuters.com/article/2014/04/11/us-auto-parts-call-idUSnPn2XSYtw+9c+PRN20140411\n",
      "'NoneType' object has no attribute 'text'"
     ]
    },
    {
     "name": "stdout",
     "output_type": "stream",
     "text": [
      " http://www.reuters.com/article/2014/04/11/bc-ar-idUSnPn65LVNX+8f+PRN20140411\n",
      "'NoneType' object has no attribute 'text'"
     ]
    },
    {
     "name": "stdout",
     "output_type": "stream",
     "text": [
      "\n",
      "'NoneType' object has no attribute 'text'"
     ]
    },
    {
     "name": "stdout",
     "output_type": "stream",
     "text": [
      " http://www.reuters.com/article/2014/04/12/janssen-cosmos-study-idUSnPn2V8LVy+96+PRN20140412\n",
      "2014-04-11"
     ]
    },
    {
     "name": "stdout",
     "output_type": "stream",
     "text": [
      " http://www.reuters.com/article/2014/04/12/census-daily-feature-idUSnPn4qLXrt+8c+PRN20140412\n",
      "'NoneType' object has no attribute 'text'"
     ]
    },
    {
     "name": "stdout",
     "output_type": "stream",
     "text": [
      " http://www.reuters.com/article/2014/04/12/abbvie-to-present-idUSnPn1mtsXy+82+PRN20140412\n",
      "'NoneType' object has no attribute 'text'"
     ]
    },
    {
     "name": "stdout",
     "output_type": "stream",
     "text": [
      " http://www.reuters.com/article/2014/04/12/dc-irannewsupdate-idUSnPn2Kkck8+90+PRN20140412\n",
      "'NoneType' object has no attribute 'text'"
     ]
    },
    {
     "name": "stdout",
     "output_type": "stream",
     "text": [
      " http://www.reuters.com/article/2014/04/12/gsol-china-sourcing-idUSnPncqWGq+46+PRN20140412\n",
      "'NoneType' object has no attribute 'text'"
     ]
    },
    {
     "name": "stdout",
     "output_type": "stream",
     "text": [
      " http://www.reuters.com/article/2014/04/12/fl-scotts-gro1000infl-idUSnPn3nRpd9+88+PRN20140412\n",
      "'NoneType' object has no attribute 'text'"
     ]
    },
    {
     "name": "stdout",
     "output_type": "stream",
     "text": [
      " http://www.reuters.com/article/2014/04/12/ca-dickeys-in-pinole-idUSnPncf8dKw+82+PRN20140412\n",
      "'NoneType' object has no attribute 'text'"
     ]
    },
    {
     "name": "stdout",
     "output_type": "stream",
     "text": [
      "\n",
      "'NoneType' object has no attribute 'text'"
     ]
    },
    {
     "name": "stdout",
     "output_type": "stream",
     "text": [
      " http://www.reuters.com/article/2014/04/13/elbit-imaging-notes-idUSnPn5LXK3B+9d+PRN20140413\n",
      "2014-04-12"
     ]
    },
    {
     "name": "stdout",
     "output_type": "stream",
     "text": [
      " http://www.reuters.com/article/2014/04/13/census-daily-feature-idUSnPn8V7KBX+97+PRN20140413\n",
      "'NoneType' object has no attribute 'text'"
     ]
    },
    {
     "name": "stdout",
     "output_type": "stream",
     "text": [
      " http://www.reuters.com/article/2014/04/13/cair-kansas-shooting-idUSnPn1gm8jY+81+PRN20140413\n",
      "'NoneType' object has no attribute 'text'"
     ]
    },
    {
     "name": "stdout",
     "output_type": "stream",
     "text": [
      " http://www.reuters.com/article/2014/04/13/xjtlu-admission-idUSnPn3qmyLq+82+PRN20140413\n",
      "'NoneType' object has no attribute 'text'"
     ]
    },
    {
     "name": "stdout",
     "output_type": "stream",
     "text": [
      "\n",
      "'NoneType' object has no attribute 'text'"
     ]
    },
    {
     "name": "stdout",
     "output_type": "stream",
     "text": [
      " http://www.reuters.com/article/2014/04/14/raleigh-metal-recycle-idUSnPn9rkLjg+84+PRN20140414\n",
      "2014-04-13"
     ]
    },
    {
     "name": "stdout",
     "output_type": "stream",
     "text": [
      " http://www.reuters.com/article/2014/04/14/more-fitness-mag-run-idUSnPn2cnSjH+85+PRN20140414\n",
      "'NoneType' object has no attribute 'text'"
     ]
    },
    {
     "name": "stdout",
     "output_type": "stream",
     "text": [
      " http://www.reuters.com/article/2014/04/14/lilly-boehringer-nda-idUSnPn2JD8sx+98+PRN20140414\n",
      "'NoneType' object has no attribute 'text'"
     ]
    },
    {
     "name": "stdout",
     "output_type": "stream",
     "text": [
      " http://www.reuters.com/article/2014/04/14/credit-suisse-coupons-idUSnPn7yrjpq+80+PRN20140414\n",
      "'NoneType' object has no attribute 'text'"
     ]
    },
    {
     "name": "stdout",
     "output_type": "stream",
     "text": [
      " http://www.reuters.com/article/2014/04/14/ntl-files-20-f-idUSnPn2k4c9Q+81+PRN20140414\n",
      "'NoneType' object has no attribute 'text'"
     ]
    },
    {
     "name": "stdout",
     "output_type": "stream",
     "text": [
      " http://www.reuters.com/article/2014/04/14/bc-analystsreviewcom-idUSnPnbnxmGg+82+PRN20140414\n",
      "'NoneType' object has no attribute 'text'"
     ]
    },
    {
     "name": "stdout",
     "output_type": "stream",
     "text": [
      " http://www.reuters.com/article/2014/04/14/va-serco-naval-con-idUSnPnbJDq1S+99+PRN20140414\n",
      "'NoneType' object has no attribute 'text'"
     ]
    },
    {
     "name": "stdout",
     "output_type": "stream",
     "text": [
      " http://www.reuters.com/article/2014/04/14/bc-investor-edge-idUSnPn3MV5xn+98+PRN20140414\n",
      "'NoneType' object has no attribute 'text'"
     ]
    },
    {
     "name": "stdout",
     "output_type": "stream",
     "text": [
      " http://www.reuters.com/article/2014/04/14/appraisers-ny-award-idUSnPn1y6MCG+87+PRN20140414\n",
      "'NoneType' object has no attribute 'text'"
     ]
    },
    {
     "name": "stdout",
     "output_type": "stream",
     "text": [
      " http://www.reuters.com/article/2014/04/14/va-arc-ticket-sales-idUSnPn1Rj1Jt+92+PRN20140414\n",
      "'NoneType' object has no attribute 'text'"
     ]
    },
    {
     "name": "stdout",
     "output_type": "stream",
     "text": [
      " http://www.reuters.com/article/2014/04/14/decisionresource-chf-idUSnPn8JLLtZ+9d+PRN20140414\n",
      "'NoneType' object has no attribute 'text'"
     ]
    },
    {
     "name": "stdout",
     "output_type": "stream",
     "text": [
      " http://www.reuters.com/article/2014/04/14/ny-kia-ny-auto-show-idUSnPn143wxr+80+PRN20140414\n",
      "'NoneType' object has no attribute 'text'"
     ]
    },
    {
     "name": "stdout",
     "output_type": "stream",
     "text": [
      " http://www.reuters.com/article/2014/04/14/cerrogrande-valuation-idUSnPn5flSsP+85+PRN20140414\n",
      "'NoneType' object has no attribute 'text'"
     ]
    },
    {
     "name": "stdout",
     "output_type": "stream",
     "text": [
      " http://www.reuters.com/article/2014/04/14/ny-harrispollmarriage-idUSnPn7hQQvs+8c+PRN20140414\n",
      "'NoneType' object has no attribute 'text'"
     ]
    },
    {
     "name": "stdout",
     "output_type": "stream",
     "text": [
      "\n",
      "'NoneType' object has no attribute 'text'"
     ]
    },
    {
     "name": "stdout",
     "output_type": "stream",
     "text": [
      " http://www.reuters.com/article/2014/04/15/usa-today-sports-stor-idUSnPn5Z83gd+90+PRN20140415\n",
      "2014-04-14"
     ]
    },
    {
     "name": "stdout",
     "output_type": "stream",
     "text": [
      " http://www.reuters.com/article/2014/04/15/oh-ads-joint-venture-idUSnPn6P338g+90+PRN20140415\n",
      "'NoneType' object has no attribute 'text'"
     ]
    },
    {
     "name": "stdout",
     "output_type": "stream",
     "text": [
      " http://www.reuters.com/article/2014/04/15/atkearny-global-index-idUSnPn5d8BPR+87+PRN20140415\n",
      "'NoneType' object has no attribute 'text'"
     ]
    },
    {
     "name": "stdout",
     "output_type": "stream",
     "text": [
      " http://www.reuters.com/article/2014/04/15/bc-analysts-review-idUSnPnv4tds+40+PRN20140415\n",
      "'NoneType' object has no attribute 'text'"
     ]
    },
    {
     "name": "stdout",
     "output_type": "stream",
     "text": [
      " http://www.reuters.com/article/2014/04/15/bc-analystsreviewcom-idUSnPn98RfBG+8b+PRN20140415\n",
      "'NoneType' object has no attribute 'text'"
     ]
    },
    {
     "name": "stdout",
     "output_type": "stream",
     "text": [
      " http://www.reuters.com/article/2014/04/15/mecumauctions-houston-idUSnPn89XFQ9+8e+PRN20140415\n",
      "'NoneType' object has no attribute 'text'"
     ]
    },
    {
     "name": "stdout",
     "output_type": "stream",
     "text": [
      " http://www.reuters.com/article/2014/04/15/bc-kenshoo-idUSnPn5Qw1LZ+93+PRN20140415\n",
      "'NoneType' object has no attribute 'text'"
     ]
    },
    {
     "name": "stdout",
     "output_type": "stream",
     "text": [
      " http://www.reuters.com/article/2014/04/15/ca-abbyy-usa-idUSnPn6v2rgy+80+PRN20140415\n",
      "'NoneType' object has no attribute 'text'"
     ]
    },
    {
     "name": "stdout",
     "output_type": "stream",
     "text": [
      " http://www.reuters.com/article/2014/04/15/zacks-invest-ideas-idUSnPn1TNHR0+9e+PRN20140415\n",
      "'NoneType' object has no attribute 'text'"
     ]
    },
    {
     "name": "stdout",
     "output_type": "stream",
     "text": [
      " http://www.reuters.com/article/2014/04/15/lockheed-torpedoes-idUSnPn2RTQdQ+9d+PRN20140415\n",
      "'NoneType' object has no attribute 'text'"
     ]
    },
    {
     "name": "stdout",
     "output_type": "stream",
     "text": [
      " http://www.reuters.com/article/2014/04/15/comerica-inc-erns-idUSnPn7QN5Wj+9a+PRN20140415\n",
      "'NoneType' object has no attribute 'text'"
     ]
    },
    {
     "name": "stdout",
     "output_type": "stream",
     "text": [
      " http://www.reuters.com/article/2014/04/15/bc-earnings-source-idUSnPncclTqx+84+PRN20140415\n",
      "'NoneType' object has no attribute 'text'"
     ]
    },
    {
     "name": "stdout",
     "output_type": "stream",
     "text": [
      " http://www.reuters.com/article/2014/04/15/taxing-pro-athletes-idUSnPnbd3QTt+86+PRN20140415\n",
      "'NoneType' object has no attribute 'text'"
     ]
    },
    {
     "name": "stdout",
     "output_type": "stream",
     "text": [
      "\n",
      "'NoneType' object has no attribute 'text'"
     ]
    },
    {
     "name": "stdout",
     "output_type": "stream",
     "text": [
      " http://www.reuters.com/article/2014/04/16/ny-braskem-tender-idUSnPn5F5hRj+92+PRN20140416\n",
      "2014-04-15"
     ]
    },
    {
     "name": "stdout",
     "output_type": "stream",
     "text": [
      " http://www.reuters.com/article/2014/04/16/usatoday-girls-team-idUSnPn89zqsQ+81+PRN20140416\n",
      "'NoneType' object has no attribute 'text'"
     ]
    },
    {
     "name": "stdout",
     "output_type": "stream",
     "text": [
      " http://www.reuters.com/article/2014/04/16/braskem-finance-idUSnPn8sqZKm+86+PRN20140416\n",
      "'NoneType' object has no attribute 'text'"
     ]
    },
    {
     "name": "stdout",
     "output_type": "stream",
     "text": [
      " http://www.reuters.com/article/2014/04/16/ca-outsell-ad-study-idUSnPn81RvF1+8a+PRN20140416\n",
      "'NoneType' object has no attribute 'text'"
     ]
    },
    {
     "name": "stdout",
     "output_type": "stream",
     "text": [
      " http://www.reuters.com/article/2014/04/16/peoples-united-earns-idUSnPn5Chyxz+90+PRN20140416\n",
      "'NoneType' object has no attribute 'text'"
     ]
    },
    {
     "name": "stdout",
     "output_type": "stream",
     "text": [
      " http://www.reuters.com/article/2014/04/16/tx-att-volvo-agreemt-idUSnPn14yWHW+87+PRN20140416\n",
      "'NoneType' object has no attribute 'text'"
     ]
    },
    {
     "name": "stdout",
     "output_type": "stream",
     "text": [
      " http://www.reuters.com/article/2014/04/16/decision-res-report-idUSnPn9DP21K+99+PRN20140416\n",
      "'NoneType' object has no attribute 'text'"
     ]
    },
    {
     "name": "stdout",
     "output_type": "stream",
     "text": [
      " http://www.reuters.com/article/2014/04/16/deq-q1-results-idUSnPncgWwvb+88+PRN20140416\n",
      "'NoneType' object has no attribute 'text'"
     ]
    },
    {
     "name": "stdout",
     "output_type": "stream",
     "text": [
      " http://www.reuters.com/article/2014/04/16/cathay-earnings-idUSnPn3VFn3l+98+PRN20140416\n",
      "'NoneType' object has no attribute 'text'"
     ]
    },
    {
     "name": "stdout",
     "output_type": "stream",
     "text": [
      " http://www.reuters.com/article/2014/04/16/il-astellas-pharma-us-idUSnPnbc6Rtm+84+PRN20140416\n",
      "'NoneType' object has no attribute 'text'"
     ]
    },
    {
     "name": "stdout",
     "output_type": "stream",
     "text": [
      " http://www.reuters.com/article/2014/04/16/pa-pnc-earns-idUSnPn3KVJwv+9c+PRN20140416\n",
      "'NoneType' object has no attribute 'text'"
     ]
    },
    {
     "name": "stdout",
     "output_type": "stream",
     "text": [
      " http://www.reuters.com/article/2014/04/16/campaign-monitor-gets-idUSnPn1nh49X+81+PRN20140416\n",
      "'NoneType' object has no attribute 'text'"
     ]
    },
    {
     "name": "stdout",
     "output_type": "stream",
     "text": [
      " http://www.reuters.com/article/2014/04/16/va-capital-one-earns-idUSnPn17sXZD+87+PRN20140416\n",
      "'NoneType' object has no attribute 'text'"
     ]
    },
    {
     "name": "stdout",
     "output_type": "stream",
     "text": [
      " http://www.reuters.com/article/2014/04/16/oxfordfinancesorrento-idUSnPn2Z9QXx+96+PRN20140416\n",
      "'NoneType' object has no attribute 'text'"
     ]
    },
    {
     "name": "stdout",
     "output_type": "stream",
     "text": [
      " http://www.reuters.com/article/2014/04/16/rapid-fire-10k-report-idUSnPn7x1KpS+85+PRN20140416\n",
      "'NoneType' object has no attribute 'text'"
     ]
    },
    {
     "name": "stdout",
     "output_type": "stream",
     "text": [
      " http://www.reuters.com/article/2014/04/16/firtreepartnerspraise-idUSnPn2BDNTV+9f+PRN20140416\n",
      "'NoneType' object has no attribute 'text'"
     ]
    },
    {
     "name": "stdout",
     "output_type": "stream",
     "text": [
      " http://www.reuters.com/article/2014/04/16/nc-ulna-new-business-idUSnPnb56KL0+86+PRN20140416\n",
      "'NoneType' object has no attribute 'text'"
     ]
    },
    {
     "name": "stdout",
     "output_type": "stream",
     "text": [
      "\n",
      "'NoneType' object has no attribute 'text'"
     ]
    },
    {
     "name": "stdout",
     "output_type": "stream",
     "text": [
      " http://www.reuters.com/article/2014/04/17/kubooinc-safecomminc-idUSnPn8T2zpX+91+PRN20140417\n",
      "2014-04-16"
     ]
    },
    {
     "name": "stdout",
     "output_type": "stream",
     "text": [
      " http://www.reuters.com/article/2014/04/17/raelian-grazing-fees-idUSnPn7Cm6Y7+92+PRN20140417\n",
      "'NoneType' object has no attribute 'text'"
     ]
    },
    {
     "name": "stdout",
     "output_type": "stream",
     "text": [
      " http://www.reuters.com/article/2014/04/17/ny-bnymellon-standish-idUSnPn69zSPR+87+PRN20140417\n",
      "'NoneType' object has no attribute 'text'"
     ]
    },
    {
     "name": "stdout",
     "output_type": "stream",
     "text": [
      " http://www.reuters.com/article/2014/04/17/energy-issues-poll-idUSnPn6mRn0h+88+PRN20140417\n",
      "'NoneType' object has no attribute 'text'"
     ]
    },
    {
     "name": "stdout",
     "output_type": "stream",
     "text": [
      " http://www.reuters.com/article/2014/04/17/honeywell-earns-idUSnPn6MWNVB+9f+PRN20140417\n",
      "'NoneType' object has no attribute 'text'"
     ]
    },
    {
     "name": "stdout",
     "output_type": "stream",
     "text": [
      " http://www.reuters.com/article/2014/04/17/amer-capital-sell-spl-idUSnPn4p1FSV+87+PRN20140417\n",
      "'NoneType' object has no attribute 'text'"
     ]
    },
    {
     "name": "stdout",
     "output_type": "stream",
     "text": [
      " http://www.reuters.com/article/2014/04/17/lockheed-sci-festival-idUSnPnbVHKjq+9c+PRN20140417\n",
      "'NoneType' object has no attribute 'text'"
     ]
    },
    {
     "name": "stdout",
     "output_type": "stream",
     "text": [
      " http://www.reuters.com/article/2014/04/17/boehringer-volasertib-idUSnPn8rWRvS+8d+PRN20140417\n",
      "'NoneType' object has no attribute 'text'"
     ]
    },
    {
     "name": "stdout",
     "output_type": "stream",
     "text": [
      " http://www.reuters.com/article/2014/04/17/mbda-appoint-castillo-idUSnPnbh0XhQ+85+PRN20140417\n",
      "'NoneType' object has no attribute 'text'"
     ]
    },
    {
     "name": "stdout",
     "output_type": "stream",
     "text": [
      " http://www.reuters.com/article/2014/04/17/oh-keycorp-earns-idUSnPn25wqmv+80+PRN20140417\n",
      "'NoneType' object has no attribute 'text'"
     ]
    },
    {
     "name": "stdout",
     "output_type": "stream",
     "text": [
      " http://www.reuters.com/article/2014/04/17/scce-summit-speakers-idUSnPn55bkV5+82+PRN20140417\n",
      "'NoneType' object has no attribute 'text'"
     ]
    },
    {
     "name": "stdout",
     "output_type": "stream",
     "text": [
      " http://www.reuters.com/article/2014/04/17/nc-bbt-earnings-idUSnPnbMvxHb+92+PRN20140417\n",
      "'NoneType' object has no attribute 'text'"
     ]
    },
    {
     "name": "stdout",
     "output_type": "stream",
     "text": [
      "\n",
      "'NoneType' object has no attribute 'text'"
     ]
    },
    {
     "name": "stdout",
     "output_type": "stream",
     "text": [
      " http://www.reuters.com/article/2014/04/18/cra-stmnt-antidumping-idUSnPn4Zc5dq+90+PRN20140418\n",
      "2014-04-17"
     ]
    },
    {
     "name": "stdout",
     "output_type": "stream",
     "text": [
      " http://www.reuters.com/article/2014/04/18/personhoodusa-justina-idUSnPnrKxmv+48+PRN20140418\n",
      "'NoneType' object has no attribute 'text'"
     ]
    },
    {
     "name": "stdout",
     "output_type": "stream",
     "text": [
      " http://www.reuters.com/article/2014/04/18/atfa-nml-vs-argentina-idUSnPn8Kvfby+90+PRN20140418\n",
      "'NoneType' object has no attribute 'text'"
     ]
    },
    {
     "name": "stdout",
     "output_type": "stream",
     "text": [
      " http://www.reuters.com/article/2014/04/18/ny-chobani-expands-idUSnPn5GF03T+99+PRN20140418\n",
      "'NoneType' object has no attribute 'text'"
     ]
    },
    {
     "name": "stdout",
     "output_type": "stream",
     "text": [
      " http://www.reuters.com/article/2014/04/18/ca-torklaw-stjudemed-idUSnPn7hvQlx+84+PRN20140418\n",
      "'NoneType' object has no attribute 'text'"
     ]
    },
    {
     "name": "stdout",
     "output_type": "stream",
     "text": [
      " http://www.reuters.com/article/2014/04/18/ca-alexander-award-idUSnPn5WyXtZ+95+PRN20140418\n",
      "'NoneType' object has no attribute 'text'"
     ]
    },
    {
     "name": "stdout",
     "output_type": "stream",
     "text": [
      " http://www.reuters.com/article/2014/04/18/vimplecom-partnership-idUSnPn6Kj5k5+90+PRN20140418\n",
      "'NoneType' object has no attribute 'text'"
     ]
    },
    {
     "name": "stdout",
     "output_type": "stream",
     "text": [
      " http://www.reuters.com/article/2014/04/18/hsn-matt-goss-concert-idUSnPnc41YJj+86+PRN20140418\n",
      "'NoneType' object has no attribute 'text'"
     ]
    },
    {
     "name": "stdout",
     "output_type": "stream",
     "text": [
      " http://www.reuters.com/article/2014/04/18/opentext-expansion-to-idUSnPn4yTn1R+89+PRN20140418\n",
      "'NoneType' object has no attribute 'text'"
     ]
    },
    {
     "name": "stdout",
     "output_type": "stream",
     "text": [
      " http://www.reuters.com/article/2014/04/18/tx-att-gophone-data-idUSnPn4HskJC+93+PRN20140418\n",
      "'NoneType' object has no attribute 'text'"
     ]
    },
    {
     "name": "stdout",
     "output_type": "stream",
     "text": [
      " http://www.reuters.com/article/2014/04/18/ny-swisshelvetia-fund-idUSnPnccwdXg+82+PRN20140418\n",
      "'NoneType' object has no attribute 'text'"
     ]
    },
    {
     "name": "stdout",
     "output_type": "stream",
     "text": [
      " http://www.reuters.com/article/2014/04/18/be-kind-to-animals-wk-idUSnPn8V81TR+93+PRN20140418\n",
      "'NoneType' object has no attribute 'text'"
     ]
    },
    {
     "name": "stdout",
     "output_type": "stream",
     "text": [
      " http://www.reuters.com/article/2014/04/18/census-daily-feature-idUSnPn5L29wK+91+PRN20140418\n",
      "'NoneType' object has no attribute 'text'"
     ]
    },
    {
     "name": "stdout",
     "output_type": "stream",
     "text": [
      " http://www.reuters.com/article/2014/04/18/healthfoodpost-best-idUSnPn2Vyx04+90+PRN20140418\n",
      "'NoneType' object has no attribute 'text'"
     ]
    },
    {
     "name": "stdout",
     "output_type": "stream",
     "text": [
      " http://www.reuters.com/article/2014/04/19/chrysler-jeep-china-idUSnPn2CfdjD+91+PRN20140419\n",
      "'NoneType' object has no attribute 'text'"
     ]
    },
    {
     "name": "stdout",
     "output_type": "stream",
     "text": [
      " http://www.reuters.com/article/2014/04/18/md-cbtc-elects-idUSnPn5dLBPT+8f+PRN20140418\n",
      "'NoneType' object has no attribute 'text'"
     ]
    },
    {
     "name": "stdout",
     "output_type": "stream",
     "text": [
      "\n",
      "'NoneType' object has no attribute 'text'"
     ]
    },
    {
     "name": "stdout",
     "output_type": "stream",
     "text": [
      " http://www.reuters.com/article/2014/04/19/parenthood-usa-press-idUSnPn8grwbn+80+PRN20140419\n",
      "2014-04-18"
     ]
    },
    {
     "name": "stdout",
     "output_type": "stream",
     "text": [
      " http://www.reuters.com/article/2014/04/19/census-daily-feature-idUSnPn9SDc8f+98+PRN20140419\n",
      "'NoneType' object has no attribute 'text'"
     ]
    },
    {
     "name": "stdout",
     "output_type": "stream",
     "text": [
      " http://www.reuters.com/article/2014/04/19/ut-nus-chinaoperation-idUSnPn91RcrM+89+PRN20140419\n",
      "'NoneType' object has no attribute 'text'"
     ]
    },
    {
     "name": "stdout",
     "output_type": "stream",
     "text": [
      " http://www.reuters.com/article/2014/04/19/dc-lupusfoundation-idUSnPn8GY96m+98+PRN20140419\n",
      "'NoneType' object has no attribute 'text'"
     ]
    },
    {
     "name": "stdout",
     "output_type": "stream",
     "text": [
      " http://www.reuters.com/article/2014/04/20/jeep-debuts-concepts-idUSnPn1bB53T+89+PRN20140420\n",
      "'NoneType' object has no attribute 'text'"
     ]
    },
    {
     "name": "stdout",
     "output_type": "stream",
     "text": [
      " http://www.reuters.com/article/2014/04/19/ma-telexfree-stmnt-idUSnPn54Kd0t+88+PRN20140419\n",
      "'NoneType' object has no attribute 'text'"
     ]
    },
    {
     "name": "stdout",
     "output_type": "stream",
     "text": [
      "\n",
      "'NoneType' object has no attribute 'text'"
     ]
    },
    {
     "name": "stdout",
     "output_type": "stream",
     "text": [
      " http://www.reuters.com/article/2014/04/20/census-daily-feature-idUSnPn4htSx2+84+PRN20140420\n",
      "2014-04-19"
     ]
    },
    {
     "name": "stdout",
     "output_type": "stream",
     "text": [
      " http://www.reuters.com/article/2014/04/21/hisense-vidaa2-tv-idUSnPn39pKTs+86+PRN20140421\n",
      "'NoneType' object has no attribute 'text'"
     ]
    },
    {
     "name": "stdout",
     "output_type": "stream",
     "text": [
      " http://www.reuters.com/article/2014/04/20/kongzhong-warsaga-idUSnPn41d5dy+80+PRN20140420\n",
      "'NoneType' object has no attribute 'text'"
     ]
    },
    {
     "name": "stdout",
     "output_type": "stream",
     "text": [
      "\n",
      "'NoneType' object has no attribute 'text'"
     ]
    },
    {
     "name": "stdout",
     "output_type": "stream",
     "text": [
      " http://www.reuters.com/article/2014/04/21/chindex-merger-tpg-idUSnPn699Bpk+84+PRN20140421\n",
      "2014-04-20"
     ]
    },
    {
     "name": "stdout",
     "output_type": "stream",
     "text": [
      " http://www.reuters.com/article/2014/04/21/acentia-uspto-contrct-idUSnPn5WFtTD+9b+PRN20140421\n",
      "'NoneType' object has no attribute 'text'"
     ]
    },
    {
     "name": "stdout",
     "output_type": "stream",
     "text": [
      " http://www.reuters.com/article/2014/04/21/bornfreeusa-newreport-idUSnPn7mnBbv+84+PRN20140421\n",
      "'NoneType' object has no attribute 'text'"
     ]
    },
    {
     "name": "stdout",
     "output_type": "stream",
     "text": [
      " http://www.reuters.com/article/2014/04/21/decision-res-grp-uc-idUSnPnbvnFMh+86+PRN20140421\n",
      "'NoneType' object has no attribute 'text'"
     ]
    },
    {
     "name": "stdout",
     "output_type": "stream",
     "text": [
      " http://www.reuters.com/article/2014/04/21/memorialcare-avo-days-idUSnPn2Fycz9+90+PRN20140421\n",
      "'NoneType' object has no attribute 'text'"
     ]
    },
    {
     "name": "stdout",
     "output_type": "stream",
     "text": [
      " http://www.reuters.com/article/2014/04/21/phi-beta-sigma-frat-idUSnPn3flqNy+82+PRN20140421\n",
      "'NoneType' object has no attribute 'text'"
     ]
    },
    {
     "name": "stdout",
     "output_type": "stream",
     "text": [
      " http://www.reuters.com/article/2014/04/21/stater-bros-charities-idUSnPnqdc04+40+PRN20140421\n",
      "'NoneType' object has no attribute 'text'"
     ]
    },
    {
     "name": "stdout",
     "output_type": "stream",
     "text": [
      " http://www.reuters.com/article/2014/04/21/bc-ie-idUSnPn1759jh+80+PRN20140421\n",
      "'NoneType' object has no attribute 'text'"
     ]
    },
    {
     "name": "stdout",
     "output_type": "stream",
     "text": [
      " http://www.reuters.com/article/2014/04/21/bluhomes-design-smart-idUSnPn4yhfG0+82+PRN20140421\n",
      "'NoneType' object has no attribute 'text'"
     ]
    },
    {
     "name": "stdout",
     "output_type": "stream",
     "text": [
      " http://www.reuters.com/article/2014/04/21/bancorpsouth-earnings-idUSnPn2qy68X+81+PRN20140421\n",
      "'NoneType' object has no attribute 'text'"
     ]
    },
    {
     "name": "stdout",
     "output_type": "stream",
     "text": [
      " http://www.reuters.com/article/2014/04/21/usa-science-engineer-idUSnPn6VKRrt+9c+PRN20140421\n",
      "'NoneType' object has no attribute 'text'"
     ]
    },
    {
     "name": "stdout",
     "output_type": "stream",
     "text": [
      " http://www.reuters.com/article/2014/04/21/committedcapitl-stock-idUSnPn4WqQHv+96+PRN20140421\n",
      "'NoneType' object has no attribute 'text'"
     ]
    },
    {
     "name": "stdout",
     "output_type": "stream",
     "text": [
      " http://www.reuters.com/article/2014/04/21/conferencebrd-index-idUSnPn7FZHd2+9c+PRN20140421\n",
      "'NoneType' object has no attribute 'text'"
     ]
    },
    {
     "name": "stdout",
     "output_type": "stream",
     "text": [
      " http://www.reuters.com/article/2014/04/21/bc-analystsreviewcom-idUSnPn9pn60L+81+PRN20140421\n",
      "'NoneType' object has no attribute 'text'"
     ]
    },
    {
     "name": "stdout",
     "output_type": "stream",
     "text": [
      " http://www.reuters.com/article/2014/04/21/bc-ie-idUSnPn6fr9wW+81+PRN20140421\n",
      "'NoneType' object has no attribute 'text'"
     ]
    },
    {
     "name": "stdout",
     "output_type": "stream",
     "text": [
      " http://www.reuters.com/article/2014/04/21/greyson-intl-canada-idUSnPn3Ht8KL+93+PRN20140421\n",
      "'NoneType' object has no attribute 'text'"
     ]
    },
    {
     "name": "stdout",
     "output_type": "stream",
     "text": [
      " http://www.reuters.com/article/2014/04/21/tx-alon-q1-cca-update-idUSnPn9D87vr+90+PRN20140421\n",
      "'NoneType' object has no attribute 'text'"
     ]
    },
    {
     "name": "stdout",
     "output_type": "stream",
     "text": [
      " http://www.reuters.com/article/2014/04/21/bc-ie-idUSnPnfMnhk+48+PRN20140421\n",
      "'NoneType' object has no attribute 'text'"
     ]
    },
    {
     "name": "stdout",
     "output_type": "stream",
     "text": [
      " http://www.reuters.com/article/2014/04/21/meal-gap-2014-study-idUSnPn30dFRq+86+PRN20140421\n",
      "'NoneType' object has no attribute 'text'"
     ]
    },
    {
     "name": "stdout",
     "output_type": "stream",
     "text": [
      " http://www.reuters.com/article/2014/04/21/bc-ie-idUSnPn7xRdmF+89+PRN20140421\n",
      "'NoneType' object has no attribute 'text'"
     ]
    },
    {
     "name": "stdout",
     "output_type": "stream",
     "text": [
      " http://www.reuters.com/article/2014/04/21/standard-media-index-idUSnPn2g9Lk3+84+PRN20140421\n",
      "'NoneType' object has no attribute 'text'"
     ]
    },
    {
     "name": "stdout",
     "output_type": "stream",
     "text": [
      " http://www.reuters.com/article/2014/04/21/upsher-smith-qudexy-idUSnPn7XjtL7+92+PRN20140421\n",
      "'NoneType' object has no attribute 'text'"
     ]
    },
    {
     "name": "stdout",
     "output_type": "stream",
     "text": [
      "\n",
      "'NoneType' object has no attribute 'text'"
     ]
    },
    {
     "name": "stdout",
     "output_type": "stream",
     "text": [
      " http://www.reuters.com/article/2014/04/22/429-records-idUSnPn9BdYrr+94+PRN20140422\n",
      "2014-04-21"
     ]
    },
    {
     "name": "stdout",
     "output_type": "stream",
     "text": [
      " http://www.reuters.com/article/2014/04/22/wa-zillow-inc-survey-idUSnPn6dnb4Z+81+PRN20140422\n",
      "'NoneType' object has no attribute 'text'"
     ]
    },
    {
     "name": "stdout",
     "output_type": "stream",
     "text": [
      " http://www.reuters.com/article/2014/04/22/general-dynamic-navy-idUSnPn8t0RGR+87+PRN20140422\n",
      "'NoneType' object has no attribute 'text'"
     ]
    },
    {
     "name": "stdout",
     "output_type": "stream",
     "text": [
      " http://www.reuters.com/article/2014/04/22/smmtstrtgccomm-agenda-idUSnPn9R1l06+90+PRN20140422\n",
      "'NoneType' object has no attribute 'text'"
     ]
    },
    {
     "name": "stdout",
     "output_type": "stream",
     "text": [
      " http://www.reuters.com/article/2014/04/22/bladex-1q14-results-idUSnPn2TdVk6+94+PRN20140422\n",
      "'NoneType' object has no attribute 'text'"
     ]
    },
    {
     "name": "stdout",
     "output_type": "stream",
     "text": [
      " http://www.reuters.com/article/2014/04/22/recycleacrossamerica-idUSnPn9S55wk+90+PRN20140422\n",
      "'NoneType' object has no attribute 'text'"
     ]
    },
    {
     "name": "stdout",
     "output_type": "stream",
     "text": [
      " http://www.reuters.com/article/2014/04/22/ny-petrochem-wire-idUSnPn88YzQB+8b+PRN20140422\n",
      "'NoneType' object has no attribute 'text'"
     ]
    },
    {
     "name": "stdout",
     "output_type": "stream",
     "text": [
      " http://www.reuters.com/article/2014/04/22/il-abbvie-fda-idUSnPn1spswM+81+PRN20140422\n",
      "'NoneType' object has no attribute 'text'"
     ]
    },
    {
     "name": "stdout",
     "output_type": "stream",
     "text": [
      " http://www.reuters.com/article/2014/04/22/usps-earthday-stamp-idUSnPnFnBT5+56+PRN20140422\n",
      "'NoneType' object has no attribute 'text'"
     ]
    },
    {
     "name": "stdout",
     "output_type": "stream",
     "text": [
      " http://www.reuters.com/article/2014/04/22/bc-analystsreviewcom-idUSnPn5C4bc2+90+PRN20140422\n",
      "'NoneType' object has no attribute 'text'"
     ]
    },
    {
     "name": "stdout",
     "output_type": "stream",
     "text": [
      " http://www.reuters.com/article/2014/04/22/or-businessvaluation-idUSnPn6Pp4wj+90+PRN20140422\n",
      "'NoneType' object has no attribute 'text'"
     ]
    },
    {
     "name": "stdout",
     "output_type": "stream",
     "text": [
      " http://www.reuters.com/article/2014/04/22/personhood-usa-idUSnPnbQrGZC+97+PRN20140422\n",
      "'NoneType' object has no attribute 'text'"
     ]
    },
    {
     "name": "stdout",
     "output_type": "stream",
     "text": [
      " http://www.reuters.com/article/2014/04/22/valeantallergan-merge-idUSnPn25dvHd+82+PRN20140422\n",
      "'NoneType' object has no attribute 'text'"
     ]
    },
    {
     "name": "stdout",
     "output_type": "stream",
     "text": [
      " http://www.reuters.com/article/2014/04/22/bnymellon-earnings-q-idUSnPn9x2d7J+81+PRN20140422\n",
      "'NoneType' object has no attribute 'text'"
     ]
    },
    {
     "name": "stdout",
     "output_type": "stream",
     "text": [
      " http://www.reuters.com/article/2014/04/22/bc-elbit-imaging-ltd-idUSnPn4W0qh2+90+PRN20140422\n",
      "'NoneType' object has no attribute 'text'"
     ]
    },
    {
     "name": "stdout",
     "output_type": "stream",
     "text": [
      "\n",
      "'NoneType' object has no attribute 'text'"
     ]
    },
    {
     "name": "stdout",
     "output_type": "stream",
     "text": [
      " http://www.reuters.com/article/2014/04/23/ny-marfrig-tender-idUSnPnqfVSz+46+PRN20140423\n",
      "2014-04-22"
     ]
    },
    {
     "name": "stdout",
     "output_type": "stream",
     "text": [
      " http://www.reuters.com/article/2014/04/23/dc-usnwr-stem-index-idUSnPn7k3cGx+82+PRN20140423\n",
      "'NoneType' object has no attribute 'text'"
     ]
    },
    {
     "name": "stdout",
     "output_type": "stream",
     "text": [
      " http://www.reuters.com/article/2014/04/23/consumerwatchdog-goog-idUSnPn4g73Rk+82+PRN20140423\n",
      "'NoneType' object has no attribute 'text'"
     ]
    },
    {
     "name": "stdout",
     "output_type": "stream",
     "text": [
      " http://www.reuters.com/article/2014/04/23/ny-organicave-grabgo-idUSnPnb1jX22+84+PRN20140423\n",
      "'NoneType' object has no attribute 'text'"
     ]
    },
    {
     "name": "stdout",
     "output_type": "stream",
     "text": [
      " http://www.reuters.com/article/2014/04/23/fl-logic-share-growth-idUSnPn2f0Y7J+85+PRN20140423\n",
      "'NoneType' object has no attribute 'text'"
     ]
    },
    {
     "name": "stdout",
     "output_type": "stream",
     "text": [
      " http://www.reuters.com/article/2014/04/23/fl-neogenomics-earns-idUSnPn5fJzK6+8a+PRN20140423\n",
      "'NoneType' object has no attribute 'text'"
     ]
    },
    {
     "name": "stdout",
     "output_type": "stream",
     "text": [
      " http://www.reuters.com/article/2014/04/23/latinocoalitionsummit-idUSnPn62fQBY+87+PRN20140423\n",
      "'NoneType' object has no attribute 'text'"
     ]
    },
    {
     "name": "stdout",
     "output_type": "stream",
     "text": [
      " http://www.reuters.com/article/2014/04/23/ma-tripbarometer-svy-idUSnPn9s4lsK+81+PRN20140423\n",
      "'NoneType' object has no attribute 'text'"
     ]
    },
    {
     "name": "stdout",
     "output_type": "stream",
     "text": [
      " http://www.reuters.com/article/2014/04/23/cwa-health-insurers-idUSnPndfy4g+40+PRN20140423\n",
      "'NoneType' object has no attribute 'text'"
     ]
    },
    {
     "name": "stdout",
     "output_type": "stream",
     "text": [
      " http://www.reuters.com/article/2014/04/23/va-gannett-earns-idUSnPn4k0jgy+80+PRN20140423\n",
      "'NoneType' object has no attribute 'text'"
     ]
    },
    {
     "name": "stdout",
     "output_type": "stream",
     "text": [
      " http://www.reuters.com/article/2014/04/23/ca-declara-idUSnPn2K529m+90+PRN20140423\n",
      "'NoneType' object has no attribute 'text'"
     ]
    },
    {
     "name": "stdout",
     "output_type": "stream",
     "text": [
      " http://www.reuters.com/article/2014/04/23/bc-analysts-review-idUSnPn5cYyXn+8a+PRN20140423\n",
      "'NoneType' object has no attribute 'text'"
     ]
    },
    {
     "name": "stdout",
     "output_type": "stream",
     "text": [
      " http://www.reuters.com/article/2014/04/23/bc-investor-edge-idUSnPn4yLWBw+8e+PRN20140423\n",
      "'NoneType' object has no attribute 'text'"
     ]
    },
    {
     "name": "stdout",
     "output_type": "stream",
     "text": [
      " http://www.reuters.com/article/2014/04/23/artba-report-bridges-idUSnPn7h04LS+83+PRN20140423\n",
      "'NoneType' object has no attribute 'text'"
     ]
    },
    {
     "name": "stdout",
     "output_type": "stream",
     "text": [
      " http://www.reuters.com/article/2014/04/23/ny-world-book-night-idUSnPn1Ht7M4+92+PRN20140423\n",
      "'NoneType' object has no attribute 'text'"
     ]
    },
    {
     "name": "stdout",
     "output_type": "stream",
     "text": [
      " http://www.reuters.com/article/2014/04/23/bc-earnings-source-idUSnPnvV2dj+48+PRN20140423\n",
      "'NoneType' object has no attribute 'text'"
     ]
    },
    {
     "name": "stdout",
     "output_type": "stream",
     "text": [
      " http://www.reuters.com/article/2014/04/23/orthoaccel-new-dental-idUSnPnbRPmfr+98+PRN20140423\n",
      "'NoneType' object has no attribute 'text'"
     ]
    },
    {
     "name": "stdout",
     "output_type": "stream",
     "text": [
      "\n",
      "'NoneType' object has no attribute 'text'"
     ]
    },
    {
     "name": "stdout",
     "output_type": "stream",
     "text": [
      " http://www.reuters.com/article/2014/04/24/mo-sial-q1-earnings-idUSnPn7Mtwm7+90+PRN20140424\n",
      "2014-04-23"
     ]
    },
    {
     "name": "stdout",
     "output_type": "stream",
     "text": [
      " http://www.reuters.com/article/2014/04/24/cms-energy-erns-idUSnPnS3pP5+52+PRN20140424\n",
      "'NoneType' object has no attribute 'text'"
     ]
    },
    {
     "name": "stdout",
     "output_type": "stream",
     "text": [
      " http://www.reuters.com/article/2014/04/24/oh-unitedbancorp-erns-idUSnPn6s4PKp+86+PRN20140424\n",
      "'NoneType' object has no attribute 'text'"
     ]
    },
    {
     "name": "stdout",
     "output_type": "stream",
     "text": [
      " http://www.reuters.com/article/2014/04/24/pgi-reports-earnings-idUSnPnbdQgGQ+8b+PRN20140424\n",
      "'NoneType' object has no attribute 'text'"
     ]
    },
    {
     "name": "stdout",
     "output_type": "stream",
     "text": [
      " http://www.reuters.com/article/2014/04/24/fl-landstar-earnings-idUSnPn7v8gx3+80+PRN20140424\n",
      "'NoneType' object has no attribute 'text'"
     ]
    },
    {
     "name": "stdout",
     "output_type": "stream",
     "text": [
      " http://www.reuters.com/article/2014/04/24/bncc-1q14-erns-idUSnPn2pwc2S+81+PRN20140424\n",
      "'NoneType' object has no attribute 'text'"
     ]
    },
    {
     "name": "stdout",
     "output_type": "stream",
     "text": [
      " http://www.reuters.com/article/2014/04/24/tx-att-digital-life-idUSnPn8Hsg4b+90+PRN20140424\n",
      "'NoneType' object has no attribute 'text'"
     ]
    },
    {
     "name": "stdout",
     "output_type": "stream",
     "text": [
      " http://www.reuters.com/article/2014/04/24/census-nonemployerbiz-idUSnPn4yxtNm+82+PRN20140424\n",
      "'NoneType' object has no attribute 'text'"
     ]
    },
    {
     "name": "stdout",
     "output_type": "stream",
     "text": [
      " http://www.reuters.com/article/2014/04/24/ny-ropesgray-elect-idUSnPnbt4VrK+85+PRN20140424\n",
      "'NoneType' object has no attribute 'text'"
     ]
    },
    {
     "name": "stdout",
     "output_type": "stream",
     "text": [
      " http://www.reuters.com/article/2014/04/24/herrick-cvs-property-idUSnPnrGgfs+48+PRN20140424\n",
      "'NoneType' object has no attribute 'text'"
     ]
    },
    {
     "name": "stdout",
     "output_type": "stream",
     "text": [
      " http://www.reuters.com/article/2014/04/24/nc-smart-power-award-idUSnPn2ND46j+98+PRN20140424\n",
      "'NoneType' object has no attribute 'text'"
     ]
    },
    {
     "name": "stdout",
     "output_type": "stream",
     "text": [
      " http://www.reuters.com/article/2014/04/24/pa-amrevmuseum-100m-idUSnPn8HvNl2+94+PRN20140424\n",
      "'NoneType' object has no attribute 'text'"
     ]
    },
    {
     "name": "stdout",
     "output_type": "stream",
     "text": [
      " http://www.reuters.com/article/2014/04/24/alliancedata-jdwillms-idUSnPn3btY9x+84+PRN20140424\n",
      "'NoneType' object has no attribute 'text'"
     ]
    },
    {
     "name": "stdout",
     "output_type": "stream",
     "text": [
      " http://www.reuters.com/article/2014/04/24/tds-us-cellular-idUSnPnbnZvHK+8b+PRN20140424\n",
      "'NoneType' object has no attribute 'text'"
     ]
    },
    {
     "name": "stdout",
     "output_type": "stream",
     "text": [
      " http://www.reuters.com/article/2014/04/24/pbs-us-cap-concert-idUSnPn8vg897+80+PRN20140424\n",
      "'NoneType' object has no attribute 'text'"
     ]
    },
    {
     "name": "stdout",
     "output_type": "stream",
     "text": [
      " http://www.reuters.com/article/2014/04/24/temin-greece-delegate-idUSnPn3dHD7T+8d+PRN20140424\n",
      "'NoneType' object has no attribute 'text'"
     ]
    },
    {
     "name": "stdout",
     "output_type": "stream",
     "text": [
      " http://www.reuters.com/article/2014/04/24/artba-analysis-idUSnPnnlQGR+47+PRN20140424\n",
      "'NoneType' object has no attribute 'text'"
     ]
    },
    {
     "name": "stdout",
     "output_type": "stream",
     "text": [
      " http://www.reuters.com/article/2014/04/24/chubb-corp-earnings-idUSnPnccDw3x+88+PRN20140424\n",
      "'NoneType' object has no attribute 'text'"
     ]
    },
    {
     "name": "stdout",
     "output_type": "stream",
     "text": [
      " http://www.reuters.com/article/2014/04/24/ca-wine-inst-sales-up-idUSnPn1VqBz2+94+PRN20140424\n",
      "'NoneType' object has no attribute 'text'"
     ]
    },
    {
     "name": "stdout",
     "output_type": "stream",
     "text": [
      " http://www.reuters.com/article/2014/04/24/ex-im-bank-hsbc-award-idUSnPn9DsS85+94+PRN20140424\n",
      "'NoneType' object has no attribute 'text'"
     ]
    },
    {
     "name": "stdout",
     "output_type": "stream",
     "text": [
      " http://www.reuters.com/article/2014/04/24/ca-vape-holdings-idUSnPn6WKwVV+9b+PRN20140424\n",
      "'NoneType' object has no attribute 'text'"
     ]
    },
    {
     "name": "stdout",
     "output_type": "stream",
     "text": [
      "\n",
      "'NoneType' object has no attribute 'text'"
     ]
    },
    {
     "name": "stdout",
     "output_type": "stream",
     "text": [
      " http://www.reuters.com/article/2014/04/25/cnhi-annualreport-idUSnPn8dq7Yc+82+PRN20140425\n",
      "2014-04-24"
     ]
    },
    {
     "name": "stdout",
     "output_type": "stream",
     "text": [
      " http://www.reuters.com/article/2014/04/25/tyco-earnings-idUSnPn160Q8C+85+PRN20140425\n",
      "'NoneType' object has no attribute 'text'"
     ]
    },
    {
     "name": "stdout",
     "output_type": "stream",
     "text": [
      " http://www.reuters.com/article/2014/04/25/jsl-q1-20114-earnings-idUSnPn8KkD05+94+PRN20140425\n",
      "'NoneType' object has no attribute 'text'"
     ]
    },
    {
     "name": "stdout",
     "output_type": "stream",
     "text": [
      " http://www.reuters.com/article/2014/04/25/bc-investor-edge-idUSnPn4dHYHk+8e+PRN20140425\n",
      "'NoneType' object has no attribute 'text'"
     ]
    },
    {
     "name": "stdout",
     "output_type": "stream",
     "text": [
      " http://www.reuters.com/article/2014/04/25/ca-truecar-aprilsales-idUSnPn1Hyrcj+90+PRN20140425\n",
      "'NoneType' object has no attribute 'text'"
     ]
    },
    {
     "name": "stdout",
     "output_type": "stream",
     "text": [
      " http://www.reuters.com/article/2014/04/25/xl-group-dividend-idUSnPn4qLj6b+88+PRN20140425\n",
      "'NoneType' object has no attribute 'text'"
     ]
    },
    {
     "name": "stdout",
     "output_type": "stream",
     "text": [
      " http://www.reuters.com/article/2014/04/25/bc-earnings-source-idUSnPn759SjH+85+PRN20140425\n",
      "'NoneType' object has no attribute 'text'"
     ]
    },
    {
     "name": "stdout",
     "output_type": "stream",
     "text": [
      " http://www.reuters.com/article/2014/04/25/gsa-solar-project-idUSnPn4MvQkl+94+PRN20140425\n",
      "'NoneType' object has no attribute 'text'"
     ]
    },
    {
     "name": "stdout",
     "output_type": "stream",
     "text": [
      " http://www.reuters.com/article/2014/04/25/bc-analysts-review-idUSnPnb9GnSL+8b+PRN20140425\n",
      "'NoneType' object has no attribute 'text'"
     ]
    },
    {
     "name": "stdout",
     "output_type": "stream",
     "text": [
      " http://www.reuters.com/article/2014/04/25/bny-hoey-fiscal-drag-idUSnPn50FZmT+8d+PRN20140425\n",
      "'NoneType' object has no attribute 'text'"
     ]
    },
    {
     "name": "stdout",
     "output_type": "stream",
     "text": [
      " http://www.reuters.com/article/2014/04/25/bc-investor-edge-idUSnPn7V8Nl7+94+PRN20140425\n",
      "'NoneType' object has no attribute 'text'"
     ]
    },
    {
     "name": "stdout",
     "output_type": "stream",
     "text": [
      "\n",
      "'NoneType' object has no attribute 'text'"
     ]
    },
    {
     "name": "stdout",
     "output_type": "stream",
     "text": [
      " http://www.reuters.com/article/2014/04/26/census-daily-feature-idUSnPn8xj8zv+80+PRN20140426\n",
      "2014-04-25"
     ]
    },
    {
     "name": "stdout",
     "output_type": "stream",
     "text": [
      " http://www.reuters.com/article/2014/04/26/ca-reel-film-fest-idUSnPn4DY1mP+99+PRN20140426\n",
      "'NoneType' object has no attribute 'text'"
     ]
    },
    {
     "name": "stdout",
     "output_type": "stream",
     "text": [
      " http://www.reuters.com/article/2014/04/26/centurion-condo-impei-idUSnPn2P2cyW+91+PRN20140426\n",
      "'NoneType' object has no attribute 'text'"
     ]
    },
    {
     "name": "stdout",
     "output_type": "stream",
     "text": [
      " http://www.reuters.com/article/2014/04/26/nh-comcast-cares-day-idUSnPn3c1K1t+84+PRN20140426\n",
      "'NoneType' object has no attribute 'text'"
     ]
    },
    {
     "name": "stdout",
     "output_type": "stream",
     "text": [
      " http://www.reuters.com/article/2014/04/26/comcast-cares-chicago-idUSnPn1yp7R5+82+PRN20140426\n",
      "'NoneType' object has no attribute 'text'"
     ]
    },
    {
     "name": "stdout",
     "output_type": "stream",
     "text": [
      " http://www.reuters.com/article/2014/04/26/asaps-injectable-drug-idUSnPn2PjG1p+94+PRN20140426\n",
      "'NoneType' object has no attribute 'text'"
     ]
    },
    {
     "name": "stdout",
     "output_type": "stream",
     "text": [
      "\n",
      "'NoneType' object has no attribute 'text'"
     ]
    },
    {
     "name": "stdout",
     "output_type": "stream",
     "text": [
      " http://www.reuters.com/article/2014/04/27/aserf-president-aly-idUSnPn2pJdn6+88+PRN20140427\n",
      "2014-04-26"
     ]
    },
    {
     "name": "stdout",
     "output_type": "stream",
     "text": [
      " http://www.reuters.com/article/2014/04/27/henry-repeating-arms-idUSnPnJsxzr+50+PRN20140427\n",
      "'NoneType' object has no attribute 'text'"
     ]
    },
    {
     "name": "stdout",
     "output_type": "stream",
     "text": [
      "\n",
      "'NoneType' object has no attribute 'text'"
     ]
    },
    {
     "name": "stdout",
     "output_type": "stream",
     "text": [
      " http://www.reuters.com/article/2014/04/28/ma-haemonetics-ern-idUSnPn4tZszp+88+PRN20140428\n",
      "2014-04-27"
     ]
    },
    {
     "name": "stdout",
     "output_type": "stream",
     "text": [
      " http://www.reuters.com/article/2014/04/28/amercapitalagencyerns-idUSnPn7twlvN+81+PRN20140428\n",
      "'NoneType' object has no attribute 'text'"
     ]
    },
    {
     "name": "stdout",
     "output_type": "stream",
     "text": [
      " http://www.reuters.com/article/2014/04/28/ut-insidesales100mil-idUSnPn7Q8kRm+92+PRN20140428\n",
      "'NoneType' object has no attribute 'text'"
     ]
    },
    {
     "name": "stdout",
     "output_type": "stream",
     "text": [
      " http://www.reuters.com/article/2014/04/28/bc-cannabusiness-group-idUSnPnbntgKC+83+PRN20140428\n",
      "'NoneType' object has no attribute 'text'"
     ]
    },
    {
     "name": "stdout",
     "output_type": "stream",
     "text": [
      " http://www.reuters.com/article/2014/04/28/bc-investor-edge-idUSnPn1s2tJ9+82+PRN20140428\n",
      "'NoneType' object has no attribute 'text'"
     ]
    },
    {
     "name": "stdout",
     "output_type": "stream",
     "text": [
      " http://www.reuters.com/article/2014/04/28/meetingsquestrelaunch-idUSnPn7kLT6n+8c+PRN20140428\n",
      "'NoneType' object has no attribute 'text'"
     ]
    },
    {
     "name": "stdout",
     "output_type": "stream",
     "text": [
      " http://www.reuters.com/article/2014/04/28/mo-dst-rolls-out-idUSnPn986yjV+81+PRN20140428\n",
      "'NoneType' object has no attribute 'text'"
     ]
    },
    {
     "name": "stdout",
     "output_type": "stream",
     "text": [
      " http://www.reuters.com/article/2014/04/28/gendyn-18b-con-navy-idUSnPn5g0j8B+81+PRN20140428\n",
      "'NoneType' object has no attribute 'text'"
     ]
    },
    {
     "name": "stdout",
     "output_type": "stream",
     "text": [
      " http://www.reuters.com/article/2014/04/28/phi-beta-sigma-usfws-idUSnPn9R8GsT+95+PRN20140428\n",
      "'NoneType' object has no attribute 'text'"
     ]
    },
    {
     "name": "stdout",
     "output_type": "stream",
     "text": [
      " http://www.reuters.com/article/2014/04/28/levikorsinsky-usak-idUSnPn1QLzSn+9a+PRN20140428\n",
      "'NoneType' object has no attribute 'text'"
     ]
    },
    {
     "name": "stdout",
     "output_type": "stream",
     "text": [
      " http://www.reuters.com/article/2014/04/28/gol-linhas-aereas-idUSnPn1SHphp+98+PRN20140428\n",
      "'NoneType' object has no attribute 'text'"
     ]
    },
    {
     "name": "stdout",
     "output_type": "stream",
     "text": [
      "\n",
      "'NoneType' object has no attribute 'text'"
     ]
    },
    {
     "name": "stdout",
     "output_type": "stream",
     "text": [
      " http://www.reuters.com/article/2014/04/29/pa-consol-earns-idUSnPn65HvTl+8a+PRN20140429\n",
      "2014-04-28"
     ]
    },
    {
     "name": "stdout",
     "output_type": "stream",
     "text": [
      " http://www.reuters.com/article/2014/04/30/braskem-finance-offer-idUSnPn4z3R1z+84+PRN20140430\n",
      "'NoneType' object has no attribute 'text'"
     ]
    },
    {
     "name": "stdout",
     "output_type": "stream",
     "text": [
      " http://www.reuters.com/article/2014/04/29/interior-redecorators-idUSnPn3yCyx3+88+PRN20140429\n",
      "'NoneType' object has no attribute 'text'"
     ]
    },
    {
     "name": "stdout",
     "output_type": "stream",
     "text": [
      " http://www.reuters.com/article/2014/04/29/ca-experian-city-debt-idUSnPn4f8yzT+81+PRN20140429\n",
      "'NoneType' object has no attribute 'text'"
     ]
    },
    {
     "name": "stdout",
     "output_type": "stream",
     "text": [
      " http://www.reuters.com/article/2014/04/29/tx-mrc-conocophillips-idUSnPn6Xv6Yy+92+PRN20140429\n",
      "'NoneType' object has no attribute 'text'"
     ]
    },
    {
     "name": "stdout",
     "output_type": "stream",
     "text": [
      " http://www.reuters.com/article/2014/04/29/bc-investor-edge-idUSnPnbNvkh9+90+PRN20140429\n",
      "'NoneType' object has no attribute 'text'"
     ]
    },
    {
     "name": "stdout",
     "output_type": "stream",
     "text": [
      " http://www.reuters.com/article/2014/04/29/bc-i-idUSnPn9fzL96+84+PRN20140429\n",
      "'NoneType' object has no attribute 'text'"
     ]
    },
    {
     "name": "stdout",
     "output_type": "stream",
     "text": [
      " http://www.reuters.com/article/2014/04/29/yosen-contract-us-idUSnPn8Wxv3L+91+PRN20140429\n",
      "'NoneType' object has no attribute 'text'"
     ]
    },
    {
     "name": "stdout",
     "output_type": "stream",
     "text": [
      " http://www.reuters.com/article/2014/04/29/gatestoneenergypolicy-idUSnPn7vmTd7+84+PRN20140429\n",
      "'NoneType' object has no attribute 'text'"
     ]
    },
    {
     "name": "stdout",
     "output_type": "stream",
     "text": [
      " http://www.reuters.com/article/2014/04/29/mr-files-form-20-f-idUSnPn31G1X0+8a+PRN20140429\n",
      "'NoneType' object has no attribute 'text'"
     ]
    },
    {
     "name": "stdout",
     "output_type": "stream",
     "text": [
      " http://www.reuters.com/article/2014/04/29/ma-hanover-earnings-idUSnPn6bmYCg+86+PRN20140429\n",
      "'NoneType' object has no attribute 'text'"
     ]
    },
    {
     "name": "stdout",
     "output_type": "stream",
     "text": [
      " http://www.reuters.com/article/2014/04/29/ny-sky-blu-party-pres-idUSnPn6ms0Wy+82+PRN20140429\n",
      "'NoneType' object has no attribute 'text'"
     ]
    },
    {
     "name": "stdout",
     "output_type": "stream",
     "text": [
      " http://www.reuters.com/article/2014/04/29/ny-uah-housing-market-idUSnPn27fsmf+80+PRN20140429\n",
      "'NoneType' object has no attribute 'text'"
     ]
    },
    {
     "name": "stdout",
     "output_type": "stream",
     "text": [
      " http://www.reuters.com/article/2014/04/29/ma-decisionresources-idUSnPnbPkn90+90+PRN20140429\n",
      "'NoneType' object has no attribute 'text'"
     ]
    },
    {
     "name": "stdout",
     "output_type": "stream",
     "text": [
      "\n",
      "'NoneType' object has no attribute 'text'"
     ]
    },
    {
     "name": "stdout",
     "output_type": "stream",
     "text": [
      " http://www.reuters.com/article/2014/04/30/enr-2q-2014-results-idUSnPn1Qt5Px+92+PRN20140430\n",
      "2014-04-29"
     ]
    },
    {
     "name": "stdout",
     "output_type": "stream",
     "text": [
      " http://www.reuters.com/article/2014/04/30/worldassurancegroup-idUSnPn9Lsgxk+90+PRN20140430\n",
      "'NoneType' object has no attribute 'text'"
     ]
    },
    {
     "name": "stdout",
     "output_type": "stream",
     "text": [
      " http://www.reuters.com/article/2014/04/30/ca-med-industry-funds-idUSnPn6zNqYr+8a+PRN20140430\n",
      "'NoneType' object has no attribute 'text'"
     ]
    },
    {
     "name": "stdout",
     "output_type": "stream",
     "text": [
      " http://www.reuters.com/article/2014/04/30/bc-investor-edge-idUSnPnbpN8sv+88+PRN20140430\n",
      "'NoneType' object has no attribute 'text'"
     ]
    },
    {
     "name": "stdout",
     "output_type": "stream",
     "text": [
      " http://www.reuters.com/article/2014/04/30/ca-wdc-earnings-idUSnPn7Yxtd+48+PRN20140430\n",
      "'NoneType' object has no attribute 'text'"
     ]
    },
    {
     "name": "stdout",
     "output_type": "stream",
     "text": [
      " http://www.reuters.com/article/2014/04/30/siliconware-precision-idUSnPn8Nkvc6+90+PRN20140430\n",
      "'NoneType' object has no attribute 'text'"
     ]
    },
    {
     "name": "stdout",
     "output_type": "stream",
     "text": [
      " http://www.reuters.com/article/2014/04/30/pwc-oil-gas-analysis-idUSnPn11HqwW+89+PRN20140430\n",
      "'NoneType' object has no attribute 'text'"
     ]
    },
    {
     "name": "stdout",
     "output_type": "stream",
     "text": [
      " http://www.reuters.com/article/2014/04/30/va-mars-inc-wind-farm-idUSnPn94bqrh+80+PRN20140430\n",
      "'NoneType' object has no attribute 'text'"
     ]
    },
    {
     "name": "stdout",
     "output_type": "stream",
     "text": [
      " http://www.reuters.com/article/2014/04/30/amercapitalmort-erns-idUSnPn8ffFWL+87+PRN20140430\n",
      "'NoneType' object has no attribute 'text'"
     ]
    },
    {
     "name": "stdout",
     "output_type": "stream",
     "text": [
      " http://www.reuters.com/article/2014/04/30/bc-analysts-idUSnPn6JMjx+4c+PRN20140430\n",
      "'NoneType' object has no attribute 'text'"
     ]
    },
    {
     "name": "stdout",
     "output_type": "stream",
     "text": [
      " http://www.reuters.com/article/2014/04/30/fidelitynatlfin-erns-idUSnPn42pk0L+81+PRN20140430\n",
      "'NoneType' object has no attribute 'text'"
     ]
    },
    {
     "name": "stdout",
     "output_type": "stream",
     "text": [
      " http://www.reuters.com/article/2014/04/30/ga-ucb-study-results-idUSnPnlxw7x+40+PRN20140430\n",
      "'NoneType' object has no attribute 'text'"
     ]
    },
    {
     "name": "stdout",
     "output_type": "stream",
     "text": [
      "\n",
      "'NoneType' object has no attribute 'text'"
     ]
    },
    {
     "name": "stdout",
     "output_type": "stream",
     "text": [
      " http://www.reuters.com/article/2014/05/01/santander-q1-earnings-idUSnPn2shFBJ+87+PRN20140501\n",
      "2014-04-30"
     ]
    },
    {
     "name": "stdout",
     "output_type": "stream",
     "text": [
      " http://www.reuters.com/article/2014/05/01/nj-covance-earnings-idUSnPn2RlHrn+94+PRN20140501\n",
      "'NoneType' object has no attribute 'text'"
     ]
    },
    {
     "name": "stdout",
     "output_type": "stream",
     "text": [
      " http://www.reuters.com/article/2014/05/01/borgwarner-q1-earns-idUSnPn4n6P02+84+PRN20140501\n",
      "'NoneType' object has no attribute 'text'"
     ]
    },
    {
     "name": "stdout",
     "output_type": "stream",
     "text": [
      " http://www.reuters.com/article/2014/05/01/savor-tix-on-sale-idUSnPn1V0Lg7+94+PRN20140501\n",
      "'NoneType' object has no attribute 'text'"
     ]
    },
    {
     "name": "stdout",
     "output_type": "stream",
     "text": [
      " http://www.reuters.com/article/2014/05/01/ca-nektartherapeutics-idUSnPn3fKQp+46+PRN20140501\n",
      "'NoneType' object has no attribute 'text'"
     ]
    },
    {
     "name": "stdout",
     "output_type": "stream",
     "text": [
      " http://www.reuters.com/article/2014/05/01/top-leed-countries-idUSnPn70sxpH+81+PRN20140501\n",
      "'NoneType' object has no attribute 'text'"
     ]
    },
    {
     "name": "stdout",
     "output_type": "stream",
     "text": [
      " http://www.reuters.com/article/2014/05/01/ultra-petroleum-ern-idUSnPn366D5b+84+PRN20140501\n",
      "'NoneType' object has no attribute 'text'"
     ]
    },
    {
     "name": "stdout",
     "output_type": "stream",
     "text": [
      " http://www.reuters.com/article/2014/05/01/manulife-1q14-results-idUSnPn8nvfPN+83+PRN20140501\n",
      "'NoneType' object has no attribute 'text'"
     ]
    },
    {
     "name": "stdout",
     "output_type": "stream",
     "text": [
      " http://www.reuters.com/article/2014/05/01/wa-worldfirst-expands-idUSnPn3Yrsdy+90+PRN20140501\n",
      "'NoneType' object has no attribute 'text'"
     ]
    },
    {
     "name": "stdout",
     "output_type": "stream",
     "text": [
      " http://www.reuters.com/article/2014/05/01/ma-decision-resources-idUSnPnZjqqz+50+PRN20140501\n",
      "'NoneType' object has no attribute 'text'"
     ]
    },
    {
     "name": "stdout",
     "output_type": "stream",
     "text": [
      " http://www.reuters.com/article/2014/05/01/bc-a-idUSnPn1yBYWM+8f+PRN20140501\n",
      "'NoneType' object has no attribute 'text'"
     ]
    },
    {
     "name": "stdout",
     "output_type": "stream",
     "text": [
      " http://www.reuters.com/article/2014/05/01/dna-precious-metals-idUSnPn2twr87+80+PRN20140501\n",
      "'NoneType' object has no attribute 'text'"
     ]
    },
    {
     "name": "stdout",
     "output_type": "stream",
     "text": [
      " http://www.reuters.com/article/2014/05/01/randstad-jobs-poll-idUSnPn4JJQzH+9d+PRN20140501\n",
      "'NoneType' object has no attribute 'text'"
     ]
    },
    {
     "name": "stdout",
     "output_type": "stream",
     "text": [
      " http://www.reuters.com/article/2014/05/01/bc-investor-edge-idUSnPn8J9f0s+90+PRN20140501\n",
      "'NoneType' object has no attribute 'text'"
     ]
    },
    {
     "name": "stdout",
     "output_type": "stream",
     "text": [
      " http://www.reuters.com/article/2014/05/01/chrysler-sales-report-idUSnPn1bny2+40+PRN20140501\n",
      "'NoneType' object has no attribute 'text'"
     ]
    },
    {
     "name": "stdout",
     "output_type": "stream",
     "text": [
      " http://www.reuters.com/article/2014/05/01/whsr-new-academy-idUSnPnpl6vp+40+PRN20140501\n",
      "'NoneType' object has no attribute 'text'"
     ]
    },
    {
     "name": "stdout",
     "output_type": "stream",
     "text": [
      " http://www.reuters.com/article/2014/05/01/kia-motors-aprilsales-idUSnPn6mfstN+81+PRN20140501\n",
      "'NoneType' object has no attribute 'text'"
     ]
    },
    {
     "name": "stdout",
     "output_type": "stream",
     "text": [
      "\n",
      "'NoneType' object has no attribute 'text'"
     ]
    },
    {
     "name": "stdout",
     "output_type": "stream",
     "text": [
      " http://www.reuters.com/article/2014/05/02/kn-sprint-framily-idUSnPn1yYhjY+89+PRN20140502\n",
      "2014-05-01"
     ]
    },
    {
     "name": "stdout",
     "output_type": "stream",
     "text": [
      " http://www.reuters.com/article/2014/05/03/chicagoschoolpsy-awrd-idUSnPnc8RWwd+8c+PRN20140503\n",
      "'NoneType' object has no attribute 'text'"
     ]
    },
    {
     "name": "stdout",
     "output_type": "stream",
     "text": [
      " http://www.reuters.com/article/2014/05/02/spiritaero-earnings-idUSnPn5qyy89+80+PRN20140502\n",
      "'NoneType' object has no attribute 'text'"
     ]
    },
    {
     "name": "stdout",
     "output_type": "stream",
     "text": [
      " http://www.reuters.com/article/2014/05/02/tds-us-cellular-idUSnPn6DWTr1+9c+PRN20140502\n",
      "'NoneType' object has no attribute 'text'"
     ]
    },
    {
     "name": "stdout",
     "output_type": "stream",
     "text": [
      " http://www.reuters.com/article/2014/05/02/mood-media-loan-idUSnPn1vWkbx+88+PRN20140502\n",
      "'NoneType' object has no attribute 'text'"
     ]
    },
    {
     "name": "stdout",
     "output_type": "stream",
     "text": [
      " http://www.reuters.com/article/2014/05/02/ny-hitn-tv-gutierrez-idUSnPn6n6b1F+81+PRN20140502\n",
      "'NoneType' object has no attribute 'text'"
     ]
    },
    {
     "name": "stdout",
     "output_type": "stream",
     "text": [
      " http://www.reuters.com/article/2014/05/02/confer-board-comment-idUSnPn6sDb0+44+PRN20140502\n",
      "'NoneType' object has no attribute 'text'"
     ]
    },
    {
     "name": "stdout",
     "output_type": "stream",
     "text": [
      " http://www.reuters.com/article/2014/05/02/canadian-solar-loan-idUSnPn4LGR65+9c+PRN20140502\n",
      "'NoneType' object has no attribute 'text'"
     ]
    },
    {
     "name": "stdout",
     "output_type": "stream",
     "text": [
      " http://www.reuters.com/article/2014/05/02/aafa-stlouis-allergy-idUSnPn5vKgfV+89+PRN20140502\n",
      "'NoneType' object has no attribute 'text'"
     ]
    },
    {
     "name": "stdout",
     "output_type": "stream",
     "text": [
      " http://www.reuters.com/article/2014/05/02/bc-analysts-review-idUSnPn6ppMT4+86+PRN20140502\n",
      "'NoneType' object has no attribute 'text'"
     ]
    },
    {
     "name": "stdout",
     "output_type": "stream",
     "text": [
      " http://www.reuters.com/article/2014/05/02/bc-investor-edge-idUSnPn2YrQxs+94+PRN20140502\n",
      "'NoneType' object has no attribute 'text'"
     ]
    },
    {
     "name": "stdout",
     "output_type": "stream",
     "text": [
      "\n",
      "'NoneType' object has no attribute 'text'"
     ]
    },
    {
     "name": "stdout",
     "output_type": "stream",
     "text": [
      " http://www.reuters.com/article/2014/05/03/jdrf-study-comments-idUSnPn6gdNdL+85+PRN20140503\n",
      "2014-05-02"
     ]
    },
    {
     "name": "stdout",
     "output_type": "stream",
     "text": [
      " http://www.reuters.com/article/2014/05/03/census-daily-feature-idUSnPnxWk1Q+49+PRN20140503\n",
      "'NoneType' object has no attribute 'text'"
     ]
    },
    {
     "name": "stdout",
     "output_type": "stream",
     "text": [
      " http://www.reuters.com/article/2014/05/03/ny-lupusfoundation-idUSnPn9PXCWH+9f+PRN20140503\n",
      "'NoneType' object has no attribute 'text'"
     ]
    },
    {
     "name": "stdout",
     "output_type": "stream",
     "text": [
      " http://www.reuters.com/article/2014/05/03/il-united-on-oberstar-idUSnPn7R9mtt+90+PRN20140503\n",
      "'NoneType' object has no attribute 'text'"
     ]
    },
    {
     "name": "stdout",
     "output_type": "stream",
     "text": [
      " http://www.reuters.com/article/2014/05/03/csid-tunisiademocracy-idUSnPn9bqPxz+84+PRN20140503\n",
      "'NoneType' object has no attribute 'text'"
     ]
    },
    {
     "name": "stdout",
     "output_type": "stream",
     "text": [
      "\n",
      "'NoneType' object has no attribute 'text'"
     ]
    },
    {
     "name": "stdout",
     "output_type": "stream",
     "text": [
      " http://www.reuters.com/article/2014/05/04/census-daily-feature-idUSnPn2SRtbF+99+PRN20140504\n",
      "2014-05-03"
     ]
    },
    {
     "name": "stdout",
     "output_type": "stream",
     "text": [
      " http://www.reuters.com/article/2014/05/04/nh-ektron-synergy-idUSnPn8jPYZj+8e+PRN20140504\n",
      "'NoneType' object has no attribute 'text'"
     ]
    },
    {
     "name": "stdout",
     "output_type": "stream",
     "text": [
      "\n",
      "'NoneType' object has no attribute 'text'"
     ]
    },
    {
     "name": "stdout",
     "output_type": "stream",
     "text": [
      " http://www.reuters.com/article/2014/05/05/ani-pharm-earnings-idUSnPn52D1M2+8a+PRN20140505\n",
      "2014-05-04"
     ]
    },
    {
     "name": "stdout",
     "output_type": "stream",
     "text": [
      " http://www.reuters.com/article/2014/05/05/ny-kinex-pharma-fda-idUSnPnb9N3fb+88+PRN20140505\n",
      "'NoneType' object has no attribute 'text'"
     ]
    },
    {
     "name": "stdout",
     "output_type": "stream",
     "text": [
      " http://www.reuters.com/article/2014/05/05/ca-seedsofchangeaward-idUSnPnbc644z+80+PRN20140505\n",
      "'NoneType' object has no attribute 'text'"
     ]
    },
    {
     "name": "stdout",
     "output_type": "stream",
     "text": [
      " http://www.reuters.com/article/2014/05/05/lockheed-martin-con-idUSnPn1kzj8y+80+PRN20140505\n",
      "'NoneType' object has no attribute 'text'"
     ]
    },
    {
     "name": "stdout",
     "output_type": "stream",
     "text": [
      " http://www.reuters.com/article/2014/05/05/us-postal-service-idUSnPnbjjMxT+85+PRN20140505\n",
      "'NoneType' object has no attribute 'text'"
     ]
    },
    {
     "name": "stdout",
     "output_type": "stream",
     "text": [
      " http://www.reuters.com/article/2014/05/05/savethechild-mothers-idUSnPncgQGgZ+8d+PRN20140505\n",
      "'NoneType' object has no attribute 'text'"
     ]
    },
    {
     "name": "stdout",
     "output_type": "stream",
     "text": [
      " http://www.reuters.com/article/2014/05/05/liberty-scotus-prayer-idUSnPn4Jh9Pr+92+PRN20140505\n",
      "'NoneType' object has no attribute 'text'"
     ]
    },
    {
     "name": "stdout",
     "output_type": "stream",
     "text": [
      " http://www.reuters.com/article/2014/05/05/md-american-capital-idUSnPn7DHkF3+9a+PRN20140505\n",
      "'NoneType' object has no attribute 'text'"
     ]
    },
    {
     "name": "stdout",
     "output_type": "stream",
     "text": [
      " http://www.reuters.com/article/2014/05/05/personhood-pelletiers-idUSnPn5N23Kw+92+PRN20140505\n",
      "'NoneType' object has no attribute 'text'"
     ]
    },
    {
     "name": "stdout",
     "output_type": "stream",
     "text": [
      " http://www.reuters.com/article/2014/05/05/umec-acquires-biz-idUSnPn3GPbJk+9a+PRN20140505\n",
      "'NoneType' object has no attribute 'text'"
     ]
    },
    {
     "name": "stdout",
     "output_type": "stream",
     "text": [
      " http://www.reuters.com/article/2014/05/05/manulife-asset-mgmt-idUSnPn4CpLmX+95+PRN20140505\n",
      "'NoneType' object has no attribute 'text'"
     ]
    },
    {
     "name": "stdout",
     "output_type": "stream",
     "text": [
      " http://www.reuters.com/article/2014/05/05/thecommsapp-theirapp-idUSnPn2p5JTZ+87+PRN20140505\n",
      "'NoneType' object has no attribute 'text'"
     ]
    },
    {
     "name": "stdout",
     "output_type": "stream",
     "text": [
      "\n",
      "'NoneType' object has no attribute 'text'"
     ]
    },
    {
     "name": "stdout",
     "output_type": "stream",
     "text": [
      " http://www.reuters.com/article/2014/05/06/tx-alonusa-conference-idUSnPn1bNjDv+8a+PRN20140506\n",
      "2014-05-05"
     ]
    },
    {
     "name": "stdout",
     "output_type": "stream",
     "text": [
      " http://www.reuters.com/article/2014/05/06/versarinc-contracts-idUSnPn87B4Wz+8a+PRN20140506\n",
      "'NoneType' object has no attribute 'text'"
     ]
    },
    {
     "name": "stdout",
     "output_type": "stream",
     "text": [
      " http://www.reuters.com/article/2014/05/06/ga-usaliquidnicotine-idUSnPn8DFdLc+9a+PRN20140506\n",
      "'NoneType' object has no attribute 'text'"
     ]
    },
    {
     "name": "stdout",
     "output_type": "stream",
     "text": [
      " http://www.reuters.com/article/2014/05/06/ny-bank-leumi-appoint-idUSnPnc7Vk6x+88+PRN20140506\n",
      "'NoneType' object has no attribute 'text'"
     ]
    },
    {
     "name": "stdout",
     "output_type": "stream",
     "text": [
      " http://www.reuters.com/article/2014/05/06/amercapital-new-fund-idUSnPn1zSqV4+8a+PRN20140506\n",
      "'NoneType' object has no attribute 'text'"
     ]
    },
    {
     "name": "stdout",
     "output_type": "stream",
     "text": [
      " http://www.reuters.com/article/2014/05/06/itc-global-q1-erns-idUSnPndSm6N+49+PRN20140506\n",
      "'NoneType' object has no attribute 'text'"
     ]
    },
    {
     "name": "stdout",
     "output_type": "stream",
     "text": [
      " http://www.reuters.com/article/2014/05/06/ca-nurse-rally-kaiser-idUSnPn5Tsf9j+90+PRN20140506\n",
      "'NoneType' object has no attribute 'text'"
     ]
    },
    {
     "name": "stdout",
     "output_type": "stream",
     "text": [
      " http://www.reuters.com/article/2014/05/06/va-the-launch-place-idUSnPn8SLmDx+9a+PRN20140506\n",
      "'NoneType' object has no attribute 'text'"
     ]
    },
    {
     "name": "stdout",
     "output_type": "stream",
     "text": [
      " http://www.reuters.com/article/2014/05/06/bela-flor-communities-idUSnPn7fyFyb+84+PRN20140506\n",
      "'NoneType' object has no attribute 'text'"
     ]
    },
    {
     "name": "stdout",
     "output_type": "stream",
     "text": [
      " http://www.reuters.com/article/2014/05/06/ex-im-us-export-march-idUSnPn6FGMnq+9c+PRN20140506\n",
      "'NoneType' object has no attribute 'text'"
     ]
    },
    {
     "name": "stdout",
     "output_type": "stream",
     "text": [
      " http://www.reuters.com/article/2014/05/06/co-ballaerousaftech-idUSnPnt2XFg+46+PRN20140506\n",
      "'NoneType' object has no attribute 'text'"
     ]
    },
    {
     "name": "stdout",
     "output_type": "stream",
     "text": [
      " http://www.reuters.com/article/2014/05/07/mi-talmer-bancorp-ern-idUSnPn8rTC5R+8d+PRN20140507\n",
      "'NoneType' object has no attribute 'text'"
     ]
    },
    {
     "name": "stdout",
     "output_type": "stream",
     "text": [
      " http://www.reuters.com/article/2014/05/06/aacc-examine-new-law-idUSnPn29tG1g+84+PRN20140506\n",
      "'NoneType' object has no attribute 'text'"
     ]
    },
    {
     "name": "stdout",
     "output_type": "stream",
     "text": [
      " http://www.reuters.com/article/2014/05/06/catholicvoicesusa-un-idUSnPn1LcCpV+95+PRN20140506\n",
      "'NoneType' object has no attribute 'text'"
     ]
    },
    {
     "name": "stdout",
     "output_type": "stream",
     "text": [
      " http://www.reuters.com/article/2014/05/06/o2-media-syndication-idUSnPn5Yynxb+90+PRN20140506\n",
      "'NoneType' object has no attribute 'text'"
     ]
    },
    {
     "name": "stdout",
     "output_type": "stream",
     "text": [
      "\n",
      "'NoneType' object has no attribute 'text'"
     ]
    },
    {
     "name": "stdout",
     "output_type": "stream",
     "text": [
      " http://www.reuters.com/article/2014/05/07/magicsoftware1q-earns-idUSnPn9c2THQ+87+PRN20140507\n",
      "2014-05-06"
     ]
    },
    {
     "name": "stdout",
     "output_type": "stream",
     "text": [
      " http://www.reuters.com/article/2014/05/07/american-capitalearns-idUSnPn5F4GbC+95+PRN20140507\n",
      "'NoneType' object has no attribute 'text'"
     ]
    },
    {
     "name": "stdout",
     "output_type": "stream",
     "text": [
      " http://www.reuters.com/article/2014/05/07/cpa-reports-1q-idUSnPn46wHnR+85+PRN20140507\n",
      "'NoneType' object has no attribute 'text'"
     ]
    },
    {
     "name": "stdout",
     "output_type": "stream",
     "text": [
      " http://www.reuters.com/article/2014/05/07/futureuskorea-honors-idUSnPn7jV6Tp+8a+PRN20140507\n",
      "'NoneType' object has no attribute 'text'"
     ]
    },
    {
     "name": "stdout",
     "output_type": "stream",
     "text": [
      " http://www.reuters.com/article/2014/05/07/nj-janssen-announces-idUSnPn6W9knl+90+PRN20140507\n",
      "'NoneType' object has no attribute 'text'"
     ]
    },
    {
     "name": "stdout",
     "output_type": "stream",
     "text": [
      " http://www.reuters.com/article/2014/05/07/independenc-led-award-idUSnPn9g02lQ+81+PRN20140507\n",
      "'NoneType' object has no attribute 'text'"
     ]
    },
    {
     "name": "stdout",
     "output_type": "stream",
     "text": [
      " http://www.reuters.com/article/2014/05/07/bc-investor-edge-idUSnPn47sFXG+87+PRN20140507\n",
      "'NoneType' object has no attribute 'text'"
     ]
    },
    {
     "name": "stdout",
     "output_type": "stream",
     "text": [
      " http://www.reuters.com/article/2014/05/07/fl-threattracksecurit-idUSnPn7Bmf9M+91+PRN20140507\n",
      "'NoneType' object has no attribute 'text'"
     ]
    },
    {
     "name": "stdout",
     "output_type": "stream",
     "text": [
      " http://www.reuters.com/article/2014/05/07/china-green-update-idUSnPn28qT2q+84+PRN20140507\n",
      "'NoneType' object has no attribute 'text'"
     ]
    },
    {
     "name": "stdout",
     "output_type": "stream",
     "text": [
      " http://www.reuters.com/article/2014/05/07/levi-investigates-fst-idUSnPn16qXLP+87+PRN20140507\n",
      "'NoneType' object has no attribute 'text'"
     ]
    },
    {
     "name": "stdout",
     "output_type": "stream",
     "text": [
      " http://www.reuters.com/article/2014/05/07/pew-study-religion-idUSnPn8HKnhB+99+PRN20140507\n",
      "'NoneType' object has no attribute 'text'"
     ]
    },
    {
     "name": "stdout",
     "output_type": "stream",
     "text": [
      " http://www.reuters.com/article/2014/05/07/skypower-5b-contract-idUSnPn14wqCB+83+PRN20140507\n",
      "'NoneType' object has no attribute 'text'"
     ]
    },
    {
     "name": "stdout",
     "output_type": "stream",
     "text": [
      " http://www.reuters.com/article/2014/05/08/ca-tcp-capital-earns-idUSnPn3M6x3J+91+PRN20140508\n",
      "2014-05-07\n",
      "'NoneType' object has no attribute 'text'"
     ]
    },
    {
     "name": "stdout",
     "output_type": "stream",
     "text": [
      " http://www.reuters.com/article/2014/05/08/ma-lionbridgeearnings-idUSnPn64v8C9+82+PRN20140508\n",
      "'NoneType' object has no attribute 'text'"
     ]
    },
    {
     "name": "stdout",
     "output_type": "stream",
     "text": [
      " http://www.reuters.com/article/2014/05/08/dc-global-automakers-idUSnPn776xb+40+PRN20140508\n",
      "'NoneType' object has no attribute 'text'"
     ]
    },
    {
     "name": "stdout",
     "output_type": "stream",
     "text": [
      " http://www.reuters.com/article/2014/05/08/mi-chrysler-jeep-epic-idUSnPnXcXC2+56+PRN20140508\n",
      "'NoneType' object has no attribute 'text'"
     ]
    },
    {
     "name": "stdout",
     "output_type": "stream",
     "text": [
      " http://www.reuters.com/article/2014/05/08/ca-nexted-idUSnPn21pxpj+80+PRN20140508\n",
      "'NoneType' object has no attribute 'text'"
     ]
    },
    {
     "name": "stdout",
     "output_type": "stream",
     "text": [
      " http://www.reuters.com/article/2014/05/08/dc-siba-biometrics-idUSnPn80KKNh+8e+PRN20140508\n",
      "'NoneType' object has no attribute 'text'"
     ]
    },
    {
     "name": "stdout",
     "output_type": "stream",
     "text": [
      " http://www.reuters.com/article/2014/05/08/fannie-mae-q-idUSnPn6bzQRF+87+PRN20140508\n",
      "'NoneType' object has no attribute 'text'"
     ]
    },
    {
     "name": "stdout",
     "output_type": "stream",
     "text": [
      " http://www.reuters.com/article/2014/05/08/ny-franknmagid-study-idUSnPnb8S2zh+88+PRN20140508\n",
      "'NoneType' object has no attribute 'text'"
     ]
    },
    {
     "name": "stdout",
     "output_type": "stream",
     "text": [
      " http://www.reuters.com/article/2014/05/08/ny-citibank-survey-idUSnPn8CkFyP+95+PRN20140508\n",
      "'NoneType' object has no attribute 'text'"
     ]
    },
    {
     "name": "stdout",
     "output_type": "stream",
     "text": [
      " http://www.reuters.com/article/2014/05/08/telcelamerica-celebrt-idUSnPn6Q09dF+91+PRN20140508\n",
      "'NoneType' object has no attribute 'text'"
     ]
    },
    {
     "name": "stdout",
     "output_type": "stream",
     "text": [
      "\n",
      "'NoneType' object has no attribute 'text'"
     ]
    },
    {
     "name": "stdout",
     "output_type": "stream",
     "text": [
      " http://www.reuters.com/article/2014/05/09/annarbor-spark-newbiz-idUSnPn6N8SZh+96+PRN20140509\n",
      "2014-05-08"
     ]
    },
    {
     "name": "stdout",
     "output_type": "stream",
     "text": [
      " http://www.reuters.com/article/2014/05/09/ny-cohen-steers-aum-idUSnPn5jyhfk+80+PRN20140509\n",
      "'NoneType' object has no attribute 'text'"
     ]
    },
    {
     "name": "stdout",
     "output_type": "stream",
     "text": [
      " http://www.reuters.com/article/2014/05/09/usps-2ndq-loss-19b-idUSnPn8F9KCg+96+PRN20140509\n",
      "'NoneType' object has no attribute 'text'"
     ]
    },
    {
     "name": "stdout",
     "output_type": "stream",
     "text": [
      " http://www.reuters.com/article/2014/05/09/bc-investor-edge-idUSnPnbcnyp3+80+PRN20140509\n",
      "'NoneType' object has no attribute 'text'"
     ]
    },
    {
     "name": "stdout",
     "output_type": "stream",
     "text": [
      " http://www.reuters.com/article/2014/05/09/platts-bentek-energy-idUSnPn34qdWh+82+PRN20140509\n",
      "'NoneType' object has no attribute 'text'"
     ]
    },
    {
     "name": "stdout",
     "output_type": "stream",
     "text": [
      " http://www.reuters.com/article/2014/05/09/bc-ie-idUSnPn5fwyKk+82+PRN20140509\n",
      "'NoneType' object has no attribute 'text'"
     ]
    },
    {
     "name": "stdout",
     "output_type": "stream",
     "text": [
      " http://www.reuters.com/article/2014/05/09/fl-lisa-daily-idUSnPn2Wps1g+90+PRN20140509\n",
      "'NoneType' object has no attribute 'text'"
     ]
    },
    {
     "name": "stdout",
     "output_type": "stream",
     "text": [
      "\n",
      "'NoneType' object has no attribute 'text'"
     ]
    },
    {
     "name": "stdout",
     "output_type": "stream",
     "text": [
      " http://www.reuters.com/article/2014/05/10/census-daily-feature-idUSnPn7lcfp+40+PRN20140510\n",
      "2014-05-09"
     ]
    },
    {
     "name": "stdout",
     "output_type": "stream",
     "text": [
      " http://www.reuters.com/article/2014/05/10/sorl-auto-parts-call-idUSnPn5RJtlJ+99+PRN20140510\n",
      "'NoneType' object has no attribute 'text'"
     ]
    },
    {
     "name": "stdout",
     "output_type": "stream",
     "text": [
      " http://www.reuters.com/article/2014/05/10/pa-ppl-corp-ibew-idUSnPn70j0Ly+82+PRN20140510\n",
      "'NoneType' object has no attribute 'text'"
     ]
    },
    {
     "name": "stdout",
     "output_type": "stream",
     "text": [
      " http://www.reuters.com/article/2014/05/10/uhaul-norcalminimart-idUSnPn8ZVrpk+98+PRN20140510\n",
      "'NoneType' object has no attribute 'text'"
     ]
    },
    {
     "name": "stdout",
     "output_type": "stream",
     "text": [
      " http://www.reuters.com/article/2014/05/10/ma-bostonscientific-idUSnPn6dqYLg+86+PRN20140510\n",
      "'NoneType' object has no attribute 'text'"
     ]
    },
    {
     "name": "stdout",
     "output_type": "stream",
     "text": [
      " http://www.reuters.com/article/2014/05/10/ny-sle-lupus-idUSnPn7wSRHC+8f+PRN20140510\n",
      "'NoneType' object has no attribute 'text'"
     ]
    },
    {
     "name": "stdout",
     "output_type": "stream",
     "text": [
      " http://www.reuters.com/article/2014/05/10/heart-rhythm-society-idUSnPn5SS3Nc+9a+PRN20140510\n",
      "'NoneType' object has no attribute 'text'"
     ]
    },
    {
     "name": "stdout",
     "output_type": "stream",
     "text": [
      "\n",
      "'NoneType' object has no attribute 'text'"
     ]
    },
    {
     "name": "stdout",
     "output_type": "stream",
     "text": [
      " http://www.reuters.com/article/2014/05/11/census-daily-feature-idUSnPn3BV8js+98+PRN20140511\n",
      "2014-05-10"
     ]
    },
    {
     "name": "stdout",
     "output_type": "stream",
     "text": [
      " http://www.reuters.com/article/2014/05/11/cslbehring-hemophilia-idUSnPn1LNj1d+98+PRN20140511\n",
      "'NoneType' object has no attribute 'text'"
     ]
    },
    {
     "name": "stdout",
     "output_type": "stream",
     "text": [
      " http://www.reuters.com/article/2014/05/12/thomson-reuters-srvy-idUSnPn6V93nS+91+PRN20140512\n",
      "'NoneType' object has no attribute 'text'"
     ]
    },
    {
     "name": "stdout",
     "output_type": "stream",
     "text": [
      " http://www.reuters.com/article/2014/05/11/omnivisionnewproducts-idUSnPn8wQwQ8+8a+PRN20140511\n",
      "'NoneType' object has no attribute 'text'"
     ]
    },
    {
     "name": "stdout",
     "output_type": "stream",
     "text": [
      "\n",
      "'NoneType' object has no attribute 'text'"
     ]
    },
    {
     "name": "stdout",
     "output_type": "stream",
     "text": [
      " http://www.reuters.com/article/2014/05/12/mi-chrysler-earnings-idUSnPn21mYsC+85+PRN20140512\n",
      "2014-05-11"
     ]
    },
    {
     "name": "stdout",
     "output_type": "stream",
     "text": [
      " http://www.reuters.com/article/2014/05/12/jaguarlandrover-opens-idUSnPnbxtwQH+83+PRN20140512\n",
      "'NoneType' object has no attribute 'text'"
     ]
    },
    {
     "name": "stdout",
     "output_type": "stream",
     "text": [
      " http://www.reuters.com/article/2014/05/12/tx-solera-acquisition-idUSnPn8W737D+91+PRN20140512\n",
      "'NoneType' object has no attribute 'text'"
     ]
    },
    {
     "name": "stdout",
     "output_type": "stream",
     "text": [
      " http://www.reuters.com/article/2014/05/12/lionsgate-idUSnPn9d7zvT+81+PRN20140512\n",
      "'NoneType' object has no attribute 'text'"
     ]
    },
    {
     "name": "stdout",
     "output_type": "stream",
     "text": [
      " http://www.reuters.com/article/2014/05/12/ks-seaboardcorp-idUSnPnH9NzQ+55+PRN20140512\n",
      "'NoneType' object has no attribute 'text'"
     ]
    },
    {
     "name": "stdout",
     "output_type": "stream",
     "text": [
      " http://www.reuters.com/article/2014/05/12/ca-endemol-beyond-usa-idUSnPn4VtVlF+95+PRN20140512\n",
      "'NoneType' object has no attribute 'text'"
     ]
    },
    {
     "name": "stdout",
     "output_type": "stream",
     "text": [
      " http://www.reuters.com/article/2014/05/12/or-cui-global-refile-idUSnPnjp7FD+43+PRN20140512\n",
      "'NoneType' object has no attribute 'text'"
     ]
    },
    {
     "name": "stdout",
     "output_type": "stream",
     "text": [
      " http://www.reuters.com/article/2014/05/12/lgpartnersnocontract-idUSnPn7Cs8w9+90+PRN20140512\n",
      "'NoneType' object has no attribute 'text'"
     ]
    },
    {
     "name": "stdout",
     "output_type": "stream",
     "text": [
      " http://www.reuters.com/article/2014/05/12/tx-rick-earnings-idUSnPn7P62mx+90+PRN20140512\n",
      "'NoneType' object has no attribute 'text'"
     ]
    },
    {
     "name": "stdout",
     "output_type": "stream",
     "text": [
      " http://www.reuters.com/article/2014/05/12/bc-investor-edge-idUSnPn634Zc5+84+PRN20140512\n",
      "'NoneType' object has no attribute 'text'"
     ]
    },
    {
     "name": "stdout",
     "output_type": "stream",
     "text": [
      " http://www.reuters.com/article/2014/05/12/bc-investor-edge-idUSnPn4tGB2G+8d+PRN20140512\n",
      "'NoneType' object has no attribute 'text'"
     ]
    },
    {
     "name": "stdout",
     "output_type": "stream",
     "text": [
      " http://www.reuters.com/article/2014/05/12/bc-analystsreviewcom-idUSnPn2JHbNv+9a+PRN20140512\n",
      "'NoneType' object has no attribute 'text'"
     ]
    },
    {
     "name": "stdout",
     "output_type": "stream",
     "text": [
      " http://www.reuters.com/article/2014/05/12/flukeconnect-wa-idUSnPn8TjBZW+97+PRN20140512\n",
      "'NoneType' object has no attribute 'text'"
     ]
    },
    {
     "name": "stdout",
     "output_type": "stream",
     "text": [
      " http://www.reuters.com/article/2014/05/12/mi-art-van-charities-idUSnPn8bpR94+84+PRN20140512\n",
      "'NoneType' object has no attribute 'text'"
     ]
    },
    {
     "name": "stdout",
     "output_type": "stream",
     "text": [
      "\n",
      "'NoneType' object has no attribute 'text'"
     ]
    },
    {
     "name": "stdout",
     "output_type": "stream",
     "text": [
      " http://www.reuters.com/article/2014/05/13/comscore-q1-spending-idUSnPn6rvvzQ+81+PRN20140513\n",
      "2014-05-12"
     ]
    },
    {
     "name": "stdout",
     "output_type": "stream",
     "text": [
      " http://www.reuters.com/article/2014/05/13/dc-dupont-financing-idUSnPnbGtCr3+94+PRN20140513\n",
      "'NoneType' object has no attribute 'text'"
     ]
    },
    {
     "name": "stdout",
     "output_type": "stream",
     "text": [
      " http://www.reuters.com/article/2014/05/13/beringer-team-up-idUSnPn56Ph8z+88+PRN20140513\n",
      "'NoneType' object has no attribute 'text'"
     ]
    },
    {
     "name": "stdout",
     "output_type": "stream",
     "text": [
      " http://www.reuters.com/article/2014/05/13/nff-business-concept-idUSnPnbWW7BW+9b+PRN20140513\n",
      "'NoneType' object has no attribute 'text'"
     ]
    },
    {
     "name": "stdout",
     "output_type": "stream",
     "text": [
      " http://www.reuters.com/article/2014/05/13/memorial-day-concert-idUSnPn6Gd71c+90+PRN20140513\n",
      "'NoneType' object has no attribute 'text'"
     ]
    },
    {
     "name": "stdout",
     "output_type": "stream",
     "text": [
      " http://www.reuters.com/article/2014/05/13/exasol-new-offices-idUSnPn2wRc50+88+PRN20140513\n",
      "'NoneType' object has no attribute 'text'"
     ]
    },
    {
     "name": "stdout",
     "output_type": "stream",
     "text": [
      " http://www.reuters.com/article/2014/05/13/bk-asiapacific-idUSnPn1sFJCw+8e+PRN20140513\n",
      "'NoneType' object has no attribute 'text'"
     ]
    },
    {
     "name": "stdout",
     "output_type": "stream",
     "text": [
      " http://www.reuters.com/article/2014/05/13/nj-janssenpharm-sndas-idUSnPnbMmB87+94+PRN20140513\n",
      "'NoneType' object has no attribute 'text'"
     ]
    },
    {
     "name": "stdout",
     "output_type": "stream",
     "text": [
      " http://www.reuters.com/article/2014/05/13/usw-study-jobs-idUSnPn6dqLc9+84+PRN20140513\n",
      "'NoneType' object has no attribute 'text'"
     ]
    },
    {
     "name": "stdout",
     "output_type": "stream",
     "text": [
      " http://www.reuters.com/article/2014/05/13/ca-consumer-watchdog-idUSnPn8YkynQ+91+PRN20140513\n",
      "'NoneType' object has no attribute 'text'"
     ]
    },
    {
     "name": "stdout",
     "output_type": "stream",
     "text": [
      " http://www.reuters.com/article/2014/05/13/bnymellon-real-estate-idUSnPn2brs1V+81+PRN20140513\n",
      "'NoneType' object has no attribute 'text'"
     ]
    },
    {
     "name": "stdout",
     "output_type": "stream",
     "text": [
      "\n",
      "'NoneType' object has no attribute 'text'"
     ]
    },
    {
     "name": "stdout",
     "output_type": "stream",
     "text": [
      " http://www.reuters.com/article/2014/05/14/census-economy-c-span-idUSnPn4P5M12+94+PRN20140514\n",
      "2014-05-13"
     ]
    },
    {
     "name": "stdout",
     "output_type": "stream",
     "text": [
      " http://www.reuters.com/article/2014/05/14/ca-adform-seriesbfund-idUSnPn4x5Y8B+85+PRN20140514\n",
      "'NoneType' object has no attribute 'text'"
     ]
    },
    {
     "name": "stdout",
     "output_type": "stream",
     "text": [
      " http://www.reuters.com/article/2014/05/14/ny-accenture-study-idUSnPn2QNSSl+9e+PRN20140514\n",
      "'NoneType' object has no attribute 'text'"
     ]
    },
    {
     "name": "stdout",
     "output_type": "stream",
     "text": [
      " http://www.reuters.com/article/2014/05/14/accenture-europestudy-idUSnPn6SMlyh+98+PRN20140514\n",
      "'NoneType' object has no attribute 'text'"
     ]
    },
    {
     "name": "stdout",
     "output_type": "stream",
     "text": [
      " http://www.reuters.com/article/2014/05/14/waterplay-adds-pres-idUSnPn5PCgzQ+99+PRN20140514\n",
      "'NoneType' object has no attribute 'text'"
     ]
    },
    {
     "name": "stdout",
     "output_type": "stream",
     "text": [
      " http://www.reuters.com/article/2014/05/14/usw-us-steel-irvin-idUSnPn1yBjJ4+8a+PRN20140514\n",
      "'NoneType' object has no attribute 'text'"
     ]
    },
    {
     "name": "stdout",
     "output_type": "stream",
     "text": [
      " http://www.reuters.com/article/2014/05/14/tx-att-mobile-survey-idUSnPn8Bhy6m+90+PRN20140514\n",
      "'NoneType' object has no attribute 'text'"
     ]
    },
    {
     "name": "stdout",
     "output_type": "stream",
     "text": [
      " http://www.reuters.com/article/2014/05/14/flow-lending-funding-idUSnPnR41Vc+52+PRN20140514\n",
      "'NoneType' object has no attribute 'text'"
     ]
    },
    {
     "name": "stdout",
     "output_type": "stream",
     "text": [
      " http://www.reuters.com/article/2014/05/14/ca-ehron-vonallen-ar-idUSnPnQyrqM+51+PRN20140514\n",
      "'NoneType' object has no attribute 'text'"
     ]
    },
    {
     "name": "stdout",
     "output_type": "stream",
     "text": [
      " http://www.reuters.com/article/2014/05/14/ma-decisionresources-idUSnPn15P4lS+89+PRN20140514\n",
      "'NoneType' object has no attribute 'text'"
     ]
    },
    {
     "name": "stdout",
     "output_type": "stream",
     "text": [
      " http://www.reuters.com/article/2014/05/14/phoenix-share-program-idUSnPn5xbNnS+85+PRN20140514\n",
      "'NoneType' object has no attribute 'text'"
     ]
    },
    {
     "name": "stdout",
     "output_type": "stream",
     "text": [
      " http://www.reuters.com/article/2014/05/14/ca-bersinbydeloitte-idUSnPn2ldGsr+84+PRN20140514\n",
      "'NoneType' object has no attribute 'text'"
     ]
    },
    {
     "name": "stdout",
     "output_type": "stream",
     "text": [
      " http://www.reuters.com/article/2014/05/14/ca-janssen-labs-idUSnPn4dpjm0+80+PRN20140514\n",
      "'NoneType' object has no attribute 'text'"
     ]
    },
    {
     "name": "stdout",
     "output_type": "stream",
     "text": [
      " http://www.reuters.com/article/2014/05/14/saic-awarded-14m-idUSnPn2kGfxT+89+PRN20140514\n",
      "'NoneType' object has no attribute 'text'"
     ]
    },
    {
     "name": "stdout",
     "output_type": "stream",
     "text": [
      " http://www.reuters.com/article/2014/05/14/va-cf-exits-tarp-idUSnPn1lJRd9+8c+PRN20140514\n",
      "'NoneType' object has no attribute 'text'"
     ]
    },
    {
     "name": "stdout",
     "output_type": "stream",
     "text": [
      " http://www.reuters.com/article/2014/05/14/boardwalkreitq1reslts-idUSnPnbQ2cSc+92+PRN20140514\n",
      "'NoneType' object has no attribute 'text'"
     ]
    },
    {
     "name": "stdout",
     "output_type": "stream",
     "text": [
      " http://www.reuters.com/article/2014/05/14/big-white-wall-in-us-idUSnPn6Zh0Df+92+PRN20140514\n",
      "'NoneType' object has no attribute 'text'"
     ]
    },
    {
     "name": "stdout",
     "output_type": "stream",
     "text": [
      "\n",
      "'NoneType' object has no attribute 'text'"
     ]
    },
    {
     "name": "stdout",
     "output_type": "stream",
     "text": [
      " http://www.reuters.com/article/2014/05/15/empresasica-offering-idUSnPn9yBRRQ+8f+PRN20140515\n",
      "2014-05-14"
     ]
    },
    {
     "name": "stdout",
     "output_type": "stream",
     "text": [
      " http://www.reuters.com/article/2014/05/15/ny-credit-suisse-div-idUSnPn6nsBCs+86+PRN20140515\n",
      "'NoneType' object has no attribute 'text'"
     ]
    },
    {
     "name": "stdout",
     "output_type": "stream",
     "text": [
      " http://www.reuters.com/article/2014/05/15/harris-poll-sanctions-idUSnPn2z4Vjk+84+PRN20140515\n",
      "'NoneType' object has no attribute 'text'"
     ]
    },
    {
     "name": "stdout",
     "output_type": "stream",
     "text": [
      " http://www.reuters.com/article/2014/05/15/fl-vapor-corp-acquire-idUSnPntM9BF+4b+PRN20140515\n",
      "'NoneType' object has no attribute 'text'"
     ]
    },
    {
     "name": "stdout",
     "output_type": "stream",
     "text": [
      " http://www.reuters.com/article/2014/05/15/ca-fandango-expands-idUSnPn245369+80+PRN20140515\n",
      "'NoneType' object has no attribute 'text'"
     ]
    },
    {
     "name": "stdout",
     "output_type": "stream",
     "text": [
      " http://www.reuters.com/article/2014/05/15/cooper-energy-finance-idUSnPn4Fr2by+90+PRN20140515\n",
      "'NoneType' object has no attribute 'text'"
     ]
    },
    {
     "name": "stdout",
     "output_type": "stream",
     "text": [
      "\n",
      "'NoneType' object has no attribute 'text'"
     ]
    },
    {
     "name": "stdout",
     "output_type": "stream",
     "text": [
      " http://www.reuters.com/article/2014/05/16/bc-analystsreviewcom-idUSnPn9mfZYy+86+PRN20140516\n",
      "2014-05-15"
     ]
    },
    {
     "name": "stdout",
     "output_type": "stream",
     "text": [
      " http://www.reuters.com/article/2014/05/16/ca-bernheim-judgement-idUSnPn1VksZy+92+PRN20140516\n",
      "'NoneType' object has no attribute 'text'"
     ]
    },
    {
     "name": "stdout",
     "output_type": "stream",
     "text": [
      " http://www.reuters.com/article/2014/05/16/sino-agro-earns-idUSnPn339wR+41+PRN20140516\n",
      "'NoneType' object has no attribute 'text'"
     ]
    },
    {
     "name": "stdout",
     "output_type": "stream",
     "text": [
      " http://www.reuters.com/article/2014/05/17/fl-united-launch-alli-idUSnPn2JKR4t+9c+PRN20140517\n",
      "'NoneType' object has no attribute 'text'"
     ]
    },
    {
     "name": "stdout",
     "output_type": "stream",
     "text": [
      " http://www.reuters.com/article/2014/05/16/tolmar-eligard-con-idUSnPn4WYCQR+9f+PRN20140516\n",
      "'NoneType' object has no attribute 'text'"
     ]
    },
    {
     "name": "stdout",
     "output_type": "stream",
     "text": [
      " http://www.reuters.com/article/2014/05/16/co-brief-lynx-new-idUSnPnlmKZZ+47+PRN20140516\n",
      "'NoneType' object has no attribute 'text'"
     ]
    },
    {
     "name": "stdout",
     "output_type": "stream",
     "text": [
      " http://www.reuters.com/article/2014/05/16/ritchiebrostxauction-idUSnPn4gKCwy+8c+PRN20140516\n",
      "'NoneType' object has no attribute 'text'"
     ]
    },
    {
     "name": "stdout",
     "output_type": "stream",
     "text": [
      " http://www.reuters.com/article/2014/05/16/bc-i-idUSnPn3mZtb1+88+PRN20140516\n",
      "'NoneType' object has no attribute 'text'"
     ]
    },
    {
     "name": "stdout",
     "output_type": "stream",
     "text": [
      " http://www.reuters.com/article/2014/05/17/kahn-swick-foti-idUSnPn9RZWk+4e+PRN20140517\n",
      "'NoneType' object has no attribute 'text'"
     ]
    },
    {
     "name": "stdout",
     "output_type": "stream",
     "text": [
      " http://www.reuters.com/article/2014/05/16/rail-metro-china-idUSnPnsZcwj+48+PRN20140516\n",
      "'NoneType' object has no attribute 'text'"
     ]
    },
    {
     "name": "stdout",
     "output_type": "stream",
     "text": [
      " http://www.reuters.com/article/2014/05/16/bc-investor-edge-idUSnPn6DgcVY+93+PRN20140516\n",
      "'NoneType' object has no attribute 'text'"
     ]
    },
    {
     "name": "stdout",
     "output_type": "stream",
     "text": [
      "\n",
      "'NoneType' object has no attribute 'text'"
     ]
    },
    {
     "name": "stdout",
     "output_type": "stream",
     "text": [
      " http://www.reuters.com/article/2014/05/17/census-daily-feature-idUSnPndlXGs+46+PRN20140517\n",
      "2014-05-16"
     ]
    },
    {
     "name": "stdout",
     "output_type": "stream",
     "text": [
      " http://www.reuters.com/article/2014/05/17/pa-sca-tork-new-wipe-idUSnPnbWDYNB+9f+PRN20140517\n",
      "'NoneType' object has no attribute 'text'"
     ]
    },
    {
     "name": "stdout",
     "output_type": "stream",
     "text": [
      " http://www.reuters.com/article/2014/05/17/minnesota-aids-walk-idUSnPn1v8Ng0+84+PRN20140517\n",
      "'NoneType' object has no attribute 'text'"
     ]
    },
    {
     "name": "stdout",
     "output_type": "stream",
     "text": [
      " http://www.reuters.com/article/2014/05/17/il-six-flags-goliath-idUSnPn292S6L+85+PRN20140517\n",
      "'NoneType' object has no attribute 'text'"
     ]
    },
    {
     "name": "stdout",
     "output_type": "stream",
     "text": [
      " http://www.reuters.com/article/2014/05/17/aua-bladder-cancer-idUSnPn4lM8Bb+8a+PRN20140517\n",
      "'NoneType' object has no attribute 'text'"
     ]
    },
    {
     "name": "stdout",
     "output_type": "stream",
     "text": [
      " http://www.reuters.com/article/2014/05/17/aua-kidney-stones-idUSnPn4p9QT2+86+PRN20140517\n",
      "'NoneType' object has no attribute 'text'"
     ]
    },
    {
     "name": "stdout",
     "output_type": "stream",
     "text": [
      " http://www.reuters.com/article/2014/05/17/aua-btx-a-benefits-idUSnPn5PThrm+98+PRN20140517\n",
      "'NoneType' object has no attribute 'text'"
     ]
    },
    {
     "name": "stdout",
     "output_type": "stream",
     "text": [
      " http://www.reuters.com/article/2014/05/17/ma-capitalmarketsreg-idUSnPn5TJHKY+9f+PRN20140517\n",
      "'NoneType' object has no attribute 'text'"
     ]
    },
    {
     "name": "stdout",
     "output_type": "stream",
     "text": [
      " http://www.reuters.com/article/2014/05/17/relativity-b4u-join-idUSnPn76wZ64+84+PRN20140517\n",
      "'NoneType' object has no attribute 'text'"
     ]
    },
    {
     "name": "stdout",
     "output_type": "stream",
     "text": [
      "\n",
      "'NoneType' object has no attribute 'text'"
     ]
    },
    {
     "name": "stdout",
     "output_type": "stream",
     "text": [
      " http://www.reuters.com/article/2014/05/18/umbian-u-sleep-ca-idUSnPn2v4Mk1+84+PRN20140518\n",
      "2014-05-17"
     ]
    },
    {
     "name": "stdout",
     "output_type": "stream",
     "text": [
      " http://www.reuters.com/article/2014/05/18/census-daily-feature-idUSnPncdZt8b+88+PRN20140518\n",
      "'NoneType' object has no attribute 'text'"
     ]
    },
    {
     "name": "stdout",
     "output_type": "stream",
     "text": [
      " http://www.reuters.com/article/2014/05/18/elbitsystems-contract-idUSnPn37F24f+88+PRN20140518\n",
      "'NoneType' object has no attribute 'text'"
     ]
    },
    {
     "name": "stdout",
     "output_type": "stream",
     "text": [
      " http://www.reuters.com/article/2014/05/18/boehringer-ingelheim-idUSnPn4pRWwm+8c+PRN20140518\n",
      "'NoneType' object has no attribute 'text'"
     ]
    },
    {
     "name": "stdout",
     "output_type": "stream",
     "text": [
      " http://www.reuters.com/article/2014/05/18/boeing-celebrates-idUSnPnb7mqSB+83+PRN20140518\n",
      "'NoneType' object has no attribute 'text'"
     ]
    },
    {
     "name": "stdout",
     "output_type": "stream",
     "text": [
      " http://www.reuters.com/article/2014/05/18/kahn-swick-foti-idUSnPn8sdXP5+86+PRN20140518\n",
      "'NoneType' object has no attribute 'text'"
     ]
    },
    {
     "name": "stdout",
     "output_type": "stream",
     "text": [
      "\n",
      "'NoneType' object has no attribute 'text'"
     ]
    },
    {
     "name": "stdout",
     "output_type": "stream",
     "text": [
      " http://www.reuters.com/article/2014/05/19/us-gas-export-main-st-idUSnPnc4ZWy4+8c+PRN20140519\n",
      "2014-05-18"
     ]
    },
    {
     "name": "stdout",
     "output_type": "stream",
     "text": [
      " http://www.reuters.com/article/2014/05/19/antidumping-china-idUSnPn7gL276+88+PRN20140519\n",
      "'NoneType' object has no attribute 'text'"
     ]
    },
    {
     "name": "stdout",
     "output_type": "stream",
     "text": [
      " http://www.reuters.com/article/2014/05/19/nai-usatoday-endorse-idUSnPnbhpl2T+81+PRN20140519\n",
      "'NoneType' object has no attribute 'text'"
     ]
    },
    {
     "name": "stdout",
     "output_type": "stream",
     "text": [
      " http://www.reuters.com/article/2014/05/19/bc-ie-idUSnPn8skxw0+80+PRN20140519\n",
      "'NoneType' object has no attribute 'text'"
     ]
    },
    {
     "name": "stdout",
     "output_type": "stream",
     "text": [
      " http://www.reuters.com/article/2014/05/19/ny-pwc-lodging-report-idUSnPn2z3cNJ+83+PRN20140519\n",
      "'NoneType' object has no attribute 'text'"
     ]
    },
    {
     "name": "stdout",
     "output_type": "stream",
     "text": [
      " http://www.reuters.com/article/2014/05/19/gen-dynamics-contract-idUSnPn2XZmzc+98+PRN20140519\n",
      "'NoneType' object has no attribute 'text'"
     ]
    },
    {
     "name": "stdout",
     "output_type": "stream",
     "text": [
      " http://www.reuters.com/article/2014/05/19/ct-casey-quirk-report-idUSnPn35w4bY+81+PRN20140519\n",
      "'NoneType' object has no attribute 'text'"
     ]
    },
    {
     "name": "stdout",
     "output_type": "stream",
     "text": [
      " http://www.reuters.com/article/2014/05/19/bc-investorideas-idUSnPn6jLkbc+88+PRN20140519\n",
      "'NoneType' object has no attribute 'text'"
     ]
    },
    {
     "name": "stdout",
     "output_type": "stream",
     "text": [
      " http://www.reuters.com/article/2014/05/19/lyv-notes-offering-idUSnPncbpjdC+81+PRN20140519\n",
      "'NoneType' object has no attribute 'text'"
     ]
    },
    {
     "name": "stdout",
     "output_type": "stream",
     "text": [
      " http://www.reuters.com/article/2014/05/19/capitolconerts-valli-idUSnPn680L3N+85+PRN20140519\n",
      "'NoneType' object has no attribute 'text'"
     ]
    },
    {
     "name": "stdout",
     "output_type": "stream",
     "text": [
      " http://www.reuters.com/article/2014/05/19/bc-investor-edge-idUSnPn9zVGhW+8d+PRN20140519\n",
      "'NoneType' object has no attribute 'text'"
     ]
    },
    {
     "name": "stdout",
     "output_type": "stream",
     "text": [
      " http://www.reuters.com/article/2014/05/19/nurses-rally-mna-nnu-idUSnPnks2Rp+42+PRN20140519\n",
      "'NoneType' object has no attribute 'text'"
     ]
    },
    {
     "name": "stdout",
     "output_type": "stream",
     "text": [
      "\n",
      "'NoneType' object has no attribute 'text'"
     ]
    },
    {
     "name": "stdout",
     "output_type": "stream",
     "text": [
      " http://www.reuters.com/article/2014/05/20/zacks-equity-research-idUSnPn1GLvRC+9b+PRN20140520\n",
      "2014-05-19"
     ]
    },
    {
     "name": "stdout",
     "output_type": "stream",
     "text": [
      " http://www.reuters.com/article/2014/05/20/il-abbvie-humira-idUSnPn9gMGff+8c+PRN20140520\n",
      "'NoneType' object has no attribute 'text'"
     ]
    },
    {
     "name": "stdout",
     "output_type": "stream",
     "text": [
      " http://www.reuters.com/article/2014/05/20/luna-vega-book-idUSnPnkQLst+4c+PRN20140520\n",
      "'NoneType' object has no attribute 'text'"
     ]
    },
    {
     "name": "stdout",
     "output_type": "stream",
     "text": [
      " http://www.reuters.com/article/2014/05/20/capital-concerts-pbs-idUSnPn9Mxd3K+91+PRN20140520\n",
      "'NoneType' object has no attribute 'text'"
     ]
    },
    {
     "name": "stdout",
     "output_type": "stream",
     "text": [
      " http://www.reuters.com/article/2014/05/20/md-telecom-airforce-idUSnPn6d3PgT+85+PRN20140520\n",
      "'NoneType' object has no attribute 'text'"
     ]
    },
    {
     "name": "stdout",
     "output_type": "stream",
     "text": [
      " http://www.reuters.com/article/2014/05/20/pwc-us-health-service-idUSnPn8GfHcS+95+PRN20140520\n",
      "'NoneType' object has no attribute 'text'"
     ]
    },
    {
     "name": "stdout",
     "output_type": "stream",
     "text": [
      " http://www.reuters.com/article/2014/05/20/nj-magnum-icecreamnew-idUSnPn2fjzL0+82+PRN20140520\n",
      "'NoneType' object has no attribute 'text'"
     ]
    },
    {
     "name": "stdout",
     "output_type": "stream",
     "text": [
      " http://www.reuters.com/article/2014/05/20/ca-dimension-data-mcp-idUSnPn2T2K9v+94+PRN20140520\n",
      "'NoneType' object has no attribute 'text'"
     ]
    },
    {
     "name": "stdout",
     "output_type": "stream",
     "text": [
      " http://www.reuters.com/article/2014/05/20/mi-ann-arbor-spark-idUSnPn9QjZmC+95+PRN20140520\n",
      "'NoneType' object has no attribute 'text'"
     ]
    },
    {
     "name": "stdout",
     "output_type": "stream",
     "text": [
      " http://www.reuters.com/article/2014/05/20/bc-tat-technologies-ltd-idUSnPn8vjqzR+81+PRN20140520\n",
      "'NoneType' object has no attribute 'text'"
     ]
    },
    {
     "name": "stdout",
     "output_type": "stream",
     "text": [
      " http://www.reuters.com/article/2014/05/20/uscm-water-act-idUSnPn4tK6NC+8b+PRN20140520\n",
      "'NoneType' object has no attribute 'text'"
     ]
    },
    {
     "name": "stdout",
     "output_type": "stream",
     "text": [
      " http://www.reuters.com/article/2014/05/21/tx-sabre-dot-idUSnPn5Mg7tF+91+PRN20140521\n",
      "2014-05-20\n",
      "'NoneType' object has no attribute 'text'"
     ]
    },
    {
     "name": "stdout",
     "output_type": "stream",
     "text": [
      " http://www.reuters.com/article/2014/05/21/eximbank-2bil-finance-idUSnPnwwTqZ+45+PRN20140521\n",
      "'NoneType' object has no attribute 'text'"
     ]
    },
    {
     "name": "stdout",
     "output_type": "stream",
     "text": [
      " http://www.reuters.com/article/2014/05/21/phl-strs-stripes-fest-idUSnPn9BdQkQ+95+PRN20140521\n",
      "'NoneType' object has no attribute 'text'"
     ]
    },
    {
     "name": "stdout",
     "output_type": "stream",
     "text": [
      " http://www.reuters.com/article/2014/05/21/kelleydrye-hail-itc-idUSnPn4l0w5t+80+PRN20140521\n",
      "'NoneType' object has no attribute 'text'"
     ]
    },
    {
     "name": "stdout",
     "output_type": "stream",
     "text": [
      " http://www.reuters.com/article/2014/05/21/mn-cityofnewbrighton-idUSnPn73sZxJ+85+PRN20140521\n",
      "'NoneType' object has no attribute 'text'"
     ]
    },
    {
     "name": "stdout",
     "output_type": "stream",
     "text": [
      " http://www.reuters.com/article/2014/05/21/dominicanos-usa-idUSnPn3FHb9C+99+PRN20140521\n",
      "'NoneType' object has no attribute 'text'"
     ]
    },
    {
     "name": "stdout",
     "output_type": "stream",
     "text": [
      " http://www.reuters.com/article/2014/05/21/ca-pwcus-tech-report-idUSnPn1cYxKt+8a+PRN20140521\n",
      "'NoneType' object has no attribute 'text'"
     ]
    },
    {
     "name": "stdout",
     "output_type": "stream",
     "text": [
      "\n",
      "'NoneType' object has no attribute 'text'"
     ]
    },
    {
     "name": "stdout",
     "output_type": "stream",
     "text": [
      " http://www.reuters.com/article/2014/05/22/or-bonzi-ussoccer-idUSnPn5wr7d6+80+PRN20140522\n",
      "2014-05-21"
     ]
    },
    {
     "name": "stdout",
     "output_type": "stream",
     "text": [
      " http://www.reuters.com/article/2014/05/22/fl-new-columbia-idUSnPn1GXDV7+9e+PRN20140522\n",
      "'NoneType' object has no attribute 'text'"
     ]
    },
    {
     "name": "stdout",
     "output_type": "stream",
     "text": [
      " http://www.reuters.com/article/2014/05/22/dtf-diesel-study-idUSnPn6zM6T9+8a+PRN20140522\n",
      "'NoneType' object has no attribute 'text'"
     ]
    },
    {
     "name": "stdout",
     "output_type": "stream",
     "text": [
      " http://www.reuters.com/article/2014/05/22/ca-addictionsymposium-idUSnPn9GvknR+91+PRN20140522\n",
      "'NoneType' object has no attribute 'text'"
     ]
    },
    {
     "name": "stdout",
     "output_type": "stream",
     "text": [
      " http://www.reuters.com/article/2014/05/22/ca-freedompop-idUSnPn2HKYVy+9e+PRN20140522\n",
      "'NoneType' object has no attribute 'text'"
     ]
    },
    {
     "name": "stdout",
     "output_type": "stream",
     "text": [
      " http://www.reuters.com/article/2014/05/22/wv-trans-energy-idUSnPn1BQzbZ+99+PRN20140522\n",
      "'NoneType' object has no attribute 'text'"
     ]
    },
    {
     "name": "stdout",
     "output_type": "stream",
     "text": [
      " http://www.reuters.com/article/2014/05/22/seneca-foods-earnings-idUSnPn2CMnH3+9a+PRN20140522\n",
      "'NoneType' object has no attribute 'text'"
     ]
    },
    {
     "name": "stdout",
     "output_type": "stream",
     "text": [
      " http://www.reuters.com/article/2014/05/22/fl-logic-ecig-idUSnPnpgZL4+46+PRN20140522\n",
      "'NoneType' object has no attribute 'text'"
     ]
    },
    {
     "name": "stdout",
     "output_type": "stream",
     "text": [
      " http://www.reuters.com/article/2014/05/22/bc-investor-edge-idUSnPn6sZxfx+88+PRN20140522\n",
      "'NoneType' object has no attribute 'text'"
     ]
    },
    {
     "name": "stdout",
     "output_type": "stream",
     "text": [
      " http://www.reuters.com/article/2014/05/22/mi-leary-firefighters-idUSnPn5TrTFC+97+PRN20140522\n",
      "'NoneType' object has no attribute 'text'"
     ]
    },
    {
     "name": "stdout",
     "output_type": "stream",
     "text": [
      " http://www.reuters.com/article/2014/05/22/harris-poll-us-hunger-idUSnPn9MGpQ3+9a+PRN20140522\n",
      "'NoneType' object has no attribute 'text'"
     ]
    },
    {
     "name": "stdout",
     "output_type": "stream",
     "text": [
      "\n",
      "'NoneType' object has no attribute 'text'"
     ]
    },
    {
     "name": "stdout",
     "output_type": "stream",
     "text": [
      " http://www.reuters.com/article/2014/05/23/dinsmore-shohl-llp-idUSnPn2rDslp+88+PRN20140523\n",
      "2014-05-22"
     ]
    },
    {
     "name": "stdout",
     "output_type": "stream",
     "text": [
      " http://www.reuters.com/article/2014/05/23/bc-investor-edge-idUSnPn9cbt5+40+PRN20140523\n",
      "'NoneType' object has no attribute 'text'"
     ]
    },
    {
     "name": "stdout",
     "output_type": "stream",
     "text": [
      " http://www.reuters.com/article/2014/05/23/usatruckagreement-idUSnPn5PwV4S+95+PRN20140523\n",
      "'NoneType' object has no attribute 'text'"
     ]
    },
    {
     "name": "stdout",
     "output_type": "stream",
     "text": [
      " http://www.reuters.com/article/2014/05/23/ca-truecar-may-saar-idUSnPn7hfv4q+80+PRN20140523\n",
      "'NoneType' object has no attribute 'text'"
     ]
    },
    {
     "name": "stdout",
     "output_type": "stream",
     "text": [
      " http://www.reuters.com/article/2014/05/23/tn-peter-sills-book-idUSnPn2DBKvG+9d+PRN20140523\n",
      "'NoneType' object has no attribute 'text'"
     ]
    },
    {
     "name": "stdout",
     "output_type": "stream",
     "text": [
      " http://www.reuters.com/article/2014/05/23/bc-fn-media-group-idUSnPn2CMC64+9c+PRN20140523\n",
      "'NoneType' object has no attribute 'text'"
     ]
    },
    {
     "name": "stdout",
     "output_type": "stream",
     "text": [
      " http://www.reuters.com/article/2014/05/23/china-renaissance-idUSnPn4xtVTF+87+PRN20140523\n",
      "'NoneType' object has no attribute 'text'"
     ]
    },
    {
     "name": "stdout",
     "output_type": "stream",
     "text": [
      " http://www.reuters.com/article/2014/05/23/bc-investor-edge-idUSnPn9zQ7d1+88+PRN20140523\n",
      "'NoneType' object has no attribute 'text'"
     ]
    },
    {
     "name": "stdout",
     "output_type": "stream",
     "text": [
      "\n",
      "'NoneType' object has no attribute 'text'"
     ]
    },
    {
     "name": "stdout",
     "output_type": "stream",
     "text": [
      " http://www.reuters.com/article/2014/05/24/census-daily-feature-idUSnPnc1PnRc+8a+PRN20140524\n",
      "2014-05-23"
     ]
    },
    {
     "name": "stdout",
     "output_type": "stream",
     "text": [
      " http://www.reuters.com/article/2014/05/25/caesarsdraiscromwell-idUSnPn35lzX8+82+PRN20140525\n",
      "'NoneType' object has no attribute 'text'"
     ]
    },
    {
     "name": "stdout",
     "output_type": "stream",
     "text": [
      "\n",
      "'NoneType' object has no attribute 'text'"
     ]
    },
    {
     "name": "stdout",
     "output_type": "stream",
     "text": [
      " http://www.reuters.com/article/2014/05/25/census-daily-feature-idUSnPn2s0Sdw+84+PRN20140525\n",
      "2014-05-24"
     ]
    },
    {
     "name": "stdout",
     "output_type": "stream",
     "text": [
      " http://www.reuters.com/article/2014/05/25/greenberg-traurig-idUSnPn1SC1gt+98+PRN20140525\n",
      "'NoneType' object has no attribute 'text'"
     ]
    },
    {
     "name": "stdout",
     "output_type": "stream",
     "text": [
      " http://www.reuters.com/article/2014/05/25/dickeysbarbecue-wa-idUSnPn57V8D4+8a+PRN20140525\n",
      "'NoneType' object has no attribute 'text'"
     ]
    },
    {
     "name": "stdout",
     "output_type": "stream",
     "text": [
      "\n",
      "'NoneType' object has no attribute 'text'"
     ]
    },
    {
     "name": "stdout",
     "output_type": "stream",
     "text": [
      " http://www.reuters.com/article/2014/05/26/rasta-rock-no-more-idUSnPn7WHkTX+9b+PRN20140526\n",
      "2014-05-25"
     ]
    },
    {
     "name": "stdout",
     "output_type": "stream",
     "text": [
      " http://www.reuters.com/article/2014/05/26/rasta-rock-no-more-idUSnPn3h2Rs+42+PRN20140526\n",
      "'NoneType' object has no attribute 'text'"
     ]
    },
    {
     "name": "stdout",
     "output_type": "stream",
     "text": [
      " http://www.reuters.com/article/2014/05/26/wealth-x-ukraine-prez-idUSnPn2gJ9w2+88+PRN20140526\n",
      "'NoneType' object has no attribute 'text'"
     ]
    },
    {
     "name": "stdout",
     "output_type": "stream",
     "text": [
      " http://www.reuters.com/article/2014/05/26/bc-abiogen-pharma-distri-idUSnPn4w9tS2+82+PRN20140526\n",
      "'NoneType' object has no attribute 'text'"
     ]
    },
    {
     "name": "stdout",
     "output_type": "stream",
     "text": [
      " http://www.reuters.com/article/2014/05/27/pa-hagensbermansobol-idUSnPn3cyJbV+85+PRN20140527\n",
      "2014-05-26\n",
      "'NoneType' object has no attribute 'text'"
     ]
    },
    {
     "name": "stdout",
     "output_type": "stream",
     "text": [
      " http://www.reuters.com/article/2014/05/27/reformedeconomicsinst-idUSnPn30pMNl+86+PRN20140527\n",
      "'NoneType' object has no attribute 'text'"
     ]
    },
    {
     "name": "stdout",
     "output_type": "stream",
     "text": [
      " http://www.reuters.com/article/2014/05/27/la-lgbt-center-gift-idUSnPn7Mk5vG+91+PRN20140527\n",
      "'NoneType' object has no attribute 'text'"
     ]
    },
    {
     "name": "stdout",
     "output_type": "stream",
     "text": [
      " http://www.reuters.com/article/2014/05/27/bc-investor-edgecom-idUSnPn6FgJVT+97+PRN20140527\n",
      "'NoneType' object has no attribute 'text'"
     ]
    },
    {
     "name": "stdout",
     "output_type": "stream",
     "text": [
      " http://www.reuters.com/article/2014/05/27/peoplematter-ur-hired-idUSnPnbB3S3D+95+PRN20140527\n",
      "'NoneType' object has no attribute 'text'"
     ]
    },
    {
     "name": "stdout",
     "output_type": "stream",
     "text": [
      " http://www.reuters.com/article/2014/05/27/tx-corner-bakery-cafe-idUSnPnc34CVB+87+PRN20140527\n",
      "'NoneType' object has no attribute 'text'"
     ]
    },
    {
     "name": "stdout",
     "output_type": "stream",
     "text": [
      " http://www.reuters.com/article/2014/05/27/eia-rosewood-seized-idUSnPnc5W93F+89+PRN20140527\n",
      "'NoneType' object has no attribute 'text'"
     ]
    },
    {
     "name": "stdout",
     "output_type": "stream",
     "text": [
      " http://www.reuters.com/article/2014/05/28/sdshh-court-outcome-idUSnPn8mV7ff+88+PRN20140528\n",
      "'NoneType' object has no attribute 'text'"
     ]
    },
    {
     "name": "stdout",
     "output_type": "stream",
     "text": [
      " http://www.reuters.com/article/2014/05/27/ga-axiologix-retains-idUSnPnZzJnX+55+PRN20140527\n",
      "'NoneType' object has no attribute 'text'"
     ]
    },
    {
     "name": "stdout",
     "output_type": "stream",
     "text": [
      "\n",
      "'NoneType' object has no attribute 'text'"
     ]
    },
    {
     "name": "stdout",
     "output_type": "stream",
     "text": [
      " http://www.reuters.com/article/2014/05/28/md-ussilica-confernc-idUSnPn6Y6bHd+92+PRN20140528\n",
      "2014-05-27"
     ]
    },
    {
     "name": "stdout",
     "output_type": "stream",
     "text": [
      " http://www.reuters.com/article/2014/05/28/capitol-fourth-lineup-idUSnPn30cTRH+87+PRN20140528\n",
      "'NoneType' object has no attribute 'text'"
     ]
    },
    {
     "name": "stdout",
     "output_type": "stream",
     "text": [
      " http://www.reuters.com/article/2014/05/28/wealth-x-kanye-kim-idUSnPn38ppGL+83+PRN20140528\n",
      "'NoneType' object has no attribute 'text'"
     ]
    },
    {
     "name": "stdout",
     "output_type": "stream",
     "text": [
      " http://www.reuters.com/article/2014/05/28/aflac-benefits-study-idUSnPn66Mxgt+88+PRN20140528\n",
      "'NoneType' object has no attribute 'text'"
     ]
    },
    {
     "name": "stdout",
     "output_type": "stream",
     "text": [
      " http://www.reuters.com/article/2014/05/28/pa-dicks-foundation-idUSnPn3vmZpV+85+PRN20140528\n",
      "'NoneType' object has no attribute 'text'"
     ]
    },
    {
     "name": "stdout",
     "output_type": "stream",
     "text": [
      " http://www.reuters.com/article/2014/05/28/fl-awh-partners-award-idUSnPngM330+48+PRN20140528\n",
      "'NoneType' object has no attribute 'text'"
     ]
    },
    {
     "name": "stdout",
     "output_type": "stream",
     "text": [
      " http://www.reuters.com/article/2014/05/28/wi-harleydavidson-dad-idUSnPn3m3QxM+85+PRN20140528\n",
      "'NoneType' object has no attribute 'text'"
     ]
    },
    {
     "name": "stdout",
     "output_type": "stream",
     "text": [
      " http://www.reuters.com/article/2014/05/28/kpmgintl-insightslabs-idUSnPn26NBBv+8e+PRN20140528\n",
      "'NoneType' object has no attribute 'text'"
     ]
    },
    {
     "name": "stdout",
     "output_type": "stream",
     "text": [
      " http://www.reuters.com/article/2014/05/28/il-business-insurance-idUSnPnbjPMYj+8e+PRN20140528\n",
      "'NoneType' object has no attribute 'text'"
     ]
    },
    {
     "name": "stdout",
     "output_type": "stream",
     "text": [
      " http://www.reuters.com/article/2014/05/28/zacks-industryoutlook-idUSnPn1lgpDf+82+PRN20140528\n",
      "'NoneType' object has no attribute 'text'"
     ]
    },
    {
     "name": "stdout",
     "output_type": "stream",
     "text": [
      "\n",
      "'NoneType' object has no attribute 'text'"
     ]
    },
    {
     "name": "stdout",
     "output_type": "stream",
     "text": [
      " http://www.reuters.com/article/2014/05/29/ca-lionsgate-q4-earns-idUSnPn4ZGxXl+9a+PRN20140529\n",
      "2014-05-28"
     ]
    },
    {
     "name": "stdout",
     "output_type": "stream",
     "text": [
      " http://www.reuters.com/article/2014/05/29/ma-decisionrg-cardiac-idUSnPn1hmBwH+85+PRN20140529\n",
      "'NoneType' object has no attribute 'text'"
     ]
    },
    {
     "name": "stdout",
     "output_type": "stream",
     "text": [
      " http://www.reuters.com/article/2014/05/29/il-zacks-investment-idUSnPn2RQ9Cy+9a+PRN20140529\n",
      "'NoneType' object has no attribute 'text'"
     ]
    },
    {
     "name": "stdout",
     "output_type": "stream",
     "text": [
      " http://www.reuters.com/article/2014/05/29/hertz-dream-cars-idUSnPn4q9S06+84+PRN20140529\n",
      "'NoneType' object has no attribute 'text'"
     ]
    },
    {
     "name": "stdout",
     "output_type": "stream",
     "text": [
      " http://www.reuters.com/article/2014/05/29/nv-sensavis-ab-idUSnPn3CxV12+94+PRN20140529\n",
      "'NoneType' object has no attribute 'text'"
     ]
    },
    {
     "name": "stdout",
     "output_type": "stream",
     "text": [
      " http://www.reuters.com/article/2014/05/29/ny-stand-up-to-cancer-idUSnPn29YLWh+8e+PRN20140529\n",
      "'NoneType' object has no attribute 'text'"
     ]
    },
    {
     "name": "stdout",
     "output_type": "stream",
     "text": [
      " http://www.reuters.com/article/2014/05/29/bc-ar-idUSnPn5b8fRf+82+PRN20140529\n",
      "'NoneType' object has no attribute 'text'"
     ]
    },
    {
     "name": "stdout",
     "output_type": "stream",
     "text": [
      " http://www.reuters.com/article/2014/05/29/ca-black-hat-idUSnPn75SVvQ+8d+PRN20140529\n",
      "'NoneType' object has no attribute 'text'"
     ]
    },
    {
     "name": "stdout",
     "output_type": "stream",
     "text": [
      " http://www.reuters.com/article/2014/05/29/aee-electricity-survy-idUSnPn8YdTDc+96+PRN20140529\n",
      "'NoneType' object has no attribute 'text'"
     ]
    },
    {
     "name": "stdout",
     "output_type": "stream",
     "text": [
      " http://www.reuters.com/article/2014/05/29/xg-technology-patent-idUSnPn4RZGwl+9c+PRN20140529\n",
      "'NoneType' object has no attribute 'text'"
     ]
    },
    {
     "name": "stdout",
     "output_type": "stream",
     "text": [
      " http://www.reuters.com/article/2014/05/29/re-max-chicago-metro-idUSnPn5vNbZD+8b+PRN20140529\n",
      "'NoneType' object has no attribute 'text'"
     ]
    },
    {
     "name": "stdout",
     "output_type": "stream",
     "text": [
      " http://www.reuters.com/article/2014/05/29/jones-foundation-grnt-idUSnPn7r4mFv+82+PRN20140529\n",
      "'NoneType' object has no attribute 'text'"
     ]
    },
    {
     "name": "stdout",
     "output_type": "stream",
     "text": [
      "\n",
      "'NoneType' object has no attribute 'text'"
     ]
    },
    {
     "name": "stdout",
     "output_type": "stream",
     "text": [
      " http://www.reuters.com/article/2014/05/30/ny-wealthx-clippers-idUSnPn5YMhdH+99+PRN20140530\n",
      "2014-05-29"
     ]
    },
    {
     "name": "stdout",
     "output_type": "stream",
     "text": [
      " http://www.reuters.com/article/2014/05/30/itc-antidumping-order-idUSnPn9HQlv8+98+PRN20140530\n",
      "'NoneType' object has no attribute 'text'"
     ]
    },
    {
     "name": "stdout",
     "output_type": "stream",
     "text": [
      " http://www.reuters.com/article/2014/05/30/kpmgrothstein-kass-idUSnPn2Nq7yy+90+PRN20140530\n",
      "'NoneType' object has no attribute 'text'"
     ]
    },
    {
     "name": "stdout",
     "output_type": "stream",
     "text": [
      " http://www.reuters.com/article/2014/05/30/bc-investor-edge-idUSnPn4LvJKV+97+PRN20140530\n",
      "'NoneType' object has no attribute 'text'"
     ]
    },
    {
     "name": "stdout",
     "output_type": "stream",
     "text": [
      " http://www.reuters.com/article/2014/05/30/bc-investor-edgecom-idUSnPn7t5MCZ+87+PRN20140530\n",
      "'NoneType' object has no attribute 'text'"
     ]
    },
    {
     "name": "stdout",
     "output_type": "stream",
     "text": [
      " http://www.reuters.com/article/2014/05/30/degree-men-us-soccer-idUSnPn1x51HQ+83+PRN20140530\n",
      "'NoneType' object has no attribute 'text'"
     ]
    },
    {
     "name": "stdout",
     "output_type": "stream",
     "text": [
      " http://www.reuters.com/article/2014/05/30/nada-rpt-dealerships-idUSnPn1lnDLK+87+PRN20140530\n",
      "'NoneType' object has no attribute 'text'"
     ]
    },
    {
     "name": "stdout",
     "output_type": "stream",
     "text": [
      " http://www.reuters.com/article/2014/05/30/bc-investor-edgecom-idUSnPn6YZLDq+9e+PRN20140530\n",
      "'NoneType' object has no attribute 'text'"
     ]
    },
    {
     "name": "stdout",
     "output_type": "stream",
     "text": [
      "\n",
      "'NoneType' object has no attribute 'text'"
     ]
    },
    {
     "name": "stdout",
     "output_type": "stream",
     "text": [
      " http://www.reuters.com/article/2014/05/31/frc-responds-to-sudan-idUSnPn6khmP9+82+PRN20140531\n",
      "2014-05-30"
     ]
    },
    {
     "name": "stdout",
     "output_type": "stream",
     "text": [
      " http://www.reuters.com/article/2014/05/31/census-daily-feature-idUSnPn1c2FjM+85+PRN20140531\n",
      "'NoneType' object has no attribute 'text'"
     ]
    },
    {
     "name": "stdout",
     "output_type": "stream",
     "text": [
      " http://www.reuters.com/article/2014/05/31/ca-rmhc-scholarships-idUSnPn2SYTJX+9f+PRN20140531\n",
      "'NoneType' object has no attribute 'text'"
     ]
    },
    {
     "name": "stdout",
     "output_type": "stream",
     "text": [
      " http://www.reuters.com/article/2014/05/31/ca-nektar-phase-idUSnPn4JN0d5+98+PRN20140531\n",
      "'NoneType' object has no attribute 'text'"
     ]
    },
    {
     "name": "stdout",
     "output_type": "stream",
     "text": [
      " http://www.reuters.com/article/2014/05/31/ca-amgen-vectibix-idUSnPn6n1sCH+83+PRN20140531\n",
      "'NoneType' object has no attribute 'text'"
     ]
    },
    {
     "name": "stdout",
     "output_type": "stream",
     "text": [
      " http://www.reuters.com/article/2014/05/31/ca-pcyc-results-idUSnPn3rBLpD+8d+PRN20140531\n",
      "'NoneType' object has no attribute 'text'"
     ]
    },
    {
     "name": "stdout",
     "output_type": "stream",
     "text": [
      " http://www.reuters.com/article/2014/05/31/il-abbvie-presents-idUSnPn9VQly6+98+PRN20140531\n",
      "'NoneType' object has no attribute 'text'"
     ]
    },
    {
     "name": "stdout",
     "output_type": "stream",
     "text": [
      " http://www.reuters.com/article/2014/05/31/foresters-kaboom-idUSnPn28TSGP+8f+PRN20140531\n",
      "'NoneType' object has no attribute 'text'"
     ]
    },
    {
     "name": "stdout",
     "output_type": "stream",
     "text": [
      " http://www.reuters.com/article/2014/05/31/janssenibrutinib-asco-idUSnPn9Kl9pP+91+PRN20140531\n",
      "'NoneType' object has no attribute 'text'"
     ]
    },
    {
     "name": "stdout",
     "output_type": "stream",
     "text": [
      " http://www.reuters.com/article/2014/05/31/foresters-greensboro-idUSnPn7pj8Sy+82+PRN20140531\n",
      "'NoneType' object has no attribute 'text'"
     ]
    },
    {
     "name": "stdout",
     "output_type": "stream",
     "text": [
      " http://www.reuters.com/article/2014/05/31/il-carislife-data-idUSnPn37h7MQ+83+PRN20140531\n",
      "'NoneType' object has no attribute 'text'"
     ]
    },
    {
     "name": "stdout",
     "output_type": "stream",
     "text": [
      " http://www.reuters.com/article/2014/05/31/il-prometheusanalysis-idUSnPn1ypfxn+80+PRN20140531\n",
      "'NoneType' object has no attribute 'text'"
     ]
    },
    {
     "name": "stdout",
     "output_type": "stream",
     "text": [
      " http://www.reuters.com/article/2014/05/31/asco-janssen-leukemia-idUSnPn5TcSpK+95+PRN20140531\n",
      "'NoneType' object has no attribute 'text'"
     ]
    },
    {
     "name": "stdout",
     "output_type": "stream",
     "text": [
      " http://www.reuters.com/article/2014/05/31/ca-pcyc-study-idUSnPn837Cr4+84+PRN20140531\n",
      "'NoneType' object has no attribute 'text'"
     ]
    },
    {
     "name": "stdout",
     "output_type": "stream",
     "text": [
      " http://www.reuters.com/article/2014/05/31/ooredoo-leo-messi-idUSnPn4kyKph+84+PRN20140531\n",
      "'NoneType' object has no attribute 'text'"
     ]
    },
    {
     "name": "stdout",
     "output_type": "stream",
     "text": [
      " http://www.reuters.com/article/2014/05/31/delmar-pharm-asco-idUSnPn4wczhC+81+PRN20140531\n",
      "'NoneType' object has no attribute 'text'"
     ]
    },
    {
     "name": "stdout",
     "output_type": "stream",
     "text": [
      " http://www.reuters.com/article/2014/05/31/mediatek-computex-idUSnPn1hyRyP+85+PRN20140531\n",
      "'NoneType' object has no attribute 'text'"
     ]
    },
    {
     "name": "stdout",
     "output_type": "stream",
     "text": [
      " http://www.reuters.com/article/2014/05/31/eisai-phaseiiiresults-idUSnPn9CHvWt+9a+PRN20140531\n",
      "'NoneType' object has no attribute 'text'"
     ]
    },
    {
     "name": "stdout",
     "output_type": "stream",
     "text": [
      "\n",
      "'NoneType' object has no attribute 'text'"
     ]
    },
    {
     "name": "stdout",
     "output_type": "stream",
     "text": [
      " http://www.reuters.com/article/2014/06/01/ca-amgen-evolocumab-idUSnPnb07wnr+80+PRN20140601\n",
      "2014-05-31"
     ]
    },
    {
     "name": "stdout",
     "output_type": "stream",
     "text": [
      " http://www.reuters.com/article/2014/06/01/astellas-trialresults-idUSnPn7NVVMZ+9f+PRN20140601\n",
      "'NoneType' object has no attribute 'text'"
     ]
    },
    {
     "name": "stdout",
     "output_type": "stream",
     "text": [
      " http://www.reuters.com/article/2014/06/01/census-daily-feature-idUSnPn85wT3P+85+PRN20140601\n",
      "'NoneType' object has no attribute 'text'"
     ]
    },
    {
     "name": "stdout",
     "output_type": "stream",
     "text": [
      " http://www.reuters.com/article/2014/06/01/ny-cancerresearch-idUSnPn1QhDxb+94+PRN20140601\n",
      "'NoneType' object has no attribute 'text'"
     ]
    },
    {
     "name": "stdout",
     "output_type": "stream",
     "text": [
      " http://www.reuters.com/article/2014/06/01/ca-immunocellular-idUSnPnc3PhFr+8a+PRN20140601\n",
      "'NoneType' object has no attribute 'text'"
     ]
    },
    {
     "name": "stdout",
     "output_type": "stream",
     "text": [
      "\n",
      "'NoneType' object has no attribute 'text'"
     ]
    },
    {
     "name": "stdout",
     "output_type": "stream",
     "text": [
      " http://www.reuters.com/article/2014/06/02/dtf-high-mileage-cars-idUSnPn80xjf+40+PRN20140602\n",
      "2014-06-01"
     ]
    },
    {
     "name": "stdout",
     "output_type": "stream",
     "text": [
      " http://www.reuters.com/article/2014/06/02/bc-investor-edge-idUSnPn9glfdj+80+PRN20140602\n",
      "'NoneType' object has no attribute 'text'"
     ]
    },
    {
     "name": "stdout",
     "output_type": "stream",
     "text": [
      " http://www.reuters.com/article/2014/06/02/accenture-energystudy-idUSnPnbXvh1v+90+PRN20140602\n",
      "'NoneType' object has no attribute 'text'"
     ]
    },
    {
     "name": "stdout",
     "output_type": "stream",
     "text": [
      " http://www.reuters.com/article/2014/06/02/bank-leumi-opens-la-idUSnPn60Lzf6+88+PRN20140602\n",
      "'NoneType' object has no attribute 'text'"
     ]
    },
    {
     "name": "stdout",
     "output_type": "stream",
     "text": [
      " http://www.reuters.com/article/2014/06/02/mt-montainsky-grants-idUSnPnpB1R0+4a+PRN20140602\n",
      "'NoneType' object has no attribute 'text'"
     ]
    },
    {
     "name": "stdout",
     "output_type": "stream",
     "text": [
      " http://www.reuters.com/article/2014/06/02/votehemp-research-idUSnPn5nYVhp+8c+PRN20140602\n",
      "'NoneType' object has no attribute 'text'"
     ]
    },
    {
     "name": "stdout",
     "output_type": "stream",
     "text": [
      " http://www.reuters.com/article/2014/06/02/oh-chl-ispor-idUSnPn9VnlQz+92+PRN20140602\n",
      "'NoneType' object has no attribute 'text'"
     ]
    },
    {
     "name": "stdout",
     "output_type": "stream",
     "text": [
      " http://www.reuters.com/article/2014/06/02/bc-investor-edgecom-idUSnPnTn5T3+52+PRN20140602\n",
      "'NoneType' object has no attribute 'text'"
     ]
    },
    {
     "name": "stdout",
     "output_type": "stream",
     "text": [
      " http://www.reuters.com/article/2014/06/02/zacks-investmentideas-idUSnPn5cByxl+88+PRN20140602\n",
      "'NoneType' object has no attribute 'text'"
     ]
    },
    {
     "name": "stdout",
     "output_type": "stream",
     "text": [
      " http://www.reuters.com/article/2014/06/02/konared-raises-500k-idUSnPn39zXNL+87+PRN20140602\n",
      "'NoneType' object has no attribute 'text'"
     ]
    },
    {
     "name": "stdout",
     "output_type": "stream",
     "text": [
      " http://www.reuters.com/article/2014/06/02/baskin-robbins-cakes-idUSnPn1wf7gX+81+PRN20140602\n",
      "'NoneType' object has no attribute 'text'"
     ]
    },
    {
     "name": "stdout",
     "output_type": "stream",
     "text": [
      " http://www.reuters.com/article/2014/06/02/aarp-ali-caregiver-idUSnPn318f17+80+PRN20140602\n",
      "'NoneType' object has no attribute 'text'"
     ]
    },
    {
     "name": "stdout",
     "output_type": "stream",
     "text": [
      " http://www.reuters.com/article/2014/06/02/nma-calls-epa-rules-idUSnPn718MnQ+85+PRN20140602\n",
      "'NoneType' object has no attribute 'text'"
     ]
    },
    {
     "name": "stdout",
     "output_type": "stream",
     "text": [
      " http://www.reuters.com/article/2014/06/02/2014-fdici-report-idUSnPn75WfGS+8b+PRN20140602\n",
      "'NoneType' object has no attribute 'text'"
     ]
    },
    {
     "name": "stdout",
     "output_type": "stream",
     "text": [
      "\n",
      "'NoneType' object has no attribute 'text'"
     ]
    },
    {
     "name": "stdout",
     "output_type": "stream",
     "text": [
      " http://www.reuters.com/article/2014/06/03/ex-im-exports-africa-idUSnPn2Hy9Nz+92+PRN20140603\n",
      "2014-06-02"
     ]
    },
    {
     "name": "stdout",
     "output_type": "stream",
     "text": [
      " http://www.reuters.com/article/2014/06/03/ncr-us-idUSnPnbLT9Ws+9a+PRN20140603\n",
      "'NoneType' object has no attribute 'text'"
     ]
    },
    {
     "name": "stdout",
     "output_type": "stream",
     "text": [
      " http://www.reuters.com/article/2014/06/03/telecomcorpofnewzea-idUSnPn6pLkN7+8a+PRN20140603\n",
      "'NoneType' object has no attribute 'text'"
     ]
    },
    {
     "name": "stdout",
     "output_type": "stream",
     "text": [
      " http://www.reuters.com/article/2014/06/03/james-white-business-idUSnPnbHXdgQ+99+PRN20140603\n",
      "'NoneType' object has no attribute 'text'"
     ]
    },
    {
     "name": "stdout",
     "output_type": "stream",
     "text": [
      " http://www.reuters.com/article/2014/06/03/ma-strategy-analytics-idUSnPn6mLsBT+8b+PRN20140603\n",
      "'NoneType' object has no attribute 'text'"
     ]
    },
    {
     "name": "stdout",
     "output_type": "stream",
     "text": [
      " http://www.reuters.com/article/2014/06/03/chrysler-may-sales-idUSnPn27xFPJ+87+PRN20140603\n",
      "'NoneType' object has no attribute 'text'"
     ]
    },
    {
     "name": "stdout",
     "output_type": "stream",
     "text": [
      " http://www.reuters.com/article/2014/06/03/porsche-may-sales-idUSnPn5MKMw0+9c+PRN20140603\n",
      "'NoneType' object has no attribute 'text'"
     ]
    },
    {
     "name": "stdout",
     "output_type": "stream",
     "text": [
      " http://www.reuters.com/article/2014/06/03/co-cannabis-science-idUSnPn3t6h63+80+PRN20140603\n",
      "'NoneType' object has no attribute 'text'"
     ]
    },
    {
     "name": "stdout",
     "output_type": "stream",
     "text": [
      " http://www.reuters.com/article/2014/06/03/ny-harrispoll-rights-idUSnPn6f5X5w+84+PRN20140603\n",
      "'NoneType' object has no attribute 'text'"
     ]
    },
    {
     "name": "stdout",
     "output_type": "stream",
     "text": [
      " http://www.reuters.com/article/2014/06/03/conyers-bobweiner-idUSnPn4PLwh7+98+PRN20140603\n",
      "'NoneType' object has no attribute 'text'"
     ]
    },
    {
     "name": "stdout",
     "output_type": "stream",
     "text": [
      "\n",
      "'NoneType' object has no attribute 'text'"
     ]
    },
    {
     "name": "stdout",
     "output_type": "stream",
     "text": [
      " http://www.reuters.com/article/2014/06/04/techmetalsresearch-idUSnPn4NMWg7+9c+PRN20140604\n",
      "2014-06-03"
     ]
    },
    {
     "name": "stdout",
     "output_type": "stream",
     "text": [
      " http://www.reuters.com/article/2014/06/04/orchidspaperproducts-idUSnPn2GjP2W+95+PRN20140604\n",
      "'NoneType' object has no attribute 'text'"
     ]
    },
    {
     "name": "stdout",
     "output_type": "stream",
     "text": [
      " http://www.reuters.com/article/2014/06/04/goodman-birtcher-us-idUSnPn8vFy7l+88+PRN20140604\n",
      "'NoneType' object has no attribute 'text'"
     ]
    },
    {
     "name": "stdout",
     "output_type": "stream",
     "text": [
      " http://www.reuters.com/article/2014/06/05/ny-bancocreditoperu-idUSnPn5BlMVV+97+PRN20140605\n",
      "'NoneType' object has no attribute 'text'"
     ]
    },
    {
     "name": "stdout",
     "output_type": "stream",
     "text": [
      " http://www.reuters.com/article/2014/06/04/va-widepointcorp-idUSnPn9mp4yt+80+PRN20140604\n",
      "'NoneType' object has no attribute 'text'"
     ]
    },
    {
     "name": "stdout",
     "output_type": "stream",
     "text": [
      " http://www.reuters.com/article/2014/06/04/sol-supply-us-project-idUSnPn9txDGz+86+PRN20140604\n",
      "'NoneType' object has no attribute 'text'"
     ]
    },
    {
     "name": "stdout",
     "output_type": "stream",
     "text": [
      " http://www.reuters.com/article/2014/06/04/legacy-zeller-discuss-idUSnPnD3VRH+57+PRN20140604\n",
      "'NoneType' object has no attribute 'text'"
     ]
    },
    {
     "name": "stdout",
     "output_type": "stream",
     "text": [
      " http://www.reuters.com/article/2014/06/04/exim-exports-april-idUSnPn7MTDhK+9d+PRN20140604\n",
      "'NoneType' object has no attribute 'text'"
     ]
    },
    {
     "name": "stdout",
     "output_type": "stream",
     "text": [
      " http://www.reuters.com/article/2014/06/04/chrysler-sales-record-idUSnPn596knM+81+PRN20140604\n",
      "'NoneType' object has no attribute 'text'"
     ]
    },
    {
     "name": "stdout",
     "output_type": "stream",
     "text": [
      "\n",
      "'NoneType' object has no attribute 'text'"
     ]
    },
    {
     "name": "stdout",
     "output_type": "stream",
     "text": [
      " http://www.reuters.com/article/2014/06/05/smic-placing-shares-idUSnPn9XH0cy+98+PRN20140605\n",
      "2014-06-04"
     ]
    },
    {
     "name": "stdout",
     "output_type": "stream",
     "text": [
      " http://www.reuters.com/article/2014/06/05/cascasdes-privateplac-idUSnPn1hNZPr+8e+PRN20140605\n",
      "'NoneType' object has no attribute 'text'"
     ]
    },
    {
     "name": "stdout",
     "output_type": "stream",
     "text": [
      " http://www.reuters.com/article/2014/06/05/doe-cspelements-tces-idUSnPn6NR5wp+98+PRN20140605\n",
      "'NoneType' object has no attribute 'text'"
     ]
    },
    {
     "name": "stdout",
     "output_type": "stream",
     "text": [
      " http://www.reuters.com/article/2014/06/05/buzzoola-inc-us-idUSnPn303tLH+83+PRN20140605\n",
      "'NoneType' object has no attribute 'text'"
     ]
    },
    {
     "name": "stdout",
     "output_type": "stream",
     "text": [
      " http://www.reuters.com/article/2014/06/05/ma-decision-resources-idUSnPn79F93y+88+PRN20140605\n",
      "'NoneType' object has no attribute 'text'"
     ]
    },
    {
     "name": "stdout",
     "output_type": "stream",
     "text": [
      " http://www.reuters.com/article/2014/06/05/cascades-privatplacem-idUSnPn9QfYGD+97+PRN20140605\n",
      "'NoneType' object has no attribute 'text'"
     ]
    },
    {
     "name": "stdout",
     "output_type": "stream",
     "text": [
      " http://www.reuters.com/article/2014/06/05/puerto-rico-tourism-idUSnPn1bhGgD+85+PRN20140605\n",
      "'NoneType' object has no attribute 'text'"
     ]
    },
    {
     "name": "stdout",
     "output_type": "stream",
     "text": [
      " http://www.reuters.com/article/2014/06/05/va-leidos-108m-order-idUSnPn456GyJ+85+PRN20140605\n",
      "'NoneType' object has no attribute 'text'"
     ]
    },
    {
     "name": "stdout",
     "output_type": "stream",
     "text": [
      " http://www.reuters.com/article/2014/06/05/ma-decision-resources-idUSnPn8F1d0s+90+PRN20140605\n",
      "'NoneType' object has no attribute 'text'"
     ]
    },
    {
     "name": "stdout",
     "output_type": "stream",
     "text": [
      " http://www.reuters.com/article/2014/06/05/lisc-tax-credit-jobs-idUSnPn1sr7VY+83+PRN20140605\n",
      "'NoneType' object has no attribute 'text'"
     ]
    },
    {
     "name": "stdout",
     "output_type": "stream",
     "text": [
      " http://www.reuters.com/article/2014/06/05/nj-locusenergy-rank-idUSnPnblCFML+8f+PRN20140605\n",
      "'NoneType' object has no attribute 'text'"
     ]
    },
    {
     "name": "stdout",
     "output_type": "stream",
     "text": [
      " http://www.reuters.com/article/2014/06/05/cp-cash-tender-offers-idUSnPn4mrdt+40+PRN20140605\n",
      "'NoneType' object has no attribute 'text'"
     ]
    },
    {
     "name": "stdout",
     "output_type": "stream",
     "text": [
      " http://www.reuters.com/article/2014/06/05/bc-investor-edgecom-idUSnPn7FH5Yt+9a+PRN20140605\n",
      "'NoneType' object has no attribute 'text'"
     ]
    },
    {
     "name": "stdout",
     "output_type": "stream",
     "text": [
      " http://www.reuters.com/article/2014/06/05/oh-transdigmnotes-div-idUSnPn33DsbX+89+PRN20140605\n",
      "'NoneType' object has no attribute 'text'"
     ]
    },
    {
     "name": "stdout",
     "output_type": "stream",
     "text": [
      " http://www.reuters.com/article/2014/06/05/ma-atlantic-power-div-idUSnPn3SCtcb+98+PRN20140605\n",
      "'NoneType' object has no attribute 'text'"
     ]
    },
    {
     "name": "stdout",
     "output_type": "stream",
     "text": [
      " http://www.reuters.com/article/2014/06/05/toys-r-us-csr-idUSnPnc6VnD7+8a+PRN20140605\n",
      "'NoneType' object has no attribute 'text'"
     ]
    },
    {
     "name": "stdout",
     "output_type": "stream",
     "text": [
      " http://www.reuters.com/article/2014/06/05/capital-impact-nmtc-idUSnPn5FPTSs+9e+PRN20140605\n",
      "'NoneType' object has no attribute 'text'"
     ]
    },
    {
     "name": "stdout",
     "output_type": "stream",
     "text": [
      " http://www.reuters.com/article/2014/06/05/bc-analystsreviewcom-idUSnPn45qDZw+86+PRN20140605\n",
      "'NoneType' object has no attribute 'text'"
     ]
    },
    {
     "name": "stdout",
     "output_type": "stream",
     "text": [
      "\n",
      "'NoneType' object has no attribute 'text'"
     ]
    },
    {
     "name": "stdout",
     "output_type": "stream",
     "text": [
      " http://www.reuters.com/article/2014/06/06/cohensteers-funds-idUSnPnbWMPJ7+9e+PRN20140606\n",
      "2014-06-05"
     ]
    },
    {
     "name": "stdout",
     "output_type": "stream",
     "text": [
      " http://www.reuters.com/article/2014/06/06/ny-global-fund-offer-idUSnPn3FGg6h+98+PRN20140606\n",
      "'NoneType' object has no attribute 'text'"
     ]
    },
    {
     "name": "stdout",
     "output_type": "stream",
     "text": [
      " http://www.reuters.com/article/2014/06/06/bc-analystsreviewcom-idUSnPn8Hl4Gx+92+PRN20140606\n",
      "'NoneType' object has no attribute 'text'"
     ]
    },
    {
     "name": "stdout",
     "output_type": "stream",
     "text": [
      " http://www.reuters.com/article/2014/06/06/financeit-facilites-idUSnPn1yp4jt+80+PRN20140606\n",
      "'NoneType' object has no attribute 'text'"
     ]
    },
    {
     "name": "stdout",
     "output_type": "stream",
     "text": [
      " http://www.reuters.com/article/2014/06/06/transitiontherapeutic-idUSnPnb18DkH+85+PRN20140606\n",
      "'NoneType' object has no attribute 'text'"
     ]
    },
    {
     "name": "stdout",
     "output_type": "stream",
     "text": [
      " http://www.reuters.com/article/2014/06/06/bc-analysts-review-idUSnPn5lt0Cl+82+PRN20140606\n",
      "'NoneType' object has no attribute 'text'"
     ]
    },
    {
     "name": "stdout",
     "output_type": "stream",
     "text": [
      " http://www.reuters.com/article/2014/06/06/conferncbrd-us-labor-idUSnPn5bBpXb+8a+PRN20140606\n",
      "'NoneType' object has no attribute 'text'"
     ]
    },
    {
     "name": "stdout",
     "output_type": "stream",
     "text": [
      " http://www.reuters.com/article/2014/06/06/bc-analysts-review-idUSnPnGn7vs+50+PRN20140606\n",
      "'NoneType' object has no attribute 'text'"
     ]
    },
    {
     "name": "stdout",
     "output_type": "stream",
     "text": [
      " http://www.reuters.com/article/2014/06/06/evergrande-sales-vol-idUSnPn7JjWdH+95+PRN20140606\n",
      "'NoneType' object has no attribute 'text'"
     ]
    },
    {
     "name": "stdout",
     "output_type": "stream",
     "text": [
      "\n",
      "'NoneType' object has no attribute 'text'"
     ]
    },
    {
     "name": "stdout",
     "output_type": "stream",
     "text": [
      " http://www.reuters.com/article/2014/06/07/personhoodusa-justina-idUSnPn7KzhyR+91+PRN20140607\n",
      "2014-06-06"
     ]
    },
    {
     "name": "stdout",
     "output_type": "stream",
     "text": [
      " http://www.reuters.com/article/2014/06/07/personhoodusa-justina-idUSnPn6LHn71+98+PRN20140607\n",
      "'NoneType' object has no attribute 'text'"
     ]
    },
    {
     "name": "stdout",
     "output_type": "stream",
     "text": [
      " http://www.reuters.com/article/2014/06/07/census-daily-feature-idUSnPn6BLsq5+98+PRN20140607\n",
      "'NoneType' object has no attribute 'text'"
     ]
    },
    {
     "name": "stdout",
     "output_type": "stream",
     "text": [
      " http://www.reuters.com/article/2014/06/08/ey-entrepreneur-award-idUSnPnbq33CN+83+PRN20140608\n",
      "'NoneType' object has no attribute 'text'"
     ]
    },
    {
     "name": "stdout",
     "output_type": "stream",
     "text": [
      " http://www.reuters.com/article/2014/06/07/foresterselcajoncity-idUSnPn2hb4Kz+82+PRN20140607\n",
      "'NoneType' object has no attribute 'text'"
     ]
    },
    {
     "name": "stdout",
     "output_type": "stream",
     "text": [
      " http://www.reuters.com/article/2014/06/07/wy-u-haul-tweed-lane-idUSnPn38RxgS+89+PRN20140607\n",
      "'NoneType' object has no attribute 'text'"
     ]
    },
    {
     "name": "stdout",
     "output_type": "stream",
     "text": [
      " http://www.reuters.com/article/2014/06/07/ny-state-economy-idUSnPn3HWtRz+9a+PRN20140607\n",
      "'NoneType' object has no attribute 'text'"
     ]
    },
    {
     "name": "stdout",
     "output_type": "stream",
     "text": [
      " http://www.reuters.com/article/2014/06/07/in-u-haul-micro-idUSnPn6KnkDD+93+PRN20140607\n",
      "'NoneType' object has no attribute 'text'"
     ]
    },
    {
     "name": "stdout",
     "output_type": "stream",
     "text": [
      " http://www.reuters.com/article/2014/06/07/prn-test-idUSnPn1mbSRk+86+PRN20140607\n",
      "'NoneType' object has no attribute 'text'"
     ]
    },
    {
     "name": "stdout",
     "output_type": "stream",
     "text": [
      "\n",
      "'NoneType' object has no attribute 'text'"
     ]
    },
    {
     "name": "stdout",
     "output_type": "stream",
     "text": [
      " http://www.reuters.com/article/2014/06/08/census-daily-feature-idUSnPn6Lnsmm+90+PRN20140608\n",
      "2014-06-07"
     ]
    },
    {
     "name": "stdout",
     "output_type": "stream",
     "text": [
      " http://www.reuters.com/article/2014/06/08/ellomaycapital-ila-idUSnPn7QPrg5+98+PRN20140608\n",
      "'NoneType' object has no attribute 'text'"
     ]
    },
    {
     "name": "stdout",
     "output_type": "stream",
     "text": [
      " http://www.reuters.com/article/2014/06/08/bc-azipac-and-mitra-ener-idUSnPn7McRKP+97+PRN20140608\n",
      "'NoneType' object has no attribute 'text'"
     ]
    },
    {
     "name": "stdout",
     "output_type": "stream",
     "text": [
      " http://www.reuters.com/article/2014/06/08/idUSnMKWkjSCHa+1ce+MKW20140608\n",
      "'NoneType' object has no attribute 'text'"
     ]
    },
    {
     "name": "stdout",
     "output_type": "stream",
     "text": [
      " http://www.reuters.com/article/2014/06/08/nc-dickeysbbq-canton-idUSnPn2Vb2Nd+92+PRN20140608\n",
      "'NoneType' object has no attribute 'text'"
     ]
    },
    {
     "name": "stdout",
     "output_type": "stream",
     "text": [
      " http://www.reuters.com/article/2014/06/08/pa-coordhlth-ironpigs-idUSnPn8QW1KQ+9b+PRN20140608\n",
      "'NoneType' object has no attribute 'text'"
     ]
    },
    {
     "name": "stdout",
     "output_type": "stream",
     "text": [
      "\n",
      "'NoneType' object has no attribute 'text'"
     ]
    },
    {
     "name": "stdout",
     "output_type": "stream",
     "text": [
      " http://www.reuters.com/article/2014/06/09/la-miss-universe-idUSnPn8Dllzg+90+PRN20140609\n",
      "2014-06-08"
     ]
    },
    {
     "name": "stdout",
     "output_type": "stream",
     "text": [
      " http://www.reuters.com/article/2014/06/09/holi-ifc-loan-idUSnPnxf79r+40+PRN20140609\n",
      "'NoneType' object has no attribute 'text'"
     ]
    },
    {
     "name": "stdout",
     "output_type": "stream",
     "text": [
      " http://www.reuters.com/article/2014/06/09/ny-faruqifaruqi-llp-idUSnPn4My1Vn+92+PRN20140609\n",
      "'NoneType' object has no attribute 'text'"
     ]
    },
    {
     "name": "stdout",
     "output_type": "stream",
     "text": [
      " http://www.reuters.com/article/2014/06/09/ca-pharmacyclics-snda-idUSnPn1RbP6k+94+PRN20140609\n",
      "'NoneType' object has no attribute 'text'"
     ]
    },
    {
     "name": "stdout",
     "output_type": "stream",
     "text": [
      " http://www.reuters.com/article/2014/06/09/ca-unitedairlines-idUSnPnbTs9xV+91+PRN20140609\n",
      "'NoneType' object has no attribute 'text'"
     ]
    },
    {
     "name": "stdout",
     "output_type": "stream",
     "text": [
      " http://www.reuters.com/article/2014/06/09/americanenergypartner-idUSnPn6vRD5H+8d+PRN20140609\n",
      "'NoneType' object has no attribute 'text'"
     ]
    },
    {
     "name": "stdout",
     "output_type": "stream",
     "text": [
      " http://www.reuters.com/article/2014/06/09/bc-investor-edge-idUSnPngZ9W5+4a+PRN20140609\n",
      "'NoneType' object has no attribute 'text'"
     ]
    },
    {
     "name": "stdout",
     "output_type": "stream",
     "text": [
      " http://www.reuters.com/article/2014/06/09/american-energy-acqu-idUSnPn63wbND+83+PRN20140609\n",
      "'NoneType' object has no attribute 'text'"
     ]
    },
    {
     "name": "stdout",
     "output_type": "stream",
     "text": [
      " http://www.reuters.com/article/2014/06/09/interface-humannature-idUSnPn10lzCQ+83+PRN20140609\n",
      "'NoneType' object has no attribute 'text'"
     ]
    },
    {
     "name": "stdout",
     "output_type": "stream",
     "text": [
      " http://www.reuters.com/article/2014/06/09/ma-uscommcivilrights-idUSnPnc9G91+44+PRN20140609\n",
      "'NoneType' object has no attribute 'text'"
     ]
    },
    {
     "name": "stdout",
     "output_type": "stream",
     "text": [
      " http://www.reuters.com/article/2014/06/09/nc-duke-dan-river-idUSnPnbhm3W5+82+PRN20140609\n",
      "'NoneType' object has no attribute 'text'"
     ]
    },
    {
     "name": "stdout",
     "output_type": "stream",
     "text": [
      " http://www.reuters.com/article/2014/06/09/trailstone-acquires-idUSnPn7WXbCM+9b+PRN20140609\n",
      "'NoneType' object has no attribute 'text'"
     ]
    },
    {
     "name": "stdout",
     "output_type": "stream",
     "text": [
      "\n",
      "'NoneType' object has no attribute 'text'"
     ]
    },
    {
     "name": "stdout",
     "output_type": "stream",
     "text": [
      " http://www.reuters.com/article/2014/06/10/conifer-financial-ser-idUSnPn8MG97f+98+PRN20140610\n",
      "2014-06-09"
     ]
    },
    {
     "name": "stdout",
     "output_type": "stream",
     "text": [
      " http://www.reuters.com/article/2014/06/10/ar-blueoak-refinery-idUSnPnc4LcLk+8a+PRN20140610\n",
      "'NoneType' object has no attribute 'text'"
     ]
    },
    {
     "name": "stdout",
     "output_type": "stream",
     "text": [
      " http://www.reuters.com/article/2014/06/10/santander-pele-cup-idUSnPn769f47+80+PRN20140610\n",
      "'NoneType' object has no attribute 'text'"
     ]
    },
    {
     "name": "stdout",
     "output_type": "stream",
     "text": [
      " http://www.reuters.com/article/2014/06/10/puerto-rico-treasury-idUSnPn8W13cb+90+PRN20140610\n",
      "'NoneType' object has no attribute 'text'"
     ]
    },
    {
     "name": "stdout",
     "output_type": "stream",
     "text": [
      " http://www.reuters.com/article/2014/06/10/country-crock-wwp-idUSnPn9KCkBt+9a+PRN20140610\n",
      "'NoneType' object has no attribute 'text'"
     ]
    },
    {
     "name": "stdout",
     "output_type": "stream",
     "text": [
      " http://www.reuters.com/article/2014/06/10/legacy-fda-zeller-idUSnPn32QYyd+8c+PRN20140610\n",
      "'NoneType' object has no attribute 'text'"
     ]
    },
    {
     "name": "stdout",
     "output_type": "stream",
     "text": [
      " http://www.reuters.com/article/2014/06/10/nsba-flexibility-act-idUSnPn4N2NpC+95+PRN20140610\n",
      "'NoneType' object has no attribute 'text'"
     ]
    },
    {
     "name": "stdout",
     "output_type": "stream",
     "text": [
      " http://www.reuters.com/article/2014/06/10/dc-abengoa-energy-idUSnPnb3TmKz+8a+PRN20140610\n",
      "'NoneType' object has no attribute 'text'"
     ]
    },
    {
     "name": "stdout",
     "output_type": "stream",
     "text": [
      " http://www.reuters.com/article/2014/06/10/bc-ie-idUSnPn9C6VvJ+95+PRN20140610\n",
      "'NoneType' object has no attribute 'text'"
     ]
    },
    {
     "name": "stdout",
     "output_type": "stream",
     "text": [
      " http://www.reuters.com/article/2014/06/10/ga-uhaul-conservation-idUSnPn5VyZJc+96+PRN20140610\n",
      "'NoneType' object has no attribute 'text'"
     ]
    },
    {
     "name": "stdout",
     "output_type": "stream",
     "text": [
      " http://www.reuters.com/article/2014/06/10/serco-contract-17mil-idUSnPn35KjkG+89+PRN20140610\n",
      "'NoneType' object has no attribute 'text'"
     ]
    },
    {
     "name": "stdout",
     "output_type": "stream",
     "text": [
      " http://www.reuters.com/article/2014/06/10/compass-intelligence-idUSnPn87BtBm+8a+PRN20140610\n",
      "'NoneType' object has no attribute 'text'"
     ]
    },
    {
     "name": "stdout",
     "output_type": "stream",
     "text": [
      " http://www.reuters.com/article/2014/06/10/ny-polar-new-colors-idUSnPn6cKv9f+88+PRN20140610\n",
      "'NoneType' object has no attribute 'text'"
     ]
    },
    {
     "name": "stdout",
     "output_type": "stream",
     "text": [
      " http://www.reuters.com/article/2014/06/10/bc-ar-idUSnPn63X53Q+89+PRN20140610\n",
      "'NoneType' object has no attribute 'text'"
     ]
    },
    {
     "name": "stdout",
     "output_type": "stream",
     "text": [
      " http://www.reuters.com/article/2014/06/10/alfa-romeo-franchises-idUSnPn57qdv2+80+PRN20140610\n",
      "'NoneType' object has no attribute 'text'"
     ]
    },
    {
     "name": "stdout",
     "output_type": "stream",
     "text": [
      " http://www.reuters.com/article/2014/06/10/npf-neurology-care-idUSnPn5rfd8F+81+PRN20140610\n",
      "'NoneType' object has no attribute 'text'"
     ]
    },
    {
     "name": "stdout",
     "output_type": "stream",
     "text": [
      "\n",
      "'NoneType' object has no attribute 'text'"
     ]
    },
    {
     "name": "stdout",
     "output_type": "stream",
     "text": [
      " http://www.reuters.com/article/2014/06/11/bc-investor-edge-idUSnPnc8KwpF+89+PRN20140611\n",
      "2014-06-10"
     ]
    },
    {
     "name": "stdout",
     "output_type": "stream",
     "text": [
      " http://www.reuters.com/article/2014/06/11/ny-pwc-us-3d-printing-idUSnPnb9M7hV+89+PRN20140611\n",
      "'NoneType' object has no attribute 'text'"
     ]
    },
    {
     "name": "stdout",
     "output_type": "stream",
     "text": [
      " http://www.reuters.com/article/2014/06/11/bc-ie-idUSnPn4NL69w+98+PRN20140611\n",
      "'NoneType' object has no attribute 'text'"
     ]
    },
    {
     "name": "stdout",
     "output_type": "stream",
     "text": [
      " http://www.reuters.com/article/2014/06/11/legacy-fda-zeller-idUSnPn6mQD7s+8c+PRN20140611\n",
      "'NoneType' object has no attribute 'text'"
     ]
    },
    {
     "name": "stdout",
     "output_type": "stream",
     "text": [
      " http://www.reuters.com/article/2014/06/11/bc-investor-edgecom-idUSnPn2mM305+88+PRN20140611\n",
      "'NoneType' object has no attribute 'text'"
     ]
    },
    {
     "name": "stdout",
     "output_type": "stream",
     "text": [
      " http://www.reuters.com/article/2014/06/11/usinfrastructure-idUSnPn5s6Sbc+84+PRN20140611\n",
      "'NoneType' object has no attribute 'text'"
     ]
    },
    {
     "name": "stdout",
     "output_type": "stream",
     "text": [
      " http://www.reuters.com/article/2014/06/11/caldairies-testimony-idUSnPn4SYHzj+9c+PRN20140611\n",
      "'NoneType' object has no attribute 'text'"
     ]
    },
    {
     "name": "stdout",
     "output_type": "stream",
     "text": [
      " http://www.reuters.com/article/2014/06/11/empowerment-belfort-idUSnPn9vGVWz+8e+PRN20140611\n",
      "'NoneType' object has no attribute 'text'"
     ]
    },
    {
     "name": "stdout",
     "output_type": "stream",
     "text": [
      " http://www.reuters.com/article/2014/06/11/tx-lso-re-brand-idUSnPn6TdFXm+96+PRN20140611\n",
      "'NoneType' object has no attribute 'text'"
     ]
    },
    {
     "name": "stdout",
     "output_type": "stream",
     "text": [
      " http://www.reuters.com/article/2014/06/11/goldreach-refund-loan-idUSnPn9ys54+40+PRN20140611\n",
      "'NoneType' object has no attribute 'text'"
     ]
    },
    {
     "name": "stdout",
     "output_type": "stream",
     "text": [
      " http://www.reuters.com/article/2014/06/11/mo-btu-ceo-energyplan-idUSnPn98T6NR+8b+PRN20140611\n",
      "'NoneType' object has no attribute 'text'"
     ]
    },
    {
     "name": "stdout",
     "output_type": "stream",
     "text": [
      " http://www.reuters.com/article/2014/06/11/1-800-law-firm-grosse-idUSnPn3x0ZB1+86+PRN20140611\n",
      "'NoneType' object has no attribute 'text'"
     ]
    },
    {
     "name": "stdout",
     "output_type": "stream",
     "text": [
      " http://www.reuters.com/article/2014/06/11/ma-socialclicks-idUSnPnf6QTv+46+PRN20140611\n",
      "'NoneType' object has no attribute 'text'"
     ]
    },
    {
     "name": "stdout",
     "output_type": "stream",
     "text": [
      "\n",
      "'NoneType' object has no attribute 'text'"
     ]
    },
    {
     "name": "stdout",
     "output_type": "stream",
     "text": [
      " http://www.reuters.com/article/2014/06/12/ca-exed-awarded-idUSnPn1QT6mY+99+PRN20140612\n",
      "2014-06-11"
     ]
    },
    {
     "name": "stdout",
     "output_type": "stream",
     "text": [
      " http://www.reuters.com/article/2014/06/12/air-china-beijing-dc-idUSnPn95BhNT+8b+PRN20140612\n",
      "'NoneType' object has no attribute 'text'"
     ]
    },
    {
     "name": "stdout",
     "output_type": "stream",
     "text": [
      " http://www.reuters.com/article/2014/06/12/bc-a-idUSnPn8wXkMM+8b+PRN20140612\n",
      "'NoneType' object has no attribute 'text'"
     ]
    },
    {
     "name": "stdout",
     "output_type": "stream",
     "text": [
      " http://www.reuters.com/article/2014/06/12/ma-decision-resources-idUSnPnNW8lq+58+PRN20140612\n",
      "'NoneType' object has no attribute 'text'"
     ]
    },
    {
     "name": "stdout",
     "output_type": "stream",
     "text": [
      " http://www.reuters.com/article/2014/06/12/mo-apt-gas-gas-usa-idUSnPncdD69z+88+PRN20140612\n",
      "'NoneType' object has no attribute 'text'"
     ]
    },
    {
     "name": "stdout",
     "output_type": "stream",
     "text": [
      " http://www.reuters.com/article/2014/06/12/irving-whalepopulatio-idUSnPn1l3l2L+81+PRN20140612\n",
      "'NoneType' object has no attribute 'text'"
     ]
    },
    {
     "name": "stdout",
     "output_type": "stream",
     "text": [
      " http://www.reuters.com/article/2014/06/12/ca-entertainment-ind-idUSnPn36hmJ0+82+PRN20140612\n",
      "'NoneType' object has no attribute 'text'"
     ]
    },
    {
     "name": "stdout",
     "output_type": "stream",
     "text": [
      " http://www.reuters.com/article/2014/06/12/ny-levikorsinsky-mont-idUSnPn4hrHff+84+PRN20140612\n",
      "'NoneType' object has no attribute 'text'"
     ]
    },
    {
     "name": "stdout",
     "output_type": "stream",
     "text": [
      " http://www.reuters.com/article/2014/06/12/akerman-top-law-firm-idUSnPn4Rlx37+90+PRN20140612\n",
      "'NoneType' object has no attribute 'text'"
     ]
    },
    {
     "name": "stdout",
     "output_type": "stream",
     "text": [
      " http://www.reuters.com/article/2014/06/12/tfk-youth-smoking-idUSnPn31b12z+80+PRN20140612\n",
      "'NoneType' object has no attribute 'text'"
     ]
    },
    {
     "name": "stdout",
     "output_type": "stream",
     "text": [
      " http://www.reuters.com/article/2014/06/13/tx-att-samsung-lte-idUSnPn3GkcGL+93+PRN20140613\n",
      "'NoneType' object has no attribute 'text'"
     ]
    },
    {
     "name": "stdout",
     "output_type": "stream",
     "text": [
      " http://www.reuters.com/article/2014/06/12/bpc-reform-report-idUSnPn32n5rW+81+PRN20140612\n",
      "'NoneType' object has no attribute 'text'"
     ]
    },
    {
     "name": "stdout",
     "output_type": "stream",
     "text": [
      " http://www.reuters.com/article/2014/06/12/bc-analysts-review-idUSnPn3h9rDk+82+PRN20140612\n",
      "'NoneType' object has no attribute 'text'"
     ]
    },
    {
     "name": "stdout",
     "output_type": "stream",
     "text": [
      " http://www.reuters.com/article/2014/06/13/adcouncil-getoutdoors-idUSnPn6xBsFM+8b+PRN20140613\n",
      "2014-06-12\n",
      "'NoneType' object has no attribute 'text'"
     ]
    },
    {
     "name": "stdout",
     "output_type": "stream",
     "text": [
      " http://www.reuters.com/article/2014/06/13/afsp-cdcsuicidereport-idUSnPn1Y2gZG+93+PRN20140613\n",
      "'NoneType' object has no attribute 'text'"
     ]
    },
    {
     "name": "stdout",
     "output_type": "stream",
     "text": [
      " http://www.reuters.com/article/2014/06/13/bc-investor-edgecom-idUSnPnndydc+40+PRN20140613\n",
      "'NoneType' object has no attribute 'text'"
     ]
    },
    {
     "name": "stdout",
     "output_type": "stream",
     "text": [
      " http://www.reuters.com/article/2014/06/13/bpc-lip-service-cmpgn-idUSnPnc7Q4ky+88+PRN20140613\n",
      "'NoneType' object has no attribute 'text'"
     ]
    },
    {
     "name": "stdout",
     "output_type": "stream",
     "text": [
      " http://www.reuters.com/article/2014/06/13/bc-investor-edge-idUSnPn3Bb0kK+91+PRN20140613\n",
      "'NoneType' object has no attribute 'text'"
     ]
    },
    {
     "name": "stdout",
     "output_type": "stream",
     "text": [
      " http://www.reuters.com/article/2014/06/13/bc-investor-edgecom-idUSnPn257qKN+83+PRN20140613\n",
      "'NoneType' object has no attribute 'text'"
     ]
    },
    {
     "name": "stdout",
     "output_type": "stream",
     "text": [
      " http://www.reuters.com/article/2014/06/13/mountainprovinceoffer-idUSnPn5Q98ht+90+PRN20140613\n",
      "'NoneType' object has no attribute 'text'"
     ]
    },
    {
     "name": "stdout",
     "output_type": "stream",
     "text": [
      "\n",
      "'NoneType' object has no attribute 'text'"
     ]
    },
    {
     "name": "stdout",
     "output_type": "stream",
     "text": [
      " http://www.reuters.com/article/2014/06/14/ny-faruqi-law-tbbk-idUSnPnbpMW99+8c+PRN20140614\n",
      "2014-06-13"
     ]
    },
    {
     "name": "stdout",
     "output_type": "stream",
     "text": [
      " http://www.reuters.com/article/2014/06/14/bc-novo-nordisk-idUSnPn4bbqDw+82+PRN20140614\n",
      "'NoneType' object has no attribute 'text'"
     ]
    },
    {
     "name": "stdout",
     "output_type": "stream",
     "text": [
      " http://www.reuters.com/article/2014/06/14/bc-victoza-phase-3-trial-idUSnPn57Ph7D+89+PRN20140614\n",
      "'NoneType' object has no attribute 'text'"
     ]
    },
    {
     "name": "stdout",
     "output_type": "stream",
     "text": [
      " http://www.reuters.com/article/2014/06/14/census-daily-feature-idUSnPnbbwMJb+86+PRN20140614\n",
      "'NoneType' object has no attribute 'text'"
     ]
    },
    {
     "name": "stdout",
     "output_type": "stream",
     "text": [
      " http://www.reuters.com/article/2014/06/14/eli-lilly-boehringer-idUSnPn8kQ782+88+PRN20140614\n",
      "'NoneType' object has no attribute 'text'"
     ]
    },
    {
     "name": "stdout",
     "output_type": "stream",
     "text": [
      " http://www.reuters.com/article/2014/06/14/ny-faruqipvctdeadline-idUSnPnhWRV3+4e+PRN20140614\n",
      "'NoneType' object has no attribute 'text'"
     ]
    },
    {
     "name": "stdout",
     "output_type": "stream",
     "text": [
      " http://www.reuters.com/article/2014/06/14/lahabranewplayground-idUSnPnbHlfV9+92+PRN20140614\n",
      "'NoneType' object has no attribute 'text'"
     ]
    },
    {
     "name": "stdout",
     "output_type": "stream",
     "text": [
      " http://www.reuters.com/article/2014/06/14/bc-novo-nordisk-idUSnPn19cvQv+82+PRN20140614\n",
      "'NoneType' object has no attribute 'text'"
     ]
    },
    {
     "name": "stdout",
     "output_type": "stream",
     "text": [
      " http://www.reuters.com/article/2014/06/14/ca-america-movie-idUSnPnbcZ872+88+PRN20140614\n",
      "'NoneType' object has no attribute 'text'"
     ]
    },
    {
     "name": "stdout",
     "output_type": "stream",
     "text": [
      " http://www.reuters.com/article/2014/06/14/chrysler-alfa-romeo-idUSnPn6HyMbJ+95+PRN20140614\n",
      "'NoneType' object has no attribute 'text'"
     ]
    },
    {
     "name": "stdout",
     "output_type": "stream",
     "text": [
      " http://www.reuters.com/article/2014/06/14/aafp-fdtn-diabetes-idUSnPn5x00Gf+82+PRN20140614\n",
      "'NoneType' object has no attribute 'text'"
     ]
    },
    {
     "name": "stdout",
     "output_type": "stream",
     "text": [
      " http://www.reuters.com/article/2014/06/14/sanofilyxumiafindings-idUSnPn9BhNQh+96+PRN20140614\n",
      "'NoneType' object has no attribute 'text'"
     ]
    },
    {
     "name": "stdout",
     "output_type": "stream",
     "text": [
      " http://www.reuters.com/article/2014/06/14/ny-lifshitz-miller-idUSnPnb9PvBx+8a+PRN20140614\n",
      "'NoneType' object has no attribute 'text'"
     ]
    },
    {
     "name": "stdout",
     "output_type": "stream",
     "text": [
      " http://www.reuters.com/article/2014/06/14/momsdemandactionrally-idUSnPn4bg1DN+83+PRN20140614\n",
      "'NoneType' object has no attribute 'text'"
     ]
    },
    {
     "name": "stdout",
     "output_type": "stream",
     "text": [
      " http://www.reuters.com/article/2014/06/14/ucc-redskins-boycott-idUSnPn7cb4gV+81+PRN20140614\n",
      "'NoneType' object has no attribute 'text'"
     ]
    },
    {
     "name": "stdout",
     "output_type": "stream",
     "text": [
      " http://www.reuters.com/article/2014/06/14/ny-macys-celebrates-idUSnPn7MJcpf+98+PRN20140614\n",
      "'NoneType' object has no attribute 'text'"
     ]
    },
    {
     "name": "stdout",
     "output_type": "stream",
     "text": [
      " http://www.reuters.com/article/2014/06/14/ca-relativity-partner-idUSnPn8V45d2+90+PRN20140614\n",
      "'NoneType' object has no attribute 'text'"
     ]
    },
    {
     "name": "stdout",
     "output_type": "stream",
     "text": [
      "\n",
      "'NoneType' object has no attribute 'text'"
     ]
    },
    {
     "name": "stdout",
     "output_type": "stream",
     "text": [
      " http://www.reuters.com/article/2014/06/15/nj-dch-auto-lithia-idUSnPnb2KBk1+8c+PRN20140615\n",
      "2014-06-14"
     ]
    },
    {
     "name": "stdout",
     "output_type": "stream",
     "text": [
      " http://www.reuters.com/article/2014/06/16/etihadairwaysusopen-idUSnPn7P0h9J+91+PRN20140616\n",
      "'NoneType' object has no attribute 'text'"
     ]
    },
    {
     "name": "stdout",
     "output_type": "stream",
     "text": [
      " http://www.reuters.com/article/2014/06/15/census-daily-feature-idUSnPn2Z5gm9+90+PRN20140615\n",
      "'NoneType' object has no attribute 'text'"
     ]
    },
    {
     "name": "stdout",
     "output_type": "stream",
     "text": [
      "\n",
      "'NoneType' object has no attribute 'text'"
     ]
    },
    {
     "name": "stdout",
     "output_type": "stream",
     "text": [
      " http://www.reuters.com/article/2014/06/16/standardpoors-idUSnPnShBg0+54+PRN20140616\n",
      "2014-06-15"
     ]
    },
    {
     "name": "stdout",
     "output_type": "stream",
     "text": [
      " http://www.reuters.com/article/2014/06/16/bc-analystsreviewcom-idUSnPn5rHrJ3+8a+PRN20140616\n",
      "'NoneType' object has no attribute 'text'"
     ]
    },
    {
     "name": "stdout",
     "output_type": "stream",
     "text": [
      " http://www.reuters.com/article/2014/06/16/capitol-4th-muppets-idUSnPn4DzyFF+93+PRN20140616\n",
      "'NoneType' object has no attribute 'text'"
     ]
    },
    {
     "name": "stdout",
     "output_type": "stream",
     "text": [
      " http://www.reuters.com/article/2014/06/16/amcn-usa-conference-idUSnPn5wNjVS+8b+PRN20140616\n",
      "'NoneType' object has no attribute 'text'"
     ]
    },
    {
     "name": "stdout",
     "output_type": "stream",
     "text": [
      " http://www.reuters.com/article/2014/06/16/voya-investments-div-idUSnPn39x7WR+83+PRN20140616\n",
      "'NoneType' object has no attribute 'text'"
     ]
    },
    {
     "name": "stdout",
     "output_type": "stream",
     "text": [
      " http://www.reuters.com/article/2014/06/16/il-coorslight-idUSnPnbhqxX6+82+PRN20140616\n",
      "'NoneType' object has no attribute 'text'"
     ]
    },
    {
     "name": "stdout",
     "output_type": "stream",
     "text": [
      " http://www.reuters.com/article/2014/06/16/ga-porsche-motoroil-idUSnPn6Tbd1v+90+PRN20140616\n",
      "'NoneType' object has no attribute 'text'"
     ]
    },
    {
     "name": "stdout",
     "output_type": "stream",
     "text": [
      " http://www.reuters.com/article/2014/06/16/bc-i-idUSnPn4BfbRh+92+PRN20140616\n",
      "'NoneType' object has no attribute 'text'"
     ]
    },
    {
     "name": "stdout",
     "output_type": "stream",
     "text": [
      " http://www.reuters.com/article/2014/06/16/levikorsinsky-open-idUSnPn4nH38r+88+PRN20140616\n",
      "'NoneType' object has no attribute 'text'"
     ]
    },
    {
     "name": "stdout",
     "output_type": "stream",
     "text": [
      " http://www.reuters.com/article/2014/06/16/ny-noiseengineusa-idUSnPnbyRXKL+8f+PRN20140616\n",
      "'NoneType' object has no attribute 'text'"
     ]
    },
    {
     "name": "stdout",
     "output_type": "stream",
     "text": [
      "\n",
      "'NoneType' object has no attribute 'text'"
     ]
    },
    {
     "name": "stdout",
     "output_type": "stream",
     "text": [
      " http://www.reuters.com/article/2014/06/18/diageo-bartenderofyr-idUSnPn85xZFR+87+PRN20140618\n",
      "2014-06-16"
     ]
    },
    {
     "name": "stdout",
     "output_type": "stream",
     "text": [
      " http://www.reuters.com/article/2014/06/17/axiologix-revenues-idUSnPn5Xsy28+90+PRN20140617\n",
      "'NoneType' object has no attribute 'text'"
     ]
    },
    {
     "name": "stdout",
     "output_type": "stream",
     "text": [
      " http://www.reuters.com/article/2014/06/17/the-young-americans-idUSnPn5RWJ5T+9d+PRN20140617\n",
      "'NoneType' object has no attribute 'text'"
     ]
    },
    {
     "name": "stdout",
     "output_type": "stream",
     "text": [
      " http://www.reuters.com/article/2014/06/17/dc-ctia-2013-traffic-idUSnPn16zNnY+85+PRN20140617\n",
      "'NoneType' object has no attribute 'text'"
     ]
    },
    {
     "name": "stdout",
     "output_type": "stream",
     "text": [
      " http://www.reuters.com/article/2014/06/17/il-zacks-investment-idUSnPn52hrG6+82+PRN20140617\n",
      "'NoneType' object has no attribute 'text'"
     ]
    },
    {
     "name": "stdout",
     "output_type": "stream",
     "text": [
      " http://www.reuters.com/article/2014/06/17/il-wi-home-bank-chi-idUSnPn1DdYSG+97+PRN20140617\n",
      "'NoneType' object has no attribute 'text'"
     ]
    },
    {
     "name": "stdout",
     "output_type": "stream",
     "text": [
      " http://www.reuters.com/article/2014/06/17/il-zacksinvestment-idUSnPn8HB3Xt+9a+PRN20140617\n",
      "'NoneType' object has no attribute 'text'"
     ]
    },
    {
     "name": "stdout",
     "output_type": "stream",
     "text": [
      " http://www.reuters.com/article/2014/06/17/ny-five-oaks-dividend-idUSnPnJnmc0+50+PRN20140617\n",
      "'NoneType' object has no attribute 'text'"
     ]
    },
    {
     "name": "stdout",
     "output_type": "stream",
     "text": [
      " http://www.reuters.com/article/2014/06/17/ct-protein-sciences-idUSnPn6Rj3ds+90+PRN20140617\n",
      "'NoneType' object has no attribute 'text'"
     ]
    },
    {
     "name": "stdout",
     "output_type": "stream",
     "text": [
      " http://www.reuters.com/article/2014/06/17/ny-granteisenhofer-idUSnPn205mXm+82+PRN20140617\n",
      "'NoneType' object has no attribute 'text'"
     ]
    },
    {
     "name": "stdout",
     "output_type": "stream",
     "text": [
      " http://www.reuters.com/article/2014/06/17/political-reform-rprt-idUSnPn5XGgPh+9a+PRN20140617\n",
      "'NoneType' object has no attribute 'text'"
     ]
    },
    {
     "name": "stdout",
     "output_type": "stream",
     "text": [
      " http://www.reuters.com/article/2014/06/17/bc-ar-idUSnPn5KK7jC+99+PRN20140617\n",
      "'NoneType' object has no attribute 'text'"
     ]
    },
    {
     "name": "stdout",
     "output_type": "stream",
     "text": [
      " http://www.reuters.com/article/2014/06/17/penskelogistics-cscmp-idUSnPn15fR6q+84+PRN20140617\n",
      "'NoneType' object has no attribute 'text'"
     ]
    },
    {
     "name": "stdout",
     "output_type": "stream",
     "text": [
      "\n",
      "'NoneType' object has no attribute 'text'"
     ]
    },
    {
     "name": "stdout",
     "output_type": "stream",
     "text": [
      " http://www.reuters.com/article/2014/06/18/credit-suisse-div-idUSnPnyVKhW+4d+PRN20140618\n",
      "2014-06-17"
     ]
    },
    {
     "name": "stdout",
     "output_type": "stream",
     "text": [
      " http://www.reuters.com/article/2014/06/18/bc-investoredge-idUSnPn73Yhgl+88+PRN20140618\n",
      "'NoneType' object has no attribute 'text'"
     ]
    },
    {
     "name": "stdout",
     "output_type": "stream",
     "text": [
      " http://www.reuters.com/article/2014/06/18/united-technologies-idUSnPnh9snb+40+PRN20140618\n",
      "'NoneType' object has no attribute 'text'"
     ]
    },
    {
     "name": "stdout",
     "output_type": "stream",
     "text": [
      " http://www.reuters.com/article/2014/06/18/ma-decision-resources-idUSnPn7vJ7n9+88+PRN20140618\n",
      "'NoneType' object has no attribute 'text'"
     ]
    },
    {
     "name": "stdout",
     "output_type": "stream",
     "text": [
      " http://www.reuters.com/article/2014/06/18/bny-mellon-outlook-idUSnPn1gCL1N+8d+PRN20140618\n",
      "'NoneType' object has no attribute 'text'"
     ]
    },
    {
     "name": "stdout",
     "output_type": "stream",
     "text": [
      " http://www.reuters.com/article/2014/06/18/usa-today-hilton-idUSnPn4hp4bx+80+PRN20140618\n",
      "'NoneType' object has no attribute 'text'"
     ]
    },
    {
     "name": "stdout",
     "output_type": "stream",
     "text": [
      " http://www.reuters.com/article/2014/06/18/ny-ironridge-newlead-idUSnPn9zkrBS+83+PRN20140618\n",
      "'NoneType' object has no attribute 'text'"
     ]
    },
    {
     "name": "stdout",
     "output_type": "stream",
     "text": [
      " http://www.reuters.com/article/2014/06/18/zacks-analyst-blog-idUSnPn7HpJ3S+95+PRN20140618\n",
      "'NoneType' object has no attribute 'text'"
     ]
    },
    {
     "name": "stdout",
     "output_type": "stream",
     "text": [
      " http://www.reuters.com/article/2014/06/18/bc-investor-edge-idUSnPn85FSfF+8d+PRN20140618\n",
      "'NoneType' object has no attribute 'text'"
     ]
    },
    {
     "name": "stdout",
     "output_type": "stream",
     "text": [
      " http://www.reuters.com/article/2014/06/18/universal-studios-idUSnPn41w2YQ+83+PRN20140618\n",
      "'NoneType' object has no attribute 'text'"
     ]
    },
    {
     "name": "stdout",
     "output_type": "stream",
     "text": [
      " http://www.reuters.com/article/2014/06/18/michellewilliamsalbum-idUSnPn8qGCWt+8e+PRN20140618\n",
      "'NoneType' object has no attribute 'text'"
     ]
    },
    {
     "name": "stdout",
     "output_type": "stream",
     "text": [
      " http://www.reuters.com/article/2014/06/18/us-news-otc-guide-idUSnPnbs487V+81+PRN20140618\n",
      "'NoneType' object has no attribute 'text'"
     ]
    },
    {
     "name": "stdout",
     "output_type": "stream",
     "text": [
      "\n",
      "'NoneType' object has no attribute 'text'"
     ]
    },
    {
     "name": "stdout",
     "output_type": "stream",
     "text": [
      " http://www.reuters.com/article/2014/06/19/va-all-usa-baseball-idUSnPn4sZwXf+8a+PRN20140619\n",
      "2014-06-18"
     ]
    },
    {
     "name": "stdout",
     "output_type": "stream",
     "text": [
      " http://www.reuters.com/article/2014/06/19/pinebridge-investment-idUSnPn4cMXZG+8f+PRN20140619\n",
      "'NoneType' object has no attribute 'text'"
     ]
    },
    {
     "name": "stdout",
     "output_type": "stream",
     "text": [
      " http://www.reuters.com/article/2014/06/19/girl-scouts-brand-awd-idUSnPn6qnDDF+87+PRN20140619\n",
      "'NoneType' object has no attribute 'text'"
     ]
    },
    {
     "name": "stdout",
     "output_type": "stream",
     "text": [
      " http://www.reuters.com/article/2014/06/19/bc-investor-edge-idUSnPn4wcMLr+86+PRN20140619\n",
      "'NoneType' object has no attribute 'text'"
     ]
    },
    {
     "name": "stdout",
     "output_type": "stream",
     "text": [
      " http://www.reuters.com/article/2014/06/19/ny-faruqifaruqi-cmge-idUSnPn1PPQCH+9f+PRN20140619\n",
      "'NoneType' object has no attribute 'text'"
     ]
    },
    {
     "name": "stdout",
     "output_type": "stream",
     "text": [
      " http://www.reuters.com/article/2014/06/19/conferencebrd-lei-may-idUSnPnbz6Vq+42+PRN20140619\n",
      "'NoneType' object has no attribute 'text'"
     ]
    },
    {
     "name": "stdout",
     "output_type": "stream",
     "text": [
      " http://www.reuters.com/article/2014/06/19/mix-appoints-new-ceo-idUSnPn5KtDCJ+97+PRN20140619\n",
      "'NoneType' object has no attribute 'text'"
     ]
    },
    {
     "name": "stdout",
     "output_type": "stream",
     "text": [
      " http://www.reuters.com/article/2014/06/19/ca-sequenom-nicox-idUSnPnl28gr+40+PRN20140619\n",
      "'NoneType' object has no attribute 'text'"
     ]
    },
    {
     "name": "stdout",
     "output_type": "stream",
     "text": [
      " http://www.reuters.com/article/2014/06/19/bc-investor-edge-idUSnPn9xd654+80+PRN20140619\n",
      "'NoneType' object has no attribute 'text'"
     ]
    },
    {
     "name": "stdout",
     "output_type": "stream",
     "text": [
      " http://www.reuters.com/article/2014/06/19/dol-juvenile-grants-idUSnPn2WcCsT+95+PRN20140619\n",
      "'NoneType' object has no attribute 'text'"
     ]
    },
    {
     "name": "stdout",
     "output_type": "stream",
     "text": [
      " http://www.reuters.com/article/2014/06/20/il-zacks-investment-idUSnPn9cZ1x4+88+PRN20140620\n",
      "2014-06-19\n",
      "'NoneType' object has no attribute 'text'"
     ]
    },
    {
     "name": "stdout",
     "output_type": "stream",
     "text": [
      " http://www.reuters.com/article/2014/06/20/bc-analystsreviewcom-idUSnPn9Vzg7m+90+PRN20140620\n",
      "'NoneType' object has no attribute 'text'"
     ]
    },
    {
     "name": "stdout",
     "output_type": "stream",
     "text": [
      " http://www.reuters.com/article/2014/06/20/china-military-growth-idUSnPnbdNDSM+8f+PRN20140620\n",
      "'NoneType' object has no attribute 'text'"
     ]
    },
    {
     "name": "stdout",
     "output_type": "stream",
     "text": [
      " http://www.reuters.com/article/2014/06/20/bc-investor-edge-idUSnPn7CxZFz+96+PRN20140620\n",
      "'NoneType' object has no attribute 'text'"
     ]
    },
    {
     "name": "stdout",
     "output_type": "stream",
     "text": [
      " http://www.reuters.com/article/2014/06/20/1795uscertificate-idUSnPn54DpQ9+8a+PRN20140620\n",
      "'NoneType' object has no attribute 'text'"
     ]
    },
    {
     "name": "stdout",
     "output_type": "stream",
     "text": [
      " http://www.reuters.com/article/2014/06/20/bill-moore-usps-trial-idUSnPn3JWbTb+9a+PRN20140620\n",
      "'NoneType' object has no attribute 'text'"
     ]
    },
    {
     "name": "stdout",
     "output_type": "stream",
     "text": [
      " http://www.reuters.com/article/2014/06/20/bc-i-idUSnPn7kx3rD+81+PRN20140620\n",
      "'NoneType' object has no attribute 'text'"
     ]
    },
    {
     "name": "stdout",
     "output_type": "stream",
     "text": [
      " http://www.reuters.com/article/2014/06/20/playhousesqr-donation-idUSnPn9m3Jvt+84+PRN20140620\n",
      "'NoneType' object has no attribute 'text'"
     ]
    },
    {
     "name": "stdout",
     "output_type": "stream",
     "text": [
      " http://www.reuters.com/article/2014/06/20/bc-analysts-review-idUSnPn5xXTKG+8f+PRN20140620\n",
      "'NoneType' object has no attribute 'text'"
     ]
    },
    {
     "name": "stdout",
     "output_type": "stream",
     "text": [
      " http://www.reuters.com/article/2014/06/20/sg-llc-genzum-idUSnPnb2Vn1+44+PRN20140620\n",
      "'NoneType' object has no attribute 'text'"
     ]
    },
    {
     "name": "stdout",
     "output_type": "stream",
     "text": [
      " http://www.reuters.com/article/2014/06/20/nc-black-network-tv-idUSnPn9trf2Q+81+PRN20140620\n",
      "'NoneType' object has no attribute 'text'"
     ]
    },
    {
     "name": "stdout",
     "output_type": "stream",
     "text": [
      "\n",
      "'NoneType' object has no attribute 'text'"
     ]
    },
    {
     "name": "stdout",
     "output_type": "stream",
     "text": [
      " http://www.reuters.com/article/2014/06/21/bc-novo-nordisk-idUSnPn8CZFH8+9e+PRN20140621\n",
      "2014-06-20"
     ]
    },
    {
     "name": "stdout",
     "output_type": "stream",
     "text": [
      " http://www.reuters.com/article/2014/06/21/bc-novo-nordisk-idUSnPn9bGW1F+8d+PRN20140621\n",
      "'NoneType' object has no attribute 'text'"
     ]
    },
    {
     "name": "stdout",
     "output_type": "stream",
     "text": [
      " http://www.reuters.com/article/2014/06/21/census-daily-feature-idUSnPn2Mr4rC+91+PRN20140621\n",
      "'NoneType' object has no attribute 'text'"
     ]
    },
    {
     "name": "stdout",
     "output_type": "stream",
     "text": [
      " http://www.reuters.com/article/2014/06/21/iovatesettlement-idUSnPnb6YwzF+89+PRN20140621\n",
      "'NoneType' object has no attribute 'text'"
     ]
    },
    {
     "name": "stdout",
     "output_type": "stream",
     "text": [
      " http://www.reuters.com/article/2014/06/21/uscm-equitable-cities-idUSnPnm4yNJ+43+PRN20140621\n",
      "'NoneType' object has no attribute 'text'"
     ]
    },
    {
     "name": "stdout",
     "output_type": "stream",
     "text": [
      " http://www.reuters.com/article/2014/06/21/ogilvymathercannes-idUSnPn29l6l1+80+PRN20140621\n",
      "'NoneType' object has no attribute 'text'"
     ]
    },
    {
     "name": "stdout",
     "output_type": "stream",
     "text": [
      " http://www.reuters.com/article/2014/06/22/kretschmar-deli-wish-idUSnPnbz5rKL+83+PRN20140622\n",
      "'NoneType' object has no attribute 'text'"
     ]
    },
    {
     "name": "stdout",
     "output_type": "stream",
     "text": [
      " http://www.reuters.com/article/2014/06/21/md-blindnesschallenge-idUSnPn7LKVNr+9e+PRN20140621\n",
      "'NoneType' object has no attribute 'text'"
     ]
    },
    {
     "name": "stdout",
     "output_type": "stream",
     "text": [
      " http://www.reuters.com/article/2014/06/21/ca-usmayors-awards-idUSnPn61w21D+81+PRN20140621\n",
      "'NoneType' object has no attribute 'text'"
     ]
    },
    {
     "name": "stdout",
     "output_type": "stream",
     "text": [
      " http://www.reuters.com/article/2014/06/21/ubreakifix-new-store-idUSnPnbQGCJ9+9e+PRN20140621\n",
      "'NoneType' object has no attribute 'text'"
     ]
    },
    {
     "name": "stdout",
     "output_type": "stream",
     "text": [
      " http://www.reuters.com/article/2014/06/21/prnewswire-test-idUSnPn17dDrL+85+PRN20140621\n",
      "'NoneType' object has no attribute 'text'"
     ]
    },
    {
     "name": "stdout",
     "output_type": "stream",
     "text": [
      " http://www.reuters.com/article/2014/06/21/tx-marbleslabcreamery-idUSnPn5VDdnY+99+PRN20140621\n",
      "'NoneType' object has no attribute 'text'"
     ]
    },
    {
     "name": "stdout",
     "output_type": "stream",
     "text": [
      "\n",
      "'NoneType' object has no attribute 'text'"
     ]
    },
    {
     "name": "stdout",
     "output_type": "stream",
     "text": [
      " http://www.reuters.com/article/2014/06/22/pa-chop-18th-reunion-idUSnPnb5hqYZ+83+PRN20140622\n",
      "2014-06-21"
     ]
    },
    {
     "name": "stdout",
     "output_type": "stream",
     "text": [
      " http://www.reuters.com/article/2014/06/22/eslt-contract-idUSnPn7JkZQw+96+PRN20140622\n",
      "'NoneType' object has no attribute 'text'"
     ]
    },
    {
     "name": "stdout",
     "output_type": "stream",
     "text": [
      " http://www.reuters.com/article/2014/06/23/yesstyle-fashion-idUSnPn7Fwyc3+90+PRN20140623\n",
      "'NoneType' object has no attribute 'text'"
     ]
    },
    {
     "name": "stdout",
     "output_type": "stream",
     "text": [
      " http://www.reuters.com/article/2014/06/22/census-daily-feature-idUSnPn2JYQVz+9e+PRN20140622\n",
      "'NoneType' object has no attribute 'text'"
     ]
    },
    {
     "name": "stdout",
     "output_type": "stream",
     "text": [
      " http://www.reuters.com/article/2014/06/23/nh-chrysler-at-nhra-idUSnPn5sD6jm+88+PRN20140623\n",
      "'NoneType' object has no attribute 'text'"
     ]
    },
    {
     "name": "stdout",
     "output_type": "stream",
     "text": [
      " http://www.reuters.com/article/2014/06/22/morton-salt-new-lab-idUSnPn6vvRcQ+85+PRN20140622\n",
      "'NoneType' object has no attribute 'text'"
     ]
    },
    {
     "name": "stdout",
     "output_type": "stream",
     "text": [
      " http://www.reuters.com/article/2014/06/23/real-estate-report-idUSnPn2WHgpQ+99+PRN20140623\n",
      "'NoneType' object has no attribute 'text'"
     ]
    },
    {
     "name": "stdout",
     "output_type": "stream",
     "text": [
      " http://www.reuters.com/article/2014/06/23/ardagh-offers-idUSnPn43B5bw+88+PRN20140623\n",
      "2014-06-22\n",
      "'NoneType' object has no attribute 'text'"
     ]
    },
    {
     "name": "stdout",
     "output_type": "stream",
     "text": [
      " http://www.reuters.com/article/2014/06/23/friendsofusa-pavilion-idUSnPn4CvTNH+97+PRN20140623\n",
      "'NoneType' object has no attribute 'text'"
     ]
    },
    {
     "name": "stdout",
     "output_type": "stream",
     "text": [
      " http://www.reuters.com/article/2014/06/24/conf-of-mayor-meeting-idUSnPn647tRv+82+PRN20140624\n",
      "'NoneType' object has no attribute 'text'"
     ]
    },
    {
     "name": "stdout",
     "output_type": "stream",
     "text": [
      " http://www.reuters.com/article/2014/06/23/bc-collplant-patent-idUSnPn6xY020+88+PRN20140623\n",
      "'NoneType' object has no attribute 'text'"
     ]
    },
    {
     "name": "stdout",
     "output_type": "stream",
     "text": [
      " http://www.reuters.com/article/2014/06/23/profectmarket-launch-idUSnPn9BKd5t+98+PRN20140623\n",
      "'NoneType' object has no attribute 'text'"
     ]
    },
    {
     "name": "stdout",
     "output_type": "stream",
     "text": [
      " http://www.reuters.com/article/2014/06/23/aar-kenya-airways-idUSnPn6R8kYh+92+PRN20140623\n",
      "'NoneType' object has no attribute 'text'"
     ]
    },
    {
     "name": "stdout",
     "output_type": "stream",
     "text": [
      " http://www.reuters.com/article/2014/06/23/ny-pwcus-2025-outlook-idUSnPn9s8vlP+81+PRN20140623\n",
      "'NoneType' object has no attribute 'text'"
     ]
    },
    {
     "name": "stdout",
     "output_type": "stream",
     "text": [
      " http://www.reuters.com/article/2014/06/23/ca-health-fidelity-idUSnPnCP2LF+5b+PRN20140623\n",
      "'NoneType' object has no attribute 'text'"
     ]
    },
    {
     "name": "stdout",
     "output_type": "stream",
     "text": [
      " http://www.reuters.com/article/2014/06/23/ca-gettv-idUSnPn5XfLLG+97+PRN20140623\n",
      "'NoneType' object has no attribute 'text'"
     ]
    },
    {
     "name": "stdout",
     "output_type": "stream",
     "text": [
      " http://www.reuters.com/article/2014/06/23/tx-usps-restaurants-idUSnPn6hy8Ft+82+PRN20140623\n",
      "'NoneType' object has no attribute 'text'"
     ]
    },
    {
     "name": "stdout",
     "output_type": "stream",
     "text": [
      " http://www.reuters.com/article/2014/06/23/zacks-report-idUSnPn5LfBsC+95+PRN20140623\n",
      "'NoneType' object has no attribute 'text'"
     ]
    },
    {
     "name": "stdout",
     "output_type": "stream",
     "text": [
      " http://www.reuters.com/article/2014/06/23/chicagoschool-finaid-idUSnPncfMfnn+88+PRN20140623\n",
      "'NoneType' object has no attribute 'text'"
     ]
    },
    {
     "name": "stdout",
     "output_type": "stream",
     "text": [
      " http://www.reuters.com/article/2014/06/23/wi-energycorpacquires-idUSnPnbmGRf0+8c+PRN20140623\n",
      "'NoneType' object has no attribute 'text'"
     ]
    },
    {
     "name": "stdout",
     "output_type": "stream",
     "text": [
      " http://www.reuters.com/article/2014/06/23/exfo-ethernetone-idUSnPn4M97cV+91+PRN20140623\n",
      "'NoneType' object has no attribute 'text'"
     ]
    },
    {
     "name": "stdout",
     "output_type": "stream",
     "text": [
      " http://www.reuters.com/article/2014/06/23/ny-glenmorangie-golf-idUSnPn3Dw449+90+PRN20140623\n",
      "'NoneType' object has no attribute 'text'"
     ]
    },
    {
     "name": "stdout",
     "output_type": "stream",
     "text": [
      " http://www.reuters.com/article/2014/06/23/investorideascom-qa-idUSnPn2BJSgn+9c+PRN20140623\n",
      "'NoneType' object has no attribute 'text'"
     ]
    },
    {
     "name": "stdout",
     "output_type": "stream",
     "text": [
      "\n",
      "'NoneType' object has no attribute 'text'"
     ]
    },
    {
     "name": "stdout",
     "output_type": "stream",
     "text": [
      " http://www.reuters.com/article/2014/06/24/dc-usnewsworldreport-idUSnPn2bwZP5+86+PRN20140624\n",
      "2014-06-23"
     ]
    },
    {
     "name": "stdout",
     "output_type": "stream",
     "text": [
      " http://www.reuters.com/article/2014/06/24/riskybusinessproject-idUSnPn7zYKG1+8e+PRN20140624\n",
      "'NoneType' object has no attribute 'text'"
     ]
    },
    {
     "name": "stdout",
     "output_type": "stream",
     "text": [
      " http://www.reuters.com/article/2014/06/24/bc-investor-edge-idUSnPn17kp2q+80+PRN20140624\n",
      "'NoneType' object has no attribute 'text'"
     ]
    },
    {
     "name": "stdout",
     "output_type": "stream",
     "text": [
      " http://www.reuters.com/article/2014/06/24/fl-xg-usarmycontract-idUSnPn9lgrnx+80+PRN20140624\n",
      "'NoneType' object has no attribute 'text'"
     ]
    },
    {
     "name": "stdout",
     "output_type": "stream",
     "text": [
      " http://www.reuters.com/article/2014/06/24/pa-socialworkdegree-idUSnPnNlnv0+50+PRN20140624\n",
      "'NoneType' object has no attribute 'text'"
     ]
    },
    {
     "name": "stdout",
     "output_type": "stream",
     "text": [
      " http://www.reuters.com/article/2014/06/24/ca-lovewithfood-2degr-idUSnPn2HR2cb+98+PRN20140624\n",
      "'NoneType' object has no attribute 'text'"
     ]
    },
    {
     "name": "stdout",
     "output_type": "stream",
     "text": [
      " http://www.reuters.com/article/2014/06/24/bc-investor-edge-idUSnPn4TSwKt+9a+PRN20140624\n",
      "'NoneType' object has no attribute 'text'"
     ]
    },
    {
     "name": "stdout",
     "output_type": "stream",
     "text": [
      " http://www.reuters.com/article/2014/06/24/decisionresources-cad-idUSnPn3CtWng+94+PRN20140624\n",
      "'NoneType' object has no attribute 'text'"
     ]
    },
    {
     "name": "stdout",
     "output_type": "stream",
     "text": [
      " http://www.reuters.com/article/2014/06/24/bc-investor-edge-idUSnPnbHdPV4+96+PRN20140624\n",
      "'NoneType' object has no attribute 'text'"
     ]
    },
    {
     "name": "stdout",
     "output_type": "stream",
     "text": [
      " http://www.reuters.com/article/2014/06/24/authentic-brands-grp-idUSnPn2GXn1r+98+PRN20140624\n",
      "'NoneType' object has no attribute 'text'"
     ]
    },
    {
     "name": "stdout",
     "output_type": "stream",
     "text": [
      " http://www.reuters.com/article/2014/06/24/us-newsworld-report-idUSnPn7WVg0J+99+PRN20140624\n",
      "'NoneType' object has no attribute 'text'"
     ]
    },
    {
     "name": "stdout",
     "output_type": "stream",
     "text": [
      " http://www.reuters.com/article/2014/06/24/pandora-ring-of-month-idUSnPn3N39TB+93+PRN20140624\n",
      "'NoneType' object has no attribute 'text'"
     ]
    },
    {
     "name": "stdout",
     "output_type": "stream",
     "text": [
      " http://www.reuters.com/article/2014/06/24/mena-energy-survey-idUSnPn6PXWKF+9f+PRN20140624\n",
      "'NoneType' object has no attribute 'text'"
     ]
    },
    {
     "name": "stdout",
     "output_type": "stream",
     "text": [
      " http://www.reuters.com/article/2014/06/24/levi-korsinsky-llp-idUSnPn4pgwqb+80+PRN20140624\n",
      "'NoneType' object has no attribute 'text'"
     ]
    },
    {
     "name": "stdout",
     "output_type": "stream",
     "text": [
      " http://www.reuters.com/article/2014/06/24/tx-alliancedatasystem-idUSnPn3XNqgz+98+PRN20140624\n",
      "'NoneType' object has no attribute 'text'"
     ]
    },
    {
     "name": "stdout",
     "output_type": "stream",
     "text": [
      "\n",
      "'NoneType' object has no attribute 'text'"
     ]
    },
    {
     "name": "stdout",
     "output_type": "stream",
     "text": [
      " http://www.reuters.com/article/2014/06/25/child-gun-death-study-idUSnPn5Js60Z+91+PRN20140625\n",
      "2014-06-24"
     ]
    },
    {
     "name": "stdout",
     "output_type": "stream",
     "text": [
      " http://www.reuters.com/article/2014/06/25/uscm-82nd-conf-tx-idUSnPn3WFQGC+9f+PRN20140625\n",
      "'NoneType' object has no attribute 'text'"
     ]
    },
    {
     "name": "stdout",
     "output_type": "stream",
     "text": [
      " http://www.reuters.com/article/2014/06/25/universal-music-group-idUSnPn4Fyfgm+90+PRN20140625\n",
      "'NoneType' object has no attribute 'text'"
     ]
    },
    {
     "name": "stdout",
     "output_type": "stream",
     "text": [
      " http://www.reuters.com/article/2014/06/25/hotelscom-best-hotel-idUSnPn8ZgH1n+94+PRN20140625\n",
      "'NoneType' object has no attribute 'text'"
     ]
    },
    {
     "name": "stdout",
     "output_type": "stream",
     "text": [
      " http://www.reuters.com/article/2014/06/25/capitol-fourth-pbs-idUSnPn93Fp9j+88+PRN20140625\n",
      "'NoneType' object has no attribute 'text'"
     ]
    },
    {
     "name": "stdout",
     "output_type": "stream",
     "text": [
      " http://www.reuters.com/article/2014/06/25/pmt-reserves-update-idUSnPn5STHsW+9d+PRN20140625\n",
      "'NoneType' object has no attribute 'text'"
     ]
    },
    {
     "name": "stdout",
     "output_type": "stream",
     "text": [
      " http://www.reuters.com/article/2014/06/25/ca-fingerprint-inc-idUSnPn36vghw+80+PRN20140625\n",
      "'NoneType' object has no attribute 'text'"
     ]
    },
    {
     "name": "stdout",
     "output_type": "stream",
     "text": [
      " http://www.reuters.com/article/2014/06/25/ex-im-report-congress-idUSnPn7XC6PC+9b+PRN20140625\n",
      "'NoneType' object has no attribute 'text'"
     ]
    },
    {
     "name": "stdout",
     "output_type": "stream",
     "text": [
      " http://www.reuters.com/article/2014/06/25/ca-truecar-june-saar-idUSnPn6Y80vr+90+PRN20140625\n",
      "'NoneType' object has no attribute 'text'"
     ]
    },
    {
     "name": "stdout",
     "output_type": "stream",
     "text": [
      " http://www.reuters.com/article/2014/06/25/gen-steel-eps-idUSnPn5LKF0n+9c+PRN20140625\n",
      "'NoneType' object has no attribute 'text'"
     ]
    },
    {
     "name": "stdout",
     "output_type": "stream",
     "text": [
      " http://www.reuters.com/article/2014/06/25/autoalliance-stemnt-idUSnPn7rPyf8+88+PRN20140625\n",
      "'NoneType' object has no attribute 'text'"
     ]
    },
    {
     "name": "stdout",
     "output_type": "stream",
     "text": [
      " http://www.reuters.com/article/2014/06/25/bc-investor-edge-idUSnPn3kW5jr+88+PRN20140625\n",
      "'NoneType' object has no attribute 'text'"
     ]
    },
    {
     "name": "stdout",
     "output_type": "stream",
     "text": [
      " http://www.reuters.com/article/2014/06/25/aclj-meriam-ibrahim-idUSnPn61WD5R+8d+PRN20140625\n",
      "'NoneType' object has no attribute 'text'"
     ]
    },
    {
     "name": "stdout",
     "output_type": "stream",
     "text": [
      "\n",
      "'NoneType' object has no attribute 'text'"
     ]
    },
    {
     "name": "stdout",
     "output_type": "stream",
     "text": [
      " http://www.reuters.com/article/2014/06/26/ny-bny-easy-money-idUSnPnh9SMb+46+PRN20140626\n",
      "2014-06-25"
     ]
    },
    {
     "name": "stdout",
     "output_type": "stream",
     "text": [
      " http://www.reuters.com/article/2014/06/26/fl-logic-ecig-growth-idUSnPn18PXjz+8c+PRN20140626\n",
      "'NoneType' object has no attribute 'text'"
     ]
    },
    {
     "name": "stdout",
     "output_type": "stream",
     "text": [
      " http://www.reuters.com/article/2014/06/26/ca-jdpower-sales-idUSnPn2vhYJ7+86+PRN20140626\n",
      "'NoneType' object has no attribute 'text'"
     ]
    },
    {
     "name": "stdout",
     "output_type": "stream",
     "text": [
      " http://www.reuters.com/article/2014/06/27/il-zacks-powershares-idUSnPn8Ymzlg+90+PRN20140627\n",
      "2014-06-26\n",
      "'NoneType' object has no attribute 'text'"
     ]
    },
    {
     "name": "stdout",
     "output_type": "stream",
     "text": [
      " http://www.reuters.com/article/2014/06/27/commercial-metals-ern-idUSnPn8dW4VC+8b+PRN20140627\n",
      "'NoneType' object has no attribute 'text'"
     ]
    },
    {
     "name": "stdout",
     "output_type": "stream",
     "text": [
      " http://www.reuters.com/article/2014/06/27/dc-nai-usexpansion-idUSnPn2Wsd9v+90+PRN20140627\n",
      "'NoneType' object has no attribute 'text'"
     ]
    },
    {
     "name": "stdout",
     "output_type": "stream",
     "text": [
      " http://www.reuters.com/article/2014/06/27/ca-entravision-fifa-idUSnPn5Swqy3+90+PRN20140627\n",
      "'NoneType' object has no attribute 'text'"
     ]
    },
    {
     "name": "stdout",
     "output_type": "stream",
     "text": [
      " http://www.reuters.com/article/2014/06/27/ny-virtualscopics-ixi-idUSnPnbjt32k+80+PRN20140627\n",
      "'NoneType' object has no attribute 'text'"
     ]
    },
    {
     "name": "stdout",
     "output_type": "stream",
     "text": [
      " http://www.reuters.com/article/2014/06/27/lentuo-ern-idUSnPnf6Knt+44+PRN20140627\n",
      "'NoneType' object has no attribute 'text'"
     ]
    },
    {
     "name": "stdout",
     "output_type": "stream",
     "text": [
      " http://www.reuters.com/article/2014/06/27/bc-ie-idUSnPn5yLJkF+8d+PRN20140627\n",
      "'NoneType' object has no attribute 'text'"
     ]
    },
    {
     "name": "stdout",
     "output_type": "stream",
     "text": [
      " http://www.reuters.com/article/2014/06/27/sunedison-latin-amer-idUSnPn3D8GgR+95+PRN20140627\n",
      "'NoneType' object has no attribute 'text'"
     ]
    },
    {
     "name": "stdout",
     "output_type": "stream",
     "text": [
      " http://www.reuters.com/article/2014/06/27/ca-kbb-june-car-sales-idUSnPn8PH5fR+99+PRN20140627\n",
      "'NoneType' object has no attribute 'text'"
     ]
    },
    {
     "name": "stdout",
     "output_type": "stream",
     "text": [
      " http://www.reuters.com/article/2014/06/27/bc-analystsreviewcom-idUSnPn5w7T0L+85+PRN20140627\n",
      "'NoneType' object has no attribute 'text'"
     ]
    },
    {
     "name": "stdout",
     "output_type": "stream",
     "text": [
      "\n",
      "'NoneType' object has no attribute 'text'"
     ]
    },
    {
     "name": "stdout",
     "output_type": "stream",
     "text": [
      " http://www.reuters.com/article/2014/06/28/census-daily-feature-idUSnPn35BmRh+8a+PRN20140628\n",
      "2014-06-27"
     ]
    },
    {
     "name": "stdout",
     "output_type": "stream",
     "text": [
      " http://www.reuters.com/article/2014/06/28/ny-faruqifaruqi-pgem-idUSnPnbrX0Sy+8a+PRN20140628\n",
      "'NoneType' object has no attribute 'text'"
     ]
    },
    {
     "name": "stdout",
     "output_type": "stream",
     "text": [
      " http://www.reuters.com/article/2014/06/28/ny-faruqifaruqi-bcor-idUSnPn7xCZY4+8e+PRN20140628\n",
      "'NoneType' object has no attribute 'text'"
     ]
    },
    {
     "name": "stdout",
     "output_type": "stream",
     "text": [
      " http://www.reuters.com/article/2014/06/28/taiho-oncology-result-idUSnPn74Vyb9+88+PRN20140628\n",
      "'NoneType' object has no attribute 'text'"
     ]
    },
    {
     "name": "stdout",
     "output_type": "stream",
     "text": [
      " http://www.reuters.com/article/2014/06/28/mcgraw-hill-edu-iste-idUSnPn9j2T82+84+PRN20140628\n",
      "'NoneType' object has no attribute 'text'"
     ]
    },
    {
     "name": "stdout",
     "output_type": "stream",
     "text": [
      " http://www.reuters.com/article/2014/06/28/wi-kemps-world-record-idUSnPn570RJ7+86+PRN20140628\n",
      "'NoneType' object has no attribute 'text'"
     ]
    },
    {
     "name": "stdout",
     "output_type": "stream",
     "text": [
      " http://www.reuters.com/article/2014/06/29/tn-flw-tour-update-idUSnPn8LyvSR+93+PRN20140629\n",
      "'NoneType' object has no attribute 'text'"
     ]
    },
    {
     "name": "stdout",
     "output_type": "stream",
     "text": [
      " http://www.reuters.com/article/2014/06/28/bc-roland-berger-ceo-idUSnPn9LVt0p+98+PRN20140628\n",
      "'NoneType' object has no attribute 'text'"
     ]
    },
    {
     "name": "stdout",
     "output_type": "stream",
     "text": [
      " http://www.reuters.com/article/2014/06/28/nv-world-book-ala-idUSnPn29nBmf+84+PRN20140628\n",
      "'NoneType' object has no attribute 'text'"
     ]
    },
    {
     "name": "stdout",
     "output_type": "stream",
     "text": [
      " http://www.reuters.com/article/2014/06/28/allied-telesis-conf-idUSnPnbdDL62+8c+PRN20140628\n",
      "'NoneType' object has no attribute 'text'"
     ]
    },
    {
     "name": "stdout",
     "output_type": "stream",
     "text": [
      " http://www.reuters.com/article/2014/06/28/ga-u-haul-albany-auto-idUSnPn86FmDB+8b+PRN20140628\n",
      "'NoneType' object has no attribute 'text'"
     ]
    },
    {
     "name": "stdout",
     "output_type": "stream",
     "text": [
      " http://www.reuters.com/article/2014/06/28/nv-cirque-du-soleil-idUSnPn4SQDFw+9e+PRN20140628\n",
      "'NoneType' object has no attribute 'text'"
     ]
    },
    {
     "name": "stdout",
     "output_type": "stream",
     "text": [
      " http://www.reuters.com/article/2014/06/28/ca-herrera-statement-idUSnPn33fsL3+82+PRN20140628\n",
      "'NoneType' object has no attribute 'text'"
     ]
    },
    {
     "name": "stdout",
     "output_type": "stream",
     "text": [
      " http://www.reuters.com/article/2014/06/28/aspen-ideas-festival-idUSnPn7xLhVz+8a+PRN20140628\n",
      "'NoneType' object has no attribute 'text'"
     ]
    },
    {
     "name": "stdout",
     "output_type": "stream",
     "text": [
      " http://www.reuters.com/article/2014/06/28/huawei-curriki-iste-idUSnPn5r57GN+83+PRN20140628\n",
      "'NoneType' object has no attribute 'text'"
     ]
    },
    {
     "name": "stdout",
     "output_type": "stream",
     "text": [
      " http://www.reuters.com/article/2014/06/29/elbit-imaging-invest-idUSnPn8hc2gt+80+PRN20140629\n",
      "2014-06-28\n",
      "'NoneType' object has no attribute 'text'"
     ]
    },
    {
     "name": "stdout",
     "output_type": "stream",
     "text": [
      " http://www.reuters.com/article/2014/06/29/census-daily-feature-idUSnPn5fDKP7+8e+PRN20140629\n",
      "'NoneType' object has no attribute 'text'"
     ]
    },
    {
     "name": "stdout",
     "output_type": "stream",
     "text": [
      " http://www.reuters.com/article/2014/06/30/bc-shire-cdn-assessments-idUSnPn1h9kkG+81+PRN20140630\n",
      "2014-06-29\n",
      "'NoneType' object has no attribute 'text'"
     ]
    },
    {
     "name": "stdout",
     "output_type": "stream",
     "text": [
      " http://www.reuters.com/article/2014/06/30/il-nph-usa-assistance-idUSnPn5pYLnK+8d+PRN20140630\n",
      "'NoneType' object has no attribute 'text'"
     ]
    },
    {
     "name": "stdout",
     "output_type": "stream",
     "text": [
      " http://www.reuters.com/article/2014/06/30/il-zacks-investment-idUSnPn7NhDGl+96+PRN20140630\n",
      "'NoneType' object has no attribute 'text'"
     ]
    },
    {
     "name": "stdout",
     "output_type": "stream",
     "text": [
      " http://www.reuters.com/article/2014/06/30/capitalconcertsfourth-idUSnPn70zxsC+81+PRN20140630\n",
      "'NoneType' object has no attribute 'text'"
     ]
    },
    {
     "name": "stdout",
     "output_type": "stream",
     "text": [
      " http://www.reuters.com/article/2014/06/30/ny-prix-galien-award-idUSnPn7vztCj+82+PRN20140630\n",
      "'NoneType' object has no attribute 'text'"
     ]
    },
    {
     "name": "stdout",
     "output_type": "stream",
     "text": [
      " http://www.reuters.com/article/2014/06/30/us-silica-new-mine-idUSnPn9FMlZP+9b+PRN20140630\n",
      "'NoneType' object has no attribute 'text'"
     ]
    },
    {
     "name": "stdout",
     "output_type": "stream",
     "text": [
      " http://www.reuters.com/article/2014/06/30/moicorporation-raises-idUSnPn7f740T+81+PRN20140630\n",
      "'NoneType' object has no attribute 'text'"
     ]
    },
    {
     "name": "stdout",
     "output_type": "stream",
     "text": [
      " http://www.reuters.com/article/2014/06/30/ma-decision-resources-idUSnPn1npwSw+82+PRN20140630\n",
      "'NoneType' object has no attribute 'text'"
     ]
    },
    {
     "name": "stdout",
     "output_type": "stream",
     "text": [
      " http://www.reuters.com/article/2014/06/30/mastec-acquires-pacer-idUSnPn3N0Wd8+94+PRN20140630\n",
      "'NoneType' object has no attribute 'text'"
     ]
    },
    {
     "name": "stdout",
     "output_type": "stream",
     "text": [
      " http://www.reuters.com/article/2014/06/30/ca-advanstarlicensing-idUSnPn9PPcnn+98+PRN20140630\n",
      "'NoneType' object has no attribute 'text'"
     ]
    },
    {
     "name": "stdout",
     "output_type": "stream",
     "text": [
      " http://www.reuters.com/article/2014/06/30/nj-njcu-scholarship-idUSnPn7HhYQ2+96+PRN20140630\n",
      "'NoneType' object has no attribute 'text'"
     ]
    },
    {
     "name": "stdout",
     "output_type": "stream",
     "text": [
      " http://www.reuters.com/article/2014/06/30/bc-investor-edge-idUSnPn4LM5tx+98+PRN20140630\n",
      "'NoneType' object has no attribute 'text'"
     ]
    },
    {
     "name": "stdout",
     "output_type": "stream",
     "text": [
      " http://www.reuters.com/article/2014/06/30/robert-popovich-books-idUSnPnbLPRRX+9f+PRN20140630\n",
      "'NoneType' object has no attribute 'text'"
     ]
    },
    {
     "name": "stdout",
     "output_type": "stream",
     "text": [
      " http://www.reuters.com/article/2014/06/30/ca-macbeth-studio-idUSnPn2lwh0G+81+PRN20140630\n",
      "'NoneType' object has no attribute 'text'"
     ]
    },
    {
     "name": "stdout",
     "output_type": "stream",
     "text": [
      " http://www.reuters.com/article/2014/06/30/fl-darden-tender-offr-idUSnPn9j94sC+81+PRN20140630\n",
      "'NoneType' object has no attribute 'text'"
     ]
    },
    {
     "name": "stdout",
     "output_type": "stream",
     "text": [
      "\n",
      "'NoneType' object has no attribute 'text'"
     ]
    },
    {
     "name": "stdout",
     "output_type": "stream",
     "text": [
      " http://www.reuters.com/article/2014/07/01/ca-sorrento-nih-idUSnPnc0NJyL+8d+PRN20140701\n",
      "2014-06-30"
     ]
    },
    {
     "name": "stdout",
     "output_type": "stream",
     "text": [
      " http://www.reuters.com/article/2014/07/01/bc-investor-edge-idUSnPnbCJdQ5+9a+PRN20140701\n",
      "'NoneType' object has no attribute 'text'"
     ]
    },
    {
     "name": "stdout",
     "output_type": "stream",
     "text": [
      " http://www.reuters.com/article/2014/07/01/sire-senior-credit-idUSnPn53S4hK+89+PRN20140701\n",
      "'NoneType' object has no attribute 'text'"
     ]
    },
    {
     "name": "stdout",
     "output_type": "stream",
     "text": [
      " http://www.reuters.com/article/2014/07/01/bc-investor-edge-idUSnPn4nBdMZ+8b+PRN20140701\n",
      "'NoneType' object has no attribute 'text'"
     ]
    },
    {
     "name": "stdout",
     "output_type": "stream",
     "text": [
      " http://www.reuters.com/article/2014/07/01/bc-investor-edgecom-idUSnPn7tqLCP+87+PRN20140701\n",
      "'NoneType' object has no attribute 'text'"
     ]
    },
    {
     "name": "stdout",
     "output_type": "stream",
     "text": [
      " http://www.reuters.com/article/2014/07/01/chrysler-june-sales-idUSnPn15yHl8+84+PRN20140701\n",
      "'NoneType' object has no attribute 'text'"
     ]
    },
    {
     "name": "stdout",
     "output_type": "stream",
     "text": [
      " http://www.reuters.com/article/2014/07/01/ny-kpmg-acquires-idUSnPn7j3qJB+83+PRN20140701\n",
      "'NoneType' object has no attribute 'text'"
     ]
    },
    {
     "name": "stdout",
     "output_type": "stream",
     "text": [
      " http://www.reuters.com/article/2014/07/01/common-sense-advisory-idUSnPn45WTTM+8f+PRN20140701\n",
      "'NoneType' object has no attribute 'text'"
     ]
    },
    {
     "name": "stdout",
     "output_type": "stream",
     "text": [
      " http://www.reuters.com/article/2014/07/01/ca-trovageneinc-idUSnPn3x5G1j+84+PRN20140701\n",
      "'NoneType' object has no attribute 'text'"
     ]
    },
    {
     "name": "stdout",
     "output_type": "stream",
     "text": [
      " http://www.reuters.com/article/2014/07/01/texhoma-energy-inc-idUSnPn3gzwKS+83+PRN20140701\n",
      "'NoneType' object has no attribute 'text'"
     ]
    },
    {
     "name": "stdout",
     "output_type": "stream",
     "text": [
      " http://www.reuters.com/article/2014/07/01/fl-hsn-birthdaymonth-idUSnPn9gKGjt+8c+PRN20140701\n",
      "'NoneType' object has no attribute 'text'"
     ]
    },
    {
     "name": "stdout",
     "output_type": "stream",
     "text": [
      " http://www.reuters.com/article/2014/07/01/southernlinc-push2tlk-idUSnPn5GqYQb+96+PRN20140701\n",
      "'NoneType' object has no attribute 'text'"
     ]
    },
    {
     "name": "stdout",
     "output_type": "stream",
     "text": [
      " http://www.reuters.com/article/2014/07/01/va-oxfordfinance-deal-idUSnPn7wzjJk+82+PRN20140701\n",
      "'NoneType' object has no attribute 'text'"
     ]
    },
    {
     "name": "stdout",
     "output_type": "stream",
     "text": [
      " http://www.reuters.com/article/2014/07/01/ca-crystalcruises-us-idUSnPnbKCKPr+9e+PRN20140701\n",
      "'NoneType' object has no attribute 'text'"
     ]
    },
    {
     "name": "stdout",
     "output_type": "stream",
     "text": [
      " http://www.reuters.com/article/2014/07/01/bc-analysts-review-idUSnPn9dvY6t+84+PRN20140701\n",
      "'NoneType' object has no attribute 'text'"
     ]
    },
    {
     "name": "stdout",
     "output_type": "stream",
     "text": [
      "\n",
      "'NoneType' object has no attribute 'text'"
     ]
    },
    {
     "name": "stdout",
     "output_type": "stream",
     "text": [
      " http://www.reuters.com/article/2014/07/02/decision-res-dental-idUSnPnc1Pbyc+88+PRN20140702\n",
      "2014-07-01"
     ]
    },
    {
     "name": "stdout",
     "output_type": "stream",
     "text": [
      " http://www.reuters.com/article/2014/07/02/ks-silpada-designs-idUSnPn9FBwm4+98+PRN20140702\n",
      "'NoneType' object has no attribute 'text'"
     ]
    },
    {
     "name": "stdout",
     "output_type": "stream",
     "text": [
      " http://www.reuters.com/article/2014/07/02/il-careerbuilder-emsi-idUSnPn4NH6qy+98+PRN20140702\n",
      "'NoneType' object has no attribute 'text'"
     ]
    },
    {
     "name": "stdout",
     "output_type": "stream",
     "text": [
      " http://www.reuters.com/article/2014/07/02/clean-diesel-trucks-idUSnPn3drGYV+87+PRN20140702\n",
      "'NoneType' object has no attribute 'text'"
     ]
    },
    {
     "name": "stdout",
     "output_type": "stream",
     "text": [
      " http://www.reuters.com/article/2014/07/02/judge-david-l-bazelon-idUSnPn8z5F61+84+PRN20140702\n",
      "'NoneType' object has no attribute 'text'"
     ]
    },
    {
     "name": "stdout",
     "output_type": "stream",
     "text": [
      " http://www.reuters.com/article/2014/07/02/fl-gdsi-personnel-idUSnPn4wlXn2+84+PRN20140702\n",
      "'NoneType' object has no attribute 'text'"
     ]
    },
    {
     "name": "stdout",
     "output_type": "stream",
     "text": [
      " http://www.reuters.com/article/2014/07/02/bc-analystsreviewcom-idUSnPn445Cs+42+PRN20140702\n",
      "'NoneType' object has no attribute 'text'"
     ]
    },
    {
     "name": "stdout",
     "output_type": "stream",
     "text": [
      " http://www.reuters.com/article/2014/07/02/bc-investor-edge-idUSnPn6sfZst+84+PRN20140702\n",
      "'NoneType' object has no attribute 'text'"
     ]
    },
    {
     "name": "stdout",
     "output_type": "stream",
     "text": [
      " http://www.reuters.com/article/2014/07/02/bc-analysts-review-idUSnPn8WZHv1+9c+PRN20140702\n",
      "'NoneType' object has no attribute 'text'"
     ]
    },
    {
     "name": "stdout",
     "output_type": "stream",
     "text": [
      "\n",
      "'NoneType' object has no attribute 'text'"
     ]
    },
    {
     "name": "stdout",
     "output_type": "stream",
     "text": [
      " http://www.reuters.com/article/2014/07/03/irvingoil-specialolym-idUSnPn9TJ6rZ+99+PRN20140703\n",
      "2014-07-02"
     ]
    },
    {
     "name": "stdout",
     "output_type": "stream",
     "text": [
      " http://www.reuters.com/article/2014/07/03/ca-solage-calistoga-idUSnPn4vLNCd+8e+PRN20140703\n",
      "'NoneType' object has no attribute 'text'"
     ]
    },
    {
     "name": "stdout",
     "output_type": "stream",
     "text": [
      " http://www.reuters.com/article/2014/07/03/us-export-195billion-idUSnPn1SnH8f+94+PRN20140703\n",
      "'NoneType' object has no attribute 'text'"
     ]
    },
    {
     "name": "stdout",
     "output_type": "stream",
     "text": [
      " http://www.reuters.com/article/2014/07/03/ny-forexcom-outlook-idUSnPn3NkQdM+95+PRN20140703\n",
      "'NoneType' object has no attribute 'text'"
     ]
    },
    {
     "name": "stdout",
     "output_type": "stream",
     "text": [
      " http://www.reuters.com/article/2014/07/03/opheroes-mcdonald-idUSnPn85DV0s+8c+PRN20140703\n",
      "'NoneType' object has no attribute 'text'"
     ]
    },
    {
     "name": "stdout",
     "output_type": "stream",
     "text": [
      "\n",
      "'NoneType' object has no attribute 'text'"
     ]
    },
    {
     "name": "stdout",
     "output_type": "stream",
     "text": [
      " http://www.reuters.com/article/2014/07/04/bc-analysts-review-idUSnPn8YSpN3+9a+PRN20140704\n",
      "2014-07-03"
     ]
    },
    {
     "name": "stdout",
     "output_type": "stream",
     "text": [
      " http://www.reuters.com/article/2014/07/04/bc-analystsreviewcom-idUSnPn8Qxz73+90+PRN20140704\n",
      "'NoneType' object has no attribute 'text'"
     ]
    },
    {
     "name": "stdout",
     "output_type": "stream",
     "text": [
      " http://www.reuters.com/article/2014/07/04/bc-analysts-review-idUSnPn4SwcZ8+92+PRN20140704\n",
      "'NoneType' object has no attribute 'text'"
     ]
    },
    {
     "name": "stdout",
     "output_type": "stream",
     "text": [
      " http://www.reuters.com/article/2014/07/04/ny-faruqifaruqi-royt-idUSnPn40zLfm+84+PRN20140704\n",
      "'NoneType' object has no attribute 'text'"
     ]
    },
    {
     "name": "stdout",
     "output_type": "stream",
     "text": [
      " http://www.reuters.com/article/2014/07/04/ny-faruqifaruqi-idUSnPn4VsPJ6+96+PRN20140704\n",
      "'NoneType' object has no attribute 'text'"
     ]
    },
    {
     "name": "stdout",
     "output_type": "stream",
     "text": [
      " http://www.reuters.com/article/2014/07/04/bc-analysts-review-idUSnPn1thpHx+82+PRN20140704\n",
      "'NoneType' object has no attribute 'text'"
     ]
    },
    {
     "name": "stdout",
     "output_type": "stream",
     "text": [
      " http://www.reuters.com/article/2014/07/04/bc-analysts-review-idUSnPn5v7Fg5+84+PRN20140704\n",
      "'NoneType' object has no attribute 'text'"
     ]
    },
    {
     "name": "stdout",
     "output_type": "stream",
     "text": [
      " http://www.reuters.com/article/2014/07/04/bc-pyramid-solitaire-sag-idUSnPnplLRK+47+PRN20140704\n",
      "'NoneType' object has no attribute 'text'"
     ]
    },
    {
     "name": "stdout",
     "output_type": "stream",
     "text": [
      "\n",
      "'NoneType' object has no attribute 'text'"
     ]
    },
    {
     "name": "stdout",
     "output_type": "stream",
     "text": [
      " http://www.reuters.com/article/2014/07/05/census-daily-feature-idUSnPnbBWrF3+9a+PRN20140705\n",
      "2014-07-04"
     ]
    },
    {
     "name": "stdout",
     "output_type": "stream",
     "text": [
      " http://www.reuters.com/article/2014/07/05/mo-dickeys-liberty-idUSnPn9vSFpZ+8d+PRN20140705\n",
      "'NoneType' object has no attribute 'text'"
     ]
    },
    {
     "name": "stdout",
     "output_type": "stream",
     "text": [
      " http://www.reuters.com/article/2014/07/06/la-mcdonalds-awards-idUSnPn9ZGK00+9c+PRN20140706\n",
      "'NoneType' object has no attribute 'text'"
     ]
    },
    {
     "name": "stdout",
     "output_type": "stream",
     "text": [
      " http://www.reuters.com/article/2014/07/05/pa-lottery-raffle-idUSnPn4dWsPq+8a+PRN20140705\n",
      "'NoneType' object has no attribute 'text'"
     ]
    },
    {
     "name": "stdout",
     "output_type": "stream",
     "text": [
      " http://www.reuters.com/article/2014/07/05/bc-royal-dutch-shell-idUSnPn87Mdzl+88+PRN20140705\n",
      "'NoneType' object has no attribute 'text'"
     ]
    },
    {
     "name": "stdout",
     "output_type": "stream",
     "text": [
      "\n",
      "'NoneType' object has no attribute 'text'"
     ]
    },
    {
     "name": "stdout",
     "output_type": "stream",
     "text": [
      " http://www.reuters.com/article/2014/07/06/dineshdsouza-america-idUSnPn7TqZkt+94+PRN20140706\n",
      "2014-07-05"
     ]
    },
    {
     "name": "stdout",
     "output_type": "stream",
     "text": [
      " http://www.reuters.com/article/2014/07/06/census-daily-feature-idUSnPnb9tFTG+87+PRN20140706\n",
      "'NoneType' object has no attribute 'text'"
     ]
    },
    {
     "name": "stdout",
     "output_type": "stream",
     "text": [
      " http://www.reuters.com/article/2014/07/06/former-senator-dies-idUSnPn99RmDY+8b+PRN20140706\n",
      "'NoneType' object has no attribute 'text'"
     ]
    },
    {
     "name": "stdout",
     "output_type": "stream",
     "text": [
      "\n",
      "'NoneType' object has no attribute 'text'"
     ]
    },
    {
     "name": "stdout",
     "output_type": "stream",
     "text": [
      " http://www.reuters.com/article/2014/07/07/bc-investor-edgecom-idUSnPn8W7YbN+95+PRN20140707\n",
      "2014-07-06"
     ]
    },
    {
     "name": "stdout",
     "output_type": "stream",
     "text": [
      " http://www.reuters.com/article/2014/07/07/lightway-cdb-loan-idUSnPn4BYRfs+9c+PRN20140707\n",
      "'NoneType' object has no attribute 'text'"
     ]
    },
    {
     "name": "stdout",
     "output_type": "stream",
     "text": [
      " http://www.reuters.com/article/2014/07/07/bc-investor-edgecom-idUSnPn4Z2f2D+91+PRN20140707\n",
      "'NoneType' object has no attribute 'text'"
     ]
    },
    {
     "name": "stdout",
     "output_type": "stream",
     "text": [
      " http://www.reuters.com/article/2014/07/07/bc-investor-edge-idUSnPn7BS6Wj+9a+PRN20140707\n",
      "'NoneType' object has no attribute 'text'"
     ]
    },
    {
     "name": "stdout",
     "output_type": "stream",
     "text": [
      " http://www.reuters.com/article/2014/07/07/ga-catchmark-acquires-idUSnPncgz4mW+81+PRN20140707\n",
      "'NoneType' object has no attribute 'text'"
     ]
    },
    {
     "name": "stdout",
     "output_type": "stream",
     "text": [
      " http://www.reuters.com/article/2014/07/07/us-civil-rights-ny-idUSnPnbVZtLn+9a+PRN20140707\n",
      "'NoneType' object has no attribute 'text'"
     ]
    },
    {
     "name": "stdout",
     "output_type": "stream",
     "text": [
      " http://www.reuters.com/article/2014/07/07/gray-line-ny-tix-rfnd-idUSnPn3H7fpC+91+PRN20140707\n",
      "'NoneType' object has no attribute 'text'"
     ]
    },
    {
     "name": "stdout",
     "output_type": "stream",
     "text": [
      " http://www.reuters.com/article/2014/07/07/amendment-67-campaign-idUSnPnRgPJJ+57+PRN20140707\n",
      "'NoneType' object has no attribute 'text'"
     ]
    },
    {
     "name": "stdout",
     "output_type": "stream",
     "text": [
      " http://www.reuters.com/article/2014/07/07/bc-analysts-review-idUSnPn7ch4Bz+82+PRN20140707\n",
      "'NoneType' object has no attribute 'text'"
     ]
    },
    {
     "name": "stdout",
     "output_type": "stream",
     "text": [
      "\n",
      "'NoneType' object has no attribute 'text'"
     ]
    },
    {
     "name": "stdout",
     "output_type": "stream",
     "text": [
      " http://www.reuters.com/article/2014/07/08/h2oinnov-newcontracts-idUSnPn2lLvk7+88+PRN20140708\n",
      "2014-07-07"
     ]
    },
    {
     "name": "stdout",
     "output_type": "stream",
     "text": [
      " http://www.reuters.com/article/2014/07/08/bc-the-bird-foundation-idUSnPn7yx0Tk+82+PRN20140708\n",
      "'NoneType' object has no attribute 'text'"
     ]
    },
    {
     "name": "stdout",
     "output_type": "stream",
     "text": [
      " http://www.reuters.com/article/2014/07/08/gbta-biztraveloutlook-idUSnPn4X6212+90+PRN20140708\n",
      "'NoneType' object has no attribute 'text'"
     ]
    },
    {
     "name": "stdout",
     "output_type": "stream",
     "text": [
      " http://www.reuters.com/article/2014/07/08/ny-ibm-100m-in-china-idUSnPn7lZLRG+8f+PRN20140708\n",
      "'NoneType' object has no attribute 'text'"
     ]
    },
    {
     "name": "stdout",
     "output_type": "stream",
     "text": [
      " http://www.reuters.com/article/2014/07/08/brain-launch-idUSnPn5hgJQs+86+PRN20140708\n",
      "'NoneType' object has no attribute 'text'"
     ]
    },
    {
     "name": "stdout",
     "output_type": "stream",
     "text": [
      " http://www.reuters.com/article/2014/07/08/il-zacks-bull-n-bear-idUSnPn2XptpP+91+PRN20140708\n",
      "'NoneType' object has no attribute 'text'"
     ]
    },
    {
     "name": "stdout",
     "output_type": "stream",
     "text": [
      " http://www.reuters.com/article/2014/07/08/voxmobilegemasummit-idUSnPn6My7hc+90+PRN20140708\n",
      "'NoneType' object has no attribute 'text'"
     ]
    },
    {
     "name": "stdout",
     "output_type": "stream",
     "text": [
      " http://www.reuters.com/article/2014/07/08/kla-tencore-dividend-idUSnPn5YBM6+4e+PRN20140708\n",
      "'NoneType' object has no attribute 'text'"
     ]
    },
    {
     "name": "stdout",
     "output_type": "stream",
     "text": [
      " http://www.reuters.com/article/2014/07/08/bc-bridgeworks-idUSnPn7xrjhy+80+PRN20140708\n",
      "'NoneType' object has no attribute 'text'"
     ]
    },
    {
     "name": "stdout",
     "output_type": "stream",
     "text": [
      "\n",
      "'NoneType' object has no attribute 'text'"
     ]
    },
    {
     "name": "stdout",
     "output_type": "stream",
     "text": [
      " http://www.reuters.com/article/2014/07/09/hsca-health-costs-idUSnPn8r2sby+80+PRN20140709\n",
      "2014-07-08"
     ]
    },
    {
     "name": "stdout",
     "output_type": "stream",
     "text": [
      " http://www.reuters.com/article/2014/07/09/diesel-tech-car-sales-idUSnPnqnq8W+41+PRN20140709\n",
      "'NoneType' object has no attribute 'text'"
     ]
    },
    {
     "name": "stdout",
     "output_type": "stream",
     "text": [
      " http://www.reuters.com/article/2014/07/09/bc-ie-idUSnPn4TCcn+4c+PRN20140709\n",
      "'NoneType' object has no attribute 'text'"
     ]
    },
    {
     "name": "stdout",
     "output_type": "stream",
     "text": [
      " http://www.reuters.com/article/2014/07/09/cohensteers-assets-idUSnPnbwCHy+46+PRN20140709\n",
      "'NoneType' object has no attribute 'text'"
     ]
    },
    {
     "name": "stdout",
     "output_type": "stream",
     "text": [
      " http://www.reuters.com/article/2014/07/09/ma-decision-resources-idUSnPn3gPwPW+8b+PRN20140709\n",
      "'NoneType' object has no attribute 'text'"
     ]
    },
    {
     "name": "stdout",
     "output_type": "stream",
     "text": [
      " http://www.reuters.com/article/2014/07/09/usatfrobweiner-champ-idUSnPn3k0m3t+80+PRN20140709\n",
      "'NoneType' object has no attribute 'text'"
     ]
    },
    {
     "name": "stdout",
     "output_type": "stream",
     "text": [
      " http://www.reuters.com/article/2014/07/09/ca-id-documentary-tv-idUSnPn1cVNkg+8c+PRN20140709\n",
      "'NoneType' object has no attribute 'text'"
     ]
    },
    {
     "name": "stdout",
     "output_type": "stream",
     "text": [
      " http://www.reuters.com/article/2014/07/09/springer-farm-sponsor-idUSnPnbCK1hS+99+PRN20140709\n",
      "'NoneType' object has no attribute 'text'"
     ]
    },
    {
     "name": "stdout",
     "output_type": "stream",
     "text": [
      " http://www.reuters.com/article/2014/07/09/ex-im-bank-china-idUSnPn52bv4V+81+PRN20140709\n",
      "'NoneType' object has no attribute 'text'"
     ]
    },
    {
     "name": "stdout",
     "output_type": "stream",
     "text": [
      " http://www.reuters.com/article/2014/07/09/sonymobile-experiaz-idUSnPn1S5BZ3+96+PRN20140709\n",
      "'NoneType' object has no attribute 'text'"
     ]
    },
    {
     "name": "stdout",
     "output_type": "stream",
     "text": [
      " http://www.reuters.com/article/2014/07/09/il-astellas-submits-idUSnPn568dr3+80+PRN20140709\n",
      "'NoneType' object has no attribute 'text'"
     ]
    },
    {
     "name": "stdout",
     "output_type": "stream",
     "text": [
      " http://www.reuters.com/article/2014/07/09/mabvax-raises-funds-idUSnPnbRPt2D+99+PRN20140709\n",
      "'NoneType' object has no attribute 'text'"
     ]
    },
    {
     "name": "stdout",
     "output_type": "stream",
     "text": [
      " http://www.reuters.com/article/2014/07/09/in-fronius-usa-solar-idUSnPn4cGzrc+88+PRN20140709\n",
      "'NoneType' object has no attribute 'text'"
     ]
    },
    {
     "name": "stdout",
     "output_type": "stream",
     "text": [
      "\n",
      "'NoneType' object has no attribute 'text'"
     ]
    },
    {
     "name": "stdout",
     "output_type": "stream",
     "text": [
      " http://www.reuters.com/article/2014/07/10/dfw-airport-facilitat-idUSnPn8kHYCm+8e+PRN20140710\n",
      "2014-07-09"
     ]
    },
    {
     "name": "stdout",
     "output_type": "stream",
     "text": [
      " http://www.reuters.com/article/2014/07/10/uh-case-medical-grant-idUSnPn98yWB6+86+PRN20140710\n",
      "'NoneType' object has no attribute 'text'"
     ]
    },
    {
     "name": "stdout",
     "output_type": "stream",
     "text": [
      " http://www.reuters.com/article/2014/07/10/bc-investor-edgecom-idUSnPn8zgmwt+80+PRN20140710\n",
      "'NoneType' object has no attribute 'text'"
     ]
    },
    {
     "name": "stdout",
     "output_type": "stream",
     "text": [
      " http://www.reuters.com/article/2014/07/10/alliance-data-expands-idUSnPn1wW07f+88+PRN20140710\n",
      "'NoneType' object has no attribute 'text'"
     ]
    },
    {
     "name": "stdout",
     "output_type": "stream",
     "text": [
      " http://www.reuters.com/article/2014/07/10/tx-galdermasa-idUSnPnb7dxtS+81+PRN20140710\n",
      "'NoneType' object has no attribute 'text'"
     ]
    },
    {
     "name": "stdout",
     "output_type": "stream",
     "text": [
      " http://www.reuters.com/article/2014/07/10/deq-q2-results-idUSnPn4Pp8PM+93+PRN20140710\n",
      "'NoneType' object has no attribute 'text'"
     ]
    },
    {
     "name": "stdout",
     "output_type": "stream",
     "text": [
      " http://www.reuters.com/article/2014/07/10/cgg-corporate-bond-idUSnPn7qxnzm+80+PRN20140710\n",
      "'NoneType' object has no attribute 'text'"
     ]
    },
    {
     "name": "stdout",
     "output_type": "stream",
     "text": [
      " http://www.reuters.com/article/2014/07/10/ca-corelogic-analysis-idUSnPn6Sl5G1+92+PRN20140710\n",
      "'NoneType' object has no attribute 'text'"
     ]
    },
    {
     "name": "stdout",
     "output_type": "stream",
     "text": [
      " http://www.reuters.com/article/2014/07/10/bc-analysts-review-idUSnPn6JFdZ1+9a+PRN20140710\n",
      "'NoneType' object has no attribute 'text'"
     ]
    },
    {
     "name": "stdout",
     "output_type": "stream",
     "text": [
      " http://www.reuters.com/article/2014/07/10/pa-kitchenmagicaward-idUSnPnPp5xw+50+PRN20140710\n",
      "'NoneType' object has no attribute 'text'"
     ]
    },
    {
     "name": "stdout",
     "output_type": "stream",
     "text": [
      " http://www.reuters.com/article/2014/07/10/ma-cargurus-us-cities-idUSnPn9h6tlx+80+PRN20140710\n",
      "'NoneType' object has no attribute 'text'"
     ]
    },
    {
     "name": "stdout",
     "output_type": "stream",
     "text": [
      "\n",
      "'NoneType' object has no attribute 'text'"
     ]
    },
    {
     "name": "stdout",
     "output_type": "stream",
     "text": [
      " http://www.reuters.com/article/2014/07/11/bc-investor-edgecom-idUSnPn7VG7zF+99+PRN20140711\n",
      "2014-07-10"
     ]
    },
    {
     "name": "stdout",
     "output_type": "stream",
     "text": [
      " http://www.reuters.com/article/2014/07/11/tx-barcelusa-award-idUSnPnx04JZ+43+PRN20140711\n",
      "'NoneType' object has no attribute 'text'"
     ]
    },
    {
     "name": "stdout",
     "output_type": "stream",
     "text": [
      " http://www.reuters.com/article/2014/07/11/pa-ussteel-on-octg-idUSnPn5hHVJQ+8f+PRN20140711\n",
      "'NoneType' object has no attribute 'text'"
     ]
    },
    {
     "name": "stdout",
     "output_type": "stream",
     "text": [
      " http://www.reuters.com/article/2014/07/11/creg-50m-seda-idUSnPn4DJPtS+9d+PRN20140711\n",
      "'NoneType' object has no attribute 'text'"
     ]
    },
    {
     "name": "stdout",
     "output_type": "stream",
     "text": [
      " http://www.reuters.com/article/2014/07/11/il-zacks-investment-idUSnPn8ZPSRq+9e+PRN20140711\n",
      "'NoneType' object has no attribute 'text'"
     ]
    },
    {
     "name": "stdout",
     "output_type": "stream",
     "text": [
      " http://www.reuters.com/article/2014/07/11/bc-investor-edge-idUSnPn2DMyJW+9b+PRN20140711\n",
      "'NoneType' object has no attribute 'text'"
     ]
    },
    {
     "name": "stdout",
     "output_type": "stream",
     "text": [
      "\n",
      "'NoneType' object has no attribute 'text'"
     ]
    },
    {
     "name": "stdout",
     "output_type": "stream",
     "text": [
      " http://www.reuters.com/article/2014/07/12/census-daily-feature-idUSnPn7Vx61q+90+PRN20140712\n",
      "2014-07-11"
     ]
    },
    {
     "name": "stdout",
     "output_type": "stream",
     "text": [
      " http://www.reuters.com/article/2014/07/12/tx-fuddruckers-idUSnPn2vyxQg+82+PRN20140712\n",
      "'NoneType' object has no attribute 'text'"
     ]
    },
    {
     "name": "stdout",
     "output_type": "stream",
     "text": [
      " http://www.reuters.com/article/2014/07/12/teletracincaward-idUSnPn1RgKfZ+95+PRN20140712\n",
      "'NoneType' object has no attribute 'text'"
     ]
    },
    {
     "name": "stdout",
     "output_type": "stream",
     "text": [
      " http://www.reuters.com/article/2014/07/12/ca-dickeys-barbecue-idUSnPn5gF9D9+8a+PRN20140712\n",
      "'NoneType' object has no attribute 'text'"
     ]
    },
    {
     "name": "stdout",
     "output_type": "stream",
     "text": [
      "\n",
      "'NoneType' object has no attribute 'text'"
     ]
    },
    {
     "name": "stdout",
     "output_type": "stream",
     "text": [
      " http://www.reuters.com/article/2014/07/13/in-eli-lilly-new-data-idUSnPnbf0c0Q+81+PRN20140713\n",
      "2014-07-12"
     ]
    },
    {
     "name": "stdout",
     "output_type": "stream",
     "text": [
      " http://www.reuters.com/article/2014/07/13/census-daily-feature-idUSnPn1xqXTL+87+PRN20140713\n",
      "'NoneType' object has no attribute 'text'"
     ]
    },
    {
     "name": "stdout",
     "output_type": "stream",
     "text": [
      " http://www.reuters.com/article/2014/07/13/bc-world-cup-louis-vuitt-idUSnPn96c2k0+80+PRN20140713\n",
      "'NoneType' object has no attribute 'text'"
     ]
    },
    {
     "name": "stdout",
     "output_type": "stream",
     "text": [
      " http://www.reuters.com/article/2014/07/13/raytheon-amraam-idUSnPn3ttStt+84+PRN20140713\n",
      "'NoneType' object has no attribute 'text'"
     ]
    },
    {
     "name": "stdout",
     "output_type": "stream",
     "text": [
      " http://www.reuters.com/article/2014/07/13/raytheon-upgrade-idUSnPn99ktYd+82+PRN20140713\n",
      "'NoneType' object has no attribute 'text'"
     ]
    },
    {
     "name": "stdout",
     "output_type": "stream",
     "text": [
      " http://www.reuters.com/article/2014/07/13/alzheimers-cataract-idUSnPn5tzCBM+87+PRN20140713\n",
      "'NoneType' object has no attribute 'text'"
     ]
    },
    {
     "name": "stdout",
     "output_type": "stream",
     "text": [
      " http://www.reuters.com/article/2014/07/13/block-investigate-urs-idUSnPn3ygJXG+87+PRN20140713\n",
      "'NoneType' object has no attribute 'text'"
     ]
    },
    {
     "name": "stdout",
     "output_type": "stream",
     "text": [
      " http://www.reuters.com/article/2014/07/13/hawaiian-airlines-ceo-idUSnPn6MY5kt+98+PRN20140713\n",
      "'NoneType' object has no attribute 'text'"
     ]
    },
    {
     "name": "stdout",
     "output_type": "stream",
     "text": [
      " http://www.reuters.com/article/2014/07/14/eig-global-new-compan-idUSnPn12CdW0+8a+PRN20140714\n",
      "'NoneType' object has no attribute 'text'"
     ]
    },
    {
     "name": "stdout",
     "output_type": "stream",
     "text": [
      "\n",
      "'NoneType' object has no attribute 'text'"
     ]
    },
    {
     "name": "stdout",
     "output_type": "stream",
     "text": [
      " http://www.reuters.com/article/2014/07/14/ny-viscount-microsoft-idUSnPn8KXCSz+9e+PRN20140714\n",
      "2014-07-13"
     ]
    },
    {
     "name": "stdout",
     "output_type": "stream",
     "text": [
      " http://www.reuters.com/article/2014/07/14/pa-mylan-abbott-acqu-idUSnPn8wW38m+88+PRN20140714\n",
      "'NoneType' object has no attribute 'text'"
     ]
    },
    {
     "name": "stdout",
     "output_type": "stream",
     "text": [
      " http://www.reuters.com/article/2014/07/14/bc-investor-edge-idUSnPnc144XT+83+PRN20140714\n",
      "'NoneType' object has no attribute 'text'"
     ]
    },
    {
     "name": "stdout",
     "output_type": "stream",
     "text": [
      " http://www.reuters.com/article/2014/07/14/fl-darden-tender-offr-idUSnPn9WvqJX+93+PRN20140714\n",
      "'NoneType' object has no attribute 'text'"
     ]
    },
    {
     "name": "stdout",
     "output_type": "stream",
     "text": [
      " http://www.reuters.com/article/2014/07/14/2020-acentia-contract-idUSnPn527mQT+83+PRN20140714\n",
      "'NoneType' object has no attribute 'text'"
     ]
    },
    {
     "name": "stdout",
     "output_type": "stream",
     "text": [
      "\n",
      "'NoneType' object has no attribute 'text'"
     ]
    },
    {
     "name": "stdout",
     "output_type": "stream",
     "text": [
      " http://www.reuters.com/article/2014/07/15/tech-trade-1trillion-idUSnPn17Gzgg+88+PRN20140715\n",
      "2014-07-14"
     ]
    },
    {
     "name": "stdout",
     "output_type": "stream",
     "text": [
      " http://www.reuters.com/article/2014/07/15/bed-bathbeyond-notes-idUSnPn8yWLPy+8e+PRN20140715\n",
      "'NoneType' object has no attribute 'text'"
     ]
    },
    {
     "name": "stdout",
     "output_type": "stream",
     "text": [
      " http://www.reuters.com/article/2014/07/15/census-usvi-economy-idUSnPn5RppCM+93+PRN20140715\n",
      "'NoneType' object has no attribute 'text'"
     ]
    },
    {
     "name": "stdout",
     "output_type": "stream",
     "text": [
      " http://www.reuters.com/article/2014/07/15/holy-name-medical-idUSnPn70sRYm+86+PRN20140715\n",
      "'NoneType' object has no attribute 'text'"
     ]
    },
    {
     "name": "stdout",
     "output_type": "stream",
     "text": [
      " http://www.reuters.com/article/2014/07/15/jacksonbrownusuktour-idUSnPnl3sB+21+PRN20140715\n",
      "'NoneType' object has no attribute 'text'"
     ]
    },
    {
     "name": "stdout",
     "output_type": "stream",
     "text": [
      " http://www.reuters.com/article/2014/07/15/usw-trade-case-idUSnPnbsrFY7+86+PRN20140715\n",
      "'NoneType' object has no attribute 'text'"
     ]
    },
    {
     "name": "stdout",
     "output_type": "stream",
     "text": [
      " http://www.reuters.com/article/2014/07/15/ny-jamesckelly-law-idUSnPn77mLH+43+PRN20140715\n",
      "'NoneType' object has no attribute 'text'"
     ]
    },
    {
     "name": "stdout",
     "output_type": "stream",
     "text": [
      " http://www.reuters.com/article/2014/07/15/pqhh-medicarelegisltn-idUSnPn1pN782+88+PRN20140715\n",
      "'NoneType' object has no attribute 'text'"
     ]
    },
    {
     "name": "stdout",
     "output_type": "stream",
     "text": [
      " http://www.reuters.com/article/2014/07/15/sotera-army-contract-idUSnPn83SMGS+8f+PRN20140715\n",
      "'NoneType' object has no attribute 'text'"
     ]
    },
    {
     "name": "stdout",
     "output_type": "stream",
     "text": [
      " http://www.reuters.com/article/2014/07/15/alexian-health-award-idUSnPn53tBqW+85+PRN20140715\n",
      "'NoneType' object has no attribute 'text'"
     ]
    },
    {
     "name": "stdout",
     "output_type": "stream",
     "text": [
      " http://www.reuters.com/article/2014/07/15/rehab-institute-chi-idUSnPn6mYHB4+8e+PRN20140715\n",
      "'NoneType' object has no attribute 'text'"
     ]
    },
    {
     "name": "stdout",
     "output_type": "stream",
     "text": [
      " http://www.reuters.com/article/2014/07/15/comerica-earnings-idUSnPn42RHXp+8e+PRN20140715\n",
      "'NoneType' object has no attribute 'text'"
     ]
    },
    {
     "name": "stdout",
     "output_type": "stream",
     "text": [
      " http://www.reuters.com/article/2014/07/15/apiary-fund-cycletrip-idUSnPn5k2nJ5+82+PRN20140715\n",
      "'NoneType' object has no attribute 'text'"
     ]
    },
    {
     "name": "stdout",
     "output_type": "stream",
     "text": [
      " http://www.reuters.com/article/2014/07/15/clicksoftwarewaittime-idUSnPn2Z3Dqy+94+PRN20140715\n",
      "'NoneType' object has no attribute 'text'"
     ]
    },
    {
     "name": "stdout",
     "output_type": "stream",
     "text": [
      " http://www.reuters.com/article/2014/07/15/powerup30debut-idUSnPn5Q0r3b+90+PRN20140715\n",
      "'NoneType' object has no attribute 'text'"
     ]
    },
    {
     "name": "stdout",
     "output_type": "stream",
     "text": [
      " http://www.reuters.com/article/2014/07/15/mhi-receives-order-idUSnPn6YlMWZ+97+PRN20140715\n",
      "'NoneType' object has no attribute 'text'"
     ]
    },
    {
     "name": "stdout",
     "output_type": "stream",
     "text": [
      "\n",
      "'NoneType' object has no attribute 'text'"
     ]
    },
    {
     "name": "stdout",
     "output_type": "stream",
     "text": [
      " http://www.reuters.com/article/2014/07/16/bc-expo-milano-idUSnPnc1HLVZ+8f+PRN20140716\n",
      "2014-07-15"
     ]
    },
    {
     "name": "stdout",
     "output_type": "stream",
     "text": [
      " http://www.reuters.com/article/2014/07/16/usa-pavilion-milan-idUSnPn6gyhw0+80+PRN20140716\n",
      "'NoneType' object has no attribute 'text'"
     ]
    },
    {
     "name": "stdout",
     "output_type": "stream",
     "text": [
      " http://www.reuters.com/article/2014/07/16/pa-state-police-drugs-idUSnPn1nlRcZ+85+PRN20140716\n",
      "'NoneType' object has no attribute 'text'"
     ]
    },
    {
     "name": "stdout",
     "output_type": "stream",
     "text": [
      " http://www.reuters.com/article/2014/07/16/md-us-silica-acq-idUSnPn2Vl4lr+90+PRN20140716\n",
      "'NoneType' object has no attribute 'text'"
     ]
    },
    {
     "name": "stdout",
     "output_type": "stream",
     "text": [
      " http://www.reuters.com/article/2014/07/16/pnc-financial-earns-idUSnPn5SZsF2+9a+PRN20140716\n",
      "'NoneType' object has no attribute 'text'"
     ]
    },
    {
     "name": "stdout",
     "output_type": "stream",
     "text": [
      " http://www.reuters.com/article/2014/07/16/ivieassociates-site-idUSnPn4T0hdh+90+PRN20140716\n",
      "'NoneType' object has no attribute 'text'"
     ]
    },
    {
     "name": "stdout",
     "output_type": "stream",
     "text": [
      " http://www.reuters.com/article/2014/07/16/ca-boomerangcommerce-idUSnPn1xWwJ8+8a+PRN20140716\n",
      "'NoneType' object has no attribute 'text'"
     ]
    },
    {
     "name": "stdout",
     "output_type": "stream",
     "text": [
      "\n",
      "'NoneType' object has no attribute 'text'"
     ]
    },
    {
     "name": "stdout",
     "output_type": "stream",
     "text": [
      " http://www.reuters.com/article/2014/07/17/ga-pgi-earnings-idUSnPn2Bn2ks+90+PRN20140717\n",
      "2014-07-16"
     ]
    },
    {
     "name": "stdout",
     "output_type": "stream",
     "text": [
      " http://www.reuters.com/article/2014/07/17/oh-keycorp-earns-idUSnPn2DXt06+98+PRN20140717\n",
      "'NoneType' object has no attribute 'text'"
     ]
    },
    {
     "name": "stdout",
     "output_type": "stream",
     "text": [
      " http://www.reuters.com/article/2014/07/17/mercks-hiv-campaign-idUSnPn7tFPn6+8c+PRN20140717\n",
      "'NoneType' object has no attribute 'text'"
     ]
    },
    {
     "name": "stdout",
     "output_type": "stream",
     "text": [
      " http://www.reuters.com/article/2014/07/17/peoples-united-earns-idUSnPnbnPlDQ+8b+PRN20140717\n",
      "'NoneType' object has no attribute 'text'"
     ]
    },
    {
     "name": "stdout",
     "output_type": "stream",
     "text": [
      " http://www.reuters.com/article/2014/07/17/chinagold-corp-bond-idUSnPn1WRT8Y+9d+PRN20140717\n",
      "'NoneType' object has no attribute 'text'"
     ]
    },
    {
     "name": "stdout",
     "output_type": "stream",
     "text": [
      " http://www.reuters.com/article/2014/07/17/bc-investor-edge-idUSnPn2zWhrT+89+PRN20140717\n",
      "'NoneType' object has no attribute 'text'"
     ]
    },
    {
     "name": "stdout",
     "output_type": "stream",
     "text": [
      " http://www.reuters.com/article/2014/07/17/bc-ie-idUSnPn704nky+80+PRN20140717\n",
      "'NoneType' object has no attribute 'text'"
     ]
    },
    {
     "name": "stdout",
     "output_type": "stream",
     "text": [
      " http://www.reuters.com/article/2014/07/17/nj-bed-bath-offering-idUSnPn7fWCcn+8c+PRN20140717\n",
      "'NoneType' object has no attribute 'text'"
     ]
    },
    {
     "name": "stdout",
     "output_type": "stream",
     "text": [
      " http://www.reuters.com/article/2014/07/17/capital-one-earnings-idUSnPn4VQ5Bx+9a+PRN20140717\n",
      "'NoneType' object has no attribute 'text'"
     ]
    },
    {
     "name": "stdout",
     "output_type": "stream",
     "text": [
      "\n",
      "'NoneType' object has no attribute 'text'"
     ]
    },
    {
     "name": "stdout",
     "output_type": "stream",
     "text": [
      " http://www.reuters.com/article/2014/07/18/ny-bny-mellon-earn-idUSnPn1SHpSv+9a+PRN20140718\n",
      "2014-07-17"
     ]
    },
    {
     "name": "stdout",
     "output_type": "stream",
     "text": [
      " http://www.reuters.com/article/2014/07/18/bc-investor-edgecom-idUSnPn5HfL9l+94+PRN20140718\n",
      "'NoneType' object has no attribute 'text'"
     ]
    },
    {
     "name": "stdout",
     "output_type": "stream",
     "text": [
      " http://www.reuters.com/article/2014/07/18/nj-honeywell-earns-idUSnPn5mt31M+81+PRN20140718\n",
      "'NoneType' object has no attribute 'text'"
     ]
    },
    {
     "name": "stdout",
     "output_type": "stream",
     "text": [
      " http://www.reuters.com/article/2014/07/18/leapfrog-group-survey-idUSnPn194lf+40+PRN20140718\n",
      "'NoneType' object has no attribute 'text'"
     ]
    },
    {
     "name": "stdout",
     "output_type": "stream",
     "text": [
      " http://www.reuters.com/article/2014/07/18/ny-conf-board-us-lei-idUSnPn2tFzHz+8a+PRN20140718\n",
      "'NoneType' object has no attribute 'text'"
     ]
    },
    {
     "name": "stdout",
     "output_type": "stream",
     "text": [
      "\n",
      "'NoneType' object has no attribute 'text'"
     ]
    },
    {
     "name": "stdout",
     "output_type": "stream",
     "text": [
      " http://www.reuters.com/article/2014/07/19/census-daily-feature-idUSnPn459yS6+82+PRN20140719\n",
      "2014-07-18"
     ]
    },
    {
     "name": "stdout",
     "output_type": "stream",
     "text": [
      " http://www.reuters.com/article/2014/07/19/foresterskaboomsavio-idUSnPn8Jpw49+90+PRN20140719\n",
      "'NoneType' object has no attribute 'text'"
     ]
    },
    {
     "name": "stdout",
     "output_type": "stream",
     "text": [
      " http://www.reuters.com/article/2014/07/19/pa-brodsky-smith-zipr-idUSnPn3DhBZb+96+PRN20140719\n",
      "'NoneType' object has no attribute 'text'"
     ]
    },
    {
     "name": "stdout",
     "output_type": "stream",
     "text": [
      " http://www.reuters.com/article/2014/07/19/american-air-contract-idUSnPn1Tsncl+90+PRN20140719\n",
      "'NoneType' object has no attribute 'text'"
     ]
    },
    {
     "name": "stdout",
     "output_type": "stream",
     "text": [
      " http://www.reuters.com/article/2014/07/19/ajc-comments-on-p-idUSnPn5xD2Rb+8a+PRN20140719\n",
      "'NoneType' object has no attribute 'text'"
     ]
    },
    {
     "name": "stdout",
     "output_type": "stream",
     "text": [
      " http://www.reuters.com/article/2014/07/19/ma-blast-fitness-open-idUSnPn6FhJ9v+94+PRN20140719\n",
      "'NoneType' object has no attribute 'text'"
     ]
    },
    {
     "name": "stdout",
     "output_type": "stream",
     "text": [
      " http://www.reuters.com/article/2014/07/19/korbel-laketahoe-golf-idUSnPn5D5pwp+90+PRN20140719\n",
      "'NoneType' object has no attribute 'text'"
     ]
    },
    {
     "name": "stdout",
     "output_type": "stream",
     "text": [
      "\n",
      "'NoneType' object has no attribute 'text'"
     ]
    },
    {
     "name": "stdout",
     "output_type": "stream",
     "text": [
      " http://www.reuters.com/article/2014/07/20/census-daily-feature-idUSnPn25GCkw+8c+PRN20140720\n",
      "2014-07-19"
     ]
    },
    {
     "name": "stdout",
     "output_type": "stream",
     "text": [
      " http://www.reuters.com/article/2014/07/20/compressco-partners-idUSnPn8S2hm8+90+PRN20140720\n",
      "'NoneType' object has no attribute 'text'"
     ]
    },
    {
     "name": "stdout",
     "output_type": "stream",
     "text": [
      " http://www.reuters.com/article/2014/07/20/ca-onemediallc-film-idUSnPn94fPR4+86+PRN20140720\n",
      "'NoneType' object has no attribute 'text'"
     ]
    },
    {
     "name": "stdout",
     "output_type": "stream",
     "text": [
      " http://www.reuters.com/article/2014/07/20/compresscooffering-idUSnPnbClh8G+91+PRN20140720\n",
      "'NoneType' object has no attribute 'text'"
     ]
    },
    {
     "name": "stdout",
     "output_type": "stream",
     "text": [
      " http://www.reuters.com/article/2014/07/20/mi-ilitch-redevelop-idUSnPn1jzxlC+81+PRN20140720\n",
      "'NoneType' object has no attribute 'text'"
     ]
    },
    {
     "name": "stdout",
     "output_type": "stream",
     "text": [
      " http://www.reuters.com/article/2014/07/21/cn-canton-fair-trade-idUSnPnbWqpjN+91+PRN20140721\n",
      "'NoneType' object has no attribute 'text'"
     ]
    },
    {
     "name": "stdout",
     "output_type": "stream",
     "text": [
      "\n",
      "'NoneType' object has no attribute 'text'"
     ]
    },
    {
     "name": "stdout",
     "output_type": "stream",
     "text": [
      " http://www.reuters.com/article/2014/07/21/ms-bancorpsouth-earns-idUSnPn5GcqL9+92+PRN20140721\n",
      "2014-07-20"
     ]
    },
    {
     "name": "stdout",
     "output_type": "stream",
     "text": [
      " http://www.reuters.com/article/2014/07/21/cn-reports-q-idUSnPn87yNCP+87+PRN20140721\n",
      "'NoneType' object has no attribute 'text'"
     ]
    },
    {
     "name": "stdout",
     "output_type": "stream",
     "text": [
      " http://www.reuters.com/article/2014/07/21/fl-seminolehardrock-idUSnPn3FJf3j+98+PRN20140721\n",
      "'NoneType' object has no attribute 'text'"
     ]
    },
    {
     "name": "stdout",
     "output_type": "stream",
     "text": [
      " http://www.reuters.com/article/2014/07/21/bc-artprice-com-idUSnPnf4VXY+47+PRN20140721\n",
      "'NoneType' object has no attribute 'text'"
     ]
    },
    {
     "name": "stdout",
     "output_type": "stream",
     "text": [
      " http://www.reuters.com/article/2014/07/21/va-atk-intlcontracts-idUSnPn8MCv8R+99+PRN20140721\n",
      "'NoneType' object has no attribute 'text'"
     ]
    },
    {
     "name": "stdout",
     "output_type": "stream",
     "text": [
      " http://www.reuters.com/article/2014/07/21/bc-investor-edge-idUSnPn1GP5nY+99+PRN20140721\n",
      "'NoneType' object has no attribute 'text'"
     ]
    },
    {
     "name": "stdout",
     "output_type": "stream",
     "text": [
      " http://www.reuters.com/article/2014/07/21/brestcancerdiagnosis-idUSnPnbvZzWl+8a+PRN20140721\n",
      "'NoneType' object has no attribute 'text'"
     ]
    },
    {
     "name": "stdout",
     "output_type": "stream",
     "text": [
      " http://www.reuters.com/article/2014/07/21/bc-ar-idUSnPn4rcvKd+82+PRN20140721\n",
      "'NoneType' object has no attribute 'text'"
     ]
    },
    {
     "name": "stdout",
     "output_type": "stream",
     "text": [
      " http://www.reuters.com/article/2014/07/21/il-manitex-pm-group-idUSnPnbv1MjF+85+PRN20140721\n",
      "'NoneType' object has no attribute 'text'"
     ]
    },
    {
     "name": "stdout",
     "output_type": "stream",
     "text": [
      " http://www.reuters.com/article/2014/07/21/freedom-mortgage-corp-idUSnPnbKxqML+93+PRN20140721\n",
      "'NoneType' object has no attribute 'text'"
     ]
    },
    {
     "name": "stdout",
     "output_type": "stream",
     "text": [
      " http://www.reuters.com/article/2014/07/21/il-zacks-investment-idUSnPn6rSyTn+8a+PRN20140721\n",
      "'NoneType' object has no attribute 'text'"
     ]
    },
    {
     "name": "stdout",
     "output_type": "stream",
     "text": [
      " http://www.reuters.com/article/2014/07/21/spansion-petitions-idUSnPn41SmjY+89+PRN20140721\n",
      "'NoneType' object has no attribute 'text'"
     ]
    },
    {
     "name": "stdout",
     "output_type": "stream",
     "text": [
      " http://www.reuters.com/article/2014/07/21/adbi-e-qure-device-idUSnPnb2qj3C+81+PRN20140721\n",
      "'NoneType' object has no attribute 'text'"
     ]
    },
    {
     "name": "stdout",
     "output_type": "stream",
     "text": [
      " http://www.reuters.com/article/2014/07/21/highland-egym-finance-idUSnPn1ms45+40+PRN20140721\n",
      "'NoneType' object has no attribute 'text'"
     ]
    },
    {
     "name": "stdout",
     "output_type": "stream",
     "text": [
      " http://www.reuters.com/article/2014/07/21/decisionresources-svy-idUSnPnbQ5t36+90+PRN20140721\n",
      "'NoneType' object has no attribute 'text'"
     ]
    },
    {
     "name": "stdout",
     "output_type": "stream",
     "text": [
      " http://www.reuters.com/article/2014/07/21/zillow-home-value-svy-idUSnPn7pWF8Y+8d+PRN20140721\n",
      "'NoneType' object has no attribute 'text'"
     ]
    },
    {
     "name": "stdout",
     "output_type": "stream",
     "text": [
      " http://www.reuters.com/article/2014/07/21/valeant-allergan-idUSnPn873WjZ+85+PRN20140721\n",
      "'NoneType' object has no attribute 'text'"
     ]
    },
    {
     "name": "stdout",
     "output_type": "stream",
     "text": [
      "\n",
      "'NoneType' object has no attribute 'text'"
     ]
    },
    {
     "name": "stdout",
     "output_type": "stream",
     "text": [
      " http://www.reuters.com/article/2014/07/22/new-oriental-earnings-idUSnPn7CMHvZ+9d+PRN20140722\n",
      "2014-07-21"
     ]
    },
    {
     "name": "stdout",
     "output_type": "stream",
     "text": [
      " http://www.reuters.com/article/2014/07/22/ny-aerco-nita-lowey-idUSnPnbNqYR6+96+PRN20140722\n",
      "'NoneType' object has no attribute 'text'"
     ]
    },
    {
     "name": "stdout",
     "output_type": "stream",
     "text": [
      " http://www.reuters.com/article/2014/07/22/ny-dead-rabbit-award-idUSnPn56xPBG+87+PRN20140722\n",
      "'NoneType' object has no attribute 'text'"
     ]
    },
    {
     "name": "stdout",
     "output_type": "stream",
     "text": [
      " http://www.reuters.com/article/2014/07/22/ca-nektar-therapeutic-idUSnPn75x0Rs+82+PRN20140722\n",
      "'NoneType' object has no attribute 'text'"
     ]
    },
    {
     "name": "stdout",
     "output_type": "stream",
     "text": [
      " http://www.reuters.com/article/2014/07/22/palottery-helpseniors-idUSnPn5VdpH8+92+PRN20140722\n",
      "'NoneType' object has no attribute 'text'"
     ]
    },
    {
     "name": "stdout",
     "output_type": "stream",
     "text": [
      " http://www.reuters.com/article/2014/07/22/va-gannett-earns-q-idUSnPn36z1ks+80+PRN20140722\n",
      "'NoneType' object has no attribute 'text'"
     ]
    },
    {
     "name": "stdout",
     "output_type": "stream",
     "text": [
      " http://www.reuters.com/article/2014/07/22/dc-versar-awarded-con-idUSnPnc27mcj+80+PRN20140722\n",
      "'NoneType' object has no attribute 'text'"
     ]
    },
    {
     "name": "stdout",
     "output_type": "stream",
     "text": [
      " http://www.reuters.com/article/2014/07/22/bny-mellon-dr-capital-idUSnPn3FXrNV+9b+PRN20140722\n",
      "'NoneType' object has no attribute 'text'"
     ]
    },
    {
     "name": "stdout",
     "output_type": "stream",
     "text": [
      " http://www.reuters.com/article/2014/07/22/il-zacks-analyst-blog-idUSnPnbxmTZx+86+PRN20140722\n",
      "'NoneType' object has no attribute 'text'"
     ]
    },
    {
     "name": "stdout",
     "output_type": "stream",
     "text": [
      " http://www.reuters.com/article/2014/07/22/ny-qubit-clientgrowth-idUSnPn9QTpmN+99+PRN20140722\n",
      "'NoneType' object has no attribute 'text'"
     ]
    },
    {
     "name": "stdout",
     "output_type": "stream",
     "text": [
      " http://www.reuters.com/article/2014/07/22/nabors-earnings-idUSnPn4BdCHq+96+PRN20140722\n",
      "'NoneType' object has no attribute 'text'"
     ]
    },
    {
     "name": "stdout",
     "output_type": "stream",
     "text": [
      " http://www.reuters.com/article/2014/07/22/fl-forward-lawsuit-idUSnPn9PvY9r+94+PRN20140722\n",
      "'NoneType' object has no attribute 'text'"
     ]
    },
    {
     "name": "stdout",
     "output_type": "stream",
     "text": [
      " http://www.reuters.com/article/2014/07/22/nv-cannavest-idUSnPnbNwCnw+94+PRN20140722\n",
      "'NoneType' object has no attribute 'text'"
     ]
    },
    {
     "name": "stdout",
     "output_type": "stream",
     "text": [
      " http://www.reuters.com/article/2014/07/22/onedrop-2020water-idUSnPn4D4Dpy+94+PRN20140722\n",
      "'NoneType' object has no attribute 'text'"
     ]
    },
    {
     "name": "stdout",
     "output_type": "stream",
     "text": [
      " http://www.reuters.com/article/2014/07/22/ballard-fuel-cell-bus-idUSnPn4sYpQZ+8b+PRN20140722\n",
      "'NoneType' object has no attribute 'text'"
     ]
    },
    {
     "name": "stdout",
     "output_type": "stream",
     "text": [
      " http://www.reuters.com/article/2014/07/22/cathaygeneral2qearns-idUSnPnbXFYv0+9c+PRN20140722\n",
      "'NoneType' object has no attribute 'text'"
     ]
    },
    {
     "name": "stdout",
     "output_type": "stream",
     "text": [
      " http://www.reuters.com/article/2014/07/22/acc-june-cab-report-idUSnPn1b03wl+80+PRN20140722\n",
      "'NoneType' object has no attribute 'text'"
     ]
    },
    {
     "name": "stdout",
     "output_type": "stream",
     "text": [
      " http://www.reuters.com/article/2014/07/22/il-barchart-app-idUSnPncYYY9+4e+PRN20140722\n",
      "'NoneType' object has no attribute 'text'"
     ]
    },
    {
     "name": "stdout",
     "output_type": "stream",
     "text": [
      " http://www.reuters.com/article/2014/07/22/blab-best4communities-idUSnPn8Nt86Z+91+PRN20140722\n",
      "'NoneType' object has no attribute 'text'"
     ]
    },
    {
     "name": "stdout",
     "output_type": "stream",
     "text": [
      "\n",
      "'NoneType' object has no attribute 'text'"
     ]
    },
    {
     "name": "stdout",
     "output_type": "stream",
     "text": [
      " http://www.reuters.com/article/2014/07/23/united-bancorp-earns-idUSnPnbtX8Tc+8a+PRN20140723\n",
      "2014-07-22"
     ]
    },
    {
     "name": "stdout",
     "output_type": "stream",
     "text": [
      " http://www.reuters.com/article/2014/07/23/bladex-2q14-earns-idUSnPn5sYpdP+89+PRN20140723\n",
      "'NoneType' object has no attribute 'text'"
     ]
    },
    {
     "name": "stdout",
     "output_type": "stream",
     "text": [
      " http://www.reuters.com/article/2014/07/23/fl-landstar-earnings-idUSnPn5XQ967+98+PRN20140723\n",
      "'NoneType' object has no attribute 'text'"
     ]
    },
    {
     "name": "stdout",
     "output_type": "stream",
     "text": [
      " http://www.reuters.com/article/2014/07/23/avantcredit-funding-idUSnPn7Q1h79+90+PRN20140723\n",
      "'NoneType' object has no attribute 'text'"
     ]
    },
    {
     "name": "stdout",
     "output_type": "stream",
     "text": [
      " http://www.reuters.com/article/2014/07/23/ifaw-statement-idUSnPn8Fp1cf+90+PRN20140723\n",
      "'NoneType' object has no attribute 'text'"
     ]
    },
    {
     "name": "stdout",
     "output_type": "stream",
     "text": [
      " http://www.reuters.com/article/2014/07/23/oh-libbey-schonwald-idUSnPn6d1XKH+87+PRN20140723\n",
      "'NoneType' object has no attribute 'text'"
     ]
    },
    {
     "name": "stdout",
     "output_type": "stream",
     "text": [
      " http://www.reuters.com/article/2014/07/23/ny-smi-june-q2-data-idUSnPn2M5hCK+93+PRN20140723\n",
      "'NoneType' object has no attribute 'text'"
     ]
    },
    {
     "name": "stdout",
     "output_type": "stream",
     "text": [
      " http://www.reuters.com/article/2014/07/23/hoteles-city-earnings-idUSnPn3mt4dY+81+PRN20140723\n",
      "'NoneType' object has no attribute 'text'"
     ]
    },
    {
     "name": "stdout",
     "output_type": "stream",
     "text": [
      " http://www.reuters.com/article/2014/07/23/drizly-expands-denver-idUSnPn2llKKt+86+PRN20140723\n",
      "'NoneType' object has no attribute 'text'"
     ]
    },
    {
     "name": "stdout",
     "output_type": "stream",
     "text": [
      "\n",
      "'NoneType' object has no attribute 'text'"
     ]
    },
    {
     "name": "stdout",
     "output_type": "stream",
     "text": [
      " http://www.reuters.com/article/2014/07/24/sigmaaldrich2qearns-idUSnPn4N5Kdg+94+PRN20140724\n",
      "2014-07-23"
     ]
    },
    {
     "name": "stdout",
     "output_type": "stream",
     "text": [
      " http://www.reuters.com/article/2014/07/24/mi-cms-energy-earning-idUSnPn4vv39p+80+PRN20140724\n",
      "'NoneType' object has no attribute 'text'"
     ]
    },
    {
     "name": "stdout",
     "output_type": "stream",
     "text": [
      " http://www.reuters.com/article/2014/07/24/directed-energy-idUSnPn1gXqcH+89+PRN20140724\n",
      "'NoneType' object has no attribute 'text'"
     ]
    },
    {
     "name": "stdout",
     "output_type": "stream",
     "text": [
      " http://www.reuters.com/article/2014/07/24/bc-analysts-review-idUSnPnWLQFm+5e+PRN20140724\n",
      "'NoneType' object has no attribute 'text'"
     ]
    },
    {
     "name": "stdout",
     "output_type": "stream",
     "text": [
      " http://www.reuters.com/article/2014/07/24/bc-ie-idUSnPn65nBsj+84+PRN20140724\n",
      "'NoneType' object has no attribute 'text'"
     ]
    },
    {
     "name": "stdout",
     "output_type": "stream",
     "text": [
      " http://www.reuters.com/article/2014/07/24/mdc-partners-div-idUSnPn4gptln+80+PRN20140724\n",
      "'NoneType' object has no attribute 'text'"
     ]
    },
    {
     "name": "stdout",
     "output_type": "stream",
     "text": [
      " http://www.reuters.com/article/2014/07/24/firstfinancial-earns-idUSnPn4f38jc+80+PRN20140724\n",
      "'NoneType' object has no attribute 'text'"
     ]
    },
    {
     "name": "stdout",
     "output_type": "stream",
     "text": [
      " http://www.reuters.com/article/2014/07/24/cat-q2-earnings-idUSnPn8rghk4+80+PRN20140724\n",
      "'NoneType' object has no attribute 'text'"
     ]
    },
    {
     "name": "stdout",
     "output_type": "stream",
     "text": [
      " http://www.reuters.com/article/2014/07/24/ma-decision-resources-idUSnPn8pz3w4+80+PRN20140724\n",
      "'NoneType' object has no attribute 'text'"
     ]
    },
    {
     "name": "stdout",
     "output_type": "stream",
     "text": [
      "\n",
      "'NoneType' object has no attribute 'text'"
     ]
    },
    {
     "name": "stdout",
     "output_type": "stream",
     "text": [
      " http://www.reuters.com/article/2014/07/25/tyco-3q-earnings-idUSnPn8yM6cM+89+PRN20140725\n",
      "2014-07-24"
     ]
    },
    {
     "name": "stdout",
     "output_type": "stream",
     "text": [
      " http://www.reuters.com/article/2014/07/25/bc-analysts-review-idUSnPn9vTGHH+8f+PRN20140725\n",
      "'NoneType' object has no attribute 'text'"
     ]
    },
    {
     "name": "stdout",
     "output_type": "stream",
     "text": [
      " http://www.reuters.com/article/2014/07/25/bc-investor-edge-idUSnPn5f1mpl+80+PRN20140725\n",
      "'NoneType' object has no attribute 'text'"
     ]
    },
    {
     "name": "stdout",
     "output_type": "stream",
     "text": [
      " http://www.reuters.com/article/2014/07/25/ieeeusa-energypolicy-idUSnPn3fBGR1+8e+PRN20140725\n",
      "'NoneType' object has no attribute 'text'"
     ]
    },
    {
     "name": "stdout",
     "output_type": "stream",
     "text": [
      " http://www.reuters.com/article/2014/07/25/fl-bitcoincollect-idUSnPn9hqBJK+87+PRN20140725\n",
      "'NoneType' object has no attribute 'text'"
     ]
    },
    {
     "name": "stdout",
     "output_type": "stream",
     "text": [
      "\n",
      "'NoneType' object has no attribute 'text'"
     ]
    },
    {
     "name": "stdout",
     "output_type": "stream",
     "text": [
      " http://www.reuters.com/article/2014/07/26/census-daily-feature-idUSnPn9t19G5+82+PRN20140726\n",
      "2014-07-25"
     ]
    },
    {
     "name": "stdout",
     "output_type": "stream",
     "text": [
      " http://www.reuters.com/article/2014/07/26/foestersplayground-idUSnPnbPMnXz+9a+PRN20140726\n",
      "'NoneType' object has no attribute 'text'"
     ]
    },
    {
     "name": "stdout",
     "output_type": "stream",
     "text": [
      " http://www.reuters.com/article/2014/07/26/unitedlaunchalliance-idUSnPnbCl8CJ+93+PRN20140726\n",
      "'NoneType' object has no attribute 'text'"
     ]
    },
    {
     "name": "stdout",
     "output_type": "stream",
     "text": [
      " http://www.reuters.com/article/2014/07/26/fitnessedgenet-hgh-idUSnPn5kzKxC+85+PRN20140726\n",
      "'NoneType' object has no attribute 'text'"
     ]
    },
    {
     "name": "stdout",
     "output_type": "stream",
     "text": [
      "\n",
      "'NoneType' object has no attribute 'text'"
     ]
    },
    {
     "name": "stdout",
     "output_type": "stream",
     "text": [
      " http://www.reuters.com/article/2014/07/27/ca-grasp-tech-data-idUSnPn4x48h1+80+PRN20140727\n",
      "2014-07-26"
     ]
    },
    {
     "name": "stdout",
     "output_type": "stream",
     "text": [
      " http://www.reuters.com/article/2014/07/28/mini-takes-the-states-idUSnPn72TyV9+8a+PRN20140728\n",
      "'NoneType' object has no attribute 'text'"
     ]
    },
    {
     "name": "stdout",
     "output_type": "stream",
     "text": [
      " http://www.reuters.com/article/2014/07/28/mini-takes-the-states-idUSnPn7m4l7T+81+PRN20140728\n",
      "'NoneType' object has no attribute 'text'"
     ]
    },
    {
     "name": "stdout",
     "output_type": "stream",
     "text": [
      " http://www.reuters.com/article/2014/07/27/census-daily-feature-idUSnPn8VsL1P+95+PRN20140727\n",
      "'NoneType' object has no attribute 'text'"
     ]
    },
    {
     "name": "stdout",
     "output_type": "stream",
     "text": [
      " http://www.reuters.com/article/2014/07/27/simmons-new-products-idUSnPnbrqb2d+80+PRN20140727\n",
      "'NoneType' object has no attribute 'text'"
     ]
    },
    {
     "name": "stdout",
     "output_type": "stream",
     "text": [
      " http://www.reuters.com/article/2014/07/27/bancosantandersa-idUSnPn5L3685+90+PRN20140727\n",
      "'NoneType' object has no attribute 'text'"
     ]
    },
    {
     "name": "stdout",
     "output_type": "stream",
     "text": [
      " http://www.reuters.com/article/2014/07/27/bc-diageo-reserve-world-idUSnPn60pwBK+83+PRN20140727\n",
      "'NoneType' object has no attribute 'text'"
     ]
    },
    {
     "name": "stdout",
     "output_type": "stream",
     "text": [
      " http://www.reuters.com/article/2014/07/28/jdcom-xbox-sales-idUSnPn5HTZw5+9c+PRN20140728\n",
      "'NoneType' object has no attribute 'text'"
     ]
    },
    {
     "name": "stdout",
     "output_type": "stream",
     "text": [
      " http://www.reuters.com/article/2014/07/27/gasnatural-degenstein-idUSnPn1gL5YL+8b+PRN20140727\n",
      "'NoneType' object has no attribute 'text'"
     ]
    },
    {
     "name": "stdout",
     "output_type": "stream",
     "text": [
      "\n",
      "'NoneType' object has no attribute 'text'"
     ]
    },
    {
     "name": "stdout",
     "output_type": "stream",
     "text": [
      " http://www.reuters.com/article/2014/07/28/sotera-career-event-idUSnPnSlfjn+50+PRN20140728\n",
      "2014-07-27"
     ]
    },
    {
     "name": "stdout",
     "output_type": "stream",
     "text": [
      " http://www.reuters.com/article/2014/07/28/ropes-gray-elects-idUSnPn4CGxYk+9a+PRN20140728\n",
      "'NoneType' object has no attribute 'text'"
     ]
    },
    {
     "name": "stdout",
     "output_type": "stream",
     "text": [
      " http://www.reuters.com/article/2014/07/28/fl-xg-tech-caci-con-idUSnPn56rYWB+87+PRN20140728\n",
      "'NoneType' object has no attribute 'text'"
     ]
    },
    {
     "name": "stdout",
     "output_type": "stream",
     "text": [
      " http://www.reuters.com/article/2014/07/29/jsl-2q14-earnings-idUSnPn1v1yCH+83+PRN20140729\n",
      "'NoneType' object has no attribute 'text'"
     ]
    },
    {
     "name": "stdout",
     "output_type": "stream",
     "text": [
      " http://www.reuters.com/article/2014/07/28/oi-telemar-idUSnPn5Kbf5V+91+PRN20140728\n",
      "'NoneType' object has no attribute 'text'"
     ]
    },
    {
     "name": "stdout",
     "output_type": "stream",
     "text": [
      " http://www.reuters.com/article/2014/07/28/americancapital-earns-idUSnPn4JbyRP+93+PRN20140728\n",
      "'NoneType' object has no attribute 'text'"
     ]
    },
    {
     "name": "stdout",
     "output_type": "stream",
     "text": [
      " http://www.reuters.com/article/2014/07/28/vista-gold-extends-idUSnPntSCtk+4c+PRN20140728\n",
      "'NoneType' object has no attribute 'text'"
     ]
    },
    {
     "name": "stdout",
     "output_type": "stream",
     "text": [
      " http://www.reuters.com/article/2014/07/28/bc-investor-edgecom-idUSnPnLqD59+54+PRN20140728\n",
      "'NoneType' object has no attribute 'text'"
     ]
    },
    {
     "name": "stdout",
     "output_type": "stream",
     "text": [
      " http://www.reuters.com/article/2014/07/28/jameskelly-investors-idUSnPn3fqNXg+86+PRN20140728\n",
      "'NoneType' object has no attribute 'text'"
     ]
    },
    {
     "name": "stdout",
     "output_type": "stream",
     "text": [
      " http://www.reuters.com/article/2014/07/28/natl-defenseuniv-awrd-idUSnPn2Qww68+90+PRN20140728\n",
      "'NoneType' object has no attribute 'text'"
     ]
    },
    {
     "name": "stdout",
     "output_type": "stream",
     "text": [
      " http://www.reuters.com/article/2014/07/28/levikors-investigate-idUSnPn7t9P5J+85+PRN20140728\n",
      "'NoneType' object has no attribute 'text'"
     ]
    },
    {
     "name": "stdout",
     "output_type": "stream",
     "text": [
      " http://www.reuters.com/article/2014/07/28/seacoastbank-erns-idUSnPnJzgGl+52+PRN20140728\n",
      "'NoneType' object has no attribute 'text'"
     ]
    },
    {
     "name": "stdout",
     "output_type": "stream",
     "text": [
      " http://www.reuters.com/article/2014/07/28/ngx-apc-ace-launch-idUSnPn8TlPPx+96+PRN20140728\n",
      "'NoneType' object has no attribute 'text'"
     ]
    },
    {
     "name": "stdout",
     "output_type": "stream",
     "text": [
      " http://www.reuters.com/article/2014/07/28/lexusweinstein-film-idUSnPn9TK1H4+9a+PRN20140728\n",
      "'NoneType' object has no attribute 'text'"
     ]
    },
    {
     "name": "stdout",
     "output_type": "stream",
     "text": [
      " http://www.reuters.com/article/2014/07/28/ma-careone-raises-1m-idUSnPn8WcLfF+95+PRN20140728\n",
      "'NoneType' object has no attribute 'text'"
     ]
    },
    {
     "name": "stdout",
     "output_type": "stream",
     "text": [
      " http://www.reuters.com/article/2014/07/28/dc-rila-security-stds-idUSnPn46M1rM+89+PRN20140728\n",
      "'NoneType' object has no attribute 'text'"
     ]
    },
    {
     "name": "stdout",
     "output_type": "stream",
     "text": [
      " http://www.reuters.com/article/2014/07/28/janssen-fda-approval-idUSnPn8Tpqlh+90+PRN20140728\n",
      "'NoneType' object has no attribute 'text'"
     ]
    },
    {
     "name": "stdout",
     "output_type": "stream",
     "text": [
      "\n",
      "'NoneType' object has no attribute 'text'"
     ]
    },
    {
     "name": "stdout",
     "output_type": "stream",
     "text": [
      " http://www.reuters.com/article/2014/07/29/carlossantana-corazon-idUSnPn2Wb891+90+PRN20140729\n",
      "2014-07-28"
     ]
    },
    {
     "name": "stdout",
     "output_type": "stream",
     "text": [
      " http://www.reuters.com/article/2014/07/29/nj-covance-earnings-idUSnPn5kyRgp+84+PRN20140729\n",
      "'NoneType' object has no attribute 'text'"
     ]
    },
    {
     "name": "stdout",
     "output_type": "stream",
     "text": [
      " http://www.reuters.com/article/2014/07/29/pa-unisys-contractwin-idUSnPn6MSPqN+9d+PRN20140729\n",
      "'NoneType' object has no attribute 'text'"
     ]
    },
    {
     "name": "stdout",
     "output_type": "stream",
     "text": [
      " http://www.reuters.com/article/2014/07/29/bayer-health-berocca-idUSnPnchbmw3+80+PRN20140729\n",
      "'NoneType' object has no attribute 'text'"
     ]
    },
    {
     "name": "stdout",
     "output_type": "stream",
     "text": [
      " http://www.reuters.com/article/2014/07/29/liuna-highway-bill-idUSnPnhy7ZP+43+PRN20140729\n",
      "'NoneType' object has no attribute 'text'"
     ]
    },
    {
     "name": "stdout",
     "output_type": "stream",
     "text": [
      " http://www.reuters.com/article/2014/07/29/usc-technology-survey-idUSnPn8tgQ6c+84+PRN20140729\n",
      "'NoneType' object has no attribute 'text'"
     ]
    },
    {
     "name": "stdout",
     "output_type": "stream",
     "text": [
      " http://www.reuters.com/article/2014/07/29/globaldigitalsolution-idUSnPn65LYMc+8e+PRN20140729\n",
      "'NoneType' object has no attribute 'text'"
     ]
    },
    {
     "name": "stdout",
     "output_type": "stream",
     "text": [
      " http://www.reuters.com/article/2014/07/29/warsteiner-usa-builds-idUSnPn1zMNMV+8f+PRN20140729\n",
      "'NoneType' object has no attribute 'text'"
     ]
    },
    {
     "name": "stdout",
     "output_type": "stream",
     "text": [
      " http://www.reuters.com/article/2014/07/29/civil-rights-letter-idUSnPnb2NmMJ+8b+PRN20140729\n",
      "'NoneType' object has no attribute 'text'"
     ]
    },
    {
     "name": "stdout",
     "output_type": "stream",
     "text": [
      " http://www.reuters.com/article/2014/07/29/ca-amgen-earnings-idUSnPn5zH4h6+88+PRN20140729\n",
      "'NoneType' object has no attribute 'text'"
     ]
    },
    {
     "name": "stdout",
     "output_type": "stream",
     "text": [
      " http://www.reuters.com/article/2014/07/29/ca-pge-doe-idUSnPn8SsjPB+93+PRN20140729\n",
      "'NoneType' object has no attribute 'text'"
     ]
    },
    {
     "name": "stdout",
     "output_type": "stream",
     "text": [
      " http://www.reuters.com/article/2014/07/29/overseas-adventure-idUSnPn634dhh+80+PRN20140729\n",
      "'NoneType' object has no attribute 'text'"
     ]
    },
    {
     "name": "stdout",
     "output_type": "stream",
     "text": [
      " http://www.reuters.com/article/2014/07/29/bc-qiagen-idUSnPn1BBgqQ+99+PRN20140729\n",
      "'NoneType' object has no attribute 'text'"
     ]
    },
    {
     "name": "stdout",
     "output_type": "stream",
     "text": [
      " http://www.reuters.com/article/2014/07/29/gen-dynamics-contract-idUSnPn3vVC76+8c+PRN20140729\n",
      "'NoneType' object has no attribute 'text'"
     ]
    },
    {
     "name": "stdout",
     "output_type": "stream",
     "text": [
      " http://www.reuters.com/article/2014/07/29/jamesalphaglobalq-idUSnPn7X7YwP+95+PRN20140729\n",
      "'NoneType' object has no attribute 'text'"
     ]
    },
    {
     "name": "stdout",
     "output_type": "stream",
     "text": [
      " http://www.reuters.com/article/2014/07/29/pcma-study-hepc-idUSnPn4zP7WP+8b+PRN20140729\n",
      "'NoneType' object has no attribute 'text'"
     ]
    },
    {
     "name": "stdout",
     "output_type": "stream",
     "text": [
      " http://www.reuters.com/article/2014/07/29/dc-insidersurveillanc-idUSnPn2kmxwC+81+PRN20140729\n",
      "'NoneType' object has no attribute 'text'"
     ]
    },
    {
     "name": "stdout",
     "output_type": "stream",
     "text": [
      " http://www.reuters.com/article/2014/07/29/mediterranamesacosta-idUSnPnbnP8NV+8b+PRN20140729\n",
      "'NoneType' object has no attribute 'text'"
     ]
    },
    {
     "name": "stdout",
     "output_type": "stream",
     "text": [
      " http://www.reuters.com/article/2014/07/29/trina-solar-anti-dump-idUSnPn6n1w5t+80+PRN20140729\n",
      "'NoneType' object has no attribute 'text'"
     ]
    },
    {
     "name": "stdout",
     "output_type": "stream",
     "text": [
      "\n",
      "'NoneType' object has no attribute 'text'"
     ]
    },
    {
     "name": "stdout",
     "output_type": "stream",
     "text": [
      " http://www.reuters.com/article/2014/07/30/mo-enr-3q-earnings-idUSnPn2d65hj+80+PRN20140730\n",
      "2014-07-29"
     ]
    },
    {
     "name": "stdout",
     "output_type": "stream",
     "text": [
      " http://www.reuters.com/article/2014/07/30/ca-privlo-spark-qed-idUSnPn1Sy277+90+PRN20140730\n",
      "'NoneType' object has no attribute 'text'"
     ]
    },
    {
     "name": "stdout",
     "output_type": "stream",
     "text": [
      " http://www.reuters.com/article/2014/07/30/bc-investor-edge-idUSnPn6d5NJ3+86+PRN20140730\n",
      "'NoneType' object has no attribute 'text'"
     ]
    },
    {
     "name": "stdout",
     "output_type": "stream",
     "text": [
      " http://www.reuters.com/article/2014/07/30/spil-1q2014-earnings-idUSnPnDjS2Y+55+PRN20140730\n",
      "'NoneType' object has no attribute 'text'"
     ]
    },
    {
     "name": "stdout",
     "output_type": "stream",
     "text": [
      " http://www.reuters.com/article/2014/07/30/ok-oks-demickslake-idUSnPnb00zXB+83+PRN20140730\n",
      "'NoneType' object has no attribute 'text'"
     ]
    },
    {
     "name": "stdout",
     "output_type": "stream",
     "text": [
      " http://www.reuters.com/article/2014/07/30/tx-pwc-oil-gas-idUSnPn3y80ht+80+PRN20140730\n",
      "'NoneType' object has no attribute 'text'"
     ]
    },
    {
     "name": "stdout",
     "output_type": "stream",
     "text": [
      " http://www.reuters.com/article/2014/07/30/ma-decisionresources-idUSnPn39wC4G+85+PRN20140730\n",
      "'NoneType' object has no attribute 'text'"
     ]
    },
    {
     "name": "stdout",
     "output_type": "stream",
     "text": [
      " http://www.reuters.com/article/2014/07/30/jks-investment-idUSnPn9T1zRp+92+PRN20140730\n",
      "'NoneType' object has no attribute 'text'"
     ]
    },
    {
     "name": "stdout",
     "output_type": "stream",
     "text": [
      " http://www.reuters.com/article/2014/07/30/bc-ie-idUSnPn53xw09+80+PRN20140730\n",
      "'NoneType' object has no attribute 'text'"
     ]
    },
    {
     "name": "stdout",
     "output_type": "stream",
     "text": [
      " http://www.reuters.com/article/2014/07/30/ma-haemonetics-earns-idUSnPn31Pt2V+89+PRN20140730\n",
      "'NoneType' object has no attribute 'text'"
     ]
    },
    {
     "name": "stdout",
     "output_type": "stream",
     "text": [
      " http://www.reuters.com/article/2014/07/30/amercapital-mtge-erns-idUSnPn9B5Gzj+94+PRN20140730\n",
      "'NoneType' object has no attribute 'text'"
     ]
    },
    {
     "name": "stdout",
     "output_type": "stream",
     "text": [
      " http://www.reuters.com/article/2014/07/30/fidelitynational-erns-idUSnPn6Q78mM+91+PRN20140730\n",
      "'NoneType' object has no attribute 'text'"
     ]
    },
    {
     "name": "stdout",
     "output_type": "stream",
     "text": [
      " http://www.reuters.com/article/2014/07/30/co-heska-earnings-idUSnPn7JQrSW+9b+PRN20140730\n",
      "'NoneType' object has no attribute 'text'"
     ]
    },
    {
     "name": "stdout",
     "output_type": "stream",
     "text": [
      " http://www.reuters.com/article/2014/07/30/princess-grace-gala-idUSnPn9LGXHH+9f+PRN20140730\n",
      "'NoneType' object has no attribute 'text'"
     ]
    },
    {
     "name": "stdout",
     "output_type": "stream",
     "text": [
      " http://www.reuters.com/article/2014/07/30/il-zacks-investments-idUSnPn5xlV3H+85+PRN20140730\n",
      "'NoneType' object has no attribute 'text'"
     ]
    },
    {
     "name": "stdout",
     "output_type": "stream",
     "text": [
      " http://www.reuters.com/article/2014/07/30/nice-systems-erns-idUSnPn66ywby+80+PRN20140730\n",
      "'NoneType' object has no attribute 'text'"
     ]
    },
    {
     "name": "stdout",
     "output_type": "stream",
     "text": [
      " http://www.reuters.com/article/2014/07/30/fl-blackknight-xpands-idUSnPnP3Nnf+54+PRN20140730\n",
      "'NoneType' object has no attribute 'text'"
     ]
    },
    {
     "name": "stdout",
     "output_type": "stream",
     "text": [
      " http://www.reuters.com/article/2014/07/30/cga-fertilizers-idUSnPn96733X+81+PRN20140730\n",
      "'NoneType' object has no attribute 'text'"
     ]
    },
    {
     "name": "stdout",
     "output_type": "stream",
     "text": [
      "\n",
      "'NoneType' object has no attribute 'text'"
     ]
    },
    {
     "name": "stdout",
     "output_type": "stream",
     "text": [
      " http://www.reuters.com/article/2014/07/31/scusa-earnings-idUSnPn2WKxwh+98+PRN20140731\n",
      "2014-07-30"
     ]
    },
    {
     "name": "stdout",
     "output_type": "stream",
     "text": [
      " http://www.reuters.com/article/2014/07/31/nc-dhg-china-launch-idUSnPn9FhrLw+92+PRN20140731\n",
      "'NoneType' object has no attribute 'text'"
     ]
    },
    {
     "name": "stdout",
     "output_type": "stream",
     "text": [
      " http://www.reuters.com/article/2014/07/31/mi-borgwarner-earns-idUSnPn8fh6LF+83+PRN20140731\n",
      "'NoneType' object has no attribute 'text'"
     ]
    },
    {
     "name": "stdout",
     "output_type": "stream",
     "text": [
      " http://www.reuters.com/article/2014/07/31/liuna-stmt-hr-idUSnPn9xjfZx+82+PRN20140731\n",
      "'NoneType' object has no attribute 'text'"
     ]
    },
    {
     "name": "stdout",
     "output_type": "stream",
     "text": [
      " http://www.reuters.com/article/2014/07/31/ma-hanover-q2-earns-idUSnPn2W2jwk+90+PRN20140731\n",
      "'NoneType' object has no attribute 'text'"
     ]
    },
    {
     "name": "stdout",
     "output_type": "stream",
     "text": [
      " http://www.reuters.com/article/2014/07/31/bc-analystsreviewcom-idUSnPn6JnsgV+91+PRN20140731\n",
      "'NoneType' object has no attribute 'text'"
     ]
    },
    {
     "name": "stdout",
     "output_type": "stream",
     "text": [
      " http://www.reuters.com/article/2014/07/31/umd-us-jobs-uptick-idUSnPn15jgQh+82+PRN20140731\n",
      "'NoneType' object has no attribute 'text'"
     ]
    },
    {
     "name": "stdout",
     "output_type": "stream",
     "text": [
      " http://www.reuters.com/article/2014/07/31/ca-lionsgate-confcall-idUSnPnbLcpjN+91+PRN20140731\n",
      "'NoneType' object has no attribute 'text'"
     ]
    },
    {
     "name": "stdout",
     "output_type": "stream",
     "text": [
      " http://www.reuters.com/article/2014/07/31/bakken-updatewebsite-idUSnPn9yYZ55+8c+PRN20140731\n",
      "'NoneType' object has no attribute 'text'"
     ]
    },
    {
     "name": "stdout",
     "output_type": "stream",
     "text": [
      " http://www.reuters.com/article/2014/07/31/kingold-payout-idUSnPn5s3R54+84+PRN20140731\n",
      "'NoneType' object has no attribute 'text'"
     ]
    },
    {
     "name": "stdout",
     "output_type": "stream",
     "text": [
      " http://www.reuters.com/article/2014/07/31/conf-board-inflation-idUSnPn6zcLrv+84+PRN20140731\n",
      "'NoneType' object has no attribute 'text'"
     ]
    },
    {
     "name": "stdout",
     "output_type": "stream",
     "text": [
      "\n",
      "'NoneType' object has no attribute 'text'"
     ]
    },
    {
     "name": "stdout",
     "output_type": "stream",
     "text": [
      " http://www.reuters.com/article/2014/08/01/oppenheimer-q2-result-idUSnPn903Yw9+84+PRN20140801\n",
      "2014-07-31"
     ]
    },
    {
     "name": "stdout",
     "output_type": "stream",
     "text": [
      " http://www.reuters.com/article/2014/08/01/snoopwall-missteenusa-idUSnPnbS2fCN+93+PRN20140801\n",
      "'NoneType' object has no attribute 'text'"
     ]
    },
    {
     "name": "stdout",
     "output_type": "stream",
     "text": [
      " http://www.reuters.com/article/2014/08/01/bc-best-bartender-world-idUSnPnblZD44+8c+PRN20140801\n",
      "'NoneType' object has no attribute 'text'"
     ]
    },
    {
     "name": "stdout",
     "output_type": "stream",
     "text": [
      " http://www.reuters.com/article/2014/08/01/real-truth-aug-issue-idUSnPn5ZhxwN+91+PRN20140801\n",
      "'NoneType' object has no attribute 'text'"
     ]
    },
    {
     "name": "stdout",
     "output_type": "stream",
     "text": [
      " http://www.reuters.com/article/2014/08/01/spirit-aero-q2-erns-idUSnPn2z0dFd+82+PRN20140801\n",
      "'NoneType' object has no attribute 'text'"
     ]
    },
    {
     "name": "stdout",
     "output_type": "stream",
     "text": [
      " http://www.reuters.com/article/2014/08/02/dc-fair-housebill-idUSnPn6VfrH5+92+PRN20140802\n",
      "'NoneType' object has no attribute 'text'"
     ]
    },
    {
     "name": "stdout",
     "output_type": "stream",
     "text": [
      " http://www.reuters.com/article/2014/08/01/conference-board-jobs-idUSnPn7fcP2X+85+PRN20140801\n",
      "'NoneType' object has no attribute 'text'"
     ]
    },
    {
     "name": "stdout",
     "output_type": "stream",
     "text": [
      " http://www.reuters.com/article/2014/08/01/bc-ie-idUSnPn7RLGYd+9e+PRN20140801\n",
      "'NoneType' object has no attribute 'text'"
     ]
    },
    {
     "name": "stdout",
     "output_type": "stream",
     "text": [
      " http://www.reuters.com/article/2014/08/01/chrysler-sales-report-idUSnPn8Jq0Vn+92+PRN20140801\n",
      "'NoneType' object has no attribute 'text'"
     ]
    },
    {
     "name": "stdout",
     "output_type": "stream",
     "text": [
      " http://www.reuters.com/article/2014/08/01/ny-kodak-alaris-court-idUSnPn8HksJm+92+PRN20140801\n",
      "'NoneType' object has no attribute 'text'"
     ]
    },
    {
     "name": "stdout",
     "output_type": "stream",
     "text": [
      " http://www.reuters.com/article/2014/08/01/ny-dunkindonuts-mets-idUSnPn9rMGS4+8e+PRN20140801\n",
      "'NoneType' object has no attribute 'text'"
     ]
    },
    {
     "name": "stdout",
     "output_type": "stream",
     "text": [
      " http://www.reuters.com/article/2014/08/01/ccfa-ny-awarenessmo-idUSnPn61hJ9w+84+PRN20140801\n",
      "'NoneType' object has no attribute 'text'"
     ]
    },
    {
     "name": "stdout",
     "output_type": "stream",
     "text": [
      "\n",
      "'NoneType' object has no attribute 'text'"
     ]
    },
    {
     "name": "stdout",
     "output_type": "stream",
     "text": [
      " http://www.reuters.com/article/2014/08/02/nv-cybertoolbelt-idUSnPnT74LV+53+PRN20140802\n",
      "2014-08-01"
     ]
    },
    {
     "name": "stdout",
     "output_type": "stream",
     "text": [
      " http://www.reuters.com/article/2014/08/02/census-daily-feature-idUSnPn4KT24z+98+PRN20140802\n",
      "'NoneType' object has no attribute 'text'"
     ]
    },
    {
     "name": "stdout",
     "output_type": "stream",
     "text": [
      " http://www.reuters.com/article/2014/08/02/dc-fmcs-stmnt-idUSnPn5B5mFS+93+PRN20140802\n",
      "'NoneType' object has no attribute 'text'"
     ]
    },
    {
     "name": "stdout",
     "output_type": "stream",
     "text": [
      " http://www.reuters.com/article/2014/08/02/oh-verizon-cell-sites-idUSnPn6JSZT0+9e+PRN20140802\n",
      "'NoneType' object has no attribute 'text'"
     ]
    },
    {
     "name": "stdout",
     "output_type": "stream",
     "text": [
      "\n",
      "'NoneType' object has no attribute 'text'"
     ]
    },
    {
     "name": "stdout",
     "output_type": "stream",
     "text": [
      " http://www.reuters.com/article/2014/08/03/census-daily-feature-idUSnPn8l2nvH+81+PRN20140803\n",
      "2014-08-02"
     ]
    },
    {
     "name": "stdout",
     "output_type": "stream",
     "text": [
      " http://www.reuters.com/article/2014/08/04/toyota-donates-nthp-idUSnPnbyFbhG+89+PRN20140804\n",
      "'NoneType' object has no attribute 'text'"
     ]
    },
    {
     "name": "stdout",
     "output_type": "stream",
     "text": [
      "\n",
      "'NoneType' object has no attribute 'text'"
     ]
    },
    {
     "name": "stdout",
     "output_type": "stream",
     "text": [
      " http://www.reuters.com/article/2014/08/04/ca-prop-45-health-idUSnPn76yxl2+80+PRN20140804\n",
      "2014-08-03"
     ]
    },
    {
     "name": "stdout",
     "output_type": "stream",
     "text": [
      " http://www.reuters.com/article/2014/08/04/pacificenergysolution-idUSnPn9sgHl8+84+PRN20140804\n",
      "'NoneType' object has no attribute 'text'"
     ]
    },
    {
     "name": "stdout",
     "output_type": "stream",
     "text": [
      " http://www.reuters.com/article/2014/08/04/ny-miss-teen-usa-idUSnPn63FMsS+8d+PRN20140804\n",
      "'NoneType' object has no attribute 'text'"
     ]
    },
    {
     "name": "stdout",
     "output_type": "stream",
     "text": [
      " http://www.reuters.com/article/2014/08/04/kt-press-rwanda-idUSnPn37PG7v+8c+PRN20140804\n",
      "'NoneType' object has no attribute 'text'"
     ]
    },
    {
     "name": "stdout",
     "output_type": "stream",
     "text": [
      " http://www.reuters.com/article/2014/08/04/decision-resources-idUSnPncgGwqZ+89+PRN20140804\n",
      "'NoneType' object has no attribute 'text'"
     ]
    },
    {
     "name": "stdout",
     "output_type": "stream",
     "text": [
      " http://www.reuters.com/article/2014/08/04/bc-i-idUSnPnbP9898+90+PRN20140804\n",
      "'NoneType' object has no attribute 'text'"
     ]
    },
    {
     "name": "stdout",
     "output_type": "stream",
     "text": [
      " http://www.reuters.com/article/2014/08/04/global-prtner-usaid-idUSnPn9DY2GB+9b+PRN20140804\n",
      "'NoneType' object has no attribute 'text'"
     ]
    },
    {
     "name": "stdout",
     "output_type": "stream",
     "text": [
      " http://www.reuters.com/article/2014/08/04/co-inada-massagechair-idUSnPn414D73+84+PRN20140804\n",
      "'NoneType' object has no attribute 'text'"
     ]
    },
    {
     "name": "stdout",
     "output_type": "stream",
     "text": [
      " http://www.reuters.com/article/2014/08/04/kavlineurosciencedata-idUSnPn3KBN8N+9d+PRN20140804\n",
      "'NoneType' object has no attribute 'text'"
     ]
    },
    {
     "name": "stdout",
     "output_type": "stream",
     "text": [
      "\n",
      "'NoneType' object has no attribute 'text'"
     ]
    },
    {
     "name": "stdout",
     "output_type": "stream",
     "text": [
      " http://www.reuters.com/article/2014/08/05/bc-investor-edgecom-idUSnPn2XtRn9+94+PRN20140805\n",
      "2014-08-04"
     ]
    },
    {
     "name": "stdout",
     "output_type": "stream",
     "text": [
      " http://www.reuters.com/article/2014/08/05/ok-american-energy-idUSnPn3gVk6T+89+PRN20140805\n",
      "'NoneType' object has no attribute 'text'"
     ]
    },
    {
     "name": "stdout",
     "output_type": "stream",
     "text": [
      " http://www.reuters.com/article/2014/08/05/implantsciencescorp-idUSnPnbnkGl6+84+PRN20140805\n",
      "'NoneType' object has no attribute 'text'"
     ]
    },
    {
     "name": "stdout",
     "output_type": "stream",
     "text": [
      " http://www.reuters.com/article/2014/08/05/ex-im-bank-us-exports-idUSnPn9nqwPJ+83+PRN20140805\n",
      "'NoneType' object has no attribute 'text'"
     ]
    },
    {
     "name": "stdout",
     "output_type": "stream",
     "text": [
      " http://www.reuters.com/article/2014/08/05/bc-investor-edge-idUSnPn6B2yQW+93+PRN20140805\n",
      "'NoneType' object has no attribute 'text'"
     ]
    },
    {
     "name": "stdout",
     "output_type": "stream",
     "text": [
      " http://www.reuters.com/article/2014/08/05/bc-a-idUSnPn6DD8cT+99+PRN20140805\n",
      "'NoneType' object has no attribute 'text'"
     ]
    },
    {
     "name": "stdout",
     "output_type": "stream",
     "text": [
      " http://www.reuters.com/article/2014/08/05/mo-express-scripts-idUSnPn5hBB17+8c+PRN20140805\n",
      "'NoneType' object has no attribute 'text'"
     ]
    },
    {
     "name": "stdout",
     "output_type": "stream",
     "text": [
      " http://www.reuters.com/article/2014/08/05/ex-im-angola-mou-idUSnPn4Mb7yR+91+PRN20140805\n",
      "'NoneType' object has no attribute 'text'"
     ]
    },
    {
     "name": "stdout",
     "output_type": "stream",
     "text": [
      "\n",
      "'NoneType' object has no attribute 'text'"
     ]
    },
    {
     "name": "stdout",
     "output_type": "stream",
     "text": [
      " http://www.reuters.com/article/2014/08/06/md-amer-capital-earn-idUSnPn1FN7W0+9a+PRN20140806\n",
      "2014-08-05"
     ]
    },
    {
     "name": "stdout",
     "output_type": "stream",
     "text": [
      " http://www.reuters.com/article/2014/08/06/ma-lionbridge-earns-idUSnPnbxYB1g+8c+PRN20140806\n",
      "'NoneType' object has no attribute 'text'"
     ]
    },
    {
     "name": "stdout",
     "output_type": "stream",
     "text": [
      " http://www.reuters.com/article/2014/08/06/copa-report-2q-idUSnPn3FNN0d+9c+PRN20140806\n",
      "'NoneType' object has no attribute 'text'"
     ]
    },
    {
     "name": "stdout",
     "output_type": "stream",
     "text": [
      " http://www.reuters.com/article/2014/08/06/il-giv-mobile-plan-idUSnPn4XcY7l+94+PRN20140806\n",
      "'NoneType' object has no attribute 'text'"
     ]
    },
    {
     "name": "stdout",
     "output_type": "stream",
     "text": [
      " http://www.reuters.com/article/2014/08/06/levin-fishbein-sedran-idUSnPn62NN2N+8d+PRN20140806\n",
      "'NoneType' object has no attribute 'text'"
     ]
    },
    {
     "name": "stdout",
     "output_type": "stream",
     "text": [
      " http://www.reuters.com/article/2014/08/06/decision-resources-idUSnPn23hqj6+80+PRN20140806\n",
      "'NoneType' object has no attribute 'text'"
     ]
    },
    {
     "name": "stdout",
     "output_type": "stream",
     "text": [
      " http://www.reuters.com/article/2014/08/06/pkgdfacts-teamrkt-rpt-idUSnPn5wWDmW+8d+PRN20140806\n",
      "'NoneType' object has no attribute 'text'"
     ]
    },
    {
     "name": "stdout",
     "output_type": "stream",
     "text": [
      " http://www.reuters.com/article/2014/08/06/interaction-africansu-idUSnPn6jNy5X+89+PRN20140806\n",
      "'NoneType' object has no attribute 'text'"
     ]
    },
    {
     "name": "stdout",
     "output_type": "stream",
     "text": [
      " http://www.reuters.com/article/2014/08/06/va-drstech-contract-idUSnPn1vQq1y+88+PRN20140806\n",
      "'NoneType' object has no attribute 'text'"
     ]
    },
    {
     "name": "stdout",
     "output_type": "stream",
     "text": [
      " http://www.reuters.com/article/2014/08/06/talmerbancorp-q2-ern-idUSnPn6MhCk+4a+PRN20140806\n",
      "'NoneType' object has no attribute 'text'"
     ]
    },
    {
     "name": "stdout",
     "output_type": "stream",
     "text": [
      " http://www.reuters.com/article/2014/08/06/ma-decisionresources-idUSnPn5Dxyj9+90+PRN20140806\n",
      "'NoneType' object has no attribute 'text'"
     ]
    },
    {
     "name": "stdout",
     "output_type": "stream",
     "text": [
      " http://www.reuters.com/article/2014/08/06/ratrodbuildoffchallen-idUSnPn1DNNzW+9d+PRN20140806\n",
      "'NoneType' object has no attribute 'text'"
     ]
    },
    {
     "name": "stdout",
     "output_type": "stream",
     "text": [
      "\n",
      "'NoneType' object has no attribute 'text'"
     ]
    },
    {
     "name": "stdout",
     "output_type": "stream",
     "text": [
      " http://www.reuters.com/article/2014/08/07/il-ptel-mobile-idUSnPnbp89sw+80+PRN20140807\n",
      "2014-08-06"
     ]
    },
    {
     "name": "stdout",
     "output_type": "stream",
     "text": [
      " http://www.reuters.com/article/2014/08/07/bc-bluesphere-idUSnPn5l2Z7S+85+PRN20140807\n",
      "'NoneType' object has no attribute 'text'"
     ]
    },
    {
     "name": "stdout",
     "output_type": "stream",
     "text": [
      " http://www.reuters.com/article/2014/08/07/decision-resources-idUSnPn5DMr2T+99+PRN20140807\n",
      "'NoneType' object has no attribute 'text'"
     ]
    },
    {
     "name": "stdout",
     "output_type": "stream",
     "text": [
      " http://www.reuters.com/article/2014/08/07/puerto-rico-revenues-idUSnPn1TmR6n+94+PRN20140807\n",
      "'NoneType' object has no attribute 'text'"
     ]
    },
    {
     "name": "stdout",
     "output_type": "stream",
     "text": [
      " http://www.reuters.com/article/2014/08/07/tcpc-2q-2014-results-idUSnPn2XFsqL+99+PRN20140807\n",
      "'NoneType' object has no attribute 'text'"
     ]
    },
    {
     "name": "stdout",
     "output_type": "stream",
     "text": [
      " http://www.reuters.com/article/2014/08/07/manulifeq2results-idUSnPn3wdcf6+80+PRN20140807\n",
      "'NoneType' object has no attribute 'text'"
     ]
    },
    {
     "name": "stdout",
     "output_type": "stream",
     "text": [
      " http://www.reuters.com/article/2014/08/07/brinker-international-idUSnPn5h4F8z+84+PRN20140807\n",
      "'NoneType' object has no attribute 'text'"
     ]
    },
    {
     "name": "stdout",
     "output_type": "stream",
     "text": [
      " http://www.reuters.com/article/2014/08/07/bc-ie-idUSnPn52fmVM+83+PRN20140807\n",
      "'NoneType' object has no attribute 'text'"
     ]
    },
    {
     "name": "stdout",
     "output_type": "stream",
     "text": [
      " http://www.reuters.com/article/2014/08/07/dc-muuziideportes-idUSnPn388RyN+85+PRN20140807\n",
      "'NoneType' object has no attribute 'text'"
     ]
    },
    {
     "name": "stdout",
     "output_type": "stream",
     "text": [
      " http://www.reuters.com/article/2014/08/07/raileurope-summerdeal-idUSnPn6296wt+80+PRN20140807\n",
      "'NoneType' object has no attribute 'text'"
     ]
    },
    {
     "name": "stdout",
     "output_type": "stream",
     "text": [
      " http://www.reuters.com/article/2014/08/07/dc-fanniemae-q2-earns-idUSnPn3xqdfQ+81+PRN20140807\n",
      "'NoneType' object has no attribute 'text'"
     ]
    },
    {
     "name": "stdout",
     "output_type": "stream",
     "text": [
      " http://www.reuters.com/article/2014/08/07/tx-alonusa-q2ern-idUSnPn6B2mPd+92+PRN20140807\n",
      "'NoneType' object has no attribute 'text'"
     ]
    },
    {
     "name": "stdout",
     "output_type": "stream",
     "text": [
      "\n",
      "'NoneType' object has no attribute 'text'"
     ]
    },
    {
     "name": "stdout",
     "output_type": "stream",
     "text": [
      " http://www.reuters.com/article/2014/08/08/bc-investor-edgecom-idUSnPn29kQgr+84+PRN20140808\n",
      "2014-08-07"
     ]
    },
    {
     "name": "stdout",
     "output_type": "stream",
     "text": [
      " http://www.reuters.com/article/2014/08/08/ca-raceforce-surfcity-idUSnPn5yrVbf+84+PRN20140808\n",
      "'NoneType' object has no attribute 'text'"
     ]
    },
    {
     "name": "stdout",
     "output_type": "stream",
     "text": [
      " http://www.reuters.com/article/2014/08/08/estacio-ebitda-groth-idUSnPn1kxcgH+81+PRN20140808\n",
      "'NoneType' object has no attribute 'text'"
     ]
    },
    {
     "name": "stdout",
     "output_type": "stream",
     "text": [
      " http://www.reuters.com/article/2014/08/08/ryan-llc-fatca-idUSnPn2yKRK7+8e+PRN20140808\n",
      "'NoneType' object has no attribute 'text'"
     ]
    },
    {
     "name": "stdout",
     "output_type": "stream",
     "text": [
      " http://www.reuters.com/article/2014/08/08/zacks-investment-idUSnPnbD0L2S+95+PRN20140808\n",
      "'NoneType' object has no attribute 'text'"
     ]
    },
    {
     "name": "stdout",
     "output_type": "stream",
     "text": [
      " http://www.reuters.com/article/2014/08/08/janssen-invokamet-fda-idUSnPn2Dz0kL+91+PRN20140808\n",
      "'NoneType' object has no attribute 'text'"
     ]
    },
    {
     "name": "stdout",
     "output_type": "stream",
     "text": [
      " http://www.reuters.com/article/2014/08/08/levikors-investigate-idUSnPn8YYftc+98+PRN20140808\n",
      "'NoneType' object has no attribute 'text'"
     ]
    },
    {
     "name": "stdout",
     "output_type": "stream",
     "text": [
      " http://www.reuters.com/article/2014/08/08/bc-analysts-review-idUSnPn7MvcQv+92+PRN20140808\n",
      "'NoneType' object has no attribute 'text'"
     ]
    },
    {
     "name": "stdout",
     "output_type": "stream",
     "text": [
      "\n",
      "'NoneType' object has no attribute 'text'"
     ]
    },
    {
     "name": "stdout",
     "output_type": "stream",
     "text": [
      " http://www.reuters.com/article/2014/08/09/census-daily-feature-idUSnPnbnWZFg+8e+PRN20140809\n",
      "2014-08-08"
     ]
    },
    {
     "name": "stdout",
     "output_type": "stream",
     "text": [
      "\n",
      "'NoneType' object has no attribute 'text'"
     ]
    },
    {
     "name": "stdout",
     "output_type": "stream",
     "text": [
      " http://www.reuters.com/article/2014/08/10/census-daily-feature-idUSnPn9F8x7b+90+PRN20140810\n",
      "2014-08-09"
     ]
    },
    {
     "name": "stdout",
     "output_type": "stream",
     "text": [
      " http://www.reuters.com/article/2014/08/10/adama-earns-idUSnPn7SCcGF+9b+PRN20140810\n",
      "'NoneType' object has no attribute 'text'"
     ]
    },
    {
     "name": "stdout",
     "output_type": "stream",
     "text": [
      " http://www.reuters.com/article/2014/08/10/ma-blockleviton-kmp-idUSnPn7SdzKb+92+PRN20140810\n",
      "'NoneType' object has no attribute 'text'"
     ]
    },
    {
     "name": "stdout",
     "output_type": "stream",
     "text": [
      " http://www.reuters.com/article/2014/08/11/hanergy-report-idUSnPn9hJyj8+88+PRN20140811\n",
      "'NoneType' object has no attribute 'text'"
     ]
    },
    {
     "name": "stdout",
     "output_type": "stream",
     "text": [
      "\n",
      "'NoneType' object has no attribute 'text'"
     ]
    },
    {
     "name": "stdout",
     "output_type": "stream",
     "text": [
      " http://www.reuters.com/article/2014/08/11/magic-software-erns-idUSnPn3CX7LC+9b+PRN20140811\n",
      "2014-08-10"
     ]
    },
    {
     "name": "stdout",
     "output_type": "stream",
     "text": [
      " http://www.reuters.com/article/2014/08/11/va-sraintl-contract-idUSnPnbmWRDc+8e+PRN20140811\n",
      "'NoneType' object has no attribute 'text'"
     ]
    },
    {
     "name": "stdout",
     "output_type": "stream",
     "text": [
      " http://www.reuters.com/article/2014/08/11/oh-scotts-dividend-idUSnPn8DSDgN+9d+PRN20140811\n",
      "'NoneType' object has no attribute 'text'"
     ]
    },
    {
     "name": "stdout",
     "output_type": "stream",
     "text": [
      " http://www.reuters.com/article/2014/08/11/securitas-security-idUSnPn76Gzrj+88+PRN20140811\n",
      "'NoneType' object has no attribute 'text'"
     ]
    },
    {
     "name": "stdout",
     "output_type": "stream",
     "text": [
      " http://www.reuters.com/article/2014/08/11/bc-fn-media-group-idUSnPnbKfCvw+94+PRN20140811\n",
      "'NoneType' object has no attribute 'text'"
     ]
    },
    {
     "name": "stdout",
     "output_type": "stream",
     "text": [
      " http://www.reuters.com/article/2014/08/11/htc-desire-launch-idUSnPn36F1Hp+8a+PRN20140811\n",
      "'NoneType' object has no attribute 'text'"
     ]
    },
    {
     "name": "stdout",
     "output_type": "stream",
     "text": [
      " http://www.reuters.com/article/2014/08/11/va-micropact-us-navy-idUSnPnbDnMpm+94+PRN20140811\n",
      "'NoneType' object has no attribute 'text'"
     ]
    },
    {
     "name": "stdout",
     "output_type": "stream",
     "text": [
      " http://www.reuters.com/article/2014/08/11/usps-q3-revenue-idUSnPn1qfXDY+87+PRN20140811\n",
      "'NoneType' object has no attribute 'text'"
     ]
    },
    {
     "name": "stdout",
     "output_type": "stream",
     "text": [
      " http://www.reuters.com/article/2014/08/11/bc-i-idUSnPn8CmmFM+93+PRN20140811\n",
      "'NoneType' object has no attribute 'text'"
     ]
    },
    {
     "name": "stdout",
     "output_type": "stream",
     "text": [
      " http://www.reuters.com/article/2014/08/11/fl-darden-repurchase-idUSnPn73Nrq3+88+PRN20140811\n",
      "'NoneType' object has no attribute 'text'"
     ]
    },
    {
     "name": "stdout",
     "output_type": "stream",
     "text": [
      " http://www.reuters.com/article/2014/08/11/sandstormgoldfranco-idUSnPn6c9pWz+82+PRN20140811\n",
      "'NoneType' object has no attribute 'text'"
     ]
    },
    {
     "name": "stdout",
     "output_type": "stream",
     "text": [
      " http://www.reuters.com/article/2014/08/11/ny-prestigeprep-math-idUSnPnbyyxMS+83+PRN20140811\n",
      "'NoneType' object has no attribute 'text'"
     ]
    },
    {
     "name": "stdout",
     "output_type": "stream",
     "text": [
      " http://www.reuters.com/article/2014/08/11/franconevadafinancing-idUSnPn24zvHk+82+PRN20140811\n",
      "'NoneType' object has no attribute 'text'"
     ]
    },
    {
     "name": "stdout",
     "output_type": "stream",
     "text": [
      " http://www.reuters.com/article/2014/08/11/spectraenergygoldman-idUSnPnc4RM6f+8c+PRN20140811\n",
      "'NoneType' object has no attribute 'text'"
     ]
    },
    {
     "name": "stdout",
     "output_type": "stream",
     "text": [
      " http://www.reuters.com/article/2014/08/11/bc-investor-edge-idUSnPn5Mt0LN+93+PRN20140811\n",
      "'NoneType' object has no attribute 'text'"
     ]
    },
    {
     "name": "stdout",
     "output_type": "stream",
     "text": [
      " http://www.reuters.com/article/2014/08/11/cnsmrwatchdog-prop-idUSnPn8NVm7W+99+PRN20140811\n",
      "'NoneType' object has no attribute 'text'"
     ]
    },
    {
     "name": "stdout",
     "output_type": "stream",
     "text": [
      " http://www.reuters.com/article/2014/08/11/ny-webmd-tender-offer-idUSnPn7PqHCH+97+PRN20140811\n",
      "'NoneType' object has no attribute 'text'"
     ]
    },
    {
     "name": "stdout",
     "output_type": "stream",
     "text": [
      " http://www.reuters.com/article/2014/08/11/porter-novelli-launch-idUSnPn9kx9xn+80+PRN20140811\n",
      "'NoneType' object has no attribute 'text'"
     ]
    },
    {
     "name": "stdout",
     "output_type": "stream",
     "text": [
      " http://www.reuters.com/article/2014/08/11/bnymellon-mastr-trust-idUSnPn76TNNM+8f+PRN20140811\n",
      "'NoneType' object has no attribute 'text'"
     ]
    },
    {
     "name": "stdout",
     "output_type": "stream",
     "text": [
      " http://www.reuters.com/article/2014/08/11/dc-nmtc-response-idUSnPnbsh6L6+82+PRN20140811\n",
      "'NoneType' object has no attribute 'text'"
     ]
    },
    {
     "name": "stdout",
     "output_type": "stream",
     "text": [
      " http://www.reuters.com/article/2014/08/11/bc-ar-idUSnPn44Y0Kj+8a+PRN20140811\n",
      "'NoneType' object has no attribute 'text'"
     ]
    },
    {
     "name": "stdout",
     "output_type": "stream",
     "text": [
      "\n",
      "'NoneType' object has no attribute 'text'"
     ]
    },
    {
     "name": "stdout",
     "output_type": "stream",
     "text": [
      " http://www.reuters.com/article/2014/08/12/bc-investor-edge-idUSnPn2gTTxh+8c+PRN20140812\n",
      "'NoneType' object has no attribute 'text' http://www.reuters.com/article/2014/08/12/ny-nhp-foundation-idUSnPn3sZm2B+89+PRN20140812\n",
      "2014-08-11"
     ]
    },
    {
     "name": "stdout",
     "output_type": "stream",
     "text": [
      " http://www.reuters.com/article/2014/08/12/fidelitynationalmerge-idUSnPn5pRfhG+89+PRN20140812\n",
      "'NoneType' object has no attribute 'text'"
     ]
    },
    {
     "name": "stdout",
     "output_type": "stream",
     "text": [
      " http://www.reuters.com/article/2014/08/12/wiretough-cylinders-idUSnPn2rFHjG+8d+PRN20140812\n",
      "'NoneType' object has no attribute 'text'"
     ]
    },
    {
     "name": "stdout",
     "output_type": "stream",
     "text": [
      " http://www.reuters.com/article/2014/08/12/ut-amrepco-new-idUSnPnhXxhh+48+PRN20140812\n",
      "'NoneType' object has no attribute 'text'"
     ]
    },
    {
     "name": "stdout",
     "output_type": "stream",
     "text": [
      " http://www.reuters.com/article/2014/08/12/bnymellon-indiasurvey-idUSnPn3mHNxC+8d+PRN20140812\n",
      "'NoneType' object has no attribute 'text'"
     ]
    },
    {
     "name": "stdout",
     "output_type": "stream",
     "text": [
      " http://www.reuters.com/article/2014/08/12/ca-ubiquity-inc-idUSnPn3KwCXv+96+PRN20140812\n",
      "'NoneType' object has no attribute 'text'"
     ]
    },
    {
     "name": "stdout",
     "output_type": "stream",
     "text": [
      " http://www.reuters.com/article/2014/08/12/sapiens-intl-2q-ern-idUSnPn539mJM+83+PRN20140812\n",
      "'NoneType' object has no attribute 'text'"
     ]
    },
    {
     "name": "stdout",
     "output_type": "stream",
     "text": [
      " http://www.reuters.com/article/2014/08/12/ny-newtek-call-idUSnPn9r50sv+80+PRN20140812\n",
      "'NoneType' object has no attribute 'text'"
     ]
    },
    {
     "name": "stdout",
     "output_type": "stream",
     "text": [
      " http://www.reuters.com/article/2014/08/12/ca-redbulletincom-idUSnPn6TXGyy+9c+PRN20140812\n",
      "'NoneType' object has no attribute 'text'"
     ]
    },
    {
     "name": "stdout",
     "output_type": "stream",
     "text": [
      " http://www.reuters.com/article/2014/08/12/bc-a-idUSnPnbwh4bq+80+PRN20140812\n",
      "'NoneType' object has no attribute 'text'"
     ]
    },
    {
     "name": "stdout",
     "output_type": "stream",
     "text": [
      " http://www.reuters.com/article/2014/08/12/aid-tothe-church-iraq-idUSnPnpBpl7+48+PRN20140812\n",
      "'NoneType' object has no attribute 'text'"
     ]
    },
    {
     "name": "stdout",
     "output_type": "stream",
     "text": [
      " http://www.reuters.com/article/2014/08/12/il-abbott-mitraclip-idUSnPnbw6ywS+81+PRN20140812\n",
      "'NoneType' object has no attribute 'text'"
     ]
    },
    {
     "name": "stdout",
     "output_type": "stream",
     "text": [
      "\n",
      "'NoneType' object has no attribute 'text'"
     ]
    },
    {
     "name": "stdout",
     "output_type": "stream",
     "text": [
      " http://www.reuters.com/article/2014/08/12/ny-nhp-foundation-idUSnPn3sZm2B+89+PRN20140812\n",
      "2014-08-12"
     ]
    },
    {
     "name": "stdout",
     "output_type": "stream",
     "text": [
      " http://www.reuters.com/article/2014/08/12/bc-investor-edge-idUSnPn2gTTxh+8c+PRN20140812\n",
      "'NoneType' object has no attribute 'text'"
     ]
    },
    {
     "name": "stdout",
     "output_type": "stream",
     "text": [
      " http://www.reuters.com/article/2014/08/12/fidelitynationalmerge-idUSnPn5pRfhG+89+PRN20140812\n",
      "'NoneType' object has no attribute 'text'"
     ]
    },
    {
     "name": "stdout",
     "output_type": "stream",
     "text": [
      " http://www.reuters.com/article/2014/08/12/wiretough-cylinders-idUSnPn2rFHjG+8d+PRN20140812\n",
      "'NoneType' object has no attribute 'text'"
     ]
    },
    {
     "name": "stdout",
     "output_type": "stream",
     "text": [
      " http://www.reuters.com/article/2014/08/12/ut-amrepco-new-idUSnPnhXxhh+48+PRN20140812\n",
      "'NoneType' object has no attribute 'text'"
     ]
    },
    {
     "name": "stdout",
     "output_type": "stream",
     "text": [
      " http://www.reuters.com/article/2014/08/12/bnymellon-indiasurvey-idUSnPn3mHNxC+8d+PRN20140812\n",
      "'NoneType' object has no attribute 'text'"
     ]
    },
    {
     "name": "stdout",
     "output_type": "stream",
     "text": [
      " http://www.reuters.com/article/2014/08/12/ca-ubiquity-inc-idUSnPn3KwCXv+96+PRN20140812\n",
      "'NoneType' object has no attribute 'text'"
     ]
    },
    {
     "name": "stdout",
     "output_type": "stream",
     "text": [
      " http://www.reuters.com/article/2014/08/12/sapiens-intl-2q-ern-idUSnPn539mJM+83+PRN20140812\n",
      "'NoneType' object has no attribute 'text'"
     ]
    },
    {
     "name": "stdout",
     "output_type": "stream",
     "text": [
      " http://www.reuters.com/article/2014/08/12/ny-newtek-call-idUSnPn9r50sv+80+PRN20140812\n",
      "'NoneType' object has no attribute 'text'"
     ]
    },
    {
     "name": "stdout",
     "output_type": "stream",
     "text": [
      " http://www.reuters.com/article/2014/08/12/ca-redbulletincom-idUSnPn6TXGyy+9c+PRN20140812\n",
      "'NoneType' object has no attribute 'text'"
     ]
    },
    {
     "name": "stdout",
     "output_type": "stream",
     "text": [
      " http://www.reuters.com/article/2014/08/12/bc-a-idUSnPnbwh4bq+80+PRN20140812\n",
      "'NoneType' object has no attribute 'text'"
     ]
    },
    {
     "name": "stdout",
     "output_type": "stream",
     "text": [
      " http://www.reuters.com/article/2014/08/12/aid-tothe-church-iraq-idUSnPnpBpl7+48+PRN20140812\n",
      "'NoneType' object has no attribute 'text'"
     ]
    },
    {
     "name": "stdout",
     "output_type": "stream",
     "text": [
      " http://www.reuters.com/article/2014/08/12/il-abbott-mitraclip-idUSnPnbw6ywS+81+PRN20140812\n",
      "'NoneType' object has no attribute 'text'"
     ]
    },
    {
     "name": "stdout",
     "output_type": "stream",
     "text": [
      " http://www.reuters.com/article/2014/08/13/ma-decisionresources-idUSnPn4BpFdk+94+PRN20140813\n",
      "2014-08-13\n",
      "'NoneType' object has no attribute 'text'"
     ]
    },
    {
     "name": "stdout",
     "output_type": "stream",
     "text": [
      " http://www.reuters.com/article/2014/08/13/nat-geo-war-generals-idUSnPn5mqsrQ+81+PRN20140813\n",
      "'NoneType' object has no attribute 'text'"
     ]
    },
    {
     "name": "stdout",
     "output_type": "stream",
     "text": [
      " http://www.reuters.com/article/2014/08/13/bc-i-idUSnPn30mxZT+83+PRN20140813\n",
      "'NoneType' object has no attribute 'text'"
     ]
    },
    {
     "name": "stdout",
     "output_type": "stream",
     "text": [
      " http://www.reuters.com/article/2014/08/13/md-telecommunication-idUSnPn24hc1N+81+PRN20140813\n",
      "'NoneType' object has no attribute 'text'"
     ]
    },
    {
     "name": "stdout",
     "output_type": "stream",
     "text": [
      " http://www.reuters.com/article/2014/08/13/bc-ar-idUSnPn4fMR4x+8c+PRN20140813\n",
      "'NoneType' object has no attribute 'text'"
     ]
    },
    {
     "name": "stdout",
     "output_type": "stream",
     "text": [
      " http://www.reuters.com/article/2014/08/13/singer-at-montereycar-idUSnPn2P2VTd+96+PRN20140813\n",
      "'NoneType' object has no attribute 'text'"
     ]
    },
    {
     "name": "stdout",
     "output_type": "stream",
     "text": [
      " http://www.reuters.com/article/2014/08/13/harley-twistedtrailz-idUSnPncgWrfH+89+PRN20140813\n",
      "'NoneType' object has no attribute 'text'"
     ]
    },
    {
     "name": "stdout",
     "output_type": "stream",
     "text": [
      " http://www.reuters.com/article/2014/08/13/zlk-investor-alert-idUSnPn2gwW5d+84+PRN20140813\n",
      "'NoneType' object has no attribute 'text'"
     ]
    },
    {
     "name": "stdout",
     "output_type": "stream",
     "text": [
      " http://www.reuters.com/article/2014/08/13/avison-young-report-idUSnPn7v8Z7K+85+PRN20140813\n",
      "'NoneType' object has no attribute 'text'"
     ]
    },
    {
     "name": "stdout",
     "output_type": "stream",
     "text": [
      " http://www.reuters.com/article/2014/08/13/bc-fn-media-group-idUSnPn5p9fJF+83+PRN20140813\n",
      "'NoneType' object has no attribute 'text'"
     ]
    },
    {
     "name": "stdout",
     "output_type": "stream",
     "text": [
      " http://www.reuters.com/article/2014/08/13/state-honor-roll-rprt-idUSnPn10S4xg+88+PRN20140813\n",
      "'NoneType' object has no attribute 'text'"
     ]
    },
    {
     "name": "stdout",
     "output_type": "stream",
     "text": [
      " http://www.reuters.com/article/2014/08/13/ezchip-q2-earnings-idUSnPn54KngF+89+PRN20140813\n",
      "'NoneType' object has no attribute 'text'"
     ]
    },
    {
     "name": "stdout",
     "output_type": "stream",
     "text": [
      " http://www.reuters.com/article/2014/08/13/bc-analysts-review-idUSnPn8XX7Dh+9a+PRN20140813\n",
      "'NoneType' object has no attribute 'text'"
     ]
    },
    {
     "name": "stdout",
     "output_type": "stream",
     "text": [
      " http://www.reuters.com/article/2014/08/13/ny-beamly-global-ceo-idUSnPn4rHhZg+8a+PRN20140813\n",
      "'NoneType' object has no attribute 'text'"
     ]
    },
    {
     "name": "stdout",
     "output_type": "stream",
     "text": [
      "\n",
      "'NoneType' object has no attribute 'text'"
     ]
    },
    {
     "name": "stdout",
     "output_type": "stream",
     "text": [
      " http://www.reuters.com/article/2014/08/14/wlmt-uscm-grants-idUSnPn1jQgxz+88+PRN20140814\n",
      "2014-08-14"
     ]
    },
    {
     "name": "stdout",
     "output_type": "stream",
     "text": [
      " http://www.reuters.com/article/2014/08/14/zacks-equity-research-idUSnPnbVh4fb+90+PRN20140814\n",
      "'NoneType' object has no attribute 'text'"
     ]
    },
    {
     "name": "stdout",
     "output_type": "stream",
     "text": [
      " http://www.reuters.com/article/2014/08/14/decision-resour-tissu-idUSnPn9lHtZM+8b+PRN20140814\n",
      "'NoneType' object has no attribute 'text'"
     ]
    },
    {
     "name": "stdout",
     "output_type": "stream",
     "text": [
      " http://www.reuters.com/article/2014/08/14/ey-oilgas-megaproject-idUSnPn1XQNCn+9e+PRN20140814\n",
      "'NoneType' object has no attribute 'text'"
     ]
    },
    {
     "name": "stdout",
     "output_type": "stream",
     "text": [
      " http://www.reuters.com/article/2014/08/14/bc-i-idUSnPn2b4rNM+83+PRN20140814\n",
      "'NoneType' object has no attribute 'text'"
     ]
    },
    {
     "name": "stdout",
     "output_type": "stream",
     "text": [
      " http://www.reuters.com/article/2014/08/14/dandrit-biotech-idUSnPn5Y9Hb5+94+PRN20140814\n",
      "'NoneType' object has no attribute 'text'"
     ]
    },
    {
     "name": "stdout",
     "output_type": "stream",
     "text": [
      " http://www.reuters.com/article/2014/08/14/bc-ie-idUSnPn2tPH8N+8d+PRN20140814\n",
      "'NoneType' object has no attribute 'text'"
     ]
    },
    {
     "name": "stdout",
     "output_type": "stream",
     "text": [
      " http://www.reuters.com/article/2014/08/14/cdd-files-complaint-idUSnPn1sSnZT+8b+PRN20140814\n",
      "'NoneType' object has no attribute 'text'"
     ]
    },
    {
     "name": "stdout",
     "output_type": "stream",
     "text": [
      " http://www.reuters.com/article/2014/08/14/cutralesafra-chiquita-idUSnPndcQZZ+47+PRN20140814\n",
      "'NoneType' object has no attribute 'text'"
     ]
    },
    {
     "name": "stdout",
     "output_type": "stream",
     "text": [
      " http://www.reuters.com/article/2014/08/14/ma-decision-resources-idUSnPn5XmJQc+96+PRN20140814\n",
      "'NoneType' object has no attribute 'text'"
     ]
    },
    {
     "name": "stdout",
     "output_type": "stream",
     "text": [
      " http://www.reuters.com/article/2014/08/14/pacific-rubiales-q-idUSnPn3KsTM1+96+PRN20140814\n",
      "'NoneType' object has no attribute 'text'"
     ]
    },
    {
     "name": "stdout",
     "output_type": "stream",
     "text": [
      " http://www.reuters.com/article/2014/08/14/ma-lemelson-capital-idUSnPn2j8Nv8+84+PRN20140814\n",
      "'NoneType' object has no attribute 'text'"
     ]
    },
    {
     "name": "stdout",
     "output_type": "stream",
     "text": [
      "\n",
      "'NoneType' object has no attribute 'text'"
     ]
    },
    {
     "name": "stdout",
     "output_type": "stream",
     "text": [
      " http://www.reuters.com/article/2014/08/15/fl-global-digital-idUSnPn70RlBL+8b+PRN20140815\n",
      "2014-08-15"
     ]
    },
    {
     "name": "stdout",
     "output_type": "stream",
     "text": [
      " http://www.reuters.com/article/2014/08/15/ca-seaworld-funding-idUSnPn3pJfVk+8a+PRN20140815\n",
      "'NoneType' object has no attribute 'text'"
     ]
    },
    {
     "name": "stdout",
     "output_type": "stream",
     "text": [
      " http://www.reuters.com/article/2014/08/15/sino-agro-foods-earns-idUSnPn6Lmnyz+90+PRN20140815\n",
      "'NoneType' object has no attribute 'text'"
     ]
    },
    {
     "name": "stdout",
     "output_type": "stream",
     "text": [
      " http://www.reuters.com/article/2014/08/15/ny-ocwenlead-deadln-idUSnPn7h35pR+81+PRN20140815\n",
      "'NoneType' object has no attribute 'text'"
     ]
    },
    {
     "name": "stdout",
     "output_type": "stream",
     "text": [
      " http://www.reuters.com/article/2014/08/15/aspca-pet-trade-ban-idUSnPn1lTBDh+8e+PRN20140815\n",
      "'NoneType' object has no attribute 'text'"
     ]
    },
    {
     "name": "stdout",
     "output_type": "stream",
     "text": [
      "\n",
      "'NoneType' object has no attribute 'text'"
     ]
    },
    {
     "name": "stdout",
     "output_type": "stream",
     "text": [
      " http://www.reuters.com/article/2014/08/16/census-daily-features-idUSnPn6g3QKg+86+PRN20140816\n",
      "2014-08-16"
     ]
    },
    {
     "name": "stdout",
     "output_type": "stream",
     "text": [
      " http://www.reuters.com/article/2014/08/16/ny-project-als-ice-idUSnPnc6mff2+80+PRN20140816\n",
      "'NoneType' object has no attribute 'text'"
     ]
    },
    {
     "name": "stdout",
     "output_type": "stream",
     "text": [
      " http://www.reuters.com/article/2014/08/16/dc-als-assoc-10-mill-idUSnPnbpFtM8+8a+PRN20140816\n",
      "'NoneType' object has no attribute 'text'"
     ]
    },
    {
     "name": "stdout",
     "output_type": "stream",
     "text": [
      " http://www.reuters.com/article/2014/08/16/raceforce-marathon-idUSnPn3TcrXZ+93+PRN20140816\n",
      "'NoneType' object has no attribute 'text'"
     ]
    },
    {
     "name": "stdout",
     "output_type": "stream",
     "text": [
      " http://www.reuters.com/article/2014/08/16/mt-kelly-logging-idUSnPn1c8Rlv+84+PRN20140816\n",
      "'NoneType' object has no attribute 'text'"
     ]
    },
    {
     "name": "stdout",
     "output_type": "stream",
     "text": [
      " http://www.reuters.com/article/2014/08/16/chevrolet-man-united-idUSnPn9C4ZlM+95+PRN20140816\n",
      "'NoneType' object has no attribute 'text'"
     ]
    },
    {
     "name": "stdout",
     "output_type": "stream",
     "text": [
      "\n",
      "'NoneType' object has no attribute 'text'"
     ]
    },
    {
     "name": "stdout",
     "output_type": "stream",
     "text": [
      " http://www.reuters.com/article/2014/08/17/census-daily-feature-idUSnPn68NZJk+8e+PRN20140817\n",
      "2014-08-17"
     ]
    },
    {
     "name": "stdout",
     "output_type": "stream",
     "text": [
      " http://www.reuters.com/article/2014/08/17/bob-weiner-conyers-idUSnPn8tMSdY+8d+PRN20140817\n",
      "'NoneType' object has no attribute 'text'"
     ]
    },
    {
     "name": "stdout",
     "output_type": "stream",
     "text": [
      "\n",
      "'NoneType' object has no attribute 'text'"
     ]
    },
    {
     "name": "stdout",
     "output_type": "stream",
     "text": [
      " http://www.reuters.com/article/2014/08/18/accelerated-marketing-idUSnPn5Rn7nX+91+PRN20140818\n",
      "2014-08-18"
     ]
    },
    {
     "name": "stdout",
     "output_type": "stream",
     "text": [
      " http://www.reuters.com/article/2014/08/18/ny-skanska-names-idUSnPn67kWfr+84+PRN20140818\n",
      "'NoneType' object has no attribute 'text'"
     ]
    },
    {
     "name": "stdout",
     "output_type": "stream",
     "text": [
      " http://www.reuters.com/article/2014/08/18/independent-inst-book-idUSnPn7ds6yW+81+PRN20140818\n",
      "'NoneType' object has no attribute 'text'"
     ]
    },
    {
     "name": "stdout",
     "output_type": "stream",
     "text": [
      " http://www.reuters.com/article/2014/08/18/ny-loreal-drakkar-idUSnPn4lTWWl+8e+PRN20140818\n",
      "'NoneType' object has no attribute 'text'"
     ]
    },
    {
     "name": "stdout",
     "output_type": "stream",
     "text": [
      " http://www.reuters.com/article/2014/08/18/bc-investor-edge-idUSnPn6hwgfG+81+PRN20140818\n",
      "'NoneType' object has no attribute 'text'"
     ]
    },
    {
     "name": "stdout",
     "output_type": "stream",
     "text": [
      " http://www.reuters.com/article/2014/08/18/va-serco-new-contract-idUSnPn2mdSQr+86+PRN20140818\n",
      "'NoneType' object has no attribute 'text'"
     ]
    },
    {
     "name": "stdout",
     "output_type": "stream",
     "text": [
      " http://www.reuters.com/article/2014/08/18/tx-hotelscom-survey-idUSnPn3WrFc+4a+PRN20140818\n",
      "'NoneType' object has no attribute 'text'"
     ]
    },
    {
     "name": "stdout",
     "output_type": "stream",
     "text": [
      " http://www.reuters.com/article/2014/08/18/ma-desicion-resources-idUSnPn1lSLt8+8c+PRN20140818\n",
      "'NoneType' object has no attribute 'text'"
     ]
    },
    {
     "name": "stdout",
     "output_type": "stream",
     "text": [
      " http://www.reuters.com/article/2014/08/18/429-records-idUSnPn6qvkvH+81+PRN20140818\n",
      "'NoneType' object has no attribute 'text'"
     ]
    },
    {
     "name": "stdout",
     "output_type": "stream",
     "text": [
      " http://www.reuters.com/article/2014/08/18/medallia-investment-idUSnPn5HcvzD+91+PRN20140818\n",
      "'NoneType' object has no attribute 'text'"
     ]
    },
    {
     "name": "stdout",
     "output_type": "stream",
     "text": [
      "\n",
      "'NoneType' object has no attribute 'text'"
     ]
    },
    {
     "name": "stdout",
     "output_type": "stream",
     "text": [
      " http://www.reuters.com/article/2014/08/19/prop46-cnsmr-wtchdog-idUSnPn1wqsXR+83+PRN20140819\n",
      "2014-08-19"
     ]
    },
    {
     "name": "stdout",
     "output_type": "stream",
     "text": [
      " http://www.reuters.com/article/2014/08/19/gehtsoft-usa-attends-idUSnPn7DDL3G+9d+PRN20140819\n",
      "'NoneType' object has no attribute 'text'"
     ]
    },
    {
     "name": "stdout",
     "output_type": "stream",
     "text": [
      " http://www.reuters.com/article/2014/08/19/bayerusa-awards-grant-idUSnPn9YdlyM+91+PRN20140819\n",
      "'NoneType' object has no attribute 'text'"
     ]
    },
    {
     "name": "stdout",
     "output_type": "stream",
     "text": [
      " http://www.reuters.com/article/2014/08/19/sap-se-investment-idUSnPn7MkLFs+96+PRN20140819\n",
      "'NoneType' object has no attribute 'text'"
     ]
    },
    {
     "name": "stdout",
     "output_type": "stream",
     "text": [
      " http://www.reuters.com/article/2014/08/19/prop45-insurance-rate-idUSnPn9H1gxV+91+PRN20140819\n",
      "'NoneType' object has no attribute 'text'"
     ]
    },
    {
     "name": "stdout",
     "output_type": "stream",
     "text": [
      " http://www.reuters.com/article/2014/08/19/tx-progeq-hawkfund-idUSnPn9K2qWr+92+PRN20140819\n",
      "'NoneType' object has no attribute 'text'"
     ]
    },
    {
     "name": "stdout",
     "output_type": "stream",
     "text": [
      " http://www.reuters.com/article/2014/08/19/ca-datadirect-network-idUSnPnDQ6kY+59+PRN20140819\n",
      "'NoneType' object has no attribute 'text'"
     ]
    },
    {
     "name": "stdout",
     "output_type": "stream",
     "text": [
      " http://www.reuters.com/article/2014/08/19/il-mintel-lip-cosmeti-idUSnPn6ssfN4+82+PRN20140819\n",
      "'NoneType' object has no attribute 'text'"
     ]
    },
    {
     "name": "stdout",
     "output_type": "stream",
     "text": [
      " http://www.reuters.com/article/2014/08/19/dr-jack-kavanaugh-idUSnPn6kHfzS+89+PRN20140819\n",
      "'NoneType' object has no attribute 'text'"
     ]
    },
    {
     "name": "stdout",
     "output_type": "stream",
     "text": [
      " http://www.reuters.com/article/2014/08/19/or-pacificcontinental-idUSnPnb0Y96t+88+PRN20140819\n",
      "'NoneType' object has no attribute 'text'"
     ]
    },
    {
     "name": "stdout",
     "output_type": "stream",
     "text": [
      " http://www.reuters.com/article/2014/08/19/malaysia-kitchen-usa-idUSnPn5qJnjW+89+PRN20140819\n",
      "'NoneType' object has no attribute 'text'"
     ]
    },
    {
     "name": "stdout",
     "output_type": "stream",
     "text": [
      " http://www.reuters.com/article/2014/08/19/rm-auctions-sales-idUSnPn4Gf2bK+91+PRN20140819\n",
      "'NoneType' object has no attribute 'text'"
     ]
    },
    {
     "name": "stdout",
     "output_type": "stream",
     "text": [
      " http://www.reuters.com/article/2014/08/19/ca-honda-idUSnPnc69qMV+83+PRN20140819\n",
      "'NoneType' object has no attribute 'text'"
     ]
    },
    {
     "name": "stdout",
     "output_type": "stream",
     "text": [
      " http://www.reuters.com/article/2014/08/19/bc-investor-edge-idUSnPn6jH7dn+88+PRN20140819\n",
      "'NoneType' object has no attribute 'text'"
     ]
    },
    {
     "name": "stdout",
     "output_type": "stream",
     "text": [
      " http://www.reuters.com/article/2014/08/19/boehringrcopd-fda-nda-idUSnPn2YlwyW+91+PRN20140819\n",
      "'NoneType' object has no attribute 'text'"
     ]
    },
    {
     "name": "stdout",
     "output_type": "stream",
     "text": [
      "\n",
      "'NoneType' object has no attribute 'text'"
     ]
    },
    {
     "name": "stdout",
     "output_type": "stream",
     "text": [
      " http://www.reuters.com/article/2014/08/20/ma-decisionresources-idUSnPn4lKSll+8c+PRN20140820\n",
      "2014-08-20"
     ]
    },
    {
     "name": "stdout",
     "output_type": "stream",
     "text": [
      " http://www.reuters.com/article/2014/08/20/fl-herrick-acquires-idUSnPn4rx191+80+PRN20140820\n",
      "'NoneType' object has no attribute 'text'"
     ]
    },
    {
     "name": "stdout",
     "output_type": "stream",
     "text": [
      " http://www.reuters.com/article/2014/08/20/il-zacks-investment-idUSnPn3dJz4Q+89+PRN20140820\n",
      "'NoneType' object has no attribute 'text'"
     ]
    },
    {
     "name": "stdout",
     "output_type": "stream",
     "text": [
      " http://www.reuters.com/article/2014/08/20/general-medicine-tops-idUSnPn5YQVj6+9c+PRN20140820\n",
      "'NoneType' object has no attribute 'text'"
     ]
    },
    {
     "name": "stdout",
     "output_type": "stream",
     "text": [
      " http://www.reuters.com/article/2014/08/20/cn-airmedia-tradeshow-idUSnPn33x1Gz+82+PRN20140820\n",
      "'NoneType' object has no attribute 'text'"
     ]
    },
    {
     "name": "stdout",
     "output_type": "stream",
     "text": [
      " http://www.reuters.com/article/2014/08/20/bc-investorideascom-idUSnPn4jNMwV+8d+PRN20140820\n",
      "'NoneType' object has no attribute 'text'"
     ]
    },
    {
     "name": "stdout",
     "output_type": "stream",
     "text": [
      " http://www.reuters.com/article/2014/08/20/ny-endeavorip-patent-idUSnPn7SPCv4+9c+PRN20140820\n",
      "'NoneType' object has no attribute 'text'"
     ]
    },
    {
     "name": "stdout",
     "output_type": "stream",
     "text": [
      "\n",
      "'NoneType' object has no attribute 'text'"
     ]
    },
    {
     "name": "stdout",
     "output_type": "stream",
     "text": [
      " http://www.reuters.com/article/2014/08/21/usa-today-hs-sports-idUSnPnc7Sgtn+88+PRN20140821\n",
      "2014-08-21"
     ]
    },
    {
     "name": "stdout",
     "output_type": "stream",
     "text": [
      " http://www.reuters.com/article/2014/08/21/everytown-bckgrndchck-idUSnPn6T0jXW+93+PRN20140821\n",
      "'NoneType' object has no attribute 'text'"
     ]
    },
    {
     "name": "stdout",
     "output_type": "stream",
     "text": [
      " http://www.reuters.com/article/2014/08/21/tx-squareroot-inclist-idUSnPn9kzXh5+84+PRN20140821\n",
      "'NoneType' object has no attribute 'text'"
     ]
    },
    {
     "name": "stdout",
     "output_type": "stream",
     "text": [
      " http://www.reuters.com/article/2014/08/22/tycoon-reports-equity-idUSnPn4vWMBr+8e+PRN20140822\n",
      "'NoneType' object has no attribute 'text'"
     ]
    },
    {
     "name": "stdout",
     "output_type": "stream",
     "text": [
      " http://www.reuters.com/article/2014/08/21/ex-im-bank-small-biz-idUSnPnhQFG9+4e+PRN20140821\n",
      "'NoneType' object has no attribute 'text'"
     ]
    },
    {
     "name": "stdout",
     "output_type": "stream",
     "text": [
      " http://www.reuters.com/article/2014/08/21/va-serco-us-navy-con-idUSnPn7tnCpV+85+PRN20140821\n",
      "'NoneType' object has no attribute 'text'"
     ]
    },
    {
     "name": "stdout",
     "output_type": "stream",
     "text": [
      " http://www.reuters.com/article/2014/08/21/explorers-club-grants-idUSnPn52tKmW+85+PRN20140821\n",
      "'NoneType' object has no attribute 'text'"
     ]
    },
    {
     "name": "stdout",
     "output_type": "stream",
     "text": [
      " http://www.reuters.com/article/2014/08/21/conference-board-lei-idUSnPnXLGj6+5c+PRN20140821\n",
      "'NoneType' object has no attribute 'text'"
     ]
    },
    {
     "name": "stdout",
     "output_type": "stream",
     "text": [
      " http://www.reuters.com/article/2014/08/21/wealthx-rich-russians-idUSnPn1XSXHt+9e+PRN20140821\n",
      "'NoneType' object has no attribute 'text'"
     ]
    },
    {
     "name": "stdout",
     "output_type": "stream",
     "text": [
      "\n",
      "'NoneType' object has no attribute 'text'"
     ]
    },
    {
     "name": "stdout",
     "output_type": "stream",
     "text": [
      " http://www.reuters.com/article/2014/08/22/dallas-arboretum-idUSnPn30yvmX+81+PRN20140822\n",
      "2014-08-22"
     ]
    },
    {
     "name": "stdout",
     "output_type": "stream",
     "text": [
      " http://www.reuters.com/article/2014/08/22/bc-analysts-review-idUSnPn8dklkn+80+PRN20140822\n",
      "'NoneType' object has no attribute 'text'"
     ]
    },
    {
     "name": "stdout",
     "output_type": "stream",
     "text": [
      " http://www.reuters.com/article/2014/08/22/ca-santacruzcountyban-idUSnPn5920JQ+83+PRN20140822\n",
      "'NoneType' object has no attribute 'text'"
     ]
    },
    {
     "name": "stdout",
     "output_type": "stream",
     "text": [
      " http://www.reuters.com/article/2014/08/22/ciara-degree-women-idUSnPn3h68vJ+81+PRN20140822\n",
      "'NoneType' object has no attribute 'text'"
     ]
    },
    {
     "name": "stdout",
     "output_type": "stream",
     "text": [
      " http://www.reuters.com/article/2014/08/22/bc-investor-edge-idUSnPn4qDnPx+8a+PRN20140822\n",
      "'NoneType' object has no attribute 'text'"
     ]
    },
    {
     "name": "stdout",
     "output_type": "stream",
     "text": [
      "\n",
      "'NoneType' object has no attribute 'text'"
     ]
    },
    {
     "name": "stdout",
     "output_type": "stream",
     "text": [
      " http://www.reuters.com/article/2014/08/23/census-daily-feature-idUSnPn6wmt1T+81+PRN20140823\n",
      "2014-08-23"
     ]
    },
    {
     "name": "stdout",
     "output_type": "stream",
     "text": [
      " http://www.reuters.com/article/2014/08/23/frstrs-kaboom-plygrnd-idUSnPn87CMRR+8f+PRN20140823\n",
      "'NoneType' object has no attribute 'text'"
     ]
    },
    {
     "name": "stdout",
     "output_type": "stream",
     "text": [
      " http://www.reuters.com/article/2014/08/23/nv-sls-las-vegas-idUSnPn8gXdRk+8a+PRN20140823\n",
      "'NoneType' object has no attribute 'text'"
     ]
    },
    {
     "name": "stdout",
     "output_type": "stream",
     "text": [
      " http://www.reuters.com/article/2014/08/23/tx-dickeysbbq-expand-idUSnPn3TWnXP+9b+PRN20140823\n",
      "'NoneType' object has no attribute 'text'"
     ]
    },
    {
     "name": "stdout",
     "output_type": "stream",
     "text": [
      " http://www.reuters.com/article/2014/08/23/gotopless-prideparade-idUSnPncfdpbv+80+PRN20140823\n",
      "'NoneType' object has no attribute 'text'"
     ]
    },
    {
     "name": "stdout",
     "output_type": "stream",
     "text": [
      " http://www.reuters.com/article/2014/08/23/goodyear-wingfootone-idUSnPnzVK7Y+4d+PRN20140823\n",
      "'NoneType' object has no attribute 'text'"
     ]
    },
    {
     "name": "stdout",
     "output_type": "stream",
     "text": [
      "\n",
      "'NoneType' object has no attribute 'text'"
     ]
    },
    {
     "name": "stdout",
     "output_type": "stream",
     "text": [
      " http://www.reuters.com/article/2014/08/24/census-daily-feature-idUSnPn18qrGW+83+PRN20140824\n",
      "2014-08-24"
     ]
    },
    {
     "name": "stdout",
     "output_type": "stream",
     "text": [
      " http://www.reuters.com/article/2014/08/24/block-esq-investigate-idUSnPn89HtDV+8b+PRN20140824\n",
      "'NoneType' object has no attribute 'text'"
     ]
    },
    {
     "name": "stdout",
     "output_type": "stream",
     "text": [
      " http://www.reuters.com/article/2014/08/24/nc-dickeysbbq-expand-idUSnPn2hfKZQ+87+PRN20140824\n",
      "'NoneType' object has no attribute 'text'"
     ]
    },
    {
     "name": "stdout",
     "output_type": "stream",
     "text": [
      " http://www.reuters.com/article/2014/08/24/cityyear-statement-idUSnPn1lW7qj+88+PRN20140824\n",
      "'NoneType' object has no attribute 'text'"
     ]
    },
    {
     "name": "stdout",
     "output_type": "stream",
     "text": [
      "\n",
      "'NoneType' object has no attribute 'text'"
     ]
    },
    {
     "name": "stdout",
     "output_type": "stream",
     "text": [
      " http://www.reuters.com/article/2014/08/25/bc-ie-idUSnPnbblzWT+83+PRN20140825\n",
      "2014-08-25"
     ]
    },
    {
     "name": "stdout",
     "output_type": "stream",
     "text": [
      " http://www.reuters.com/article/2014/08/25/bc-investor-edge-idUSnPnc0p2xg+80+PRN20140825\n",
      "'NoneType' object has no attribute 'text'"
     ]
    },
    {
     "name": "stdout",
     "output_type": "stream",
     "text": [
      " http://www.reuters.com/article/2014/08/25/neurosigma-trial-fund-idUSnPn7KVv9b+98+PRN20140825\n",
      "'NoneType' object has no attribute 'text'"
     ]
    },
    {
     "name": "stdout",
     "output_type": "stream",
     "text": [
      " http://www.reuters.com/article/2014/08/25/bc-ie-idUSnPn2Y748Z+91+PRN20140825\n",
      "'NoneType' object has no attribute 'text'"
     ]
    },
    {
     "name": "stdout",
     "output_type": "stream",
     "text": [
      " http://www.reuters.com/article/2014/08/25/ca-livenationslipknot-idUSnPn44xbnY+81+PRN20140825\n",
      "'NoneType' object has no attribute 'text'"
     ]
    },
    {
     "name": "stdout",
     "output_type": "stream",
     "text": [
      " http://www.reuters.com/article/2014/08/25/southafrican-airways-idUSnPn3w8Kql+84+PRN20140825\n",
      "'NoneType' object has no attribute 'text'"
     ]
    },
    {
     "name": "stdout",
     "output_type": "stream",
     "text": [
      " http://www.reuters.com/article/2014/08/25/bc-investor-edge-idUSnPn8f0XKp+86+PRN20140825\n",
      "'NoneType' object has no attribute 'text'"
     ]
    },
    {
     "name": "stdout",
     "output_type": "stream",
     "text": [
      " http://www.reuters.com/article/2014/08/25/bc-ar-idUSnPn8Sv7nL+91+PRN20140825\n",
      "'NoneType' object has no attribute 'text'"
     ]
    },
    {
     "name": "stdout",
     "output_type": "stream",
     "text": [
      " http://www.reuters.com/article/2014/08/25/simba-info-textbkmrkt-idUSnPn2HX3MW+9b+PRN20140825\n",
      "'NoneType' object has no attribute 'text'"
     ]
    },
    {
     "name": "stdout",
     "output_type": "stream",
     "text": [
      " http://www.reuters.com/article/2014/08/25/fl-nextgalaxy-summit-idUSnPn3wcQtw+84+PRN20140825\n",
      "'NoneType' object has no attribute 'text'"
     ]
    },
    {
     "name": "stdout",
     "output_type": "stream",
     "text": [
      " http://www.reuters.com/article/2014/08/25/il-zacks-powershares-idUSnPn1h7ZlL+85+PRN20140825\n",
      "'NoneType' object has no attribute 'text'"
     ]
    },
    {
     "name": "stdout",
     "output_type": "stream",
     "text": [
      " http://www.reuters.com/article/2014/08/25/ca-aem-components-pms-idUSnPn4b6mzc+80+PRN20140825\n",
      "'NoneType' object has no attribute 'text'"
     ]
    },
    {
     "name": "stdout",
     "output_type": "stream",
     "text": [
      " http://www.reuters.com/article/2014/08/25/online-phd-programs-idUSnPn50T6H+45+PRN20140825\n",
      "'NoneType' object has no attribute 'text'"
     ]
    },
    {
     "name": "stdout",
     "output_type": "stream",
     "text": [
      " http://www.reuters.com/article/2014/08/25/ny-verizon-solarpower-idUSnPn44vxsH+81+PRN20140825\n",
      "'NoneType' object has no attribute 'text'"
     ]
    },
    {
     "name": "stdout",
     "output_type": "stream",
     "text": [
      " http://www.reuters.com/article/2014/08/25/golden-meditech-idUSnPn1j0ZvC+85+PRN20140825\n",
      "'NoneType' object has no attribute 'text'"
     ]
    },
    {
     "name": "stdout",
     "output_type": "stream",
     "text": [
      "\n",
      "'NoneType' object has no attribute 'text'"
     ]
    },
    {
     "name": "stdout",
     "output_type": "stream",
     "text": [
      " http://www.reuters.com/article/2014/08/26/ny-loreal-usa-edge-idUSnPn2x4NDM+87+PRN20140826\n",
      "2014-08-26"
     ]
    },
    {
     "name": "stdout",
     "output_type": "stream",
     "text": [
      " http://www.reuters.com/article/2014/08/26/hilliard-munoz-idUSnPn9Cw4VM+93+PRN20140826\n",
      "'NoneType' object has no attribute 'text'"
     ]
    },
    {
     "name": "stdout",
     "output_type": "stream",
     "text": [
      " http://www.reuters.com/article/2014/08/26/y-usa-trust-prtnrship-idUSnPnFBPxw+5c+PRN20140826\n",
      "'NoneType' object has no attribute 'text'"
     ]
    },
    {
     "name": "stdout",
     "output_type": "stream",
     "text": [
      " http://www.reuters.com/article/2014/08/26/prop-46-doctors-idUSnPn9MHV2N+9d+PRN20140826\n",
      "'NoneType' object has no attribute 'text'"
     ]
    },
    {
     "name": "stdout",
     "output_type": "stream",
     "text": [
      " http://www.reuters.com/article/2014/08/26/iot-china-idUSnPnbzRNL0+8e+PRN20140826\n",
      "'NoneType' object has no attribute 'text'"
     ]
    },
    {
     "name": "stdout",
     "output_type": "stream",
     "text": [
      " http://www.reuters.com/article/2014/08/26/uscm-stmnt-ferguson-idUSnPn3kCbYz+8a+PRN20140826\n",
      "'NoneType' object has no attribute 'text'"
     ]
    },
    {
     "name": "stdout",
     "output_type": "stream",
     "text": [
      " http://www.reuters.com/article/2014/08/26/hi-cpf-raymond-james-idUSnPnhP7r6+48+PRN20140826\n",
      "'NoneType' object has no attribute 'text'"
     ]
    },
    {
     "name": "stdout",
     "output_type": "stream",
     "text": [
      " http://www.reuters.com/article/2014/08/26/allnursescom-survey-idUSnPn49H89F+89+PRN20140826\n",
      "'NoneType' object has no attribute 'text'"
     ]
    },
    {
     "name": "stdout",
     "output_type": "stream",
     "text": [
      " http://www.reuters.com/article/2014/08/26/ny-bespoke-estate-new-idUSnPn9b98xk+80+PRN20140826\n",
      "'NoneType' object has no attribute 'text'"
     ]
    },
    {
     "name": "stdout",
     "output_type": "stream",
     "text": [
      " http://www.reuters.com/article/2014/08/26/topmanagementdegrees-idUSnPn6RKgfL+99+PRN20140826\n",
      "'NoneType' object has no attribute 'text'"
     ]
    },
    {
     "name": "stdout",
     "output_type": "stream",
     "text": [
      " http://www.reuters.com/article/2014/08/26/ca-carlosslim-fdn-idUSnPn8QDt9H+99+PRN20140826\n",
      "'NoneType' object has no attribute 'text'"
     ]
    },
    {
     "name": "stdout",
     "output_type": "stream",
     "text": [
      "\n",
      "'NoneType' object has no attribute 'text'"
     ]
    },
    {
     "name": "stdout",
     "output_type": "stream",
     "text": [
      " http://www.reuters.com/article/2014/08/27/su2c-landmarklightup-idUSnPn1LHktv+98+PRN20140827\n",
      "2014-08-27"
     ]
    },
    {
     "name": "stdout",
     "output_type": "stream",
     "text": [
      " http://www.reuters.com/article/2014/08/27/ma-comcast-free-serv-idUSnPn7D6f8t+90+PRN20140827\n",
      "'NoneType' object has no attribute 'text'"
     ]
    },
    {
     "name": "stdout",
     "output_type": "stream",
     "text": [
      " http://www.reuters.com/article/2014/08/27/farmer-mac-financing-idUSnPnbLgjnr+90+PRN20140827\n",
      "'NoneType' object has no attribute 'text'"
     ]
    },
    {
     "name": "stdout",
     "output_type": "stream",
     "text": [
      " http://www.reuters.com/article/2014/08/27/il-zacks-investment-idUSnPn1gcmGT+83+PRN20140827\n",
      "'NoneType' object has no attribute 'text'"
     ]
    },
    {
     "name": "stdout",
     "output_type": "stream",
     "text": [
      " http://www.reuters.com/article/2014/08/27/report-ivory-africa-idUSnPn6zGY2X+8d+PRN20140827\n",
      "'NoneType' object has no attribute 'text'"
     ]
    },
    {
     "name": "stdout",
     "output_type": "stream",
     "text": [
      " http://www.reuters.com/article/2014/08/27/bc-analystsreviewcom-idUSnPn289pFs+82+PRN20140827\n",
      "'NoneType' object has no attribute 'text'"
     ]
    },
    {
     "name": "stdout",
     "output_type": "stream",
     "text": [
      " http://www.reuters.com/article/2014/08/27/ca-axs-tv-x-factor-uk-idUSnPn1Vz8ly+90+PRN20140827\n",
      "'NoneType' object has no attribute 'text'"
     ]
    },
    {
     "name": "stdout",
     "output_type": "stream",
     "text": [
      " http://www.reuters.com/article/2014/08/27/fl-meliahotels-me-idUSnPn9Rzgn3+90+PRN20140827\n",
      "'NoneType' object has no attribute 'text'"
     ]
    },
    {
     "name": "stdout",
     "output_type": "stream",
     "text": [
      " http://www.reuters.com/article/2014/08/27/dc-saab-defense-signs-idUSnPnc2DRw4+8c+PRN20140827\n",
      "'NoneType' object has no attribute 'text'"
     ]
    },
    {
     "name": "stdout",
     "output_type": "stream",
     "text": [
      "\n",
      "'NoneType' object has no attribute 'text'"
     ]
    },
    {
     "name": "stdout",
     "output_type": "stream",
     "text": [
      " http://www.reuters.com/article/2014/08/28/cg-technology-footbal-idUSnPn9cfTBw+86+PRN20140828\n",
      "2014-08-28"
     ]
    },
    {
     "name": "stdout",
     "output_type": "stream",
     "text": [
      " http://www.reuters.com/article/2014/08/28/decision-resources-idUSnPn1mCGWl+8e+PRN20140828\n",
      "'NoneType' object has no attribute 'text'"
     ]
    },
    {
     "name": "stdout",
     "output_type": "stream",
     "text": [
      " http://www.reuters.com/article/2014/08/28/bc-i-idUSnPn9YtGGn+96+PRN20140828\n",
      "'NoneType' object has no attribute 'text'"
     ]
    },
    {
     "name": "stdout",
     "output_type": "stream",
     "text": [
      " http://www.reuters.com/article/2014/08/28/ca-amgen-evolocumab-idUSnPn75w68+40+PRN20140828\n",
      "'NoneType' object has no attribute 'text'"
     ]
    },
    {
     "name": "stdout",
     "output_type": "stream",
     "text": [
      " http://www.reuters.com/article/2014/08/28/careerbuilderresearch-idUSnPnJv16V+51+PRN20140828\n",
      "'NoneType' object has no attribute 'text'"
     ]
    },
    {
     "name": "stdout",
     "output_type": "stream",
     "text": [
      " http://www.reuters.com/article/2014/08/28/tn-medequities-realty-idUSnPnZvJ62+54+PRN20140828\n",
      "'NoneType' object has no attribute 'text'"
     ]
    },
    {
     "name": "stdout",
     "output_type": "stream",
     "text": [
      " http://www.reuters.com/article/2014/08/28/zap-jonwayauto-china-idUSnPn3MdH6y+94+PRN20140828\n",
      "'NoneType' object has no attribute 'text'"
     ]
    },
    {
     "name": "stdout",
     "output_type": "stream",
     "text": [
      " http://www.reuters.com/article/2014/08/28/bc-investor-edge-idUSnPn6ZKC8Q+9d+PRN20140828\n",
      "'NoneType' object has no attribute 'text'"
     ]
    },
    {
     "name": "stdout",
     "output_type": "stream",
     "text": [
      " http://www.reuters.com/article/2014/08/28/boltonpac-endorsement-idUSnPn66wJ9l+84+PRN20140828\n",
      "'NoneType' object has no attribute 'text'"
     ]
    },
    {
     "name": "stdout",
     "output_type": "stream",
     "text": [
      "\n",
      "'NoneType' object has no attribute 'text'"
     ]
    },
    {
     "name": "stdout",
     "output_type": "stream",
     "text": [
      " http://www.reuters.com/article/2014/08/29/zacks-blog-idUSnPn9WGpvW+99+PRN20140829\n",
      "2014-08-29"
     ]
    },
    {
     "name": "stdout",
     "output_type": "stream",
     "text": [
      " http://www.reuters.com/article/2014/08/29/generaldynamicselectr-idUSnPn1PbNrc+94+PRN20140829\n",
      "'NoneType' object has no attribute 'text'"
     ]
    },
    {
     "name": "stdout",
     "output_type": "stream",
     "text": [
      "\n",
      "'NoneType' object has no attribute 'text'"
     ]
    },
    {
     "name": "stdout",
     "output_type": "stream",
     "text": [
      " http://www.reuters.com/article/2014/08/30/faruqifaruqi-investor-idUSnPn6bSbzJ+89+PRN20140830\n",
      "2014-08-30"
     ]
    },
    {
     "name": "stdout",
     "output_type": "stream",
     "text": [
      " http://www.reuters.com/article/2014/08/30/olympiadevelopdetroit-idUSnPn5npm7b+80+PRN20140830\n",
      "'NoneType' object has no attribute 'text'"
     ]
    },
    {
     "name": "stdout",
     "output_type": "stream",
     "text": [
      " http://www.reuters.com/article/2014/08/30/faruqi-cobalt-energy-idUSnPnKlxlc+50+PRN20140830\n",
      "'NoneType' object has no attribute 'text'"
     ]
    },
    {
     "name": "stdout",
     "output_type": "stream",
     "text": [
      " http://www.reuters.com/article/2014/08/30/census-daily-features-idUSnPn7kGfw4+88+PRN20140830\n",
      "'NoneType' object has no attribute 'text'"
     ]
    },
    {
     "name": "stdout",
     "output_type": "stream",
     "text": [
      " http://www.reuters.com/article/2014/08/30/philipsaffiniti-esc-idUSnPn5HvnT9+92+PRN20140830\n",
      "'NoneType' object has no attribute 'text'"
     ]
    },
    {
     "name": "stdout",
     "output_type": "stream",
     "text": [
      " http://www.reuters.com/article/2014/08/30/ness-ca-sickdayslaw-idUSnPn1cMttk+88+PRN20140830\n",
      "'NoneType' object has no attribute 'text'"
     ]
    },
    {
     "name": "stdout",
     "output_type": "stream",
     "text": [
      " http://www.reuters.com/article/2014/08/30/novartis-new-medicine-idUSnPnfLS8B+4d+PRN20140830\n",
      "'NoneType' object has no attribute 'text'"
     ]
    },
    {
     "name": "stdout",
     "output_type": "stream",
     "text": [
      "\n",
      "'NoneType' object has no attribute 'text'"
     ]
    },
    {
     "name": "stdout",
     "output_type": "stream",
     "text": [
      " http://www.reuters.com/article/2014/08/31/alsacia-express-idUSnPnbxzkMT+83+PRN20140831\n",
      "2014-08-31"
     ]
    },
    {
     "name": "stdout",
     "output_type": "stream",
     "text": [
      " http://www.reuters.com/article/2014/09/01/wockhardt-qidp-status-idUSnPn3dlCZT+87+PRN20140901\n",
      "'NoneType' object has no attribute 'text'"
     ]
    },
    {
     "name": "stdout",
     "output_type": "stream",
     "text": [
      " http://www.reuters.com/article/2014/08/31/census-daily-feature-idUSnPn9w0GqL+85+PRN20140831\n",
      "'NoneType' object has no attribute 'text'"
     ]
    },
    {
     "name": "stdout",
     "output_type": "stream",
     "text": [
      " http://www.reuters.com/article/2014/09/01/the-canton-fair-idUSnPn9sHQs7+8c+PRN20140901\n",
      "'NoneType' object has no attribute 'text'"
     ]
    },
    {
     "name": "stdout",
     "output_type": "stream",
     "text": [
      " http://www.reuters.com/article/2014/09/01/iqiyi-venice-film-fes-idUSnPn7hYdCk+8a+PRN20140901\n",
      "'NoneType' object has no attribute 'text'"
     ]
    },
    {
     "name": "stdout",
     "output_type": "stream",
     "text": [
      " http://www.reuters.com/article/2014/08/31/jmfg-arbys-support-idUSnPn4FRTd5+9c+PRN20140831\n",
      "'NoneType' object has no attribute 'text'"
     ]
    },
    {
     "name": "stdout",
     "output_type": "stream",
     "text": [
      "\n",
      "'NoneType' object has no attribute 'text'"
     ]
    },
    {
     "name": "stdout",
     "output_type": "stream",
     "text": [
      " http://www.reuters.com/article/2014/09/01/bc-analystsreviewcom-idUSnPncfFD1d+8c+PRN20140901\n",
      "2014-09-01"
     ]
    },
    {
     "name": "stdout",
     "output_type": "stream",
     "text": [
      " http://www.reuters.com/article/2014/09/01/bc-analystsreviewcom-idUSnPn8ZLLQg+9e+PRN20140901\n",
      "'NoneType' object has no attribute 'text'"
     ]
    },
    {
     "name": "stdout",
     "output_type": "stream",
     "text": [
      " http://www.reuters.com/article/2014/09/01/bc-analystsreviewcom-idUSnPn7CyKqK+95+PRN20140901\n",
      "'NoneType' object has no attribute 'text'"
     ]
    },
    {
     "name": "stdout",
     "output_type": "stream",
     "text": [
      " http://www.reuters.com/article/2014/09/01/bc-analysts-review-idUSnPn280SJp+86+PRN20140901\n",
      "'NoneType' object has no attribute 'text'"
     ]
    },
    {
     "name": "stdout",
     "output_type": "stream",
     "text": [
      " http://www.reuters.com/article/2014/09/01/bc-analystsreview-idUSnPn1j71t3+80+PRN20140901\n",
      "'NoneType' object has no attribute 'text'"
     ]
    },
    {
     "name": "stdout",
     "output_type": "stream",
     "text": [
      "\n",
      "'NoneType' object has no attribute 'text'"
     ]
    },
    {
     "name": "stdout",
     "output_type": "stream",
     "text": [
      " http://www.reuters.com/article/2014/09/02/bc-investor-edge-idUSnPn5l9gBv+82+PRN20140902\n",
      "2014-09-02"
     ]
    },
    {
     "name": "stdout",
     "output_type": "stream",
     "text": [
      " http://www.reuters.com/article/2014/09/02/wi-buycostumes-unicef-idUSnPn1fMDBq+8e+PRN20140902\n",
      "'NoneType' object has no attribute 'text'"
     ]
    },
    {
     "name": "stdout",
     "output_type": "stream",
     "text": [
      " http://www.reuters.com/article/2014/09/02/iic-china-shenzhen-idUSnPngWN1d+4c+PRN20140902\n",
      "'NoneType' object has no attribute 'text'"
     ]
    },
    {
     "name": "stdout",
     "output_type": "stream",
     "text": [
      " http://www.reuters.com/article/2014/09/02/hgs-sign-agreement-idUSnPn8CQxX+4d+PRN20140902\n",
      "'NoneType' object has no attribute 'text'"
     ]
    },
    {
     "name": "stdout",
     "output_type": "stream",
     "text": [
      " http://www.reuters.com/article/2014/09/02/orexigen-new-patent-idUSnPn2qkGM5+86+PRN20140902\n",
      "'NoneType' object has no attribute 'text'"
     ]
    },
    {
     "name": "stdout",
     "output_type": "stream",
     "text": [
      " http://www.reuters.com/article/2014/09/02/lysol-jerry-rice-idUSnPn206p5Q+81+PRN20140902\n",
      "'NoneType' object has no attribute 'text'"
     ]
    },
    {
     "name": "stdout",
     "output_type": "stream",
     "text": [
      " http://www.reuters.com/article/2014/09/02/fl-hsni-cares-unicef-idUSnPn6q1v9m+80+PRN20140902\n",
      "'NoneType' object has no attribute 'text'"
     ]
    },
    {
     "name": "stdout",
     "output_type": "stream",
     "text": [
      " http://www.reuters.com/article/2014/09/02/instrumentsaleservice-idUSnPn1RxLTL+97+PRN20140902\n",
      "'NoneType' object has no attribute 'text'"
     ]
    },
    {
     "name": "stdout",
     "output_type": "stream",
     "text": [
      " http://www.reuters.com/article/2014/09/02/tx-frito-lay-nflpromo-idUSnPn7zNgnr+88+PRN20140902\n",
      "'NoneType' object has no attribute 'text'"
     ]
    },
    {
     "name": "stdout",
     "output_type": "stream",
     "text": [
      " http://www.reuters.com/article/2014/09/02/ny-dunkin-eli-manning-idUSnPn2sVCLQ+8f+PRN20140902\n",
      "'NoneType' object has no attribute 'text'"
     ]
    },
    {
     "name": "stdout",
     "output_type": "stream",
     "text": [
      " http://www.reuters.com/article/2014/09/02/ny-apparel-group-ceo-idUSnPn7LPJ89+9c+PRN20140902\n",
      "'NoneType' object has no attribute 'text'"
     ]
    },
    {
     "name": "stdout",
     "output_type": "stream",
     "text": [
      "\n",
      "'NoneType' object has no attribute 'text'"
     ]
    },
    {
     "name": "stdout",
     "output_type": "stream",
     "text": [
      " http://www.reuters.com/article/2014/09/03/nj-lg-electronics-usa-idUSnPn2g7Kpf+84+PRN20140903\n",
      "2014-09-03"
     ]
    },
    {
     "name": "stdout",
     "output_type": "stream",
     "text": [
      " http://www.reuters.com/article/2014/09/03/decision-resources-idUSnPn5XrCjc+94+PRN20140903\n",
      "'NoneType' object has no attribute 'text'"
     ]
    },
    {
     "name": "stdout",
     "output_type": "stream",
     "text": [
      " http://www.reuters.com/article/2014/09/03/tidal-music-streaming-idUSnPn6tZXZ3+8e+PRN20140903\n",
      "'NoneType' object has no attribute 'text'"
     ]
    },
    {
     "name": "stdout",
     "output_type": "stream",
     "text": [
      " http://www.reuters.com/article/2014/09/03/bmw-championship-co-idUSnPn770CKy+86+PRN20140903\n",
      "'NoneType' object has no attribute 'text'"
     ]
    },
    {
     "name": "stdout",
     "output_type": "stream",
     "text": [
      " http://www.reuters.com/article/2014/09/03/bc-analysts-review-idUSnPnbVMGpV+9d+PRN20140903\n",
      "'NoneType' object has no attribute 'text'"
     ]
    },
    {
     "name": "stdout",
     "output_type": "stream",
     "text": [
      " http://www.reuters.com/article/2014/09/03/idUSnMKWHhmlda+1e0+MKW20140903\n",
      "'NoneType' object has no attribute 'text'"
     ]
    },
    {
     "name": "stdout",
     "output_type": "stream",
     "text": [
      " http://www.reuters.com/article/2014/09/03/bayercropscienc-grows-idUSnPn5FCTFW+9f+PRN20140903\n",
      "'NoneType' object has no attribute 'text'"
     ]
    },
    {
     "name": "stdout",
     "output_type": "stream",
     "text": [
      " http://www.reuters.com/article/2014/09/04/ifos-contract-idUSnPn5CY3ZZ+9b+PRN20140904\n",
      "'NoneType' object has no attribute 'text'"
     ]
    },
    {
     "name": "stdout",
     "output_type": "stream",
     "text": [
      " http://www.reuters.com/article/2014/09/03/ks-universityofkshos-idUSnPn3BNp3F+99+PRN20140903\n",
      "'NoneType' object has no attribute 'text'"
     ]
    },
    {
     "name": "stdout",
     "output_type": "stream",
     "text": [
      " http://www.reuters.com/article/2014/09/03/mi-chrysler-aug-sales-idUSnPn7vrdmc+80+PRN20140903\n",
      "'NoneType' object has no attribute 'text'"
     ]
    },
    {
     "name": "stdout",
     "output_type": "stream",
     "text": [
      " http://www.reuters.com/article/2014/09/03/truecar-price-report-idUSnPn43vQW3+86+PRN20140903\n",
      "'NoneType' object has no attribute 'text'"
     ]
    },
    {
     "name": "stdout",
     "output_type": "stream",
     "text": [
      " http://www.reuters.com/article/2014/09/03/west-china-hospital-idUSnPn6cKCg+46+PRN20140903\n",
      "'NoneType' object has no attribute 'text'"
     ]
    },
    {
     "name": "stdout",
     "output_type": "stream",
     "text": [
      " http://www.reuters.com/article/2014/09/04/sed-hotapps-acq-idUSnPn1tnlKK+83+PRN20140904\n",
      "2014-09-04\n",
      "'NoneType' object has no attribute 'text'"
     ]
    },
    {
     "name": "stdout",
     "output_type": "stream",
     "text": [
      " http://www.reuters.com/article/2014/09/04/il-zacks-investment-idUSnPn1kvPnn+84+PRN20140904\n",
      "'NoneType' object has no attribute 'text'"
     ]
    },
    {
     "name": "stdout",
     "output_type": "stream",
     "text": [
      " http://www.reuters.com/article/2014/09/04/uji-resistance-film-idUSnPn7hmBpG+85+PRN20140904\n",
      "'NoneType' object has no attribute 'text'"
     ]
    },
    {
     "name": "stdout",
     "output_type": "stream",
     "text": [
      " http://www.reuters.com/article/2014/09/04/bestbetonsports-picks-idUSnPn9nq4mw+80+PRN20140904\n",
      "'NoneType' object has no attribute 'text'"
     ]
    },
    {
     "name": "stdout",
     "output_type": "stream",
     "text": [
      " http://www.reuters.com/article/2014/09/04/al-healthsouth-offer-idUSnPn1zn5qW+81+PRN20140904\n",
      "'NoneType' object has no attribute 'text'"
     ]
    },
    {
     "name": "stdout",
     "output_type": "stream",
     "text": [
      " http://www.reuters.com/article/2014/09/04/ca-maetrics-appoints-idUSnPn51rFzD+85+PRN20140904\n",
      "'NoneType' object has no attribute 'text'"
     ]
    },
    {
     "name": "stdout",
     "output_type": "stream",
     "text": [
      " http://www.reuters.com/article/2014/09/04/bc-investor-edge-idUSnPn25KWnr+8c+PRN20140904\n",
      "'NoneType' object has no attribute 'text'"
     ]
    },
    {
     "name": "stdout",
     "output_type": "stream",
     "text": [
      "\n",
      "'NoneType' object has no attribute 'text'"
     ]
    },
    {
     "name": "stdout",
     "output_type": "stream",
     "text": [
      " http://www.reuters.com/article/2014/09/05/mi-hantz-bank-award-idUSnPn13XZ7H+8d+PRN20140905\n",
      "2014-09-05"
     ]
    },
    {
     "name": "stdout",
     "output_type": "stream",
     "text": [
      " http://www.reuters.com/article/2014/09/05/bc-investor-edge-idUSnPn5TYmQQ+9b+PRN20140905\n",
      "'NoneType' object has no attribute 'text'"
     ]
    },
    {
     "name": "stdout",
     "output_type": "stream",
     "text": [
      " http://www.reuters.com/article/2014/09/05/wtcno-data-booklet-idUSnPn8zr4c1+80+PRN20140905\n",
      "'NoneType' object has no attribute 'text'"
     ]
    },
    {
     "name": "stdout",
     "output_type": "stream",
     "text": [
      " http://www.reuters.com/article/2014/09/05/conferencebrd-labor-idUSnPn4hKFgS+8d+PRN20140905\n",
      "'NoneType' object has no attribute 'text'"
     ]
    },
    {
     "name": "stdout",
     "output_type": "stream",
     "text": [
      " http://www.reuters.com/article/2014/09/05/jbt-corp-5mcontract-idUSnPn34n3ZK+83+PRN20140905\n",
      "'NoneType' object has no attribute 'text'"
     ]
    },
    {
     "name": "stdout",
     "output_type": "stream",
     "text": [
      " http://www.reuters.com/article/2014/09/05/bc-investor-edge-idUSnPn2srNg8+84+PRN20140905\n",
      "'NoneType' object has no attribute 'text'"
     ]
    },
    {
     "name": "stdout",
     "output_type": "stream",
     "text": [
      " http://www.reuters.com/article/2014/09/05/hudson-internet-study-idUSnPn8fFwFK+8b+PRN20140905\n",
      "'NoneType' object has no attribute 'text'"
     ]
    },
    {
     "name": "stdout",
     "output_type": "stream",
     "text": [
      " http://www.reuters.com/article/2014/09/05/tx-scusabarclaysconf-idUSnPn5Lggr3+90+PRN20140905\n",
      "'NoneType' object has no attribute 'text'"
     ]
    },
    {
     "name": "stdout",
     "output_type": "stream",
     "text": [
      " http://www.reuters.com/article/2014/09/05/bc-investor-edge-idUSnPn4XrKKb+96+PRN20140905\n",
      "'NoneType' object has no attribute 'text'"
     ]
    },
    {
     "name": "stdout",
     "output_type": "stream",
     "text": [
      " http://www.reuters.com/article/2014/09/05/ma-atlanticpower-div-idUSnPnccFnkJ+89+PRN20140905\n",
      "'NoneType' object has no attribute 'text'"
     ]
    },
    {
     "name": "stdout",
     "output_type": "stream",
     "text": [
      "\n",
      "'NoneType' object has no attribute 'text'"
     ]
    },
    {
     "name": "stdout",
     "output_type": "stream",
     "text": [
      " http://www.reuters.com/article/2014/09/06/census-daily-features-idUSnPn5Cxvpk+90+PRN20140906\n",
      "2014-09-06"
     ]
    },
    {
     "name": "stdout",
     "output_type": "stream",
     "text": [
      " http://www.reuters.com/article/2014/09/06/mars-twix-recall-idUSnPn2l3jLX+83+PRN20140906\n",
      "'NoneType' object has no attribute 'text'"
     ]
    },
    {
     "name": "stdout",
     "output_type": "stream",
     "text": [
      " http://www.reuters.com/article/2014/09/06/astellas-fda-accepts-idUSnPn6TTvdT+99+PRN20140906\n",
      "'NoneType' object has no attribute 'text'"
     ]
    },
    {
     "name": "stdout",
     "output_type": "stream",
     "text": [
      " http://www.reuters.com/article/2014/09/06/911-tribute-charity-idUSnPn8Dq6RJ+93+PRN20140906\n",
      "'NoneType' object has no attribute 'text'"
     ]
    },
    {
     "name": "stdout",
     "output_type": "stream",
     "text": [
      " http://www.reuters.com/article/2014/09/06/bc-phase-holographic-ima-idUSnPn5gpms+40+PRN20140906\n",
      "'NoneType' object has no attribute 'text'"
     ]
    },
    {
     "name": "stdout",
     "output_type": "stream",
     "text": [
      " http://www.reuters.com/article/2014/09/07/standup2cancer-pledge-idUSnPn4KqTLg+96+PRN20140907\n",
      "2014-09-07\n",
      "'NoneType' object has no attribute 'text'"
     ]
    },
    {
     "name": "stdout",
     "output_type": "stream",
     "text": [
      " http://www.reuters.com/article/2014/09/07/seaborn-networks-idUSnPn7cLJMS+8f+PRN20140907\n",
      "'NoneType' object has no attribute 'text'"
     ]
    },
    {
     "name": "stdout",
     "output_type": "stream",
     "text": [
      " http://www.reuters.com/article/2014/09/07/temple-shalom-newyear-idUSnPn4lj8jq+80+PRN20140907\n",
      "'NoneType' object has no attribute 'text'"
     ]
    },
    {
     "name": "stdout",
     "output_type": "stream",
     "text": [
      " http://www.reuters.com/article/2014/09/07/pictures-report-idUSRTR457VK\n",
      "'NoneType' object has no attribute 'text'"
     ]
    },
    {
     "name": "stdout",
     "output_type": "stream",
     "text": [
      " http://www.reuters.com/article/2014/09/07/census-daily-feature-idUSnPn50gLTC+87+PRN20140907\n",
      "'NoneType' object has no attribute 'text'"
     ]
    },
    {
     "name": "stdout",
     "output_type": "stream",
     "text": [
      " http://www.reuters.com/article/2014/09/07/syntheticbiologicsinc-idUSnPnc1BJ9G+8d+PRN20140907\n",
      "'NoneType' object has no attribute 'text'"
     ]
    },
    {
     "name": "stdout",
     "output_type": "stream",
     "text": [
      " http://www.reuters.com/article/2014/09/08/mi-dodge-viper-idUSnPn3Sk3HW+93+PRN20140908\n",
      "2014-09-08\n",
      "'NoneType' object has no attribute 'text'"
     ]
    },
    {
     "name": "stdout",
     "output_type": "stream",
     "text": [
      " http://www.reuters.com/article/2014/09/08/oi-material-fact-idUSnPn3yTQTC+8f+PRN20140908\n",
      "'NoneType' object has no attribute 'text'"
     ]
    },
    {
     "name": "stdout",
     "output_type": "stream",
     "text": [
      " http://www.reuters.com/article/2014/09/08/brandywine-realty-idUSnPn7bMGK9+8e+PRN20140908\n",
      "'NoneType' object has no attribute 'text'"
     ]
    },
    {
     "name": "stdout",
     "output_type": "stream",
     "text": [
      " http://www.reuters.com/article/2014/09/08/bc-investor-edge-idUSnPn14K7Fy+8a+PRN20140908\n",
      "'NoneType' object has no attribute 'text'"
     ]
    },
    {
     "name": "stdout",
     "output_type": "stream",
     "text": [
      " http://www.reuters.com/article/2014/09/08/bbva-restaurant-idUSnPn3Z0c2w+90+PRN20140908\n",
      "'NoneType' object has no attribute 'text'"
     ]
    },
    {
     "name": "stdout",
     "output_type": "stream",
     "text": [
      " http://www.reuters.com/article/2014/09/08/ma-ostomy-market-idUSnPnb81psn+80+PRN20140908\n",
      "'NoneType' object has no attribute 'text'"
     ]
    },
    {
     "name": "stdout",
     "output_type": "stream",
     "text": [
      " http://www.reuters.com/article/2014/09/09/bankofkentucky-invest-idUSnPn8CF2Pf+9a+PRN20140909\n",
      "'NoneType' object has no attribute 'text'"
     ]
    },
    {
     "name": "stdout",
     "output_type": "stream",
     "text": [
      " http://www.reuters.com/article/2014/09/08/dc-northeast-group-idUSnPn2GVyRQ+9b+PRN20140908\n",
      "'NoneType' object has no attribute 'text'"
     ]
    },
    {
     "name": "stdout",
     "output_type": "stream",
     "text": [
      " http://www.reuters.com/article/2014/09/08/ca-lionsgate-dividend-idUSnPncgqTs6+84+PRN20140908\n",
      "'NoneType' object has no attribute 'text'"
     ]
    },
    {
     "name": "stdout",
     "output_type": "stream",
     "text": [
      " http://www.reuters.com/article/2014/09/08/oh-apps4android-ideal-idUSnPn19Xdvj+88+PRN20140908\n",
      "'NoneType' object has no attribute 'text'"
     ]
    },
    {
     "name": "stdout",
     "output_type": "stream",
     "text": [
      " http://www.reuters.com/article/2014/09/08/kahn-swick-foti-llc-idUSnPn6V0Lwn+94+PRN20140908\n",
      "'NoneType' object has no attribute 'text'"
     ]
    },
    {
     "name": "stdout",
     "output_type": "stream",
     "text": [
      " http://www.reuters.com/article/2014/09/08/fl-fidelity-remy-idUSnPnbjXqh5+88+PRN20140908\n",
      "'NoneType' object has no attribute 'text'"
     ]
    },
    {
     "name": "stdout",
     "output_type": "stream",
     "text": [
      "\n",
      "'NoneType' object has no attribute 'text'"
     ]
    },
    {
     "name": "stdout",
     "output_type": "stream",
     "text": [
      " http://www.reuters.com/article/2014/09/09/ca-accustream-adtech-idUSnPn5rl4Jb+82+PRN20140909\n",
      "2014-09-09"
     ]
    },
    {
     "name": "stdout",
     "output_type": "stream",
     "text": [
      " http://www.reuters.com/article/2014/09/09/usnewsuniversity-list-idUSnPn4KWYC3+9e+PRN20140909\n",
      "'NoneType' object has no attribute 'text'"
     ]
    },
    {
     "name": "stdout",
     "output_type": "stream",
     "text": [
      " http://www.reuters.com/article/2014/09/09/manpowergroup-idUSnPn8G0FSJ+97+PRN20140909\n",
      "'NoneType' object has no attribute 'text'"
     ]
    },
    {
     "name": "stdout",
     "output_type": "stream",
     "text": [
      " http://www.reuters.com/article/2014/09/09/md-us-silica-expands-idUSnPn33HYLv+8e+PRN20140909\n",
      "'NoneType' object has no attribute 'text'"
     ]
    },
    {
     "name": "stdout",
     "output_type": "stream",
     "text": [
      " http://www.reuters.com/article/2014/09/09/shell-stopshop-deal-idUSnPn5GmFn5+94+PRN20140909\n",
      "'NoneType' object has no attribute 'text'"
     ]
    },
    {
     "name": "stdout",
     "output_type": "stream",
     "text": [
      " http://www.reuters.com/article/2014/09/09/shellsavewshellgiant-idUSnPn6ZnjVy+92+PRN20140909\n",
      "'NoneType' object has no attribute 'text'"
     ]
    },
    {
     "name": "stdout",
     "output_type": "stream",
     "text": [
      " http://www.reuters.com/article/2014/09/09/bank-of-kentucky-bbt-idUSnPnslwVv+42+PRN20140909\n",
      "'NoneType' object has no attribute 'text'"
     ]
    },
    {
     "name": "stdout",
     "output_type": "stream",
     "text": [
      " http://www.reuters.com/article/2014/09/09/decision-resources-idUSnPn1qZp95+88+PRN20140909\n",
      "'NoneType' object has no attribute 'text'"
     ]
    },
    {
     "name": "stdout",
     "output_type": "stream",
     "text": [
      " http://www.reuters.com/article/2014/09/09/canus-expands-distro-idUSnPn4J2DLF+97+PRN20140909\n",
      "'NoneType' object has no attribute 'text'"
     ]
    },
    {
     "name": "stdout",
     "output_type": "stream",
     "text": [
      " http://www.reuters.com/article/2014/09/09/levi-korsinsky-llp-idUSnPn2Lw1yd+90+PRN20140909\n",
      "'NoneType' object has no attribute 'text'"
     ]
    },
    {
     "name": "stdout",
     "output_type": "stream",
     "text": [
      " http://www.reuters.com/article/2014/09/09/platts-us-gas-product-idUSnPn76RNN8+8e+PRN20140909\n",
      "'NoneType' object has no attribute 'text'"
     ]
    },
    {
     "name": "stdout",
     "output_type": "stream",
     "text": [
      " http://www.reuters.com/article/2014/09/09/ratewatch-cd-rates-idUSnPn5dYKgs+8c+PRN20140909\n",
      "'NoneType' object has no attribute 'text'"
     ]
    },
    {
     "name": "stdout",
     "output_type": "stream",
     "text": [
      " http://www.reuters.com/article/2014/09/09/actrims-ectrims-idUSnPn6kjBMG+87+PRN20140909\n",
      "'NoneType' object has no attribute 'text'"
     ]
    },
    {
     "name": "stdout",
     "output_type": "stream",
     "text": [
      "\n",
      "'NoneType' object has no attribute 'text'"
     ]
    },
    {
     "name": "stdout",
     "output_type": "stream",
     "text": [
      " http://www.reuters.com/article/2014/09/10/il-zacks-powershares-idUSnPnbstxcL+81+PRN20140910\n",
      "2014-09-10"
     ]
    },
    {
     "name": "stdout",
     "output_type": "stream",
     "text": [
      " http://www.reuters.com/article/2014/09/10/coldwell-palace-4sale-idUSnPn1bw4zL+81+PRN20140910\n",
      "'NoneType' object has no attribute 'text'"
     ]
    },
    {
     "name": "stdout",
     "output_type": "stream",
     "text": [
      " http://www.reuters.com/article/2014/09/10/nam-small-biz-study-idUSnPn219fLP+83+PRN20140910\n",
      "'NoneType' object has no attribute 'text'"
     ]
    },
    {
     "name": "stdout",
     "output_type": "stream",
     "text": [
      " http://www.reuters.com/article/2014/09/10/cdd-mobile-payments-idUSnPn4pWxhG+89+PRN20140910\n",
      "'NoneType' object has no attribute 'text'"
     ]
    },
    {
     "name": "stdout",
     "output_type": "stream",
     "text": [
      " http://www.reuters.com/article/2014/09/10/center-health-survey-idUSnPn1ZF3Xw+9a+PRN20140910\n",
      "'NoneType' object has no attribute 'text'"
     ]
    },
    {
     "name": "stdout",
     "output_type": "stream",
     "text": [
      " http://www.reuters.com/article/2014/09/10/alon-usa-energy-idUSnPn4MYt2v+98+PRN20140910\n",
      "'NoneType' object has no attribute 'text'"
     ]
    },
    {
     "name": "stdout",
     "output_type": "stream",
     "text": [
      " http://www.reuters.com/article/2014/09/10/astellasmedivationfda-idUSnPn1DKZLc+9e+PRN20140910\n",
      "'NoneType' object has no attribute 'text'"
     ]
    },
    {
     "name": "stdout",
     "output_type": "stream",
     "text": [
      " http://www.reuters.com/article/2014/09/10/ca-joberator-stem-job-idUSnPn3Fpz9D+91+PRN20140910\n",
      "'NoneType' object has no attribute 'text'"
     ]
    },
    {
     "name": "stdout",
     "output_type": "stream",
     "text": [
      " http://www.reuters.com/article/2014/09/10/bc-investor-edge-idUSnPn5Z2wMs+92+PRN20140910\n",
      "'NoneType' object has no attribute 'text'"
     ]
    },
    {
     "name": "stdout",
     "output_type": "stream",
     "text": [
      " http://www.reuters.com/article/2014/09/10/treasurydept-auctions-idUSnPn7SDCxW+9d+PRN20140910\n",
      "'NoneType' object has no attribute 'text'"
     ]
    },
    {
     "name": "stdout",
     "output_type": "stream",
     "text": [
      " http://www.reuters.com/article/2014/09/10/co-cannasearch-idUSnPn7KcXkC+95+PRN20140910\n",
      "'NoneType' object has no attribute 'text'"
     ]
    },
    {
     "name": "stdout",
     "output_type": "stream",
     "text": [
      " http://www.reuters.com/article/2014/09/10/ccusa-new-svp-varnon-idUSnPn9dtJjF+85+PRN20140910\n",
      "'NoneType' object has no attribute 'text'"
     ]
    },
    {
     "name": "stdout",
     "output_type": "stream",
     "text": [
      "\n",
      "'NoneType' object has no attribute 'text'"
     ]
    },
    {
     "name": "stdout",
     "output_type": "stream",
     "text": [
      " http://www.reuters.com/article/2014/09/11/bvrxfirstresearch-idUSnPn4dfxsR+81+PRN20140911\n",
      "2014-09-11"
     ]
    },
    {
     "name": "stdout",
     "output_type": "stream",
     "text": [
      " http://www.reuters.com/article/2014/09/11/uja-fed-2014-campaign-idUSnPn5qhZJm+86+PRN20140911\n",
      "'NoneType' object has no attribute 'text'"
     ]
    },
    {
     "name": "stdout",
     "output_type": "stream",
     "text": [
      " http://www.reuters.com/article/2014/09/11/sotos-lawsuit-idUSnPn9HTJKD+9f+PRN20140911\n",
      "'NoneType' object has no attribute 'text'"
     ]
    },
    {
     "name": "stdout",
     "output_type": "stream",
     "text": [
      " http://www.reuters.com/article/2014/09/11/md-telecomm-systems-idUSnPn3Tn0nF+91+PRN20140911\n",
      "'NoneType' object has no attribute 'text'"
     ]
    },
    {
     "name": "stdout",
     "output_type": "stream",
     "text": [
      " http://www.reuters.com/article/2014/09/11/saudi-embassy-isis-idUSnPn5k1wy3+80+PRN20140911\n",
      "'NoneType' object has no attribute 'text'"
     ]
    },
    {
     "name": "stdout",
     "output_type": "stream",
     "text": [
      " http://www.reuters.com/article/2014/09/11/rcon-sales-report-idUSnPn5Lwz3N+91+PRN20140911\n",
      "'NoneType' object has no attribute 'text'"
     ]
    },
    {
     "name": "stdout",
     "output_type": "stream",
     "text": [
      " http://www.reuters.com/article/2014/09/11/bc-investor-edge-idUSnPn6Jhvbg+90+PRN20140911\n",
      "'NoneType' object has no attribute 'text'"
     ]
    },
    {
     "name": "stdout",
     "output_type": "stream",
     "text": [
      " http://www.reuters.com/article/2014/09/11/bc-investor-edge-idUSnPn3Mhtx6+90+PRN20140911\n",
      "'NoneType' object has no attribute 'text'"
     ]
    },
    {
     "name": "stdout",
     "output_type": "stream",
     "text": [
      " http://www.reuters.com/article/2014/09/11/zap-and-jonway-auto-idUSnPnc36Gq4+84+PRN20140911\n",
      "'NoneType' object has no attribute 'text'"
     ]
    },
    {
     "name": "stdout",
     "output_type": "stream",
     "text": [
      " http://www.reuters.com/article/2014/09/11/cnsmr-wtchdg-prop-idUSnPn4WZn8j+98+PRN20140911\n",
      "'NoneType' object has no attribute 'text'"
     ]
    },
    {
     "name": "stdout",
     "output_type": "stream",
     "text": [
      " http://www.reuters.com/article/2014/09/11/tmxgrouptradecanada-idUSnPn8Sfl6d+90+PRN20140911\n",
      "'NoneType' object has no attribute 'text'"
     ]
    },
    {
     "name": "stdout",
     "output_type": "stream",
     "text": [
      " http://www.reuters.com/article/2014/09/11/bc-analysts-review-idUSnPn1b4yTb+82+PRN20140911\n",
      "'NoneType' object has no attribute 'text'"
     ]
    },
    {
     "name": "stdout",
     "output_type": "stream",
     "text": [
      "\n",
      "'NoneType' object has no attribute 'text'"
     ]
    },
    {
     "name": "stdout",
     "output_type": "stream",
     "text": [
      " http://www.reuters.com/article/2014/09/12/bc-investor-edge-idUSnPn5pwNM8+86+PRN20140912\n",
      "2014-09-12"
     ]
    },
    {
     "name": "stdout",
     "output_type": "stream",
     "text": [
      " http://www.reuters.com/article/2014/09/12/ny-new-york-co-new-idUSnPn5CNF9W+9d+PRN20140912\n",
      "'NoneType' object has no attribute 'text'"
     ]
    },
    {
     "name": "stdout",
     "output_type": "stream",
     "text": [
      " http://www.reuters.com/article/2014/09/12/tx-us-rareearth-adit-idUSnPn8S19DV+93+PRN20140912\n",
      "'NoneType' object has no attribute 'text'"
     ]
    },
    {
     "name": "stdout",
     "output_type": "stream",
     "text": [
      " http://www.reuters.com/article/2014/09/12/ma-drizly-hires-idUSnPn4LlBP0+96+PRN20140912\n",
      "'NoneType' object has no attribute 'text'"
     ]
    },
    {
     "name": "stdout",
     "output_type": "stream",
     "text": [
      " http://www.reuters.com/article/2014/09/12/bc-investor-edge-idUSnPn58QxjQ+89+PRN20140912\n",
      "'NoneType' object has no attribute 'text'"
     ]
    },
    {
     "name": "stdout",
     "output_type": "stream",
     "text": [
      " http://www.reuters.com/article/2014/09/12/generaldynamics-navy-idUSnPnBRPKp+5e+PRN20140912\n",
      "'NoneType' object has no attribute 'text'"
     ]
    },
    {
     "name": "stdout",
     "output_type": "stream",
     "text": [
      " http://www.reuters.com/article/2014/09/12/ridgecrestpetroglyph-idUSnPn5BFwYK+9b+PRN20140912\n",
      "'NoneType' object has no attribute 'text'"
     ]
    },
    {
     "name": "stdout",
     "output_type": "stream",
     "text": [
      " http://www.reuters.com/article/2014/09/12/loreal-kids-hospital-idUSnPn4SC6By+9a+PRN20140912\n",
      "'NoneType' object has no attribute 'text'"
     ]
    },
    {
     "name": "stdout",
     "output_type": "stream",
     "text": [
      "\n",
      "'NoneType' object has no attribute 'text'"
     ]
    },
    {
     "name": "stdout",
     "output_type": "stream",
     "text": [
      " http://www.reuters.com/article/2014/09/13/ride-2-conquer-cancer-idUSnPnb8bwbS+81+PRN20140913\n",
      "2014-09-13"
     ]
    },
    {
     "name": "stdout",
     "output_type": "stream",
     "text": [
      " http://www.reuters.com/article/2014/09/13/il-eckrich-gossfamily-idUSnPncf2TS9+86+PRN20140913\n",
      "'NoneType' object has no attribute 'text'"
     ]
    },
    {
     "name": "stdout",
     "output_type": "stream",
     "text": [
      " http://www.reuters.com/article/2014/09/13/census-daily-feature-idUSnPn43wRyT+85+PRN20140913\n",
      "'NoneType' object has no attribute 'text'"
     ]
    },
    {
     "name": "stdout",
     "output_type": "stream",
     "text": [
      " http://www.reuters.com/article/2014/09/13/forestersplayground-idUSnPn6JXL4N+9d+PRN20140913\n",
      "'NoneType' object has no attribute 'text'"
     ]
    },
    {
     "name": "stdout",
     "output_type": "stream",
     "text": [
      " http://www.reuters.com/article/2014/09/13/edwdsscncevalvedurabi-idUSnPn12xdl+40+PRN20140913\n",
      "'NoneType' object has no attribute 'text'"
     ]
    },
    {
     "name": "stdout",
     "output_type": "stream",
     "text": [
      "\n",
      "'NoneType' object has no attribute 'text'"
     ]
    },
    {
     "name": "stdout",
     "output_type": "stream",
     "text": [
      " http://www.reuters.com/article/2014/09/14/bc-elbit-imaging-ltd-idUSnPnS7X3d+54+PRN20140914\n",
      "2014-09-14"
     ]
    },
    {
     "name": "stdout",
     "output_type": "stream",
     "text": [
      " http://www.reuters.com/article/2014/09/14/aon-benfield-idUSnPn97n2KS+83+PRN20140914\n",
      "'NoneType' object has no attribute 'text'"
     ]
    },
    {
     "name": "stdout",
     "output_type": "stream",
     "text": [
      " http://www.reuters.com/article/2014/09/14/daily-census-features-idUSnPn5y597N+81+PRN20140914\n",
      "'NoneType' object has no attribute 'text'"
     ]
    },
    {
     "name": "stdout",
     "output_type": "stream",
     "text": [
      " http://www.reuters.com/article/2014/09/15/huya-tipr-med-innov-idUSnPn8Jrf5P+91+PRN20140915\n",
      "'NoneType' object has no attribute 'text'"
     ]
    },
    {
     "name": "stdout",
     "output_type": "stream",
     "text": [
      " http://www.reuters.com/article/2014/09/14/malibu-triathlon-13m-idUSnPncxNrz+44+PRN20140914\n",
      "'NoneType' object has no attribute 'text'"
     ]
    },
    {
     "name": "stdout",
     "output_type": "stream",
     "text": [
      " http://www.reuters.com/article/2014/09/14/nv-hfs-meeting-idUSnPn4Nz13N+91+PRN20140914\n",
      "'NoneType' object has no attribute 'text'"
     ]
    },
    {
     "name": "stdout",
     "output_type": "stream",
     "text": [
      " http://www.reuters.com/article/2014/09/14/campbell-white-paper-idUSnPn5gJ0ck+88+PRN20140914\n",
      "'NoneType' object has no attribute 'text'"
     ]
    },
    {
     "name": "stdout",
     "output_type": "stream",
     "text": [
      "\n",
      "'NoneType' object has no attribute 'text'"
     ]
    },
    {
     "name": "stdout",
     "output_type": "stream",
     "text": [
      " http://www.reuters.com/article/2014/09/15/usw-antidumping-idUSnPn4dFyfg+88+PRN20140915\n",
      "2014-09-15"
     ]
    },
    {
     "name": "stdout",
     "output_type": "stream",
     "text": [
      " http://www.reuters.com/article/2014/09/15/bc-fn-media-group-idUSnPn42gmWq+82+PRN20140915\n",
      "'NoneType' object has no attribute 'text'"
     ]
    },
    {
     "name": "stdout",
     "output_type": "stream",
     "text": [
      " http://www.reuters.com/article/2014/09/15/abota-constitution-idUSnPn8q4SBj+86+PRN20140915\n",
      "'NoneType' object has no attribute 'text'"
     ]
    },
    {
     "name": "stdout",
     "output_type": "stream",
     "text": [
      " http://www.reuters.com/article/2014/09/15/ca-axs-tv-slashbash-idUSnPn9p9ZKf+86+PRN20140915\n",
      "'NoneType' object has no attribute 'text'"
     ]
    },
    {
     "name": "stdout",
     "output_type": "stream",
     "text": [
      " http://www.reuters.com/article/2014/09/15/bc-ranger-offshore-idUSnPnc6MKkN+8d+PRN20140915\n",
      "'NoneType' object has no attribute 'text'"
     ]
    },
    {
     "name": "stdout",
     "output_type": "stream",
     "text": [
      " http://www.reuters.com/article/2014/09/15/brwc-label-agreement-idUSnPnbp8MRx+86+PRN20140915\n",
      "'NoneType' object has no attribute 'text'"
     ]
    },
    {
     "name": "stdout",
     "output_type": "stream",
     "text": [
      " http://www.reuters.com/article/2014/09/15/az-voyainvestmentdiv-idUSnPnbNzT3c+94+PRN20140915\n",
      "'NoneType' object has no attribute 'text'"
     ]
    },
    {
     "name": "stdout",
     "output_type": "stream",
     "text": [
      " http://www.reuters.com/article/2014/09/15/mi-api-navy-contract-idUSnPn9VCbPp+9a+PRN20140915\n",
      "'NoneType' object has no attribute 'text'"
     ]
    },
    {
     "name": "stdout",
     "output_type": "stream",
     "text": [
      " http://www.reuters.com/article/2014/09/15/ny-five-oaks-dividend-idUSnPn4hR88g+88+PRN20140915\n",
      "'NoneType' object has no attribute 'text'"
     ]
    },
    {
     "name": "stdout",
     "output_type": "stream",
     "text": [
      " http://www.reuters.com/article/2014/09/15/i-9-advantage-4hiring-idUSnPn460bNW+83+PRN20140915\n",
      "'NoneType' object has no attribute 'text'"
     ]
    },
    {
     "name": "stdout",
     "output_type": "stream",
     "text": [
      " http://www.reuters.com/article/2014/09/15/atlas-new-start-up-idUSnPn9v7n8W+81+PRN20140915\n",
      "'NoneType' object has no attribute 'text'"
     ]
    },
    {
     "name": "stdout",
     "output_type": "stream",
     "text": [
      " http://www.reuters.com/article/2014/09/15/minerals-development-idUSnPn8QgSTH+97+PRN20140915\n",
      "'NoneType' object has no attribute 'text'"
     ]
    },
    {
     "name": "stdout",
     "output_type": "stream",
     "text": [
      " http://www.reuters.com/article/2014/09/15/dc-bpc-health-report-idUSnPn3MQsq6+98+PRN20140915\n",
      "'NoneType' object has no attribute 'text'"
     ]
    },
    {
     "name": "stdout",
     "output_type": "stream",
     "text": [
      " http://www.reuters.com/article/2014/09/15/ny-farm-viability-idUSnPn8rSPLm+8e+PRN20140915\n",
      "'NoneType' object has no attribute 'text'"
     ]
    },
    {
     "name": "stdout",
     "output_type": "stream",
     "text": [
      "\n",
      "'NoneType' object has no attribute 'text'"
     ]
    },
    {
     "name": "stdout",
     "output_type": "stream",
     "text": [
      " http://www.reuters.com/article/2014/09/16/pff-survey-data-fda-idUSnPn6RGBkQ+9d+PRN20140916\n",
      "2014-09-16"
     ]
    },
    {
     "name": "stdout",
     "output_type": "stream",
     "text": [
      " http://www.reuters.com/article/2014/09/16/ga-citi-vw-creditcard-idUSnPn48CbJr+8a+PRN20140916\n",
      "'NoneType' object has no attribute 'text'"
     ]
    },
    {
     "name": "stdout",
     "output_type": "stream",
     "text": [
      " http://www.reuters.com/article/2014/09/16/burg-smartphonewatch-idUSnPn23VF3G+8d+PRN20140916\n",
      "'NoneType' object has no attribute 'text'"
     ]
    },
    {
     "name": "stdout",
     "output_type": "stream",
     "text": [
      " http://www.reuters.com/article/2014/09/16/startup-institute-idUSnPn2Whz7n+90+PRN20140916\n",
      "'NoneType' object has no attribute 'text'"
     ]
    },
    {
     "name": "stdout",
     "output_type": "stream",
     "text": [
      " http://www.reuters.com/article/2014/09/16/verizon-invests-solar-idUSnPn4rhCv9+84+PRN20140916\n",
      "'NoneType' object has no attribute 'text'"
     ]
    },
    {
     "name": "stdout",
     "output_type": "stream",
     "text": [
      " http://www.reuters.com/article/2014/09/16/usanacarlilloyd-idUSnPn4sHzLN+8b+PRN20140916\n",
      "'NoneType' object has no attribute 'text'"
     ]
    },
    {
     "name": "stdout",
     "output_type": "stream",
     "text": [
      " http://www.reuters.com/article/2014/09/16/bc-investor-edge-idUSnPnjdwMF+43+PRN20140916\n",
      "'NoneType' object has no attribute 'text'"
     ]
    },
    {
     "name": "stdout",
     "output_type": "stream",
     "text": [
      " http://www.reuters.com/article/2014/09/16/oncolytics-ph-2-study-idUSnPn7qNgL4+8a+PRN20140916\n",
      "'NoneType' object has no attribute 'text'"
     ]
    },
    {
     "name": "stdout",
     "output_type": "stream",
     "text": [
      " http://www.reuters.com/article/2014/09/16/ny-tm-hires-svp-idUSnPn5bMhbh+88+PRN20140916\n",
      "'NoneType' object has no attribute 'text'"
     ]
    },
    {
     "name": "stdout",
     "output_type": "stream",
     "text": [
      " http://www.reuters.com/article/2014/09/16/bc-analysts-review-idUSnPn31cTZm+86+PRN20140916\n",
      "'NoneType' object has no attribute 'text'"
     ]
    },
    {
     "name": "stdout",
     "output_type": "stream",
     "text": [
      " http://www.reuters.com/article/2014/09/16/ced-innovators-report-idUSnPn6Jt0jr+90+PRN20140916\n",
      "'NoneType' object has no attribute 'text'"
     ]
    },
    {
     "name": "stdout",
     "output_type": "stream",
     "text": [
      " http://www.reuters.com/article/2014/09/16/bc-investor-edge-idUSnPn1gNW3F+8d+PRN20140916\n",
      "'NoneType' object has no attribute 'text'"
     ]
    },
    {
     "name": "stdout",
     "output_type": "stream",
     "text": [
      " http://www.reuters.com/article/2014/09/16/co-ja-tacobell-fdn-idUSnPn3BdC2r+94+PRN20140916\n",
      "'NoneType' object has no attribute 'text'"
     ]
    },
    {
     "name": "stdout",
     "output_type": "stream",
     "text": [
      "\n",
      "'NoneType' object has no attribute 'text'"
     ]
    },
    {
     "name": "stdout",
     "output_type": "stream",
     "text": [
      " http://www.reuters.com/article/2014/09/17/amcha-hea-ucla-study-idUSnPnrqY55+44+PRN20140917\n",
      "2014-09-17"
     ]
    },
    {
     "name": "stdout",
     "output_type": "stream",
     "text": [
      " http://www.reuters.com/article/2014/09/17/decresources-diabetes-idUSnPn6nslZk+82+PRN20140917\n",
      "'NoneType' object has no attribute 'text'"
     ]
    },
    {
     "name": "stdout",
     "output_type": "stream",
     "text": [
      " http://www.reuters.com/article/2014/09/17/ny-kraneshares-funds-idUSnPn1d8gbD+81+PRN20140917\n",
      "'NoneType' object has no attribute 'text'"
     ]
    },
    {
     "name": "stdout",
     "output_type": "stream",
     "text": [
      " http://www.reuters.com/article/2014/09/17/tetra-pak-names-ceo-idUSnPn84B5ms+88+PRN20140917\n",
      "'NoneType' object has no attribute 'text'"
     ]
    },
    {
     "name": "stdout",
     "output_type": "stream",
     "text": [
      " http://www.reuters.com/article/2014/09/17/ny-ey-recai-published-idUSnPn3cTnSm+8a+PRN20140917\n",
      "'NoneType' object has no attribute 'text'"
     ]
    },
    {
     "name": "stdout",
     "output_type": "stream",
     "text": [
      " http://www.reuters.com/article/2014/09/17/bc-investor-edge-idUSnPn5f995H+81+PRN20140917\n",
      "'NoneType' object has no attribute 'text'"
     ]
    },
    {
     "name": "stdout",
     "output_type": "stream",
     "text": [
      " http://www.reuters.com/article/2014/09/17/bc-analysts-review-idUSnPn19f56v+80+PRN20140917\n",
      "'NoneType' object has no attribute 'text'"
     ]
    },
    {
     "name": "stdout",
     "output_type": "stream",
     "text": [
      " http://www.reuters.com/article/2014/09/17/tx-honeywell-new-tech-idUSnPn7LFZpq+9c+PRN20140917\n",
      "'NoneType' object has no attribute 'text'"
     ]
    },
    {
     "name": "stdout",
     "output_type": "stream",
     "text": [
      " http://www.reuters.com/article/2014/09/17/brwc-cofco-agreement-idUSnPncdqj28+80+PRN20140917\n",
      "'NoneType' object has no attribute 'text'"
     ]
    },
    {
     "name": "stdout",
     "output_type": "stream",
     "text": [
      " http://www.reuters.com/article/2014/09/17/tbm-council-awards-idUSnPn9byzWv+82+PRN20140917\n",
      "'NoneType' object has no attribute 'text'"
     ]
    },
    {
     "name": "stdout",
     "output_type": "stream",
     "text": [
      "\n",
      "'NoneType' object has no attribute 'text'"
     ]
    },
    {
     "name": "stdout",
     "output_type": "stream",
     "text": [
      " http://www.reuters.com/article/2014/09/18/adp-workforce-index-idUSnPn5N61BC+93+PRN20140918\n",
      "2014-09-18"
     ]
    },
    {
     "name": "stdout",
     "output_type": "stream",
     "text": [
      " http://www.reuters.com/article/2014/09/18/squaretrade-study-idUSnPnLKvDY+5b+PRN20140918\n",
      "'NoneType' object has no attribute 'text'"
     ]
    },
    {
     "name": "stdout",
     "output_type": "stream",
     "text": [
      " http://www.reuters.com/article/2014/09/18/us-newsworld-report-idUSnPnb4Fqtv+88+PRN20140918\n",
      "'NoneType' object has no attribute 'text'"
     ]
    },
    {
     "name": "stdout",
     "output_type": "stream",
     "text": [
      " http://www.reuters.com/article/2014/09/18/women-moving-millions-idUSnPn5CMJSx+9e+PRN20140918\n",
      "'NoneType' object has no attribute 'text'"
     ]
    },
    {
     "name": "stdout",
     "output_type": "stream",
     "text": [
      " http://www.reuters.com/article/2014/09/18/lcanpuertoricoclimate-idUSnPn83rZmq+84+PRN20140918\n",
      "'NoneType' object has no attribute 'text'"
     ]
    },
    {
     "name": "stdout",
     "output_type": "stream",
     "text": [
      " http://www.reuters.com/article/2014/09/18/decisionresources-svy-idUSnPn1BkQVm+96+PRN20140918\n",
      "'NoneType' object has no attribute 'text'"
     ]
    },
    {
     "name": "stdout",
     "output_type": "stream",
     "text": [
      " http://www.reuters.com/article/2014/09/18/rbc-us-wealth-report-idUSnPn4Csn4Q+91+PRN20140918\n",
      "'NoneType' object has no attribute 'text'"
     ]
    },
    {
     "name": "stdout",
     "output_type": "stream",
     "text": [
      " http://www.reuters.com/article/2014/09/18/ga-homedepot-malware-idUSnPn1BTBsr+9c+PRN20140918\n",
      "'NoneType' object has no attribute 'text'"
     ]
    },
    {
     "name": "stdout",
     "output_type": "stream",
     "text": [
      " http://www.reuters.com/article/2014/09/18/va-general-dynamics-idUSnPn1nt487+80+PRN20140918\n",
      "'NoneType' object has no attribute 'text'"
     ]
    },
    {
     "name": "stdout",
     "output_type": "stream",
     "text": [
      " http://www.reuters.com/article/2014/09/18/eurostar-london-paris-idUSnPn6hHVHz+8e+PRN20140918\n",
      "'NoneType' object has no attribute 'text'"
     ]
    },
    {
     "name": "stdout",
     "output_type": "stream",
     "text": [
      " http://www.reuters.com/article/2014/09/18/decisionresources-svy-idUSnPnJJ34W+59+PRN20140918\n",
      "'NoneType' object has no attribute 'text'"
     ]
    },
    {
     "name": "stdout",
     "output_type": "stream",
     "text": [
      " http://www.reuters.com/article/2014/09/18/ca-ldk-solar-plan-idUSnPn4LQ4CH+9b+PRN20140918\n",
      "'NoneType' object has no attribute 'text'"
     ]
    },
    {
     "name": "stdout",
     "output_type": "stream",
     "text": [
      "\n",
      "'NoneType' object has no attribute 'text'"
     ]
    },
    {
     "name": "stdout",
     "output_type": "stream",
     "text": [
      " http://www.reuters.com/article/2014/09/19/save-children-senate-idUSnPn8SPzRf+9a+PRN20140919\n",
      "2014-09-19"
     ]
    },
    {
     "name": "stdout",
     "output_type": "stream",
     "text": [
      " http://www.reuters.com/article/2014/09/19/ca-livenation-usarmy-idUSnPn6WbvMZ+93+PRN20140919\n",
      "'NoneType' object has no attribute 'text'"
     ]
    },
    {
     "name": "stdout",
     "output_type": "stream",
     "text": [
      " http://www.reuters.com/article/2014/09/19/il-zacks-bullandbear-idUSnPnZ3FHd+56+PRN20140919\n",
      "'NoneType' object has no attribute 'text'"
     ]
    },
    {
     "name": "stdout",
     "output_type": "stream",
     "text": [
      " http://www.reuters.com/article/2014/09/19/bgc-globalcapitalawrd-idUSnPn4lQ5DL+8b+PRN20140919\n",
      "'NoneType' object has no attribute 'text'"
     ]
    },
    {
     "name": "stdout",
     "output_type": "stream",
     "text": [
      " http://www.reuters.com/article/2014/09/19/ca-ihealth-lab-inc-idUSnPn7WCSVl+9e+PRN20140919\n",
      "'NoneType' object has no attribute 'text'"
     ]
    },
    {
     "name": "stdout",
     "output_type": "stream",
     "text": [
      " http://www.reuters.com/article/2014/09/19/ny-conferencebrd-lei-idUSnPn7x25gc+80+PRN20140919\n",
      "'NoneType' object has no attribute 'text'"
     ]
    },
    {
     "name": "stdout",
     "output_type": "stream",
     "text": [
      " http://www.reuters.com/article/2014/09/20/ny-wealth-x-alibaba-idUSnPn8757Zj+82+PRN20140920\n",
      "'NoneType' object has no attribute 'text'"
     ]
    },
    {
     "name": "stdout",
     "output_type": "stream",
     "text": [
      " http://www.reuters.com/article/2014/09/20/tx-fhlb-four-rivers-idUSnPn23l4rs+80+PRN20140920\n",
      "'NoneType' object has no attribute 'text'"
     ]
    },
    {
     "name": "stdout",
     "output_type": "stream",
     "text": [
      " http://www.reuters.com/article/2014/09/19/nma-serogroupb-vaccin-idUSnPn171Flq+84+PRN20140919\n",
      "'NoneType' object has no attribute 'text'"
     ]
    },
    {
     "name": "stdout",
     "output_type": "stream",
     "text": [
      " http://www.reuters.com/article/2014/09/19/il-zacks-investment-idUSnPn1ccgQL+83+PRN20140919\n",
      "'NoneType' object has no attribute 'text'"
     ]
    },
    {
     "name": "stdout",
     "output_type": "stream",
     "text": [
      "\n",
      "'NoneType' object has no attribute 'text'"
     ]
    },
    {
     "name": "stdout",
     "output_type": "stream",
     "text": [
      " http://www.reuters.com/article/2014/09/20/census-daily-feature-idUSnPn5PFtXM+9b+PRN20140920\n",
      "2014-09-20"
     ]
    },
    {
     "name": "stdout",
     "output_type": "stream",
     "text": [
      " http://www.reuters.com/article/2014/09/20/alcoholjustice-fball-idUSnPnbNhr3R+91+PRN20140920\n",
      "'NoneType' object has no attribute 'text'"
     ]
    },
    {
     "name": "stdout",
     "output_type": "stream",
     "text": [
      " http://www.reuters.com/article/2014/09/20/ny-reeve-foundation-idUSnPn2JtW2P+95+PRN20140920\n",
      "'NoneType' object has no attribute 'text'"
     ]
    },
    {
     "name": "stdout",
     "output_type": "stream",
     "text": [
      " http://www.reuters.com/article/2014/09/20/brodskysmith-sharehol-idUSnPn3B3sSt+92+PRN20140920\n",
      "'NoneType' object has no attribute 'text'"
     ]
    },
    {
     "name": "stdout",
     "output_type": "stream",
     "text": [
      " http://www.reuters.com/article/2014/09/20/dc-nasa-mars-challeng-idUSnPnbY4K0S+95+PRN20140920\n",
      "'NoneType' object has no attribute 'text'"
     ]
    },
    {
     "name": "stdout",
     "output_type": "stream",
     "text": [
      " http://www.reuters.com/article/2014/09/21/tx-srt-motorsports-idUSnPn9lpdG1+82+PRN20140921\n",
      "'NoneType' object has no attribute 'text'"
     ]
    },
    {
     "name": "stdout",
     "output_type": "stream",
     "text": [
      " http://www.reuters.com/article/2014/09/20/ca-consumerwatchdog-idUSnPn76ysg7+80+PRN20140920\n",
      "'NoneType' object has no attribute 'text'"
     ]
    },
    {
     "name": "stdout",
     "output_type": "stream",
     "text": [
      " http://www.reuters.com/article/2014/09/20/md-csx-plant-trees-idUSnPn7cJCLj+8e+PRN20140920\n",
      "'NoneType' object has no attribute 'text'"
     ]
    },
    {
     "name": "stdout",
     "output_type": "stream",
     "text": [
      "\n",
      "'NoneType' object has no attribute 'text'"
     ]
    },
    {
     "name": "stdout",
     "output_type": "stream",
     "text": [
      " http://www.reuters.com/article/2014/09/21/bc-tat-idUSnPnhKF6f+4c+PRN20140921\n",
      "2014-09-21"
     ]
    },
    {
     "name": "stdout",
     "output_type": "stream",
     "text": [
      " http://www.reuters.com/article/2014/09/21/ny-morn-methodology-idUSnPn9tykr2+80+PRN20140921\n",
      "'NoneType' object has no attribute 'text'"
     ]
    },
    {
     "name": "stdout",
     "output_type": "stream",
     "text": [
      " http://www.reuters.com/article/2014/09/21/census-daily-feature-idUSnPn1Gn15g+90+PRN20140921\n",
      "'NoneType' object has no attribute 'text'"
     ]
    },
    {
     "name": "stdout",
     "output_type": "stream",
     "text": [
      " http://www.reuters.com/article/2014/09/21/dresser-rand-siemens-idUSnPn3dXGpL+8d+PRN20140921\n",
      "'NoneType' object has no attribute 'text'"
     ]
    },
    {
     "name": "stdout",
     "output_type": "stream",
     "text": [
      " http://www.reuters.com/article/2014/09/21/fattah-septa-projects-idUSnPnFPW4y+5c+PRN20140921\n",
      "'NoneType' object has no attribute 'text'"
     ]
    },
    {
     "name": "stdout",
     "output_type": "stream",
     "text": [
      " http://www.reuters.com/article/2014/09/21/robert-weiner-op-ed-idUSnPnc10Ykz+84+PRN20140921\n",
      "'NoneType' object has no attribute 'text'"
     ]
    },
    {
     "name": "stdout",
     "output_type": "stream",
     "text": [
      " http://www.reuters.com/article/2014/09/21/chinasoft-agreement-idUSnPn114HDG+87+PRN20140921\n",
      "'NoneType' object has no attribute 'text'"
     ]
    },
    {
     "name": "stdout",
     "output_type": "stream",
     "text": [
      "\n",
      "'NoneType' object has no attribute 'text'"
     ]
    },
    {
     "name": "stdout",
     "output_type": "stream",
     "text": [
      " http://www.reuters.com/article/2014/09/23/inretail-senior-notes-idUSnPn7Kqh08+90+PRN20140923\n",
      "2014-09-22"
     ]
    },
    {
     "name": "stdout",
     "output_type": "stream",
     "text": [
      " http://www.reuters.com/article/2014/09/22/bc-investor-edge-idUSnPn3qS5cb+88+PRN20140922\n",
      "'NoneType' object has no attribute 'text'"
     ]
    },
    {
     "name": "stdout",
     "output_type": "stream",
     "text": [
      " http://www.reuters.com/article/2014/09/22/ok-oks-new-facilities-idUSnPn4Cz4RR+93+PRN20140922\n",
      "'NoneType' object has no attribute 'text'"
     ]
    },
    {
     "name": "stdout",
     "output_type": "stream",
     "text": [
      " http://www.reuters.com/article/2014/09/22/eva-mendes-collection-idUSnPn3DLq0N+99+PRN20140922\n",
      "'NoneType' object has no attribute 'text'"
     ]
    },
    {
     "name": "stdout",
     "output_type": "stream",
     "text": [
      " http://www.reuters.com/article/2014/09/22/il-zacks-analystblog-idUSnPn4X0Y0J+95+PRN20140922\n",
      "'NoneType' object has no attribute 'text'"
     ]
    },
    {
     "name": "stdout",
     "output_type": "stream",
     "text": [
      " http://www.reuters.com/article/2014/09/22/americanu-prof-on-gdb-idUSnPn6dDZs0+8c+PRN20140922\n",
      "'NoneType' object has no attribute 'text'"
     ]
    },
    {
     "name": "stdout",
     "output_type": "stream",
     "text": [
      " http://www.reuters.com/article/2014/09/22/avalon-ventures-idUSnPn5LSN5x+9c+PRN20140922\n",
      "'NoneType' object has no attribute 'text'"
     ]
    },
    {
     "name": "stdout",
     "output_type": "stream",
     "text": [
      " http://www.reuters.com/article/2014/09/22/pga-rydercup-donates-idUSnPndpjd1+40+PRN20140922\n",
      "'NoneType' object has no attribute 'text'"
     ]
    },
    {
     "name": "stdout",
     "output_type": "stream",
     "text": [
      " http://www.reuters.com/article/2014/09/22/bc-investor-edge-idUSnPnbPW6DY+9b+PRN20140922\n",
      "'NoneType' object has no attribute 'text'"
     ]
    },
    {
     "name": "stdout",
     "output_type": "stream",
     "text": [
      " http://www.reuters.com/article/2014/09/22/fl-jeffrey-feiler-law-idUSnPn96zJXw+86+PRN20140922\n",
      "'NoneType' object has no attribute 'text'"
     ]
    },
    {
     "name": "stdout",
     "output_type": "stream",
     "text": [
      " http://www.reuters.com/article/2014/09/22/md-sodexo-smallbiz-idUSnPnc7Phcy+88+PRN20140922\n",
      "'NoneType' object has no attribute 'text'"
     ]
    },
    {
     "name": "stdout",
     "output_type": "stream",
     "text": [
      " http://www.reuters.com/article/2014/09/22/bc-analysts-review-idUSnPn4BhBGn+96+PRN20140922\n",
      "'NoneType' object has no attribute 'text'"
     ]
    },
    {
     "name": "stdout",
     "output_type": "stream",
     "text": [
      "\n",
      "'NoneType' object has no attribute 'text'"
     ]
    },
    {
     "name": "stdout",
     "output_type": "stream",
     "text": [
      " http://www.reuters.com/article/2014/09/23/ut-attaskusfda-idUSnPn6yS2SP+8b+PRN20140923\n",
      "2014-09-23"
     ]
    },
    {
     "name": "stdout",
     "output_type": "stream",
     "text": [
      " http://www.reuters.com/article/2014/09/23/il-zacks-investment-idUSnPn9NJsgR+99+PRN20140923\n",
      "'NoneType' object has no attribute 'text'"
     ]
    },
    {
     "name": "stdout",
     "output_type": "stream",
     "text": [
      " http://www.reuters.com/article/2014/09/23/bc-financial-news-media-idUSnPn9FpSWy+96+PRN20140923\n",
      "'NoneType' object has no attribute 'text'"
     ]
    },
    {
     "name": "stdout",
     "output_type": "stream",
     "text": [
      " http://www.reuters.com/article/2014/09/23/ny-usnews-axa-idUSnPn8lPLVl+8e+PRN20140923\n",
      "'NoneType' object has no attribute 'text'"
     ]
    },
    {
     "name": "stdout",
     "output_type": "stream",
     "text": [
      " http://www.reuters.com/article/2014/09/23/decision-resources-idUSnPn6CCmc0+98+PRN20140923\n",
      "'NoneType' object has no attribute 'text'"
     ]
    },
    {
     "name": "stdout",
     "output_type": "stream",
     "text": [
      " http://www.reuters.com/article/2014/09/23/gametime-raises-4m-idUSnPn5gfsjy+80+PRN20140923\n",
      "'NoneType' object has no attribute 'text'"
     ]
    },
    {
     "name": "stdout",
     "output_type": "stream",
     "text": [
      " http://www.reuters.com/article/2014/09/23/ca-si-bone-patent-idUSnPn4Tjjpc+90+PRN20140923\n",
      "'NoneType' object has no attribute 'text'"
     ]
    },
    {
     "name": "stdout",
     "output_type": "stream",
     "text": [
      " http://www.reuters.com/article/2014/09/23/social-media-will-idUSnPn1lPbmL+89+PRN20140923\n",
      "'NoneType' object has no attribute 'text'"
     ]
    },
    {
     "name": "stdout",
     "output_type": "stream",
     "text": [
      " http://www.reuters.com/article/2014/09/23/hgstdatasurveyresults-idUSnPnbwg8BQ+83+PRN20140923\n",
      "'NoneType' object has no attribute 'text'"
     ]
    },
    {
     "name": "stdout",
     "output_type": "stream",
     "text": [
      " http://www.reuters.com/article/2014/09/23/365-data-center-cloud-idUSnPn1kscZK+83+PRN20140923\n",
      "'NoneType' object has no attribute 'text'"
     ]
    },
    {
     "name": "stdout",
     "output_type": "stream",
     "text": [
      " http://www.reuters.com/article/2014/09/23/bc-payitsimple-idUSnPn7Czk7x+90+PRN20140923\n",
      "'NoneType' object has no attribute 'text'"
     ]
    },
    {
     "name": "stdout",
     "output_type": "stream",
     "text": [
      "\n",
      "'NoneType' object has no attribute 'text'"
     ]
    },
    {
     "name": "stdout",
     "output_type": "stream",
     "text": [
      " http://www.reuters.com/article/2014/09/24/ad-council-new-psa-idUSnPn9MFt04+98+PRN20140924\n",
      "2014-09-24"
     ]
    },
    {
     "name": "stdout",
     "output_type": "stream",
     "text": [
      " http://www.reuters.com/article/2014/09/24/ahp-healthcare-giving-idUSnPn42q1XZ+83+PRN20140924\n",
      "'NoneType' object has no attribute 'text'"
     ]
    },
    {
     "name": "stdout",
     "output_type": "stream",
     "text": [
      " http://www.reuters.com/article/2014/09/24/american-capital-ace-idUSnPn8JHx6N+99+PRN20140924\n",
      "'NoneType' object has no attribute 'text'"
     ]
    },
    {
     "name": "stdout",
     "output_type": "stream",
     "text": [
      " http://www.reuters.com/article/2014/09/24/atlasnetworktempleton-idUSnPn3hkSmw+84+PRN20140924\n",
      "'NoneType' object has no attribute 'text'"
     ]
    },
    {
     "name": "stdout",
     "output_type": "stream",
     "text": [
      " http://www.reuters.com/article/2014/09/24/bc-investor-edge-idUSnPn52ZxrC+89+PRN20140924\n",
      "'NoneType' object has no attribute 'text'"
     ]
    },
    {
     "name": "stdout",
     "output_type": "stream",
     "text": [
      " http://www.reuters.com/article/2014/09/24/siam-idUSnPn40v396+80+PRN20140924\n",
      "'NoneType' object has no attribute 'text'"
     ]
    },
    {
     "name": "stdout",
     "output_type": "stream",
     "text": [
      " http://www.reuters.com/article/2014/09/24/imani-michelle-scott-idUSnPn5lbKwB+85+PRN20140924\n",
      "'NoneType' object has no attribute 'text'"
     ]
    },
    {
     "name": "stdout",
     "output_type": "stream",
     "text": [
      " http://www.reuters.com/article/2014/09/24/nj-wyborowa-wodka-us-idUSnPn1Q26k5+90+PRN20140924\n",
      "'NoneType' object has no attribute 'text'"
     ]
    },
    {
     "name": "stdout",
     "output_type": "stream",
     "text": [
      " http://www.reuters.com/article/2014/09/24/sc-captainsquarters-idUSnPn5XT3rh+98+PRN20140924\n",
      "'NoneType' object has no attribute 'text'"
     ]
    },
    {
     "name": "stdout",
     "output_type": "stream",
     "text": [
      " http://www.reuters.com/article/2014/09/24/lifshitzmiller-invest-idUSnPnbPPPFJ+9f+PRN20140924\n",
      "'NoneType' object has no attribute 'text'"
     ]
    },
    {
     "name": "stdout",
     "output_type": "stream",
     "text": [
      " http://www.reuters.com/article/2014/09/24/yopro-vikings-fuel-up-idUSnPnGHTrj+5c+PRN20140924\n",
      "'NoneType' object has no attribute 'text'"
     ]
    },
    {
     "name": "stdout",
     "output_type": "stream",
     "text": [
      "\n",
      "'NoneType' object has no attribute 'text'"
     ]
    },
    {
     "name": "stdout",
     "output_type": "stream",
     "text": [
      " http://www.reuters.com/article/2014/09/25/ny-bank-of-ny-mellon-idUSnPnb9h7M3+82+PRN20140925\n",
      "2014-09-25"
     ]
    },
    {
     "name": "stdout",
     "output_type": "stream",
     "text": [
      " http://www.reuters.com/article/2014/09/25/c3internationalsummit-idUSnPn98gCGs+86+PRN20140925\n",
      "'NoneType' object has no attribute 'text'"
     ]
    },
    {
     "name": "stdout",
     "output_type": "stream",
     "text": [
      " http://www.reuters.com/article/2014/09/25/ca-jd-power-idUSnPn6CD8bv+98+PRN20140925\n",
      "'NoneType' object has no attribute 'text'"
     ]
    },
    {
     "name": "stdout",
     "output_type": "stream",
     "text": [
      " http://www.reuters.com/article/2014/09/25/bc-investor-edge-idUSnPn7g8rwz+80+PRN20140925\n",
      "'NoneType' object has no attribute 'text'"
     ]
    },
    {
     "name": "stdout",
     "output_type": "stream",
     "text": [
      " http://www.reuters.com/article/2014/09/25/il-zacks-investments-idUSnPn2q4M6l+84+PRN20140925\n",
      "'NoneType' object has no attribute 'text'"
     ]
    },
    {
     "name": "stdout",
     "output_type": "stream",
     "text": [
      " http://www.reuters.com/article/2014/09/25/goes-dumping-doc-idUSnPn29tyjl+80+PRN20140925\n",
      "'NoneType' object has no attribute 'text'"
     ]
    },
    {
     "name": "stdout",
     "output_type": "stream",
     "text": [
      " http://www.reuters.com/article/2014/09/25/britvic-flavor-us-idUSnPnc8Ybrj+88+PRN20140925\n",
      "'NoneType' object has no attribute 'text'"
     ]
    },
    {
     "name": "stdout",
     "output_type": "stream",
     "text": [
      " http://www.reuters.com/article/2014/09/25/il-abbvie-idUSnPn7pTd2q+88+PRN20140925\n",
      "'NoneType' object has no attribute 'text'"
     ]
    },
    {
     "name": "stdout",
     "output_type": "stream",
     "text": [
      " http://www.reuters.com/article/2014/09/25/tva-power-bond-idUSnPn1FHcJN+9b+PRN20140925\n",
      "'NoneType' object has no attribute 'text'"
     ]
    },
    {
     "name": "stdout",
     "output_type": "stream",
     "text": [
      " http://www.reuters.com/article/2014/09/25/bc-investor-edge-idUSnPn2f42kB+81+PRN20140925\n",
      "'NoneType' object has no attribute 'text'"
     ]
    },
    {
     "name": "stdout",
     "output_type": "stream",
     "text": [
      "\n",
      "'NoneType' object has no attribute 'text'"
     ]
    },
    {
     "name": "stdout",
     "output_type": "stream",
     "text": [
      " http://www.reuters.com/article/2014/09/26/bc-investor-edge-idUSnPn17Xz5k+88+PRN20140926\n",
      "2014-09-26"
     ]
    },
    {
     "name": "stdout",
     "output_type": "stream",
     "text": [
      " http://www.reuters.com/article/2014/09/26/bc-analysts-review-idUSnPn5ltz9g+80+PRN20140926\n",
      "'NoneType' object has no attribute 'text'"
     ]
    },
    {
     "name": "stdout",
     "output_type": "stream",
     "text": [
      " http://www.reuters.com/article/2014/09/26/generaldynam-contract-idUSnPnq2BMW+47+PRN20140926\n",
      "'NoneType' object has no attribute 'text'"
     ]
    },
    {
     "name": "stdout",
     "output_type": "stream",
     "text": [
      " http://www.reuters.com/article/2014/09/26/powersecure-ui-biz-idUSnPn23qz0W+81+PRN20140926\n",
      "'NoneType' object has no attribute 'text'"
     ]
    },
    {
     "name": "stdout",
     "output_type": "stream",
     "text": [
      " http://www.reuters.com/article/2014/09/26/ritchie-bros-qc-tx-idUSnPn87LRfd+8c+PRN20140926\n",
      "'NoneType' object has no attribute 'text'"
     ]
    },
    {
     "name": "stdout",
     "output_type": "stream",
     "text": [
      " http://www.reuters.com/article/2014/09/26/bc-investor-edge-idUSnPn36rPDQ+87+PRN20140926\n",
      "'NoneType' object has no attribute 'text'"
     ]
    },
    {
     "name": "stdout",
     "output_type": "stream",
     "text": [
      " http://www.reuters.com/article/2014/09/26/il-zacks-investment-idUSnPn2FhXrm+94+PRN20140926\n",
      "'NoneType' object has no attribute 'text'"
     ]
    },
    {
     "name": "stdout",
     "output_type": "stream",
     "text": [
      " http://www.reuters.com/article/2014/09/27/nathans-readysetplay-idUSnPn8fd3VY+83+PRN20140927\n",
      "2014-09-27\n",
      "'NoneType' object has no attribute 'text'"
     ]
    },
    {
     "name": "stdout",
     "output_type": "stream",
     "text": [
      " http://www.reuters.com/article/2014/09/27/ma-emd-serono-grant-idUSnPnQpXnV+55+PRN20140927\n",
      "'NoneType' object has no attribute 'text'"
     ]
    },
    {
     "name": "stdout",
     "output_type": "stream",
     "text": [
      " http://www.reuters.com/article/2014/09/27/il-abbv-veliparib-idUSnPn6QbbqT+91+PRN20140927\n",
      "'NoneType' object has no attribute 'text'"
     ]
    },
    {
     "name": "stdout",
     "output_type": "stream",
     "text": [
      " http://www.reuters.com/article/2014/09/27/census-daily-feature-idUSnPn8XHFf1+9c+PRN20140927\n",
      "'NoneType' object has no attribute 'text'"
     ]
    },
    {
     "name": "stdout",
     "output_type": "stream",
     "text": [
      " http://www.reuters.com/article/2014/09/27/shopkick-joins-sk-idUSnPnNBb8+2c+PRN20140927\n",
      "'NoneType' object has no attribute 'text'"
     ]
    },
    {
     "name": "stdout",
     "output_type": "stream",
     "text": [
      " http://www.reuters.com/article/2014/09/27/donracks-new-website-idUSnPnbpDQY6+8e+PRN20140927\n",
      "'NoneType' object has no attribute 'text'"
     ]
    },
    {
     "name": "stdout",
     "output_type": "stream",
     "text": [
      " http://www.reuters.com/article/2014/09/27/nj-novartis-afinitor-idUSnPn4gwqlj+80+PRN20140927\n",
      "'NoneType' object has no attribute 'text'"
     ]
    },
    {
     "name": "stdout",
     "output_type": "stream",
     "text": [
      " http://www.reuters.com/article/2014/09/28/ny-wateraid-hm-fest-idUSnPn720bGm+82+PRN20140928\n",
      "'NoneType' object has no attribute 'text'"
     ]
    },
    {
     "name": "stdout",
     "output_type": "stream",
     "text": [
      "\n",
      "'NoneType' object has no attribute 'text'"
     ]
    },
    {
     "name": "stdout",
     "output_type": "stream",
     "text": [
      " http://www.reuters.com/article/2014/09/28/ca-ama-awards-idUSnPn1XC7ML+9b+PRN20140928\n",
      "2014-09-28"
     ]
    },
    {
     "name": "stdout",
     "output_type": "stream",
     "text": [
      " http://www.reuters.com/article/2014/09/29/cn-ecmmce-logistics-idUSnPn6cm4sw+80+PRN20140929\n",
      "'NoneType' object has no attribute 'text'"
     ]
    },
    {
     "name": "stdout",
     "output_type": "stream",
     "text": [
      " http://www.reuters.com/article/2014/09/28/janssen-zytiga-appr-idUSnPn9ShQ3C+95+PRN20140928\n",
      "'NoneType' object has no attribute 'text'"
     ]
    },
    {
     "name": "stdout",
     "output_type": "stream",
     "text": [
      " http://www.reuters.com/article/2014/09/28/huy-vietnam-series-b-idUSnPn9k8PkX+85+PRN20140928\n",
      "'NoneType' object has no attribute 'text'"
     ]
    },
    {
     "name": "stdout",
     "output_type": "stream",
     "text": [
      " http://www.reuters.com/article/2014/09/28/census-daily-feature-idUSnPn89t3gS+81+PRN20140928\n",
      "'NoneType' object has no attribute 'text'"
     ]
    },
    {
     "name": "stdout",
     "output_type": "stream",
     "text": [
      " http://www.reuters.com/article/2014/09/28/elbitimgng-refinance-idUSnPnbsT47x+88+PRN20140928\n",
      "'NoneType' object has no attribute 'text'"
     ]
    },
    {
     "name": "stdout",
     "output_type": "stream",
     "text": [
      " http://www.reuters.com/article/2014/09/29/ca-eemwrldusa-masters-idUSnPnbCDC4q+9c+PRN20140929\n",
      "'NoneType' object has no attribute 'text'"
     ]
    },
    {
     "name": "stdout",
     "output_type": "stream",
     "text": [
      " http://www.reuters.com/article/2014/09/28/va-mythics-awarded-idUSnPn7ZZT8f+9c+PRN20140928\n",
      "'NoneType' object has no attribute 'text'"
     ]
    },
    {
     "name": "stdout",
     "output_type": "stream",
     "text": [
      " http://www.reuters.com/article/2014/09/28/freelancer-mobile-app-idUSnPnbR4WVb+96+PRN20140928\n",
      "'NoneType' object has no attribute 'text'"
     ]
    },
    {
     "name": "stdout",
     "output_type": "stream",
     "text": [
      " http://www.reuters.com/article/2014/09/28/airchina-lines-new-se-idUSnPn79KYVy+8e+PRN20140928\n",
      "'NoneType' object has no attribute 'text'"
     ]
    },
    {
     "name": "stdout",
     "output_type": "stream",
     "text": [
      "\n",
      "'NoneType' object has no attribute 'text'"
     ]
    },
    {
     "name": "stdout",
     "output_type": "stream",
     "text": [
      " http://www.reuters.com/article/2014/09/29/ny-collegenewrochelle-idUSnPn8p0TDr+86+PRN20140929\n",
      "2014-09-29"
     ]
    },
    {
     "name": "stdout",
     "output_type": "stream",
     "text": [
      " http://www.reuters.com/article/2014/09/29/creditkarma-75m-idUSnPn6JTyPW+9b+PRN20140929\n",
      "'NoneType' object has no attribute 'text'"
     ]
    },
    {
     "name": "stdout",
     "output_type": "stream",
     "text": [
      " http://www.reuters.com/article/2014/09/29/ey-women-entrepreneur-idUSnPn2bD5vy+88+PRN20140929\n",
      "'NoneType' object has no attribute 'text'"
     ]
    },
    {
     "name": "stdout",
     "output_type": "stream",
     "text": [
      " http://www.reuters.com/article/2014/09/29/securitas-security-idUSnPn9TfNpP+95+PRN20140929\n",
      "'NoneType' object has no attribute 'text'"
     ]
    },
    {
     "name": "stdout",
     "output_type": "stream",
     "text": [
      " http://www.reuters.com/article/2014/09/29/roxgold-miningcontrct-idUSnPn67ggVB+83+PRN20140929\n",
      "'NoneType' object has no attribute 'text'"
     ]
    },
    {
     "name": "stdout",
     "output_type": "stream",
     "text": [
      " http://www.reuters.com/article/2014/09/29/cantel-medical-earns-idUSnPnbqvbqW+81+PRN20140929\n",
      "'NoneType' object has no attribute 'text'"
     ]
    },
    {
     "name": "stdout",
     "output_type": "stream",
     "text": [
      " http://www.reuters.com/article/2014/09/29/dairy-market-canada-idUSnPn8xQhLw+8a+PRN20140929\n",
      "'NoneType' object has no attribute 'text'"
     ]
    },
    {
     "name": "stdout",
     "output_type": "stream",
     "text": [
      " http://www.reuters.com/article/2014/09/29/nhfa-nochedegala-awrd-idUSnPn5ZGkv1+98+PRN20140929\n",
      "'NoneType' object has no attribute 'text'"
     ]
    },
    {
     "name": "stdout",
     "output_type": "stream",
     "text": [
      " http://www.reuters.com/article/2014/09/29/bc-atox-bio-idUSnPnshx6N+41+PRN20140929\n",
      "'NoneType' object has no attribute 'text'"
     ]
    },
    {
     "name": "stdout",
     "output_type": "stream",
     "text": [
      " http://www.reuters.com/article/2014/09/29/nanomarkets-report-idUSnPn7Zj3YT+93+PRN20140929\n",
      "'NoneType' object has no attribute 'text'"
     ]
    },
    {
     "name": "stdout",
     "output_type": "stream",
     "text": [
      " http://www.reuters.com/article/2014/09/29/bc-analysts-review-idUSnPn5DrpCl+92+PRN20140929\n",
      "'NoneType' object has no attribute 'text'"
     ]
    },
    {
     "name": "stdout",
     "output_type": "stream",
     "text": [
      " http://www.reuters.com/article/2014/09/29/packaged-facts-meat-idUSnPn4n0bxc+80+PRN20140929\n",
      "'NoneType' object has no attribute 'text'"
     ]
    },
    {
     "name": "stdout",
     "output_type": "stream",
     "text": [
      " http://www.reuters.com/article/2014/09/29/bc-investor-edge-idUSnPn1JNZH1+9e+PRN20140929\n",
      "'NoneType' object has no attribute 'text'"
     ]
    },
    {
     "name": "stdout",
     "output_type": "stream",
     "text": [
      " http://www.reuters.com/article/2014/09/29/aarp-mag-interview-idUSnPn1qZ7Rm+8a+PRN20140929\n",
      "'NoneType' object has no attribute 'text'"
     ]
    },
    {
     "name": "stdout",
     "output_type": "stream",
     "text": [
      "\n",
      "'NoneType' object has no attribute 'text'"
     ]
    },
    {
     "name": "stdout",
     "output_type": "stream",
     "text": [
      " http://www.reuters.com/article/2014/09/30/safewaysu2c-idUSnPn4Gbjf2+90+PRN20140930\n",
      "2014-09-30"
     ]
    },
    {
     "name": "stdout",
     "output_type": "stream",
     "text": [
      " http://www.reuters.com/article/2014/09/30/ca-alina-artts-idUSnPn4zm1dd+80+PRN20140930\n",
      "'NoneType' object has no attribute 'text'"
     ]
    },
    {
     "name": "stdout",
     "output_type": "stream",
     "text": [
      " http://www.reuters.com/article/2014/09/30/the-good-lie-unicef-idUSnPn9CpK52+94+PRN20140930\n",
      "'NoneType' object has no attribute 'text'"
     ]
    },
    {
     "name": "stdout",
     "output_type": "stream",
     "text": [
      " http://www.reuters.com/article/2014/09/30/false-claims-prop-idUSnPn74tcj4+80+PRN20140930\n",
      "'NoneType' object has no attribute 'text'"
     ]
    },
    {
     "name": "stdout",
     "output_type": "stream",
     "text": [
      " http://www.reuters.com/article/2014/09/30/gen-dynamics-contract-idUSnPncbyj5J+81+PRN20140930\n",
      "'NoneType' object has no attribute 'text'"
     ]
    },
    {
     "name": "stdout",
     "output_type": "stream",
     "text": [
      " http://www.reuters.com/article/2014/09/30/ymca-new-ceo-idUSnPn9rfHZJ+87+PRN20140930\n",
      "'NoneType' object has no attribute 'text'"
     ]
    },
    {
     "name": "stdout",
     "output_type": "stream",
     "text": [
      " http://www.reuters.com/article/2014/09/30/fl-nova-285m-grant-idUSnPn3ydt1S+81+PRN20140930\n",
      "'NoneType' object has no attribute 'text'"
     ]
    },
    {
     "name": "stdout",
     "output_type": "stream",
     "text": [
      " http://www.reuters.com/article/2014/09/30/itc-global-bookings-idUSnPn471nB4+82+PRN20140930\n",
      "'NoneType' object has no attribute 'text'"
     ]
    },
    {
     "name": "stdout",
     "output_type": "stream",
     "text": [
      " http://www.reuters.com/article/2014/09/30/bc-investor-edge-idUSnPn1pbjZ4+82+PRN20140930\n",
      "'NoneType' object has no attribute 'text'"
     ]
    },
    {
     "name": "stdout",
     "output_type": "stream",
     "text": [
      " http://www.reuters.com/article/2014/09/30/tsmc-arm-finfet-idUSnPnbkKVS1+8e+PRN20140930\n",
      "'NoneType' object has no attribute 'text'"
     ]
    },
    {
     "name": "stdout",
     "output_type": "stream",
     "text": [
      " http://www.reuters.com/article/2014/09/30/ny-broadridge-survey-idUSnPn9FjBht+94+PRN20140930\n",
      "'NoneType' object has no attribute 'text'"
     ]
    },
    {
     "name": "stdout",
     "output_type": "stream",
     "text": [
      " http://www.reuters.com/article/2014/09/30/can-fite-patent-idUSnPn5lVVNK+8f+PRN20140930\n",
      "'NoneType' object has no attribute 'text'"
     ]
    },
    {
     "name": "stdout",
     "output_type": "stream",
     "text": [
      " http://www.reuters.com/article/2014/09/30/md-goldsgym-award-idUSnPn7tQLkt+8c+PRN20140930\n",
      "'NoneType' object has no attribute 'text'"
     ]
    },
    {
     "name": "stdout",
     "output_type": "stream",
     "text": [
      " http://www.reuters.com/article/2014/09/30/il-zacks-investment-idUSnPn9pD3c5+88+PRN20140930\n",
      "'NoneType' object has no attribute 'text'"
     ]
    },
    {
     "name": "stdout",
     "output_type": "stream",
     "text": [
      " http://www.reuters.com/article/2014/09/30/truecar-us-news-idUSnPn42jwyN+81+PRN20140930\n",
      "'NoneType' object has no attribute 'text'"
     ]
    },
    {
     "name": "stdout",
     "output_type": "stream",
     "text": [
      " http://www.reuters.com/article/2014/10/01/eximbank-pemex-bonds-idUSnPn2Q3P6j+94+PRN20141001\n",
      "2014-10-01\n",
      "'NoneType' object has no attribute 'text'"
     ]
    },
    {
     "name": "stdout",
     "output_type": "stream",
     "text": [
      " http://www.reuters.com/article/2014/10/01/ny-neah-ges-offering-idUSnPn1mPHps+8c+PRN20141001\n",
      "'NoneType' object has no attribute 'text'"
     ]
    },
    {
     "name": "stdout",
     "output_type": "stream",
     "text": [
      " http://www.reuters.com/article/2014/10/01/ny-egon-zehnder-index-idUSnPn3DDDWv+9e+PRN20141001\n",
      "'NoneType' object has no attribute 'text'"
     ]
    },
    {
     "name": "stdout",
     "output_type": "stream",
     "text": [
      " http://www.reuters.com/article/2014/10/01/beyond-the-rack-sivb-idUSnPn9MHWGv+9e+PRN20141001\n",
      "'NoneType' object has no attribute 'text'"
     ]
    },
    {
     "name": "stdout",
     "output_type": "stream",
     "text": [
      " http://www.reuters.com/article/2014/10/01/cdf-edelman-responds-idUSnPn2fpYgD+85+PRN20141001\n",
      "'NoneType' object has no attribute 'text'"
     ]
    },
    {
     "name": "stdout",
     "output_type": "stream",
     "text": [
      " http://www.reuters.com/article/2014/10/01/placeiq-media-storm-idUSnPn2HG0fk+98+PRN20141001\n",
      "'NoneType' object has no attribute 'text'"
     ]
    },
    {
     "name": "stdout",
     "output_type": "stream",
     "text": [
      " http://www.reuters.com/article/2014/10/01/tx-azz-dividend-idUSnPn5wVsPf+8a+PRN20141001\n",
      "'NoneType' object has no attribute 'text'"
     ]
    },
    {
     "name": "stdout",
     "output_type": "stream",
     "text": [
      " http://www.reuters.com/article/2014/10/01/fl-faro-software-idUSnPn5WSX3g+9c+PRN20141001\n",
      "'NoneType' object has no attribute 'text'"
     ]
    },
    {
     "name": "stdout",
     "output_type": "stream",
     "text": [
      " http://www.reuters.com/article/2014/10/01/chrysler-sept-sales-idUSnPn6hYDJF+8f+PRN20141001\n",
      "'NoneType' object has no attribute 'text'"
     ]
    },
    {
     "name": "stdout",
     "output_type": "stream",
     "text": [
      " http://www.reuters.com/article/2014/10/01/bc-investor-edge-idUSnPn170p89+80+PRN20141001\n",
      "'NoneType' object has no attribute 'text'"
     ]
    },
    {
     "name": "stdout",
     "output_type": "stream",
     "text": [
      "\n",
      "'NoneType' object has no attribute 'text'"
     ]
    },
    {
     "name": "stdout",
     "output_type": "stream",
     "text": [
      " http://www.reuters.com/article/2014/10/02/ny-new-rochelle-grant-idUSnPn577HgK+85+PRN20141002\n",
      "2014-10-02"
     ]
    },
    {
     "name": "stdout",
     "output_type": "stream",
     "text": [
      " http://www.reuters.com/article/2014/10/02/ca-openwager-bingo-idUSnPn5X4TZV+97+PRN20141002\n",
      "'NoneType' object has no attribute 'text'"
     ]
    },
    {
     "name": "stdout",
     "output_type": "stream",
     "text": [
      " http://www.reuters.com/article/2014/10/02/ma-decisionresources-idUSnPn5bWyTn+8a+PRN20141002\n",
      "'NoneType' object has no attribute 'text'"
     ]
    },
    {
     "name": "stdout",
     "output_type": "stream",
     "text": [
      " http://www.reuters.com/article/2014/10/02/datappraise-valbridge-idUSnPn1RjHZL+97+PRN20141002\n",
      "'NoneType' object has no attribute 'text'"
     ]
    },
    {
     "name": "stdout",
     "output_type": "stream",
     "text": [
      " http://www.reuters.com/article/2014/10/02/zacks-equity-research-idUSnPn2s3DRB+87+PRN20141002\n",
      "'NoneType' object has no attribute 'text'"
     ]
    },
    {
     "name": "stdout",
     "output_type": "stream",
     "text": [
      " http://www.reuters.com/article/2014/10/02/cme-group-sep-volume-idUSnPn2b8TW6+86+PRN20141002\n",
      "'NoneType' object has no attribute 'text'"
     ]
    },
    {
     "name": "stdout",
     "output_type": "stream",
     "text": [
      " http://www.reuters.com/article/2014/10/02/aarpmag-oct-nov-issue-idUSnPn7HmlXR+93+PRN20141002\n",
      "'NoneType' object has no attribute 'text'"
     ]
    },
    {
     "name": "stdout",
     "output_type": "stream",
     "text": [
      " http://www.reuters.com/article/2014/10/02/times-square-alliance-idUSnPn4F2DbV+95+PRN20141002\n",
      "'NoneType' object has no attribute 'text'"
     ]
    },
    {
     "name": "stdout",
     "output_type": "stream",
     "text": [
      " http://www.reuters.com/article/2014/10/02/ny-world-edu-wes-idUSnPn7SFMG8+9e+PRN20141002\n",
      "'NoneType' object has no attribute 'text'"
     ]
    },
    {
     "name": "stdout",
     "output_type": "stream",
     "text": [
      " http://www.reuters.com/article/2014/10/02/allstate-guide-cancer-idUSnPn6ccmw1+80+PRN20141002\n",
      "'NoneType' object has no attribute 'text'"
     ]
    },
    {
     "name": "stdout",
     "output_type": "stream",
     "text": [
      "\n",
      "'NoneType' object has no attribute 'text'"
     ]
    },
    {
     "name": "stdout",
     "output_type": "stream",
     "text": [
      " http://www.reuters.com/article/2014/10/03/nj-weedhirecom-jobs-idUSnPntcV8X+45+PRN20141003\n",
      "2014-10-03"
     ]
    },
    {
     "name": "stdout",
     "output_type": "stream",
     "text": [
      " http://www.reuters.com/article/2014/10/03/ny-conference-board-idUSnPn5nF08Y+89+PRN20141003\n",
      "'NoneType' object has no attribute 'text'"
     ]
    },
    {
     "name": "stdout",
     "output_type": "stream",
     "text": [
      " http://www.reuters.com/article/2014/10/03/wealth-x-report-idUSnPn3rMplk+88+PRN20141003\n",
      "'NoneType' object has no attribute 'text'"
     ]
    },
    {
     "name": "stdout",
     "output_type": "stream",
     "text": [
      " http://www.reuters.com/article/2014/10/03/iamgold-sell-niobec-idUSnPn45m8F+41+PRN20141003\n",
      "'NoneType' object has no attribute 'text'"
     ]
    },
    {
     "name": "stdout",
     "output_type": "stream",
     "text": [
      " http://www.reuters.com/article/2014/10/03/new-board-members-idUSnPn5SkQ44+94+PRN20141003\n",
      "'NoneType' object has no attribute 'text'"
     ]
    },
    {
     "name": "stdout",
     "output_type": "stream",
     "text": [
      "\n",
      "'NoneType' object has no attribute 'text'"
     ]
    },
    {
     "name": "stdout",
     "output_type": "stream",
     "text": [
      " http://www.reuters.com/article/2014/10/04/census-daily-feature-idUSnPn8TQWLM+9f+PRN20141004\n",
      "2014-10-04"
     ]
    },
    {
     "name": "stdout",
     "output_type": "stream",
     "text": [
      " http://www.reuters.com/article/2014/10/04/brodsky-liposcience-idUSnPn6nW6KZ+8b+PRN20141004\n",
      "'NoneType' object has no attribute 'text'"
     ]
    },
    {
     "name": "stdout",
     "output_type": "stream",
     "text": [
      " http://www.reuters.com/article/2014/10/04/foresters-playground-idUSnPn5dZYFk+8e+PRN20141004\n",
      "'NoneType' object has no attribute 'text'"
     ]
    },
    {
     "name": "stdout",
     "output_type": "stream",
     "text": [
      " http://www.reuters.com/article/2014/10/04/world-steel-dynamics-idUSnPn38ljBl+82+PRN20141004\n",
      "'NoneType' object has no attribute 'text'"
     ]
    },
    {
     "name": "stdout",
     "output_type": "stream",
     "text": [
      " http://www.reuters.com/article/2014/10/04/nbwa-craft-beer-award-idUSnPn3xQGbZ+8d+PRN20141004\n",
      "'NoneType' object has no attribute 'text'"
     ]
    },
    {
     "name": "stdout",
     "output_type": "stream",
     "text": [
      " http://www.reuters.com/article/2014/10/04/nsba-urban-boards-idUSnPn40hKnP+85+PRN20141004\n",
      "'NoneType' object has no attribute 'text'"
     ]
    },
    {
     "name": "stdout",
     "output_type": "stream",
     "text": [
      "\n",
      "'NoneType' object has no attribute 'text'"
     ]
    },
    {
     "name": "stdout",
     "output_type": "stream",
     "text": [
      " http://www.reuters.com/article/2014/10/05/ga-chryslergroupimsa-idUSnPn68Bnq+44+PRN20141005\n",
      "2014-10-05"
     ]
    },
    {
     "name": "stdout",
     "output_type": "stream",
     "text": [
      " http://www.reuters.com/article/2014/10/05/census-daily-feature-idUSnPnbKN1c7+98+PRN20141005\n",
      "'NoneType' object has no attribute 'text'"
     ]
    },
    {
     "name": "stdout",
     "output_type": "stream",
     "text": [
      " http://www.reuters.com/article/2014/10/05/bd-acquire-carefusion-idUSnPn33S0Pd+8a+PRN20141005\n",
      "'NoneType' object has no attribute 'text'"
     ]
    },
    {
     "name": "stdout",
     "output_type": "stream",
     "text": [
      " http://www.reuters.com/article/2014/10/06/block-esq-investigate-idUSnPn4F1yB4+92+PRN20141006\n",
      "'NoneType' object has no attribute 'text'"
     ]
    },
    {
     "name": "stdout",
     "output_type": "stream",
     "text": [
      " http://www.reuters.com/article/2014/10/05/weiner-healthlawmyths-idUSnPnc03X6S+85+PRN20141005\n",
      "'NoneType' object has no attribute 'text'"
     ]
    },
    {
     "name": "stdout",
     "output_type": "stream",
     "text": [
      "\n",
      "'NoneType' object has no attribute 'text'"
     ]
    },
    {
     "name": "stdout",
     "output_type": "stream",
     "text": [
      " http://www.reuters.com/article/2014/10/06/inretail-tender-offer-idUSnPn9sbVFk+86+PRN20141006\n",
      "2014-10-06"
     ]
    },
    {
     "name": "stdout",
     "output_type": "stream",
     "text": [
      " http://www.reuters.com/article/2014/10/06/md-hosthotelsacquires-idUSnPn6hrNmc+84+PRN20141006\n",
      "'NoneType' object has no attribute 'text'"
     ]
    },
    {
     "name": "stdout",
     "output_type": "stream",
     "text": [
      " http://www.reuters.com/article/2014/10/06/cnsmrwatchdog-prop-idUSnPnpGDvW+4d+PRN20141006\n",
      "'NoneType' object has no attribute 'text'"
     ]
    },
    {
     "name": "stdout",
     "output_type": "stream",
     "text": [
      " http://www.reuters.com/article/2014/10/06/thedarkreport-budgets-idUSnPn6mkBHk+86+PRN20141006\n",
      "'NoneType' object has no attribute 'text'"
     ]
    },
    {
     "name": "stdout",
     "output_type": "stream",
     "text": [
      " http://www.reuters.com/article/2014/10/06/levindrywallclasssuit-idUSnPnbsThVV+8b+PRN20141006\n",
      "'NoneType' object has no attribute 'text'"
     ]
    },
    {
     "name": "stdout",
     "output_type": "stream",
     "text": [
      " http://www.reuters.com/article/2014/10/06/ma-apiaryfund-trading-idUSnPnc2l4Kt+82+PRN20141006\n",
      "'NoneType' object has no attribute 'text'"
     ]
    },
    {
     "name": "stdout",
     "output_type": "stream",
     "text": [
      " http://www.reuters.com/article/2014/10/06/ca-the-wedding-bomb-idUSnPn7N2lqc+90+PRN20141006\n",
      "'NoneType' object has no attribute 'text'"
     ]
    },
    {
     "name": "stdout",
     "output_type": "stream",
     "text": [
      " http://www.reuters.com/article/2014/10/06/linde-h2-station-us-idUSnPn22q54+40+PRN20141006\n",
      "'NoneType' object has no attribute 'text'"
     ]
    },
    {
     "name": "stdout",
     "output_type": "stream",
     "text": [
      " http://www.reuters.com/article/2014/10/06/ridgeinsurancesolutns-idUSnPn7hhMxD+85+PRN20141006\n",
      "'NoneType' object has no attribute 'text'"
     ]
    },
    {
     "name": "stdout",
     "output_type": "stream",
     "text": [
      "\n",
      "'NoneType' object has no attribute 'text'"
     ]
    },
    {
     "name": "stdout",
     "output_type": "stream",
     "text": [
      " http://www.reuters.com/article/2014/10/07/ifc-cargill-cocoa-idUSnPn4nTjkd+88+PRN20141007\n",
      "2014-10-07"
     ]
    },
    {
     "name": "stdout",
     "output_type": "stream",
     "text": [
      " http://www.reuters.com/article/2014/10/07/gbta-billions-q-idUSnPn7B3KMp+96+PRN20141007\n",
      "'NoneType' object has no attribute 'text'"
     ]
    },
    {
     "name": "stdout",
     "output_type": "stream",
     "text": [
      " http://www.reuters.com/article/2014/10/07/cannex-income-study-idUSnPn3H7w0M+91+PRN20141007\n",
      "'NoneType' object has no attribute 'text'"
     ]
    },
    {
     "name": "stdout",
     "output_type": "stream",
     "text": [
      " http://www.reuters.com/article/2014/10/07/va-versar-inc-awarded-idUSnPn7YFKsS+9d+PRN20141007\n",
      "'NoneType' object has no attribute 'text'"
     ]
    },
    {
     "name": "stdout",
     "output_type": "stream",
     "text": [
      " http://www.reuters.com/article/2014/10/07/sciencetech-immlaws-idUSnPn9VnB7T+95+PRN20141007\n",
      "'NoneType' object has no attribute 'text'"
     ]
    },
    {
     "name": "stdout",
     "output_type": "stream",
     "text": [
      " http://www.reuters.com/article/2014/10/07/md-vycom-canvas-creat-idUSnPn6w6rgH+81+PRN20141007\n",
      "'NoneType' object has no attribute 'text'"
     ]
    },
    {
     "name": "stdout",
     "output_type": "stream",
     "text": [
      " http://www.reuters.com/article/2014/10/07/ny-nomura-announces-idUSnPn2LpTS6+96+PRN20141007\n",
      "'NoneType' object has no attribute 'text'"
     ]
    },
    {
     "name": "stdout",
     "output_type": "stream",
     "text": [
      " http://www.reuters.com/article/2014/10/07/ny-pwc-manufacturing-idUSnPn3HZ8bX+99+PRN20141007\n",
      "'NoneType' object has no attribute 'text'"
     ]
    },
    {
     "name": "stdout",
     "output_type": "stream",
     "text": [
      " http://www.reuters.com/article/2014/10/07/interscope-billon-new-idUSnPn97s8dD+81+PRN20141007\n",
      "'NoneType' object has no attribute 'text'"
     ]
    },
    {
     "name": "stdout",
     "output_type": "stream",
     "text": [
      " http://www.reuters.com/article/2014/10/07/klinecleaningproducts-idUSnPn3j9SV1+86+PRN20141007\n",
      "'NoneType' object has no attribute 'text'"
     ]
    },
    {
     "name": "stdout",
     "output_type": "stream",
     "text": [
      " http://www.reuters.com/article/2014/10/07/gendynamics-vehicles-idUSnPn8vjDn5+84+PRN20141007\n",
      "'NoneType' object has no attribute 'text'"
     ]
    },
    {
     "name": "stdout",
     "output_type": "stream",
     "text": [
      " http://www.reuters.com/article/2014/10/07/trimblenewsftwrepipel-idUSnPn1zZDbL+8d+PRN20141007\n",
      "'NoneType' object has no attribute 'text'"
     ]
    },
    {
     "name": "stdout",
     "output_type": "stream",
     "text": [
      " http://www.reuters.com/article/2014/10/07/ca-borges-usa-idUSnPn9vPq3r+88+PRN20141007\n",
      "'NoneType' object has no attribute 'text'"
     ]
    },
    {
     "name": "stdout",
     "output_type": "stream",
     "text": [
      "\n",
      "'NoneType' object has no attribute 'text'"
     ]
    },
    {
     "name": "stdout",
     "output_type": "stream",
     "text": [
      " http://www.reuters.com/article/2014/10/08/biolife-woundseal-idUSnPn2wlxyy+80+PRN20141008\n",
      "2014-10-08"
     ]
    },
    {
     "name": "stdout",
     "output_type": "stream",
     "text": [
      " http://www.reuters.com/article/2014/10/08/ca-shpe-star-awards-idUSnPn4cpbds+80+PRN20141008\n",
      "'NoneType' object has no attribute 'text'"
     ]
    },
    {
     "name": "stdout",
     "output_type": "stream",
     "text": [
      " http://www.reuters.com/article/2014/10/08/raytheon-focus-progrm-idUSnPn2yRlx+44+PRN20141008\n",
      "'NoneType' object has no attribute 'text'"
     ]
    },
    {
     "name": "stdout",
     "output_type": "stream",
     "text": [
      " http://www.reuters.com/article/2014/10/08/avison-young-review-idUSnPn5FT5pS+99+PRN20141008\n",
      "'NoneType' object has no attribute 'text'"
     ]
    },
    {
     "name": "stdout",
     "output_type": "stream",
     "text": [
      " http://www.reuters.com/article/2014/10/08/sensata-price-notes-idUSnPn3kyZYF+87+PRN20141008\n",
      "'NoneType' object has no attribute 'text'"
     ]
    },
    {
     "name": "stdout",
     "output_type": "stream",
     "text": [
      " http://www.reuters.com/article/2014/10/08/amgen-phase-3-study-idUSnPn714k9x+80+PRN20141008\n",
      "'NoneType' object has no attribute 'text'"
     ]
    },
    {
     "name": "stdout",
     "output_type": "stream",
     "text": [
      " http://www.reuters.com/article/2014/10/08/bowker-selfpublishing-idUSnPn3J8rTH+93+PRN20141008\n",
      "'NoneType' object has no attribute 'text'"
     ]
    },
    {
     "name": "stdout",
     "output_type": "stream",
     "text": [
      " http://www.reuters.com/article/2014/10/09/ma-decisionresources-idUSnPn6wbg5N+81+PRN20141009\n",
      "2014-10-09\n",
      "'NoneType' object has no attribute 'text'"
     ]
    },
    {
     "name": "stdout",
     "output_type": "stream",
     "text": [
      " http://www.reuters.com/article/2014/10/09/harvey-milk-hungary-idUSnPn60vHC5+86+PRN20141009\n",
      "'NoneType' object has no attribute 'text'"
     ]
    },
    {
     "name": "stdout",
     "output_type": "stream",
     "text": [
      " http://www.reuters.com/article/2014/10/09/heliospectra-patent-idUSnPn15qgJC+83+PRN20141009\n",
      "'NoneType' object has no attribute 'text'"
     ]
    },
    {
     "name": "stdout",
     "output_type": "stream",
     "text": [
      " http://www.reuters.com/article/2014/10/09/versar-inc-contract-idUSnPnp4v4t+40+PRN20141009\n",
      "'NoneType' object has no attribute 'text'"
     ]
    },
    {
     "name": "stdout",
     "output_type": "stream",
     "text": [
      " http://www.reuters.com/article/2014/10/09/bc-european-us-investors-idUSnPn7LL1qg+98+PRN20141009\n",
      "'NoneType' object has no attribute 'text'"
     ]
    },
    {
     "name": "stdout",
     "output_type": "stream",
     "text": [
      " http://www.reuters.com/article/2014/10/09/bc-investor-edge-idUSnPn5MhsKK+93+PRN20141009\n",
      "'NoneType' object has no attribute 'text'"
     ]
    },
    {
     "name": "stdout",
     "output_type": "stream",
     "text": [
      " http://www.reuters.com/article/2014/10/09/bc-investor-edge-idUSnPnFv2jp+50+PRN20141009\n",
      "'NoneType' object has no attribute 'text'"
     ]
    },
    {
     "name": "stdout",
     "output_type": "stream",
     "text": [
      " http://www.reuters.com/article/2014/10/09/co-platts-correction-idUSnPn7H61Mt+92+PRN20141009\n",
      "'NoneType' object has no attribute 'text'"
     ]
    },
    {
     "name": "stdout",
     "output_type": "stream",
     "text": [
      " http://www.reuters.com/article/2014/10/09/platts-gas-production-idUSnPnb40t07+80+PRN20141009\n",
      "'NoneType' object has no attribute 'text'"
     ]
    },
    {
     "name": "stdout",
     "output_type": "stream",
     "text": [
      " http://www.reuters.com/article/2014/10/10/cnsmr-watchdog-prop-idUSnPn1hknC9+82+PRN20141010\n",
      "2014-10-10\n",
      "'NoneType' object has no attribute 'text'"
     ]
    },
    {
     "name": "stdout",
     "output_type": "stream",
     "text": [
      " http://www.reuters.com/article/2014/10/10/fl-gdsi-wins-lawsuit-idUSnPnbV7HnN+95+PRN20141010\n",
      "'NoneType' object has no attribute 'text'"
     ]
    },
    {
     "name": "stdout",
     "output_type": "stream",
     "text": [
      " http://www.reuters.com/article/2014/10/10/wpcarey-acquires-idUSnPn3q9QDv+86+PRN20141010\n",
      "'NoneType' object has no attribute 'text'"
     ]
    },
    {
     "name": "stdout",
     "output_type": "stream",
     "text": [
      " http://www.reuters.com/article/2014/10/10/bc-investor-edge-idUSnPn6y2ny7+80+PRN20141010\n",
      "'NoneType' object has no attribute 'text'"
     ]
    },
    {
     "name": "stdout",
     "output_type": "stream",
     "text": [
      " http://www.reuters.com/article/2014/10/10/ca-pernodricard-award-idUSnPn862SCk+86+PRN20141010\n",
      "'NoneType' object has no attribute 'text'"
     ]
    },
    {
     "name": "stdout",
     "output_type": "stream",
     "text": [
      " http://www.reuters.com/article/2014/10/10/bc-investor-edge-idUSnPn4Z1Nk5+94+PRN20141010\n",
      "'NoneType' object has no attribute 'text'"
     ]
    },
    {
     "name": "stdout",
     "output_type": "stream",
     "text": [
      " http://www.reuters.com/article/2014/10/10/ivanhoe-friedlandloan-idUSnPnc5g5LZ+83+PRN20141010\n",
      "'NoneType' object has no attribute 'text'"
     ]
    },
    {
     "name": "stdout",
     "output_type": "stream",
     "text": [
      " http://www.reuters.com/article/2014/10/10/-nikecampaign-idUSnPn15WRft+8c+PRN20141010\n",
      "'NoneType' object has no attribute 'text'"
     ]
    },
    {
     "name": "stdout",
     "output_type": "stream",
     "text": [
      "\n",
      "'NoneType' object has no attribute 'text'"
     ]
    },
    {
     "name": "stdout",
     "output_type": "stream",
     "text": [
      " http://www.reuters.com/article/2014/10/11/global-sources-fair-idUSnPn9Tqj4p+90+PRN20141011\n",
      "2014-10-11"
     ]
    },
    {
     "name": "stdout",
     "output_type": "stream",
     "text": [
      " http://www.reuters.com/article/2014/10/11/census-daily-feature-idUSnPnbdpdlz+80+PRN20141011\n",
      "'NoneType' object has no attribute 'text'"
     ]
    },
    {
     "name": "stdout",
     "output_type": "stream",
     "text": [
      " http://www.reuters.com/article/2014/10/11/sony-hiresaudioline-idUSnPnc77pcJ+81+PRN20141011\n",
      "'NoneType' object has no attribute 'text'"
     ]
    },
    {
     "name": "stdout",
     "output_type": "stream",
     "text": [
      " http://www.reuters.com/article/2014/10/11/playground-news-in-idUSnPn9CLQrW+9d+PRN20141011\n",
      "'NoneType' object has no attribute 'text'"
     ]
    },
    {
     "name": "stdout",
     "output_type": "stream",
     "text": [
      " http://www.reuters.com/article/2014/10/11/tx-roviatravasiaaward-idUSnPn9QCN2X+9d+PRN20141011\n",
      "'NoneType' object has no attribute 'text'"
     ]
    },
    {
     "name": "stdout",
     "output_type": "stream",
     "text": [
      " http://www.reuters.com/article/2014/10/11/hna-wta-awards-idUSnPn9F2zhD+91+PRN20141011\n",
      "'NoneType' object has no attribute 'text'"
     ]
    },
    {
     "name": "stdout",
     "output_type": "stream",
     "text": [
      " http://www.reuters.com/article/2014/10/12/elbit-contractsw-army-idUSnPnZWcHL+5b+PRN20141012\n",
      "2014-10-12\n",
      "'NoneType' object has no attribute 'text'"
     ]
    },
    {
     "name": "stdout",
     "output_type": "stream",
     "text": [
      " http://www.reuters.com/article/2014/10/12/bc-elbit-systems-of-amer-idUSnPngTFm9+4c+PRN20141012\n",
      "'NoneType' object has no attribute 'text'"
     ]
    },
    {
     "name": "stdout",
     "output_type": "stream",
     "text": [
      " http://www.reuters.com/article/2014/10/12/census-daily-feature-idUSnPn9JVhVK+9b+PRN20141012\n",
      "'NoneType' object has no attribute 'text'"
     ]
    },
    {
     "name": "stdout",
     "output_type": "stream",
     "text": [
      " http://www.reuters.com/article/2014/10/13/big-review-tv-idUSnPn6jXtQ9+8a+PRN20141013\n",
      "'NoneType' object has no attribute 'text'"
     ]
    },
    {
     "name": "stdout",
     "output_type": "stream",
     "text": [
      "\n",
      "'NoneType' object has no attribute 'text'"
     ]
    },
    {
     "name": "stdout",
     "output_type": "stream",
     "text": [
      " http://www.reuters.com/article/2014/10/13/google-privacy-uk-us-idUSnPnb75sWk+82+PRN20141013\n",
      "2014-10-13"
     ]
    },
    {
     "name": "stdout",
     "output_type": "stream",
     "text": [
      " http://www.reuters.com/article/2014/10/13/bc-investor-edge-idUSnPn1LmVMh+96+PRN20141013\n",
      "'NoneType' object has no attribute 'text'"
     ]
    },
    {
     "name": "stdout",
     "output_type": "stream",
     "text": [
      " http://www.reuters.com/article/2014/10/13/va-atk-contracts-idUSnPn8dXFhN+8d+PRN20141013\n",
      "'NoneType' object has no attribute 'text'"
     ]
    },
    {
     "name": "stdout",
     "output_type": "stream",
     "text": [
      " http://www.reuters.com/article/2014/10/13/mcgrawhill-construct-idUSnPnMLSP+2f+PRN20141013\n",
      "'NoneType' object has no attribute 'text'"
     ]
    },
    {
     "name": "stdout",
     "output_type": "stream",
     "text": [
      " http://www.reuters.com/article/2014/10/13/jd-power-analysis-idUSnPn18Y3Gj+8a+PRN20141013\n",
      "'NoneType' object has no attribute 'text'"
     ]
    },
    {
     "name": "stdout",
     "output_type": "stream",
     "text": [
      " http://www.reuters.com/article/2014/10/13/american-capital-idUSnPn39jfXm+82+PRN20141013\n",
      "'NoneType' object has no attribute 'text'"
     ]
    },
    {
     "name": "stdout",
     "output_type": "stream",
     "text": [
      " http://www.reuters.com/article/2014/10/13/marvista-holidayfilms-idUSnPn8WPSLY+9f+PRN20141013\n",
      "'NoneType' object has no attribute 'text'"
     ]
    },
    {
     "name": "stdout",
     "output_type": "stream",
     "text": [
      " http://www.reuters.com/article/2014/10/13/ten80-army-stem-expo-idUSnPn8Ws92P+91+PRN20141013\n",
      "'NoneType' object has no attribute 'text'"
     ]
    },
    {
     "name": "stdout",
     "output_type": "stream",
     "text": [
      " http://www.reuters.com/article/2014/10/13/dc-larta-institute-idUSnPn2tSxWZ+8b+PRN20141013\n",
      "'NoneType' object has no attribute 'text'"
     ]
    },
    {
     "name": "stdout",
     "output_type": "stream",
     "text": [
      " http://www.reuters.com/article/2014/10/13/bayer-senator-booker-idUSnPn7Dcnzp+90+PRN20141013\n",
      "'NoneType' object has no attribute 'text'"
     ]
    },
    {
     "name": "stdout",
     "output_type": "stream",
     "text": [
      " http://www.reuters.com/article/2014/10/13/ny-profnet-edition-idUSnPn8rJ8tW+89+PRN20141013\n",
      "'NoneType' object has no attribute 'text'"
     ]
    },
    {
     "name": "stdout",
     "output_type": "stream",
     "text": [
      " http://www.reuters.com/article/2014/10/13/bc-investor-edge-idUSnPn5tZ9QG+8b+PRN20141013\n",
      "'NoneType' object has no attribute 'text'"
     ]
    },
    {
     "name": "stdout",
     "output_type": "stream",
     "text": [
      " http://www.reuters.com/article/2014/10/13/amcham-charity-idUSnPnsT8mQ+49+PRN20141013\n",
      "'NoneType' object has no attribute 'text'"
     ]
    },
    {
     "name": "stdout",
     "output_type": "stream",
     "text": [
      "\n",
      "'NoneType' object has no attribute 'text'"
     ]
    },
    {
     "name": "stdout",
     "output_type": "stream",
     "text": [
      " http://www.reuters.com/article/2014/10/14/raytheon-student-vets-idUSnPn9vm5YK+83+PRN20141014\n",
      "2014-10-14"
     ]
    },
    {
     "name": "stdout",
     "output_type": "stream",
     "text": [
      " http://www.reuters.com/article/2014/10/14/tfk-cigarette-warning-idUSnPn68ybBc+82+PRN20141014\n",
      "'NoneType' object has no attribute 'text'"
     ]
    },
    {
     "name": "stdout",
     "output_type": "stream",
     "text": [
      " http://www.reuters.com/article/2014/10/14/astellas-pharma-us-idUSnPn5X6lNp+92+PRN20141014\n",
      "'NoneType' object has no attribute 'text'"
     ]
    },
    {
     "name": "stdout",
     "output_type": "stream",
     "text": [
      " http://www.reuters.com/article/2014/10/14/oneroof-energy-2m-idUSnPn89ZldV+89+PRN20141014\n",
      "'NoneType' object has no attribute 'text'"
     ]
    },
    {
     "name": "stdout",
     "output_type": "stream",
     "text": [
      " http://www.reuters.com/article/2014/10/14/ca-barracuda-backup-idUSnPn3VR0v0+98+PRN20141014\n",
      "'NoneType' object has no attribute 'text'"
     ]
    },
    {
     "name": "stdout",
     "output_type": "stream",
     "text": [
      " http://www.reuters.com/article/2014/10/14/tx-hotelscom-water-idUSnPn2w38dc+80+PRN20141014\n",
      "'NoneType' object has no attribute 'text'"
     ]
    },
    {
     "name": "stdout",
     "output_type": "stream",
     "text": [
      " http://www.reuters.com/article/2014/10/14/girlscouts-usa-dell-idUSnPn9fpB8P+85+PRN20141014\n",
      "'NoneType' object has no attribute 'text'"
     ]
    },
    {
     "name": "stdout",
     "output_type": "stream",
     "text": [
      " http://www.reuters.com/article/2014/10/14/globalautoma-dealval-idUSnPn9kWhDV+8b+PRN20141014\n",
      "'NoneType' object has no attribute 'text'"
     ]
    },
    {
     "name": "stdout",
     "output_type": "stream",
     "text": [
      " http://www.reuters.com/article/2014/10/14/inrix-gridlock-study-idUSnPnlJjLY+4b+PRN20141014\n",
      "'NoneType' object has no attribute 'text'"
     ]
    },
    {
     "name": "stdout",
     "output_type": "stream",
     "text": [
      " http://www.reuters.com/article/2014/10/14/transcept-dividend-idUSnPnbBGHyZ+9d+PRN20141014\n",
      "'NoneType' object has no attribute 'text'"
     ]
    },
    {
     "name": "stdout",
     "output_type": "stream",
     "text": [
      " http://www.reuters.com/article/2014/10/14/decisionresources-idUSnPn9fLcLN+8b+PRN20141014\n",
      "'NoneType' object has no attribute 'text'"
     ]
    },
    {
     "name": "stdout",
     "output_type": "stream",
     "text": [
      " http://www.reuters.com/article/2014/10/14/ca-sada-systems-idUSnPnLGFzp+5c+PRN20141014\n",
      "'NoneType' object has no attribute 'text'"
     ]
    },
    {
     "name": "stdout",
     "output_type": "stream",
     "text": [
      " http://www.reuters.com/article/2014/10/14/nj-cytosorbents-q-idUSnPn3Z4ZB+4b+PRN20141014\n",
      "'NoneType' object has no attribute 'text'"
     ]
    },
    {
     "name": "stdout",
     "output_type": "stream",
     "text": [
      " http://www.reuters.com/article/2014/10/14/owenscorning-app-idUSnPn97RF3h+8c+PRN20141014\n",
      "'NoneType' object has no attribute 'text'"
     ]
    },
    {
     "name": "stdout",
     "output_type": "stream",
     "text": [
      " http://www.reuters.com/article/2014/10/14/diesel-public-transit-idUSnPn7vl9qF+81+PRN20141014\n",
      "'NoneType' object has no attribute 'text'"
     ]
    },
    {
     "name": "stdout",
     "output_type": "stream",
     "text": [
      "\n",
      "'NoneType' object has no attribute 'text'"
     ]
    },
    {
     "name": "stdout",
     "output_type": "stream",
     "text": [
      " http://www.reuters.com/article/2014/10/15/bladex-3q-earnings-idUSnPn1lM2kn+88+PRN20141015\n",
      "2014-10-15"
     ]
    },
    {
     "name": "stdout",
     "output_type": "stream",
     "text": [
      " http://www.reuters.com/article/2014/10/15/census-hispanic-month-idUSnPn89dBjL+85+PRN20141015\n",
      "'NoneType' object has no attribute 'text'"
     ]
    },
    {
     "name": "stdout",
     "output_type": "stream",
     "text": [
      " http://www.reuters.com/article/2014/10/15/ma-decision-resources-idUSnPn7RcK9q+94+PRN20141015\n",
      "'NoneType' object has no attribute 'text'"
     ]
    },
    {
     "name": "stdout",
     "output_type": "stream",
     "text": [
      " http://www.reuters.com/article/2014/10/15/bc-investor-edge-idUSnPn99M7tY+89+PRN20141015\n",
      "'NoneType' object has no attribute 'text'"
     ]
    },
    {
     "name": "stdout",
     "output_type": "stream",
     "text": [
      " http://www.reuters.com/article/2014/10/15/neurosigma-va-crada-idUSnPn8wmVkb+84+PRN20141015\n",
      "'NoneType' object has no attribute 'text'"
     ]
    },
    {
     "name": "stdout",
     "output_type": "stream",
     "text": [
      " http://www.reuters.com/article/2014/10/15/lockheed-martin-idUSnPn2JHd71+98+PRN20141015\n",
      "'NoneType' object has no attribute 'text'"
     ]
    },
    {
     "name": "stdout",
     "output_type": "stream",
     "text": [
      " http://www.reuters.com/article/2014/10/15/pnc-financial-earns-idUSnPn6DmngW+91+PRN20141015\n",
      "'NoneType' object has no attribute 'text'"
     ]
    },
    {
     "name": "stdout",
     "output_type": "stream",
     "text": [
      "\n",
      "'NoneType' object has no attribute 'text'"
     ]
    },
    {
     "name": "stdout",
     "output_type": "stream",
     "text": [
      " http://www.reuters.com/article/2014/10/16/bc-investor-edge-idUSnPn847dg0+80+PRN20141016\n",
      "2014-10-16"
     ]
    },
    {
     "name": "stdout",
     "output_type": "stream",
     "text": [
      " http://www.reuters.com/article/2014/10/16/ny-henryschein-fellow-idUSnPn6mPl4j+88+PRN20141016\n",
      "'NoneType' object has no attribute 'text'"
     ]
    },
    {
     "name": "stdout",
     "output_type": "stream",
     "text": [
      " http://www.reuters.com/article/2014/10/16/bc-investor-edge-idUSnPn5DXQXf+9e+PRN20141016\n",
      "'NoneType' object has no attribute 'text'"
     ]
    },
    {
     "name": "stdout",
     "output_type": "stream",
     "text": [
      " http://www.reuters.com/article/2014/10/16/aicf-nbc-comcast-idUSnPnc831lG+81+PRN20141016\n",
      "'NoneType' object has no attribute 'text'"
     ]
    },
    {
     "name": "stdout",
     "output_type": "stream",
     "text": [
      " http://www.reuters.com/article/2014/10/16/bc-investor-edge-idUSnPnsM1LF+4b+PRN20141016\n",
      "'NoneType' object has no attribute 'text'"
     ]
    },
    {
     "name": "stdout",
     "output_type": "stream",
     "text": [
      " http://www.reuters.com/article/2014/10/16/bc-hgs-contracts-idUSnPn2sTMtq+8c+PRN20141016\n",
      "'NoneType' object has no attribute 'text'"
     ]
    },
    {
     "name": "stdout",
     "output_type": "stream",
     "text": [
      " http://www.reuters.com/article/2014/10/16/la-att-cis-grant-idUSnPn5dqsn3+80+PRN20141016\n",
      "'NoneType' object has no attribute 'text'"
     ]
    },
    {
     "name": "stdout",
     "output_type": "stream",
     "text": [
      " http://www.reuters.com/article/2014/10/16/nv-nathealthsolutions-idUSnPn52tGnZ+85+PRN20141016\n",
      "'NoneType' object has no attribute 'text'"
     ]
    },
    {
     "name": "stdout",
     "output_type": "stream",
     "text": [
      "\n",
      "'NoneType' object has no attribute 'text'"
     ]
    },
    {
     "name": "stdout",
     "output_type": "stream",
     "text": [
      " http://www.reuters.com/article/2014/10/17/bny-mellon-earnings-idUSnPn56gV1L+85+PRN20141017\n",
      "2014-10-17"
     ]
    },
    {
     "name": "stdout",
     "output_type": "stream",
     "text": [
      " http://www.reuters.com/article/2014/10/17/nri-pensaid-horizon-idUSnPnbyr1xj+80+PRN20141017\n",
      "'NoneType' object has no attribute 'text'"
     ]
    },
    {
     "name": "stdout",
     "output_type": "stream",
     "text": [
      " http://www.reuters.com/article/2014/10/17/bc-analysts-review-idUSnPn7W99J4+92+PRN20141017\n",
      "'NoneType' object has no attribute 'text'"
     ]
    },
    {
     "name": "stdout",
     "output_type": "stream",
     "text": [
      " http://www.reuters.com/article/2014/10/17/nj-honeywell-earns-idUSnPn6YpGvF+95+PRN20141017\n",
      "'NoneType' object has no attribute 'text'"
     ]
    },
    {
     "name": "stdout",
     "output_type": "stream",
     "text": [
      " http://www.reuters.com/article/2014/10/17/farmland-partners-idUSnPn1P1XhT+95+PRN20141017\n",
      "'NoneType' object has no attribute 'text'"
     ]
    },
    {
     "name": "stdout",
     "output_type": "stream",
     "text": [
      " http://www.reuters.com/article/2014/10/17/co-lgelectronics-epa-idUSnPnbRVbnl+98+PRN20141017\n",
      "'NoneType' object has no attribute 'text'"
     ]
    },
    {
     "name": "stdout",
     "output_type": "stream",
     "text": [
      " http://www.reuters.com/article/2014/10/17/nv-virnetx-rehearing-idUSnPn6xy8Rv+82+PRN20141017\n",
      "'NoneType' object has no attribute 'text'"
     ]
    },
    {
     "name": "stdout",
     "output_type": "stream",
     "text": [
      " http://www.reuters.com/article/2014/10/17/apcooil-investigation-idUSnPn4LqMbF+95+PRN20141017\n",
      "'NoneType' object has no attribute 'text'"
     ]
    },
    {
     "name": "stdout",
     "output_type": "stream",
     "text": [
      " http://www.reuters.com/article/2014/10/17/bc-analysts-review-idUSnPn3XV4mY+99+PRN20141017\n",
      "'NoneType' object has no attribute 'text'"
     ]
    },
    {
     "name": "stdout",
     "output_type": "stream",
     "text": [
      " http://www.reuters.com/article/2014/10/17/ny-shenkman-launches-idUSnPn7ZDTK1+9e+PRN20141017\n",
      "'NoneType' object has no attribute 'text'"
     ]
    },
    {
     "name": "stdout",
     "output_type": "stream",
     "text": [
      "\n",
      "'NoneType' object has no attribute 'text'"
     ]
    },
    {
     "name": "stdout",
     "output_type": "stream",
     "text": [
      " http://www.reuters.com/article/2014/10/18/census-daily-feature-idUSnPnbQ9NJx+96+PRN20141018\n",
      "2014-10-18"
     ]
    },
    {
     "name": "stdout",
     "output_type": "stream",
     "text": [
      " http://www.reuters.com/article/2014/10/18/first-remit-idUSnBw185004a+100+BSW20141018\n",
      "'NoneType' object has no attribute 'text'"
     ]
    },
    {
     "name": "stdout",
     "output_type": "stream",
     "text": [
      " http://www.reuters.com/article/2014/10/18/nj-coordinated-health-idUSnPn2qX4XH+8b+PRN20141018\n",
      "'NoneType' object has no attribute 'text'"
     ]
    },
    {
     "name": "stdout",
     "output_type": "stream",
     "text": [
      " http://www.reuters.com/article/2014/10/18/global-sources-mobile-idUSnPn3gNJXF+8f+PRN20141018\n",
      "'NoneType' object has no attribute 'text'"
     ]
    },
    {
     "name": "stdout",
     "output_type": "stream",
     "text": [
      " http://www.reuters.com/article/2014/10/18/il-doctors-imm-care-idUSnPn7v7P4p+84+PRN20141018\n",
      "'NoneType' object has no attribute 'text'"
     ]
    },
    {
     "name": "stdout",
     "output_type": "stream",
     "text": [
      " http://www.reuters.com/article/2014/10/18/national-nurses-stmnt-idUSnPnbs8nX0+82+PRN20141018\n",
      "'NoneType' object has no attribute 'text'"
     ]
    },
    {
     "name": "stdout",
     "output_type": "stream",
     "text": [
      " http://www.reuters.com/article/2014/10/18/salvationarmy-pitbull-idUSnPn36Sm25+88+PRN20141018\n",
      "'NoneType' object has no attribute 'text'"
     ]
    },
    {
     "name": "stdout",
     "output_type": "stream",
     "text": [
      " http://www.reuters.com/article/2014/10/18/ca-foothill-gold-line-idUSnPn1Mw9Q7+92+PRN20141018\n",
      "'NoneType' object has no attribute 'text'"
     ]
    },
    {
     "name": "stdout",
     "output_type": "stream",
     "text": [
      " http://www.reuters.com/article/2014/10/18/flyingheritagecollect-idUSnPn5QfZ7K+95+PRN20141018\n",
      "'NoneType' object has no attribute 'text'"
     ]
    },
    {
     "name": "stdout",
     "output_type": "stream",
     "text": [
      " http://www.reuters.com/article/2014/10/18/aao-eye-ring-idUSnPn9Xd2sy+90+PRN20141018\n",
      "'NoneType' object has no attribute 'text'"
     ]
    },
    {
     "name": "stdout",
     "output_type": "stream",
     "text": [
      "\n",
      "'NoneType' object has no attribute 'text'"
     ]
    },
    {
     "name": "stdout",
     "output_type": "stream",
     "text": [
      " http://www.reuters.com/article/2014/10/19/ma-nextcode-exchange-idUSnPn4JD6XS+9b+PRN20141019\n",
      "2014-10-19"
     ]
    },
    {
     "name": "stdout",
     "output_type": "stream",
     "text": [
      " http://www.reuters.com/article/2014/10/19/fl-honeywell-aviation-idUSnPnBSj8w+58+PRN20141019\n",
      "'NoneType' object has no attribute 'text'"
     ]
    },
    {
     "name": "stdout",
     "output_type": "stream",
     "text": [
      " http://www.reuters.com/article/2014/10/19/census-daily-feature-idUSnPn8HFTDT+9f+PRN20141019\n",
      "'NoneType' object has no attribute 'text'"
     ]
    },
    {
     "name": "stdout",
     "output_type": "stream",
     "text": [
      " http://www.reuters.com/article/2014/10/19/gsol-sourcing-fair-idUSnPnc14Qnw+84+PRN20141019\n",
      "'NoneType' object has no attribute 'text'"
     ]
    },
    {
     "name": "stdout",
     "output_type": "stream",
     "text": [
      " http://www.reuters.com/article/2014/10/20/zap-ma-kai-accolades-idUSnPn3lql9y+80+PRN20141020\n",
      "'NoneType' object has no attribute 'text'"
     ]
    },
    {
     "name": "stdout",
     "output_type": "stream",
     "text": [
      "\n",
      "'NoneType' object has no attribute 'text'"
     ]
    },
    {
     "name": "stdout",
     "output_type": "stream",
     "text": [
      " http://www.reuters.com/article/2014/10/20/bc-defence-iq-idUSnPn824XWw+86+PRN20141020\n",
      "2014-10-20"
     ]
    },
    {
     "name": "stdout",
     "output_type": "stream",
     "text": [
      " http://www.reuters.com/article/2014/10/20/rbc-gam-investing-idUSnPn4T7QMf+96+PRN20141020\n",
      "'NoneType' object has no attribute 'text'"
     ]
    },
    {
     "name": "stdout",
     "output_type": "stream",
     "text": [
      " http://www.reuters.com/article/2014/10/20/ny-can-capital-idUSnPn9vZyHL+8b+PRN20141020\n",
      "'NoneType' object has no attribute 'text'"
     ]
    },
    {
     "name": "stdout",
     "output_type": "stream",
     "text": [
      " http://www.reuters.com/article/2014/10/20/irobot-us-navy-con-idUSnPn7bzgWZ+83+PRN20141020\n",
      "'NoneType' object has no attribute 'text'"
     ]
    },
    {
     "name": "stdout",
     "output_type": "stream",
     "text": [
      " http://www.reuters.com/article/2014/10/20/gannett-3q-earnings-idUSnPn3tNW0X+8d+PRN20141020\n",
      "'NoneType' object has no attribute 'text'"
     ]
    },
    {
     "name": "stdout",
     "output_type": "stream",
     "text": [
      " http://www.reuters.com/article/2014/10/20/gdsi-lawsuitairtronic-idUSnPn5nxFDG+87+PRN20141020\n",
      "'NoneType' object has no attribute 'text'"
     ]
    },
    {
     "name": "stdout",
     "output_type": "stream",
     "text": [
      " http://www.reuters.com/article/2014/10/20/primary-energy-acquis-idUSnPn3ZwqQd+92+PRN20141020\n",
      "'NoneType' object has no attribute 'text'"
     ]
    },
    {
     "name": "stdout",
     "output_type": "stream",
     "text": [
      " http://www.reuters.com/article/2014/10/20/cloudcannon-rightside-idUSnPn6D08Sy+92+PRN20141020\n",
      "'NoneType' object has no attribute 'text'"
     ]
    },
    {
     "name": "stdout",
     "output_type": "stream",
     "text": [
      " http://www.reuters.com/article/2014/10/20/hannonarmstrong-wind-idUSnPn37N5hl+88+PRN20141020\n",
      "'NoneType' object has no attribute 'text'"
     ]
    },
    {
     "name": "stdout",
     "output_type": "stream",
     "text": [
      " http://www.reuters.com/article/2014/10/20/equifax-mortgage-loan-idUSnPn4MC6nL+99+PRN20141020\n",
      "'NoneType' object has no attribute 'text'"
     ]
    },
    {
     "name": "stdout",
     "output_type": "stream",
     "text": [
      " http://www.reuters.com/article/2014/10/20/nc-bauman-tourtellot-idUSnPn7fv5Fv+82+PRN20141020\n",
      "'NoneType' object has no attribute 'text'"
     ]
    },
    {
     "name": "stdout",
     "output_type": "stream",
     "text": [
      "\n",
      "'NoneType' object has no attribute 'text'"
     ]
    },
    {
     "name": "stdout",
     "output_type": "stream",
     "text": [
      " http://www.reuters.com/article/2014/10/21/tech-lobbying-report-idUSnPn7BPnm0+98+PRN20141021\n",
      "2014-10-21"
     ]
    },
    {
     "name": "stdout",
     "output_type": "stream",
     "text": [
      " http://www.reuters.com/article/2014/10/21/bacardi-cocktail-comp-idUSnPn1yxpF9+82+PRN20141021\n",
      "'NoneType' object has no attribute 'text'"
     ]
    },
    {
     "name": "stdout",
     "output_type": "stream",
     "text": [
      " http://www.reuters.com/article/2014/10/21/cn-q3-results-idUSnPn3Tdw01+90+PRN20141021\n",
      "'NoneType' object has no attribute 'text'"
     ]
    },
    {
     "name": "stdout",
     "output_type": "stream",
     "text": [
      " http://www.reuters.com/article/2014/10/21/bc-investor-edge-idUSnPn7ZbXvZ+95+PRN20141021\n",
      "'NoneType' object has no attribute 'text'"
     ]
    },
    {
     "name": "stdout",
     "output_type": "stream",
     "text": [
      " http://www.reuters.com/article/2014/10/21/rotary-polio-day-idUSnPn1w37x7+80+PRN20141021\n",
      "'NoneType' object has no attribute 'text'"
     ]
    },
    {
     "name": "stdout",
     "output_type": "stream",
     "text": [
      " http://www.reuters.com/article/2014/10/21/99centsonlystores-idUSnPn48Bjtc+88+PRN20141021\n",
      "'NoneType' object has no attribute 'text'"
     ]
    },
    {
     "name": "stdout",
     "output_type": "stream",
     "text": [
      " http://www.reuters.com/article/2014/10/21/pa-wpvi-tv-debate-idUSnPn4B7W8w+94+PRN20141021\n",
      "'NoneType' object has no attribute 'text'"
     ]
    },
    {
     "name": "stdout",
     "output_type": "stream",
     "text": [
      " http://www.reuters.com/article/2014/10/21/us-travel-time-off-idUSnPnb9SmfF+89+PRN20141021\n",
      "'NoneType' object has no attribute 'text'"
     ]
    },
    {
     "name": "stdout",
     "output_type": "stream",
     "text": [
      " http://www.reuters.com/article/2014/10/21/igt-consent-for-notes-idUSnPn5r4bmD+81+PRN20141021\n",
      "'NoneType' object has no attribute 'text'"
     ]
    },
    {
     "name": "stdout",
     "output_type": "stream",
     "text": [
      " http://www.reuters.com/article/2014/10/21/dupont-epa-approval-idUSnPn97sTCj+86+PRN20141021\n",
      "'NoneType' object has no attribute 'text'"
     ]
    },
    {
     "name": "stdout",
     "output_type": "stream",
     "text": [
      " http://www.reuters.com/article/2014/10/21/eli-lilly-drugapp-fda-idUSnPn5jK4Zy+8a+PRN20141021\n",
      "'NoneType' object has no attribute 'text'"
     ]
    },
    {
     "name": "stdout",
     "output_type": "stream",
     "text": [
      " http://www.reuters.com/article/2014/10/21/la-att-inc-lsyou-idUSnPnGHRRV+5f+PRN20141021\n",
      "'NoneType' object has no attribute 'text'"
     ]
    },
    {
     "name": "stdout",
     "output_type": "stream",
     "text": [
      " http://www.reuters.com/article/2014/10/21/fl-interim-healthcare-idUSnPn81SZpb+8c+PRN20141021\n",
      "'NoneType' object has no attribute 'text'"
     ]
    },
    {
     "name": "stdout",
     "output_type": "stream",
     "text": [
      "\n",
      "'NoneType' object has no attribute 'text'"
     ]
    },
    {
     "name": "stdout",
     "output_type": "stream",
     "text": [
      " http://www.reuters.com/article/2014/10/22/vt-faraday-awarded-idUSnPnc7Sw0t+88+PRN20141022\n",
      "2014-10-22"
     ]
    },
    {
     "name": "stdout",
     "output_type": "stream",
     "text": [
      " http://www.reuters.com/article/2014/10/22/pwc-urban-land-report-idUSnPn86LdT3+8a+PRN20141022\n",
      "'NoneType' object has no attribute 'text'"
     ]
    },
    {
     "name": "stdout",
     "output_type": "stream",
     "text": [
      " http://www.reuters.com/article/2014/10/22/uli-pwc-real-estate-idUSnPn6BLTZN+9f+PRN20141022\n",
      "'NoneType' object has no attribute 'text'"
     ]
    },
    {
     "name": "stdout",
     "output_type": "stream",
     "text": [
      " http://www.reuters.com/article/2014/10/22/bc-oramed-pharmaceutical-idUSnPnbzK0jK+89+PRN20141022\n",
      "'NoneType' object has no attribute 'text'"
     ]
    },
    {
     "name": "stdout",
     "output_type": "stream",
     "text": [
      " http://www.reuters.com/article/2014/10/22/bc-investor-edge-idUSnPnbCdLNZ+97+PRN20141022\n",
      "'NoneType' object has no attribute 'text'"
     ]
    },
    {
     "name": "stdout",
     "output_type": "stream",
     "text": [
      " http://www.reuters.com/article/2014/10/22/corelaboratories-erns-idUSnPn9gXnN+45+PRN20141022\n",
      "'NoneType' object has no attribute 'text'"
     ]
    },
    {
     "name": "stdout",
     "output_type": "stream",
     "text": [
      " http://www.reuters.com/article/2014/10/22/ny-pubmatic-expands-idUSnPn8Wtfg0+90+PRN20141022\n",
      "'NoneType' object has no attribute 'text'"
     ]
    },
    {
     "name": "stdout",
     "output_type": "stream",
     "text": [
      " http://www.reuters.com/article/2014/10/22/telect-999-server-idUSnPn7X1fRK+93+PRN20141022\n",
      "'NoneType' object has no attribute 'text'"
     ]
    },
    {
     "name": "stdout",
     "output_type": "stream",
     "text": [
      " http://www.reuters.com/article/2014/10/22/ny-hoteles-city-earns-idUSnPn1HSDQN+9f+PRN20141022\n",
      "'NoneType' object has no attribute 'text'"
     ]
    },
    {
     "name": "stdout",
     "output_type": "stream",
     "text": [
      " http://www.reuters.com/article/2014/10/22/bluerock-energy-hires-idUSnPn4v1QPl+86+PRN20141022\n",
      "'NoneType' object has no attribute 'text'"
     ]
    },
    {
     "name": "stdout",
     "output_type": "stream",
     "text": [
      " http://www.reuters.com/article/2014/10/22/ca-mosaic-sunshot-idUSnPn9wHPWr+8e+PRN20141022\n",
      "'NoneType' object has no attribute 'text'"
     ]
    },
    {
     "name": "stdout",
     "output_type": "stream",
     "text": [
      " http://www.reuters.com/article/2014/10/22/ny-holosfind-digital-idUSnPn2Fclp2+90+PRN20141022\n",
      "'NoneType' object has no attribute 'text'"
     ]
    },
    {
     "name": "stdout",
     "output_type": "stream",
     "text": [
      " http://www.reuters.com/article/2014/10/22/md-2u-namedforgrowth-idUSnPn4lCbxC+89+PRN20141022\n",
      "'NoneType' object has no attribute 'text'"
     ]
    },
    {
     "name": "stdout",
     "output_type": "stream",
     "text": [
      " http://www.reuters.com/article/2014/10/22/bc-analysts-review-idUSnPn55Stjh+88+PRN20141022\n",
      "'NoneType' object has no attribute 'text'"
     ]
    },
    {
     "name": "stdout",
     "output_type": "stream",
     "text": [
      "\n",
      "'NoneType' object has no attribute 'text'"
     ]
    },
    {
     "name": "stdout",
     "output_type": "stream",
     "text": [
      " http://www.reuters.com/article/2014/10/23/mi-cms-energy-q3earns-idUSnPnSnTTz+56+PRN20141023\n",
      "2014-10-23"
     ]
    },
    {
     "name": "stdout",
     "output_type": "stream",
     "text": [
      " http://www.reuters.com/article/2014/10/23/sigma-aldrichq3erns-idUSnPnp5WsJ+45+PRN20141023\n",
      "'NoneType' object has no attribute 'text'"
     ]
    },
    {
     "name": "stdout",
     "output_type": "stream",
     "text": [
      " http://www.reuters.com/article/2014/10/23/landstar-earnings-idUSnPn76QTVp+8e+PRN20141023\n",
      "'NoneType' object has no attribute 'text'"
     ]
    },
    {
     "name": "stdout",
     "output_type": "stream",
     "text": [
      " http://www.reuters.com/article/2014/10/23/prop45-insurance-ads-idUSnPn2Hgv72+90+PRN20141023\n",
      "'NoneType' object has no attribute 'text'"
     ]
    },
    {
     "name": "stdout",
     "output_type": "stream",
     "text": [
      " http://www.reuters.com/article/2014/10/23/ipen-utilitypole-toxn-idUSnPn5C46PW+93+PRN20141023\n",
      "'NoneType' object has no attribute 'text'"
     ]
    },
    {
     "name": "stdout",
     "output_type": "stream",
     "text": [
      " http://www.reuters.com/article/2014/10/23/fannie-mae-outlook-idUSnPn8rlM6Z+85+PRN20141023\n",
      "'NoneType' object has no attribute 'text'"
     ]
    },
    {
     "name": "stdout",
     "output_type": "stream",
     "text": [
      " http://www.reuters.com/article/2014/10/23/chubb-group-erns-idUSnPn2Gk32v+90+PRN20141023\n",
      "'NoneType' object has no attribute 'text'"
     ]
    },
    {
     "name": "stdout",
     "output_type": "stream",
     "text": [
      " http://www.reuters.com/article/2014/10/23/mi-chrysler-200-safe-idUSnPn5JQH9X+9d+PRN20141023\n",
      "'NoneType' object has no attribute 'text'"
     ]
    },
    {
     "name": "stdout",
     "output_type": "stream",
     "text": [
      " http://www.reuters.com/article/2014/10/23/ga-pultegroup-div-idUSnPnbRgWzN+95+PRN20141023\n",
      "'NoneType' object has no attribute 'text'"
     ]
    },
    {
     "name": "stdout",
     "output_type": "stream",
     "text": [
      " http://www.reuters.com/article/2014/10/23/tds-usm-confcall-idUSnPnc1Pm9r+88+PRN20141023\n",
      "'NoneType' object has no attribute 'text'"
     ]
    },
    {
     "name": "stdout",
     "output_type": "stream",
     "text": [
      " http://www.reuters.com/article/2014/10/23/sierrarailroad-awards-idUSnPn41mpQS+83+PRN20141023\n",
      "'NoneType' object has no attribute 'text'"
     ]
    },
    {
     "name": "stdout",
     "output_type": "stream",
     "text": [
      " http://www.reuters.com/article/2014/10/23/tx-sn-q3-update-idUSnPnc70TQw+86+PRN20141023\n",
      "'NoneType' object has no attribute 'text'"
     ]
    },
    {
     "name": "stdout",
     "output_type": "stream",
     "text": [
      " http://www.reuters.com/article/2014/10/23/tx-comericabank-idUSnPn4cbFQb+86+PRN20141023\n",
      "'NoneType' object has no attribute 'text'"
     ]
    },
    {
     "name": "stdout",
     "output_type": "stream",
     "text": [
      " http://www.reuters.com/article/2014/10/23/tropicalsmoothiecafe-idUSnPn69L2Wm+8a+PRN20141023\n",
      "'NoneType' object has no attribute 'text'"
     ]
    },
    {
     "name": "stdout",
     "output_type": "stream",
     "text": [
      "\n",
      "'NoneType' object has no attribute 'text'"
     ]
    },
    {
     "name": "stdout",
     "output_type": "stream",
     "text": [
      " http://www.reuters.com/article/2014/10/24/united-bancorp-earns-idUSnPn6YjGp+4a+PRN20141024\n",
      "2014-10-24"
     ]
    },
    {
     "name": "stdout",
     "output_type": "stream",
     "text": [
      " http://www.reuters.com/article/2014/10/24/huawei-wash-redskins-idUSnPn2kcjLy+82+PRN20141024\n",
      "'NoneType' object has no attribute 'text'"
     ]
    },
    {
     "name": "stdout",
     "output_type": "stream",
     "text": [
      " http://www.reuters.com/article/2014/10/24/bc-investor-edge-idUSnPn5bgK1N+85+PRN20141024\n",
      "'NoneType' object has no attribute 'text'"
     ]
    },
    {
     "name": "stdout",
     "output_type": "stream",
     "text": [
      " http://www.reuters.com/article/2014/10/24/fhlb-dallas-awards-idUSnPn35z3mV+81+PRN20141024\n",
      "'NoneType' object has no attribute 'text'"
     ]
    },
    {
     "name": "stdout",
     "output_type": "stream",
     "text": [
      " http://www.reuters.com/article/2014/10/24/ca-allsportsmarket-idUSnPn2PcN01+94+PRN20141024\n",
      "'NoneType' object has no attribute 'text'"
     ]
    },
    {
     "name": "stdout",
     "output_type": "stream",
     "text": [
      " http://www.reuters.com/article/2014/10/24/ut-taskeasy-funding-idUSnPn9GtnrM+91+PRN20141024\n",
      "'NoneType' object has no attribute 'text'"
     ]
    },
    {
     "name": "stdout",
     "output_type": "stream",
     "text": [
      " http://www.reuters.com/article/2014/10/24/oncolytics-entersagre-idUSnPn3gSpb6+88+PRN20141024\n",
      "'NoneType' object has no attribute 'text'"
     ]
    },
    {
     "name": "stdout",
     "output_type": "stream",
     "text": [
      "\n",
      "'NoneType' object has no attribute 'text'"
     ]
    },
    {
     "name": "stdout",
     "output_type": "stream",
     "text": [
      " http://www.reuters.com/article/2014/10/25/repubsudan-renewal-idUSnPn3KrR9y+94+PRN20141025\n",
      "2014-10-25"
     ]
    },
    {
     "name": "stdout",
     "output_type": "stream",
     "text": [
      " http://www.reuters.com/article/2014/10/25/electjohnpistonecongr-idUSnPn4FJ16H+99+PRN20141025\n",
      "'NoneType' object has no attribute 'text'"
     ]
    },
    {
     "name": "stdout",
     "output_type": "stream",
     "text": [
      " http://www.reuters.com/article/2014/10/25/census-daily-features-idUSnPn7QnQkL+95+PRN20141025\n",
      "'NoneType' object has no attribute 'text'"
     ]
    },
    {
     "name": "stdout",
     "output_type": "stream",
     "text": [
      " http://www.reuters.com/article/2014/10/25/la-ksf-law-vs-cnl-idUSnPn9nQjzG+89+PRN20141025\n",
      "'NoneType' object has no attribute 'text'"
     ]
    },
    {
     "name": "stdout",
     "output_type": "stream",
     "text": [
      " http://www.reuters.com/article/2014/10/25/la-ksf-law-vs-driv-idUSnPn4Ls8X9+92+PRN20141025\n",
      "'NoneType' object has no attribute 'text'"
     ]
    },
    {
     "name": "stdout",
     "output_type": "stream",
     "text": [
      " http://www.reuters.com/article/2014/10/25/robertweinermarijuana-idUSnPn3Rhxvq+90+PRN20141025\n",
      "'NoneType' object has no attribute 'text'"
     ]
    },
    {
     "name": "stdout",
     "output_type": "stream",
     "text": [
      " http://www.reuters.com/article/2014/10/25/hmg-gm-ignition-suit-idUSnPn4g62Vg+82+PRN20141025\n",
      "'NoneType' object has no attribute 'text'"
     ]
    },
    {
     "name": "stdout",
     "output_type": "stream",
     "text": [
      " http://www.reuters.com/article/2014/10/25/wild-animal-sanctuary-idUSnPncdtn93+80+PRN20141025\n",
      "'NoneType' object has no attribute 'text'"
     ]
    },
    {
     "name": "stdout",
     "output_type": "stream",
     "text": [
      "\n",
      "'NoneType' object has no attribute 'text'"
     ]
    },
    {
     "name": "stdout",
     "output_type": "stream",
     "text": [
      " http://www.reuters.com/article/2014/10/26/bnymellonsa-nv-europe-idUSnPn8HqlN4+92+PRN20141026\n",
      "2014-10-26"
     ]
    },
    {
     "name": "stdout",
     "output_type": "stream",
     "text": [
      " http://www.reuters.com/article/2014/10/26/census-daily-feature-idUSnPn5FpzRR+93+PRN20141026\n",
      "'NoneType' object has no attribute 'text'"
     ]
    },
    {
     "name": "stdout",
     "output_type": "stream",
     "text": [
      "\n",
      "'NoneType' object has no attribute 'text'"
     ]
    },
    {
     "name": "stdout",
     "output_type": "stream",
     "text": [
      " http://www.reuters.com/article/2014/10/27/spil-earn-3q-idUSnPn4NMY6P+9d+PRN20141027\n",
      "2014-10-27"
     ]
    },
    {
     "name": "stdout",
     "output_type": "stream",
     "text": [
      " http://www.reuters.com/article/2014/10/27/bc-investor-edge-idUSnPn8t7z3x+80+PRN20141027\n",
      "'NoneType' object has no attribute 'text'"
     ]
    },
    {
     "name": "stdout",
     "output_type": "stream",
     "text": [
      " http://www.reuters.com/article/2014/10/27/pa-independenceled-idUSnPn6rh7bv+80+PRN20141027\n",
      "'NoneType' object has no attribute 'text'"
     ]
    },
    {
     "name": "stdout",
     "output_type": "stream",
     "text": [
      " http://www.reuters.com/article/2014/10/27/bc-investor-edge-idUSnPn9t8q26+80+PRN20141027\n",
      "'NoneType' object has no attribute 'text'"
     ]
    },
    {
     "name": "stdout",
     "output_type": "stream",
     "text": [
      " http://www.reuters.com/article/2014/10/27/ca-amgn-erns-idUSnPn18b8Js+82+PRN20141027\n",
      "'NoneType' object has no attribute 'text'"
     ]
    },
    {
     "name": "stdout",
     "output_type": "stream",
     "text": [
      " http://www.reuters.com/article/2014/10/27/md-agnc-earnings-idUSnPn5PB270+98+PRN20141027\n",
      "'NoneType' object has no attribute 'text'"
     ]
    },
    {
     "name": "stdout",
     "output_type": "stream",
     "text": [
      " http://www.reuters.com/article/2014/10/27/tx-oii-creditagrement-idUSnPn9Y92tr+90+PRN20141027\n",
      "'NoneType' object has no attribute 'text'"
     ]
    },
    {
     "name": "stdout",
     "output_type": "stream",
     "text": [
      " http://www.reuters.com/article/2014/10/27/bc-analysts-review-idUSnPntlkTh+42+PRN20141027\n",
      "'NoneType' object has no attribute 'text'"
     ]
    },
    {
     "name": "stdout",
     "output_type": "stream",
     "text": [
      " http://www.reuters.com/article/2014/10/27/bc-investor-edge-idUSnPn9MH7PQ+9b+PRN20141027\n",
      "'NoneType' object has no attribute 'text'"
     ]
    },
    {
     "name": "stdout",
     "output_type": "stream",
     "text": [
      " http://www.reuters.com/article/2014/10/27/ca-jd-power-report-idUSnPnspCT9+46+PRN20141027\n",
      "'NoneType' object has no attribute 'text'"
     ]
    },
    {
     "name": "stdout",
     "output_type": "stream",
     "text": [
      " http://www.reuters.com/article/2014/10/27/linecorp-linepop-idUSnPn9SpkS+49+PRN20141027\n",
      "'NoneType' object has no attribute 'text'"
     ]
    },
    {
     "name": "stdout",
     "output_type": "stream",
     "text": [
      " http://www.reuters.com/article/2014/10/27/ca-deliv-expands-idUSnPn2dKjTJ+8b+PRN20141027\n",
      "'NoneType' object has no attribute 'text'"
     ]
    },
    {
     "name": "stdout",
     "output_type": "stream",
     "text": [
      " http://www.reuters.com/article/2014/10/27/fl-yellowpepper-citi-idUSnPn4dHXcd+8c+PRN20141027\n",
      "'NoneType' object has no attribute 'text'"
     ]
    },
    {
     "name": "stdout",
     "output_type": "stream",
     "text": [
      " http://www.reuters.com/article/2014/10/27/generaldynamics-c-idUSnPn3shvSx+82+PRN20141027\n",
      "'NoneType' object has no attribute 'text'"
     ]
    },
    {
     "name": "stdout",
     "output_type": "stream",
     "text": [
      " http://www.reuters.com/article/2014/10/27/nd-bnccorp-q3-earns-idUSnPn9q8zL1+82+PRN20141027\n",
      "'NoneType' object has no attribute 'text'"
     ]
    },
    {
     "name": "stdout",
     "output_type": "stream",
     "text": [
      "\n",
      "'NoneType' object has no attribute 'text'"
     ]
    },
    {
     "name": "stdout",
     "output_type": "stream",
     "text": [
      " http://www.reuters.com/article/2014/10/28/bc-investor-edge-idUSnPn8J3519+90+PRN20141028\n",
      "2014-10-28"
     ]
    },
    {
     "name": "stdout",
     "output_type": "stream",
     "text": [
      " http://www.reuters.com/article/2014/10/28/cynosure-earnings-idUSnPn7w51bP+81+PRN20141028\n",
      "'NoneType' object has no attribute 'text'"
     ]
    },
    {
     "name": "stdout",
     "output_type": "stream",
     "text": [
      " http://www.reuters.com/article/2014/10/28/diesel-tech-forum-scr-idUSnPnbZ8TKc+96+PRN20141028\n",
      "'NoneType' object has no attribute 'text'"
     ]
    },
    {
     "name": "stdout",
     "output_type": "stream",
     "text": [
      " http://www.reuters.com/article/2014/10/28/dc-raytheon-help-vets-idUSnPnsdlsq+40+PRN20141028\n",
      "'NoneType' object has no attribute 'text'"
     ]
    },
    {
     "name": "stdout",
     "output_type": "stream",
     "text": [
      " http://www.reuters.com/article/2014/10/28/bc-analysts-review-idUSnPn6MJQzG+9d+PRN20141028\n",
      "'NoneType' object has no attribute 'text'"
     ]
    },
    {
     "name": "stdout",
     "output_type": "stream",
     "text": [
      " http://www.reuters.com/article/2014/10/28/dc-daschlegroup-forms-idUSnPn76dkVD+83+PRN20141028\n",
      "'NoneType' object has no attribute 'text'"
     ]
    },
    {
     "name": "stdout",
     "output_type": "stream",
     "text": [
      " http://www.reuters.com/article/2014/10/28/compuverde-uspatent-idUSnPn7MRF3+4e+PRN20141028\n",
      "'NoneType' object has no attribute 'text'"
     ]
    },
    {
     "name": "stdout",
     "output_type": "stream",
     "text": [
      " http://www.reuters.com/article/2014/10/28/lionsgate-conf-call-idUSnPn4GMyp9+98+PRN20141028\n",
      "'NoneType' object has no attribute 'text'"
     ]
    },
    {
     "name": "stdout",
     "output_type": "stream",
     "text": [
      " http://www.reuters.com/article/2014/10/28/de-dupont-earnings-idUSnPn7dRs3d+88+PRN20141028\n",
      "'NoneType' object has no attribute 'text'"
     ]
    },
    {
     "name": "stdout",
     "output_type": "stream",
     "text": [
      " http://www.reuters.com/article/2014/10/28/ca-plastc-record-idUSnPn2zXLRZ+8f+PRN20141028\n",
      "'NoneType' object has no attribute 'text'"
     ]
    },
    {
     "name": "stdout",
     "output_type": "stream",
     "text": [
      "2014-10-29\n",
      "'NoneType' object has no attribute 'text'"
     ]
    }
   ],
   "source": [
    "date = dt.date(2014,10,29)\n",
    "end = dt.date(2013,12,31)\n",
    "day = dt.timedelta(days=1)\n",
    "\n",
    "while date != end:\n",
    "    print(date)\n",
    "    url = 'http://www.reuters.com/resources/archive/us/%s.html' % date.strftime('%Y%m%d')\n",
    "    dates,titles,contents,links = get_articles_by_date(date)\n",
    "    insert_in_db(dates,titles,contents,links)\n",
    "    date = date - day"
   ]
  },
  {
   "cell_type": "code",
   "execution_count": 20,
   "metadata": {
    "autoscroll": "json-false",
    "collapsed": false,
    "ein.tags": [
     "worksheet-0"
    ]
   },
   "outputs": [
    {
     "data": {
      "text/plain": [
       "5"
      ]
     },
     "execution_count": 20,
     "metadata": {},
     "output_type": "execute_result"
    }
   ],
   "source": [
    "2+3"
   ]
  },
  {
   "cell_type": "code",
   "execution_count": 0,
   "metadata": {
    "autoscroll": "json-false",
    "collapsed": false,
    "ein.tags": [
     "worksheet-0"
    ]
   },
   "outputs": [],
   "source": []
  }
 ],
 "metadata": {
  "kernelspec": {
   "display_name": "Python 3",
   "name": "python3"
  },
  "language_info": {
   "codemirror_mode": {
    "name": "ipython",
    "version": 3
   },
   "file_extension": ".py",
   "mimetype": "text/x-python",
   "name": "python",
   "nbconvert_exporter": "python",
   "pygments_lexer": "ipython3",
   "version": "3.5.1"
  },
  "name": "titles_discriminator.ipynb"
 },
 "nbformat": 4,
 "nbformat_minor": 0
}
