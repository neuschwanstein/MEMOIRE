{
 "cells": [
  {
   "cell_type": "code",
   "execution_count": 1,
   "metadata": {
    "autoscroll": false,
    "ein.tags": "worksheet-0",
    "slideshow": {
     "slide_type": "-"
    }
   },
   "outputs": [],
   "source": [
    "%load_ext autoreload\n",
    "%autoreload 2"
   ]
  },
  {
   "cell_type": "code",
   "execution_count": 2,
   "metadata": {
    "autoscroll": false,
    "ein.tags": "worksheet-0",
    "slideshow": {
     "slide_type": "-"
    }
   },
   "outputs": [],
   "source": [
    "import matplotlib as mpl\n",
    "from matplotlib import rc\n",
    "rc('text',usetex=False)\n",
    "rc('font',**{'family':'serif','serif':['Times New Roman'],'size':8})\n",
    "rc('mathtext',fontset='cm')\n",
    "import matplotlib.pyplot as plt\n",
    "% matplotlib inline\n",
    "% config InlineBackend.figure_format = 'svg'\n",
    "% config InlineBackend.rc = {'figure.figsize': (5,3.5)}"
   ]
  },
  {
   "cell_type": "code",
   "execution_count": 3,
   "metadata": {
    "autoscroll": false,
    "ein.tags": "worksheet-0",
    "slideshow": {
     "slide_type": "-"
    }
   },
   "outputs": [],
   "source": [
    "import numpy as np\n",
    "from numpy import sqrt,log,array as ar\n",
    "import numpy.linalg as la\n",
    "import cvxpy as cvx\n",
    "from helper import *\n",
    "from cd.model.utility import LipschitzExpUtility as leu, RiskNeutralUtility as rnu\n",
    "from cd.model.distrs import RademacherDistribution,UniformDistribution\n",
    "import cd.model.synth_data as synth\n",
    "import scaler\n",
    "from itertools import product"
   ]
  },
  {
   "cell_type": "markdown",
   "metadata": {
    "ein.tags": "worksheet-0",
    "slideshow": {
     "slide_type": "-"
    }
   },
   "source": [
    "## Sous optimalité"
   ]
  },
  {
   "cell_type": "code",
   "execution_count": 4,
   "metadata": {
    "autoscroll": false,
    "ein.tags": "worksheet-0",
    "slideshow": {
     "slide_type": "-"
    }
   },
   "outputs": [
    {
     "ename": "NameError",
     "evalue": "name 'ns' is not defined",
     "output_type": "error",
     "traceback": [
      "\u001b[0;31m---------------------------------------------------------------------------\u001b[0m",
      "\u001b[0;31mNameError\u001b[0m                                 Traceback (most recent call last)",
      "\u001b[0;32m<ipython-input-4-340b4b34a41a>\u001b[0m in \u001b[0;36m<module>\u001b[0;34m()\u001b[0m\n\u001b[1;32m      6\u001b[0m \u001b[0mpltu1\u001b[0m\u001b[0;34m.\u001b[0m\u001b[0mtick_params\u001b[0m\u001b[0;34m(\u001b[0m\u001b[0;34m'y'\u001b[0m\u001b[0;34m,\u001b[0m\u001b[0mcolors\u001b[0m\u001b[0;34m=\u001b[0m\u001b[0;34m'C0'\u001b[0m\u001b[0;34m)\u001b[0m\u001b[0;34m\u001b[0m\u001b[0m\n\u001b[1;32m      7\u001b[0m \u001b[0;34m\u001b[0m\u001b[0m\n\u001b[0;32m----> 8\u001b[0;31m \u001b[0mpltu1\u001b[0m\u001b[0;34m.\u001b[0m\u001b[0mplot\u001b[0m\u001b[0;34m(\u001b[0m\u001b[0mns\u001b[0m\u001b[0;34m,\u001b[0m\u001b[0merror\u001b[0m\u001b[0;34m[\u001b[0m\u001b[0;34m:\u001b[0m\u001b[0;34m,\u001b[0m\u001b[0;36m0\u001b[0m\u001b[0;34m]\u001b[0m\u001b[0;34m,\u001b[0m\u001b[0;34m'C0-s'\u001b[0m\u001b[0;34m,\u001b[0m\u001b[0mmarkevery\u001b[0m\u001b[0;34m=\u001b[0m\u001b[0;36m6\u001b[0m\u001b[0;34m,\u001b[0m\u001b[0mms\u001b[0m\u001b[0;34m=\u001b[0m\u001b[0;36m4\u001b[0m\u001b[0;34m,\u001b[0m\u001b[0mlabel\u001b[0m\u001b[0;34m=\u001b[0m\u001b[0;34m'$\\mu=1$'\u001b[0m\u001b[0;34m)\u001b[0m\u001b[0;34m\u001b[0m\u001b[0m\n\u001b[0m\u001b[1;32m      9\u001b[0m \u001b[0mpltu1\u001b[0m\u001b[0;34m.\u001b[0m\u001b[0mplot\u001b[0m\u001b[0;34m(\u001b[0m\u001b[0mns\u001b[0m\u001b[0;34m,\u001b[0m\u001b[0merror\u001b[0m\u001b[0;34m[\u001b[0m\u001b[0;34m:\u001b[0m\u001b[0;34m,\u001b[0m\u001b[0;36m1\u001b[0m\u001b[0;34m]\u001b[0m\u001b[0;34m,\u001b[0m\u001b[0;34m'C0-o'\u001b[0m\u001b[0;34m,\u001b[0m\u001b[0mmarkevery\u001b[0m\u001b[0;34m=\u001b[0m\u001b[0;36m6\u001b[0m\u001b[0;34m,\u001b[0m\u001b[0mms\u001b[0m\u001b[0;34m=\u001b[0m\u001b[0;36m4\u001b[0m\u001b[0;34m,\u001b[0m\u001b[0mlabel\u001b[0m\u001b[0;34m=\u001b[0m\u001b[0;34m'$\\mu=1/2$'\u001b[0m\u001b[0;34m)\u001b[0m\u001b[0;34m\u001b[0m\u001b[0m\n\u001b[1;32m     10\u001b[0m \u001b[0mpltu1\u001b[0m\u001b[0;34m.\u001b[0m\u001b[0mlegend\u001b[0m\u001b[0;34m(\u001b[0m\u001b[0;34m)\u001b[0m\u001b[0;34m;\u001b[0m\u001b[0;34m\u001b[0m\u001b[0m\n",
      "\u001b[0;31mNameError\u001b[0m: name 'ns' is not defined"
     ]
    },
    {
     "data": {
      "text/plain": [
       "<matplotlib.figure.Figure at 0x10d68f908>"
      ]
     },
     "metadata": {},
     "output_type": "display_data"
    },
    {
     "data": {
      "image/svg+xml": [
       "<?xml version=\"1.0\" encoding=\"utf-8\" standalone=\"no\"?>\n",
       "<!DOCTYPE svg PUBLIC \"-//W3C//DTD SVG 1.1//EN\"\n",
       "  \"http://www.w3.org/Graphics/SVG/1.1/DTD/svg11.dtd\">\n",
       "<!-- Created with matplotlib (http://matplotlib.org/) -->\n",
       "<svg height=\"468pt\" version=\"1.1\" viewBox=\"0 0 374 468\" width=\"374pt\" xmlns=\"http://www.w3.org/2000/svg\" xmlns:xlink=\"http://www.w3.org/1999/xlink\">\n",
       " <defs>\n",
       "  <style type=\"text/css\">\n",
       "*{stroke-linecap:butt;stroke-linejoin:round;}\n",
       "  </style>\n",
       " </defs>\n",
       " <g id=\"figure_1\">\n",
       "  <g id=\"patch_1\">\n",
       "   <path d=\"M 0 468.862812 \n",
       "L 374.95 468.862812 \n",
       "L 374.95 0 \n",
       "L 0 0 \n",
       "z\n",
       "\" style=\"fill:none;\"/>\n",
       "  </g>\n",
       "  <g id=\"axes_1\">\n",
       "   <g id=\"patch_2\">\n",
       "    <path d=\"M 26.7 208.372727 \n",
       "L 361.5 208.372727 \n",
       "L 361.5 10.7 \n",
       "L 26.7 10.7 \n",
       "z\n",
       "\" style=\"fill:#ffffff;\"/>\n",
       "   </g>\n",
       "   <g id=\"matplotlib.axis_1\">\n",
       "    <g id=\"xtick_1\">\n",
       "     <g id=\"line2d_1\">\n",
       "      <defs>\n",
       "       <path d=\"M 0 0 \n",
       "L 0 3.5 \n",
       "\" id=\"m17c56147ae\" style=\"stroke:#000000;stroke-width:0.8;\"/>\n",
       "      </defs>\n",
       "      <g>\n",
       "       <use style=\"stroke:#000000;stroke-width:0.8;\" x=\"26.7\" xlink:href=\"#m17c56147ae\" y=\"208.372727\"/>\n",
       "      </g>\n",
       "     </g>\n",
       "    </g>\n",
       "    <g id=\"xtick_2\">\n",
       "     <g id=\"line2d_2\">\n",
       "      <g>\n",
       "       <use style=\"stroke:#000000;stroke-width:0.8;\" x=\"93.66\" xlink:href=\"#m17c56147ae\" y=\"208.372727\"/>\n",
       "      </g>\n",
       "     </g>\n",
       "    </g>\n",
       "    <g id=\"xtick_3\">\n",
       "     <g id=\"line2d_3\">\n",
       "      <g>\n",
       "       <use style=\"stroke:#000000;stroke-width:0.8;\" x=\"160.62\" xlink:href=\"#m17c56147ae\" y=\"208.372727\"/>\n",
       "      </g>\n",
       "     </g>\n",
       "    </g>\n",
       "    <g id=\"xtick_4\">\n",
       "     <g id=\"line2d_4\">\n",
       "      <g>\n",
       "       <use style=\"stroke:#000000;stroke-width:0.8;\" x=\"227.58\" xlink:href=\"#m17c56147ae\" y=\"208.372727\"/>\n",
       "      </g>\n",
       "     </g>\n",
       "    </g>\n",
       "    <g id=\"xtick_5\">\n",
       "     <g id=\"line2d_5\">\n",
       "      <g>\n",
       "       <use style=\"stroke:#000000;stroke-width:0.8;\" x=\"294.54\" xlink:href=\"#m17c56147ae\" y=\"208.372727\"/>\n",
       "      </g>\n",
       "     </g>\n",
       "    </g>\n",
       "    <g id=\"xtick_6\">\n",
       "     <g id=\"line2d_6\">\n",
       "      <g>\n",
       "       <use style=\"stroke:#000000;stroke-width:0.8;\" x=\"361.5\" xlink:href=\"#m17c56147ae\" y=\"208.372727\"/>\n",
       "      </g>\n",
       "     </g>\n",
       "    </g>\n",
       "   </g>\n",
       "   <g id=\"matplotlib.axis_2\">\n",
       "    <g id=\"ytick_1\">\n",
       "     <g id=\"line2d_7\">\n",
       "      <defs>\n",
       "       <path d=\"M 0 0 \n",
       "L -3.5 0 \n",
       "\" id=\"m1a8b29cf49\" style=\"stroke:#1f77b4;stroke-width:0.8;\"/>\n",
       "      </defs>\n",
       "      <g>\n",
       "       <use style=\"fill:#1f77b4;stroke:#1f77b4;stroke-width:0.8;\" x=\"26.7\" xlink:href=\"#m1a8b29cf49\" y=\"208.372727\"/>\n",
       "      </g>\n",
       "     </g>\n",
       "     <g id=\"text_1\">\n",
       "      <!-- 0.0 -->\n",
       "      <defs>\n",
       "       <path d=\"M 3.609375 32.71875 \n",
       "Q 3.609375 44.046875 7.03125 52.21875 \n",
       "Q 10.453125 60.40625 16.109375 64.40625 \n",
       "Q 20.515625 67.578125 25.203125 67.578125 \n",
       "Q 32.8125 67.578125 38.875 59.8125 \n",
       "Q 46.4375 50.203125 46.4375 33.734375 \n",
       "Q 46.4375 22.21875 43.109375 14.15625 \n",
       "Q 39.796875 6.109375 34.640625 2.46875 \n",
       "Q 29.5 -1.171875 24.703125 -1.171875 \n",
       "Q 15.234375 -1.171875 8.9375 10.015625 \n",
       "Q 3.609375 19.4375 3.609375 32.71875 \n",
       "z\n",
       "M 13.1875 31.5 \n",
       "Q 13.1875 17.828125 16.546875 9.1875 \n",
       "Q 19.34375 1.90625 24.859375 1.90625 \n",
       "Q 27.484375 1.90625 30.3125 4.265625 \n",
       "Q 33.15625 6.640625 34.625 12.203125 \n",
       "Q 36.859375 20.609375 36.859375 35.890625 \n",
       "Q 36.859375 47.21875 34.515625 54.78125 \n",
       "Q 32.765625 60.40625 29.984375 62.75 \n",
       "Q 27.984375 64.359375 25.140625 64.359375 \n",
       "Q 21.828125 64.359375 19.234375 61.375 \n",
       "Q 15.71875 57.328125 14.453125 48.625 \n",
       "Q 13.1875 39.9375 13.1875 31.5 \n",
       "z\n",
       "\" id=\"TimesNewRomanPSMT-30\"/>\n",
       "       <path d=\"M 12.5 9.46875 \n",
       "Q 14.796875 9.46875 16.359375 7.875 \n",
       "Q 17.921875 6.296875 17.921875 4.046875 \n",
       "Q 17.921875 1.8125 16.328125 0.21875 \n",
       "Q 14.75 -1.375 12.5 -1.375 \n",
       "Q 10.25 -1.375 8.65625 0.21875 \n",
       "Q 7.078125 1.8125 7.078125 4.046875 \n",
       "Q 7.078125 6.34375 8.65625 7.90625 \n",
       "Q 10.25 9.46875 12.5 9.46875 \n",
       "z\n",
       "\" id=\"TimesNewRomanPSMT-2e\"/>\n",
       "      </defs>\n",
       "      <g style=\"fill:#1f77b4;\" transform=\"translate(7.2 211.844602)scale(0.1 -0.1)\">\n",
       "       <use xlink:href=\"#TimesNewRomanPSMT-30\"/>\n",
       "       <use x=\"50\" xlink:href=\"#TimesNewRomanPSMT-2e\"/>\n",
       "       <use x=\"75\" xlink:href=\"#TimesNewRomanPSMT-30\"/>\n",
       "      </g>\n",
       "     </g>\n",
       "    </g>\n",
       "    <g id=\"ytick_2\">\n",
       "     <g id=\"line2d_8\">\n",
       "      <g>\n",
       "       <use style=\"fill:#1f77b4;stroke:#1f77b4;stroke-width:0.8;\" x=\"26.7\" xlink:href=\"#m1a8b29cf49\" y=\"168.838182\"/>\n",
       "      </g>\n",
       "     </g>\n",
       "     <g id=\"text_2\">\n",
       "      <!-- 0.2 -->\n",
       "      <defs>\n",
       "       <path d=\"M 45.84375 12.75 \n",
       "L 41.21875 0 \n",
       "L 2.15625 0 \n",
       "L 2.15625 1.8125 \n",
       "Q 19.390625 17.53125 26.421875 27.484375 \n",
       "Q 33.453125 37.453125 33.453125 45.703125 \n",
       "Q 33.453125 52 29.59375 56.046875 \n",
       "Q 25.734375 60.109375 20.359375 60.109375 \n",
       "Q 15.484375 60.109375 11.59375 57.25 \n",
       "Q 7.71875 54.390625 5.859375 48.875 \n",
       "L 4.046875 48.875 \n",
       "Q 5.28125 57.90625 10.328125 62.734375 \n",
       "Q 15.375 67.578125 22.953125 67.578125 \n",
       "Q 31 67.578125 36.390625 62.40625 \n",
       "Q 41.796875 57.234375 41.796875 50.203125 \n",
       "Q 41.796875 45.171875 39.453125 40.140625 \n",
       "Q 35.84375 32.234375 27.734375 23.390625 \n",
       "Q 15.578125 10.109375 12.546875 7.375 \n",
       "L 29.828125 7.375 \n",
       "Q 35.109375 7.375 37.234375 7.765625 \n",
       "Q 39.359375 8.15625 41.0625 9.34375 \n",
       "Q 42.78125 10.546875 44.046875 12.75 \n",
       "z\n",
       "\" id=\"TimesNewRomanPSMT-32\"/>\n",
       "      </defs>\n",
       "      <g style=\"fill:#1f77b4;\" transform=\"translate(7.2 172.310057)scale(0.1 -0.1)\">\n",
       "       <use xlink:href=\"#TimesNewRomanPSMT-30\"/>\n",
       "       <use x=\"50\" xlink:href=\"#TimesNewRomanPSMT-2e\"/>\n",
       "       <use x=\"75\" xlink:href=\"#TimesNewRomanPSMT-32\"/>\n",
       "      </g>\n",
       "     </g>\n",
       "    </g>\n",
       "    <g id=\"ytick_3\">\n",
       "     <g id=\"line2d_9\">\n",
       "      <g>\n",
       "       <use style=\"fill:#1f77b4;stroke:#1f77b4;stroke-width:0.8;\" x=\"26.7\" xlink:href=\"#m1a8b29cf49\" y=\"129.303636\"/>\n",
       "      </g>\n",
       "     </g>\n",
       "     <g id=\"text_3\">\n",
       "      <!-- 0.4 -->\n",
       "      <defs>\n",
       "       <path d=\"M 46.53125 24.421875 \n",
       "L 46.53125 17.484375 \n",
       "L 37.640625 17.484375 \n",
       "L 37.640625 0 \n",
       "L 29.59375 0 \n",
       "L 29.59375 17.484375 \n",
       "L 1.5625 17.484375 \n",
       "L 1.5625 23.734375 \n",
       "L 32.28125 67.578125 \n",
       "L 37.640625 67.578125 \n",
       "L 37.640625 24.421875 \n",
       "z\n",
       "M 29.59375 24.421875 \n",
       "L 29.59375 57.28125 \n",
       "L 6.34375 24.421875 \n",
       "z\n",
       "\" id=\"TimesNewRomanPSMT-34\"/>\n",
       "      </defs>\n",
       "      <g style=\"fill:#1f77b4;\" transform=\"translate(7.2 132.775511)scale(0.1 -0.1)\">\n",
       "       <use xlink:href=\"#TimesNewRomanPSMT-30\"/>\n",
       "       <use x=\"50\" xlink:href=\"#TimesNewRomanPSMT-2e\"/>\n",
       "       <use x=\"75\" xlink:href=\"#TimesNewRomanPSMT-34\"/>\n",
       "      </g>\n",
       "     </g>\n",
       "    </g>\n",
       "    <g id=\"ytick_4\">\n",
       "     <g id=\"line2d_10\">\n",
       "      <g>\n",
       "       <use style=\"fill:#1f77b4;stroke:#1f77b4;stroke-width:0.8;\" x=\"26.7\" xlink:href=\"#m1a8b29cf49\" y=\"89.769091\"/>\n",
       "      </g>\n",
       "     </g>\n",
       "     <g id=\"text_4\">\n",
       "      <!-- 0.6 -->\n",
       "      <defs>\n",
       "       <path d=\"M 44.828125 67.578125 \n",
       "L 44.828125 65.765625 \n",
       "Q 38.375 65.140625 34.296875 63.203125 \n",
       "Q 30.21875 61.28125 26.234375 57.328125 \n",
       "Q 22.265625 53.375 19.65625 48.515625 \n",
       "Q 17.046875 43.65625 15.28125 36.96875 \n",
       "Q 22.3125 41.796875 29.390625 41.796875 \n",
       "Q 36.1875 41.796875 41.15625 36.328125 \n",
       "Q 46.140625 30.859375 46.140625 22.265625 \n",
       "Q 46.140625 13.96875 41.109375 7.125 \n",
       "Q 35.0625 -1.171875 25.09375 -1.171875 \n",
       "Q 18.3125 -1.171875 13.578125 3.328125 \n",
       "Q 4.296875 12.0625 4.296875 25.984375 \n",
       "Q 4.296875 34.859375 7.859375 42.859375 \n",
       "Q 11.421875 50.875 18.03125 57.078125 \n",
       "Q 24.65625 63.28125 30.703125 65.421875 \n",
       "Q 36.765625 67.578125 42 67.578125 \n",
       "z\n",
       "M 14.453125 33.40625 \n",
       "Q 13.578125 26.8125 13.578125 22.75 \n",
       "Q 13.578125 18.0625 15.3125 12.5625 \n",
       "Q 17.046875 7.078125 20.453125 3.859375 \n",
       "Q 22.953125 1.5625 26.515625 1.5625 \n",
       "Q 30.765625 1.5625 34.109375 5.5625 \n",
       "Q 37.453125 9.578125 37.453125 17 \n",
       "Q 37.453125 25.34375 34.125 31.4375 \n",
       "Q 30.8125 37.546875 24.703125 37.546875 \n",
       "Q 22.859375 37.546875 20.734375 36.765625 \n",
       "Q 18.609375 35.984375 14.453125 33.40625 \n",
       "z\n",
       "\" id=\"TimesNewRomanPSMT-36\"/>\n",
       "      </defs>\n",
       "      <g style=\"fill:#1f77b4;\" transform=\"translate(7.2 93.240966)scale(0.1 -0.1)\">\n",
       "       <use xlink:href=\"#TimesNewRomanPSMT-30\"/>\n",
       "       <use x=\"50\" xlink:href=\"#TimesNewRomanPSMT-2e\"/>\n",
       "       <use x=\"75\" xlink:href=\"#TimesNewRomanPSMT-36\"/>\n",
       "      </g>\n",
       "     </g>\n",
       "    </g>\n",
       "    <g id=\"ytick_5\">\n",
       "     <g id=\"line2d_11\">\n",
       "      <g>\n",
       "       <use style=\"fill:#1f77b4;stroke:#1f77b4;stroke-width:0.8;\" x=\"26.7\" xlink:href=\"#m1a8b29cf49\" y=\"50.234545\"/>\n",
       "      </g>\n",
       "     </g>\n",
       "     <g id=\"text_5\">\n",
       "      <!-- 0.8 -->\n",
       "      <defs>\n",
       "       <path d=\"M 19.1875 33.34375 \n",
       "Q 11.328125 39.796875 9.046875 43.703125 \n",
       "Q 6.78125 47.609375 6.78125 51.8125 \n",
       "Q 6.78125 58.25 11.765625 62.90625 \n",
       "Q 16.75 67.578125 25 67.578125 \n",
       "Q 33.015625 67.578125 37.890625 63.234375 \n",
       "Q 42.78125 58.890625 42.78125 53.328125 \n",
       "Q 42.78125 49.609375 40.140625 45.75 \n",
       "Q 37.5 41.890625 29.15625 36.671875 \n",
       "Q 37.75 30.03125 40.53125 26.21875 \n",
       "Q 44.234375 21.234375 44.234375 15.71875 \n",
       "Q 44.234375 8.734375 38.90625 3.78125 \n",
       "Q 33.59375 -1.171875 24.953125 -1.171875 \n",
       "Q 15.53125 -1.171875 10.25 4.734375 \n",
       "Q 6.0625 9.46875 6.0625 15.09375 \n",
       "Q 6.0625 19.484375 9.015625 23.796875 \n",
       "Q 11.96875 28.125 19.1875 33.34375 \n",
       "z\n",
       "M 26.859375 38.578125 \n",
       "Q 32.71875 43.84375 34.28125 46.890625 \n",
       "Q 35.84375 49.953125 35.84375 53.8125 \n",
       "Q 35.84375 58.9375 32.953125 61.84375 \n",
       "Q 30.078125 64.75 25.09375 64.75 \n",
       "Q 20.125 64.75 17 61.859375 \n",
       "Q 13.875 58.984375 13.875 55.125 \n",
       "Q 13.875 52.59375 15.15625 50.046875 \n",
       "Q 16.453125 47.515625 18.84375 45.21875 \n",
       "z\n",
       "M 21.484375 31.5 \n",
       "Q 17.4375 28.078125 15.484375 24.046875 \n",
       "Q 13.53125 20.015625 13.53125 15.328125 \n",
       "Q 13.53125 9.03125 16.96875 5.25 \n",
       "Q 20.40625 1.46875 25.734375 1.46875 \n",
       "Q 31 1.46875 34.171875 4.4375 \n",
       "Q 37.359375 7.421875 37.359375 11.671875 \n",
       "Q 37.359375 15.1875 35.5 17.96875 \n",
       "Q 32.03125 23.140625 21.484375 31.5 \n",
       "z\n",
       "\" id=\"TimesNewRomanPSMT-38\"/>\n",
       "      </defs>\n",
       "      <g style=\"fill:#1f77b4;\" transform=\"translate(7.2 53.70642)scale(0.1 -0.1)\">\n",
       "       <use xlink:href=\"#TimesNewRomanPSMT-30\"/>\n",
       "       <use x=\"50\" xlink:href=\"#TimesNewRomanPSMT-2e\"/>\n",
       "       <use x=\"75\" xlink:href=\"#TimesNewRomanPSMT-38\"/>\n",
       "      </g>\n",
       "     </g>\n",
       "    </g>\n",
       "    <g id=\"ytick_6\">\n",
       "     <g id=\"line2d_12\">\n",
       "      <g>\n",
       "       <use style=\"fill:#1f77b4;stroke:#1f77b4;stroke-width:0.8;\" x=\"26.7\" xlink:href=\"#m1a8b29cf49\" y=\"10.7\"/>\n",
       "      </g>\n",
       "     </g>\n",
       "     <g id=\"text_6\">\n",
       "      <!-- 1.0 -->\n",
       "      <defs>\n",
       "       <path d=\"M 11.71875 59.71875 \n",
       "L 27.828125 67.578125 \n",
       "L 29.4375 67.578125 \n",
       "L 29.4375 11.671875 \n",
       "Q 29.4375 6.109375 29.90625 4.734375 \n",
       "Q 30.375 3.375 31.828125 2.640625 \n",
       "Q 33.296875 1.90625 37.796875 1.8125 \n",
       "L 37.796875 0 \n",
       "L 12.890625 0 \n",
       "L 12.890625 1.8125 \n",
       "Q 17.578125 1.90625 18.9375 2.609375 \n",
       "Q 20.3125 3.328125 20.84375 4.515625 \n",
       "Q 21.390625 5.71875 21.390625 11.671875 \n",
       "L 21.390625 47.40625 \n",
       "Q 21.390625 54.640625 20.90625 56.6875 \n",
       "Q 20.5625 58.25 19.65625 58.984375 \n",
       "Q 18.75 59.71875 17.484375 59.71875 \n",
       "Q 15.671875 59.71875 12.453125 58.203125 \n",
       "z\n",
       "\" id=\"TimesNewRomanPSMT-31\"/>\n",
       "      </defs>\n",
       "      <g style=\"fill:#1f77b4;\" transform=\"translate(7.2 14.171875)scale(0.1 -0.1)\">\n",
       "       <use xlink:href=\"#TimesNewRomanPSMT-31\"/>\n",
       "       <use x=\"50\" xlink:href=\"#TimesNewRomanPSMT-2e\"/>\n",
       "       <use x=\"75\" xlink:href=\"#TimesNewRomanPSMT-30\"/>\n",
       "      </g>\n",
       "     </g>\n",
       "    </g>\n",
       "   </g>\n",
       "   <g id=\"patch_3\">\n",
       "    <path d=\"M 26.7 208.372727 \n",
       "L 26.7 10.7 \n",
       "\" style=\"fill:none;stroke:#000000;stroke-linecap:square;stroke-linejoin:miter;stroke-width:0.8;\"/>\n",
       "   </g>\n",
       "   <g id=\"patch_4\">\n",
       "    <path d=\"M 361.5 208.372727 \n",
       "L 361.5 10.7 \n",
       "\" style=\"fill:none;stroke:#000000;stroke-linecap:square;stroke-linejoin:miter;stroke-width:0.8;\"/>\n",
       "   </g>\n",
       "   <g id=\"patch_5\">\n",
       "    <path d=\"M 26.7 208.372727 \n",
       "L 361.5 208.372727 \n",
       "\" style=\"fill:none;stroke:#000000;stroke-linecap:square;stroke-linejoin:miter;stroke-width:0.8;\"/>\n",
       "   </g>\n",
       "   <g id=\"patch_6\">\n",
       "    <path d=\"M 26.7 10.7 \n",
       "L 361.5 10.7 \n",
       "\" style=\"fill:none;stroke:#000000;stroke-linecap:square;stroke-linejoin:miter;stroke-width:0.8;\"/>\n",
       "   </g>\n",
       "  </g>\n",
       "  <g id=\"axes_2\">\n",
       "   <g id=\"patch_7\">\n",
       "    <path d=\"M 26.7 445.58 \n",
       "L 361.5 445.58 \n",
       "L 361.5 247.907273 \n",
       "L 26.7 247.907273 \n",
       "z\n",
       "\" style=\"fill:#ffffff;\"/>\n",
       "   </g>\n",
       "   <g id=\"matplotlib.axis_3\">\n",
       "    <g id=\"xtick_7\">\n",
       "     <g id=\"line2d_13\">\n",
       "      <g>\n",
       "       <use style=\"stroke:#000000;stroke-width:0.8;\" x=\"26.7\" xlink:href=\"#m17c56147ae\" y=\"445.58\"/>\n",
       "      </g>\n",
       "     </g>\n",
       "     <g id=\"text_7\">\n",
       "      <!-- 0.0 -->\n",
       "      <g transform=\"translate(20.45 459.52375)scale(0.1 -0.1)\">\n",
       "       <use xlink:href=\"#TimesNewRomanPSMT-30\"/>\n",
       "       <use x=\"50\" xlink:href=\"#TimesNewRomanPSMT-2e\"/>\n",
       "       <use x=\"75\" xlink:href=\"#TimesNewRomanPSMT-30\"/>\n",
       "      </g>\n",
       "     </g>\n",
       "    </g>\n",
       "    <g id=\"xtick_8\">\n",
       "     <g id=\"line2d_14\">\n",
       "      <g>\n",
       "       <use style=\"stroke:#000000;stroke-width:0.8;\" x=\"93.66\" xlink:href=\"#m17c56147ae\" y=\"445.58\"/>\n",
       "      </g>\n",
       "     </g>\n",
       "     <g id=\"text_8\">\n",
       "      <!-- 0.2 -->\n",
       "      <g transform=\"translate(87.41 459.52375)scale(0.1 -0.1)\">\n",
       "       <use xlink:href=\"#TimesNewRomanPSMT-30\"/>\n",
       "       <use x=\"50\" xlink:href=\"#TimesNewRomanPSMT-2e\"/>\n",
       "       <use x=\"75\" xlink:href=\"#TimesNewRomanPSMT-32\"/>\n",
       "      </g>\n",
       "     </g>\n",
       "    </g>\n",
       "    <g id=\"xtick_9\">\n",
       "     <g id=\"line2d_15\">\n",
       "      <g>\n",
       "       <use style=\"stroke:#000000;stroke-width:0.8;\" x=\"160.62\" xlink:href=\"#m17c56147ae\" y=\"445.58\"/>\n",
       "      </g>\n",
       "     </g>\n",
       "     <g id=\"text_9\">\n",
       "      <!-- 0.4 -->\n",
       "      <g transform=\"translate(154.37 459.52375)scale(0.1 -0.1)\">\n",
       "       <use xlink:href=\"#TimesNewRomanPSMT-30\"/>\n",
       "       <use x=\"50\" xlink:href=\"#TimesNewRomanPSMT-2e\"/>\n",
       "       <use x=\"75\" xlink:href=\"#TimesNewRomanPSMT-34\"/>\n",
       "      </g>\n",
       "     </g>\n",
       "    </g>\n",
       "    <g id=\"xtick_10\">\n",
       "     <g id=\"line2d_16\">\n",
       "      <g>\n",
       "       <use style=\"stroke:#000000;stroke-width:0.8;\" x=\"227.58\" xlink:href=\"#m17c56147ae\" y=\"445.58\"/>\n",
       "      </g>\n",
       "     </g>\n",
       "     <g id=\"text_10\">\n",
       "      <!-- 0.6 -->\n",
       "      <g transform=\"translate(221.33 459.52375)scale(0.1 -0.1)\">\n",
       "       <use xlink:href=\"#TimesNewRomanPSMT-30\"/>\n",
       "       <use x=\"50\" xlink:href=\"#TimesNewRomanPSMT-2e\"/>\n",
       "       <use x=\"75\" xlink:href=\"#TimesNewRomanPSMT-36\"/>\n",
       "      </g>\n",
       "     </g>\n",
       "    </g>\n",
       "    <g id=\"xtick_11\">\n",
       "     <g id=\"line2d_17\">\n",
       "      <g>\n",
       "       <use style=\"stroke:#000000;stroke-width:0.8;\" x=\"294.54\" xlink:href=\"#m17c56147ae\" y=\"445.58\"/>\n",
       "      </g>\n",
       "     </g>\n",
       "     <g id=\"text_11\">\n",
       "      <!-- 0.8 -->\n",
       "      <g transform=\"translate(288.29 459.52375)scale(0.1 -0.1)\">\n",
       "       <use xlink:href=\"#TimesNewRomanPSMT-30\"/>\n",
       "       <use x=\"50\" xlink:href=\"#TimesNewRomanPSMT-2e\"/>\n",
       "       <use x=\"75\" xlink:href=\"#TimesNewRomanPSMT-38\"/>\n",
       "      </g>\n",
       "     </g>\n",
       "    </g>\n",
       "    <g id=\"xtick_12\">\n",
       "     <g id=\"line2d_18\">\n",
       "      <g>\n",
       "       <use style=\"stroke:#000000;stroke-width:0.8;\" x=\"361.5\" xlink:href=\"#m17c56147ae\" y=\"445.58\"/>\n",
       "      </g>\n",
       "     </g>\n",
       "     <g id=\"text_12\">\n",
       "      <!-- 1.0 -->\n",
       "      <g transform=\"translate(355.25 459.52375)scale(0.1 -0.1)\">\n",
       "       <use xlink:href=\"#TimesNewRomanPSMT-31\"/>\n",
       "       <use x=\"50\" xlink:href=\"#TimesNewRomanPSMT-2e\"/>\n",
       "       <use x=\"75\" xlink:href=\"#TimesNewRomanPSMT-30\"/>\n",
       "      </g>\n",
       "     </g>\n",
       "    </g>\n",
       "   </g>\n",
       "   <g id=\"matplotlib.axis_4\">\n",
       "    <g id=\"ytick_7\">\n",
       "     <g id=\"line2d_19\">\n",
       "      <defs>\n",
       "       <path d=\"M 0 0 \n",
       "L -3.5 0 \n",
       "\" id=\"me7bcc28081\" style=\"stroke:#000000;stroke-width:0.8;\"/>\n",
       "      </defs>\n",
       "      <g>\n",
       "       <use style=\"stroke:#000000;stroke-width:0.8;\" x=\"26.7\" xlink:href=\"#me7bcc28081\" y=\"445.58\"/>\n",
       "      </g>\n",
       "     </g>\n",
       "     <g id=\"text_13\">\n",
       "      <!-- 0.0 -->\n",
       "      <g transform=\"translate(7.2 449.051875)scale(0.1 -0.1)\">\n",
       "       <use xlink:href=\"#TimesNewRomanPSMT-30\"/>\n",
       "       <use x=\"50\" xlink:href=\"#TimesNewRomanPSMT-2e\"/>\n",
       "       <use x=\"75\" xlink:href=\"#TimesNewRomanPSMT-30\"/>\n",
       "      </g>\n",
       "     </g>\n",
       "    </g>\n",
       "    <g id=\"ytick_8\">\n",
       "     <g id=\"line2d_20\">\n",
       "      <g>\n",
       "       <use style=\"stroke:#000000;stroke-width:0.8;\" x=\"26.7\" xlink:href=\"#me7bcc28081\" y=\"406.045455\"/>\n",
       "      </g>\n",
       "     </g>\n",
       "     <g id=\"text_14\">\n",
       "      <!-- 0.2 -->\n",
       "      <g transform=\"translate(7.2 409.51733)scale(0.1 -0.1)\">\n",
       "       <use xlink:href=\"#TimesNewRomanPSMT-30\"/>\n",
       "       <use x=\"50\" xlink:href=\"#TimesNewRomanPSMT-2e\"/>\n",
       "       <use x=\"75\" xlink:href=\"#TimesNewRomanPSMT-32\"/>\n",
       "      </g>\n",
       "     </g>\n",
       "    </g>\n",
       "    <g id=\"ytick_9\">\n",
       "     <g id=\"line2d_21\">\n",
       "      <g>\n",
       "       <use style=\"stroke:#000000;stroke-width:0.8;\" x=\"26.7\" xlink:href=\"#me7bcc28081\" y=\"366.510909\"/>\n",
       "      </g>\n",
       "     </g>\n",
       "     <g id=\"text_15\">\n",
       "      <!-- 0.4 -->\n",
       "      <g transform=\"translate(7.2 369.982784)scale(0.1 -0.1)\">\n",
       "       <use xlink:href=\"#TimesNewRomanPSMT-30\"/>\n",
       "       <use x=\"50\" xlink:href=\"#TimesNewRomanPSMT-2e\"/>\n",
       "       <use x=\"75\" xlink:href=\"#TimesNewRomanPSMT-34\"/>\n",
       "      </g>\n",
       "     </g>\n",
       "    </g>\n",
       "    <g id=\"ytick_10\">\n",
       "     <g id=\"line2d_22\">\n",
       "      <g>\n",
       "       <use style=\"stroke:#000000;stroke-width:0.8;\" x=\"26.7\" xlink:href=\"#me7bcc28081\" y=\"326.976364\"/>\n",
       "      </g>\n",
       "     </g>\n",
       "     <g id=\"text_16\">\n",
       "      <!-- 0.6 -->\n",
       "      <g transform=\"translate(7.2 330.448239)scale(0.1 -0.1)\">\n",
       "       <use xlink:href=\"#TimesNewRomanPSMT-30\"/>\n",
       "       <use x=\"50\" xlink:href=\"#TimesNewRomanPSMT-2e\"/>\n",
       "       <use x=\"75\" xlink:href=\"#TimesNewRomanPSMT-36\"/>\n",
       "      </g>\n",
       "     </g>\n",
       "    </g>\n",
       "    <g id=\"ytick_11\">\n",
       "     <g id=\"line2d_23\">\n",
       "      <g>\n",
       "       <use style=\"stroke:#000000;stroke-width:0.8;\" x=\"26.7\" xlink:href=\"#me7bcc28081\" y=\"287.441818\"/>\n",
       "      </g>\n",
       "     </g>\n",
       "     <g id=\"text_17\">\n",
       "      <!-- 0.8 -->\n",
       "      <g transform=\"translate(7.2 290.913693)scale(0.1 -0.1)\">\n",
       "       <use xlink:href=\"#TimesNewRomanPSMT-30\"/>\n",
       "       <use x=\"50\" xlink:href=\"#TimesNewRomanPSMT-2e\"/>\n",
       "       <use x=\"75\" xlink:href=\"#TimesNewRomanPSMT-38\"/>\n",
       "      </g>\n",
       "     </g>\n",
       "    </g>\n",
       "    <g id=\"ytick_12\">\n",
       "     <g id=\"line2d_24\">\n",
       "      <g>\n",
       "       <use style=\"stroke:#000000;stroke-width:0.8;\" x=\"26.7\" xlink:href=\"#me7bcc28081\" y=\"247.907273\"/>\n",
       "      </g>\n",
       "     </g>\n",
       "     <g id=\"text_18\">\n",
       "      <!-- 1.0 -->\n",
       "      <g transform=\"translate(7.2 251.379148)scale(0.1 -0.1)\">\n",
       "       <use xlink:href=\"#TimesNewRomanPSMT-31\"/>\n",
       "       <use x=\"50\" xlink:href=\"#TimesNewRomanPSMT-2e\"/>\n",
       "       <use x=\"75\" xlink:href=\"#TimesNewRomanPSMT-30\"/>\n",
       "      </g>\n",
       "     </g>\n",
       "    </g>\n",
       "   </g>\n",
       "   <g id=\"patch_8\">\n",
       "    <path d=\"M 26.7 445.58 \n",
       "L 26.7 247.907273 \n",
       "\" style=\"fill:none;stroke:#000000;stroke-linecap:square;stroke-linejoin:miter;stroke-width:0.8;\"/>\n",
       "   </g>\n",
       "   <g id=\"patch_9\">\n",
       "    <path d=\"M 361.5 445.58 \n",
       "L 361.5 247.907273 \n",
       "\" style=\"fill:none;stroke:#000000;stroke-linecap:square;stroke-linejoin:miter;stroke-width:0.8;\"/>\n",
       "   </g>\n",
       "   <g id=\"patch_10\">\n",
       "    <path d=\"M 26.7 445.58 \n",
       "L 361.5 445.58 \n",
       "\" style=\"fill:none;stroke:#000000;stroke-linecap:square;stroke-linejoin:miter;stroke-width:0.8;\"/>\n",
       "   </g>\n",
       "   <g id=\"patch_11\">\n",
       "    <path d=\"M 26.7 247.907273 \n",
       "L 361.5 247.907273 \n",
       "\" style=\"fill:none;stroke:#000000;stroke-linecap:square;stroke-linejoin:miter;stroke-width:0.8;\"/>\n",
       "   </g>\n",
       "  </g>\n",
       " </g>\n",
       "</svg>\n"
      ],
      "text/plain": [
       "<matplotlib.figure.Figure at 0x10d68f978>"
      ]
     },
     "metadata": {},
     "output_type": "display_data"
    }
   ],
   "source": [
    "plt.figure(figsize=(10,20))\n",
    "fig,axarr = plt.subplots(2,sharex=True,figsize=(6,8))\n",
    "pltu1,pltce1 = axarr[0],axarr[1]\n",
    "\n",
    "# Utility\n",
    "pltu1.tick_params('y',colors='C0')\n",
    "\n",
    "pltu1.plot(ns,error[:,0],'C0-s',markevery=6,ms=4,label='$\\mu=1$')\n",
    "pltu1.plot(ns,error[:,1],'C0-o',markevery=6,ms=4,label='$\\mu=1/2$')\n",
    "pltu1.legend();\n",
    "pltu1.set_title(\"a) Utilit\\\\'e\")\n",
    "\n",
    "pltu1.axis(ymin=0)\n",
    "\n",
    "# CE\n",
    "pltce1.tick_params('y',colors='C0')\n",
    "pltce1.plot(ns,errorce[:,0],'C0-s',markevery=6,ms=4,label='$\\mu=1$')\n",
    "pltce1.plot(ns,errorce[:,1],'C0-o',markevery=6,ms=4,label='$\\mu=1/2$')\n",
    "pltce1.legend();\n",
    "pltce1.set_title(\"a) Utilit\\\\'e\")\n",
    "\n",
    "\n",
    "pltce1.set_title(\"b) \\\\'Equivalent certain\")\n",
    "pltce1.set_xlabel('$(n,\\lambda)$')\n",
    "\n",
    "pltce1.axis(ymin=0)\n",
    "\n",
    "yo = pltce1.get_xticks().tolist()\n",
    "yo = [\"$(0,\\infty)$\"] + [\"(%d, %0.3f)\" % (n,0.5*sqrt(10/n)) for n in yo[1:]]\n",
    "pltce1.set_xticklabels(yo)\n",
    "\n",
    "# plt.savefig('fig/avrisk_solamb.pdf',bbox_inches='tight',pad_inches=0)\n",
    "\n",
    "plt.show();\n",
    "\n"
   ]
  },
  {
   "cell_type": "code",
   "execution_count": 0,
   "metadata": {
    "autoscroll": false,
    "ein.tags": "worksheet-0",
    "slideshow": {
     "slide_type": "-"
    }
   },
   "outputs": [],
   "source": []
  },
  {
   "cell_type": "markdown",
   "metadata": {
    "ein.tags": "worksheet-0",
    "slideshow": {
     "slide_type": "-"
    }
   },
   "source": [
    "## Loi de marché"
   ]
  },
  {
   "cell_type": "code",
   "execution_count": 12,
   "metadata": {
    "autoscroll": false,
    "ein.tags": "worksheet-0",
    "slideshow": {
     "slide_type": "-"
    }
   },
   "outputs": [],
   "source": [
    "from mpl_toolkits.axes_grid.inset_locator import inset_axes,zoomed_inset_axes"
   ]
  },
  {
   "cell_type": "code",
   "execution_count": 6,
   "metadata": {
    "autoscroll": false,
    "ein.tags": "worksheet-0",
    "slideshow": {
     "slide_type": "-"
    }
   },
   "outputs": [],
   "source": [
    "Xs = [RademacherDistribution(),RademacherDistribution()]\n",
    "R = RademacherDistribution()\n",
    "M = synth.GaussianMarket(Xs,R,corr_vector=[1/sqrt(3),1/sqrt(3)])\n"
   ]
  },
  {
   "cell_type": "code",
   "execution_count": 7,
   "metadata": {
    "autoscroll": false,
    "ein.tags": "worksheet-0",
    "slideshow": {
     "slide_type": "-"
    }
   },
   "outputs": [],
   "source": [
    "X,r = M.sample(1_000_000)"
   ]
  },
  {
   "cell_type": "code",
   "execution_count": 8,
   "metadata": {
    "autoscroll": false,
    "ein.tags": "worksheet-0",
    "slideshow": {
     "slide_type": "-"
    }
   },
   "outputs": [],
   "source": [
    "sig = M.Σ"
   ]
  },
  {
   "cell_type": "code",
   "execution_count": 9,
   "metadata": {
    "autoscroll": false,
    "ein.tags": "worksheet-0",
    "slideshow": {
     "slide_type": "-"
    }
   },
   "outputs": [],
   "source": [
    "t = np.random.multivariate_normal([0,0,0],sig,500)"
   ]
  },
  {
   "cell_type": "code",
   "execution_count": 10,
   "metadata": {
    "autoscroll": false,
    "ein.tags": "worksheet-0",
    "slideshow": {
     "slide_type": "-"
    }
   },
   "outputs": [],
   "source": [
    "X0 = t[:,0]\n",
    "X1 = t[:,1]\n",
    "r = t[:,2]"
   ]
  },
  {
   "cell_type": "code",
   "execution_count": 14,
   "metadata": {
    "autoscroll": false,
    "ein.tags": "worksheet-0",
    "slideshow": {
     "slide_type": "-"
    }
   },
   "outputs": [
    {
     "data": {
      "text/plain": [
       "<matplotlib.figure.Figure at 0x11119d3c8>"
      ]
     },
     "metadata": {},
     "output_type": "display_data"
    }
   ],
   "source": [
    "fig,ax = plt.subplots(1,figsize=(5,5))\n",
    "\n",
    "ax.scatter(X0[r<=0],X1[r<=0],c='C0',marker='$\\ominus$',s=-50*r[r<=0],label='$r\\leq0$')\n",
    "ax.scatter(X0[r>=0],X1[r>=0],c='C3',marker='$\\oplus$',s=50*r[r>=0],label='$r>0$')\n",
    "\n",
    "ax.spines['left'].set_position('zero')\n",
    "ax.spines['left'].set_alpha(0.5)\n",
    "ax.spines['right'].set_color('none')\n",
    "ax.spines['bottom'].set_position('zero')\n",
    "ax.spines['bottom'].set_alpha(0.5)\n",
    "ax.spines['top'].set_color('none')\n",
    "\n",
    "ax.axis(ymax=3.7,ymin=-3.7,xmin=-3.7,xmax=3.7)\n",
    "ax.legend(bbox_to_anchor=(0., 1.02, 1., .102), loc=3,\n",
    "           ncol=2, mode=\"expand\", borderaxespad=0.)\n",
    "ax.annotate('$X_0$',xy=(3.2,-0.5))\n",
    "ax.annotate('$X_1$',xy=(-0.5,3.2));"
   ]
  },
  {
   "cell_type": "code",
   "execution_count": 13,
   "metadata": {
    "autoscroll": false,
    "ein.tags": "worksheet-0",
    "slideshow": {
     "slide_type": "-"
    }
   },
   "outputs": [
    {
     "data": {
      "text/plain": [
       "<matplotlib.figure.Figure at 0x10d0bccf8>"
      ]
     },
     "metadata": {},
     "output_type": "display_data"
    }
   ],
   "source": [
    "fig,ax = plt.subplots(1,figsize=(5,5))\n",
    "#ax.scatter(X0[r>=0],X1[r>=0],c=r[r>=0],s=15,cmap='Blues')\n",
    "#ax.scatter(X0[r<=0],X1[r<=0],c=-r[r<=0],s=15,cmap='Oranges')\n",
    "\n",
    "ax.scatter(X0[r<=0],X1[r<=0],c='C0',marker='$\\ominus$',s=-50*r[r<=0],label='$r\\leq0$')\n",
    "ax.scatter(X0[r>=0],X1[r>=0],c='C3',marker='$\\oplus$',s=50*r[r>=0],label='$r>0$')\n",
    "\n",
    "ax.spines['left'].set_position('zero')\n",
    "ax.spines['left'].set_alpha(0.5)\n",
    "ax.spines['right'].set_color('none')\n",
    "ax.spines['bottom'].set_position('zero')\n",
    "ax.spines['bottom'].set_alpha(0.5)\n",
    "ax.spines['top'].set_color('none')\n",
    "\n",
    "ax.axis(ymax=3.7,ymin=-3.7,xmin=-3.7,xmax=3.7)\n",
    "ax.legend(bbox_to_anchor=(0., 1.02, 1., .102), loc=3,\n",
    "           ncol=2, mode=\"expand\", borderaxespad=0.)\n",
    "ax.annotate('$X_0$',xy=(3.2,-0.5))\n",
    "ax.annotate('$X_1$',xy=(-0.5,3.2));\n",
    "\n",
    "r00 = r[(X0>0) * (X1>0)]\n",
    "r01 = r[(X0<0) * (X1>0)]\n",
    "r10 = r[(X0>0) * (X1<0)]\n",
    "r11 = r[(X0<0) * (X1<0)]\n",
    "\n",
    "d = {0:r00,1:r01,2:r11,3:r10}\n",
    "for l in range(4):\n",
    "    inax = zoomed_inset_axes(ax,1,loc=l+1)\n",
    "    inax.bar(0.3,sum(d[l]>0)/len(d[l]),width=0.3,color='C3')\n",
    "    inax.bar(-0.3,sum(d[l]<0)/len(d[l]),width=0.3,color='C0')\n",
    "    inax.set_xticks([-0.3,0.3])\n",
    "    inax.set_yticks([])\n",
    "    inax.set_xticks([-0.3,0.3])\n",
    "    inax.set_xticklabels([-1,1])\n",
    "    inax.axis(ymax=1,xmin=-0.6,xmax=0.6)\n",
    "    inax.spines['left'].set_color('none')\n",
    "    inax.spines['top'].set_color('none')\n",
    "    inax.spines['right'].set_color('none')\n",
    "\n",
    "#plt.savefig('fig/copula.pdf',bbox_inches='tight',pad_inches=0)\n",
    "    "
   ]
  },
  {
   "cell_type": "markdown",
   "metadata": {
    "ein.tags": "worksheet-0",
    "slideshow": {
     "slide_type": "-"
    }
   },
   "source": [
    "## Risque de généralisation et aversion au risque"
   ]
  },
  {
   "cell_type": "code",
   "execution_count": 0,
   "metadata": {
    "autoscroll": false,
    "ein.tags": "worksheet-0",
    "slideshow": {
     "slide_type": "-"
    }
   },
   "outputs": [],
   "source": [
    "us = [rnu(),leu(1),leu(0.25)]\n",
    "p = 2\n",
    "R = RademacherDistribution()\n",
    "Xs = [RademacherDistribution() for _ in range(p)]"
   ]
  },
  {
   "cell_type": "code",
   "execution_count": 0,
   "metadata": {
    "autoscroll": false,
    "ein.tags": "worksheet-0",
    "slideshow": {
     "slide_type": "-"
    }
   },
   "outputs": [],
   "source": [
    "M = synth.GaussianMarket(Xs,R)\n",
    "t_true = M.sample_t(5_000)"
   ]
  },
  {
   "cell_type": "code",
   "execution_count": 0,
   "metadata": {
    "autoscroll": false,
    "ein.tags": "worksheet-0",
    "slideshow": {
     "slide_type": "-"
    }
   },
   "outputs": [],
   "source": [
    "m = 150\n",
    "ns = np.arange(10,151)\n",
    "ts = create_sample(t_true,n=max(ns),m=m)"
   ]
  },
  {
   "cell_type": "code",
   "execution_count": 0,
   "metadata": {
    "autoscroll": false,
    "ein.tags": "worksheet-0",
    "slideshow": {
     "slide_type": "-"
    }
   },
   "outputs": [
    {
     "name": "stdout",
     "output_type": "stream",
     "text": [
      "0\n",
      "5\n",
      "10\n",
      "15\n",
      "20\n",
      "25\n",
      "30\n",
      "35\n",
      "40\n",
      "45\n",
      "50\n",
      "55\n",
      "60\n",
      "65\n",
      "70\n",
      "75\n",
      "80\n",
      "85\n",
      "90\n",
      "95\n",
      "100\n",
      "105\n",
      "110\n",
      "115\n",
      "Combined backtracking failed 15 0 75 0 sigma 1\n",
      "120\n",
      "125\n",
      "130\n",
      "135\n",
      "140\n"
     ]
    }
   ],
   "source": [
    "error = np.zeros((len(ns),len(us)))\n",
    "errorce = np.zeros((len(ns),len(us)))\n",
    "for i,n in enumerate(ns):\n",
    "    if i%5 == 0: print(i)\n",
    "    t = ts[:,:n]\n",
    "    for j,u in enumerate(us):\n",
    "        qs = solve(t,u,lamb=1)\n",
    "        inerror = in_error(qs,u,t,lamb=1)\n",
    "        outerror = out_error(qs,u,t_true,lamb=1)\n",
    "        error[i,j] = np.percentile(inerror - outerror,95)\n",
    "        errorce[i,j] = np.percentile(u.inverse(inerror) - u.inverse(outerror),95)"
   ]
  },
  {
   "cell_type": "code",
   "execution_count": 5,
   "metadata": {
    "autoscroll": false,
    "ein.tags": "worksheet-0",
    "slideshow": {
     "slide_type": "-"
    }
   },
   "outputs": [
    {
     "ename": "NameError",
     "evalue": "name 'ns' is not defined",
     "output_type": "error",
     "traceback": [
      "\u001b[0;31m---------------------------------------------------------------------------\u001b[0m",
      "\u001b[0;31mNameError\u001b[0m                                 Traceback (most recent call last)",
      "\u001b[0;32m<ipython-input-5-ab9f056210a3>\u001b[0m in \u001b[0;36m<module>\u001b[0;34m()\u001b[0m\n\u001b[1;32m      4\u001b[0m \u001b[0;34m\u001b[0m\u001b[0m\n\u001b[1;32m      5\u001b[0m \u001b[0;31m# Utility\u001b[0m\u001b[0;34m\u001b[0m\u001b[0;34m\u001b[0m\u001b[0m\n\u001b[0;32m----> 6\u001b[0;31m \u001b[0mpltu\u001b[0m\u001b[0;34m.\u001b[0m\u001b[0mplot\u001b[0m\u001b[0;34m(\u001b[0m\u001b[0mns\u001b[0m\u001b[0;34m,\u001b[0m\u001b[0merror\u001b[0m\u001b[0;34m[\u001b[0m\u001b[0;34m:\u001b[0m\u001b[0;34m,\u001b[0m\u001b[0;36m0\u001b[0m\u001b[0;34m]\u001b[0m\u001b[0;34m,\u001b[0m\u001b[0;34m'C0'\u001b[0m\u001b[0;34m,\u001b[0m\u001b[0mlabel\u001b[0m\u001b[0;34m=\u001b[0m\u001b[0;34m'$\\mu=\\infty$'\u001b[0m\u001b[0;34m)\u001b[0m\u001b[0;34m\u001b[0m\u001b[0m\n\u001b[0m\u001b[1;32m      7\u001b[0m \u001b[0mpltu\u001b[0m\u001b[0;34m.\u001b[0m\u001b[0mplot\u001b[0m\u001b[0;34m(\u001b[0m\u001b[0mns\u001b[0m\u001b[0;34m,\u001b[0m\u001b[0merror\u001b[0m\u001b[0;34m[\u001b[0m\u001b[0;34m:\u001b[0m\u001b[0;34m,\u001b[0m\u001b[0;36m1\u001b[0m\u001b[0;34m]\u001b[0m\u001b[0;34m,\u001b[0m\u001b[0;34m'C0-s'\u001b[0m\u001b[0;34m,\u001b[0m\u001b[0mmarkevery\u001b[0m\u001b[0;34m=\u001b[0m\u001b[0;36m8\u001b[0m\u001b[0;34m,\u001b[0m\u001b[0mms\u001b[0m\u001b[0;34m=\u001b[0m\u001b[0;36m4\u001b[0m\u001b[0;34m,\u001b[0m\u001b[0mlabel\u001b[0m\u001b[0;34m=\u001b[0m\u001b[0;34m'$\\mu=1$'\u001b[0m\u001b[0;34m)\u001b[0m\u001b[0;34m\u001b[0m\u001b[0m\n\u001b[1;32m      8\u001b[0m \u001b[0mpltu\u001b[0m\u001b[0;34m.\u001b[0m\u001b[0mplot\u001b[0m\u001b[0;34m(\u001b[0m\u001b[0mns\u001b[0m\u001b[0;34m,\u001b[0m\u001b[0merror\u001b[0m\u001b[0;34m[\u001b[0m\u001b[0;34m:\u001b[0m\u001b[0;34m,\u001b[0m\u001b[0;36m2\u001b[0m\u001b[0;34m]\u001b[0m\u001b[0;34m,\u001b[0m\u001b[0;34m'C0-o'\u001b[0m\u001b[0;34m,\u001b[0m\u001b[0mmarkevery\u001b[0m\u001b[0;34m=\u001b[0m\u001b[0;36m8\u001b[0m\u001b[0;34m,\u001b[0m\u001b[0mms\u001b[0m\u001b[0;34m=\u001b[0m\u001b[0;36m4\u001b[0m\u001b[0;34m,\u001b[0m\u001b[0mlabel\u001b[0m\u001b[0;34m=\u001b[0m\u001b[0;34m'$\\mu=1/2$'\u001b[0m\u001b[0;34m)\u001b[0m\u001b[0;34m\u001b[0m\u001b[0m\n",
      "\u001b[0;31mNameError\u001b[0m: name 'ns' is not defined"
     ]
    },
    {
     "data": {
      "text/plain": [
       "<matplotlib.figure.Figure at 0x110e0c550>"
      ]
     },
     "metadata": {},
     "output_type": "display_data"
    },
    {
     "ename": "NameError",
     "evalue": "name 'ns' is not defined",
     "output_type": "error",
     "traceback": [
      "\u001b[0;31m---------------------------------------------------------------------------\u001b[0m",
      "\u001b[0;31mNameError\u001b[0m                                 Traceback (most recent call last)",
      "\u001b[0;32m<ipython-input-5-ab9f056210a3>\u001b[0m in \u001b[0;36m<module>\u001b[0;34m()\u001b[0m\n\u001b[1;32m      4\u001b[0m \u001b[0;34m\u001b[0m\u001b[0m\n\u001b[1;32m      5\u001b[0m \u001b[0;31m# Utility\u001b[0m\u001b[0;34m\u001b[0m\u001b[0;34m\u001b[0m\u001b[0m\n\u001b[0;32m----> 6\u001b[0;31m \u001b[0mpltu\u001b[0m\u001b[0;34m.\u001b[0m\u001b[0mplot\u001b[0m\u001b[0;34m(\u001b[0m\u001b[0mns\u001b[0m\u001b[0;34m,\u001b[0m\u001b[0merror\u001b[0m\u001b[0;34m[\u001b[0m\u001b[0;34m:\u001b[0m\u001b[0;34m,\u001b[0m\u001b[0;36m0\u001b[0m\u001b[0;34m]\u001b[0m\u001b[0;34m,\u001b[0m\u001b[0;34m'C0'\u001b[0m\u001b[0;34m,\u001b[0m\u001b[0mlabel\u001b[0m\u001b[0;34m=\u001b[0m\u001b[0;34m'$\\mu=\\infty$'\u001b[0m\u001b[0;34m)\u001b[0m\u001b[0;34m\u001b[0m\u001b[0m\n\u001b[0m\u001b[1;32m      7\u001b[0m \u001b[0mpltu\u001b[0m\u001b[0;34m.\u001b[0m\u001b[0mplot\u001b[0m\u001b[0;34m(\u001b[0m\u001b[0mns\u001b[0m\u001b[0;34m,\u001b[0m\u001b[0merror\u001b[0m\u001b[0;34m[\u001b[0m\u001b[0;34m:\u001b[0m\u001b[0;34m,\u001b[0m\u001b[0;36m1\u001b[0m\u001b[0;34m]\u001b[0m\u001b[0;34m,\u001b[0m\u001b[0;34m'C0-s'\u001b[0m\u001b[0;34m,\u001b[0m\u001b[0mmarkevery\u001b[0m\u001b[0;34m=\u001b[0m\u001b[0;36m8\u001b[0m\u001b[0;34m,\u001b[0m\u001b[0mms\u001b[0m\u001b[0;34m=\u001b[0m\u001b[0;36m4\u001b[0m\u001b[0;34m,\u001b[0m\u001b[0mlabel\u001b[0m\u001b[0;34m=\u001b[0m\u001b[0;34m'$\\mu=1$'\u001b[0m\u001b[0;34m)\u001b[0m\u001b[0;34m\u001b[0m\u001b[0m\n\u001b[1;32m      8\u001b[0m \u001b[0mpltu\u001b[0m\u001b[0;34m.\u001b[0m\u001b[0mplot\u001b[0m\u001b[0;34m(\u001b[0m\u001b[0mns\u001b[0m\u001b[0;34m,\u001b[0m\u001b[0merror\u001b[0m\u001b[0;34m[\u001b[0m\u001b[0;34m:\u001b[0m\u001b[0;34m,\u001b[0m\u001b[0;36m2\u001b[0m\u001b[0;34m]\u001b[0m\u001b[0;34m,\u001b[0m\u001b[0;34m'C0-o'\u001b[0m\u001b[0;34m,\u001b[0m\u001b[0mmarkevery\u001b[0m\u001b[0;34m=\u001b[0m\u001b[0;36m8\u001b[0m\u001b[0;34m,\u001b[0m\u001b[0mms\u001b[0m\u001b[0;34m=\u001b[0m\u001b[0;36m4\u001b[0m\u001b[0;34m,\u001b[0m\u001b[0mlabel\u001b[0m\u001b[0;34m=\u001b[0m\u001b[0;34m'$\\mu=1/2$'\u001b[0m\u001b[0;34m)\u001b[0m\u001b[0;34m\u001b[0m\u001b[0m\n",
      "\u001b[0;31mNameError\u001b[0m: name 'ns' is not defined"
     ]
    }
   ],
   "source": [
    "fig,axarr = plt.subplots(2,figsize=(6,8))\n",
    "fig.subplots_adjust(hspace=.3)\n",
    "pltu,pltce = axarr[0],axarr[1]\n",
    "\n",
    "# Utility\n",
    "pltu.plot(ns,error[:,0],'C0',label='$\\mu=\\infty$')\n",
    "pltu.plot(ns,error[:,1],'C0-s',markevery=8,ms=4,label='$\\mu=1$')\n",
    "pltu.plot(ns,error[:,2],'C0-o',markevery=8,ms=4,label='$\\mu=1/2$')\n",
    "pltu.legend();\n",
    "pltu.set_title(\"a) Utilité\")\n",
    "pltu.set_xlabel('$n$')\n",
    "pltu.set_ylabel('Erreur de généralisation (util)')\n",
    "pltu.set_xticks(ns[::10])\n",
    "\n",
    "# CE\n",
    "pltce.plot(ns,errorce[:,0],'C0',label='$\\mu=\\infty$')\n",
    "pltce.plot(ns,errorce[:,1],'C0-s',markevery=8,ms=4,label='$\\mu=1$')\n",
    "pltce.plot(ns,errorce[:,2],'C0-o',markevery=8,ms=4,label='$\\mu=1/2$')\n",
    "pltce.legend();\n",
    "pltce.set_xticks(ns[::10])\n",
    "\n",
    "pltce.set_title(\"b) Équivalent certain\")\n",
    "pltce.set_xlabel('$n$')\n",
    "pltce.set_ylabel('Erreur de généralisation (rendement)')\n",
    "\n",
    "# plt.savefig('fig/avrisk_gen.pdf',bbox_inches='tight',pad_inches=0)\n"
   ]
  },
  {
   "cell_type": "markdown",
   "metadata": {
    "ein.tags": "worksheet-0",
    "slideshow": {
     "slide_type": "-"
    }
   },
   "source": [
    "## Statistiques d'ordre"
   ]
  },
  {
   "cell_type": "code",
   "execution_count": 0,
   "metadata": {
    "autoscroll": false,
    "ein.tags": "worksheet-0",
    "slideshow": {
     "slide_type": "-"
    }
   },
   "outputs": [],
   "source": [
    "from scipy.optimize import minimize,curve_fit"
   ]
  },
  {
   "cell_type": "code",
   "execution_count": 0,
   "metadata": {
    "autoscroll": false,
    "ein.tags": "worksheet-0",
    "slideshow": {
     "slide_type": "-"
    }
   },
   "outputs": [],
   "source": [
    "u = leu(1)\n",
    "p = 2\n",
    "R = RademacherDistribution()\n",
    "Xs = [RademacherDistribution() for _ in range(p)]"
   ]
  },
  {
   "cell_type": "code",
   "execution_count": 0,
   "metadata": {
    "autoscroll": false,
    "ein.tags": "worksheet-0",
    "slideshow": {
     "slide_type": "-"
    }
   },
   "outputs": [],
   "source": [
    "M = synth.GaussianMarket(Xs,R)\n",
    "t_true = M.sample_t(5_000)"
   ]
  },
  {
   "cell_type": "code",
   "execution_count": 0,
   "metadata": {
    "autoscroll": false,
    "ein.tags": "worksheet-0",
    "slideshow": {
     "slide_type": "-"
    }
   },
   "outputs": [],
   "source": [
    "m = 100\n",
    "ns = np.arange(10,151)\n",
    "ts = create_sample(t_true,n=max(ns),m=m)"
   ]
  },
  {
   "cell_type": "code",
   "execution_count": 0,
   "metadata": {
    "autoscroll": false,
    "ein.tags": "worksheet-0",
    "slideshow": {
     "slide_type": "-"
    }
   },
   "outputs": [
    {
     "name": "stdout",
     "output_type": "stream",
     "text": [
      "0\n",
      "5\n",
      "10\n",
      "15\n",
      "20\n",
      "25\n",
      "30\n",
      "35\n",
      "40\n",
      "45\n",
      "50\n",
      "55\n",
      "60\n",
      "65\n",
      "70\n",
      "75\n",
      "80\n",
      "85\n",
      "90\n",
      "95\n",
      "100\n",
      "105\n",
      "110\n",
      "115\n",
      "120\n",
      "125\n",
      "130\n",
      "135\n",
      "140\n"
     ]
    }
   ],
   "source": [
    "error0 = np.zeros(len(ns))\n",
    "error25 = np.zeros(len(ns))\n",
    "error50 = np.zeros(len(ns))\n",
    "error75 = np.zeros(len(ns))\n",
    "error100 = np.zeros(len(ns))\n",
    "\n",
    "errorce0 = np.zeros(len(ns))\n",
    "errorce25 = np.zeros(len(ns))\n",
    "errorce50 = np.zeros(len(ns))\n",
    "errorce75 = np.zeros(len(ns))\n",
    "errorce100 = np.zeros(len(ns))\n",
    "\n",
    "for i,n in enumerate(ns):\n",
    "    if i%5 == 0: print(i)\n",
    "    t = ts[:,:n]\n",
    "    qs = solve(t,u,lamb=1)\n",
    "    inerror = in_error(qs,u,t,lamb=1)\n",
    "    outerror = out_error(qs,u,t_true,lamb=1)\n",
    "    error = inerror - outerror\n",
    "    errorce = u.inverse(inerror) - u.inverse(outerror)\n",
    "\n",
    "    error0[i],error25[i],error50[i],error75[i],error100[i] = \\\n",
    "        [np.percentile(error,pc) for pc in [0,25,50,75,100]]\n",
    "\n",
    "    errorce0[i],errorce25[i],errorce50[i],errorce75[i],errorce100[i] = \\\n",
    "        [np.percentile(errorce,pc) for pc in [0,25,50,75,100]]\n"
   ]
  },
  {
   "cell_type": "code",
   "execution_count": 0,
   "metadata": {
    "autoscroll": false,
    "ein.tags": "worksheet-0",
    "slideshow": {
     "slide_type": "-"
    }
   },
   "outputs": [
    {
     "data": {
      "image/svg": "<?xml version=\"1.0\" encoding=\"utf-8\" standalone=\"no\"?>\n<!DOCTYPE svg PUBLIC \"-//W3C//DTD SVG 1.1//EN\"\n  \"http://www.w3.org/Graphics/SVG/1.1/DTD/svg11.dtd\">\n<!-- Created with matplotlib (http://matplotlib.org/) -->\n<svg height=\"487pt\" version=\"1.1\" viewBox=\"0 0 389 487\" width=\"389pt\" xmlns=\"http://www.w3.org/2000/svg\" xmlns:xlink=\"http://www.w3.org/1999/xlink\">\n <defs>\n  <style type=\"text/css\">\n*{stroke-linecap:butt;stroke-linejoin:round;}\n  </style>\n </defs>\n <g id=\"figure_1\">\n  <g id=\"patch_1\">\n   <path d=\"M 0 487.4785 \nL 389.4925 487.4785 \nL 389.4925 0 \nL 0 0 \nz\n\" style=\"fill:none;\"/>\n  </g>\n  <g id=\"axes_1\">\n   <g id=\"patch_2\">\n    <path d=\"M 43.9925 208.944261 \nL 378.7925 208.944261 \nL 378.7925 19.866 \nL 43.9925 19.866 \nz\n\" style=\"fill:#ffffff;\"/>\n   </g>\n   <g id=\"matplotlib.axis_1\">\n    <g id=\"xtick_1\">\n     <g id=\"line2d_1\">\n      <defs>\n       <path d=\"M 0 0 \nL 0 3.5 \n\" id=\"m44429059e7\" style=\"stroke:#000000;stroke-width:0.8;\"/>\n      </defs>\n      <g>\n       <use style=\"stroke:#000000;stroke-width:0.8;\" x=\"59.210682\" xlink:href=\"#m44429059e7\" y=\"208.944261\"/>\n      </g>\n     </g>\n     <g id=\"text_1\">\n      <!-- 10 -->\n      <defs>\n       <path d=\"M 11.71875 59.71875 \nL 27.828125 67.578125 \nL 29.4375 67.578125 \nL 29.4375 11.671875 \nQ 29.4375 6.109375 29.90625 4.734375 \nQ 30.375 3.375 31.828125 2.640625 \nQ 33.296875 1.90625 37.796875 1.8125 \nL 37.796875 0 \nL 12.890625 0 \nL 12.890625 1.8125 \nQ 17.578125 1.90625 18.9375 2.609375 \nQ 20.3125 3.328125 20.84375 4.515625 \nQ 21.390625 5.71875 21.390625 11.671875 \nL 21.390625 47.40625 \nQ 21.390625 54.640625 20.90625 56.6875 \nQ 20.5625 58.25 19.65625 58.984375 \nQ 18.75 59.71875 17.484375 59.71875 \nQ 15.671875 59.71875 12.453125 58.203125 \nz\n\" id=\"TimesNewRomanPSMT-31\"/>\n       <path d=\"M 3.609375 32.71875 \nQ 3.609375 44.046875 7.03125 52.21875 \nQ 10.453125 60.40625 16.109375 64.40625 \nQ 20.515625 67.578125 25.203125 67.578125 \nQ 32.8125 67.578125 38.875 59.8125 \nQ 46.4375 50.203125 46.4375 33.734375 \nQ 46.4375 22.21875 43.109375 14.15625 \nQ 39.796875 6.109375 34.640625 2.46875 \nQ 29.5 -1.171875 24.703125 -1.171875 \nQ 15.234375 -1.171875 8.9375 10.015625 \nQ 3.609375 19.4375 3.609375 32.71875 \nM 13.1875 31.5 \nQ 13.1875 17.828125 16.546875 9.1875 \nQ 19.34375 1.90625 24.859375 1.90625 \nQ 27.484375 1.90625 30.3125 4.265625 \nQ 33.15625 6.640625 34.625 12.203125 \nQ 36.859375 20.609375 36.859375 35.890625 \nQ 36.859375 47.21875 34.515625 54.78125 \nQ 32.765625 60.40625 29.984375 62.75 \nQ 27.984375 64.359375 25.140625 64.359375 \nQ 21.828125 64.359375 19.234375 61.375 \nQ 15.71875 57.328125 14.453125 48.625 \nQ 13.1875 39.9375 13.1875 31.5 \n\" id=\"TimesNewRomanPSMT-30\"/>\n      </defs>\n      <g transform=\"translate(55.210682 221.499261)scale(0.08 -0.08)\">\n       <use xlink:href=\"#TimesNewRomanPSMT-31\"/>\n       <use x=\"50\" xlink:href=\"#TimesNewRomanPSMT-30\"/>\n      </g>\n     </g>\n    </g>\n    <g id=\"xtick_2\">\n     <g id=\"line2d_2\">\n      <g>\n       <use style=\"stroke:#000000;stroke-width:0.8;\" x=\"80.950942\" xlink:href=\"#m44429059e7\" y=\"208.944261\"/>\n      </g>\n     </g>\n     <g id=\"text_2\">\n      <!-- 20 -->\n      <defs>\n       <path d=\"M 45.84375 12.75 \nL 41.21875 0 \nL 2.15625 0 \nL 2.15625 1.8125 \nQ 19.390625 17.53125 26.421875 27.484375 \nQ 33.453125 37.453125 33.453125 45.703125 \nQ 33.453125 52 29.59375 56.046875 \nQ 25.734375 60.109375 20.359375 60.109375 \nQ 15.484375 60.109375 11.59375 57.25 \nQ 7.71875 54.390625 5.859375 48.875 \nL 4.046875 48.875 \nQ 5.28125 57.90625 10.328125 62.734375 \nQ 15.375 67.578125 22.953125 67.578125 \nQ 31 67.578125 36.390625 62.40625 \nQ 41.796875 57.234375 41.796875 50.203125 \nQ 41.796875 45.171875 39.453125 40.140625 \nQ 35.84375 32.234375 27.734375 23.390625 \nQ 15.578125 10.109375 12.546875 7.375 \nL 29.828125 7.375 \nQ 35.109375 7.375 37.234375 7.765625 \nQ 39.359375 8.15625 41.0625 9.34375 \nQ 42.78125 10.546875 44.046875 12.75 \nz\n\" id=\"TimesNewRomanPSMT-32\"/>\n      </defs>\n      <g transform=\"translate(76.950942 221.499261)scale(0.08 -0.08)\">\n       <use xlink:href=\"#TimesNewRomanPSMT-32\"/>\n       <use x=\"50\" xlink:href=\"#TimesNewRomanPSMT-30\"/>\n      </g>\n     </g>\n    </g>\n    <g id=\"xtick_3\">\n     <g id=\"line2d_3\">\n      <g>\n       <use style=\"stroke:#000000;stroke-width:0.8;\" x=\"102.691201\" xlink:href=\"#m44429059e7\" y=\"208.944261\"/>\n      </g>\n     </g>\n     <g id=\"text_3\">\n      <!-- 30 -->\n      <defs>\n       <path d=\"M 5.078125 53.609375 \nQ 7.90625 60.296875 12.21875 63.9375 \nQ 16.546875 67.578125 23 67.578125 \nQ 30.953125 67.578125 35.203125 62.40625 \nQ 38.421875 58.546875 38.421875 54.15625 \nQ 38.421875 46.921875 29.34375 39.203125 \nQ 35.453125 36.8125 38.578125 32.375 \nQ 41.703125 27.9375 41.703125 21.921875 \nQ 41.703125 13.328125 36.234375 7.03125 \nQ 29.109375 -1.171875 15.578125 -1.171875 \nQ 8.890625 -1.171875 6.46875 0.484375 \nQ 4.046875 2.15625 4.046875 4.046875 \nQ 4.046875 5.46875 5.1875 6.546875 \nQ 6.34375 7.625 7.953125 7.625 \nQ 9.1875 7.625 10.453125 7.234375 \nQ 11.28125 6.984375 14.203125 5.4375 \nQ 17.140625 3.90625 18.265625 3.609375 \nQ 20.0625 3.078125 22.125 3.078125 \nQ 27.09375 3.078125 30.78125 6.9375 \nQ 34.46875 10.796875 34.46875 16.0625 \nQ 34.46875 19.921875 32.765625 23.578125 \nQ 31.5 26.3125 29.984375 27.734375 \nQ 27.875 29.6875 24.21875 31.265625 \nQ 20.5625 32.859375 16.75 32.859375 \nL 15.1875 32.859375 \nL 15.1875 34.328125 \nQ 19.046875 34.8125 22.921875 37.109375 \nQ 26.8125 39.40625 28.5625 42.625 \nQ 30.328125 45.84375 30.328125 49.703125 \nQ 30.328125 54.734375 27.171875 57.828125 \nQ 24.03125 60.9375 19.34375 60.9375 \nQ 11.765625 60.9375 6.6875 52.828125 \nz\n\" id=\"TimesNewRomanPSMT-33\"/>\n      </defs>\n      <g transform=\"translate(98.691201 221.499261)scale(0.08 -0.08)\">\n       <use xlink:href=\"#TimesNewRomanPSMT-33\"/>\n       <use x=\"50\" xlink:href=\"#TimesNewRomanPSMT-30\"/>\n      </g>\n     </g>\n    </g>\n    <g id=\"xtick_4\">\n     <g id=\"line2d_4\">\n      <g>\n       <use style=\"stroke:#000000;stroke-width:0.8;\" x=\"124.431461\" xlink:href=\"#m44429059e7\" y=\"208.944261\"/>\n      </g>\n     </g>\n     <g id=\"text_4\">\n      <!-- 40 -->\n      <defs>\n       <path d=\"M 46.53125 24.421875 \nL 46.53125 17.484375 \nL 37.640625 17.484375 \nL 37.640625 0 \nL 29.59375 0 \nL 29.59375 17.484375 \nL 1.5625 17.484375 \nL 1.5625 23.734375 \nL 32.28125 67.578125 \nL 37.640625 67.578125 \nL 37.640625 24.421875 \nz\nM 29.59375 24.421875 \nL 29.59375 57.28125 \nL 6.34375 24.421875 \nz\n\" id=\"TimesNewRomanPSMT-34\"/>\n      </defs>\n      <g transform=\"translate(120.431461 221.499261)scale(0.08 -0.08)\">\n       <use xlink:href=\"#TimesNewRomanPSMT-34\"/>\n       <use x=\"50\" xlink:href=\"#TimesNewRomanPSMT-30\"/>\n      </g>\n     </g>\n    </g>\n    <g id=\"xtick_5\">\n     <g id=\"line2d_5\">\n      <g>\n       <use style=\"stroke:#000000;stroke-width:0.8;\" x=\"146.171721\" xlink:href=\"#m44429059e7\" y=\"208.944261\"/>\n      </g>\n     </g>\n     <g id=\"text_5\">\n      <!-- 50 -->\n      <defs>\n       <path d=\"M 43.40625 66.21875 \nL 39.59375 57.90625 \nL 19.671875 57.90625 \nL 15.328125 49.03125 \nQ 28.265625 47.125 35.84375 39.40625 \nQ 42.328125 32.765625 42.328125 23.78125 \nQ 42.328125 18.5625 40.203125 14.109375 \nQ 38.09375 9.671875 34.859375 6.546875 \nQ 31.640625 3.421875 27.6875 1.515625 \nQ 22.078125 -1.171875 16.15625 -1.171875 \nQ 10.203125 -1.171875 7.484375 0.84375 \nQ 4.78125 2.875 4.78125 5.328125 \nQ 4.78125 6.6875 5.90625 7.734375 \nQ 7.03125 8.796875 8.734375 8.796875 \nQ 10.015625 8.796875 10.96875 8.40625 \nQ 11.921875 8.015625 14.203125 6.390625 \nQ 17.875 3.859375 21.625 3.859375 \nQ 27.34375 3.859375 31.65625 8.171875 \nQ 35.984375 12.5 35.984375 18.703125 \nQ 35.984375 24.703125 32.125 29.90625 \nQ 28.265625 35.109375 21.484375 37.9375 \nQ 16.15625 40.140625 6.984375 40.484375 \nL 19.671875 66.21875 \nz\n\" id=\"TimesNewRomanPSMT-35\"/>\n      </defs>\n      <g transform=\"translate(142.171721 221.499261)scale(0.08 -0.08)\">\n       <use xlink:href=\"#TimesNewRomanPSMT-35\"/>\n       <use x=\"50\" xlink:href=\"#TimesNewRomanPSMT-30\"/>\n      </g>\n     </g>\n    </g>\n    <g id=\"xtick_6\">\n     <g id=\"line2d_6\">\n      <g>\n       <use style=\"stroke:#000000;stroke-width:0.8;\" x=\"167.911981\" xlink:href=\"#m44429059e7\" y=\"208.944261\"/>\n      </g>\n     </g>\n     <g id=\"text_6\">\n      <!-- 60 -->\n      <defs>\n       <path d=\"M 44.828125 67.578125 \nL 44.828125 65.765625 \nQ 38.375 65.140625 34.296875 63.203125 \nQ 30.21875 61.28125 26.234375 57.328125 \nQ 22.265625 53.375 19.65625 48.515625 \nQ 17.046875 43.65625 15.28125 36.96875 \nQ 22.3125 41.796875 29.390625 41.796875 \nQ 36.1875 41.796875 41.15625 36.328125 \nQ 46.140625 30.859375 46.140625 22.265625 \nQ 46.140625 13.96875 41.109375 7.125 \nQ 35.0625 -1.171875 25.09375 -1.171875 \nQ 18.3125 -1.171875 13.578125 3.328125 \nQ 4.296875 12.0625 4.296875 25.984375 \nQ 4.296875 34.859375 7.859375 42.859375 \nQ 11.421875 50.875 18.03125 57.078125 \nQ 24.65625 63.28125 30.703125 65.421875 \nQ 36.765625 67.578125 42 67.578125 \nz\nM 14.453125 33.40625 \nQ 13.578125 26.8125 13.578125 22.75 \nQ 13.578125 18.0625 15.3125 12.5625 \nQ 17.046875 7.078125 20.453125 3.859375 \nQ 22.953125 1.5625 26.515625 1.5625 \nQ 30.765625 1.5625 34.109375 5.5625 \nQ 37.453125 9.578125 37.453125 17 \nQ 37.453125 25.34375 34.125 31.4375 \nQ 30.8125 37.546875 24.703125 37.546875 \nQ 22.859375 37.546875 20.734375 36.765625 \nQ 18.609375 35.984375 14.453125 33.40625 \n\" id=\"TimesNewRomanPSMT-36\"/>\n      </defs>\n      <g transform=\"translate(163.911981 221.499261)scale(0.08 -0.08)\">\n       <use xlink:href=\"#TimesNewRomanPSMT-36\"/>\n       <use x=\"50\" xlink:href=\"#TimesNewRomanPSMT-30\"/>\n      </g>\n     </g>\n    </g>\n    <g id=\"xtick_7\">\n     <g id=\"line2d_7\">\n      <g>\n       <use style=\"stroke:#000000;stroke-width:0.8;\" x=\"189.65224\" xlink:href=\"#m44429059e7\" y=\"208.944261\"/>\n      </g>\n     </g>\n     <g id=\"text_7\">\n      <!-- 70 -->\n      <defs>\n       <path d=\"M 10.0625 66.21875 \nL 45.5625 66.21875 \nL 45.5625 64.359375 \nL 23.484375 -1.375 \nL 18.015625 -1.375 \nL 37.796875 58.25 \nL 19.578125 58.25 \nQ 14.0625 58.25 11.71875 56.9375 \nQ 7.625 54.6875 5.125 50 \nL 3.71875 50.53125 \nz\n\" id=\"TimesNewRomanPSMT-37\"/>\n      </defs>\n      <g transform=\"translate(185.65224 221.499261)scale(0.08 -0.08)\">\n       <use xlink:href=\"#TimesNewRomanPSMT-37\"/>\n       <use x=\"50\" xlink:href=\"#TimesNewRomanPSMT-30\"/>\n      </g>\n     </g>\n    </g>\n    <g id=\"xtick_8\">\n     <g id=\"line2d_8\">\n      <g>\n       <use style=\"stroke:#000000;stroke-width:0.8;\" x=\"211.3925\" xlink:href=\"#m44429059e7\" y=\"208.944261\"/>\n      </g>\n     </g>\n     <g id=\"text_8\">\n      <!-- 80 -->\n      <defs>\n       <path d=\"M 19.1875 33.34375 \nQ 11.328125 39.796875 9.046875 43.703125 \nQ 6.78125 47.609375 6.78125 51.8125 \nQ 6.78125 58.25 11.765625 62.90625 \nQ 16.75 67.578125 25 67.578125 \nQ 33.015625 67.578125 37.890625 63.234375 \nQ 42.78125 58.890625 42.78125 53.328125 \nQ 42.78125 49.609375 40.140625 45.75 \nQ 37.5 41.890625 29.15625 36.671875 \nQ 37.75 30.03125 40.53125 26.21875 \nQ 44.234375 21.234375 44.234375 15.71875 \nQ 44.234375 8.734375 38.90625 3.78125 \nQ 33.59375 -1.171875 24.953125 -1.171875 \nQ 15.53125 -1.171875 10.25 4.734375 \nQ 6.0625 9.46875 6.0625 15.09375 \nQ 6.0625 19.484375 9.015625 23.796875 \nQ 11.96875 28.125 19.1875 33.34375 \nM 26.859375 38.578125 \nQ 32.71875 43.84375 34.28125 46.890625 \nQ 35.84375 49.953125 35.84375 53.8125 \nQ 35.84375 58.9375 32.953125 61.84375 \nQ 30.078125 64.75 25.09375 64.75 \nQ 20.125 64.75 17 61.859375 \nQ 13.875 58.984375 13.875 55.125 \nQ 13.875 52.59375 15.15625 50.046875 \nQ 16.453125 47.515625 18.84375 45.21875 \nz\nM 21.484375 31.5 \nQ 17.4375 28.078125 15.484375 24.046875 \nQ 13.53125 20.015625 13.53125 15.328125 \nQ 13.53125 9.03125 16.96875 5.25 \nQ 20.40625 1.46875 25.734375 1.46875 \nQ 31 1.46875 34.171875 4.4375 \nQ 37.359375 7.421875 37.359375 11.671875 \nQ 37.359375 15.1875 35.5 17.96875 \nQ 32.03125 23.140625 21.484375 31.5 \n\" id=\"TimesNewRomanPSMT-38\"/>\n      </defs>\n      <g transform=\"translate(207.3925 221.499261)scale(0.08 -0.08)\">\n       <use xlink:href=\"#TimesNewRomanPSMT-38\"/>\n       <use x=\"50\" xlink:href=\"#TimesNewRomanPSMT-30\"/>\n      </g>\n     </g>\n    </g>\n    <g id=\"xtick_9\">\n     <g id=\"line2d_9\">\n      <g>\n       <use style=\"stroke:#000000;stroke-width:0.8;\" x=\"233.13276\" xlink:href=\"#m44429059e7\" y=\"208.944261\"/>\n      </g>\n     </g>\n     <g id=\"text_9\">\n      <!-- 90 -->\n      <defs>\n       <path d=\"M 5.28125 -1.375 \nL 5.28125 0.4375 \nQ 11.625 0.53125 17.09375 3.390625 \nQ 22.5625 6.25 27.65625 13.375 \nQ 32.765625 20.515625 34.765625 29.046875 \nQ 27.09375 24.125 20.90625 24.125 \nQ 13.921875 24.125 8.9375 29.515625 \nQ 3.953125 34.90625 3.953125 43.84375 \nQ 3.953125 52.546875 8.9375 59.328125 \nQ 14.9375 67.578125 24.609375 67.578125 \nQ 32.765625 67.578125 38.578125 60.84375 \nQ 45.703125 52.484375 45.703125 40.234375 \nQ 45.703125 29.203125 40.28125 19.65625 \nQ 34.859375 10.109375 25.203125 3.8125 \nQ 17.328125 -1.375 8.0625 -1.375 \nz\nM 35.546875 32.671875 \nQ 36.421875 39.015625 36.421875 42.828125 \nQ 36.421875 47.5625 34.8125 53.046875 \nQ 33.203125 58.546875 30.25 61.46875 \nQ 27.296875 64.40625 23.53125 64.40625 \nQ 19.1875 64.40625 15.90625 60.5 \nQ 12.640625 56.59375 12.640625 48.875 \nQ 12.640625 38.578125 17 32.765625 \nQ 20.171875 28.5625 24.8125 28.5625 \nQ 27.046875 28.5625 30.125 29.640625 \nQ 33.203125 30.71875 35.546875 32.671875 \n\" id=\"TimesNewRomanPSMT-39\"/>\n      </defs>\n      <g transform=\"translate(229.13276 221.499261)scale(0.08 -0.08)\">\n       <use xlink:href=\"#TimesNewRomanPSMT-39\"/>\n       <use x=\"50\" xlink:href=\"#TimesNewRomanPSMT-30\"/>\n      </g>\n     </g>\n    </g>\n    <g id=\"xtick_10\">\n     <g id=\"line2d_10\">\n      <g>\n       <use style=\"stroke:#000000;stroke-width:0.8;\" x=\"254.873019\" xlink:href=\"#m44429059e7\" y=\"208.944261\"/>\n      </g>\n     </g>\n     <g id=\"text_10\">\n      <!-- 100 -->\n      <g transform=\"translate(248.873019 221.499261)scale(0.08 -0.08)\">\n       <use xlink:href=\"#TimesNewRomanPSMT-31\"/>\n       <use x=\"50\" xlink:href=\"#TimesNewRomanPSMT-30\"/>\n       <use x=\"100\" xlink:href=\"#TimesNewRomanPSMT-30\"/>\n      </g>\n     </g>\n    </g>\n    <g id=\"xtick_11\">\n     <g id=\"line2d_11\">\n      <g>\n       <use style=\"stroke:#000000;stroke-width:0.8;\" x=\"276.613279\" xlink:href=\"#m44429059e7\" y=\"208.944261\"/>\n      </g>\n     </g>\n     <g id=\"text_11\">\n      <!-- 110 -->\n      <g transform=\"translate(270.615154 221.499261)scale(0.08 -0.08)\">\n       <use xlink:href=\"#TimesNewRomanPSMT-31\"/>\n       <use x=\"49.953125\" xlink:href=\"#TimesNewRomanPSMT-31\"/>\n       <use x=\"99.953125\" xlink:href=\"#TimesNewRomanPSMT-30\"/>\n      </g>\n     </g>\n    </g>\n    <g id=\"xtick_12\">\n     <g id=\"line2d_12\">\n      <g>\n       <use style=\"stroke:#000000;stroke-width:0.8;\" x=\"298.353539\" xlink:href=\"#m44429059e7\" y=\"208.944261\"/>\n      </g>\n     </g>\n     <g id=\"text_12\">\n      <!-- 120 -->\n      <g transform=\"translate(292.353539 221.499261)scale(0.08 -0.08)\">\n       <use xlink:href=\"#TimesNewRomanPSMT-31\"/>\n       <use x=\"50\" xlink:href=\"#TimesNewRomanPSMT-32\"/>\n       <use x=\"100\" xlink:href=\"#TimesNewRomanPSMT-30\"/>\n      </g>\n     </g>\n    </g>\n    <g id=\"xtick_13\">\n     <g id=\"line2d_13\">\n      <g>\n       <use style=\"stroke:#000000;stroke-width:0.8;\" x=\"320.093799\" xlink:href=\"#m44429059e7\" y=\"208.944261\"/>\n      </g>\n     </g>\n     <g id=\"text_13\">\n      <!-- 130 -->\n      <g transform=\"translate(314.093799 221.499261)scale(0.08 -0.08)\">\n       <use xlink:href=\"#TimesNewRomanPSMT-31\"/>\n       <use x=\"50\" xlink:href=\"#TimesNewRomanPSMT-33\"/>\n       <use x=\"100\" xlink:href=\"#TimesNewRomanPSMT-30\"/>\n      </g>\n     </g>\n    </g>\n    <g id=\"xtick_14\">\n     <g id=\"line2d_14\">\n      <g>\n       <use style=\"stroke:#000000;stroke-width:0.8;\" x=\"341.834058\" xlink:href=\"#m44429059e7\" y=\"208.944261\"/>\n      </g>\n     </g>\n     <g id=\"text_14\">\n      <!-- 140 -->\n      <g transform=\"translate(335.834058 221.499261)scale(0.08 -0.08)\">\n       <use xlink:href=\"#TimesNewRomanPSMT-31\"/>\n       <use x=\"50\" xlink:href=\"#TimesNewRomanPSMT-34\"/>\n       <use x=\"100\" xlink:href=\"#TimesNewRomanPSMT-30\"/>\n      </g>\n     </g>\n    </g>\n    <g id=\"xtick_15\">\n     <g id=\"line2d_15\">\n      <g>\n       <use style=\"stroke:#000000;stroke-width:0.8;\" x=\"363.574318\" xlink:href=\"#m44429059e7\" y=\"208.944261\"/>\n      </g>\n     </g>\n     <g id=\"text_15\">\n      <!-- 150 -->\n      <g transform=\"translate(357.574318 221.499261)scale(0.08 -0.08)\">\n       <use xlink:href=\"#TimesNewRomanPSMT-31\"/>\n       <use x=\"50\" xlink:href=\"#TimesNewRomanPSMT-35\"/>\n       <use x=\"100\" xlink:href=\"#TimesNewRomanPSMT-30\"/>\n      </g>\n     </g>\n    </g>\n    <g id=\"text_16\">\n     <!-- $n$ -->\n     <defs>\n      <path d=\"M 7.71875 1.703125 \nQ 7.71875 2.296875 7.8125 2.59375 \nL 15.28125 32.421875 \nQ 16.015625 35.203125 16.015625 37.3125 \nQ 16.015625 41.609375 13.09375 41.609375 \nQ 9.96875 41.609375 8.453125 37.859375 \nQ 6.9375 34.125 5.515625 28.421875 \nQ 5.515625 28.125 5.21875 27.953125 \nQ 4.9375 27.78125 4.6875 27.78125 \nL 3.515625 27.78125 \nQ 3.171875 27.78125 2.921875 28.140625 \nQ 2.6875 28.515625 2.6875 28.8125 \nQ 3.765625 33.15625 4.765625 36.171875 \nQ 5.765625 39.203125 7.890625 41.6875 \nQ 10.015625 44.1875 13.1875 44.1875 \nQ 16.9375 44.1875 19.8125 41.8125 \nQ 22.703125 39.453125 22.703125 35.796875 \nQ 25.6875 39.703125 29.6875 41.9375 \nQ 33.6875 44.1875 38.1875 44.1875 \nQ 41.75 44.1875 44.328125 42.96875 \nQ 46.921875 41.75 48.359375 39.28125 \nQ 49.8125 36.8125 49.8125 33.40625 \nQ 49.8125 29.296875 47.96875 23.484375 \nQ 46.140625 17.671875 43.40625 10.5 \nQ 42 7.234375 42 4.5 \nQ 42 1.515625 44.28125 1.515625 \nQ 48.1875 1.515625 50.796875 5.703125 \nQ 53.421875 9.90625 54.5 14.703125 \nQ 54.6875 15.28125 55.328125 15.28125 \nL 56.5 15.28125 \nQ 56.890625 15.28125 57.15625 15.03125 \nQ 57.421875 14.796875 57.421875 14.40625 \nQ 57.421875 14.3125 57.328125 14.109375 \nQ 55.953125 8.453125 52.5625 3.65625 \nQ 49.171875 -1.125 44.09375 -1.125 \nQ 40.578125 -1.125 38.078125 1.296875 \nQ 35.59375 3.71875 35.59375 7.171875 \nQ 35.59375 9.03125 36.375 11.078125 \nQ 37.640625 14.359375 39.28125 18.890625 \nQ 40.921875 23.4375 41.96875 27.578125 \nQ 43.015625 31.734375 43.015625 34.90625 \nQ 43.015625 37.703125 41.859375 39.65625 \nQ 40.71875 41.609375 37.984375 41.609375 \nQ 34.328125 41.609375 31.25 39.984375 \nQ 28.171875 38.375 25.875 35.71875 \nQ 23.578125 33.0625 21.6875 29.390625 \nL 14.890625 2.203125 \nQ 14.546875 0.828125 13.34375 -0.140625 \nQ 12.15625 -1.125 10.6875 -1.125 \nQ 9.46875 -1.125 8.59375 -0.34375 \nQ 7.71875 0.4375 7.71875 1.703125 \n\" id=\"Cmmi10-6e\"/>\n     </defs>\n     <g transform=\"translate(208.9525 232.765511)scale(0.08 -0.08)\">\n      <use transform=\"translate(0 0.8125)\" xlink:href=\"#Cmmi10-6e\"/>\n     </g>\n    </g>\n   </g>\n   <g id=\"matplotlib.axis_2\">\n    <g id=\"ytick_1\">\n     <g id=\"line2d_16\">\n      <defs>\n       <path d=\"M 0 0 \nL -3.5 0 \n\" id=\"m386ef5455c\" style=\"stroke:#000000;stroke-width:0.8;\"/>\n      </defs>\n      <g>\n       <use style=\"stroke:#000000;stroke-width:0.8;\" x=\"43.9925\" xlink:href=\"#m386ef5455c\" y=\"192.290361\"/>\n      </g>\n     </g>\n     <g id=\"text_17\">\n      <!-- −0.05 -->\n      <defs>\n       <path d=\"M 54.4375 31.25 \nL 1.8125 31.25 \nL 1.8125 35.25 \nL 54.4375 35.25 \nz\n\" id=\"TimesNewRomanPSMT-2212\"/>\n       <path d=\"M 12.5 9.46875 \nQ 14.796875 9.46875 16.359375 7.875 \nQ 17.921875 6.296875 17.921875 4.046875 \nQ 17.921875 1.8125 16.328125 0.21875 \nQ 14.75 -1.375 12.5 -1.375 \nQ 10.25 -1.375 8.65625 0.21875 \nQ 7.078125 1.8125 7.078125 4.046875 \nQ 7.078125 6.34375 8.65625 7.90625 \nQ 10.25 9.46875 12.5 9.46875 \n\" id=\"TimesNewRomanPSMT-2e\"/>\n      </defs>\n      <g transform=\"translate(18.48125 195.067861)scale(0.08 -0.08)\">\n       <use xlink:href=\"#TimesNewRomanPSMT-2212\"/>\n       <use x=\"56.396484\" xlink:href=\"#TimesNewRomanPSMT-30\"/>\n       <use x=\"106.396484\" xlink:href=\"#TimesNewRomanPSMT-2e\"/>\n       <use x=\"131.396484\" xlink:href=\"#TimesNewRomanPSMT-30\"/>\n       <use x=\"181.396484\" xlink:href=\"#TimesNewRomanPSMT-35\"/>\n      </g>\n     </g>\n    </g>\n    <g id=\"ytick_2\">\n     <g id=\"line2d_17\">\n      <g>\n       <use style=\"stroke:#000000;stroke-width:0.8;\" x=\"43.9925\" xlink:href=\"#m386ef5455c\" y=\"169.064421\"/>\n      </g>\n     </g>\n     <g id=\"text_18\">\n      <!-- 0.00 -->\n      <g transform=\"translate(22.9925 171.841921)scale(0.08 -0.08)\">\n       <use xlink:href=\"#TimesNewRomanPSMT-30\"/>\n       <use x=\"50\" xlink:href=\"#TimesNewRomanPSMT-2e\"/>\n       <use x=\"75\" xlink:href=\"#TimesNewRomanPSMT-30\"/>\n       <use x=\"125\" xlink:href=\"#TimesNewRomanPSMT-30\"/>\n      </g>\n     </g>\n    </g>\n    <g id=\"ytick_3\">\n     <g id=\"line2d_18\">\n      <g>\n       <use style=\"stroke:#000000;stroke-width:0.8;\" x=\"43.9925\" xlink:href=\"#m386ef5455c\" y=\"145.838481\"/>\n      </g>\n     </g>\n     <g id=\"text_19\">\n      <!-- 0.05 -->\n      <g transform=\"translate(22.9925 148.615981)scale(0.08 -0.08)\">\n       <use xlink:href=\"#TimesNewRomanPSMT-30\"/>\n       <use x=\"50\" xlink:href=\"#TimesNewRomanPSMT-2e\"/>\n       <use x=\"75\" xlink:href=\"#TimesNewRomanPSMT-30\"/>\n       <use x=\"125\" xlink:href=\"#TimesNewRomanPSMT-35\"/>\n      </g>\n     </g>\n    </g>\n    <g id=\"ytick_4\">\n     <g id=\"line2d_19\">\n      <g>\n       <use style=\"stroke:#000000;stroke-width:0.8;\" x=\"43.9925\" xlink:href=\"#m386ef5455c\" y=\"122.612541\"/>\n      </g>\n     </g>\n     <g id=\"text_20\">\n      <!-- 0.10 -->\n      <g transform=\"translate(22.9925 125.390041)scale(0.08 -0.08)\">\n       <use xlink:href=\"#TimesNewRomanPSMT-30\"/>\n       <use x=\"50\" xlink:href=\"#TimesNewRomanPSMT-2e\"/>\n       <use x=\"75\" xlink:href=\"#TimesNewRomanPSMT-31\"/>\n       <use x=\"125\" xlink:href=\"#TimesNewRomanPSMT-30\"/>\n      </g>\n     </g>\n    </g>\n    <g id=\"ytick_5\">\n     <g id=\"line2d_20\">\n      <g>\n       <use style=\"stroke:#000000;stroke-width:0.8;\" x=\"43.9925\" xlink:href=\"#m386ef5455c\" y=\"99.386601\"/>\n      </g>\n     </g>\n     <g id=\"text_21\">\n      <!-- 0.15 -->\n      <g transform=\"translate(22.9925 102.164101)scale(0.08 -0.08)\">\n       <use xlink:href=\"#TimesNewRomanPSMT-30\"/>\n       <use x=\"50\" xlink:href=\"#TimesNewRomanPSMT-2e\"/>\n       <use x=\"75\" xlink:href=\"#TimesNewRomanPSMT-31\"/>\n       <use x=\"125\" xlink:href=\"#TimesNewRomanPSMT-35\"/>\n      </g>\n     </g>\n    </g>\n    <g id=\"ytick_6\">\n     <g id=\"line2d_21\">\n      <g>\n       <use style=\"stroke:#000000;stroke-width:0.8;\" x=\"43.9925\" xlink:href=\"#m386ef5455c\" y=\"76.160661\"/>\n      </g>\n     </g>\n     <g id=\"text_22\">\n      <!-- 0.20 -->\n      <g transform=\"translate(22.9925 78.938161)scale(0.08 -0.08)\">\n       <use xlink:href=\"#TimesNewRomanPSMT-30\"/>\n       <use x=\"50\" xlink:href=\"#TimesNewRomanPSMT-2e\"/>\n       <use x=\"75\" xlink:href=\"#TimesNewRomanPSMT-32\"/>\n       <use x=\"125\" xlink:href=\"#TimesNewRomanPSMT-30\"/>\n      </g>\n     </g>\n    </g>\n    <g id=\"ytick_7\">\n     <g id=\"line2d_22\">\n      <g>\n       <use style=\"stroke:#000000;stroke-width:0.8;\" x=\"43.9925\" xlink:href=\"#m386ef5455c\" y=\"52.934721\"/>\n      </g>\n     </g>\n     <g id=\"text_23\">\n      <!-- 0.25 -->\n      <g transform=\"translate(22.9925 55.712221)scale(0.08 -0.08)\">\n       <use xlink:href=\"#TimesNewRomanPSMT-30\"/>\n       <use x=\"50\" xlink:href=\"#TimesNewRomanPSMT-2e\"/>\n       <use x=\"75\" xlink:href=\"#TimesNewRomanPSMT-32\"/>\n       <use x=\"125\" xlink:href=\"#TimesNewRomanPSMT-35\"/>\n      </g>\n     </g>\n    </g>\n    <g id=\"ytick_8\">\n     <g id=\"line2d_23\">\n      <g>\n       <use style=\"stroke:#000000;stroke-width:0.8;\" x=\"43.9925\" xlink:href=\"#m386ef5455c\" y=\"29.708781\"/>\n      </g>\n     </g>\n     <g id=\"text_24\">\n      <!-- 0.30 -->\n      <g transform=\"translate(22.9925 32.486281)scale(0.08 -0.08)\">\n       <use xlink:href=\"#TimesNewRomanPSMT-30\"/>\n       <use x=\"50\" xlink:href=\"#TimesNewRomanPSMT-2e\"/>\n       <use x=\"75\" xlink:href=\"#TimesNewRomanPSMT-33\"/>\n       <use x=\"125\" xlink:href=\"#TimesNewRomanPSMT-30\"/>\n      </g>\n     </g>\n    </g>\n    <g id=\"text_25\">\n     <!-- Erreur de généralisation (util) -->\n     <defs>\n      <path d=\"M 20.90625 62.59375 \nL 20.90625 36.421875 \nL 35.453125 36.421875 \nQ 41.109375 36.421875 43.015625 38.140625 \nQ 45.5625 40.375 45.84375 46.046875 \nL 47.65625 46.046875 \nL 47.65625 23 \nL 45.84375 23 \nQ 45.171875 27.828125 44.484375 29.203125 \nQ 43.609375 30.90625 41.59375 31.875 \nQ 39.59375 32.859375 35.453125 32.859375 \nL 20.90625 32.859375 \nL 20.90625 11.03125 \nQ 20.90625 6.640625 21.296875 5.6875 \nQ 21.6875 4.734375 22.65625 4.171875 \nQ 23.640625 3.609375 26.375 3.609375 \nL 37.59375 3.609375 \nQ 43.21875 3.609375 45.75 4.390625 \nQ 48.296875 5.171875 50.640625 7.46875 \nQ 53.65625 10.5 56.84375 16.609375 \nL 58.796875 16.609375 \nL 53.078125 0 \nL 2.046875 0 \nL 2.046875 1.8125 \nL 4.390625 1.8125 \nQ 6.734375 1.8125 8.84375 2.9375 \nQ 10.40625 3.71875 10.96875 5.28125 \nQ 11.53125 6.84375 11.53125 11.671875 \nL 11.53125 54.6875 \nQ 11.53125 60.984375 10.25 62.453125 \nQ 8.5 64.40625 4.390625 64.40625 \nL 2.046875 64.40625 \nL 2.046875 66.21875 \nL 53.078125 66.21875 \nL 53.8125 51.703125 \nL 51.90625 51.703125 \nQ 50.875 56.9375 49.625 58.890625 \nQ 48.390625 60.84375 45.953125 61.859375 \nQ 44 62.59375 39.0625 62.59375 \nz\n\" id=\"TimesNewRomanPSMT-45\"/>\n      <path d=\"M 16.21875 46.046875 \nL 16.21875 35.984375 \nQ 21.828125 46.046875 27.734375 46.046875 \nQ 30.421875 46.046875 32.171875 44.40625 \nQ 33.9375 42.78125 33.9375 40.625 \nQ 33.9375 38.71875 32.65625 37.390625 \nQ 31.390625 36.078125 29.640625 36.078125 \nQ 27.9375 36.078125 25.8125 37.765625 \nQ 23.6875 39.453125 22.65625 39.453125 \nQ 21.78125 39.453125 20.75 38.484375 \nQ 18.5625 36.46875 16.21875 31.890625 \nL 16.21875 10.453125 \nQ 16.21875 6.734375 17.140625 4.828125 \nQ 17.78125 3.515625 19.390625 2.640625 \nQ 21 1.765625 24.03125 1.765625 \nL 24.03125 0 \nL 1.125 0 \nL 1.125 1.765625 \nQ 4.546875 1.765625 6.203125 2.828125 \nQ 7.421875 3.609375 7.90625 5.328125 \nQ 8.15625 6.15625 8.15625 10.0625 \nL 8.15625 27.390625 \nQ 8.15625 35.203125 7.828125 36.6875 \nQ 7.515625 38.1875 6.65625 38.859375 \nQ 5.8125 39.546875 4.546875 39.546875 \nQ 3.03125 39.546875 1.125 38.8125 \nL 0.640625 40.578125 \nL 14.15625 46.046875 \nz\n\" id=\"TimesNewRomanPSMT-72\"/>\n      <path d=\"M 10.640625 27.875 \nQ 10.59375 17.921875 15.484375 12.25 \nQ 20.359375 6.59375 26.953125 6.59375 \nQ 31.34375 6.59375 34.59375 9 \nQ 37.84375 11.421875 40.046875 17.28125 \nL 41.546875 16.3125 \nQ 40.53125 9.625 35.59375 4.125 \nQ 30.671875 -1.375 23.25 -1.375 \nQ 15.1875 -1.375 9.453125 4.90625 \nQ 3.71875 11.1875 3.71875 21.78125 \nQ 3.71875 33.25 9.59375 39.671875 \nQ 15.484375 46.09375 24.359375 46.09375 \nQ 31.890625 46.09375 36.71875 41.140625 \nQ 41.546875 36.1875 41.546875 27.875 \nz\nM 10.640625 30.71875 \nL 31.34375 30.71875 \nQ 31.109375 35.015625 30.328125 36.765625 \nQ 29.109375 39.5 26.6875 41.0625 \nQ 24.265625 42.625 21.625 42.625 \nQ 17.578125 42.625 14.375 39.46875 \nQ 11.1875 36.328125 10.640625 30.71875 \n\" id=\"TimesNewRomanPSMT-65\"/>\n      <path d=\"M 42.328125 44.734375 \nL 42.328125 17.625 \nQ 42.328125 9.859375 42.6875 8.125 \nQ 43.0625 6.390625 43.859375 5.703125 \nQ 44.671875 5.03125 45.75 5.03125 \nQ 47.265625 5.03125 49.171875 5.859375 \nL 49.859375 4.15625 \nL 36.46875 -1.375 \nL 34.28125 -1.375 \nL 34.28125 8.109375 \nQ 28.515625 1.859375 25.484375 0.234375 \nQ 22.46875 -1.375 19.09375 -1.375 \nQ 15.328125 -1.375 12.5625 0.796875 \nQ 9.8125 2.984375 8.734375 6.390625 \nQ 7.671875 9.8125 7.671875 16.0625 \nL 7.671875 36.03125 \nQ 7.671875 39.203125 6.984375 40.421875 \nQ 6.296875 41.65625 4.953125 42.3125 \nQ 3.609375 42.96875 0.09375 42.921875 \nL 0.09375 44.734375 \nL 15.765625 44.734375 \nL 15.765625 14.796875 \nQ 15.765625 8.546875 17.9375 6.59375 \nQ 20.125 4.640625 23.1875 4.640625 \nQ 25.296875 4.640625 27.953125 5.953125 \nQ 30.609375 7.28125 34.28125 10.984375 \nL 34.28125 36.328125 \nQ 34.28125 40.140625 32.890625 41.484375 \nQ 31.5 42.828125 27.09375 42.921875 \nL 27.09375 44.734375 \nz\n\" id=\"TimesNewRomanPSMT-75\"/>\n      <path id=\"TimesNewRomanPSMT-20\"/>\n      <path d=\"M 34.71875 5.03125 \nQ 31.453125 1.609375 28.328125 0.109375 \nQ 25.203125 -1.375 21.578125 -1.375 \nQ 14.265625 -1.375 8.796875 4.75 \nQ 3.328125 10.890625 3.328125 20.515625 \nQ 3.328125 30.125 9.375 38.109375 \nQ 15.4375 46.09375 24.953125 46.09375 \nQ 30.859375 46.09375 34.71875 42.328125 \nL 34.71875 50.59375 \nQ 34.71875 58.25 34.34375 60 \nQ 33.984375 61.765625 33.203125 62.390625 \nQ 32.421875 63.03125 31.25 63.03125 \nQ 29.984375 63.03125 27.875 62.25 \nL 27.25 63.96875 \nL 40.578125 69.4375 \nL 42.78125 69.4375 \nL 42.78125 17.71875 \nQ 42.78125 9.859375 43.140625 8.125 \nQ 43.5 6.390625 44.3125 5.703125 \nQ 45.125 5.03125 46.1875 5.03125 \nQ 47.515625 5.03125 49.703125 5.859375 \nL 50.25 4.15625 \nL 36.96875 -1.375 \nL 34.71875 -1.375 \nz\nM 34.71875 8.453125 \nL 34.71875 31.5 \nQ 34.421875 34.8125 32.953125 37.546875 \nQ 31.5 40.28125 29.078125 41.671875 \nQ 26.65625 43.0625 24.359375 43.0625 \nQ 20.0625 43.0625 16.703125 39.203125 \nQ 12.25 34.125 12.25 24.359375 \nQ 12.25 14.5 16.546875 9.25 \nQ 20.84375 4 26.125 4 \nQ 30.5625 4 34.71875 8.453125 \n\" id=\"TimesNewRomanPSMT-64\"/>\n      <path d=\"M 15.09375 16.3125 \nQ 10.984375 18.3125 8.78125 21.890625 \nQ 6.59375 25.484375 6.59375 29.828125 \nQ 6.59375 36.46875 11.59375 41.25 \nQ 16.609375 46.046875 24.421875 46.046875 \nQ 30.8125 46.046875 35.5 42.921875 \nL 44.96875 42.921875 \nQ 47.078125 42.921875 47.40625 42.796875 \nQ 47.75 42.671875 47.90625 42.390625 \nQ 48.1875 41.9375 48.1875 40.828125 \nQ 48.1875 39.546875 47.953125 39.0625 \nQ 47.796875 38.8125 47.4375 38.671875 \nQ 47.078125 38.53125 44.96875 38.53125 \nL 39.15625 38.53125 \nQ 41.890625 35.015625 41.890625 29.546875 \nQ 41.890625 23.296875 37.109375 18.84375 \nQ 32.328125 14.40625 24.265625 14.40625 \nQ 20.953125 14.40625 17.484375 15.375 \nQ 15.328125 13.53125 14.5625 12.140625 \nQ 13.8125 10.75 13.8125 9.765625 \nQ 13.8125 8.9375 14.625 8.15625 \nQ 15.4375 7.375 17.78125 7.03125 \nQ 19.140625 6.84375 24.609375 6.6875 \nQ 34.671875 6.453125 37.640625 6 \nQ 42.1875 5.375 44.890625 2.640625 \nQ 47.609375 -0.09375 47.609375 -4.109375 \nQ 47.609375 -9.625 42.4375 -14.453125 \nQ 34.8125 -21.578125 22.5625 -21.578125 \nQ 13.140625 -21.578125 6.640625 -17.328125 \nQ 2.984375 -14.890625 2.984375 -12.25 \nQ 2.984375 -11.078125 3.515625 -9.90625 \nQ 4.34375 -8.109375 6.9375 -4.890625 \nQ 7.28125 -4.4375 11.921875 0.390625 \nQ 9.375 1.90625 8.328125 3.09375 \nQ 7.28125 4.296875 7.28125 5.8125 \nQ 7.28125 7.515625 8.671875 9.8125 \nQ 10.0625 12.109375 15.09375 16.3125 \nM 23.578125 43.703125 \nQ 19.96875 43.703125 17.53125 40.8125 \nQ 15.09375 37.9375 15.09375 31.984375 \nQ 15.09375 24.265625 18.40625 20.015625 \nQ 20.953125 16.796875 24.859375 16.796875 \nQ 28.5625 16.796875 30.953125 19.578125 \nQ 33.34375 22.359375 33.34375 28.328125 \nQ 33.34375 36.078125 29.984375 40.484375 \nQ 27.484375 43.703125 23.578125 43.703125 \nM 14.59375 0 \nQ 12.3125 -2.484375 11.140625 -4.625 \nQ 9.96875 -6.78125 9.96875 -8.59375 \nQ 9.96875 -10.9375 12.796875 -12.703125 \nQ 17.671875 -15.71875 26.90625 -15.71875 \nQ 35.6875 -15.71875 39.859375 -12.609375 \nQ 44.046875 -9.515625 44.046875 -6 \nQ 44.046875 -3.46875 41.546875 -2.390625 \nQ 39.015625 -1.3125 31.5 -1.125 \nQ 20.515625 -0.828125 14.59375 0 \n\" id=\"TimesNewRomanPSMT-67\"/>\n      <path d=\"M 10.640625 27.875 \nQ 10.59375 17.921875 15.484375 12.25 \nQ 20.359375 6.59375 26.953125 6.59375 \nQ 31.34375 6.59375 34.59375 9 \nQ 37.84375 11.421875 40.046875 17.28125 \nL 41.546875 16.3125 \nQ 40.53125 9.625 35.59375 4.125 \nQ 30.671875 -1.375 23.25 -1.375 \nQ 15.1875 -1.375 9.453125 4.90625 \nQ 3.71875 11.1875 3.71875 21.78125 \nQ 3.71875 33.25 9.59375 39.671875 \nQ 15.484375 46.09375 24.359375 46.09375 \nQ 31.890625 46.09375 36.71875 41.140625 \nQ 41.546875 36.1875 41.546875 27.875 \nz\nM 10.640625 30.71875 \nL 31.34375 30.71875 \nQ 31.109375 35.015625 30.328125 36.765625 \nQ 29.109375 39.5 26.6875 41.0625 \nQ 24.265625 42.625 21.625 42.625 \nQ 17.578125 42.625 14.375 39.46875 \nQ 11.1875 36.328125 10.640625 30.71875 \nM 33.96875 67.875 \nL 19.5625 51.03125 \nL 17.90625 51.03125 \nL 23.03125 67.875 \nz\n\" id=\"TimesNewRomanPSMT-e9\"/>\n      <path d=\"M 16.15625 36.578125 \nQ 24.03125 46.046875 31.15625 46.046875 \nQ 34.8125 46.046875 37.453125 44.21875 \nQ 40.09375 42.390625 41.65625 38.1875 \nQ 42.71875 35.25 42.71875 29.203125 \nL 42.71875 10.109375 \nQ 42.71875 5.859375 43.40625 4.34375 \nQ 43.953125 3.125 45.140625 2.4375 \nQ 46.34375 1.765625 49.5625 1.765625 \nL 49.5625 0 \nL 27.4375 0 \nL 27.4375 1.765625 \nL 28.375 1.765625 \nQ 31.5 1.765625 32.734375 2.703125 \nQ 33.984375 3.65625 34.46875 5.515625 \nQ 34.671875 6.25 34.671875 10.109375 \nL 34.671875 28.421875 \nQ 34.671875 34.515625 33.078125 37.28125 \nQ 31.5 40.046875 27.734375 40.046875 \nQ 21.921875 40.046875 16.15625 33.6875 \nL 16.15625 10.109375 \nQ 16.15625 5.5625 16.703125 4.5 \nQ 17.390625 3.078125 18.578125 2.421875 \nQ 19.78125 1.765625 23.4375 1.765625 \nL 23.4375 0 \nL 1.3125 0 \nL 1.3125 1.765625 \nL 2.296875 1.765625 \nQ 5.71875 1.765625 6.90625 3.484375 \nQ 8.109375 5.21875 8.109375 10.109375 \nL 8.109375 26.703125 \nQ 8.109375 34.765625 7.734375 36.515625 \nQ 7.375 38.28125 6.609375 38.90625 \nQ 5.859375 39.546875 4.59375 39.546875 \nQ 3.21875 39.546875 1.3125 38.8125 \nL 0.59375 40.578125 \nL 14.0625 46.046875 \nL 16.15625 46.046875 \nz\n\" id=\"TimesNewRomanPSMT-6e\"/>\n      <path d=\"M 28.46875 6.453125 \nQ 21.578125 1.125 19.828125 0.296875 \nQ 17.1875 -0.921875 14.203125 -0.921875 \nQ 9.578125 -0.921875 6.5625 2.25 \nQ 3.5625 5.421875 3.5625 10.59375 \nQ 3.5625 13.875 5.03125 16.265625 \nQ 7.03125 19.578125 11.984375 22.5 \nQ 16.9375 25.4375 28.46875 29.640625 \nL 28.46875 31.390625 \nQ 28.46875 38.09375 26.34375 40.578125 \nQ 24.21875 43.0625 20.171875 43.0625 \nQ 17.09375 43.0625 15.28125 41.40625 \nQ 13.421875 39.75 13.421875 37.59375 \nL 13.53125 34.765625 \nQ 13.53125 32.515625 12.375 31.296875 \nQ 11.234375 30.078125 9.375 30.078125 \nQ 7.5625 30.078125 6.421875 31.34375 \nQ 5.28125 32.625 5.28125 34.8125 \nQ 5.28125 39.015625 9.578125 42.53125 \nQ 13.875 46.046875 21.625 46.046875 \nQ 27.59375 46.046875 31.390625 44.046875 \nQ 34.28125 42.53125 35.640625 39.3125 \nQ 36.53125 37.203125 36.53125 30.71875 \nL 36.53125 15.53125 \nQ 36.53125 9.125 36.765625 7.6875 \nQ 37.015625 6.25 37.578125 5.765625 \nQ 38.140625 5.28125 38.875 5.28125 \nQ 39.65625 5.28125 40.234375 5.609375 \nQ 41.265625 6.25 44.1875 9.1875 \nL 44.1875 6.453125 \nQ 38.71875 -0.875 33.734375 -0.875 \nQ 31.34375 -0.875 29.921875 0.78125 \nQ 28.515625 2.4375 28.46875 6.453125 \nM 28.46875 9.625 \nL 28.46875 26.65625 \nQ 21.09375 23.734375 18.953125 22.515625 \nQ 15.09375 20.359375 13.421875 18.015625 \nQ 11.765625 15.671875 11.765625 12.890625 \nQ 11.765625 9.375 13.859375 7.046875 \nQ 15.96875 4.734375 18.703125 4.734375 \nQ 22.40625 4.734375 28.46875 9.625 \n\" id=\"TimesNewRomanPSMT-61\"/>\n      <path d=\"M 18.5 69.4375 \nL 18.5 10.109375 \nQ 18.5 5.90625 19.109375 4.53125 \nQ 19.734375 3.171875 21 2.46875 \nQ 22.265625 1.765625 25.734375 1.765625 \nL 25.734375 0 \nL 3.8125 0 \nL 3.8125 1.765625 \nQ 6.890625 1.765625 8 2.390625 \nQ 9.125 3.03125 9.765625 4.484375 \nQ 10.40625 5.953125 10.40625 10.109375 \nL 10.40625 50.734375 \nQ 10.40625 58.296875 10.0625 60.03125 \nQ 9.71875 61.765625 8.953125 62.390625 \nQ 8.203125 63.03125 7.03125 63.03125 \nQ 5.765625 63.03125 3.8125 62.25 \nL 2.984375 63.96875 \nL 16.3125 69.4375 \nz\n\" id=\"TimesNewRomanPSMT-6c\"/>\n      <path d=\"M 14.5 69.4375 \nQ 16.546875 69.4375 17.984375 67.984375 \nQ 19.4375 66.546875 19.4375 64.5 \nQ 19.4375 62.453125 17.984375 60.984375 \nQ 16.546875 59.515625 14.5 59.515625 \nQ 12.453125 59.515625 10.984375 60.984375 \nQ 9.515625 62.453125 9.515625 64.5 \nQ 9.515625 66.546875 10.953125 67.984375 \nQ 12.40625 69.4375 14.5 69.4375 \nM 18.5625 46.046875 \nL 18.5625 10.109375 \nQ 18.5625 5.90625 19.171875 4.515625 \nQ 19.78125 3.125 20.96875 2.4375 \nQ 22.171875 1.765625 25.34375 1.765625 \nL 25.34375 0 \nL 3.609375 0 \nL 3.609375 1.765625 \nQ 6.890625 1.765625 8 2.390625 \nQ 9.125 3.03125 9.78125 4.484375 \nQ 10.453125 5.953125 10.453125 10.109375 \nL 10.453125 27.34375 \nQ 10.453125 34.625 10.015625 36.765625 \nQ 9.671875 38.328125 8.9375 38.9375 \nQ 8.203125 39.546875 6.9375 39.546875 \nQ 5.5625 39.546875 3.609375 38.8125 \nL 2.9375 40.578125 \nL 16.40625 46.046875 \nz\n\" id=\"TimesNewRomanPSMT-69\"/>\n      <path d=\"M 32.03125 46.046875 \nL 32.03125 30.8125 \nL 30.421875 30.8125 \nQ 28.5625 37.984375 25.65625 40.578125 \nQ 22.75 43.171875 18.265625 43.171875 \nQ 14.84375 43.171875 12.734375 41.359375 \nQ 10.640625 39.546875 10.640625 37.359375 \nQ 10.640625 34.625 12.203125 32.671875 \nQ 13.71875 30.671875 18.359375 28.421875 \nL 25.484375 24.953125 \nQ 35.40625 20.125 35.40625 12.203125 \nQ 35.40625 6.109375 30.78125 2.359375 \nQ 26.171875 -1.375 20.453125 -1.375 \nQ 16.359375 -1.375 11.078125 0.09375 \nQ 9.46875 0.59375 8.453125 0.59375 \nQ 7.328125 0.59375 6.6875 -0.6875 \nL 5.078125 -0.6875 \nL 5.078125 15.28125 \nL 6.6875 15.28125 \nQ 8.0625 8.453125 11.90625 4.984375 \nQ 15.765625 1.515625 20.5625 1.515625 \nQ 23.921875 1.515625 26.046875 3.484375 \nQ 28.171875 5.46875 28.171875 8.25 \nQ 28.171875 11.625 25.796875 13.921875 \nQ 23.4375 16.21875 16.359375 19.734375 \nQ 9.28125 23.25 7.078125 26.078125 \nQ 4.890625 28.859375 4.890625 33.109375 \nQ 4.890625 38.625 8.671875 42.328125 \nQ 12.453125 46.046875 18.453125 46.046875 \nQ 21.09375 46.046875 24.859375 44.921875 \nQ 27.34375 44.1875 28.171875 44.1875 \nQ 28.953125 44.1875 29.390625 44.53125 \nQ 29.828125 44.875 30.421875 46.046875 \nz\n\" id=\"TimesNewRomanPSMT-73\"/>\n      <path d=\"M 16.109375 59.421875 \nL 16.109375 44.734375 \nL 26.5625 44.734375 \nL 26.5625 41.3125 \nL 16.109375 41.3125 \nL 16.109375 12.3125 \nQ 16.109375 7.953125 17.359375 6.4375 \nQ 18.609375 4.9375 20.5625 4.9375 \nQ 22.171875 4.9375 23.6875 5.9375 \nQ 25.203125 6.9375 26.03125 8.890625 \nL 27.9375 8.890625 \nQ 26.21875 4.109375 23.09375 1.6875 \nQ 19.96875 -0.734375 16.65625 -0.734375 \nQ 14.40625 -0.734375 12.25 0.515625 \nQ 10.109375 1.765625 9.078125 4.078125 \nQ 8.0625 6.390625 8.0625 11.234375 \nL 8.0625 41.3125 \nL 0.984375 41.3125 \nL 0.984375 42.921875 \nQ 3.65625 44 6.46875 46.5625 \nQ 9.28125 49.125 11.46875 52.640625 \nQ 12.59375 54.5 14.59375 59.421875 \nz\n\" id=\"TimesNewRomanPSMT-74\"/>\n      <path d=\"M 25 46.046875 \nQ 35.15625 46.046875 41.3125 38.328125 \nQ 46.53125 31.734375 46.53125 23.1875 \nQ 46.53125 17.1875 43.640625 11.03125 \nQ 40.765625 4.890625 35.71875 1.75 \nQ 30.671875 -1.375 24.46875 -1.375 \nQ 14.359375 -1.375 8.40625 6.6875 \nQ 3.375 13.484375 3.375 21.921875 \nQ 3.375 28.078125 6.421875 34.15625 \nQ 9.46875 40.234375 14.453125 43.140625 \nQ 19.4375 46.046875 25 46.046875 \nM 23.484375 42.875 \nQ 20.90625 42.875 18.28125 41.328125 \nQ 15.671875 39.796875 14.0625 35.9375 \nQ 12.453125 32.078125 12.453125 26.03125 \nQ 12.453125 16.265625 16.328125 9.171875 \nQ 20.21875 2.09375 26.5625 2.09375 \nQ 31.296875 2.09375 34.375 6 \nQ 37.453125 9.90625 37.453125 19.4375 \nQ 37.453125 31.34375 32.328125 38.1875 \nQ 28.859375 42.875 23.484375 42.875 \n\" id=\"TimesNewRomanPSMT-6f\"/>\n      <path d=\"M 31.0625 -19.578125 \nL 31.0625 -21.390625 \nQ 23.6875 -17.671875 18.75 -12.703125 \nQ 11.71875 -5.609375 7.90625 4 \nQ 4.109375 13.625 4.109375 23.96875 \nQ 4.109375 39.109375 11.578125 51.578125 \nQ 19.046875 64.0625 31.0625 69.4375 \nL 31.0625 67.390625 \nQ 25.046875 64.0625 21.1875 58.296875 \nQ 17.328125 52.546875 15.421875 43.703125 \nQ 13.53125 34.859375 13.53125 25.25 \nQ 13.53125 14.796875 15.140625 6.25 \nQ 16.40625 -0.484375 18.203125 -4.5625 \nQ 20.015625 -8.640625 23.0625 -12.390625 \nQ 26.125 -16.15625 31.0625 -19.578125 \n\" id=\"TimesNewRomanPSMT-28\"/>\n      <path d=\"M 2.25 67.390625 \nL 2.25 69.4375 \nQ 9.671875 65.765625 14.59375 60.796875 \nQ 21.578125 53.65625 25.390625 44.0625 \nQ 29.203125 34.46875 29.203125 24.078125 \nQ 29.203125 8.9375 21.75 -3.53125 \nQ 14.3125 -16.015625 2.25 -21.390625 \nL 2.25 -19.578125 \nQ 8.25 -16.21875 12.125 -10.46875 \nQ 16.015625 -4.734375 17.890625 4.125 \nQ 19.78125 12.984375 19.78125 22.609375 \nQ 19.78125 33.015625 18.171875 41.609375 \nQ 16.9375 48.34375 15.109375 52.390625 \nQ 13.28125 56.453125 10.25 60.203125 \nQ 7.234375 63.96875 2.25 67.390625 \n\" id=\"TimesNewRomanPSMT-29\"/>\n     </defs>\n     <g transform=\"translate(12.755 161.82888)rotate(-90)scale(0.08 -0.08)\">\n      <use xlink:href=\"#TimesNewRomanPSMT-45\"/>\n      <use x=\"61.083984\" xlink:href=\"#TimesNewRomanPSMT-72\"/>\n      <use x=\"94.384766\" xlink:href=\"#TimesNewRomanPSMT-72\"/>\n      <use x=\"127.685547\" xlink:href=\"#TimesNewRomanPSMT-65\"/>\n      <use x=\"172.070312\" xlink:href=\"#TimesNewRomanPSMT-75\"/>\n      <use x=\"222.070312\" xlink:href=\"#TimesNewRomanPSMT-72\"/>\n      <use x=\"255.371094\" xlink:href=\"#TimesNewRomanPSMT-20\"/>\n      <use x=\"280.371094\" xlink:href=\"#TimesNewRomanPSMT-64\"/>\n      <use x=\"330.371094\" xlink:href=\"#TimesNewRomanPSMT-65\"/>\n      <use x=\"374.755859\" xlink:href=\"#TimesNewRomanPSMT-20\"/>\n      <use x=\"399.755859\" xlink:href=\"#TimesNewRomanPSMT-67\"/>\n      <use x=\"449.755859\" xlink:href=\"#TimesNewRomanPSMT-e9\"/>\n      <use x=\"494.140625\" xlink:href=\"#TimesNewRomanPSMT-6e\"/>\n      <use x=\"544.140625\" xlink:href=\"#TimesNewRomanPSMT-e9\"/>\n      <use x=\"588.525391\" xlink:href=\"#TimesNewRomanPSMT-72\"/>\n      <use x=\"621.826172\" xlink:href=\"#TimesNewRomanPSMT-61\"/>\n      <use x=\"666.210938\" xlink:href=\"#TimesNewRomanPSMT-6c\"/>\n      <use x=\"693.994141\" xlink:href=\"#TimesNewRomanPSMT-69\"/>\n      <use x=\"721.777344\" xlink:href=\"#TimesNewRomanPSMT-73\"/>\n      <use x=\"760.693359\" xlink:href=\"#TimesNewRomanPSMT-61\"/>\n      <use x=\"805.078125\" xlink:href=\"#TimesNewRomanPSMT-74\"/>\n      <use x=\"832.861328\" xlink:href=\"#TimesNewRomanPSMT-69\"/>\n      <use x=\"860.644531\" xlink:href=\"#TimesNewRomanPSMT-6f\"/>\n      <use x=\"910.644531\" xlink:href=\"#TimesNewRomanPSMT-6e\"/>\n      <use x=\"960.644531\" xlink:href=\"#TimesNewRomanPSMT-20\"/>\n      <use x=\"985.644531\" xlink:href=\"#TimesNewRomanPSMT-28\"/>\n      <use x=\"1018.945312\" xlink:href=\"#TimesNewRomanPSMT-75\"/>\n      <use x=\"1068.945312\" xlink:href=\"#TimesNewRomanPSMT-74\"/>\n      <use x=\"1096.728516\" xlink:href=\"#TimesNewRomanPSMT-69\"/>\n      <use x=\"1124.511719\" xlink:href=\"#TimesNewRomanPSMT-6c\"/>\n      <use x=\"1152.294922\" xlink:href=\"#TimesNewRomanPSMT-29\"/>\n     </g>\n    </g>\n   </g>\n   <g id=\"line2d_24\">\n    <path clip-path=\"url(#p3142a43eaa)\" d=\"M 59.210682 28.460466 \nL 61.384708 37.526865 \nL 63.558734 31.425858 \nL 65.73276 54.392448 \nL 67.906786 51.180755 \nL 70.080812 55.098685 \nL 72.254838 52.207463 \nL 76.60289 45.68837 \nL 83.124968 35.538689 \nL 85.298994 39.57535 \nL 87.473019 42.912551 \nL 89.647045 45.68844 \nL 91.821071 74.812588 \nL 93.995097 99.033449 \nL 96.169123 95.534314 \nL 98.343149 100.178546 \nL 100.517175 99.601259 \nL 102.691201 98.13896 \nL 104.865227 103.129956 \nL 107.039253 106.941724 \nL 109.213279 108.325715 \nL 111.387305 108.059158 \nL 113.561331 106.223702 \nL 115.735357 104.181511 \nL 117.909383 111.295291 \nL 120.083409 109.21651 \nL 122.257435 114.698039 \nL 124.431461 112.647347 \nL 126.605487 116.812948 \nL 128.779513 114.832069 \nL 130.953539 116.109083 \nL 133.127565 114.376045 \nL 135.301591 115.580905 \nL 137.475617 116.325803 \nL 139.649643 118.57234 \nL 141.823669 124.293651 \nL 143.997695 124.59143 \nL 146.171721 126.151204 \nL 148.345747 126.482281 \nL 150.519773 129.321511 \nL 154.867825 125.907374 \nL 157.041851 128.131355 \nL 159.215877 126.588733 \nL 161.389903 130.133536 \nL 163.563929 128.540457 \nL 165.737955 130.632091 \nL 167.911981 132.300769 \nL 170.086006 135.782648 \nL 172.260032 134.246123 \nL 174.434058 133.145348 \nL 176.608084 131.731126 \nL 178.78211 131.617295 \nL 185.304188 127.537919 \nL 187.478214 130.292073 \nL 191.826266 127.703343 \nL 194.000292 130.039922 \nL 196.174318 129.974526 \nL 202.696396 126.466221 \nL 204.870422 127.235748 \nL 211.3925 123.852468 \nL 213.566526 125.620781 \nL 217.914578 123.48402 \nL 220.088604 125.766206 \nL 222.26263 127.768138 \nL 224.436656 129.508621 \nL 226.610682 131.45688 \nL 228.784708 133.09346 \nL 235.306786 129.99639 \nL 237.480812 131.426656 \nL 239.654838 132.666659 \nL 241.828864 131.681009 \nL 244.00289 133.731208 \nL 248.350942 131.794945 \nL 250.524968 132.985643 \nL 252.698994 132.046901 \nL 254.873019 133.88027 \nL 259.221071 132.125254 \nL 261.395097 131.224026 \nL 263.569123 132.374152 \nL 265.743149 133.38329 \nL 267.917175 135.277048 \nL 274.439253 132.668542 \nL 276.613279 133.646265 \nL 278.787305 138.053052 \nL 280.961331 137.205263 \nL 283.135357 138.895851 \nL 285.309383 139.755015 \nL 287.483409 138.921051 \nL 289.657435 140.530731 \nL 291.831461 141.999635 \nL 294.005487 142.893564 \nL 298.353539 141.258163 \nL 300.527565 142.659712 \nL 302.701591 141.855629 \nL 307.049643 144.28929 \nL 309.223669 143.496552 \nL 315.745747 146.567633 \nL 317.919773 145.792018 \nL 320.093799 146.85847 \nL 322.267825 146.139507 \nL 324.441851 147.486436 \nL 326.615877 147.85042 \nL 335.311981 144.897178 \nL 337.486006 145.983021 \nL 339.660032 146.696731 \nL 344.008084 145.895934 \nL 346.18211 148.269577 \nL 352.704188 146.927518 \nL 354.878214 148.84908 \nL 357.05224 148.709409 \nL 363.574318 147.173764 \nL 363.574318 147.173764 \n\" style=\"fill:none;stroke:#1f77b4;stroke-dasharray:2.2,2.2;stroke-dashoffset:0;stroke-width:1.5;\"/>\n   </g>\n   <g id=\"line2d_25\">\n    <path clip-path=\"url(#p3142a43eaa)\" d=\"M 59.210682 105.912116 \nL 61.384708 108.325715 \nL 63.558734 107.557157 \nL 65.73276 130.349806 \nL 67.906786 130.22937 \nL 70.080812 128.449288 \nL 72.254838 127.495993 \nL 74.428864 126.368569 \nL 76.60289 133.506871 \nL 78.776916 136.514369 \nL 80.950942 137.18447 \nL 83.124968 135.691288 \nL 85.298994 132.887849 \nL 87.473019 134.867529 \nL 89.647045 137.916519 \nL 91.821071 138.056486 \nL 93.995097 137.876409 \nL 96.169123 138.882994 \nL 98.343149 136.865915 \nL 102.691201 144.740058 \nL 104.865227 142.466933 \nL 107.039253 142.382335 \nL 109.213279 147.775345 \nL 111.387305 146.747756 \nL 117.909383 145.902211 \nL 120.083409 145.715955 \nL 122.257435 146.485545 \nL 124.431461 148.444435 \nL 126.605487 147.075693 \nL 128.779513 147.439374 \nL 130.953539 147.513817 \nL 133.127565 146.089368 \nL 135.301591 148.881006 \nL 137.475617 148.704012 \nL 139.649643 148.363735 \nL 141.823669 147.410861 \nL 143.997695 152.754613 \nL 148.345747 150.952037 \nL 150.519773 153.299363 \nL 152.693799 152.647509 \nL 154.867825 153.646233 \nL 157.041851 153.238735 \nL 159.215877 152.324478 \nL 161.389903 150.875209 \nL 163.563929 152.115688 \nL 165.737955 152.656455 \nL 167.911981 152.908643 \nL 170.086006 154.392876 \nL 172.260032 153.632631 \nL 174.434058 153.471438 \nL 176.608084 151.895516 \nL 178.78211 153.507497 \nL 183.130162 154.834061 \nL 185.304188 153.92863 \nL 187.478214 154.513321 \nL 189.65224 155.793328 \nL 191.826266 156.289765 \nL 194.000292 157.16853 \nL 196.174318 156.702537 \nL 198.348344 156.119771 \nL 200.52237 156.872801 \nL 202.696396 157.15263 \nL 204.870422 157.11682 \nL 207.044448 157.832352 \nL 209.218474 156.818213 \nL 211.3925 157.755132 \nL 213.566526 157.675204 \nL 215.740552 157.2169 \nL 217.914578 157.273604 \nL 220.088604 157.070552 \nL 222.26263 157.854632 \nL 224.436656 158.810255 \nL 226.610682 157.65867 \nL 228.784708 158.003899 \nL 230.958734 158.231122 \nL 233.13276 159.376765 \nL 235.306786 159.043599 \nL 237.480812 159.216862 \nL 239.654838 158.362485 \nL 241.828864 159.636141 \nL 244.00289 158.786492 \nL 246.176916 159.179763 \nL 250.524968 159.212365 \nL 252.698994 158.411443 \nL 257.047045 158.901916 \nL 259.221071 158.244879 \nL 261.395097 159.295812 \nL 263.569123 158.318145 \nL 265.743149 159.132257 \nL 267.917175 159.712576 \nL 270.091201 159.248005 \nL 272.265227 159.722499 \nL 276.613279 159.76779 \nL 278.787305 160.020757 \nL 280.961331 159.858991 \nL 283.135357 159.402592 \nL 285.309383 160.169683 \nL 287.483409 159.855427 \nL 289.657435 160.501417 \nL 291.831461 160.182436 \nL 294.005487 160.47927 \nL 298.353539 159.652494 \nL 300.527565 159.868566 \nL 302.701591 160.645898 \nL 304.875617 160.697599 \nL 307.049643 160.114658 \nL 309.223669 160.313368 \nL 311.397695 160.22425 \nL 313.571721 160.62917 \nL 315.745747 160.824356 \nL 317.919773 160.512714 \nL 320.093799 159.880962 \nL 322.267825 159.492867 \nL 324.441851 159.86485 \nL 326.615877 159.28074 \nL 328.789903 159.871427 \nL 330.963929 159.886958 \nL 333.137955 160.098228 \nL 335.311981 160.083422 \nL 337.486006 160.425003 \nL 339.660032 160.892884 \nL 341.834058 160.228516 \nL 346.18211 161.023724 \nL 350.530162 159.833556 \nL 354.878214 160.315927 \nL 357.05224 159.822649 \nL 359.226266 160.38242 \nL 361.400292 160.152433 \nL 363.574318 160.544458 \nL 363.574318 160.544458 \n\" style=\"fill:none;stroke:#5a788e;stroke-dasharray:5.6,2.4;stroke-dashoffset:0;stroke-width:1.5;\"/>\n   </g>\n   <g id=\"line2d_26\">\n    <path clip-path=\"url(#p3142a43eaa)\" d=\"M 59.210682 138.19131 \nL 61.384708 146.203137 \nL 63.558734 141.116527 \nL 67.906786 141.468483 \nL 70.080812 150.817199 \nL 72.254838 151.742887 \nL 74.428864 149.923136 \nL 76.60289 146.779046 \nL 78.776916 153.414575 \nL 80.950942 154.892415 \nL 83.124968 155.359197 \nL 85.298994 153.063836 \nL 87.473019 154.973615 \nL 89.647045 157.363564 \nL 91.821071 159.180577 \nL 93.995097 158.001484 \nL 96.169123 157.3721 \nL 98.343149 157.722971 \nL 100.517175 157.937948 \nL 102.691201 159.887523 \nL 104.865227 157.805173 \nL 107.039253 157.371042 \nL 109.213279 159.533538 \nL 111.387305 160.449167 \nL 113.561331 159.304354 \nL 115.735357 159.202244 \nL 120.083409 161.072753 \nL 122.257435 159.608148 \nL 124.431461 159.423615 \nL 126.605487 160.505952 \nL 128.779513 160.492776 \nL 130.953539 159.809853 \nL 133.127565 159.782407 \nL 135.301591 160.190871 \nL 137.475617 162.110133 \nL 139.649643 163.114411 \nL 141.823669 162.29514 \nL 143.997695 160.922627 \nL 146.171721 161.255637 \nL 148.345747 161.835149 \nL 150.519773 162.998351 \nL 152.693799 162.602158 \nL 154.867825 162.961903 \nL 157.041851 161.937607 \nL 159.215877 162.089225 \nL 161.389903 163.133291 \nL 163.563929 162.057084 \nL 165.737955 162.004662 \nL 167.911981 163.937916 \nL 170.086006 163.554724 \nL 174.434058 163.59205 \nL 178.78211 164.224492 \nL 180.956136 163.589308 \nL 183.130162 163.576873 \nL 185.304188 163.764323 \nL 187.478214 163.419594 \nL 189.65224 163.284918 \nL 191.826266 162.73207 \nL 196.174318 163.504868 \nL 198.348344 163.370322 \nL 200.52237 163.902791 \nL 202.696396 164.022706 \nL 204.870422 164.584054 \nL 209.218474 163.42912 \nL 211.3925 163.52666 \nL 213.566526 164.458224 \nL 215.740552 164.132581 \nL 217.914578 164.514288 \nL 222.26263 163.550075 \nL 224.436656 163.875489 \nL 226.610682 164.340375 \nL 228.784708 164.596732 \nL 230.958734 164.578189 \nL 233.13276 164.258004 \nL 235.306786 164.36625 \nL 237.480812 164.227992 \nL 239.654838 165.235827 \nL 241.828864 165.239959 \nL 244.00289 165.087754 \nL 250.524968 165.125957 \nL 252.698994 165.523065 \nL 254.873019 165.384955 \nL 257.047045 166.01476 \nL 259.221071 165.931572 \nL 261.395097 165.55063 \nL 263.569123 165.828346 \nL 267.917175 165.586562 \nL 272.265227 166.2622 \nL 278.787305 165.248615 \nL 280.961331 165.711199 \nL 283.135357 165.369757 \nL 285.309383 165.25405 \nL 287.483409 165.527963 \nL 289.657435 165.533222 \nL 291.831461 165.74096 \nL 294.005487 165.424071 \nL 298.353539 166.991678 \nL 302.701591 166.1847 \nL 307.049643 166.173284 \nL 309.223669 166.392132 \nL 311.397695 165.944714 \nL 313.571721 166.431091 \nL 317.919773 166.663517 \nL 320.093799 166.231534 \nL 322.267825 166.372227 \nL 326.615877 166.277884 \nL 328.789903 166.476997 \nL 330.963929 166.882489 \nL 333.137955 166.654137 \nL 335.311981 167.094169 \nL 337.486006 166.641367 \nL 339.660032 165.919129 \nL 341.834058 166.08828 \nL 344.008084 166.979261 \nL 348.356136 166.309053 \nL 350.530162 166.029765 \nL 352.704188 166.148404 \nL 354.878214 166.735194 \nL 357.05224 166.280404 \nL 359.226266 166.671256 \nL 361.400292 166.778022 \nL 363.574318 166.427765 \nL 363.574318 166.427765 \n\" style=\"fill:none;stroke:#787878;stroke-linecap:square;stroke-width:1.5;\"/>\n   </g>\n   <g id=\"line2d_27\">\n    <path clip-path=\"url(#p3142a43eaa)\" d=\"M 59.210682 160.143964 \nL 61.384708 158.16249 \nL 63.558734 170.546894 \nL 65.73276 168.233315 \nL 67.906786 164.477793 \nL 70.080812 160.428803 \nL 72.254838 162.555229 \nL 74.428864 167.82635 \nL 76.60289 168.105062 \nL 78.776916 166.301193 \nL 80.950942 169.444029 \nL 83.124968 167.016252 \nL 87.473019 172.60512 \nL 89.647045 170.554271 \nL 91.821071 170.701191 \nL 93.995097 169.790387 \nL 96.169123 171.150694 \nL 98.343149 172.015198 \nL 100.517175 170.562372 \nL 102.691201 170.151146 \nL 104.865227 170.09953 \nL 107.039253 171.775848 \nL 109.213279 171.482173 \nL 111.387305 171.693373 \nL 113.561331 170.267953 \nL 115.735357 167.803556 \nL 117.909383 170.045325 \nL 120.083409 170.800281 \nL 122.257435 171.293088 \nL 124.431461 170.880962 \nL 126.605487 172.59181 \nL 128.779513 172.017632 \nL 130.953539 170.680618 \nL 133.127565 169.639132 \nL 135.301591 169.772398 \nL 137.475617 170.543347 \nL 139.649643 169.731373 \nL 141.823669 170.36693 \nL 143.997695 169.065809 \nL 146.171721 171.086999 \nL 148.345747 171.910856 \nL 150.519773 170.855378 \nL 152.693799 171.272973 \nL 154.867825 170.487692 \nL 157.041851 172.100108 \nL 159.215877 171.058148 \nL 161.389903 169.666308 \nL 163.563929 169.93956 \nL 165.737955 171.294581 \nL 167.911981 170.63068 \nL 170.086006 170.162617 \nL 172.260032 169.229631 \nL 176.608084 170.417687 \nL 178.78211 170.570088 \nL 180.956136 170.319281 \nL 183.130162 171.100953 \nL 185.304188 171.267325 \nL 187.478214 171.026726 \nL 189.65224 171.449237 \nL 191.826266 170.750584 \nL 194.000292 171.57184 \nL 196.174318 171.352207 \nL 198.348344 172.703692 \nL 200.52237 172.200496 \nL 202.696396 171.900062 \nL 204.870422 171.223343 \nL 207.044448 171.832751 \nL 209.218474 172.591583 \nL 211.3925 171.820131 \nL 213.566526 171.973949 \nL 215.740552 171.30646 \nL 217.914578 171.337038 \nL 220.088604 171.633317 \nL 222.26263 170.90478 \nL 224.436656 171.2781 \nL 226.610682 170.820317 \nL 228.784708 171.525102 \nL 230.958734 171.463669 \nL 233.13276 171.578847 \nL 237.480812 171.321779 \nL 239.654838 171.15413 \nL 241.828864 170.444758 \nL 244.00289 171.556021 \nL 246.176916 171.99918 \nL 248.350942 171.438701 \nL 250.524968 171.699425 \nL 254.873019 171.827636 \nL 257.047045 171.660943 \nL 259.221071 172.49862 \nL 261.395097 172.68938 \nL 263.569123 172.233165 \nL 265.743149 172.698176 \nL 267.917175 172.241511 \nL 270.091201 173.07141 \nL 272.265227 173.108189 \nL 274.439253 172.745658 \nL 276.613279 172.782229 \nL 278.787305 172.946882 \nL 280.961331 173.441757 \nL 283.135357 172.775659 \nL 285.309383 172.906375 \nL 287.483409 172.287332 \nL 291.831461 171.644535 \nL 294.005487 172.181527 \nL 298.353539 171.753036 \nL 300.527565 171.737753 \nL 304.875617 172.333719 \nL 307.049643 172.50028 \nL 309.223669 171.733465 \nL 311.397695 171.356945 \nL 313.571721 170.641526 \nL 315.745747 171.218021 \nL 317.919773 171.656836 \nL 322.267825 171.792331 \nL 324.441851 171.49416 \nL 326.615877 171.878386 \nL 328.789903 171.969598 \nL 330.963929 171.934341 \nL 333.137955 171.562949 \nL 335.311981 171.63462 \nL 339.660032 172.094954 \nL 341.834058 172.444307 \nL 344.008084 172.00792 \nL 346.18211 172.670896 \nL 350.530162 172.913959 \nL 352.704188 172.428251 \nL 354.878214 172.531744 \nL 357.05224 172.837905 \nL 363.574318 172.422046 \nL 363.574318 172.422046 \n\" style=\"fill:none;stroke:#5a5a5a;stroke-dasharray:5.6,2.4;stroke-dashoffset:0;stroke-width:1.5;\"/>\n   </g>\n   <g id=\"line2d_28\">\n    <path clip-path=\"url(#p3142a43eaa)\" d=\"M 59.210682 200.349794 \nL 61.384708 196.444838 \nL 63.558734 195.099719 \nL 65.73276 199.315928 \nL 67.906786 197.791338 \nL 70.080812 194.957425 \nL 72.254838 198.193704 \nL 74.428864 197.57663 \nL 76.60289 198.761232 \nL 78.776916 194.973698 \nL 80.950942 194.331515 \nL 83.124968 195.190146 \nL 85.298994 196.604163 \nL 87.473019 196.589135 \nL 89.647045 194.283169 \nL 91.821071 192.226029 \nL 93.995097 195.934393 \nL 96.169123 197.869217 \nL 98.343149 198.985393 \nL 100.517175 199.591332 \nL 102.691201 198.865727 \nL 104.865227 197.237555 \nL 107.039253 198.613296 \nL 109.213279 199.327549 \nL 111.387305 198.025685 \nL 113.561331 198.168871 \nL 115.735357 199.483714 \nL 117.909383 199.145438 \nL 120.083409 199.721324 \nL 122.257435 199.06353 \nL 124.431461 199.048253 \nL 126.605487 199.50181 \nL 128.779513 198.73951 \nL 130.953539 197.710271 \nL 133.127565 197.770645 \nL 135.301591 198.413142 \nL 137.475617 198.516352 \nL 139.649643 197.569753 \nL 141.823669 198.093587 \nL 143.997695 197.04909 \nL 148.345747 194.55959 \nL 150.519773 194.860175 \nL 152.693799 193.543354 \nL 154.867825 193.543098 \nL 157.041851 194.646376 \nL 161.389903 192.050638 \nL 163.563929 190.668394 \nL 165.737955 189.547054 \nL 167.911981 190.428648 \nL 170.086006 190.880589 \nL 172.260032 189.5704 \nL 174.434058 189.525834 \nL 176.608084 189.103506 \nL 178.78211 189.664999 \nL 183.130162 187.079417 \nL 185.304188 187.457505 \nL 191.826266 183.650221 \nL 194.000292 186.22213 \nL 196.174318 187.252193 \nL 198.348344 187.559098 \nL 200.52237 187.667291 \nL 204.870422 185.388253 \nL 209.218474 185.398945 \nL 211.3925 184.252154 \nL 213.566526 184.477274 \nL 215.740552 185.579604 \nL 217.914578 186.474903 \nL 220.088604 185.390734 \nL 222.26263 186.113098 \nL 224.436656 185.043619 \nL 226.610682 185.608683 \nL 228.784708 186.01016 \nL 230.958734 186.766821 \nL 233.13276 187.135056 \nL 235.306786 187.362628 \nL 237.480812 186.402587 \nL 239.654838 186.528846 \nL 241.828864 187.46127 \nL 244.00289 186.53175 \nL 246.176916 187.323135 \nL 248.350942 187.552604 \nL 252.698994 185.74361 \nL 254.873019 185.905183 \nL 257.047045 186.76351 \nL 259.221071 187.486927 \nL 261.395097 186.618861 \nL 263.569123 187.227832 \nL 272.265227 183.810319 \nL 274.439253 184.159269 \nL 276.613279 183.299768 \nL 280.961331 183.838588 \nL 283.135357 183.009774 \nL 285.309383 183.799532 \nL 287.483409 185.786777 \nL 291.831461 186.059837 \nL 294.005487 186.822856 \nL 296.179513 186.079704 \nL 300.527565 186.21198 \nL 304.875617 184.774899 \nL 307.049643 186.327748 \nL 309.223669 186.784975 \nL 311.397695 187.12023 \nL 317.919773 184.990368 \nL 320.093799 185.282886 \nL 324.441851 183.871188 \nL 326.615877 184.539312 \nL 328.789903 184.580556 \nL 330.963929 185.302832 \nL 335.311981 184.017161 \nL 337.486006 185.576847 \nL 341.834058 184.334332 \nL 344.008084 184.403467 \nL 346.18211 185.874009 \nL 350.530162 187.085977 \nL 352.704188 187.169561 \nL 354.878214 186.601075 \nL 357.05224 187.152358 \nL 359.226266 186.584989 \nL 361.400292 186.681507 \nL 363.574318 187.215638 \nL 363.574318 187.215638 \n\" style=\"fill:none;stroke:#000000;stroke-dasharray:2.2,2.2;stroke-dashoffset:0;stroke-width:1.5;\"/>\n   </g>\n   <g id=\"patch_3\">\n    <path d=\"M 43.9925 208.944261 \nL 43.9925 19.866 \n\" style=\"fill:none;stroke:#000000;stroke-linecap:square;stroke-linejoin:miter;stroke-width:0.8;\"/>\n   </g>\n   <g id=\"patch_4\">\n    <path d=\"M 378.7925 208.944261 \nL 378.7925 19.866 \n\" style=\"fill:none;stroke:#000000;stroke-linecap:square;stroke-linejoin:miter;stroke-width:0.8;\"/>\n   </g>\n   <g id=\"patch_5\">\n    <path d=\"M 43.9925 208.944261 \nL 378.7925 208.944261 \n\" style=\"fill:none;stroke:#000000;stroke-linecap:square;stroke-linejoin:miter;stroke-width:0.8;\"/>\n   </g>\n   <g id=\"patch_6\">\n    <path d=\"M 43.9925 19.866 \nL 378.7925 19.866 \n\" style=\"fill:none;stroke:#000000;stroke-linecap:square;stroke-linejoin:miter;stroke-width:0.8;\"/>\n   </g>\n   <g id=\"text_26\">\n    <!-- a) Utilité -->\n    <defs>\n     <path d=\"M 47.703125 64.40625 \nL 47.703125 66.21875 \nL 71.140625 66.21875 \nL 71.140625 64.40625 \nL 68.65625 64.40625 \nQ 64.75 64.40625 62.640625 61.140625 \nQ 61.625 59.625 61.625 54.109375 \nL 61.625 27.25 \nQ 61.625 17.28125 59.640625 11.78125 \nQ 57.671875 6.296875 51.875 2.359375 \nQ 46.09375 -1.5625 36.140625 -1.5625 \nQ 25.296875 -1.5625 19.671875 2.1875 \nQ 14.0625 5.953125 11.71875 12.3125 \nQ 10.15625 16.65625 10.15625 28.609375 \nL 10.15625 54.5 \nQ 10.15625 60.59375 8.46875 62.5 \nQ 6.78125 64.40625 3.03125 64.40625 \nL 0.53125 64.40625 \nL 0.53125 66.21875 \nL 29.15625 66.21875 \nL 29.15625 64.40625 \nL 26.609375 64.40625 \nQ 22.515625 64.40625 20.75 61.8125 \nQ 19.53125 60.0625 19.53125 54.5 \nL 19.53125 25.640625 \nQ 19.53125 21.78125 20.234375 16.796875 \nQ 20.953125 11.8125 22.796875 9.03125 \nQ 24.65625 6.25 28.140625 4.4375 \nQ 31.640625 2.640625 36.71875 2.640625 \nQ 43.21875 2.640625 48.34375 5.46875 \nQ 53.46875 8.296875 55.34375 12.71875 \nQ 57.234375 17.140625 57.234375 27.6875 \nL 57.234375 54.5 \nQ 57.234375 60.6875 55.859375 62.25 \nQ 53.953125 64.40625 50.203125 64.40625 \nz\n\" id=\"TimesNewRomanPSMT-55\"/>\n    </defs>\n    <g transform=\"translate(194.19875 13.866)scale(0.096 -0.096)\">\n     <use xlink:href=\"#TimesNewRomanPSMT-61\"/>\n     <use x=\"44.384766\" xlink:href=\"#TimesNewRomanPSMT-29\"/>\n     <use x=\"77.685547\" xlink:href=\"#TimesNewRomanPSMT-20\"/>\n     <use x=\"102.685547\" xlink:href=\"#TimesNewRomanPSMT-55\"/>\n     <use x=\"174.902344\" xlink:href=\"#TimesNewRomanPSMT-74\"/>\n     <use x=\"202.685547\" xlink:href=\"#TimesNewRomanPSMT-69\"/>\n     <use x=\"230.46875\" xlink:href=\"#TimesNewRomanPSMT-6c\"/>\n     <use x=\"258.251953\" xlink:href=\"#TimesNewRomanPSMT-69\"/>\n     <use x=\"286.035156\" xlink:href=\"#TimesNewRomanPSMT-74\"/>\n     <use x=\"313.818359\" xlink:href=\"#TimesNewRomanPSMT-e9\"/>\n    </g>\n   </g>\n   <g id=\"legend_1\">\n    <g id=\"patch_7\">\n     <path d=\"M 275.97 82.82225 \nL 373.1925 82.82225 \nQ 374.7925 82.82225 374.7925 81.22225 \nL 374.7925 25.466 \nQ 374.7925 23.866 373.1925 23.866 \nL 275.97 23.866 \nQ 274.37 23.866 274.37 25.466 \nL 274.37 81.22225 \nQ 274.37 82.82225 275.97 82.82225 \nz\n\" style=\"fill:#ffffff;opacity:0.8;stroke:#cccccc;stroke-linejoin:miter;\"/>\n    </g>\n    <g id=\"line2d_29\">\n     <path d=\"M 277.57 29.866 \nL 293.57 29.866 \n\" style=\"fill:none;stroke:#1f77b4;stroke-dasharray:2.2,2.2;stroke-dashoffset:0;stroke-width:1.5;\"/>\n    </g>\n    <g id=\"line2d_30\"/>\n    <g id=\"text_27\">\n     <!-- Erreur maximale -->\n     <defs>\n      <path d=\"M 16.40625 36.53125 \nQ 21.296875 41.40625 22.171875 42.140625 \nQ 24.359375 44 26.890625 45.015625 \nQ 29.4375 46.046875 31.9375 46.046875 \nQ 36.140625 46.046875 39.15625 43.59375 \nQ 42.1875 41.15625 43.21875 36.53125 \nQ 48.25 42.390625 51.703125 44.21875 \nQ 55.171875 46.046875 58.84375 46.046875 \nQ 62.40625 46.046875 65.15625 44.21875 \nQ 67.921875 42.390625 69.53125 38.234375 \nQ 70.609375 35.40625 70.609375 29.34375 \nL 70.609375 10.109375 \nQ 70.609375 5.90625 71.234375 4.34375 \nQ 71.734375 3.265625 73.046875 2.515625 \nQ 74.359375 1.765625 77.34375 1.765625 \nL 77.34375 0 \nL 55.28125 0 \nL 55.28125 1.765625 \nL 56.203125 1.765625 \nQ 59.078125 1.765625 60.6875 2.875 \nQ 61.8125 3.65625 62.3125 5.375 \nQ 62.5 6.203125 62.5 10.109375 \nL 62.5 29.34375 \nQ 62.5 34.8125 61.1875 37.0625 \nQ 59.28125 40.1875 55.078125 40.1875 \nQ 52.484375 40.1875 49.875 38.890625 \nQ 47.265625 37.59375 43.5625 34.078125 \nL 43.453125 33.546875 \nL 43.5625 31.453125 \nL 43.5625 10.109375 \nQ 43.5625 5.515625 44.0625 4.390625 \nQ 44.578125 3.265625 45.984375 2.515625 \nQ 47.40625 1.765625 50.828125 1.765625 \nL 50.828125 0 \nL 28.21875 0 \nL 28.21875 1.765625 \nQ 31.9375 1.765625 33.328125 2.640625 \nQ 34.71875 3.515625 35.25 5.28125 \nQ 35.5 6.109375 35.5 10.109375 \nL 35.5 29.34375 \nQ 35.5 34.8125 33.890625 37.203125 \nQ 31.734375 40.328125 27.875 40.328125 \nQ 25.25 40.328125 22.65625 38.921875 \nQ 18.609375 36.765625 16.40625 34.078125 \nL 16.40625 10.109375 \nQ 16.40625 5.71875 17.015625 4.390625 \nQ 17.625 3.078125 18.8125 2.421875 \nQ 20.015625 1.765625 23.6875 1.765625 \nL 23.6875 0 \nL 1.5625 0 \nL 1.5625 1.765625 \nQ 4.640625 1.765625 5.859375 2.421875 \nQ 7.078125 3.078125 7.703125 4.515625 \nQ 8.34375 5.953125 8.34375 10.109375 \nL 8.34375 27.203125 \nQ 8.34375 34.578125 7.90625 36.71875 \nQ 7.5625 38.328125 6.828125 38.9375 \nQ 6.109375 39.546875 4.828125 39.546875 \nQ 3.46875 39.546875 1.5625 38.8125 \nL 0.828125 40.578125 \nL 14.3125 46.046875 \nL 16.40625 46.046875 \nz\n\" id=\"TimesNewRomanPSMT-6d\"/>\n      <path d=\"M 1.3125 44.734375 \nL 22.359375 44.734375 \nL 22.359375 42.921875 \nQ 20.359375 42.921875 19.546875 42.234375 \nQ 18.75 41.546875 18.75 40.4375 \nQ 18.75 39.265625 20.453125 36.8125 \nQ 21 36.03125 22.078125 34.375 \nL 25.25 29.296875 \nL 28.90625 34.375 \nQ 32.421875 39.203125 32.421875 40.484375 \nQ 32.421875 41.5 31.59375 42.203125 \nQ 30.765625 42.921875 28.90625 42.921875 \nL 28.90625 44.734375 \nL 44.046875 44.734375 \nL 44.046875 42.921875 \nQ 41.65625 42.78125 39.890625 41.609375 \nQ 37.5 39.9375 33.34375 34.375 \nL 27.25 26.21875 \nL 38.375 10.203125 \nQ 42.484375 4.296875 44.234375 3.09375 \nQ 46 1.90625 48.78125 1.765625 \nL 48.78125 0 \nL 27.6875 0 \nL 27.6875 1.765625 \nQ 29.890625 1.765625 31.109375 2.734375 \nQ 32.03125 3.421875 32.03125 4.546875 \nQ 32.03125 5.671875 28.90625 10.203125 \nL 22.359375 19.78125 \nL 15.1875 10.203125 \nQ 11.859375 5.765625 11.859375 4.9375 \nQ 11.859375 3.765625 12.953125 2.8125 \nQ 14.0625 1.859375 16.265625 1.765625 \nL 16.265625 0 \nL 1.65625 0 \nL 1.65625 1.765625 \nQ 3.421875 2 4.734375 2.984375 \nQ 6.59375 4.390625 10.984375 10.203125 \nL 20.359375 22.65625 \nL 11.859375 34.96875 \nQ 8.25 40.234375 6.265625 41.578125 \nQ 4.296875 42.921875 1.3125 42.921875 \nz\n\" id=\"TimesNewRomanPSMT-78\"/>\n     </defs>\n     <g transform=\"translate(299.97 32.666)scale(0.08 -0.08)\">\n      <use xlink:href=\"#TimesNewRomanPSMT-45\"/>\n      <use x=\"61.083984\" xlink:href=\"#TimesNewRomanPSMT-72\"/>\n      <use x=\"94.384766\" xlink:href=\"#TimesNewRomanPSMT-72\"/>\n      <use x=\"127.685547\" xlink:href=\"#TimesNewRomanPSMT-65\"/>\n      <use x=\"172.070312\" xlink:href=\"#TimesNewRomanPSMT-75\"/>\n      <use x=\"222.070312\" xlink:href=\"#TimesNewRomanPSMT-72\"/>\n      <use x=\"255.371094\" xlink:href=\"#TimesNewRomanPSMT-20\"/>\n      <use x=\"280.371094\" xlink:href=\"#TimesNewRomanPSMT-6d\"/>\n      <use x=\"358.154297\" xlink:href=\"#TimesNewRomanPSMT-61\"/>\n      <use x=\"402.539062\" xlink:href=\"#TimesNewRomanPSMT-78\"/>\n      <use x=\"452.539062\" xlink:href=\"#TimesNewRomanPSMT-69\"/>\n      <use x=\"480.322266\" xlink:href=\"#TimesNewRomanPSMT-6d\"/>\n      <use x=\"558.105469\" xlink:href=\"#TimesNewRomanPSMT-61\"/>\n      <use x=\"602.490234\" xlink:href=\"#TimesNewRomanPSMT-6c\"/>\n      <use x=\"630.273438\" xlink:href=\"#TimesNewRomanPSMT-65\"/>\n     </g>\n    </g>\n    <g id=\"line2d_31\">\n     <path d=\"M 277.57 41.17725 \nL 293.57 41.17725 \n\" style=\"fill:none;stroke:#5a788e;stroke-dasharray:5.6,2.4;stroke-dashoffset:0;stroke-width:1.5;\"/>\n    </g>\n    <g id=\"line2d_32\"/>\n    <g id=\"text_28\">\n     <!-- 75e percentile d'erreur -->\n     <defs>\n      <path d=\"M -0.09375 40.28125 \nL 13.671875 45.84375 \nL 15.53125 45.84375 \nL 15.53125 35.40625 \nQ 19 41.3125 22.484375 43.671875 \nQ 25.984375 46.046875 29.828125 46.046875 \nQ 36.578125 46.046875 41.0625 40.765625 \nQ 46.578125 34.328125 46.578125 23.96875 \nQ 46.578125 12.40625 39.9375 4.828125 \nQ 34.46875 -1.375 26.171875 -1.375 \nQ 22.5625 -1.375 19.921875 -0.34375 \nQ 17.96875 0.390625 15.53125 2.59375 \nL 15.53125 -11.03125 \nQ 15.53125 -15.625 16.09375 -16.859375 \nQ 16.65625 -18.109375 18.046875 -18.84375 \nQ 19.4375 -19.578125 23.09375 -19.578125 \nL 23.09375 -21.390625 \nL -0.34375 -21.390625 \nL -0.34375 -19.578125 \nL 0.875 -19.578125 \nQ 3.5625 -19.625 5.46875 -18.5625 \nQ 6.390625 -18.015625 6.90625 -16.8125 \nQ 7.421875 -15.625 7.421875 -10.75 \nL 7.421875 31.546875 \nQ 7.421875 35.890625 7.03125 37.0625 \nQ 6.640625 38.234375 5.78125 38.8125 \nQ 4.9375 39.40625 3.46875 39.40625 \nQ 2.296875 39.40625 0.484375 38.71875 \nz\nM 15.53125 32.515625 \nL 15.53125 15.828125 \nQ 15.53125 10.40625 15.96875 8.6875 \nQ 16.65625 5.859375 19.3125 3.703125 \nQ 21.96875 1.5625 26.03125 1.5625 \nQ 30.90625 1.5625 33.9375 5.375 \nQ 37.890625 10.359375 37.890625 19.390625 \nQ 37.890625 29.640625 33.40625 35.15625 \nQ 30.28125 38.96875 25.984375 38.96875 \nQ 23.640625 38.96875 21.34375 37.796875 \nQ 19.578125 36.921875 15.53125 32.515625 \n\" id=\"TimesNewRomanPSMT-70\"/>\n      <path d=\"M 41.109375 17 \nQ 39.3125 8.15625 34.03125 3.390625 \nQ 28.765625 -1.375 22.359375 -1.375 \nQ 14.75 -1.375 9.078125 5.015625 \nQ 3.421875 11.421875 3.421875 22.3125 \nQ 3.421875 32.859375 9.6875 39.453125 \nQ 15.96875 46.046875 24.75 46.046875 \nQ 31.34375 46.046875 35.59375 42.546875 \nQ 39.84375 39.0625 39.84375 35.296875 \nQ 39.84375 33.453125 38.640625 32.296875 \nQ 37.453125 31.15625 35.296875 31.15625 \nQ 32.421875 31.15625 30.953125 33.015625 \nQ 30.125 34.03125 29.859375 36.90625 \nQ 29.59375 39.796875 27.875 41.3125 \nQ 26.171875 42.78125 23.140625 42.78125 \nQ 18.265625 42.78125 15.28125 39.15625 \nQ 11.328125 34.375 11.328125 26.515625 \nQ 11.328125 18.5 15.25 12.375 \nQ 19.1875 6.25 25.875 6.25 \nQ 30.671875 6.25 34.46875 9.515625 \nQ 37.15625 11.765625 39.703125 17.671875 \nz\n\" id=\"TimesNewRomanPSMT-63\"/>\n      <path d=\"M 7.71875 39.203125 \nL 5.078125 53.65625 \nQ 3.953125 59.671875 3.953125 61.765625 \nQ 3.953125 64.890625 5.21875 66.296875 \nQ 6.5 67.71875 8.6875 67.71875 \nQ 10.890625 67.71875 12.328125 66.28125 \nQ 13.765625 64.84375 13.765625 62.5 \nQ 13.765625 60.6875 12.5 53.609375 \nL 9.859375 39.203125 \nz\n\" id=\"TimesNewRomanPSMT-27\"/>\n     </defs>\n     <g transform=\"translate(299.97 43.97725)scale(0.08 -0.08)\">\n      <use xlink:href=\"#TimesNewRomanPSMT-37\"/>\n      <use x=\"50\" xlink:href=\"#TimesNewRomanPSMT-35\"/>\n      <use x=\"100\" xlink:href=\"#TimesNewRomanPSMT-65\"/>\n      <use x=\"144.384766\" xlink:href=\"#TimesNewRomanPSMT-20\"/>\n      <use x=\"169.384766\" xlink:href=\"#TimesNewRomanPSMT-70\"/>\n      <use x=\"219.384766\" xlink:href=\"#TimesNewRomanPSMT-65\"/>\n      <use x=\"263.769531\" xlink:href=\"#TimesNewRomanPSMT-72\"/>\n      <use x=\"297.070312\" xlink:href=\"#TimesNewRomanPSMT-63\"/>\n      <use x=\"341.455078\" xlink:href=\"#TimesNewRomanPSMT-65\"/>\n      <use x=\"385.839844\" xlink:href=\"#TimesNewRomanPSMT-6e\"/>\n      <use x=\"435.839844\" xlink:href=\"#TimesNewRomanPSMT-74\"/>\n      <use x=\"463.623047\" xlink:href=\"#TimesNewRomanPSMT-69\"/>\n      <use x=\"491.40625\" xlink:href=\"#TimesNewRomanPSMT-6c\"/>\n      <use x=\"519.189453\" xlink:href=\"#TimesNewRomanPSMT-65\"/>\n      <use x=\"563.574219\" xlink:href=\"#TimesNewRomanPSMT-20\"/>\n      <use x=\"588.574219\" xlink:href=\"#TimesNewRomanPSMT-64\"/>\n      <use x=\"638.574219\" xlink:href=\"#TimesNewRomanPSMT-27\"/>\n      <use x=\"656.591797\" xlink:href=\"#TimesNewRomanPSMT-65\"/>\n      <use x=\"700.976562\" xlink:href=\"#TimesNewRomanPSMT-72\"/>\n      <use x=\"734.277344\" xlink:href=\"#TimesNewRomanPSMT-72\"/>\n      <use x=\"767.578125\" xlink:href=\"#TimesNewRomanPSMT-65\"/>\n      <use x=\"811.962891\" xlink:href=\"#TimesNewRomanPSMT-75\"/>\n      <use x=\"861.962891\" xlink:href=\"#TimesNewRomanPSMT-72\"/>\n     </g>\n    </g>\n    <g id=\"line2d_33\">\n     <path d=\"M 277.57 52.4885 \nL 293.57 52.4885 \n\" style=\"fill:none;stroke:#787878;stroke-linecap:square;stroke-width:1.5;\"/>\n    </g>\n    <g id=\"line2d_34\"/>\n    <g id=\"text_29\">\n     <!-- Erreur médiane -->\n     <g transform=\"translate(299.97 55.2885)scale(0.08 -0.08)\">\n      <use xlink:href=\"#TimesNewRomanPSMT-45\"/>\n      <use x=\"61.083984\" xlink:href=\"#TimesNewRomanPSMT-72\"/>\n      <use x=\"94.384766\" xlink:href=\"#TimesNewRomanPSMT-72\"/>\n      <use x=\"127.685547\" xlink:href=\"#TimesNewRomanPSMT-65\"/>\n      <use x=\"172.070312\" xlink:href=\"#TimesNewRomanPSMT-75\"/>\n      <use x=\"222.070312\" xlink:href=\"#TimesNewRomanPSMT-72\"/>\n      <use x=\"255.371094\" xlink:href=\"#TimesNewRomanPSMT-20\"/>\n      <use x=\"280.371094\" xlink:href=\"#TimesNewRomanPSMT-6d\"/>\n      <use x=\"358.154297\" xlink:href=\"#TimesNewRomanPSMT-e9\"/>\n      <use x=\"402.539062\" xlink:href=\"#TimesNewRomanPSMT-64\"/>\n      <use x=\"452.539062\" xlink:href=\"#TimesNewRomanPSMT-69\"/>\n      <use x=\"480.322266\" xlink:href=\"#TimesNewRomanPSMT-61\"/>\n      <use x=\"524.707031\" xlink:href=\"#TimesNewRomanPSMT-6e\"/>\n      <use x=\"574.707031\" xlink:href=\"#TimesNewRomanPSMT-65\"/>\n     </g>\n    </g>\n    <g id=\"line2d_35\">\n     <path d=\"M 277.57 63.79975 \nL 293.57 63.79975 \n\" style=\"fill:none;stroke:#5a5a5a;stroke-dasharray:5.6,2.4;stroke-dashoffset:0;stroke-width:1.5;\"/>\n    </g>\n    <g id=\"line2d_36\"/>\n    <g id=\"text_30\">\n     <!-- 25e percentile d'erreur -->\n     <g transform=\"translate(299.97 66.59975)scale(0.08 -0.08)\">\n      <use xlink:href=\"#TimesNewRomanPSMT-32\"/>\n      <use x=\"50\" xlink:href=\"#TimesNewRomanPSMT-35\"/>\n      <use x=\"100\" xlink:href=\"#TimesNewRomanPSMT-65\"/>\n      <use x=\"144.384766\" xlink:href=\"#TimesNewRomanPSMT-20\"/>\n      <use x=\"169.384766\" xlink:href=\"#TimesNewRomanPSMT-70\"/>\n      <use x=\"219.384766\" xlink:href=\"#TimesNewRomanPSMT-65\"/>\n      <use x=\"263.769531\" xlink:href=\"#TimesNewRomanPSMT-72\"/>\n      <use x=\"297.070312\" xlink:href=\"#TimesNewRomanPSMT-63\"/>\n      <use x=\"341.455078\" xlink:href=\"#TimesNewRomanPSMT-65\"/>\n      <use x=\"385.839844\" xlink:href=\"#TimesNewRomanPSMT-6e\"/>\n      <use x=\"435.839844\" xlink:href=\"#TimesNewRomanPSMT-74\"/>\n      <use x=\"463.623047\" xlink:href=\"#TimesNewRomanPSMT-69\"/>\n      <use x=\"491.40625\" xlink:href=\"#TimesNewRomanPSMT-6c\"/>\n      <use x=\"519.189453\" xlink:href=\"#TimesNewRomanPSMT-65\"/>\n      <use x=\"563.574219\" xlink:href=\"#TimesNewRomanPSMT-20\"/>\n      <use x=\"588.574219\" xlink:href=\"#TimesNewRomanPSMT-64\"/>\n      <use x=\"638.574219\" xlink:href=\"#TimesNewRomanPSMT-27\"/>\n      <use x=\"656.591797\" xlink:href=\"#TimesNewRomanPSMT-65\"/>\n      <use x=\"700.976562\" xlink:href=\"#TimesNewRomanPSMT-72\"/>\n      <use x=\"734.277344\" xlink:href=\"#TimesNewRomanPSMT-72\"/>\n      <use x=\"767.578125\" xlink:href=\"#TimesNewRomanPSMT-65\"/>\n      <use x=\"811.962891\" xlink:href=\"#TimesNewRomanPSMT-75\"/>\n      <use x=\"861.962891\" xlink:href=\"#TimesNewRomanPSMT-72\"/>\n     </g>\n    </g>\n    <g id=\"line2d_37\">\n     <path d=\"M 277.57 75.111 \nL 293.57 75.111 \n\" style=\"fill:none;stroke:#000000;stroke-dasharray:2.2,2.2;stroke-dashoffset:0;stroke-width:1.5;\"/>\n    </g>\n    <g id=\"line2d_38\"/>\n    <g id=\"text_31\">\n     <!-- Erreur minimale -->\n     <g transform=\"translate(299.97 77.911)scale(0.08 -0.08)\">\n      <use xlink:href=\"#TimesNewRomanPSMT-45\"/>\n      <use x=\"61.083984\" xlink:href=\"#TimesNewRomanPSMT-72\"/>\n      <use x=\"94.384766\" xlink:href=\"#TimesNewRomanPSMT-72\"/>\n      <use x=\"127.685547\" xlink:href=\"#TimesNewRomanPSMT-65\"/>\n      <use x=\"172.070312\" xlink:href=\"#TimesNewRomanPSMT-75\"/>\n      <use x=\"222.070312\" xlink:href=\"#TimesNewRomanPSMT-72\"/>\n      <use x=\"255.371094\" xlink:href=\"#TimesNewRomanPSMT-20\"/>\n      <use x=\"280.371094\" xlink:href=\"#TimesNewRomanPSMT-6d\"/>\n      <use x=\"358.154297\" xlink:href=\"#TimesNewRomanPSMT-69\"/>\n      <use x=\"385.9375\" xlink:href=\"#TimesNewRomanPSMT-6e\"/>\n      <use x=\"435.9375\" xlink:href=\"#TimesNewRomanPSMT-69\"/>\n      <use x=\"463.720703\" xlink:href=\"#TimesNewRomanPSMT-6d\"/>\n      <use x=\"541.503906\" xlink:href=\"#TimesNewRomanPSMT-61\"/>\n      <use x=\"585.888672\" xlink:href=\"#TimesNewRomanPSMT-6c\"/>\n      <use x=\"613.671875\" xlink:href=\"#TimesNewRomanPSMT-65\"/>\n     </g>\n    </g>\n   </g>\n  </g>\n  <g id=\"axes_2\">\n   <g id=\"patch_8\">\n    <path d=\"M 43.9925 454.746 \nL 378.7925 454.746 \nL 378.7925 265.667739 \nL 43.9925 265.667739 \nz\n\" style=\"fill:#ffffff;\"/>\n   </g>\n   <g id=\"matplotlib.axis_3\">\n    <g id=\"xtick_16\">\n     <g id=\"line2d_39\">\n      <g>\n       <use style=\"stroke:#000000;stroke-width:0.8;\" x=\"59.210682\" xlink:href=\"#m44429059e7\" y=\"454.746\"/>\n      </g>\n     </g>\n     <g id=\"text_32\">\n      <!-- 10 -->\n      <g transform=\"translate(55.210682 467.301)scale(0.08 -0.08)\">\n       <use xlink:href=\"#TimesNewRomanPSMT-31\"/>\n       <use x=\"50\" xlink:href=\"#TimesNewRomanPSMT-30\"/>\n      </g>\n     </g>\n    </g>\n    <g id=\"xtick_17\">\n     <g id=\"line2d_40\">\n      <g>\n       <use style=\"stroke:#000000;stroke-width:0.8;\" x=\"80.950942\" xlink:href=\"#m44429059e7\" y=\"454.746\"/>\n      </g>\n     </g>\n     <g id=\"text_33\">\n      <!-- 20 -->\n      <g transform=\"translate(76.950942 467.301)scale(0.08 -0.08)\">\n       <use xlink:href=\"#TimesNewRomanPSMT-32\"/>\n       <use x=\"50\" xlink:href=\"#TimesNewRomanPSMT-30\"/>\n      </g>\n     </g>\n    </g>\n    <g id=\"xtick_18\">\n     <g id=\"line2d_41\">\n      <g>\n       <use style=\"stroke:#000000;stroke-width:0.8;\" x=\"102.691201\" xlink:href=\"#m44429059e7\" y=\"454.746\"/>\n      </g>\n     </g>\n     <g id=\"text_34\">\n      <!-- 30 -->\n      <g transform=\"translate(98.691201 467.301)scale(0.08 -0.08)\">\n       <use xlink:href=\"#TimesNewRomanPSMT-33\"/>\n       <use x=\"50\" xlink:href=\"#TimesNewRomanPSMT-30\"/>\n      </g>\n     </g>\n    </g>\n    <g id=\"xtick_19\">\n     <g id=\"line2d_42\">\n      <g>\n       <use style=\"stroke:#000000;stroke-width:0.8;\" x=\"124.431461\" xlink:href=\"#m44429059e7\" y=\"454.746\"/>\n      </g>\n     </g>\n     <g id=\"text_35\">\n      <!-- 40 -->\n      <g transform=\"translate(120.431461 467.301)scale(0.08 -0.08)\">\n       <use xlink:href=\"#TimesNewRomanPSMT-34\"/>\n       <use x=\"50\" xlink:href=\"#TimesNewRomanPSMT-30\"/>\n      </g>\n     </g>\n    </g>\n    <g id=\"xtick_20\">\n     <g id=\"line2d_43\">\n      <g>\n       <use style=\"stroke:#000000;stroke-width:0.8;\" x=\"146.171721\" xlink:href=\"#m44429059e7\" y=\"454.746\"/>\n      </g>\n     </g>\n     <g id=\"text_36\">\n      <!-- 50 -->\n      <g transform=\"translate(142.171721 467.301)scale(0.08 -0.08)\">\n       <use xlink:href=\"#TimesNewRomanPSMT-35\"/>\n       <use x=\"50\" xlink:href=\"#TimesNewRomanPSMT-30\"/>\n      </g>\n     </g>\n    </g>\n    <g id=\"xtick_21\">\n     <g id=\"line2d_44\">\n      <g>\n       <use style=\"stroke:#000000;stroke-width:0.8;\" x=\"167.911981\" xlink:href=\"#m44429059e7\" y=\"454.746\"/>\n      </g>\n     </g>\n     <g id=\"text_37\">\n      <!-- 60 -->\n      <g transform=\"translate(163.911981 467.301)scale(0.08 -0.08)\">\n       <use xlink:href=\"#TimesNewRomanPSMT-36\"/>\n       <use x=\"50\" xlink:href=\"#TimesNewRomanPSMT-30\"/>\n      </g>\n     </g>\n    </g>\n    <g id=\"xtick_22\">\n     <g id=\"line2d_45\">\n      <g>\n       <use style=\"stroke:#000000;stroke-width:0.8;\" x=\"189.65224\" xlink:href=\"#m44429059e7\" y=\"454.746\"/>\n      </g>\n     </g>\n     <g id=\"text_38\">\n      <!-- 70 -->\n      <g transform=\"translate(185.65224 467.301)scale(0.08 -0.08)\">\n       <use xlink:href=\"#TimesNewRomanPSMT-37\"/>\n       <use x=\"50\" xlink:href=\"#TimesNewRomanPSMT-30\"/>\n      </g>\n     </g>\n    </g>\n    <g id=\"xtick_23\">\n     <g id=\"line2d_46\">\n      <g>\n       <use style=\"stroke:#000000;stroke-width:0.8;\" x=\"211.3925\" xlink:href=\"#m44429059e7\" y=\"454.746\"/>\n      </g>\n     </g>\n     <g id=\"text_39\">\n      <!-- 80 -->\n      <g transform=\"translate(207.3925 467.301)scale(0.08 -0.08)\">\n       <use xlink:href=\"#TimesNewRomanPSMT-38\"/>\n       <use x=\"50\" xlink:href=\"#TimesNewRomanPSMT-30\"/>\n      </g>\n     </g>\n    </g>\n    <g id=\"xtick_24\">\n     <g id=\"line2d_47\">\n      <g>\n       <use style=\"stroke:#000000;stroke-width:0.8;\" x=\"233.13276\" xlink:href=\"#m44429059e7\" y=\"454.746\"/>\n      </g>\n     </g>\n     <g id=\"text_40\">\n      <!-- 90 -->\n      <g transform=\"translate(229.13276 467.301)scale(0.08 -0.08)\">\n       <use xlink:href=\"#TimesNewRomanPSMT-39\"/>\n       <use x=\"50\" xlink:href=\"#TimesNewRomanPSMT-30\"/>\n      </g>\n     </g>\n    </g>\n    <g id=\"xtick_25\">\n     <g id=\"line2d_48\">\n      <g>\n       <use style=\"stroke:#000000;stroke-width:0.8;\" x=\"254.873019\" xlink:href=\"#m44429059e7\" y=\"454.746\"/>\n      </g>\n     </g>\n     <g id=\"text_41\">\n      <!-- 100 -->\n      <g transform=\"translate(248.873019 467.301)scale(0.08 -0.08)\">\n       <use xlink:href=\"#TimesNewRomanPSMT-31\"/>\n       <use x=\"50\" xlink:href=\"#TimesNewRomanPSMT-30\"/>\n       <use x=\"100\" xlink:href=\"#TimesNewRomanPSMT-30\"/>\n      </g>\n     </g>\n    </g>\n    <g id=\"xtick_26\">\n     <g id=\"line2d_49\">\n      <g>\n       <use style=\"stroke:#000000;stroke-width:0.8;\" x=\"276.613279\" xlink:href=\"#m44429059e7\" y=\"454.746\"/>\n      </g>\n     </g>\n     <g id=\"text_42\">\n      <!-- 110 -->\n      <g transform=\"translate(270.615154 467.301)scale(0.08 -0.08)\">\n       <use xlink:href=\"#TimesNewRomanPSMT-31\"/>\n       <use x=\"49.953125\" xlink:href=\"#TimesNewRomanPSMT-31\"/>\n       <use x=\"99.953125\" xlink:href=\"#TimesNewRomanPSMT-30\"/>\n      </g>\n     </g>\n    </g>\n    <g id=\"xtick_27\">\n     <g id=\"line2d_50\">\n      <g>\n       <use style=\"stroke:#000000;stroke-width:0.8;\" x=\"298.353539\" xlink:href=\"#m44429059e7\" y=\"454.746\"/>\n      </g>\n     </g>\n     <g id=\"text_43\">\n      <!-- 120 -->\n      <g transform=\"translate(292.353539 467.301)scale(0.08 -0.08)\">\n       <use xlink:href=\"#TimesNewRomanPSMT-31\"/>\n       <use x=\"50\" xlink:href=\"#TimesNewRomanPSMT-32\"/>\n       <use x=\"100\" xlink:href=\"#TimesNewRomanPSMT-30\"/>\n      </g>\n     </g>\n    </g>\n    <g id=\"xtick_28\">\n     <g id=\"line2d_51\">\n      <g>\n       <use style=\"stroke:#000000;stroke-width:0.8;\" x=\"320.093799\" xlink:href=\"#m44429059e7\" y=\"454.746\"/>\n      </g>\n     </g>\n     <g id=\"text_44\">\n      <!-- 130 -->\n      <g transform=\"translate(314.093799 467.301)scale(0.08 -0.08)\">\n       <use xlink:href=\"#TimesNewRomanPSMT-31\"/>\n       <use x=\"50\" xlink:href=\"#TimesNewRomanPSMT-33\"/>\n       <use x=\"100\" xlink:href=\"#TimesNewRomanPSMT-30\"/>\n      </g>\n     </g>\n    </g>\n    <g id=\"xtick_29\">\n     <g id=\"line2d_52\">\n      <g>\n       <use style=\"stroke:#000000;stroke-width:0.8;\" x=\"341.834058\" xlink:href=\"#m44429059e7\" y=\"454.746\"/>\n      </g>\n     </g>\n     <g id=\"text_45\">\n      <!-- 140 -->\n      <g transform=\"translate(335.834058 467.301)scale(0.08 -0.08)\">\n       <use xlink:href=\"#TimesNewRomanPSMT-31\"/>\n       <use x=\"50\" xlink:href=\"#TimesNewRomanPSMT-34\"/>\n       <use x=\"100\" xlink:href=\"#TimesNewRomanPSMT-30\"/>\n      </g>\n     </g>\n    </g>\n    <g id=\"xtick_30\">\n     <g id=\"line2d_53\">\n      <g>\n       <use style=\"stroke:#000000;stroke-width:0.8;\" x=\"363.574318\" xlink:href=\"#m44429059e7\" y=\"454.746\"/>\n      </g>\n     </g>\n     <g id=\"text_46\">\n      <!-- 150 -->\n      <g transform=\"translate(357.574318 467.301)scale(0.08 -0.08)\">\n       <use xlink:href=\"#TimesNewRomanPSMT-31\"/>\n       <use x=\"50\" xlink:href=\"#TimesNewRomanPSMT-35\"/>\n       <use x=\"100\" xlink:href=\"#TimesNewRomanPSMT-30\"/>\n      </g>\n     </g>\n    </g>\n    <g id=\"text_47\">\n     <!-- $n$ -->\n     <g transform=\"translate(208.9525 478.56725)scale(0.08 -0.08)\">\n      <use transform=\"translate(0 0.8125)\" xlink:href=\"#Cmmi10-6e\"/>\n     </g>\n    </g>\n   </g>\n   <g id=\"matplotlib.axis_4\">\n    <g id=\"ytick_9\">\n     <g id=\"line2d_54\">\n      <g>\n       <use style=\"stroke:#000000;stroke-width:0.8;\" x=\"43.9925\" xlink:href=\"#m386ef5455c\" y=\"455.139043\"/>\n      </g>\n     </g>\n     <g id=\"text_48\">\n      <!-- −0.1 -->\n      <g transform=\"translate(22.48125 457.916543)scale(0.08 -0.08)\">\n       <use xlink:href=\"#TimesNewRomanPSMT-2212\"/>\n       <use x=\"56.396484\" xlink:href=\"#TimesNewRomanPSMT-30\"/>\n       <use x=\"106.396484\" xlink:href=\"#TimesNewRomanPSMT-2e\"/>\n       <use x=\"131.396484\" xlink:href=\"#TimesNewRomanPSMT-31\"/>\n      </g>\n     </g>\n    </g>\n    <g id=\"ytick_10\">\n     <g id=\"line2d_55\">\n      <g>\n       <use style=\"stroke:#000000;stroke-width:0.8;\" x=\"43.9925\" xlink:href=\"#m386ef5455c\" y=\"421.034425\"/>\n      </g>\n     </g>\n     <g id=\"text_49\">\n      <!-- 0.0 -->\n      <g transform=\"translate(26.9925 423.811925)scale(0.08 -0.08)\">\n       <use xlink:href=\"#TimesNewRomanPSMT-30\"/>\n       <use x=\"50\" xlink:href=\"#TimesNewRomanPSMT-2e\"/>\n       <use x=\"75\" xlink:href=\"#TimesNewRomanPSMT-30\"/>\n      </g>\n     </g>\n    </g>\n    <g id=\"ytick_11\">\n     <g id=\"line2d_56\">\n      <g>\n       <use style=\"stroke:#000000;stroke-width:0.8;\" x=\"43.9925\" xlink:href=\"#m386ef5455c\" y=\"386.929808\"/>\n      </g>\n     </g>\n     <g id=\"text_50\">\n      <!-- 0.1 -->\n      <g transform=\"translate(26.9925 389.707308)scale(0.08 -0.08)\">\n       <use xlink:href=\"#TimesNewRomanPSMT-30\"/>\n       <use x=\"50\" xlink:href=\"#TimesNewRomanPSMT-2e\"/>\n       <use x=\"75\" xlink:href=\"#TimesNewRomanPSMT-31\"/>\n      </g>\n     </g>\n    </g>\n    <g id=\"ytick_12\">\n     <g id=\"line2d_57\">\n      <g>\n       <use style=\"stroke:#000000;stroke-width:0.8;\" x=\"43.9925\" xlink:href=\"#m386ef5455c\" y=\"352.82519\"/>\n      </g>\n     </g>\n     <g id=\"text_51\">\n      <!-- 0.2 -->\n      <g transform=\"translate(26.9925 355.60269)scale(0.08 -0.08)\">\n       <use xlink:href=\"#TimesNewRomanPSMT-30\"/>\n       <use x=\"50\" xlink:href=\"#TimesNewRomanPSMT-2e\"/>\n       <use x=\"75\" xlink:href=\"#TimesNewRomanPSMT-32\"/>\n      </g>\n     </g>\n    </g>\n    <g id=\"ytick_13\">\n     <g id=\"line2d_58\">\n      <g>\n       <use style=\"stroke:#000000;stroke-width:0.8;\" x=\"43.9925\" xlink:href=\"#m386ef5455c\" y=\"318.720573\"/>\n      </g>\n     </g>\n     <g id=\"text_52\">\n      <!-- 0.3 -->\n      <g transform=\"translate(26.9925 321.498073)scale(0.08 -0.08)\">\n       <use xlink:href=\"#TimesNewRomanPSMT-30\"/>\n       <use x=\"50\" xlink:href=\"#TimesNewRomanPSMT-2e\"/>\n       <use x=\"75\" xlink:href=\"#TimesNewRomanPSMT-33\"/>\n      </g>\n     </g>\n    </g>\n    <g id=\"ytick_14\">\n     <g id=\"line2d_59\">\n      <g>\n       <use style=\"stroke:#000000;stroke-width:0.8;\" x=\"43.9925\" xlink:href=\"#m386ef5455c\" y=\"284.615955\"/>\n      </g>\n     </g>\n     <g id=\"text_53\">\n      <!-- 0.4 -->\n      <g transform=\"translate(26.9925 287.393455)scale(0.08 -0.08)\">\n       <use xlink:href=\"#TimesNewRomanPSMT-30\"/>\n       <use x=\"50\" xlink:href=\"#TimesNewRomanPSMT-2e\"/>\n       <use x=\"75\" xlink:href=\"#TimesNewRomanPSMT-34\"/>\n      </g>\n     </g>\n    </g>\n    <g id=\"text_54\">\n     <!-- Erreur de généralisation (rendement) -->\n     <g transform=\"translate(16.755 419.17812)rotate(-90)scale(0.08 -0.08)\">\n      <use xlink:href=\"#TimesNewRomanPSMT-45\"/>\n      <use x=\"61.083984\" xlink:href=\"#TimesNewRomanPSMT-72\"/>\n      <use x=\"94.384766\" xlink:href=\"#TimesNewRomanPSMT-72\"/>\n      <use x=\"127.685547\" xlink:href=\"#TimesNewRomanPSMT-65\"/>\n      <use x=\"172.070312\" xlink:href=\"#TimesNewRomanPSMT-75\"/>\n      <use x=\"222.070312\" xlink:href=\"#TimesNewRomanPSMT-72\"/>\n      <use x=\"255.371094\" xlink:href=\"#TimesNewRomanPSMT-20\"/>\n      <use x=\"280.371094\" xlink:href=\"#TimesNewRomanPSMT-64\"/>\n      <use x=\"330.371094\" xlink:href=\"#TimesNewRomanPSMT-65\"/>\n      <use x=\"374.755859\" xlink:href=\"#TimesNewRomanPSMT-20\"/>\n      <use x=\"399.755859\" xlink:href=\"#TimesNewRomanPSMT-67\"/>\n      <use x=\"449.755859\" xlink:href=\"#TimesNewRomanPSMT-e9\"/>\n      <use x=\"494.140625\" xlink:href=\"#TimesNewRomanPSMT-6e\"/>\n      <use x=\"544.140625\" xlink:href=\"#TimesNewRomanPSMT-e9\"/>\n      <use x=\"588.525391\" xlink:href=\"#TimesNewRomanPSMT-72\"/>\n      <use x=\"621.826172\" xlink:href=\"#TimesNewRomanPSMT-61\"/>\n      <use x=\"666.210938\" xlink:href=\"#TimesNewRomanPSMT-6c\"/>\n      <use x=\"693.994141\" xlink:href=\"#TimesNewRomanPSMT-69\"/>\n      <use x=\"721.777344\" xlink:href=\"#TimesNewRomanPSMT-73\"/>\n      <use x=\"760.693359\" xlink:href=\"#TimesNewRomanPSMT-61\"/>\n      <use x=\"805.078125\" xlink:href=\"#TimesNewRomanPSMT-74\"/>\n      <use x=\"832.861328\" xlink:href=\"#TimesNewRomanPSMT-69\"/>\n      <use x=\"860.644531\" xlink:href=\"#TimesNewRomanPSMT-6f\"/>\n      <use x=\"910.644531\" xlink:href=\"#TimesNewRomanPSMT-6e\"/>\n      <use x=\"960.644531\" xlink:href=\"#TimesNewRomanPSMT-20\"/>\n      <use x=\"985.644531\" xlink:href=\"#TimesNewRomanPSMT-28\"/>\n      <use x=\"1018.945312\" xlink:href=\"#TimesNewRomanPSMT-72\"/>\n      <use x=\"1052.246094\" xlink:href=\"#TimesNewRomanPSMT-65\"/>\n      <use x=\"1096.630859\" xlink:href=\"#TimesNewRomanPSMT-6e\"/>\n      <use x=\"1146.630859\" xlink:href=\"#TimesNewRomanPSMT-64\"/>\n      <use x=\"1196.630859\" xlink:href=\"#TimesNewRomanPSMT-65\"/>\n      <use x=\"1241.015625\" xlink:href=\"#TimesNewRomanPSMT-6d\"/>\n      <use x=\"1318.798828\" xlink:href=\"#TimesNewRomanPSMT-65\"/>\n      <use x=\"1363.183594\" xlink:href=\"#TimesNewRomanPSMT-6e\"/>\n      <use x=\"1413.183594\" xlink:href=\"#TimesNewRomanPSMT-74\"/>\n      <use x=\"1440.966797\" xlink:href=\"#TimesNewRomanPSMT-29\"/>\n     </g>\n    </g>\n   </g>\n   <g id=\"line2d_60\">\n    <path clip-path=\"url(#p18ab2d1ac7)\" d=\"M 59.210682 274.262206 \nL 61.384708 282.735271 \nL 63.558734 277.064537 \nL 65.73276 293.930842 \nL 67.906786 294.501141 \nL 70.080812 296.252017 \nL 72.254838 295.318588 \nL 74.428864 292.916972 \nL 78.776916 286.996313 \nL 83.124968 280.754864 \nL 85.298994 284.510521 \nL 87.473019 287.556088 \nL 89.647045 290.034315 \nL 91.821071 325.421127 \nL 93.995097 351.744322 \nL 96.169123 349.176244 \nL 98.343149 349.739633 \nL 100.517175 349.580977 \nL 102.691201 347.662942 \nL 107.039253 355.757036 \nL 109.213279 359.044702 \nL 111.387305 357.667279 \nL 115.735357 352.613204 \nL 117.909383 360.96381 \nL 120.083409 358.500611 \nL 122.257435 364.889275 \nL 124.431461 362.495544 \nL 126.605487 367.350601 \nL 128.779513 365.059668 \nL 130.953539 367.016289 \nL 133.127565 365.005665 \nL 135.301591 366.56022 \nL 137.475617 367.41188 \nL 139.649643 369.623877 \nL 141.823669 375.932262 \nL 143.997695 376.16689 \nL 146.171721 378.165653 \nL 148.345747 378.235684 \nL 150.519773 381.371121 \nL 154.867825 377.622429 \nL 157.041851 380.163589 \nL 159.215877 378.672884 \nL 161.389903 382.251373 \nL 163.563929 380.515294 \nL 165.737955 382.826761 \nL 167.911981 384.674067 \nL 170.086006 388.336391 \nL 172.260032 386.703653 \nL 174.434058 385.699089 \nL 176.608084 384.181423 \nL 178.78211 383.917207 \nL 185.304188 379.479262 \nL 187.478214 382.462598 \nL 191.826266 379.638967 \nL 194.000292 382.185114 \nL 196.174318 382.250231 \nL 202.696396 378.409438 \nL 204.870422 379.120635 \nL 211.3925 375.373722 \nL 213.566526 377.349988 \nL 217.914578 374.973126 \nL 220.088604 377.495766 \nL 222.26263 379.699012 \nL 224.436656 381.609113 \nL 226.610682 383.709165 \nL 228.784708 385.476394 \nL 235.306786 382.135794 \nL 237.480812 383.699287 \nL 239.654838 385.054605 \nL 241.828864 383.994766 \nL 244.00289 386.169063 \nL 248.350942 384.091921 \nL 250.524968 385.390295 \nL 252.698994 384.382345 \nL 254.873019 386.42046 \nL 261.395097 383.472154 \nL 263.569123 384.728659 \nL 265.743149 385.831935 \nL 267.917175 387.823155 \nL 274.439253 385.039928 \nL 276.613279 386.106458 \nL 278.787305 390.790032 \nL 280.961331 389.900675 \nL 283.135357 391.649779 \nL 285.309383 392.559529 \nL 287.483409 391.691243 \nL 289.657435 393.345489 \nL 291.831461 394.848931 \nL 294.005487 395.776943 \nL 298.353539 394.094298 \nL 300.527565 395.524977 \nL 302.701591 394.69813 \nL 307.049643 397.179402 \nL 309.223669 396.369917 \nL 315.745747 399.491046 \nL 317.919773 398.70717 \nL 320.093799 399.780691 \nL 322.267825 399.076019 \nL 324.441851 400.420191 \nL 326.615877 400.784537 \nL 335.311981 397.802684 \nL 337.486006 398.897903 \nL 339.660032 400.185026 \nL 344.008084 399.466887 \nL 346.18211 401.609831 \nL 348.356136 401.375146 \nL 350.530162 400.988533 \nL 352.704188 400.487964 \nL 354.878214 401.793023 \nL 357.05224 402.172765 \nL 363.574318 400.648222 \nL 363.574318 400.648222 \n\" style=\"fill:none;stroke:#1f77b4;stroke-dasharray:2.2,2.2;stroke-dashoffset:0;stroke-width:1.5;\"/>\n   </g>\n   <g id=\"line2d_61\">\n    <path clip-path=\"url(#p18ab2d1ac7)\" d=\"M 59.210682 354.969451 \nL 61.384708 359.887691 \nL 63.558734 359.077493 \nL 65.73276 382.6897 \nL 67.906786 383.480156 \nL 70.080812 383.357821 \nL 72.254838 381.25454 \nL 74.428864 379.423499 \nL 76.60289 385.95495 \nL 78.776916 389.342683 \nL 80.950942 390.695557 \nL 83.124968 389.170542 \nL 85.298994 386.607555 \nL 87.473019 387.371241 \nL 89.647045 390.71069 \nL 91.821071 390.761524 \nL 93.995097 391.021913 \nL 96.169123 391.837566 \nL 98.343149 390.923454 \nL 100.517175 393.566238 \nL 102.691201 397.866761 \nL 104.865227 395.83443 \nL 107.039253 396.285989 \nL 109.213279 400.84727 \nL 111.387305 399.858073 \nL 113.561331 399.673512 \nL 115.735357 399.750663 \nL 117.909383 398.948598 \nL 120.083409 398.695499 \nL 122.257435 399.500909 \nL 124.431461 401.381489 \nL 126.605487 400.786924 \nL 128.779513 400.468896 \nL 130.953539 400.451479 \nL 133.127565 399.115821 \nL 135.301591 401.836068 \nL 137.475617 402.068684 \nL 139.649643 401.697401 \nL 141.823669 400.815527 \nL 143.997695 405.885382 \nL 146.171721 405.101522 \nL 148.345747 403.998849 \nL 150.519773 406.315772 \nL 152.693799 405.573967 \nL 154.867825 406.667023 \nL 157.041851 406.386976 \nL 159.215877 405.509644 \nL 161.389903 404.218706 \nL 163.563929 405.123554 \nL 165.737955 405.668235 \nL 167.911981 405.90069 \nL 170.086006 407.263837 \nL 172.260032 406.59599 \nL 174.434058 406.371901 \nL 176.608084 404.826842 \nL 178.78211 406.609927 \nL 180.956136 407.053152 \nL 183.130162 407.829133 \nL 185.304188 406.903822 \nL 187.478214 407.436113 \nL 189.65224 408.711646 \nL 191.826266 409.135381 \nL 194.000292 410.173828 \nL 196.174318 409.751405 \nL 198.348344 409.147743 \nL 200.52237 409.645091 \nL 202.696396 409.921342 \nL 204.870422 409.892611 \nL 207.044448 410.553299 \nL 209.218474 409.662886 \nL 211.3925 410.540417 \nL 213.566526 410.473492 \nL 215.740552 409.985929 \nL 217.914578 410.135217 \nL 220.088604 409.862337 \nL 222.26263 410.613148 \nL 224.436656 411.521494 \nL 226.610682 410.406914 \nL 228.784708 410.755396 \nL 230.958734 410.99055 \nL 233.13276 412.082443 \nL 235.306786 411.755873 \nL 237.480812 411.932559 \nL 239.654838 411.079438 \nL 241.828864 412.373287 \nL 244.00289 411.487998 \nL 246.176916 411.8609 \nL 248.350942 412.001061 \nL 250.524968 411.975868 \nL 252.698994 411.12879 \nL 257.047045 411.605385 \nL 259.221071 410.97502 \nL 261.395097 411.955914 \nL 263.569123 411.022082 \nL 265.743149 411.810126 \nL 267.917175 412.355847 \nL 270.091201 411.918184 \nL 272.265227 412.407388 \nL 276.613279 412.432074 \nL 278.787305 412.706298 \nL 280.961331 412.516559 \nL 283.135357 412.088456 \nL 285.309383 412.852472 \nL 287.483409 412.535783 \nL 289.657435 413.112933 \nL 291.831461 412.820592 \nL 294.005487 413.130353 \nL 298.353539 412.355455 \nL 300.527565 412.523476 \nL 302.701591 413.297502 \nL 304.875617 413.336107 \nL 307.049643 412.760785 \nL 309.223669 412.968989 \nL 311.397695 412.88274 \nL 313.571721 413.250571 \nL 315.745747 413.441229 \nL 317.919773 413.162414 \nL 320.093799 412.551632 \nL 322.267825 412.173192 \nL 324.441851 412.541389 \nL 326.615877 411.961709 \nL 328.789903 412.54342 \nL 330.963929 412.557861 \nL 333.137955 412.76469 \nL 335.311981 412.787279 \nL 337.486006 413.049274 \nL 339.660032 413.475176 \nL 341.834058 412.907632 \nL 346.18211 413.657314 \nL 350.530162 412.582235 \nL 354.878214 412.933046 \nL 357.05224 412.473081 \nL 359.226266 413.024506 \nL 361.400292 412.781251 \nL 363.574318 413.171267 \nL 363.574318 413.171267 \n\" style=\"fill:none;stroke:#5a788e;stroke-dasharray:5.6,2.4;stroke-dashoffset:0;stroke-width:1.5;\"/>\n   </g>\n   <g id=\"line2d_62\">\n    <path clip-path=\"url(#p18ab2d1ac7)\" d=\"M 59.210682 390.833076 \nL 61.384708 399.220912 \nL 63.558734 396.042679 \nL 65.73276 395.113772 \nL 67.906786 394.896288 \nL 70.080812 403.785163 \nL 72.254838 404.854357 \nL 74.428864 403.228855 \nL 76.60289 400.475663 \nL 78.776916 406.309536 \nL 80.950942 407.834952 \nL 83.124968 408.337631 \nL 85.298994 406.30219 \nL 87.473019 407.814977 \nL 89.647045 410.521343 \nL 91.821071 411.987785 \nL 96.169123 410.134577 \nL 98.343149 410.498149 \nL 100.517175 410.688648 \nL 102.691201 412.749035 \nL 104.865227 410.890067 \nL 107.039253 410.347751 \nL 109.213279 412.230791 \nL 111.387305 413.04664 \nL 113.561331 412.063511 \nL 115.735357 411.87856 \nL 120.083409 413.736796 \nL 122.257435 412.276056 \nL 124.431461 412.33548 \nL 126.605487 413.129365 \nL 128.779513 413.0964 \nL 130.953539 412.488208 \nL 135.301591 412.901957 \nL 137.475617 414.625507 \nL 139.649643 415.586258 \nL 141.823669 414.844029 \nL 143.997695 413.671799 \nL 146.171721 413.854125 \nL 148.345747 414.388682 \nL 150.519773 415.541293 \nL 152.693799 415.141027 \nL 154.867825 415.437851 \nL 157.041851 414.479824 \nL 159.215877 414.607894 \nL 161.389903 415.648329 \nL 163.563929 414.704595 \nL 165.737955 414.538811 \nL 167.911981 416.357784 \nL 170.086006 416.005261 \nL 174.434058 416.005683 \nL 178.78211 416.607621 \nL 180.956136 416.051881 \nL 183.130162 415.997689 \nL 185.304188 416.187175 \nL 187.478214 415.84722 \nL 189.65224 415.75763 \nL 191.826266 415.208001 \nL 194.000292 415.690448 \nL 196.174318 415.933449 \nL 198.348344 415.831229 \nL 200.52237 416.309291 \nL 202.696396 416.417885 \nL 204.870422 416.934553 \nL 209.218474 415.888411 \nL 211.3925 415.951892 \nL 213.566526 416.816969 \nL 215.740552 416.526482 \nL 217.914578 416.861799 \nL 222.26263 416.025426 \nL 228.784708 416.968806 \nL 230.958734 416.929297 \nL 233.13276 416.631107 \nL 235.306786 416.739698 \nL 237.480812 416.606916 \nL 239.654838 417.535828 \nL 241.828864 417.534692 \nL 244.00289 417.398617 \nL 250.524968 417.43289 \nL 252.698994 417.797909 \nL 254.873019 417.687926 \nL 257.047045 418.248487 \nL 259.221071 418.193138 \nL 261.395097 417.828248 \nL 263.569123 418.079648 \nL 267.917175 417.877189 \nL 272.265227 418.484823 \nL 278.787305 417.593555 \nL 280.961331 417.984546 \nL 283.135357 417.70637 \nL 285.309383 417.559813 \nL 287.483409 417.827503 \nL 289.657435 417.80809 \nL 291.831461 418.043326 \nL 294.005487 417.705292 \nL 298.353539 419.145996 \nL 302.701591 418.425214 \nL 307.049643 418.406127 \nL 309.223669 418.605558 \nL 311.397695 418.194935 \nL 313.571721 418.634706 \nL 317.919773 418.849554 \nL 320.093799 418.457285 \nL 322.267825 418.585219 \nL 328.789903 418.678574 \nL 330.963929 419.059682 \nL 333.137955 418.8449 \nL 335.311981 419.245594 \nL 337.486006 418.834712 \nL 339.660032 418.173455 \nL 341.834058 418.321936 \nL 344.008084 419.140619 \nL 348.356136 418.534092 \nL 350.530162 418.272037 \nL 352.704188 418.375219 \nL 354.878214 418.915846 \nL 357.05224 418.50965 \nL 359.226266 418.8612 \nL 361.400292 418.959769 \nL 363.574318 418.631454 \nL 363.574318 418.631454 \n\" style=\"fill:none;stroke:#787878;stroke-linecap:square;stroke-width:1.5;\"/>\n   </g>\n   <g id=\"line2d_63\">\n    <path clip-path=\"url(#p18ab2d1ac7)\" d=\"M 59.210682 412.943205 \nL 61.384708 411.174464 \nL 63.558734 422.279819 \nL 65.73276 420.314226 \nL 67.906786 416.89386 \nL 70.080812 413.264457 \nL 72.254838 415.038434 \nL 74.428864 419.918479 \nL 76.60289 420.182704 \nL 78.776916 418.508547 \nL 80.950942 421.377699 \nL 83.124968 419.179628 \nL 87.473019 424.210521 \nL 89.647045 422.373619 \nL 91.821071 422.4451 \nL 93.995097 421.678373 \nL 96.169123 422.91463 \nL 98.343149 423.67739 \nL 100.517175 422.381463 \nL 102.691201 422.003655 \nL 104.865227 421.970665 \nL 107.039253 423.356759 \nL 109.213279 423.201448 \nL 111.387305 423.361508 \nL 113.561331 422.097837 \nL 115.735357 419.89016 \nL 117.909383 421.914697 \nL 120.083409 422.541547 \nL 122.257435 422.998809 \nL 124.431461 422.669515 \nL 126.605487 424.20344 \nL 128.779513 423.634058 \nL 130.953539 422.473461 \nL 133.127565 421.549559 \nL 135.301591 421.673119 \nL 137.475617 422.367698 \nL 139.649643 421.634289 \nL 141.823669 422.198998 \nL 143.997695 421.037803 \nL 146.171721 422.779027 \nL 148.345747 423.558775 \nL 150.519773 422.616403 \nL 152.693799 423.019648 \nL 154.867825 422.316997 \nL 157.041851 423.755886 \nL 159.215877 422.818325 \nL 161.389903 421.576355 \nL 163.563929 421.824586 \nL 165.737955 423.040408 \nL 167.911981 422.435164 \nL 170.086006 422.007981 \nL 172.260032 421.180572 \nL 176.608084 422.257088 \nL 178.78211 422.390399 \nL 180.956136 422.160847 \nL 183.130162 422.868398 \nL 185.304188 423.011559 \nL 187.478214 422.778525 \nL 189.65224 423.175981 \nL 191.826266 422.554085 \nL 194.000292 423.27122 \nL 196.174318 423.094293 \nL 198.348344 424.297779 \nL 200.52237 423.826176 \nL 202.696396 423.561115 \nL 204.870422 422.975484 \nL 207.044448 423.51171 \nL 209.218474 424.18654 \nL 211.3925 423.509009 \nL 213.566526 423.651077 \nL 215.740552 423.049774 \nL 217.914578 423.073393 \nL 220.088604 423.321654 \nL 222.26263 422.681442 \nL 224.436656 423.022735 \nL 226.610682 422.605867 \nL 228.784708 423.243262 \nL 230.958734 423.191262 \nL 233.13276 423.295166 \nL 237.480812 423.057398 \nL 239.654838 422.91195 \nL 241.828864 422.276609 \nL 244.00289 423.271129 \nL 246.176916 423.638636 \nL 248.350942 423.163368 \nL 250.524968 423.404075 \nL 257.047045 423.36722 \nL 259.221071 424.111453 \nL 261.395097 424.287619 \nL 263.569123 423.882619 \nL 265.743149 424.285399 \nL 267.917175 423.886956 \nL 270.091201 424.611074 \nL 272.265227 424.651361 \nL 274.439253 424.334899 \nL 278.787305 424.481963 \nL 280.961331 424.956074 \nL 283.135357 424.365092 \nL 285.309383 424.449122 \nL 287.483409 423.924827 \nL 291.831461 423.34831 \nL 294.005487 423.830967 \nL 298.353539 423.435024 \nL 300.527565 423.434775 \nL 304.875617 423.968803 \nL 307.049643 424.11492 \nL 309.223669 423.429701 \nL 311.397695 423.08941 \nL 313.571721 422.446475 \nL 315.745747 422.965067 \nL 317.919773 423.359619 \nL 322.267825 423.477855 \nL 324.441851 423.217865 \nL 326.615877 423.564608 \nL 330.963929 423.617035 \nL 333.137955 423.276766 \nL 335.311981 423.330865 \nL 339.660032 423.752072 \nL 341.834058 424.064737 \nL 344.008084 423.675578 \nL 346.18211 424.265443 \nL 350.530162 424.465062 \nL 352.704188 424.038456 \nL 354.878214 424.116356 \nL 357.05224 424.410321 \nL 363.574318 424.036141 \nL 363.574318 424.036141 \n\" style=\"fill:none;stroke:#5a5a5a;stroke-dasharray:5.6,2.4;stroke-dashoffset:0;stroke-width:1.5;\"/>\n   </g>\n   <g id=\"line2d_64\">\n    <path clip-path=\"url(#p18ab2d1ac7)\" d=\"M 59.210682 446.151534 \nL 61.384708 443.750854 \nL 63.558734 442.474389 \nL 65.73276 445.659138 \nL 67.906786 444.293783 \nL 70.080812 442.49894 \nL 72.254838 444.952773 \nL 74.428864 444.325154 \nL 76.60289 444.547562 \nL 78.776916 441.52305 \nL 80.950942 441.929569 \nL 83.124968 441.887269 \nL 85.298994 443.750854 \nL 87.473019 443.766916 \nL 91.821071 439.888276 \nL 93.995097 442.699194 \nL 98.343149 444.74194 \nL 100.517175 445.15233 \nL 102.691201 444.531892 \nL 104.865227 443.320454 \nL 109.213279 445.057587 \nL 111.387305 443.993535 \nL 113.561331 444.343551 \nL 115.735357 445.31917 \nL 117.909383 445.279121 \nL 120.083409 445.6791 \nL 122.257435 445.366636 \nL 124.431461 445.302533 \nL 126.605487 445.604785 \nL 128.779513 445.187505 \nL 130.953539 444.535029 \nL 133.127565 444.529173 \nL 135.301591 444.994261 \nL 137.475617 445.029707 \nL 139.649643 444.427137 \nL 141.823669 444.796545 \nL 143.997695 444.099713 \nL 148.345747 442.324665 \nL 150.519773 442.524139 \nL 152.693799 441.552823 \nL 154.867825 441.5095 \nL 157.041851 442.373039 \nL 161.389903 440.428508 \nL 163.563929 439.362407 \nL 165.737955 438.449438 \nL 167.911981 439.152634 \nL 170.086006 439.493092 \nL 172.260032 438.472112 \nL 174.434058 438.448445 \nL 176.608084 438.116419 \nL 178.78211 438.556805 \nL 183.130162 436.500146 \nL 185.304188 436.792985 \nL 191.826266 433.64407 \nL 194.000292 435.791751 \nL 196.174318 436.639346 \nL 198.348344 436.871768 \nL 200.52237 436.936696 \nL 204.870422 435.10041 \nL 209.218474 435.128977 \nL 211.3925 434.188912 \nL 213.566526 434.359916 \nL 215.740552 435.278957 \nL 217.914578 436.018524 \nL 220.088604 435.136285 \nL 222.26263 435.730688 \nL 224.436656 434.857317 \nL 226.610682 435.319599 \nL 228.784708 435.641521 \nL 230.958734 436.262074 \nL 233.13276 436.553796 \nL 235.306786 436.726154 \nL 237.480812 435.952375 \nL 239.654838 436.04048 \nL 241.828864 436.80802 \nL 244.00289 436.059377 \nL 246.176916 436.708865 \nL 248.350942 436.883776 \nL 252.698994 435.421923 \nL 254.873019 435.542071 \nL 259.221071 436.843749 \nL 261.395097 436.14364 \nL 263.569123 436.640576 \nL 272.265227 433.804818 \nL 274.439253 434.133139 \nL 276.613279 433.420954 \nL 280.961331 433.85553 \nL 283.135357 433.16836 \nL 285.309383 433.831887 \nL 287.483409 435.451396 \nL 291.831461 435.653937 \nL 294.005487 436.284118 \nL 296.179513 435.683329 \nL 300.527565 435.766997 \nL 304.875617 434.599205 \nL 307.049643 435.901331 \nL 311.397695 436.543237 \nL 317.919773 434.811311 \nL 320.093799 435.046855 \nL 324.441851 433.88572 \nL 326.615877 434.414467 \nL 328.789903 434.402849 \nL 330.963929 435.003814 \nL 335.311981 433.953764 \nL 337.486006 435.217817 \nL 341.834058 434.206322 \nL 344.008084 434.254492 \nL 346.18211 435.440481 \nL 350.530162 436.437842 \nL 352.704188 436.496598 \nL 354.878214 436.041798 \nL 357.05224 436.493891 \nL 359.226266 436.039234 \nL 361.400292 436.109543 \nL 363.574318 436.54732 \nL 363.574318 436.54732 \n\" style=\"fill:none;stroke:#000000;stroke-dasharray:2.2,2.2;stroke-dashoffset:0;stroke-width:1.5;\"/>\n   </g>\n   <g id=\"patch_9\">\n    <path d=\"M 43.9925 454.746 \nL 43.9925 265.667739 \n\" style=\"fill:none;stroke:#000000;stroke-linecap:square;stroke-linejoin:miter;stroke-width:0.8;\"/>\n   </g>\n   <g id=\"patch_10\">\n    <path d=\"M 378.7925 454.746 \nL 378.7925 265.667739 \n\" style=\"fill:none;stroke:#000000;stroke-linecap:square;stroke-linejoin:miter;stroke-width:0.8;\"/>\n   </g>\n   <g id=\"patch_11\">\n    <path d=\"M 43.9925 454.746 \nL 378.7925 454.746 \n\" style=\"fill:none;stroke:#000000;stroke-linecap:square;stroke-linejoin:miter;stroke-width:0.8;\"/>\n   </g>\n   <g id=\"patch_12\">\n    <path d=\"M 43.9925 265.667739 \nL 378.7925 265.667739 \n\" style=\"fill:none;stroke:#000000;stroke-linecap:square;stroke-linejoin:miter;stroke-width:0.8;\"/>\n   </g>\n   <g id=\"text_55\">\n    <!-- b) Équivalent certain -->\n    <defs>\n     <path d=\"M 15.375 37.015625 \nQ 21.875 46.046875 29.390625 46.046875 \nQ 36.28125 46.046875 41.40625 40.15625 \nQ 46.53125 34.28125 46.53125 24.078125 \nQ 46.53125 12.15625 38.625 4.890625 \nQ 31.84375 -1.375 23.484375 -1.375 \nQ 19.578125 -1.375 15.546875 0.046875 \nQ 11.53125 1.46875 7.328125 4.296875 \nL 7.328125 50.640625 \nQ 7.328125 58.25 6.953125 60 \nQ 6.59375 61.765625 5.8125 62.390625 \nQ 5.03125 63.03125 3.859375 63.03125 \nQ 2.484375 63.03125 0.4375 62.25 \nL -0.25 63.96875 \nL 13.1875 69.4375 \nL 15.375 69.4375 \nz\nM 15.375 33.890625 \nL 15.375 7.125 \nQ 17.875 4.6875 20.53125 3.4375 \nQ 23.1875 2.203125 25.984375 2.203125 \nQ 30.421875 2.203125 34.25 7.078125 \nQ 38.09375 11.96875 38.09375 21.296875 \nQ 38.09375 29.890625 34.25 34.5 \nQ 30.421875 39.109375 25.53125 39.109375 \nQ 22.953125 39.109375 20.359375 37.796875 \nQ 18.40625 36.8125 15.375 33.890625 \n\" id=\"TimesNewRomanPSMT-62\"/>\n     <path d=\"M 20.90625 62.59375 \nL 20.90625 36.421875 \nL 35.453125 36.421875 \nQ 41.109375 36.421875 43.015625 38.140625 \nQ 45.5625 40.375 45.84375 46.046875 \nL 47.65625 46.046875 \nL 47.65625 23 \nL 45.84375 23 \nQ 45.171875 27.828125 44.484375 29.203125 \nQ 43.609375 30.90625 41.59375 31.875 \nQ 39.59375 32.859375 35.453125 32.859375 \nL 20.90625 32.859375 \nL 20.90625 11.03125 \nQ 20.90625 6.640625 21.296875 5.6875 \nQ 21.6875 4.734375 22.65625 4.171875 \nQ 23.640625 3.609375 26.375 3.609375 \nL 37.59375 3.609375 \nQ 43.21875 3.609375 45.75 4.390625 \nQ 48.296875 5.171875 50.640625 7.46875 \nQ 53.65625 10.5 56.84375 16.609375 \nL 58.796875 16.609375 \nL 53.078125 0 \nL 2.046875 0 \nL 2.046875 1.8125 \nL 4.390625 1.8125 \nQ 6.734375 1.8125 8.84375 2.9375 \nQ 10.40625 3.71875 10.96875 5.28125 \nQ 11.53125 6.84375 11.53125 11.671875 \nL 11.53125 54.6875 \nQ 11.53125 60.984375 10.25 62.453125 \nQ 8.5 64.40625 4.390625 64.40625 \nL 2.046875 64.40625 \nL 2.046875 66.21875 \nL 53.078125 66.21875 \nL 53.8125 51.703125 \nL 51.90625 51.703125 \nQ 50.875 56.9375 49.625 58.890625 \nQ 48.390625 60.84375 45.953125 61.859375 \nQ 44 62.59375 39.0625 62.59375 \nz\nM 41.71875 87.875 \nL 27.3125 71.03125 \nL 25.65625 71.03125 \nL 30.78125 87.875 \nz\n\" id=\"TimesNewRomanPSMT-c9\"/>\n     <path d=\"M 42.71875 46.046875 \nL 42.71875 -11.46875 \nQ 42.71875 -15.765625 43.296875 -16.984375 \nQ 43.890625 -18.21875 45.140625 -18.890625 \nQ 46.390625 -19.578125 50 -19.578125 \nL 50 -21.390625 \nL 27.4375 -21.390625 \nL 27.4375 -19.578125 \nL 28.375 -19.578125 \nQ 31.109375 -19.578125 32.515625 -18.796875 \nQ 33.5 -18.265625 34.078125 -16.875 \nQ 34.671875 -15.484375 34.671875 -11.46875 \nL 34.671875 7.765625 \nQ 30.21875 2.484375 26.890625 0.546875 \nQ 23.578125 -1.375 20.015625 -1.375 \nQ 13.53125 -1.375 8.421875 4.53125 \nQ 3.328125 10.453125 3.328125 20.359375 \nQ 3.328125 31.734375 10.0625 38.890625 \nQ 16.796875 46.046875 26.3125 46.046875 \nQ 29.109375 46.046875 31.453125 45.265625 \nQ 33.796875 44.484375 35.640625 42.921875 \nQ 38.484375 44.28125 41.0625 46.046875 \nz\nM 34.671875 10.84375 \nL 34.671875 31.84375 \nQ 34.671875 35.5 33.71875 37.59375 \nQ 32.765625 39.703125 30.3125 41.15625 \nQ 27.875 42.625 24.8125 42.625 \nQ 19.34375 42.625 15.4375 37.984375 \nQ 11.53125 33.34375 11.53125 23.921875 \nQ 11.53125 14.890625 15.5 10.203125 \nQ 19.484375 5.515625 25.09375 5.515625 \nQ 27.984375 5.515625 30.21875 6.765625 \nQ 32.46875 8.015625 34.671875 10.84375 \n\" id=\"TimesNewRomanPSMT-71\"/>\n     <path d=\"M 0.828125 44.734375 \nL 21.875 44.734375 \nL 21.875 42.921875 \nL 20.515625 42.921875 \nQ 18.609375 42.921875 17.609375 41.984375 \nQ 16.609375 41.0625 16.609375 39.5 \nQ 16.609375 37.796875 17.625 35.453125 \nL 28.03125 10.75 \nL 38.484375 36.375 \nQ 39.59375 39.109375 39.59375 40.53125 \nQ 39.59375 41.21875 39.203125 41.65625 \nQ 38.671875 42.390625 37.84375 42.65625 \nQ 37.015625 42.921875 34.46875 42.921875 \nL 34.46875 44.734375 \nL 49.078125 44.734375 \nL 49.078125 42.921875 \nQ 46.53125 42.71875 45.5625 41.890625 \nQ 43.84375 40.4375 42.484375 37.015625 \nL 26.609375 -1.375 \nL 24.609375 -1.375 \nL 8.640625 36.375 \nQ 7.5625 39.015625 6.578125 40.15625 \nQ 5.609375 41.3125 4.109375 42.09375 \nQ 3.265625 42.53125 0.828125 42.921875 \nz\n\" id=\"TimesNewRomanPSMT-76\"/>\n    </defs>\n    <g transform=\"translate(171.143 259.667739)scale(0.096 -0.096)\">\n     <use xlink:href=\"#TimesNewRomanPSMT-62\"/>\n     <use x=\"50\" xlink:href=\"#TimesNewRomanPSMT-29\"/>\n     <use x=\"83.300781\" xlink:href=\"#TimesNewRomanPSMT-20\"/>\n     <use x=\"108.300781\" xlink:href=\"#TimesNewRomanPSMT-c9\"/>\n     <use x=\"169.384766\" xlink:href=\"#TimesNewRomanPSMT-71\"/>\n     <use x=\"219.384766\" xlink:href=\"#TimesNewRomanPSMT-75\"/>\n     <use x=\"269.384766\" xlink:href=\"#TimesNewRomanPSMT-69\"/>\n     <use x=\"297.167969\" xlink:href=\"#TimesNewRomanPSMT-76\"/>\n     <use x=\"347.167969\" xlink:href=\"#TimesNewRomanPSMT-61\"/>\n     <use x=\"391.552734\" xlink:href=\"#TimesNewRomanPSMT-6c\"/>\n     <use x=\"419.335938\" xlink:href=\"#TimesNewRomanPSMT-65\"/>\n     <use x=\"463.720703\" xlink:href=\"#TimesNewRomanPSMT-6e\"/>\n     <use x=\"513.720703\" xlink:href=\"#TimesNewRomanPSMT-74\"/>\n     <use x=\"541.503906\" xlink:href=\"#TimesNewRomanPSMT-20\"/>\n     <use x=\"566.503906\" xlink:href=\"#TimesNewRomanPSMT-63\"/>\n     <use x=\"610.888672\" xlink:href=\"#TimesNewRomanPSMT-65\"/>\n     <use x=\"655.273438\" xlink:href=\"#TimesNewRomanPSMT-72\"/>\n     <use x=\"688.574219\" xlink:href=\"#TimesNewRomanPSMT-74\"/>\n     <use x=\"716.357422\" xlink:href=\"#TimesNewRomanPSMT-61\"/>\n     <use x=\"760.742188\" xlink:href=\"#TimesNewRomanPSMT-69\"/>\n     <use x=\"788.525391\" xlink:href=\"#TimesNewRomanPSMT-6e\"/>\n    </g>\n   </g>\n   <g id=\"legend_2\">\n    <g id=\"patch_13\">\n     <path d=\"M 275.97 328.623989 \nL 373.1925 328.623989 \nQ 374.7925 328.623989 374.7925 327.023989 \nL 374.7925 271.267739 \nQ 374.7925 269.667739 373.1925 269.667739 \nL 275.97 269.667739 \nQ 274.37 269.667739 274.37 271.267739 \nL 274.37 327.023989 \nQ 274.37 328.623989 275.97 328.623989 \nz\n\" style=\"fill:#ffffff;opacity:0.8;stroke:#cccccc;stroke-linejoin:miter;\"/>\n    </g>\n    <g id=\"line2d_65\">\n     <path d=\"M 277.57 275.667739 \nL 293.57 275.667739 \n\" style=\"fill:none;stroke:#1f77b4;stroke-dasharray:2.2,2.2;stroke-dashoffset:0;stroke-width:1.5;\"/>\n    </g>\n    <g id=\"line2d_66\"/>\n    <g id=\"text_56\">\n     <!-- Erreur maximale -->\n     <g transform=\"translate(299.97 278.467739)scale(0.08 -0.08)\">\n      <use xlink:href=\"#TimesNewRomanPSMT-45\"/>\n      <use x=\"61.083984\" xlink:href=\"#TimesNewRomanPSMT-72\"/>\n      <use x=\"94.384766\" xlink:href=\"#TimesNewRomanPSMT-72\"/>\n      <use x=\"127.685547\" xlink:href=\"#TimesNewRomanPSMT-65\"/>\n      <use x=\"172.070312\" xlink:href=\"#TimesNewRomanPSMT-75\"/>\n      <use x=\"222.070312\" xlink:href=\"#TimesNewRomanPSMT-72\"/>\n      <use x=\"255.371094\" xlink:href=\"#TimesNewRomanPSMT-20\"/>\n      <use x=\"280.371094\" xlink:href=\"#TimesNewRomanPSMT-6d\"/>\n      <use x=\"358.154297\" xlink:href=\"#TimesNewRomanPSMT-61\"/>\n      <use x=\"402.539062\" xlink:href=\"#TimesNewRomanPSMT-78\"/>\n      <use x=\"452.539062\" xlink:href=\"#TimesNewRomanPSMT-69\"/>\n      <use x=\"480.322266\" xlink:href=\"#TimesNewRomanPSMT-6d\"/>\n      <use x=\"558.105469\" xlink:href=\"#TimesNewRomanPSMT-61\"/>\n      <use x=\"602.490234\" xlink:href=\"#TimesNewRomanPSMT-6c\"/>\n      <use x=\"630.273438\" xlink:href=\"#TimesNewRomanPSMT-65\"/>\n     </g>\n    </g>\n    <g id=\"line2d_67\">\n     <path d=\"M 277.57 286.978989 \nL 293.57 286.978989 \n\" style=\"fill:none;stroke:#5a788e;stroke-dasharray:5.6,2.4;stroke-dashoffset:0;stroke-width:1.5;\"/>\n    </g>\n    <g id=\"line2d_68\"/>\n    <g id=\"text_57\">\n     <!-- 75e percentile d'erreur -->\n     <g transform=\"translate(299.97 289.778989)scale(0.08 -0.08)\">\n      <use xlink:href=\"#TimesNewRomanPSMT-37\"/>\n      <use x=\"50\" xlink:href=\"#TimesNewRomanPSMT-35\"/>\n      <use x=\"100\" xlink:href=\"#TimesNewRomanPSMT-65\"/>\n      <use x=\"144.384766\" xlink:href=\"#TimesNewRomanPSMT-20\"/>\n      <use x=\"169.384766\" xlink:href=\"#TimesNewRomanPSMT-70\"/>\n      <use x=\"219.384766\" xlink:href=\"#TimesNewRomanPSMT-65\"/>\n      <use x=\"263.769531\" xlink:href=\"#TimesNewRomanPSMT-72\"/>\n      <use x=\"297.070312\" xlink:href=\"#TimesNewRomanPSMT-63\"/>\n      <use x=\"341.455078\" xlink:href=\"#TimesNewRomanPSMT-65\"/>\n      <use x=\"385.839844\" xlink:href=\"#TimesNewRomanPSMT-6e\"/>\n      <use x=\"435.839844\" xlink:href=\"#TimesNewRomanPSMT-74\"/>\n      <use x=\"463.623047\" xlink:href=\"#TimesNewRomanPSMT-69\"/>\n      <use x=\"491.40625\" xlink:href=\"#TimesNewRomanPSMT-6c\"/>\n      <use x=\"519.189453\" xlink:href=\"#TimesNewRomanPSMT-65\"/>\n      <use x=\"563.574219\" xlink:href=\"#TimesNewRomanPSMT-20\"/>\n      <use x=\"588.574219\" xlink:href=\"#TimesNewRomanPSMT-64\"/>\n      <use x=\"638.574219\" xlink:href=\"#TimesNewRomanPSMT-27\"/>\n      <use x=\"656.591797\" xlink:href=\"#TimesNewRomanPSMT-65\"/>\n      <use x=\"700.976562\" xlink:href=\"#TimesNewRomanPSMT-72\"/>\n      <use x=\"734.277344\" xlink:href=\"#TimesNewRomanPSMT-72\"/>\n      <use x=\"767.578125\" xlink:href=\"#TimesNewRomanPSMT-65\"/>\n      <use x=\"811.962891\" xlink:href=\"#TimesNewRomanPSMT-75\"/>\n      <use x=\"861.962891\" xlink:href=\"#TimesNewRomanPSMT-72\"/>\n     </g>\n    </g>\n    <g id=\"line2d_69\">\n     <path d=\"M 277.57 298.290239 \nL 293.57 298.290239 \n\" style=\"fill:none;stroke:#787878;stroke-linecap:square;stroke-width:1.5;\"/>\n    </g>\n    <g id=\"line2d_70\"/>\n    <g id=\"text_58\">\n     <!-- Erreur médiane -->\n     <g transform=\"translate(299.97 301.090239)scale(0.08 -0.08)\">\n      <use xlink:href=\"#TimesNewRomanPSMT-45\"/>\n      <use x=\"61.083984\" xlink:href=\"#TimesNewRomanPSMT-72\"/>\n      <use x=\"94.384766\" xlink:href=\"#TimesNewRomanPSMT-72\"/>\n      <use x=\"127.685547\" xlink:href=\"#TimesNewRomanPSMT-65\"/>\n      <use x=\"172.070312\" xlink:href=\"#TimesNewRomanPSMT-75\"/>\n      <use x=\"222.070312\" xlink:href=\"#TimesNewRomanPSMT-72\"/>\n      <use x=\"255.371094\" xlink:href=\"#TimesNewRomanPSMT-20\"/>\n      <use x=\"280.371094\" xlink:href=\"#TimesNewRomanPSMT-6d\"/>\n      <use x=\"358.154297\" xlink:href=\"#TimesNewRomanPSMT-e9\"/>\n      <use x=\"402.539062\" xlink:href=\"#TimesNewRomanPSMT-64\"/>\n      <use x=\"452.539062\" xlink:href=\"#TimesNewRomanPSMT-69\"/>\n      <use x=\"480.322266\" xlink:href=\"#TimesNewRomanPSMT-61\"/>\n      <use x=\"524.707031\" xlink:href=\"#TimesNewRomanPSMT-6e\"/>\n      <use x=\"574.707031\" xlink:href=\"#TimesNewRomanPSMT-65\"/>\n     </g>\n    </g>\n    <g id=\"line2d_71\">\n     <path d=\"M 277.57 309.601489 \nL 293.57 309.601489 \n\" style=\"fill:none;stroke:#5a5a5a;stroke-dasharray:5.6,2.4;stroke-dashoffset:0;stroke-width:1.5;\"/>\n    </g>\n    <g id=\"line2d_72\"/>\n    <g id=\"text_59\">\n     <!-- 25e percentile d'erreur -->\n     <g transform=\"translate(299.97 312.401489)scale(0.08 -0.08)\">\n      <use xlink:href=\"#TimesNewRomanPSMT-32\"/>\n      <use x=\"50\" xlink:href=\"#TimesNewRomanPSMT-35\"/>\n      <use x=\"100\" xlink:href=\"#TimesNewRomanPSMT-65\"/>\n      <use x=\"144.384766\" xlink:href=\"#TimesNewRomanPSMT-20\"/>\n      <use x=\"169.384766\" xlink:href=\"#TimesNewRomanPSMT-70\"/>\n      <use x=\"219.384766\" xlink:href=\"#TimesNewRomanPSMT-65\"/>\n      <use x=\"263.769531\" xlink:href=\"#TimesNewRomanPSMT-72\"/>\n      <use x=\"297.070312\" xlink:href=\"#TimesNewRomanPSMT-63\"/>\n      <use x=\"341.455078\" xlink:href=\"#TimesNewRomanPSMT-65\"/>\n      <use x=\"385.839844\" xlink:href=\"#TimesNewRomanPSMT-6e\"/>\n      <use x=\"435.839844\" xlink:href=\"#TimesNewRomanPSMT-74\"/>\n      <use x=\"463.623047\" xlink:href=\"#TimesNewRomanPSMT-69\"/>\n      <use x=\"491.40625\" xlink:href=\"#TimesNewRomanPSMT-6c\"/>\n      <use x=\"519.189453\" xlink:href=\"#TimesNewRomanPSMT-65\"/>\n      <use x=\"563.574219\" xlink:href=\"#TimesNewRomanPSMT-20\"/>\n      <use x=\"588.574219\" xlink:href=\"#TimesNewRomanPSMT-64\"/>\n      <use x=\"638.574219\" xlink:href=\"#TimesNewRomanPSMT-27\"/>\n      <use x=\"656.591797\" xlink:href=\"#TimesNewRomanPSMT-65\"/>\n      <use x=\"700.976562\" xlink:href=\"#TimesNewRomanPSMT-72\"/>\n      <use x=\"734.277344\" xlink:href=\"#TimesNewRomanPSMT-72\"/>\n      <use x=\"767.578125\" xlink:href=\"#TimesNewRomanPSMT-65\"/>\n      <use x=\"811.962891\" xlink:href=\"#TimesNewRomanPSMT-75\"/>\n      <use x=\"861.962891\" xlink:href=\"#TimesNewRomanPSMT-72\"/>\n     </g>\n    </g>\n    <g id=\"line2d_73\">\n     <path d=\"M 277.57 320.912739 \nL 293.57 320.912739 \n\" style=\"fill:none;stroke:#000000;stroke-dasharray:2.2,2.2;stroke-dashoffset:0;stroke-width:1.5;\"/>\n    </g>\n    <g id=\"line2d_74\"/>\n    <g id=\"text_60\">\n     <!-- Erreur minimale -->\n     <g transform=\"translate(299.97 323.712739)scale(0.08 -0.08)\">\n      <use xlink:href=\"#TimesNewRomanPSMT-45\"/>\n      <use x=\"61.083984\" xlink:href=\"#TimesNewRomanPSMT-72\"/>\n      <use x=\"94.384766\" xlink:href=\"#TimesNewRomanPSMT-72\"/>\n      <use x=\"127.685547\" xlink:href=\"#TimesNewRomanPSMT-65\"/>\n      <use x=\"172.070312\" xlink:href=\"#TimesNewRomanPSMT-75\"/>\n      <use x=\"222.070312\" xlink:href=\"#TimesNewRomanPSMT-72\"/>\n      <use x=\"255.371094\" xlink:href=\"#TimesNewRomanPSMT-20\"/>\n      <use x=\"280.371094\" xlink:href=\"#TimesNewRomanPSMT-6d\"/>\n      <use x=\"358.154297\" xlink:href=\"#TimesNewRomanPSMT-69\"/>\n      <use x=\"385.9375\" xlink:href=\"#TimesNewRomanPSMT-6e\"/>\n      <use x=\"435.9375\" xlink:href=\"#TimesNewRomanPSMT-69\"/>\n      <use x=\"463.720703\" xlink:href=\"#TimesNewRomanPSMT-6d\"/>\n      <use x=\"541.503906\" xlink:href=\"#TimesNewRomanPSMT-61\"/>\n      <use x=\"585.888672\" xlink:href=\"#TimesNewRomanPSMT-6c\"/>\n      <use x=\"613.671875\" xlink:href=\"#TimesNewRomanPSMT-65\"/>\n     </g>\n    </g>\n   </g>\n  </g>\n </g>\n <defs>\n  <clipPath id=\"p3142a43eaa\">\n   <rect height=\"189.078261\" width=\"334.8\" x=\"43.9925\" y=\"19.866\"/>\n  </clipPath>\n  <clipPath id=\"p18ab2d1ac7\">\n   <rect height=\"189.078261\" width=\"334.8\" x=\"43.9925\" y=\"265.667739\"/>\n  </clipPath>\n </defs>\n</svg>\n",
      "text/plain": [
       "<matplotlib.figure.Figure at 0x118d65e80>"
      ]
     },
     "metadata": {},
     "output_type": "display_data"
    }
   ],
   "source": [
    "fig,ax = plt.subplots(2,figsize=(6,8))\n",
    "fig.subplots_adjust(hspace=.3)\n",
    "pltu,pltce = ax\n",
    "\n",
    "pltu.plot(ns,error100,'C0:',label='Erreur maximale')\n",
    "pltu.plot(ns,error75,'--',color='#5a788e',label='75e percentile d\\'erreur')\n",
    "pltu.plot(ns,error50,'#787878',label='Erreur médiane')\n",
    "pltu.plot(ns,error25,'--',color='#5a5a5a',label='25e percentile d\\'erreur')\n",
    "pltu.plot(ns,error0,'k:',label='Erreur minimale')\n",
    "pltu.set_xticks(ns[::10])\n",
    "pltu.set_xlabel('$n$')\n",
    "pltu.set_ylabel('Erreur de généralisation (util)')\n",
    "pltu.legend()\n",
    "pltu.set_title(\"a) Utilité\")\n",
    "\n",
    "pltce.plot(ns,errorce100,'C0:',label='Erreur maximale')\n",
    "pltce.plot(ns,errorce75,'--',color='#5a788e',label='75e percentile d\\'erreur')\n",
    "pltce.plot(ns,errorce50,'#787878',label='Erreur médiane')\n",
    "pltce.plot(ns,errorce25,'--',color='#5a5a5a',label='25e percentile d\\'erreur')\n",
    "pltce.plot(ns,errorce0,'k:',label='Erreur minimale')\n",
    "pltce.set_ylabel('Erreur de généralisation (rendement)')\n",
    "pltce.set_xticks(ns[::10])\n",
    "pltce.legend()\n",
    "pltce.set_xlabel('$n$')\n",
    "pltce.set_title(\"b) Équivalent certain\")\n",
    "\n",
    "# plt.savefig('fig/genstats.pdf',bbox_inches='tight',pad_inches=0)\n"
   ]
  },
  {
   "cell_type": "code",
   "execution_count": 0,
   "metadata": {
    "autoscroll": false,
    "ein.tags": "worksheet-0",
    "slideshow": {
     "slide_type": "-"
    }
   },
   "outputs": [],
   "source": [
    "def order2(x,a,k,b):\n",
    "    return a*x**k + b"
   ]
  },
  {
   "cell_type": "code",
   "execution_count": 0,
   "metadata": {
    "autoscroll": false,
    "ein.tags": "worksheet-0",
    "slideshow": {
     "slide_type": "-"
    }
   },
   "outputs": [
    {
     "name": "stdout",
     "output_type": "stream",
     "text": [
      "Erreur maximale & -0.600 & 5.246e-03\\\\\n",
      "75\\ieme percentile d'erreur & -0.766 & 1.705e-03\\\\\n",
      "Erreur médiane & -0.923 & 2.352e-03\\\\\n",
      "25\\ieme percentile d'erreur & -1.554 & 3.674e-02\\\\\n",
      "Erreur minimale & 0.391 & 2.275e-02\\\\\n"
     ]
    }
   ],
   "source": [
    "errors = [error100,error75,error50,error25,error0]\n",
    "names = ['Erreur maximale','75\\ieme percentile d\\'erreur','Erreur médiane','25\\ieme percentile d\\'erreur','Erreur minimale']\n",
    "for i,(err,name) in enumerate(zip(errors,names)):\n",
    "    if i != 4:\n",
    "        k = -1/2\n",
    "    else:\n",
    "        k = 1/2\n",
    "    opt,cov = curve_fit(order2,ns,err,p0=(1,k,0))\n",
    "    print(\"%s & %2.3f & %2.3e\\\\\\\\\" % (name, opt[1], cov[1,1]))"
   ]
  },
  {
   "cell_type": "code",
   "execution_count": 0,
   "metadata": {
    "autoscroll": false,
    "ein.tags": "worksheet-0",
    "slideshow": {
     "slide_type": "-"
    }
   },
   "outputs": [
    {
     "data": {
      "text/plain": [
       "(array([ 0.0081076 ,  0.39147123, -0.08815749]),\n",
       " array([[  6.59322437e-05,  -1.22312193e-03,  -1.21150278e-04],\n",
       "        [ -1.22312193e-03,   2.27464505e-02,   2.23689486e-03],\n",
       "        [ -1.21150278e-04,   2.23689486e-03,   2.24865476e-04]]))"
      ]
     },
     "execution_count": 124,
     "metadata": {},
     "output_type": "execute_result"
    }
   ],
   "source": [
    "curve_fit(order2,ns,error0,p0=(1,1/2,0))"
   ]
  },
  {
   "cell_type": "code",
   "execution_count": 0,
   "metadata": {
    "autoscroll": false,
    "ein.tags": "worksheet-0",
    "slideshow": {
     "slide_type": "-"
    }
   },
   "outputs": [
    {
     "data": {
      "text/plain": [
       "      fun: 0.0008440767032751065\n",
       " hess_inv: array([[ 6638.41177295, -1524.83163838,   522.26218014],\n",
       "       [-1524.83163838,   365.79448135,  -131.05022907],\n",
       "       [  522.26218014,  -131.05022907,    49.47936611]])\n",
       "      jac: array([  4.20113793e-08,   3.66700988e-07,   5.17204171e-07])\n",
       "  message: 'Optimization terminated successfully.'\n",
       "     nfev: 230\n",
       "      nit: 39\n",
       "     njev: 46\n",
       "   status: 0\n",
       "  success: True\n",
       "        x: array([ 2.15682024, -0.60828653, -0.04144283])"
      ]
     },
     "execution_count": 87,
     "metadata": {},
     "output_type": "execute_result"
    }
   ],
   "source": [
    "minimize(order,x0=[1,0.5,0],args=(errorce100,))"
   ]
  },
  {
   "cell_type": "code",
   "execution_count": 19,
   "metadata": {
    "autoscroll": false,
    "ein.tags": "worksheet-0",
    "slideshow": {
     "slide_type": "-"
    }
   },
   "outputs": [
    {
     "data": {
      "text/plain": [
       "<matplotlib.figure.Figure at 0x1112242e8>"
      ]
     },
     "metadata": {},
     "output_type": "display_data"
    }
   ],
   "source": [
    "fig,ax = plt.subplots(1,figsize=(5,5))\n",
    "\n",
    "ax.scatter(X0[r<=0],X1[r<=0],c='C0',marker='$\\ominus$',s=-50*r[r<=0],label='$r\\leq0$')\n",
    "ax.scatter(X0[r>=0],X1[r>=0],c='C3',marker='$\\oplus$',s=50*r[r>=0],label='$r>0$')\n",
    "\n",
    "ax.spines['left'].set_position('zero')\n",
    "ax.spines['left'].set_alpha(0.5)\n",
    "ax.spines['right'].set_color('none')\n",
    "ax.spines['bottom'].set_position('zero')\n",
    "ax.spines['bottom'].set_alpha(0.5)\n",
    "ax.spines['top'].set_color('none')\n",
    "\n",
    "ax.axis(ymax=3.7,ymin=-3.7,xmin=-3.7,xmax=3.7)\n",
    "ax.legend(bbox_to_anchor=(0., 1.02, 1., .102), loc=3,\n",
    "           ncol=2, mode=\"expand\", borderaxespad=0.)\n",
    "ax.annotate('$X_0$',xy=(3.2,-0.5))\n",
    "ax.annotate('$X_1$',xy=(-0.5,3.2));"
   ]
  },
  {
   "cell_type": "markdown",
   "metadata": {
    "ein.tags": "worksheet-1",
    "slideshow": {
     "slide_type": "-"
    }
   },
   "source": [
    "## Loi de marché"
   ]
  },
  {
   "cell_type": "code",
   "execution_count": 6,
   "metadata": {
    "autoscroll": false,
    "ein.tags": "worksheet-1",
    "slideshow": {
     "slide_type": "-"
    }
   },
   "outputs": [],
   "source": [
    "from mpl_toolkits.axes_grid.inset_locator import inset_axes,zoomed_inset_axes"
   ]
  },
  {
   "cell_type": "code",
   "execution_count": 7,
   "metadata": {
    "autoscroll": false,
    "ein.tags": "worksheet-1",
    "slideshow": {
     "slide_type": "-"
    }
   },
   "outputs": [],
   "source": [
    "Xs = [RademacherDistribution(),RademacherDistribution()]\n",
    "R = RademacherDistribution()\n",
    "M = synth.GaussianMarket(Xs,R,corr_vector=[1/sqrt(3),1/sqrt(3)])\n"
   ]
  },
  {
   "cell_type": "code",
   "execution_count": 8,
   "metadata": {
    "autoscroll": false,
    "ein.tags": "worksheet-1",
    "slideshow": {
     "slide_type": "-"
    }
   },
   "outputs": [],
   "source": [
    "X,r = M.sample(1_000_000)"
   ]
  },
  {
   "cell_type": "code",
   "execution_count": 9,
   "metadata": {
    "autoscroll": false,
    "ein.tags": "worksheet-1",
    "slideshow": {
     "slide_type": "-"
    }
   },
   "outputs": [],
   "source": [
    "sig = M.Σ"
   ]
  },
  {
   "cell_type": "code",
   "execution_count": 10,
   "metadata": {
    "autoscroll": false,
    "ein.tags": "worksheet-1",
    "slideshow": {
     "slide_type": "-"
    }
   },
   "outputs": [],
   "source": [
    "t = np.random.multivariate_normal([0,0,0],sig,500)"
   ]
  },
  {
   "cell_type": "code",
   "execution_count": 11,
   "metadata": {
    "autoscroll": false,
    "ein.tags": "worksheet-1",
    "slideshow": {
     "slide_type": "-"
    }
   },
   "outputs": [],
   "source": [
    "X0 = t[:,0]\n",
    "X1 = t[:,1]\n",
    "r = t[:,2]"
   ]
  },
  {
   "cell_type": "code",
   "execution_count": null,
   "metadata": {
    "autoscroll": false,
    "ein.tags": "worksheet-1",
    "slideshow": {
     "slide_type": "-"
    }
   },
   "outputs": [],
   "source": []
  },
  {
   "cell_type": "code",
   "execution_count": 54,
   "metadata": {
    "autoscroll": false,
    "ein.tags": "worksheet-1",
    "slideshow": {
     "slide_type": "-"
    }
   },
   "outputs": [
    {
     "data": {
      "text/plain": [
       "<matplotlib.figure.Figure at 0x10b8163c8>"
      ]
     },
     "metadata": {},
     "output_type": "display_data"
    }
   ],
   "source": [
    "fig,ax = plt.subplots(1,figsize=(5,5))\n",
    "#ax.scatter(X0[r>=0],X1[r>=0],c=r[r>=0],s=15,cmap='Blues')\n",
    "#ax.scatter(X0[r<=0],X1[r<=0],c=-r[r<=0],s=15,cmap='Oranges')\n",
    "\n",
    "ax.scatter(X0[r<=0],X1[r<=0],c='C0',marker='$\\ominus$',s=-50*r[r<=0],\n",
    "           label='$\\\\breve{r}\\leq0$')\n",
    "ax.scatter(X0[r>=0],X1[r>=0],c='C3',marker='$\\oplus$',s=50*r[r>=0],\n",
    "           label='$\\\\breve{r}>0$')\n",
    "\n",
    "ax.spines['left'].set_position('zero')\n",
    "ax.spines['left'].set_alpha(0.5)\n",
    "ax.spines['right'].set_color('none')\n",
    "ax.spines['bottom'].set_position('zero')\n",
    "ax.spines['bottom'].set_alpha(0.5)\n",
    "ax.spines['top'].set_color('none')\n",
    "\n",
    "ax.axis(ymax=3.7,ymin=-3.7,xmin=-3.7,xmax=3.7)\n",
    "ax.legend(bbox_to_anchor=(0., 1.02, 1., .102), loc=3,\n",
    "           ncol=2, mode=\"expand\", borderaxespad=0.)\n",
    "ax.annotate('$\\\\breve{X}_0$',xy=(3.2,-0.5))\n",
    "ax.annotate('$\\\\breve{X}_1$',xy=(-0.5,3.2));\n",
    "\n",
    "r00 = r[(X0>0) * (X1>0)]\n",
    "r01 = r[(X0<0) * (X1>0)]\n",
    "r10 = r[(X0>0) * (X1<0)]\n",
    "r11 = r[(X0<0) * (X1<0)]\n",
    "\n",
    "d = {0:r00,1:r01,2:r11,3:r10}\n",
    "for l in range(4):\n",
    "    inax = zoomed_inset_axes(ax,1,loc=l+1)\n",
    "    inax.bar(0.3,sum(d[l]>0)/len(d[l]),width=0.3,color='C3')\n",
    "    inax.bar(-0.3,sum(d[l]<0)/len(d[l]),width=0.3,color='C0')\n",
    "    inax.set_xticks([-0.3,0.3])\n",
    "    inax.set_yticks([])\n",
    "    inax.set_xticks([-0.3,0.3])\n",
    "    inax.set_xticklabels(['$r=$-$1$','$r=1$'])\n",
    "    inax.axis(ymax=1,xmin=-0.6,xmax=0.6)\n",
    "    inax.spines['left'].set_color('none')\n",
    "    inax.spines['top'].set_color('none')\n",
    "    inax.spines['right'].set_color('none')\n",
    "\n",
    "# plt.savefig('fig/copula.pdf',bbox_inches='tight',pad_inches=0)\n",
    "    "
   ]
  },
  {
   "cell_type": "code",
   "execution_count": null,
   "metadata": {
    "autoscroll": false,
    "ein.tags": "worksheet-1",
    "slideshow": {
     "slide_type": "-"
    }
   },
   "outputs": [],
   "source": []
  }
 ],
 "metadata": {
  "kernelspec": {
   "display_name": "Python 3",
   "language": "python",
   "name": "python3"
  },
  "language_info": {
   "codemirror_mode": {
    "name": "ipython",
    "version": 3
   },
   "file_extension": ".py",
   "mimetype": "text/x-python",
   "name": "python",
   "nbconvert_exporter": "python",
   "pygments_lexer": "ipython3",
   "version": "3.6.1"
  },
  "name": "Fig_aversion.ipynb"
 },
 "nbformat": 4,
 "nbformat_minor": 2
}
