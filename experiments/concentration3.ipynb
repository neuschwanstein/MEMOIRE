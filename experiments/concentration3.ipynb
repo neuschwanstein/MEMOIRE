{
 "cells": [
  {
   "cell_type": "code",
   "execution_count": 2,
   "metadata": {
    "autoscroll": "json-false",
    "collapsed": false,
    "ein.tags": [
     "worksheet-0"
    ],
    "slideshow": {
     "slide_type": "-"
    }
   },
   "outputs": [],
   "source": [
    "%load_ext autoreload\n",
    "%autoreload 2"
   ]
  },
  {
   "cell_type": "code",
   "execution_count": 3,
   "metadata": {
    "autoscroll": "json-false",
    "collapsed": false,
    "ein.tags": [
     "worksheet-0"
    ],
    "slideshow": {
     "slide_type": "-"
    }
   },
   "outputs": [],
   "source": [
    "from matplotlib import rc\n",
    "rc('text',usetex=True)\n",
    "rc('font',**{'family':'serif','serif':['Computer Modern Roman']})\n",
    "import matplotlib.pyplot as plt\n",
    "% matplotlib inline\n",
    "% config InlineBackend.figure_format = 'svg'\n",
    "% config InlineBackend.rc = {'figure.figsize': (5,3.5)}"
   ]
  },
  {
   "cell_type": "code",
   "execution_count": 232,
   "metadata": {
    "autoscroll": "json-false",
    "collapsed": false,
    "ein.tags": [
     "worksheet-0"
    ],
    "slideshow": {
     "slide_type": "-"
    }
   },
   "outputs": [],
   "source": [
    "import numpy as np\n",
    "import numpy.linalg as la\n",
    "import cvxpy as cvx\n",
    "from helper import solve,solved\n",
    "from cd.model.utility import LinearUtility as lu, RiskNeutralUtility as rnu"
   ]
  },
  {
   "cell_type": "code",
   "execution_count": 730,
   "metadata": {
    "autoscroll": "json-false",
    "collapsed": false,
    "ein.tags": [
     "worksheet-0"
    ],
    "slideshow": {
     "slide_type": "-"
    }
   },
   "outputs": [],
   "source": [
    "p = 2\n",
    "n = 2\n",
    "# X = np.random.randint(-5,5,size=(n,p))\n",
    "# X = np.random.randn(n,p)\n",
    "X = np.array([[-5,-5],[3,2]])\n",
    "r = np.ones(n)\n",
    "# X = np.array([[-1,-1],[-2,-2],[-1,3],[-5,2]])\n",
    "# r = np.array([1,1,1])\n",
    "t = X*r[:,None]\n",
    "# X = np.array([[1],[1],[-1]])\n",
    "# r = np.array([1,-1,-5])"
   ]
  },
  {
   "cell_type": "code",
   "execution_count": 731,
   "metadata": {
    "autoscroll": "json-false",
    "collapsed": false,
    "ein.tags": [
     "worksheet-0"
    ],
    "slideshow": {
     "slide_type": "-"
    }
   },
   "outputs": [
    {
     "data": {
      "text/plain": [
       "array([[-5., -5.],\n",
       "       [ 3.,  2.]])"
      ]
     },
     "execution_count": 731,
     "metadata": {},
     "output_type": "execute_result"
    }
   ],
   "source": [
    "t"
   ]
  },
  {
   "cell_type": "code",
   "execution_count": 732,
   "metadata": {
    "autoscroll": "json-false",
    "collapsed": false,
    "ein.tags": [
     "worksheet-0"
    ],
    "slideshow": {
     "slide_type": "-"
    }
   },
   "outputs": [
    {
     "data": {
      "text/plain": [
       "array([ 0.38420002, -0.57622212])"
      ]
     },
     "execution_count": 732,
     "metadata": {},
     "output_type": "execute_result"
    }
   ],
   "source": [
    "av = 2\n",
    "lamb = 1/(2)\n",
    "u = lu(av)\n",
    "def f(q):\n",
    "    return np.mean(lu(av)(np.inner(q,X*r[:,None]))) - lamb*np.linalg.norm(q)**2\n",
    "qcv= solve(X,r,lamb,u=lu(av))\n",
    "qcv"
   ]
  },
  {
   "cell_type": "code",
   "execution_count": 555,
   "metadata": {
    "autoscroll": "json-false",
    "collapsed": false,
    "ein.tags": [
     "worksheet-0"
    ],
    "slideshow": {
     "slide_type": "-"
    }
   },
   "outputs": [
    {
     "data": {
      "text/plain": [
       "(2.6562494649815984, 2.5499999999999998)"
      ]
     },
     "execution_count": 555,
     "metadata": {},
     "output_type": "execute_result"
    }
   ],
   "source": [
    "f(qcv),f([-1.8,0.4])"
   ]
  },
  {
   "cell_type": "code",
   "execution_count": 170,
   "metadata": {
    "autoscroll": "json-false",
    "collapsed": false,
    "ein.tags": [
     "worksheet-0"
    ],
    "slideshow": {
     "slide_type": "-"
    }
   },
   "outputs": [
    {
     "data": {
      "text/plain": [
       "array([-0.03804182,  0.03139894])"
      ]
     },
     "execution_count": 170,
     "metadata": {},
     "output_type": "execute_result"
    }
   ],
   "source": [
    "msk*qcv*b"
   ]
  },
  {
   "cell_type": "code",
   "execution_count": 171,
   "metadata": {
    "autoscroll": "json-false",
    "collapsed": false,
    "ein.tags": [
     "worksheet-0"
    ],
    "slideshow": {
     "slide_type": "-"
    }
   },
   "outputs": [
    {
     "data": {
      "text/plain": [
       "array([ 0.64455642, -0.06433032])"
      ]
     },
     "execution_count": 171,
     "metadata": {},
     "output_type": "execute_result"
    }
   ],
   "source": [
    "msk*qcv*av*w"
   ]
  },
  {
   "cell_type": "code",
   "execution_count": 179,
   "metadata": {
    "autoscroll": "json-false",
    "collapsed": false,
    "ein.tags": [
     "worksheet-0"
    ],
    "slideshow": {
     "slide_type": "-"
    }
   },
   "outputs": [
    {
     "data": {
      "text/plain": [
       "array([ 8.99159117,  0.99904737])"
      ]
     },
     "execution_count": 179,
     "metadata": {},
     "output_type": "execute_result"
    }
   ],
   "source": [
    "qcv*(b+av*w)"
   ]
  },
  {
   "cell_type": "code",
   "execution_count": 178,
   "metadata": {
    "autoscroll": "json-false",
    "collapsed": false,
    "ein.tags": [
     "worksheet-0"
    ],
    "slideshow": {
     "slide_type": "-"
    }
   },
   "outputs": [
    {
     "data": {
      "text/plain": [
       "array([-1.8,  0.2])"
      ]
     },
     "execution_count": 178,
     "metadata": {},
     "output_type": "execute_result"
    }
   ],
   "source": [
    "s5 = np.sqrt(5)\n",
    "t = X*r[:,None]\n",
    "neg = t*(t<0)\n",
    "pos = t*(t>=0)\n",
    "aneg = -np.abs(neg); apos = np.abs(pos);\n",
    "sneg = np.sum(aneg,axis=0); spos = np.sum(apos,axis=0);\n",
    "lneg = np.sum(1*(t<0),axis=0); lpos =  n-lneg;\n",
    "msk = np.where(sneg > spos,-1,1)\n",
    "l = np.where(sneg > spos,lneg,lpos)\n",
    "b = np.maximum(sneg,spos)\n",
    "w = np.minimum(sneg,spos)\n",
    "\n",
    "nu = la.norm(2*w-b)\n",
    "x = msk*(b+av*w)\n",
    "# 1/n*np.inner(x,b-av*w) - la.norm(x)**2\n",
    "x/n\n",
    "# sneg,spos,b,w\n",
    "# np.sum(np.abs(qcv)*av*w),np.sum(np.abs(qcv)*b)\n",
    "# np.inner(x,b-av*w)\n",
    "# (b-2*w)/2                           # Solution in the av=1 case\n",
    "# x\n",
    "# t*((msk*x)[:,None])\n",
    "# t.mean(axis=0)\n",
    "# np.array([-sneg,spos]).mean(axis=0)\n",
    "# k = alpha*(bst/(2*wrst))\n",
    "# bst,wrst,"
   ]
  },
  {
   "cell_type": "code",
   "execution_count": 111,
   "metadata": {
    "autoscroll": "json-false",
    "collapsed": false,
    "ein.tags": [
     "worksheet-0"
    ],
    "slideshow": {
     "slide_type": "-"
    }
   },
   "outputs": [
    {
     "data": {
      "text/plain": [
       "(array([14]), array([6]))"
      ]
     },
     "execution_count": 111,
     "metadata": {},
     "output_type": "execute_result"
    }
   ],
   "source": [
    "lneg,lpos"
   ]
  },
  {
   "cell_type": "code",
   "execution_count": 92,
   "metadata": {
    "autoscroll": "json-false",
    "collapsed": false,
    "ein.tags": [
     "worksheet-0"
    ],
    "slideshow": {
     "slide_type": "-"
    }
   },
   "outputs": [
    {
     "data": {
      "text/plain": [
       "(array([11, 12]), array([9, 8]))"
      ]
     },
     "execution_count": 92,
     "metadata": {},
     "output_type": "execute_result"
    }
   ],
   "source": [
    "lneg,lpos"
   ]
  },
  {
   "cell_type": "code",
   "execution_count": 86,
   "metadata": {
    "autoscroll": "json-false",
    "collapsed": false,
    "ein.tags": [
     "worksheet-0"
    ],
    "slideshow": {
     "slide_type": "-"
    }
   },
   "outputs": [
    {
     "data": {
      "text/plain": [
       "array([[1, 0],\n",
       "       [0, 1],\n",
       "       [1, 1],\n",
       "       [0, 0],\n",
       "       [0, 0],\n",
       "       [0, 0],\n",
       "       [0, 1],\n",
       "       [1, 1],\n",
       "       [0, 1],\n",
       "       [1, 1],\n",
       "       [1, 1],\n",
       "       [1, 1],\n",
       "       [1, 1],\n",
       "       [0, 0],\n",
       "       [1, 0],\n",
       "       [0, 1],\n",
       "       [1, 0],\n",
       "       [0, 1],\n",
       "       [1, 0],\n",
       "       [1, 1]])"
      ]
     },
     "execution_count": 86,
     "metadata": {},
     "output_type": "execute_result"
    }
   ],
   "source": [
    "1*(t<0)"
   ]
  },
  {
   "cell_type": "code",
   "execution_count": 63,
   "metadata": {
    "autoscroll": "json-false",
    "collapsed": false,
    "ein.tags": [
     "worksheet-0"
    ],
    "slideshow": {
     "slide_type": "-"
    }
   },
   "outputs": [
    {
     "data": {
      "text/plain": [
       "True"
      ]
     },
     "execution_count": 63,
     "metadata": {},
     "output_type": "execute_result"
    }
   ],
   "source": [
    "f(x)>f(qcv)"
   ]
  },
  {
   "cell_type": "code",
   "execution_count": 1337,
   "metadata": {
    "autoscroll": "json-false",
    "collapsed": false,
    "ein.tags": [
     "worksheet-0"
    ],
    "slideshow": {
     "slide_type": "-"
    }
   },
   "outputs": [
    {
     "data": {
      "text/plain": [
       "False"
      ]
     },
     "execution_count": 1337,
     "metadata": {},
     "output_type": "execute_result"
    }
   ],
   "source": [
    "f(qca) > f(qcv)"
   ]
  },
  {
   "cell_type": "code",
   "execution_count": 1428,
   "metadata": {
    "autoscroll": "json-false",
    "collapsed": false,
    "ein.tags": [
     "worksheet-0"
    ],
    "slideshow": {
     "slide_type": "-"
    }
   },
   "outputs": [
    {
     "data": {
      "text/plain": [
       "array([ 0.12765455, -0.0513121 , -0.15187144,  0.12622154,  0.34062048])"
      ]
     },
     "execution_count": 1428,
     "metadata": {},
     "output_type": "execute_result"
    }
   ],
   "source": [
    "t.mean(axis=0)"
   ]
  },
  {
   "cell_type": "code",
   "execution_count": 1226,
   "metadata": {
    "autoscroll": "json-false",
    "collapsed": false,
    "ein.tags": [
     "worksheet-0"
    ],
    "slideshow": {
     "slide_type": "-"
    }
   },
   "outputs": [
    {
     "data": {
      "text/plain": [
       "0.22636498002044803"
      ]
     },
     "execution_count": 1226,
     "metadata": {},
     "output_type": "execute_result"
    }
   ],
   "source": [
    "sup+inf"
   ]
  },
  {
   "cell_type": "code",
   "execution_count": 1433,
   "metadata": {
    "autoscroll": "json-false",
    "collapsed": false,
    "ein.tags": [
     "worksheet-0"
    ],
    "slideshow": {
     "slide_type": "-"
    }
   },
   "outputs": [
    {
     "data": {
      "text/plain": [
       "array([ 0.74765738,  0.68192891,  0.78908483,  0.77472402,  1.57367396])"
      ]
     },
     "execution_count": 1433,
     "metadata": {},
     "output_type": "execute_result"
    }
   ],
   "source": [
    "t = X*r[:,None]\n",
    "# neg = np.ma.masked_where(t<0,t).mean(axis=0).data\n",
    "# pos = np.ma.masked_where(t>=0,t).mean(axis=0).data\n",
    "neg = (t*(t<0)).mean(axis=0)\n",
    "pos = (t*(t>=0)).mean(axis=0)\n",
    "aneg = np.abs(neg); apos = np.abs(pos)\n",
    "msk = aneg > apos\n",
    "val = np.array([neg,pos])\n",
    "bst = np.maximum(aneg,apos)\n",
    "wrst = np.minimum(aneg,apos)\n",
    "rsd = bst/(av*wrst)-1\n",
    "rsd0 = bst/(av*wrst)\n",
    "sup = rsd[rsd>0].sum();inf=-rsd[rsd<0].sum()\n",
    "bst/(2*wrst)\n"
   ]
  },
  {
   "cell_type": "code",
   "execution_count": 1218,
   "metadata": {
    "autoscroll": "json-false",
    "collapsed": false,
    "ein.tags": [
     "worksheet-0"
    ],
    "slideshow": {
     "slide_type": "-"
    }
   },
   "outputs": [
    {
     "data": {
      "text/plain": [
       "(array([ 5.17426314,  5.83144793,  6.2337369 ,  7.60393128,  8.09862684]),\n",
       " array([ 3.85248738,  4.41037797,  2.33943358,  3.91330858,  2.54698436]))"
      ]
     },
     "execution_count": 1218,
     "metadata": {},
     "output_type": "execute_result"
    }
   ],
   "source": [
    "bst,wrst"
   ]
  },
  {
   "cell_type": "code",
   "execution_count": 1146,
   "metadata": {
    "autoscroll": "json-false",
    "collapsed": false,
    "ein.tags": [
     "worksheet-0"
    ],
    "slideshow": {
     "slide_type": "-"
    }
   },
   "outputs": [
    {
     "data": {
      "text/plain": [
       "array([ 0.28139431, -0.16343968, -0.09617164, -0.18565251,  0.43110689])"
      ]
     },
     "execution_count": 1146,
     "metadata": {},
     "output_type": "execute_result"
    }
   ],
   "source": [
    "t = X*r[:,None]\n",
    "dir = -1*np.sign(t.mean(axis=0))\n",
    "t[np.sign(t)==dir] *= av\n",
    "q = t.mean(axis=0)\n",
    "# q[np.sign(q)==dir] = 0\n",
    "q\n"
   ]
  },
  {
   "cell_type": "code",
   "execution_count": 1149,
   "metadata": {
    "autoscroll": "json-false",
    "collapsed": false,
    "ein.tags": [
     "worksheet-0"
    ],
    "slideshow": {
     "slide_type": "-"
    }
   },
   "outputs": [
    {
     "data": {
      "text/plain": [
       "array([[ -1.88884337e+00,   4.24031626e-01,   9.16423681e-01,\n",
       "          1.55902095e+00,  -1.58600691e-01],\n",
       "       [ -5.64137487e-01,   3.11497296e-01,  -4.45345980e-01,\n",
       "         -2.05122403e-01,   9.00122285e-01],\n",
       "       [  6.50608657e-02,  -3.17207060e-01,  -3.48298692e-01,\n",
       "         -6.55449308e-03,  -2.64458972e-01],\n",
       "       [  7.20864763e-01,   1.10734813e+00,  -3.68231602e-01,\n",
       "         -4.16632829e-01,   1.56181806e+00],\n",
       "       [  3.51495098e-02,   1.24125839e-02,   2.75181490e-03,\n",
       "         -2.13800921e-02,   2.56470859e-02],\n",
       "       [  2.83096928e+00,  -4.13314708e-01,   8.86614721e-01,\n",
       "          6.44075885e-01,  -1.99749363e+00],\n",
       "       [  2.60483105e-01,   7.22541019e-01,  -2.45518085e-01,\n",
       "         -4.51541889e-01,   7.19487839e-02],\n",
       "       [ -4.48036292e-01,   8.71326213e-02,   1.70258442e-01,\n",
       "          5.37224214e-01,   6.34844189e-02],\n",
       "       [  2.86260819e+00,   9.12171142e-01,  -1.72573790e-01,\n",
       "          5.57309150e-01,   1.89033393e+00],\n",
       "       [ -5.39654776e-01,   3.66820417e-01,   4.55961365e-01,\n",
       "         -7.61482177e-02,   1.44386549e-01],\n",
       "       [  4.67741083e-02,  -1.07041930e-01,  -8.57626334e-02,\n",
       "          3.69888654e-02,  -1.10192134e-01],\n",
       "       [  2.63266864e-02,  -1.89272307e+00,   4.39942725e-01,\n",
       "         -9.24320544e-01,  -4.84483183e-01],\n",
       "       [  2.68172255e-01,   8.26514630e-01,   1.20866807e-01,\n",
       "          4.25719866e-01,   6.07687410e-01],\n",
       "       [  3.71664785e+00,  -5.71588821e-01,  -1.65468426e+00,\n",
       "         -1.52099255e+00,   2.89914335e+00],\n",
       "       [  9.65904307e-03,  -8.89880008e-01,  -6.15700653e-01,\n",
       "         -9.07177798e-02,  -2.84466763e-01],\n",
       "       [ -1.09046923e-01,  -3.05014159e-01,   1.64550656e-02,\n",
       "          1.39817336e-01,   2.53893954e-01],\n",
       "       [  2.12505237e+00,   1.91272495e-01,  -4.27350289e+00,\n",
       "          1.23446769e+00,   6.26175942e+00],\n",
       "       [ -1.41100994e-01,   4.77264558e-01,  -1.50728206e-02,\n",
       "         -7.29284317e-01,   7.04154688e-01],\n",
       "       [  1.23474195e-01,   2.73548006e-01,   1.14209595e-01,\n",
       "          1.87006217e-02,  -1.17178324e-01],\n",
       "       [ -4.08582167e-02,   1.21913791e-02,   2.71450566e-02,\n",
       "          1.90155307e-02,   7.15052215e-02]])"
      ]
     },
     "execution_count": 1149,
     "metadata": {},
     "output_type": "execute_result"
    }
   ],
   "source": [
    "t = X*r[:,None]\n",
    "t"
   ]
  },
  {
   "cell_type": "code",
   "execution_count": 722,
   "metadata": {
    "autoscroll": "json-false",
    "collapsed": false,
    "ein.tags": [
     "worksheet-0"
    ],
    "slideshow": {
     "slide_type": "-"
    }
   },
   "outputs": [
    {
     "data": {
      "text/plain": [
       "(0.11726201130148481, 0.099241727958028769)"
      ]
     },
     "execution_count": 722,
     "metadata": {},
     "output_type": "execute_result"
    }
   ],
   "source": [
    "f(qcv),f(q)"
   ]
  },
  {
   "cell_type": "code",
   "execution_count": 723,
   "metadata": {
    "autoscroll": "json-false",
    "collapsed": false,
    "ein.tags": [
     "worksheet-0"
    ],
    "slideshow": {
     "slide_type": "-"
    }
   },
   "outputs": [
    {
     "data": {
      "text/plain": [
       "False"
      ]
     },
     "execution_count": 723,
     "metadata": {},
     "output_type": "execute_result"
    }
   ],
   "source": [
    "f(qcv)<f(q)"
   ]
  },
  {
   "cell_type": "code",
   "execution_count": 235,
   "metadata": {
    "autoscroll": "json-false",
    "collapsed": false,
    "ein.tags": [
     "worksheet-0"
    ],
    "slideshow": {
     "slide_type": "-"
    }
   },
   "outputs": [
    {
     "data": {
      "text/plain": [
       "-0.31188001046677916"
      ]
     },
     "execution_count": 235,
     "metadata": {},
     "output_type": "execute_result"
    }
   ],
   "source": [
    "np.where(t>=0,t,2*t).mean()"
   ]
  },
  {
   "cell_type": "code",
   "execution_count": 226,
   "metadata": {
    "autoscroll": "json-false",
    "collapsed": false,
    "ein.tags": [
     "worksheet-0"
    ],
    "slideshow": {
     "slide_type": "-"
    }
   },
   "outputs": [
    {
     "data": {
      "image/svg": "<?xml version=\"1.0\" encoding=\"utf-8\" standalone=\"no\"?>\n<!DOCTYPE svg PUBLIC \"-//W3C//DTD SVG 1.1//EN\"\n  \"http://www.w3.org/Graphics/SVG/1.1/DTD/svg11.dtd\">\n<!-- Created with matplotlib (http://matplotlib.org/) -->\n<svg height=\"251pt\" version=\"1.1\" viewBox=\"0 0 385 251\" width=\"385pt\" xmlns=\"http://www.w3.org/2000/svg\" xmlns:xlink=\"http://www.w3.org/1999/xlink\">\n <defs>\n  <style type=\"text/css\">\n*{stroke-linecap:butt;stroke-linejoin:round;}\n  </style>\n </defs>\n <g id=\"figure_1\">\n  <g id=\"patch_1\">\n   <path d=\"M 0 251.195677 \nL 385.160158 251.195677 \nL 385.160158 0 \nL 0 0 \nz\n\" style=\"fill:none;\"/>\n  </g>\n  <g id=\"axes_1\">\n   <g id=\"patch_2\">\n    <path d=\"M 39.660158 228.14 \nL 374.460158 228.14 \nL 374.460158 10.7 \nL 39.660158 10.7 \nz\n\" style=\"fill:#ffffff;\"/>\n   </g>\n   <g id=\"matplotlib.axis_1\">\n    <g id=\"xtick_1\">\n     <g id=\"line2d_1\">\n      <defs>\n       <path d=\"M 0 0 \nL 0 3.5 \n\" id=\"m83be053a2e\" style=\"stroke:#000000;stroke-width:0.8;\"/>\n      </defs>\n      <g>\n       <use style=\"stroke:#000000;stroke-width:0.8;\" x=\"85.314703\" xlink:href=\"#m83be053a2e\" y=\"228.14\"/>\n      </g>\n     </g>\n     <g id=\"text_1\">\n      <!-- $-0.4$ -->\n      <defs>\n       <path d=\"M 65.90625 23 \nC 67.59375 23 69.40625 23 69.40625 25 \nC 69.40625 27 67.59375 27 65.90625 27 \nL 11.796875 27 \nC 10.09375 27 8.296875 27 8.296875 25 \nC 8.296875 23 10.09375 23 11.796875 23 \nz\n\" id=\"CMSY10-0\"/>\n       <path d=\"M 42 31.640625 \nC 42 37.75 41.90625 48.125 37.703125 56.109375 \nC 34 63.109375 28.09375 65.59375 22.90625 65.59375 \nC 18.09375 65.59375 12 63.40625 8.203125 56.203125 \nC 4.203125 48.71875 3.796875 39.4375 3.796875 31.640625 \nC 3.796875 25.953125 3.90625 17.28125 7 9.671875 \nC 11.296875 -0.609375 19 -2 22.90625 -2 \nC 27.5 -2 34.5 -0.109375 38.59375 9.375 \nC 41.59375 16.28125 42 24.359375 42 31.640625 \nM 22.90625 -0.40625 \nC 16.5 -0.40625 12.703125 5.078125 11.296875 12.6875 \nC 10.203125 18.5625 10.203125 27.15625 10.203125 32.75 \nC 10.203125 40.4375 10.203125 46.828125 11.5 52.921875 \nC 13.40625 61.390625 19 64 22.90625 64 \nC 27 64 32.296875 61.296875 34.203125 53.125 \nC 35.5 47.4375 35.59375 40.734375 35.59375 32.75 \nC 35.59375 26.25 35.59375 18.265625 34.40625 12.375 \nC 32.296875 1.484375 26.40625 -0.40625 22.90625 -0.40625 \n\" id=\"CMR17-48\"/>\n       <path d=\"M 18.40625 4.796875 \nC 18.40625 7.6875 16 9.671875 13.59375 9.671875 \nC 10.703125 9.671875 8.703125 7.28125 8.703125 4.890625 \nC 8.703125 2 11.09375 0 13.5 0 \nC 16.40625 0 18.40625 2.390625 18.40625 4.796875 \n\" id=\"CMMI12-58\"/>\n       <path d=\"M 33.59375 64.40625 \nC 33.59375 66.5 33.5 66.5 31.703125 66.5 \nL 2 19.59375 \nL 2 17 \nL 27.796875 17 \nL 27.796875 7.140625 \nC 27.796875 3.5 27.59375 2.5 20.59375 2.5 \nL 18.703125 2.5 \nL 18.703125 0 \nC 21.90625 0 27.296875 0 30.703125 0 \nC 34.09375 0 39.5 0 42.703125 0 \nL 42.703125 2.5 \nL 40.796875 2.5 \nC 33.796875 2.5 33.59375 3.5 33.59375 7.140625 \nL 33.59375 17 \nL 43.796875 17 \nL 43.796875 19.59375 \nL 33.59375 19.59375 \nz\nM 28.09375 57.859375 \nL 28.09375 19.59375 \nL 4 19.59375 \nz\n\" id=\"CMR17-52\"/>\n      </defs>\n      <g transform=\"translate(75.075292 242.058498)scale(0.1 -0.1)\">\n       <use transform=\"scale(0.996264)\" xlink:href=\"#CMSY10-0\"/>\n       <use transform=\"translate(77.487468 0)scale(0.996264)\" xlink:href=\"#CMR17-48\"/>\n       <use transform=\"translate(123.177945 0)scale(0.996264)\" xlink:href=\"#CMMI12-58\"/>\n       <use transform=\"translate(150.275122 0)scale(0.996264)\" xlink:href=\"#CMR17-52\"/>\n      </g>\n     </g>\n    </g>\n    <g id=\"xtick_2\">\n     <g id=\"line2d_2\">\n      <g>\n       <use style=\"stroke:#000000;stroke-width:0.8;\" x=\"146.187431\" xlink:href=\"#m83be053a2e\" y=\"228.14\"/>\n      </g>\n     </g>\n     <g id=\"text_2\">\n      <!-- $-0.2$ -->\n      <defs>\n       <path d=\"M 41.703125 15.453125 \nL 39.90625 15.453125 \nC 38.90625 8.375 38.09375 7.171875 37.703125 6.5625 \nC 37.203125 5.765625 30 5.765625 28.59375 5.765625 \nL 9.40625 5.765625 \nC 13 9.671875 20 16.75 28.5 24.953125 \nC 34.59375 30.734375 41.703125 37.53125 41.703125 47.421875 \nC 41.703125 59.21875 32.296875 66 21.796875 66 \nC 10.796875 66 4.09375 56.3125 4.09375 47.34375 \nC 4.09375 43.4375 7 42.9375 8.203125 42.9375 \nC 9.203125 42.9375 12.203125 43.546875 12.203125 47.03125 \nC 12.203125 50.109375 9.59375 51 8.203125 51 \nC 7.59375 51 7 50.90625 6.59375 50.703125 \nC 8.5 59.21875 14.296875 63.40625 20.40625 63.40625 \nC 29.09375 63.40625 34.796875 56.515625 34.796875 47.421875 \nC 34.796875 38.734375 29.703125 31.25 24 24.75 \nL 4.09375 2.28125 \nL 4.09375 0 \nL 39.296875 0 \nz\n\" id=\"CMR17-50\"/>\n      </defs>\n      <g transform=\"translate(135.948019 242.058498)scale(0.1 -0.1)\">\n       <use transform=\"scale(0.996264)\" xlink:href=\"#CMSY10-0\"/>\n       <use transform=\"translate(77.487468 0)scale(0.996264)\" xlink:href=\"#CMR17-48\"/>\n       <use transform=\"translate(123.177945 0)scale(0.996264)\" xlink:href=\"#CMMI12-58\"/>\n       <use transform=\"translate(150.275122 0)scale(0.996264)\" xlink:href=\"#CMR17-50\"/>\n      </g>\n     </g>\n    </g>\n    <g id=\"xtick_3\">\n     <g id=\"line2d_3\">\n      <g>\n       <use style=\"stroke:#000000;stroke-width:0.8;\" x=\"207.060158\" xlink:href=\"#m83be053a2e\" y=\"228.14\"/>\n      </g>\n     </g>\n     <g id=\"text_3\">\n      <!-- $0.0$ -->\n      <g transform=\"translate(200.695118 242.058498)scale(0.1 -0.1)\">\n       <use transform=\"scale(0.996264)\" xlink:href=\"#CMR17-48\"/>\n       <use transform=\"translate(45.690477 0)scale(0.996264)\" xlink:href=\"#CMMI12-58\"/>\n       <use transform=\"translate(72.787654 0)scale(0.996264)\" xlink:href=\"#CMR17-48\"/>\n      </g>\n     </g>\n    </g>\n    <g id=\"xtick_4\">\n     <g id=\"line2d_4\">\n      <g>\n       <use style=\"stroke:#000000;stroke-width:0.8;\" x=\"267.932885\" xlink:href=\"#m83be053a2e\" y=\"228.14\"/>\n      </g>\n     </g>\n     <g id=\"text_4\">\n      <!-- $0.2$ -->\n      <g transform=\"translate(261.567846 242.058498)scale(0.1 -0.1)\">\n       <use transform=\"scale(0.996264)\" xlink:href=\"#CMR17-48\"/>\n       <use transform=\"translate(45.690477 0)scale(0.996264)\" xlink:href=\"#CMMI12-58\"/>\n       <use transform=\"translate(72.787654 0)scale(0.996264)\" xlink:href=\"#CMR17-50\"/>\n      </g>\n     </g>\n    </g>\n    <g id=\"xtick_5\">\n     <g id=\"line2d_5\">\n      <g>\n       <use style=\"stroke:#000000;stroke-width:0.8;\" x=\"328.805612\" xlink:href=\"#m83be053a2e\" y=\"228.14\"/>\n      </g>\n     </g>\n     <g id=\"text_5\">\n      <!-- $0.4$ -->\n      <g transform=\"translate(322.440573 242.058498)scale(0.1 -0.1)\">\n       <use transform=\"scale(0.996264)\" xlink:href=\"#CMR17-48\"/>\n       <use transform=\"translate(45.690477 0)scale(0.996264)\" xlink:href=\"#CMMI12-58\"/>\n       <use transform=\"translate(72.787654 0)scale(0.996264)\" xlink:href=\"#CMR17-52\"/>\n      </g>\n     </g>\n    </g>\n   </g>\n   <g id=\"matplotlib.axis_2\">\n    <g id=\"ytick_1\">\n     <g id=\"line2d_6\">\n      <defs>\n       <path d=\"M 0 0 \nL -3.5 0 \n\" id=\"m74f01dfc26\" style=\"stroke:#000000;stroke-width:0.8;\"/>\n      </defs>\n      <g>\n       <use style=\"stroke:#000000;stroke-width:0.8;\" x=\"39.660158\" xlink:href=\"#m74f01dfc26\" y=\"211.661266\"/>\n      </g>\n     </g>\n     <g id=\"text_6\">\n      <!-- $-0.20$ -->\n      <g transform=\"translate(7.2 215.120515)scale(0.1 -0.1)\">\n       <use transform=\"scale(0.996264)\" xlink:href=\"#CMSY10-0\"/>\n       <use transform=\"translate(77.487468 0)scale(0.996264)\" xlink:href=\"#CMR17-48\"/>\n       <use transform=\"translate(123.177945 0)scale(0.996264)\" xlink:href=\"#CMMI12-58\"/>\n       <use transform=\"translate(150.275122 0)scale(0.996264)\" xlink:href=\"#CMR17-50\"/>\n       <use transform=\"translate(195.965599 0)scale(0.996264)\" xlink:href=\"#CMR17-48\"/>\n      </g>\n     </g>\n    </g>\n    <g id=\"ytick_2\">\n     <g id=\"line2d_7\">\n      <g>\n       <use style=\"stroke:#000000;stroke-width:0.8;\" x=\"39.660158\" xlink:href=\"#m74f01dfc26\" y=\"180.020451\"/>\n      </g>\n     </g>\n     <g id=\"text_7\">\n      <!-- $-0.18$ -->\n      <defs>\n       <path d=\"M 26.59375 63.40625 \nC 26.59375 65.5 26.5 65.5 25.09375 65.5 \nC 21.203125 61.1875 15.296875 59.796875 9.703125 59.796875 \nC 9.40625 59.796875 8.90625 59.796875 8.796875 59.5 \nC 8.703125 59.296875 8.703125 59.09375 8.703125 57 \nC 11.796875 57 17 57.59375 21 59.984375 \nL 21 7.203125 \nC 21 3.6875 20.796875 2.5 12.203125 2.5 \nL 9.203125 2.5 \nL 9.203125 0 \nC 14 0 19 0 23.796875 0 \nC 28.59375 0 33.59375 0 38.40625 0 \nL 38.40625 2.5 \nL 35.40625 2.5 \nC 26.796875 2.5 26.59375 3.59375 26.59375 7.15625 \nz\n\" id=\"CMR17-49\"/>\n       <path d=\"M 27.203125 35.375 \nC 33.5 38.546875 39.90625 43.328125 39.90625 50.984375 \nC 39.90625 60.015625 31.09375 65.296875 23 65.296875 \nC 13.90625 65.296875 5.90625 58.734375 5.90625 49.6875 \nC 5.90625 47.203125 6.5 42.921875 10.40625 39.140625 \nC 11.40625 38.15625 15.59375 35.171875 18.296875 33.28125 \nC 13.796875 30.984375 3.296875 25.53125 3.296875 14.59375 \nC 3.296875 4.359375 13.09375 -2 22.796875 -2 \nC 33.5 -2 42.5 5.65625 42.5 15.78125 \nC 42.5 24.84375 36.40625 29.015625 32.40625 31.703125 \nz\nM 14.09375 44.09375 \nC 13.296875 44.59375 9.296875 47.671875 9.296875 52.359375 \nC 9.296875 58.421875 15.59375 63 22.796875 63 \nC 30.703125 63 36.5 57.4375 36.5 50.96875 \nC 36.5 41.703125 26.09375 36.421875 25.59375 36.421875 \nC 25.5 36.421875 25.40625 36.421875 24.59375 37.03125 \nz\nM 32.5 23.734375 \nC 34 22.640625 38.796875 19.375 38.796875 13.296875 \nC 38.796875 5.953125 31.40625 0.390625 23 0.390625 \nC 13.90625 0.390625 7 6.84375 7 14.6875 \nC 7 22.546875 13.09375 29.09375 20 32.1875 \nz\n\" id=\"CMR17-56\"/>\n      </defs>\n      <g transform=\"translate(7.2 183.4797)scale(0.1 -0.1)\">\n       <use transform=\"scale(0.996264)\" xlink:href=\"#CMSY10-0\"/>\n       <use transform=\"translate(77.487468 0)scale(0.996264)\" xlink:href=\"#CMR17-48\"/>\n       <use transform=\"translate(123.177945 0)scale(0.996264)\" xlink:href=\"#CMMI12-58\"/>\n       <use transform=\"translate(150.275122 0)scale(0.996264)\" xlink:href=\"#CMR17-49\"/>\n       <use transform=\"translate(195.965599 0)scale(0.996264)\" xlink:href=\"#CMR17-56\"/>\n      </g>\n     </g>\n    </g>\n    <g id=\"ytick_3\">\n     <g id=\"line2d_8\">\n      <g>\n       <use style=\"stroke:#000000;stroke-width:0.8;\" x=\"39.660158\" xlink:href=\"#m74f01dfc26\" y=\"148.379636\"/>\n      </g>\n     </g>\n     <g id=\"text_8\">\n      <!-- $-0.16$ -->\n      <defs>\n       <path d=\"M 10.59375 34 \nC 10.59375 57.65625 21.796875 63 28.296875 63 \nC 30.40625 63 35.5 62.640625 37.5 59 \nC 35.90625 59 32.90625 59 32.90625 55.515625 \nC 32.90625 52.828125 35.09375 51.921875 36.5 51.921875 \nC 37.40625 51.921875 40.09375 52.3125 40.09375 55.625 \nC 40.09375 61.78125 35.09375 65.296875 28.203125 65.296875 \nC 16.296875 65.296875 3.796875 52.96875 3.796875 31 \nC 3.796875 3.953125 15.09375 -2 23.09375 -2 \nC 32.796875 -2 42 6.671875 42 20.046875 \nC 42 32.515625 33.90625 41.59375 23.703125 41.59375 \nC 17.59375 41.59375 13.09375 37.609375 10.59375 30.625 \nz\nM 23.09375 0.390625 \nC 10.796875 0.390625 10.796875 18.75 10.796875 22.4375 \nC 10.796875 29.625 14.203125 40 23.5 40 \nC 25.203125 40 30.09375 40 33.40625 33.125 \nC 35.203125 29.21875 35.203125 25.140625 35.203125 20.140625 \nC 35.203125 14.75 35.203125 10.78125 33.09375 6.78125 \nC 30.90625 2.671875 27.703125 0.390625 23.09375 0.390625 \n\" id=\"CMR17-54\"/>\n      </defs>\n      <g transform=\"translate(7.2 151.838886)scale(0.1 -0.1)\">\n       <use transform=\"scale(0.996264)\" xlink:href=\"#CMSY10-0\"/>\n       <use transform=\"translate(77.487468 0)scale(0.996264)\" xlink:href=\"#CMR17-48\"/>\n       <use transform=\"translate(123.177945 0)scale(0.996264)\" xlink:href=\"#CMMI12-58\"/>\n       <use transform=\"translate(150.275122 0)scale(0.996264)\" xlink:href=\"#CMR17-49\"/>\n       <use transform=\"translate(195.965599 0)scale(0.996264)\" xlink:href=\"#CMR17-54\"/>\n      </g>\n     </g>\n    </g>\n    <g id=\"ytick_4\">\n     <g id=\"line2d_9\">\n      <g>\n       <use style=\"stroke:#000000;stroke-width:0.8;\" x=\"39.660158\" xlink:href=\"#m74f01dfc26\" y=\"116.738822\"/>\n      </g>\n     </g>\n     <g id=\"text_9\">\n      <!-- $-0.14$ -->\n      <g transform=\"translate(7.2 120.198071)scale(0.1 -0.1)\">\n       <use transform=\"scale(0.996264)\" xlink:href=\"#CMSY10-0\"/>\n       <use transform=\"translate(77.487468 0)scale(0.996264)\" xlink:href=\"#CMR17-48\"/>\n       <use transform=\"translate(123.177945 0)scale(0.996264)\" xlink:href=\"#CMMI12-58\"/>\n       <use transform=\"translate(150.275122 0)scale(0.996264)\" xlink:href=\"#CMR17-49\"/>\n       <use transform=\"translate(195.965599 0)scale(0.996264)\" xlink:href=\"#CMR17-52\"/>\n      </g>\n     </g>\n    </g>\n    <g id=\"ytick_5\">\n     <g id=\"line2d_10\">\n      <g>\n       <use style=\"stroke:#000000;stroke-width:0.8;\" x=\"39.660158\" xlink:href=\"#m74f01dfc26\" y=\"85.098007\"/>\n      </g>\n     </g>\n     <g id=\"text_10\">\n      <!-- $-0.12$ -->\n      <g transform=\"translate(7.2 88.557257)scale(0.1 -0.1)\">\n       <use transform=\"scale(0.996264)\" xlink:href=\"#CMSY10-0\"/>\n       <use transform=\"translate(77.487468 0)scale(0.996264)\" xlink:href=\"#CMR17-48\"/>\n       <use transform=\"translate(123.177945 0)scale(0.996264)\" xlink:href=\"#CMMI12-58\"/>\n       <use transform=\"translate(150.275122 0)scale(0.996264)\" xlink:href=\"#CMR17-49\"/>\n       <use transform=\"translate(195.965599 0)scale(0.996264)\" xlink:href=\"#CMR17-50\"/>\n      </g>\n     </g>\n    </g>\n    <g id=\"ytick_6\">\n     <g id=\"line2d_11\">\n      <g>\n       <use style=\"stroke:#000000;stroke-width:0.8;\" x=\"39.660158\" xlink:href=\"#m74f01dfc26\" y=\"53.457193\"/>\n      </g>\n     </g>\n     <g id=\"text_11\">\n      <!-- $-0.10$ -->\n      <g transform=\"translate(7.2 56.916442)scale(0.1 -0.1)\">\n       <use transform=\"scale(0.996264)\" xlink:href=\"#CMSY10-0\"/>\n       <use transform=\"translate(77.487468 0)scale(0.996264)\" xlink:href=\"#CMR17-48\"/>\n       <use transform=\"translate(123.177945 0)scale(0.996264)\" xlink:href=\"#CMMI12-58\"/>\n       <use transform=\"translate(150.275122 0)scale(0.996264)\" xlink:href=\"#CMR17-49\"/>\n       <use transform=\"translate(195.965599 0)scale(0.996264)\" xlink:href=\"#CMR17-48\"/>\n      </g>\n     </g>\n    </g>\n    <g id=\"ytick_7\">\n     <g id=\"line2d_12\">\n      <g>\n       <use style=\"stroke:#000000;stroke-width:0.8;\" x=\"39.660158\" xlink:href=\"#m74f01dfc26\" y=\"21.816378\"/>\n      </g>\n     </g>\n     <g id=\"text_12\">\n      <!-- $-0.08$ -->\n      <g transform=\"translate(7.2 25.275627)scale(0.1 -0.1)\">\n       <use transform=\"scale(0.996264)\" xlink:href=\"#CMSY10-0\"/>\n       <use transform=\"translate(77.487468 0)scale(0.996264)\" xlink:href=\"#CMR17-48\"/>\n       <use transform=\"translate(123.177945 0)scale(0.996264)\" xlink:href=\"#CMMI12-58\"/>\n       <use transform=\"translate(150.275122 0)scale(0.996264)\" xlink:href=\"#CMR17-48\"/>\n       <use transform=\"translate(195.965599 0)scale(0.996264)\" xlink:href=\"#CMR17-56\"/>\n      </g>\n     </g>\n    </g>\n   </g>\n   <g id=\"line2d_13\">\n    <path clip-path=\"url(#p2e91bdea63)\" d=\"M 54.87834 218.256364 \nL 61.089843 202.442545 \nL 67.301345 187.287636 \nL 73.512848 172.791636 \nL 79.724351 158.954545 \nL 85.935854 145.776364 \nL 92.147356 133.257091 \nL 98.358859 121.396727 \nL 104.570362 110.195273 \nL 110.781865 99.652727 \nL 116.993368 89.769091 \nL 123.20487 80.544364 \nL 129.416373 71.978545 \nL 135.627876 64.071636 \nL 141.839379 56.823636 \nL 148.050882 50.234545 \nL 154.262384 44.304364 \nL 160.473887 39.033091 \nL 166.68539 34.420727 \nL 172.896893 30.467273 \nL 179.108395 27.172727 \nL 185.319898 24.537091 \nL 191.531401 22.560364 \nL 197.742904 21.242545 \nL 203.954407 20.583636 \nL 210.165909 20.583636 \nL 216.377412 21.242545 \nL 222.588915 22.560364 \nL 228.800418 24.537091 \nL 235.01192 27.172727 \nL 241.223423 30.467273 \nL 247.434926 34.420727 \nL 253.646429 39.033091 \nL 259.857932 44.304364 \nL 266.069434 50.234545 \nL 272.280937 56.823636 \nL 278.49244 64.071636 \nL 284.703943 71.978545 \nL 290.915446 80.544364 \nL 297.126948 89.769091 \nL 303.338451 99.652727 \nL 309.549954 110.195273 \nL 315.761457 121.396727 \nL 321.972959 133.257091 \nL 328.184462 145.776364 \nL 334.395965 158.954545 \nL 340.607468 172.791636 \nL 346.818971 187.287636 \nL 353.030473 202.442545 \nL 359.241976 218.256364 \n\" style=\"fill:none;stroke:#1f77b4;stroke-linecap:square;stroke-width:1.5;\"/>\n   </g>\n   <g id=\"patch_3\">\n    <path d=\"M 39.660158 228.14 \nL 39.660158 10.7 \n\" style=\"fill:none;stroke:#000000;stroke-linecap:square;stroke-linejoin:miter;stroke-width:0.8;\"/>\n   </g>\n   <g id=\"patch_4\">\n    <path d=\"M 374.460158 228.14 \nL 374.460158 10.7 \n\" style=\"fill:none;stroke:#000000;stroke-linecap:square;stroke-linejoin:miter;stroke-width:0.8;\"/>\n   </g>\n   <g id=\"patch_5\">\n    <path d=\"M 39.660158 228.14 \nL 374.460158 228.14 \n\" style=\"fill:none;stroke:#000000;stroke-linecap:square;stroke-linejoin:miter;stroke-width:0.8;\"/>\n   </g>\n   <g id=\"patch_6\">\n    <path d=\"M 39.660158 10.7 \nL 374.460158 10.7 \n\" style=\"fill:none;stroke:#000000;stroke-linecap:square;stroke-linejoin:miter;stroke-width:0.8;\"/>\n   </g>\n  </g>\n </g>\n <defs>\n  <clipPath id=\"p2e91bdea63\">\n   <rect height=\"217.44\" width=\"334.8\" x=\"39.660158\" y=\"10.7\"/>\n  </clipPath>\n </defs>\n</svg>\n",
      "text/plain": [
       "<matplotlib.figure.Figure at 0x113b63e48>"
      ]
     },
     "metadata": {},
     "output_type": "display_data"
    },
    {
     "data": {
      "text/plain": [
       "[<matplotlib.lines.Line2D at 0x11ad36cf8>]"
      ]
     },
     "execution_count": 226,
     "metadata": {},
     "output_type": "execute_result"
    }
   ],
   "source": [
    "q = np.linspace(-0.5,0.5)\n",
    "plt.plot(q,f(q))"
   ]
  },
  {
   "cell_type": "code",
   "execution_count": 50,
   "metadata": {
    "autoscroll": "json-false",
    "collapsed": false,
    "ein.tags": [
     "worksheet-0"
    ],
    "slideshow": {
     "slide_type": "-"
    }
   },
   "outputs": [
    {
     "data": {
      "text/plain": [
       "array([-0.571097  , -0.28041675])"
      ]
     },
     "execution_count": 50,
     "metadata": {},
     "output_type": "execute_result"
    }
   ],
   "source": [
    "means = (X*r[:,None]).mean(axis=1)\n",
    "mul = np.where(means>=0,1,2)\n",
    "((X*r[:,None])*mul[:,None]).mean(axis=0)"
   ]
  },
  {
   "cell_type": "code",
   "execution_count": 51,
   "metadata": {
    "autoscroll": "json-false",
    "collapsed": true,
    "ein.tags": [
     "worksheet-0"
    ],
    "slideshow": {
     "slide_type": "-"
    }
   },
   "outputs": [
    {
     "data": {
      "text/plain": [
       "array([  1.61173164e+00,  -3.42009597e-01,   1.87739248e-01,\n",
       "        -9.59745553e-01,   7.54076444e-01,  -2.31739871e+00,\n",
       "        -3.19847683e+00,  -3.62568392e+00,  -8.17120548e-02,\n",
       "        -6.18436656e-02,  -2.22758004e-03,  -3.07097257e+00,\n",
       "         1.29739431e-01,   1.59554156e+00,   5.71636316e-01,\n",
       "         5.32962465e-01,  -4.58292695e-01,  -2.27430488e-01,\n",
       "         3.44627924e-01,   1.02601084e-01])"
      ]
     },
     "execution_count": 51,
     "metadata": {},
     "output_type": "execute_result"
    }
   ],
   "source": [
    "lu(2)(means)"
   ]
  },
  {
   "cell_type": "code",
   "execution_count": 63,
   "metadata": {
    "autoscroll": "json-false",
    "collapsed": true,
    "ein.tags": [
     "worksheet-0"
    ],
    "slideshow": {
     "slide_type": "-"
    }
   },
   "outputs": [
    {
     "data": {
      "text/plain": [
       "array([[  2.36173655e+00,   8.61726733e-01],\n",
       "       [ -5.05164553e-02,  -2.91493142e-01],\n",
       "       [ -2.98150564e-02,   4.05293552e-01],\n",
       "       [ -6.28402947e-01,  -3.31342606e-01],\n",
       "       [  1.17314093e+00,   3.35011961e-01],\n",
       "       [  1.14340479e-01,  -2.43173918e+00],\n",
       "       [ -2.17330687e+00,  -1.02516996e+00],\n",
       "       [ -2.23108080e+00,  -1.39460311e+00],\n",
       "       [  8.47375522e-02,  -1.66449607e-01],\n",
       "       [ -1.45485591e-02,  -4.72951066e-02],\n",
       "       [ -3.26820258e-04,  -1.90075979e-03],\n",
       "       [ -2.72234164e+00,  -3.48630936e-01],\n",
       "       [  7.71515798e-02,   1.82327282e-01],\n",
       "       [  1.75286147e+00,   1.43822164e+00],\n",
       "       [  3.03628851e-01,   8.39643781e-01],\n",
       "       [  4.85603151e-01,   5.80321779e-01],\n",
       "       [ -1.24094433e+00,   7.82651632e-01],\n",
       "       [ -3.43592178e-01,   1.16161690e-01],\n",
       "       [  3.10655418e-01,   3.78600431e-01],\n",
       "       [  5.55062154e-01,  -3.49859987e-01]])"
      ]
     },
     "execution_count": 63,
     "metadata": {},
     "output_type": "execute_result"
    }
   ],
   "source": [
    "t = X*r[:,None]\n",
    "t"
   ]
  },
  {
   "cell_type": "code",
   "execution_count": 82,
   "metadata": {
    "autoscroll": "json-false",
    "collapsed": true,
    "ein.tags": [
     "worksheet-0"
    ],
    "slideshow": {
     "slide_type": "-"
    }
   },
   "outputs": [
    {
     "data": {
      "text/plain": [
       "array([[  2.36173655e+00,   8.61726733e-01],\n",
       "       [ -2.52582276e-02,  -1.45746571e-01],\n",
       "       [ -1.49075282e-02,   4.05293552e-01],\n",
       "       [ -3.14201473e-01,  -1.65671303e-01],\n",
       "       [  1.17314093e+00,   3.35011961e-01],\n",
       "       [  1.14340479e-01,  -1.21586959e+00],\n",
       "       [ -1.08665344e+00,  -5.12584978e-01],\n",
       "       [ -1.11554040e+00,  -6.97301557e-01],\n",
       "       [  8.47375522e-02,  -8.32248035e-02],\n",
       "       [ -7.27427953e-03,  -2.36475533e-02],\n",
       "       [ -1.63410129e-04,  -9.50379893e-04],\n",
       "       [ -1.36117082e+00,  -1.74315468e-01],\n",
       "       [  7.71515798e-02,   1.82327282e-01],\n",
       "       [  1.75286147e+00,   1.43822164e+00],\n",
       "       [  3.03628851e-01,   8.39643781e-01],\n",
       "       [  4.85603151e-01,   5.80321779e-01],\n",
       "       [ -6.20472163e-01,   7.82651632e-01],\n",
       "       [ -1.71796089e-01,   1.16161690e-01],\n",
       "       [  3.10655418e-01,   3.78600431e-01],\n",
       "       [  5.55062154e-01,  -1.74929993e-01]])"
      ]
     },
     "execution_count": 82,
     "metadata": {},
     "output_type": "execute_result"
    }
   ],
   "source": [
    "t2 = np.s(t>=0,t,0.5*t)\n",
    "t2"
   ]
  },
  {
   "cell_type": "code",
   "execution_count": 86,
   "metadata": {
    "autoscroll": "json-false",
    "collapsed": false,
    "ein.tags": [
     "worksheet-0"
    ],
    "slideshow": {
     "slide_type": "-"
    }
   },
   "outputs": [
    {
     "data": {
      "text/plain": [
       "array([10, 10])"
      ]
     },
     "execution_count": 86,
     "metadata": {},
     "output_type": "execute_result"
    }
   ],
   "source": [
    "np.sum(t<0,axis=0)"
   ]
  },
  {
   "cell_type": "code",
   "execution_count": 104,
   "metadata": {
    "autoscroll": "json-false",
    "collapsed": false,
    "ein.tags": [
     "worksheet-0"
    ],
    "slideshow": {
     "slide_type": "-"
    }
   },
   "outputs": [],
   "source": [
    "X = np.array([[1],[1],[-1]]);\n",
    "r = np.array([1,1,1]);"
   ]
  },
  {
   "cell_type": "code",
   "execution_count": 103,
   "metadata": {
    "autoscroll": "json-false",
    "collapsed": false,
    "ein.tags": [
     "worksheet-0"
    ],
    "slideshow": {
     "slide_type": "-"
    }
   },
   "outputs": [
    {
     "data": {
      "text/plain": [
       "7.0821676234697769e-06"
      ]
     },
     "execution_count": 103,
     "metadata": {},
     "output_type": "execute_result"
    }
   ],
   "source": [
    "solve(np.array([[1],[1],[-1]]),np.array([1,1,1]),1/2,lu(2))"
   ]
  },
  {
   "cell_type": "code",
   "execution_count": 139,
   "metadata": {
    "autoscroll": "json-false",
    "collapsed": false,
    "ein.tags": [
     "worksheet-0"
    ],
    "slideshow": {
     "slide_type": "-"
    }
   },
   "outputs": [
    {
     "data": {
      "text/plain": [
       "-0.50709579062664289"
      ]
     },
     "execution_count": 139,
     "metadata": {},
     "output_type": "execute_result"
    }
   ],
   "source": [
    "t = (X*r[:,None])\n",
    "np.where(t>=0,t,2*t).mean()"
   ]
  },
  {
   "cell_type": "code",
   "execution_count": 140,
   "metadata": {
    "autoscroll": "json-false",
    "collapsed": false,
    "ein.tags": [
     "worksheet-0"
    ],
    "slideshow": {
     "slide_type": "-"
    }
   },
   "outputs": [
    {
     "data": {
      "text/plain": [
       "-2.0352826803610556e-11"
      ]
     },
     "execution_count": 140,
     "metadata": {},
     "output_type": "execute_result"
    }
   ],
   "source": [
    "solve(X,r,1/2,lu(2))"
   ]
  },
  {
   "cell_type": "code",
   "execution_count": 207,
   "metadata": {
    "autoscroll": "json-false",
    "collapsed": false,
    "ein.tags": [
     "worksheet-0"
    ],
    "slideshow": {
     "slide_type": "-"
    }
   },
   "outputs": [
    {
     "data": {
      "text/plain": [
       "array([[ 1,  1],\n",
       "       [-2, -1],\n",
       "       [-3,  2]])"
      ]
     },
     "execution_count": 207,
     "metadata": {},
     "output_type": "execute_result"
    }
   ],
   "source": [
    "t"
   ]
  },
  {
   "cell_type": "code",
   "execution_count": 197,
   "metadata": {
    "autoscroll": "json-false",
    "collapsed": false,
    "ein.tags": [
     "worksheet-0"
    ],
    "slideshow": {
     "slide_type": "-"
    }
   },
   "outputs": [
    {
     "data": {
      "text/plain": [
       "6"
      ]
     },
     "execution_count": 197,
     "metadata": {},
     "output_type": "execute_result"
    }
   ],
   "source": [
    "lu(2)(t@[-1,1]).sum()"
   ]
  },
  {
   "cell_type": "code",
   "execution_count": 218,
   "metadata": {
    "autoscroll": "json-false",
    "collapsed": false,
    "ein.tags": [
     "worksheet-0"
    ],
    "slideshow": {
     "slide_type": "-"
    }
   },
   "outputs": [
    {
     "data": {
      "text/plain": [
       "array([[ 11,   3],\n",
       "       [-25,   0],\n",
       "       [-48,  21]])"
      ]
     },
     "execution_count": 218,
     "metadata": {},
     "output_type": "execute_result"
    }
   ],
   "source": [
    "tt = (X@X.T)@t\n",
    "tt"
   ]
  },
  {
   "cell_type": "code",
   "execution_count": 224,
   "metadata": {
    "autoscroll": "json-false",
    "collapsed": false,
    "ein.tags": [
     "worksheet-0"
    ],
    "slideshow": {
     "slide_type": "-"
    }
   },
   "outputs": [],
   "source": [
    "beta = np.abs(tt.sum(axis=1))/6"
   ]
  },
  {
   "cell_type": "code",
   "execution_count": 239,
   "metadata": {
    "autoscroll": "json-false",
    "collapsed": false,
    "ein.tags": [
     "worksheet-0"
    ],
    "slideshow": {
     "slide_type": "-"
    }
   },
   "outputs": [
    {
     "data": {
      "text/plain": [
       "array([ -2.10167983e+16,  -1.50119988e+16,   3.00239975e+15])"
      ]
     },
     "execution_count": 239,
     "metadata": {},
     "output_type": "execute_result"
    }
   ],
   "source": [
    "la.solve(X@X.T,beta)"
   ]
  },
  {
   "cell_type": "code",
   "execution_count": 400,
   "metadata": {
    "autoscroll": "json-false",
    "collapsed": false,
    "ein.tags": [
     "worksheet-0"
    ],
    "slideshow": {
     "slide_type": "-"
    }
   },
   "outputs": [
    {
     "data": {
      "text/plain": [
       "array([-0.00466822,  0.18704467, -0.06373011,  0.01001069,  0.03938958])"
      ]
     },
     "execution_count": 400,
     "metadata": {},
     "output_type": "execute_result"
    }
   ],
   "source": [
    "qcv\n",
    "al = solved(X,r,1/2,lu(2))\n",
    "al"
   ]
  },
  {
   "cell_type": "code",
   "execution_count": 408,
   "metadata": {
    "autoscroll": "json-false",
    "collapsed": false,
    "ein.tags": [
     "worksheet-0"
    ],
    "slideshow": {
     "slide_type": "-"
    }
   },
   "outputs": [
    {
     "data": {
      "text/plain": [
       "array([  9.,  25.,   1.,  36.,  64.])"
      ]
     },
     "execution_count": 408,
     "metadata": {},
     "output_type": "execute_result"
    }
   ],
   "source": [
    "r = t.sum(axis=1)\n",
    "r"
   ]
  },
  {
   "cell_type": "code",
   "execution_count": 415,
   "metadata": {
    "autoscroll": "json-false",
    "collapsed": false,
    "ein.tags": [
     "worksheet-0"
    ],
    "slideshow": {
     "slide_type": "-"
    }
   },
   "outputs": [
    {
     "data": {
      "text/plain": [
       "array([ 0.11524264,  0.32011844,  0.01280474,  0.46097055,  0.81950321])"
      ]
     },
     "execution_count": 415,
     "metadata": {},
     "output_type": "execute_result"
    }
   ],
   "source": [
    "s = r/la.norm(r)\n",
    "s\n"
   ]
  },
  {
   "cell_type": "code",
   "execution_count": 420,
   "metadata": {
    "autoscroll": "json-false",
    "collapsed": false,
    "ein.tags": [
     "worksheet-0"
    ],
    "slideshow": {
     "slide_type": "-"
    }
   },
   "outputs": [
    {
     "data": {
      "text/plain": [
       "array([[  6.91455831e-01,  -1.38291166e+00,   1.72863958e+00],\n",
       "       [ -6.40236880e+00,   6.40236880e+00,   8.00296100e+00],\n",
       "       [  0.00000000e+00,  -2.56094752e-02,   3.84142128e-02],\n",
       "       [  1.10632933e+01,   0.00000000e+00,   5.53164665e+00],\n",
       "       [  2.62241026e+01,  -6.55602565e+00,   3.27801283e+01]])"
      ]
     },
     "execution_count": 420,
     "metadata": {},
     "output_type": "execute_result"
    }
   ],
   "source": [
    "q = la.pinv(t)@s\n",
    "t*s[:,None]"
   ]
  },
  {
   "cell_type": "code",
   "execution_count": 442,
   "metadata": {
    "autoscroll": "json-false",
    "collapsed": false,
    "ein.tags": [
     "worksheet-0"
    ],
    "slideshow": {
     "slide_type": "-"
    }
   },
   "outputs": [
    {
     "data": {
      "text/plain": [
       "array([  3.37787681e+00,   2.01900482e+00,   4.27050285e-04,\n",
       "        -6.79863048e-01,   5.85625716e+00])"
      ]
     },
     "execution_count": 442,
     "metadata": {},
     "output_type": "execute_result"
    }
   ],
   "source": [
    "t@qcv"
   ]
  },
  {
   "cell_type": "code",
   "execution_count": 488,
   "metadata": {
    "autoscroll": "json-false",
    "collapsed": false,
    "ein.tags": [
     "worksheet-0"
    ],
    "slideshow": {
     "slide_type": "-"
    }
   },
   "outputs": [
    {
     "data": {
      "text/plain": [
       "32.326459750489221"
      ]
     },
     "execution_count": 488,
     "metadata": {},
     "output_type": "execute_result"
    }
   ],
   "source": [
    "d = t.sum(axis=0)/la.norm(d)\n",
    "d@t.sum(axis=0)"
   ]
  },
  {
   "cell_type": "code",
   "execution_count": 507,
   "metadata": {
    "autoscroll": "json-false",
    "collapsed": false,
    "ein.tags": [
     "worksheet-0"
    ],
    "slideshow": {
     "slide_type": "-"
    }
   },
   "outputs": [
    {
     "data": {
      "text/plain": [
       "array([-0.83047444, -0.2460665 ,  0.06151663, -0.06151663, -0.492133  ])"
      ]
     },
     "execution_count": 507,
     "metadata": {},
     "output_type": "execute_result"
    }
   ],
   "source": [
    "d = t.sum(axis=0)\n",
    "d = d/la.norm(d)\n",
    "d"
   ]
  },
  {
   "cell_type": "code",
   "execution_count": 514,
   "metadata": {
    "autoscroll": "json-false",
    "collapsed": false,
    "ein.tags": [
     "worksheet-0"
    ],
    "slideshow": {
     "slide_type": "-"
    }
   },
   "outputs": [
    {
     "data": {
      "text/plain": [
       "array([ 22.42280988,   1.96853201,   0.12303325,   0.12303325,   7.87412802])"
      ]
     },
     "execution_count": 514,
     "metadata": {},
     "output_type": "execute_result"
    }
   ],
   "source": [
    "(t*d).sum(axis=0)"
   ]
  },
  {
   "cell_type": "code",
   "execution_count": 528,
   "metadata": {
    "autoscroll": "json-false",
    "collapsed": false,
    "ein.tags": [
     "worksheet-0"
    ],
    "slideshow": {
     "slide_type": "-"
    }
   },
   "outputs": [
    {
     "data": {
      "text/plain": [
       "32.32436952616569"
      ]
     },
     "execution_count": 528,
     "metadata": {},
     "output_type": "execute_result"
    }
   ],
   "source": [
    "t.sum(axis=0)@(qcv/la.norm(qcv))"
   ]
  },
  {
   "cell_type": "code",
   "execution_count": 705,
   "metadata": {
    "autoscroll": "json-false",
    "collapsed": false,
    "ein.tags": [
     "worksheet-0"
    ],
    "slideshow": {
     "slide_type": "-"
    }
   },
   "outputs": [
    {
     "data": {
      "text/plain": [
       "array([ 0.5, -3.5])"
      ]
     },
     "execution_count": 705,
     "metadata": {},
     "output_type": "execute_result"
    }
   ],
   "source": [
    "u(t*[-1,1]).mean(axis=0)\n"
   ]
  },
  {
   "cell_type": "code",
   "execution_count": 715,
   "metadata": {
    "autoscroll": "json-false",
    "collapsed": false,
    "ein.tags": [
     "worksheet-0"
    ],
    "slideshow": {
     "slide_type": "-"
    }
   },
   "outputs": [
    {
     "data": {
      "text/plain": [
       "array([ 10., -10.])"
      ]
     },
     "execution_count": 715,
     "metadata": {},
     "output_type": "execute_result"
    }
   ],
   "source": [
    "u(t*[-1,-1]).sum(axis=1)"
   ]
  },
  {
   "cell_type": "code",
   "execution_count": 672,
   "metadata": {
    "autoscroll": "json-false",
    "collapsed": false,
    "ein.tags": [
     "worksheet-0"
    ],
    "slideshow": {
     "slide_type": "-"
    }
   },
   "outputs": [
    {
     "data": {
      "text/plain": [
       "array([-14., -18.])"
      ]
     },
     "execution_count": 672,
     "metadata": {},
     "output_type": "execute_result"
    }
   ],
   "source": [
    "u(np.sum(t,axis=0))"
   ]
  },
  {
   "cell_type": "code",
   "execution_count": 733,
   "metadata": {
    "autoscroll": "json-false",
    "collapsed": false,
    "ein.tags": [
     "worksheet-0"
    ],
    "slideshow": {
     "slide_type": "-"
    }
   },
   "outputs": [
    {
     "data": {
      "text/plain": [
       "array([[-5., -5.],\n",
       "       [ 3.,  2.]])"
      ]
     },
     "execution_count": 733,
     "metadata": {},
     "output_type": "execute_result"
    }
   ],
   "source": [
    "t"
   ]
  },
  {
   "cell_type": "code",
   "execution_count": 649,
   "metadata": {
    "autoscroll": "json-false",
    "collapsed": false,
    "ein.tags": [
     "worksheet-0"
    ],
    "slideshow": {
     "slide_type": "-"
    }
   },
   "outputs": [
    {
     "data": {
      "text/plain": [
       "array([ 1.1, -0.7])"
      ]
     },
     "execution_count": 649,
     "metadata": {},
     "output_type": "execute_result"
    }
   ],
   "source": [
    "mn"
   ]
  },
  {
   "cell_type": "code",
   "execution_count": 606,
   "metadata": {
    "autoscroll": "json-false",
    "collapsed": false,
    "ein.tags": [
     "worksheet-0"
    ],
    "slideshow": {
     "slide_type": "-"
    }
   },
   "outputs": [
    {
     "data": {
      "text/plain": [
       "array([ 1.69969151,  1.09971695,  0.08000982])"
      ]
     },
     "execution_count": 606,
     "metadata": {},
     "output_type": "execute_result"
    }
   ],
   "source": [
    "(qcv*t.mean(axis=0))"
   ]
  }
 ],
 "metadata": {
  "kernelspec": {
   "display_name": "Python 3",
   "name": "python3"
  },
  "name": "concentration3.ipynb"
 },
 "nbformat": 4,
 "nbformat_minor": 2
}
