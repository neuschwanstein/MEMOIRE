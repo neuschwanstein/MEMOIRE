{
 "cells": [
  {
   "cell_type": "code",
   "execution_count": 1,
   "metadata": {
    "autoscroll": "json-false",
    "collapsed": true,
    "ein.tags": [
     "worksheet-0"
    ],
    "slideshow": {
     "slide_type": "-"
    }
   },
   "outputs": [],
   "source": [
    "import itertools as it\n",
    "import numpy as np\n",
    "import cvxpy as cvx\n",
    "import scipy.optimize as opt\n",
    "from scipy.spatial.distance import pdist,cdist,squareform"
   ]
  },
  {
   "cell_type": "code",
   "execution_count": 2,
   "metadata": {
    "autoscroll": "json-false",
    "collapsed": true,
    "ein.tags": [
     "worksheet-0"
    ],
    "slideshow": {
     "slide_type": "-"
    }
   },
   "outputs": [],
   "source": [
    "import matplotlib as mpl\n",
    "import matplotlib.pyplot as plt\n",
    "plt.rcParams['font.family'] = 'serif'\n",
    "%matplotlib inline\n",
    "%config InlineBackend.figure_format = 'png'"
   ]
  },
  {
   "cell_type": "code",
   "execution_count": 3,
   "metadata": {
    "autoscroll": "json-false",
    "collapsed": true,
    "ein.tags": [
     "worksheet-0"
    ],
    "slideshow": {
     "slide_type": "-"
    }
   },
   "outputs": [],
   "source": [
    "y = np.array([-1,-1,-1,1,1,1])\n",
    "x1 = np.array([-1.5,-0.5,-0.5,0.5,0.5,1.5])\n",
    "x2 = np.array([-0.5,-0.5,-1.5,0.5,1.5,0.5])\n",
    "X = np.array([x1,x2]).T\n",
    "X = np.column_stack((X,np.ones(len(y))))"
   ]
  },
  {
   "cell_type": "code",
   "execution_count": 4,
   "metadata": {
    "autoscroll": "json-false",
    "ein.tags": [
     "worksheet-0"
    ],
    "slideshow": {
     "slide_type": "-"
    }
   },
   "outputs": [
    {
     "ename": "NameError",
     "evalue": "name 'cvx_b' is not defined",
     "output_type": "error",
     "traceback": [
      "\u001b[0;31m\u001b[0m",
      "\u001b[0;31mNameError\u001b[0mTraceback (most recent call last)",
      "\u001b[0;32m<ipython-input-4-e84bed8a1974>\u001b[0m in \u001b[0;36m<module>\u001b[0;34m()\u001b[0m\n\u001b[1;32m      2\u001b[0m \u001b[0mq\u001b[0m \u001b[0;34m=\u001b[0m \u001b[0mcvx\u001b[0m\u001b[0;34m.\u001b[0m\u001b[0mVariable\u001b[0m\u001b[0;34m(\u001b[0m\u001b[0;36m3\u001b[0m\u001b[0;34m)\u001b[0m\u001b[0;34m\u001b[0m\u001b[0m\n\u001b[1;32m      3\u001b[0m \u001b[0mobjective\u001b[0m \u001b[0;34m=\u001b[0m \u001b[0mcvx\u001b[0m\u001b[0;34m.\u001b[0m\u001b[0mMinimize\u001b[0m\u001b[0;34m(\u001b[0m\u001b[0;36m1\u001b[0m\u001b[0;34m/\u001b[0m\u001b[0;36m2\u001b[0m\u001b[0;34m*\u001b[0m\u001b[0mcvx\u001b[0m\u001b[0;34m.\u001b[0m\u001b[0mnorm\u001b[0m\u001b[0;34m(\u001b[0m\u001b[0mq\u001b[0m\u001b[0;34m)\u001b[0m\u001b[0;34m**\u001b[0m\u001b[0;36m2\u001b[0m\u001b[0;34m)\u001b[0m\u001b[0;34m\u001b[0m\u001b[0m\n\u001b[0;32m----> 4\u001b[0;31m \u001b[0mconstraints\u001b[0m \u001b[0;34m=\u001b[0m \u001b[0;34m[\u001b[0m\u001b[0mcvx\u001b[0m\u001b[0;34m.\u001b[0m\u001b[0mmul_elemwise\u001b[0m\u001b[0;34m(\u001b[0m\u001b[0my\u001b[0m\u001b[0;34m,\u001b[0m\u001b[0mX\u001b[0m\u001b[0;34m*\u001b[0m\u001b[0mq\u001b[0m\u001b[0;34m+\u001b[0m\u001b[0mcvx_b\u001b[0m\u001b[0;34m)\u001b[0m\u001b[0;34m>=\u001b[0m\u001b[0;36m1\u001b[0m\u001b[0;34m]\u001b[0m\u001b[0;34m\u001b[0m\u001b[0m\n\u001b[0m\u001b[1;32m      5\u001b[0m \u001b[0mprob\u001b[0m \u001b[0;34m=\u001b[0m \u001b[0mcvx\u001b[0m\u001b[0;34m.\u001b[0m\u001b[0mProblem\u001b[0m\u001b[0;34m(\u001b[0m\u001b[0mobjective\u001b[0m\u001b[0;34m,\u001b[0m\u001b[0mconstraints\u001b[0m\u001b[0;34m)\u001b[0m\u001b[0;34m\u001b[0m\u001b[0m\n\u001b[1;32m      6\u001b[0m \u001b[0mresult\u001b[0m \u001b[0;34m=\u001b[0m \u001b[0mprob\u001b[0m\u001b[0;34m.\u001b[0m\u001b[0msolve\u001b[0m\u001b[0;34m(\u001b[0m\u001b[0;34m)\u001b[0m\u001b[0;34m\u001b[0m\u001b[0m\n",
      "\u001b[0;31mNameError\u001b[0m: name 'cvx_b' is not defined"
     ]
    }
   ],
   "source": [
    "# Solve SVM\n",
    "q = cvx.Variable(3)\n",
    "objective = cvx.Minimize(1/2*cvx.norm(q)**2)\n",
    "constraints = [cvx.mul_elemwise(y,X*q+cvx_b)>=1]\n",
    "prob = cvx.Problem(objective,constraints)\n",
    "result = prob.solve()\n",
    "q = q.value.A1"
   ]
  },
  {
   "cell_type": "code",
   "execution_count": 700,
   "metadata": {
    "autoscroll": "json-false",
    "ein.tags": [
     "worksheet-0"
    ],
    "slideshow": {
     "slide_type": "-"
    }
   },
   "outputs": [
    {
     "data": {
      "image/png": "[encoded data removed]",
      "text/plain": [
       "<matplotlib.figure.Figure at 0x12610ae10>"
      ]
     },
     "metadata": {},
     "output_type": "display_data"
    }
   ],
   "source": [
    "# Plot SVM\n",
    "q1,q2,b = q\n",
    "# b = cvx_b.value\n",
    "plt.scatter(X[:,0],X[:,1],c=y,s=40*np.abs(y),cmap='seismic');\n",
    "s = np.linspace(min(x1),max(x1),10)\n",
    "plt.plot(s,1/q2*(-b-q1*s),'k')\n",
    "plt.plot(s,1/q2*(-1-b-q1*s),'k--')\n",
    "plt.plot(s,1/q2*(1-b-q1*s),'k--')\n",
    "plt.axis(xmin=-1.7,xmax=1.7,ymax=1.7,ymin=-1.7)\n",
    "plt.title('SVM with y=±1');"
   ]
  },
  {
   "cell_type": "code",
   "execution_count": 702,
   "metadata": {
    "autoscroll": "json-false",
    "collapsed": true,
    "ein.tags": [
     "worksheet-0"
    ],
    "slideshow": {
     "slide_type": "-"
    }
   },
   "outputs": [],
   "source": [
    "# Solve primal\n",
    "r = np.array([-1,-2,-1,1,2,1])\n",
    "n = len(r)\n",
    "risk_neutral = lambda x: x\n",
    "exp_utility = lambda x: -cvx.exp(-5*x)\n",
    "u = exp_utility\n",
    "q = cvx.Variable(3)\n",
    "objective = cvx.Maximize(\n",
    "    1/(1*n)*cvx.sum_entries(u(cvx.mul_elemwise(r,X*q+cvx_b))) -\n",
    "    1*(cvx.norm(q)**2+cvx_b**2))\n",
    "prob = cvx.Problem(objective)\n",
    "prob.solve()\n",
    "q = q.value.A1"
   ]
  },
  {
   "cell_type": "code",
   "execution_count": 703,
   "metadata": {
    "autoscroll": "json-false",
    "ein.tags": [
     "worksheet-0"
    ],
    "slideshow": {
     "slide_type": "-"
    }
   },
   "outputs": [
    {
     "data": {
      "image/png": "[encoded data removed]",
      "text/plain": [
       "<matplotlib.figure.Figure at 0x126121358>"
      ]
     },
     "metadata": {},
     "output_type": "display_data"
    }
   ],
   "source": [
    "# Plot primal\n",
    "q1,q2,b = q\n",
    "# b = cvx_b.value\n",
    "plt.scatter(X[:,0],X[:,1],c=np.where(r>0,1,-1),s=40*np.abs(r),cmap='seismic')\n",
    "s = np.linspace(min(x1),max(x1),10)\n",
    "plt.plot(s,1/q2*(-b-q1*s),'k');\n",
    "# plt.plot(s,1/q2*(0.5-b-q1*s),'k--');\n",
    "# plt.plot(s,1/q2*(-0.5-b-q1*s),'k--');\n",
    "plt.title('Primal decision boundary');"
   ]
  },
  {
   "cell_type": "code",
   "execution_count": 7,
   "metadata": {
    "autoscroll": "json-false",
    "collapsed": true,
    "ein.tags": [
     "worksheet-0"
    ],
    "slideshow": {
     "slide_type": "-"
    }
   },
   "outputs": [],
   "source": [
    "r = np.array([-1,-2,-1,1,2,2,-2])\n",
    "x1 = np.array([-1.5,-0.5,-0.5,0.5,0.5,1.5,0])\n",
    "x2 = np.array([-0.5,-0.5,-1.5,0.5,1.5,0.5,2])\n",
    "X = np.array([x1,x2]).T\n",
    "X = np.column_stack((X,np.ones(len(r))))"
   ]
  },
  {
   "cell_type": "code",
   "execution_count": 8,
   "metadata": {
    "autoscroll": "json-false",
    "collapsed": true,
    "ein.tags": [
     "worksheet-0"
    ],
    "slideshow": {
     "slide_type": "-"
    }
   },
   "outputs": [],
   "source": [
    "# ker = lambda x,y: (np.inner(x,y) + 1)**3\n",
    "# ker = lambda x,y: np.tanh(0.01*np.inner(x,y))\n",
    "# ker = lambda x,y: np.exp(-np.inner(x-y,x-y))\n",
    "# ker = lambda x,y: np.exp(np.inner(x,y))"
   ]
  },
  {
   "cell_type": "code",
   "execution_count": 9,
   "metadata": {
    "autoscroll": "json-false",
    "collapsed": true,
    "ein.tags": [
     "worksheet-0"
    ],
    "slideshow": {
     "slide_type": "-"
    }
   },
   "outputs": [],
   "source": [
    "# K = np.exp(-squareform(pdist(X))**2/25)"
   ]
  },
  {
   "cell_type": "code",
   "execution_count": 10,
   "metadata": {
    "autoscroll": "json-false",
    "collapsed": true,
    "ein.tags": [
     "worksheet-0"
    ],
    "slideshow": {
     "slide_type": "-"
    }
   },
   "outputs": [],
   "source": [
    "def quad_K(X1,X2=None):\n",
    "    if X2 is None:\n",
    "        X2 = X1\n",
    "    K = (np.inner(X1,X2)+1)**3\n",
    "    return K\n",
    "\n",
    "sigma = 1\n",
    "def gauss_K(X1,X2=None):\n",
    "    if X2 is None:\n",
    "        K = np.exp(-squareform(pdist(X1))**2/sigma)\n",
    "        return K\n",
    "    else:\n",
    "        K = np.exp(-cdist(X1,X2)**2/sigma).T\n",
    "        return K"
   ]
  },
  {
   "cell_type": "code",
   "execution_count": 11,
   "metadata": {
    "autoscroll": "json-false",
    "ein.tags": [
     "worksheet-0"
    ],
    "slideshow": {
     "slide_type": "-"
    }
   },
   "outputs": [],
   "source": [
    "# Solve dual\n",
    "# K = quad_K(X)\n",
    "K = gauss_K(X)\n",
    "a = cvx.Variable(len(r))\n",
    "ra = cvx.mul_elemwise(r,a)\n",
    "objective = -cvx.sum_entries(cvx.kl_div(a,1)) - 0.1*cvx.quad_form(ra,K)\n",
    "prob = cvx.Problem(cvx.Maximize(objective))\n",
    "prob.solve()\n",
    "a = a.value.A1"
   ]
  },
  {
   "cell_type": "code",
   "execution_count": 13,
   "metadata": {},
   "outputs": [
    {
     "data": {
      "text/plain": [
       "(array([[-1.5, -0.5,  1. ],\n",
       "        [-0.5, -0.5,  1. ],\n",
       "        [-0.5, -1.5,  1. ],\n",
       "        [ 0.5,  0.5,  1. ],\n",
       "        [ 0.5,  1.5,  1. ],\n",
       "        [ 1.5,  0.5,  1. ],\n",
       "        [ 0. ,  2. ,  1. ]]), array([-1, -2, -1,  1,  2,  2, -2]))"
      ]
     },
     "execution_count": 13,
     "metadata": {},
     "output_type": "execute_result"
    }
   ],
   "source": [
    "X,r"
   ]
  },
  {
   "cell_type": "code",
   "execution_count": 14,
   "metadata": {
    "autoscroll": "json-false",
    "ein.tags": [
     "worksheet-0"
    ],
    "slideshow": {
     "slide_type": "-"
    }
   },
   "outputs": [
    {
     "data": {
      "image/png": "[encoded data removed]",
      "text/plain": [
       "<matplotlib.figure.Figure at 0x106e1c710>"
      ]
     },
     "metadata": {},
     "output_type": "display_data"
    }
   ],
   "source": [
    "delta = 500\n",
    "xx1 = np.linspace(-5,5,delta)\n",
    "xx2 = np.linspace(-5,5,delta)\n",
    "X_s = np.array(np.meshgrid(xx1,xx2,[1])).T[0].reshape((delta*delta,3))\n",
    "phi = gauss_K(X,X_s)\n",
    "Z = np.inner(phi,a*r).reshape((delta,delta)).T\n",
    "plt.scatter(X[:,0],X[:,1],c=np.where(r>0,1,-1),s=40*np.abs(r),cmap='seismic');\n",
    "cont = plt.contour(xx1,xx2,Z)\n",
    "plt.clabel(cont)\n",
    "plt.title('Decision boundary with kernel');\n",
    "plt.xlabel('$x_1$');\n",
    "plt.ylabel('$x_2$');"
   ]
  },
  {
   "cell_type": "code",
   "execution_count": 15,
   "metadata": {
    "autoscroll": "json-false",
    "ein.tags": [
     "worksheet-0"
    ],
    "slideshow": {
     "slide_type": "-"
    }
   },
   "outputs": [
    {
     "data": {
      "text/plain": [
       "array([[-5.        , -5.        ,  1.        ],\n",
       "       [-5.        , -4.97995992,  1.        ],\n",
       "       [-5.        , -4.95991984,  1.        ],\n",
       "       ..., \n",
       "       [ 5.        ,  4.95991984,  1.        ],\n",
       "       [ 5.        ,  4.97995992,  1.        ],\n",
       "       [ 5.        ,  5.        ,  1.        ]])"
      ]
     },
     "execution_count": 15,
     "metadata": {},
     "output_type": "execute_result"
    }
   ],
   "source": [
    "X_s"
   ]
  },
  {
   "cell_type": "code",
   "execution_count": 27,
   "metadata": {
    "autoscroll": "json-false",
    "collapsed": true,
    "ein.tags": [
     "worksheet-0"
    ],
    "slideshow": {
     "slide_type": "-"
    }
   },
   "outputs": [],
   "source": [
    "X,r\n",
    "n,p = X.shape"
   ]
  },
  {
   "cell_type": "code",
   "execution_count": 32,
   "metadata": {
    "autoscroll": "json-false",
    "collapsed": true,
    "ein.tags": [
     "worksheet-0"
    ],
    "slideshow": {
     "slide_type": "-"
    }
   },
   "outputs": [],
   "source": [
    "K = np.inner(X,X)"
   ]
  },
  {
   "cell_type": "code",
   "execution_count": 33,
   "metadata": {
    "autoscroll": "json-false",
    "collapsed": true,
    "ein.tags": [
     "worksheet-0"
    ],
    "slideshow": {
     "slide_type": "-"
    }
   },
   "outputs": [],
   "source": [
    "ell = lambda r: cvx.exp(-r)\n",
    "ell_star = lambda r: cvx.kl_div(-r,1)-1"
   ]
  },
  {
   "cell_type": "code",
   "execution_count": 34,
   "metadata": {
    "autoscroll": "json-false",
    "ein.tags": [
     "worksheet-0"
    ],
    "slideshow": {
     "slide_type": "-"
    }
   },
   "outputs": [
    {
     "data": {
      "text/plain": [
       "5.7534267124747593"
      ]
     },
     "execution_count": 34,
     "metadata": {},
     "output_type": "execute_result"
    }
   ],
   "source": [
    "# Probleme primal\n",
    "q = cvx.Variable(p)\n",
    "obj = cvx.sum_entries(ell(cvx.mul_elemwise(r,X*q))) + n*cvx.norm(q)**2\n",
    "prob = cvx.Problem(cvx.Minimize(obj))\n",
    "v1 = prob.solve(solver=cvx.CVXOPT)\n",
    "obj.value"
   ]
  },
  {
   "cell_type": "code",
   "execution_count": 35,
   "metadata": {
    "autoscroll": "json-false",
    "ein.tags": [
     "worksheet-0"
    ],
    "slideshow": {
     "slide_type": "-"
    }
   },
   "outputs": [
    {
     "data": {
      "text/plain": [
       "-5.7534267124745195"
      ]
     },
     "execution_count": 35,
     "metadata": {},
     "output_type": "execute_result"
    }
   ],
   "source": [
    "# Probleme dual\n",
    "a = cvx.Variable(n)\n",
    "ra = cvx.mul_elemwise(r,a)\n",
    "obj = cvx.sum_entries(ell_star(a)) + 1/(4*n)*cvx.quad_form(ra,K)\n",
    "prob = cvx.Problem(cvx.Minimize(obj))\n",
    "v2 = prob.solve(solver=cvx.CVXOPT)\n",
    "obj.value"
   ]
  },
  {
   "cell_type": "code",
   "execution_count": 36,
   "metadata": {
    "autoscroll": "json-false",
    "ein.tags": [
     "worksheet-0"
    ],
    "slideshow": {
     "slide_type": "-"
    }
   },
   "outputs": [
    {
     "data": {
      "text/plain": [
       "array([ 0.30807215,  0.05886651, -0.09023284])"
      ]
     },
     "execution_count": 36,
     "metadata": {},
     "output_type": "execute_result"
    }
   ],
   "source": [
    "# valeur de q a partir de a\n",
    "-1/(2*n)*np.dot(X.T,r*a.value.A1)"
   ]
  },
  {
   "cell_type": "code",
   "execution_count": 38,
   "metadata": {
    "autoscroll": "json-false",
    "ein.tags": [
     "worksheet-0"
    ],
    "slideshow": {
     "slide_type": "-"
    }
   },
   "outputs": [
    {
     "data": {
      "text/plain": [
       "array([ 0.30807202,  0.05886648, -0.09023284])"
      ]
     },
     "execution_count": 38,
     "metadata": {},
     "output_type": "execute_result"
    }
   ],
   "source": [
    "# Valeur de q dans le primal\n",
    "q.value.A1"
   ]
  },
  {
   "cell_type": "code",
   "execution_count": 25,
   "metadata": {
    "autoscroll": "json-false",
    "ein.tags": [
     "worksheet-0"
    ],
    "slideshow": {
     "slide_type": "-"
    }
   },
   "outputs": [
    {
     "data": {
      "text/plain": [
       "6.192492745729641"
      ]
     },
     "execution_count": 25,
     "metadata": {},
     "output_type": "execute_result"
    }
   ],
   "source": [
    "obj = cvx.sum_entries(ell(cvx.mul_elemwise(r,X*q))) + cvx.norm(X*q)**2 + n*cvx.norm(q)**2\n",
    "prob = cvx.Problem(cvx.Minimize(obj))\n",
    "prob.solve()"
   ]
  },
  {
   "cell_type": "code",
   "execution_count": 26,
   "metadata": {
    "autoscroll": "json-false",
    "ein.tags": [
     "worksheet-0"
    ],
    "slideshow": {
     "slide_type": "-"
    }
   },
   "outputs": [
    {
     "data": {
      "text/plain": [
       "-6.1924927827068466"
      ]
     },
     "execution_count": 26,
     "metadata": {},
     "output_type": "execute_result"
    }
   ],
   "source": [
    "a = cvx.Variable(n)\n",
    "b = cvx.Variable(n)\n",
    "rab = cvx.mul_elemwise(r,a+b)\n",
    "obj = cvx.sum_entries(ell_star(a)) + 1/4*cvx.norm(cvx.mul_elemwise(r,b))**2 + 1/(4*n)*cvx.quad_form(rab,K)\n",
    "prob = cvx.Problem(cvx.Minimize(obj))\n",
    "prob.solve()"
   ]
  },
  {
   "cell_type": "code",
   "execution_count": 72,
   "metadata": {
    "autoscroll": "json-false",
    "ein.tags": [
     "worksheet-0"
    ],
    "slideshow": {
     "slide_type": "-"
    }
   },
   "outputs": [
    {
     "data": {
      "text/plain": [
       "array([-0.3620213 , -0.15806679, -0.17887856,  0.06669949,  0.08751125,\n",
       "        0.270654  , -0.00406012])"
      ]
     },
     "execution_count": 72,
     "metadata": {},
     "output_type": "execute_result"
    }
   ],
   "source": [
    "np.inner(X,q.value.A1)"
   ]
  },
  {
   "cell_type": "code",
   "execution_count": 73,
   "metadata": {
    "autoscroll": "json-false",
    "ein.tags": [
     "worksheet-0"
    ],
    "slideshow": {
     "slide_type": "-"
    }
   },
   "outputs": [
    {
     "data": {
      "text/plain": [
       "array([-0.3620242 , -0.15806836, -0.17888093,  0.06670003,  0.0875126 ,\n",
       "        0.27065587, -0.00405904])"
      ]
     },
     "execution_count": 73,
     "metadata": {},
     "output_type": "execute_result"
    }
   ],
   "source": [
    "(r*b.value.A1)/2"
   ]
  },
  {
   "cell_type": "code",
   "execution_count": 47,
   "metadata": {
    "autoscroll": "json-false",
    "collapsed": true,
    "ein.tags": [
     "worksheet-0"
    ],
    "slideshow": {
     "slide_type": "-"
    }
   },
   "outputs": [],
   "source": [
    "xx = X[:,:-1]"
   ]
  },
  {
   "cell_type": "code",
   "execution_count": 43,
   "metadata": {
    "autoscroll": "json-false",
    "collapsed": true,
    "ein.tags": [
     "worksheet-0"
    ],
    "slideshow": {
     "slide_type": "-"
    }
   },
   "outputs": [],
   "source": [
    "K = (np.inner(X,X) + 1)**2"
   ]
  },
  {
   "cell_type": "code",
   "execution_count": 48,
   "metadata": {
    "autoscroll": "json-false",
    "ein.tags": [
     "worksheet-0"
    ],
    "slideshow": {
     "slide_type": "-"
    }
   },
   "outputs": [
    {
     "data": {
      "text/plain": [
       "array([[-1.5, -0.5],\n",
       "       [-0.5, -0.5],\n",
       "       [-0.5, -1.5],\n",
       "       [ 0.5,  0.5],\n",
       "       [ 0.5,  1.5],\n",
       "       [ 1.5,  0.5],\n",
       "       [ 0. ,  2. ]])"
      ]
     },
     "execution_count": 48,
     "metadata": {},
     "output_type": "execute_result"
    }
   ],
   "source": [
    "q = cvx.Variable(n)\n"
   ]
  },
  {
   "cell_type": "code",
   "execution_count": 0,
   "metadata": {
    "autoscroll": "json-false",
    "collapsed": true,
    "ein.tags": [
     "worksheet-0"
    ],
    "slideshow": {
     "slide_type": "-"
    }
   },
   "outputs": [],
   "source": []
  },
  {
   "cell_type": "code",
   "execution_count": 50,
   "metadata": {
    "autoscroll": "json-false",
    "ein.tags": [
     "worksheet-1"
    ],
    "slideshow": {
     "slide_type": "-"
    }
   },
   "outputs": [
    {
     "data": {
      "text/plain": [
       "array([[-1.5, -0.5,  1. ],\n",
       "       [-0.5, -0.5,  1. ],\n",
       "       [-0.5, -1.5,  1. ],\n",
       "       [ 0.5,  0.5,  1. ],\n",
       "       [ 0.5,  1.5,  1. ],\n",
       "       [ 1.5,  0.5,  1. ],\n",
       "       [ 0. ,  2. ,  1. ]])"
      ]
     },
     "execution_count": 50,
     "metadata": {},
     "output_type": "execute_result"
    }
   ],
   "source": [
    "X"
   ]
  },
  {
   "cell_type": "code",
   "execution_count": 66,
   "metadata": {
    "autoscroll": "json-false",
    "collapsed": true,
    "ein.tags": [
     "worksheet-1"
    ],
    "slideshow": {
     "slide_type": "-"
    }
   },
   "outputs": [],
   "source": [
    "# K = (np.inner(X,X) + 1)**2\n",
    "K = np.tanh(np.inner(X,X))"
   ]
  },
  {
   "cell_type": "code",
   "execution_count": 67,
   "metadata": {
    "autoscroll": "json-false",
    "ein.tags": [
     "worksheet-1"
    ],
    "slideshow": {
     "slide_type": "-"
    }
   },
   "outputs": [
    {
     "data": {
      "text/plain": [
       "0.8085727647322766"
      ]
     },
     "execution_count": 67,
     "metadata": {},
     "output_type": "execute_result"
    }
   ],
   "source": [
    "q = cvx.Variable(n)\n",
    "obj = n**(-1) * cvx.sum_entries(ell(cvx.mul_elemwise(r,K*q))) + cvx.norm(q)**2\n",
    "prob = cvx.Problem(cvx.Minimize(obj))\n",
    "prob.solve()"
   ]
  }
 ],
 "metadata": {
  "kernelspec": {
   "display_name": "Python 3",
   "language": "python",
   "name": "python3"
  },
  "language_info": {
   "codemirror_mode": {
    "name": "ipython",
    "version": 3
   },
   "file_extension": ".py",
   "mimetype": "text/x-python",
   "name": "python",
   "nbconvert_exporter": "python",
   "pygments_lexer": "ipython3",
   "version": "3.6.1"
  },
  "name": "kernel.ipynb"
 },
 "nbformat": 4,
 "nbformat_minor": 1
}
