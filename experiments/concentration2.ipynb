{
 "cells": [
  {
   "cell_type": "code",
   "execution_count": 1,
   "metadata": {
    "autoscroll": "json-false",
    "ein.tags": [
     "worksheet-0"
    ],
    "slideshow": {
     "slide_type": "-"
    }
   },
   "outputs": [],
   "source": [
    "%load_ext autoreload\n",
    "%autoreload 2"
   ]
  },
  {
   "cell_type": "code",
   "execution_count": 19,
   "metadata": {
    "autoscroll": "json-false",
    "ein.tags": [
     "worksheet-0"
    ],
    "slideshow": {
     "slide_type": "-"
    }
   },
   "outputs": [],
   "source": [
    "from matplotlib import rc\n",
    "rc('text',usetex=True)\n",
    "rc('font',**{'family':'serif','serif':['Computer Modern Roman']})\n",
    "import matplotlib.pyplot as plt\n",
    "% matplotlib inline\n",
    "% config InlineBackend.figure_format = 'png'\n",
    "% config InlineBackend.rc = {'figure.figsize': (5,3.5)}"
   ]
  },
  {
   "cell_type": "code",
   "execution_count": 4,
   "metadata": {
    "autoscroll": "json-false",
    "ein.tags": [
     "worksheet-0"
    ],
    "slideshow": {
     "slide_type": "-"
    }
   },
   "outputs": [],
   "source": [
    "import numpy as np\n",
    "import cvxpy as cvx\n",
    "from helper import *"
   ]
  },
  {
   "cell_type": "code",
   "execution_count": 5,
   "metadata": {
    "autoscroll": "json-false",
    "ein.tags": [
     "worksheet-0"
    ],
    "slideshow": {
     "slide_type": "-"
    }
   },
   "outputs": [],
   "source": [
    "from cd.model.distrs import RademacherDistribution\n",
    "import cd.model.synth_data as synth"
   ]
  },
  {
   "cell_type": "code",
   "execution_count": 6,
   "metadata": {
    "autoscroll": "json-false",
    "ein.tags": [
     "worksheet-0"
    ],
    "slideshow": {
     "slide_type": "-"
    }
   },
   "outputs": [],
   "source": [
    "p = 2\n",
    "R_true = RademacherDistribution()\n",
    "X_true = [RademacherDistribution(),RademacherDistribution()]\n",
    "M_true = synth.GaussianMarket(X_true,R_true)"
   ]
  },
  {
   "cell_type": "code",
   "execution_count": 7,
   "metadata": {
    "autoscroll": "json-false",
    "ein.tags": [
     "worksheet-0"
    ],
    "slideshow": {
     "slide_type": "-"
    }
   },
   "outputs": [],
   "source": [
    "n_true = 10_000\n",
    "X_true,r_true = M_true.sample(n_true)"
   ]
  },
  {
   "cell_type": "code",
   "execution_count": 8,
   "metadata": {
    "autoscroll": "json-false",
    "ein.tags": [
     "worksheet-0"
    ],
    "slideshow": {
     "slide_type": "-"
    }
   },
   "outputs": [],
   "source": [
    "def conv2q(n,m=100,lamb=1/2):\n",
    "    idx = np.random.choice(n_true,size=(m,n))\n",
    "    X = X_true[idx,:]\n",
    "    r = r_true[idx]\n",
    "\n",
    "    q = 1/(2*lamb) * (X*r[:,:,None]).mean(axis=1)\n",
    "    return q"
   ]
  },
  {
   "cell_type": "code",
   "execution_count": 9,
   "metadata": {
    "autoscroll": "json-false",
    "ein.tags": [
     "worksheet-0"
    ],
    "slideshow": {
     "slide_type": "-"
    }
   },
   "outputs": [],
   "source": [
    "ns = np.arange(5,205,5)\n",
    "l = len(ns)\n",
    "norm = np.zeros(l)\n",
    "mn = np.zeros(l)\n",
    "for i,n in enumerate(ns):\n",
    "    qs = conv2q(n,m=5000)\n",
    "    mn[i] = np.linalg.norm(qs,axis=1).mean()\n",
    "    norm[i] = np.linalg.norm(qs,axis=1).max()\n"
   ]
  },
  {
   "cell_type": "code",
   "execution_count": 10,
   "metadata": {
    "autoscroll": "json-false",
    "ein.tags": [
     "worksheet-0"
    ],
    "slideshow": {
     "slide_type": "-"
    }
   },
   "outputs": [],
   "source": [
    "qstar = (X_true*r_true[:,None]).mean(axis=0)\n",
    "qsnorm = np.linalg.norm(qstar)"
   ]
  },
  {
   "cell_type": "code",
   "execution_count": 20,
   "metadata": {
    "autoscroll": "json-false",
    "ein.tags": [
     "worksheet-0"
    ],
    "slideshow": {
     "slide_type": "-"
    }
   },
   "outputs": [
    {
     "name": "stderr",
     "output_type": "stream",
     "text": [
      "/usr/local/lib/python3.7/site-packages/matplotlib/font_manager.py:1328: UserWarning: findfont: Font family ['serif'] not found. Falling back to DejaVu Sans\n",
      "  (prop.get_family(), self.defaultFamily[fontext]))\n"
     ]
    },
    {
     "data": {
      "image/png": "[encoded data removed]",
      "text/plain": [
       "<Figure size 360x252 with 1 Axes>"
      ]
     },
     "metadata": {
      "needs_background": "light"
     },
     "output_type": "display_data"
    }
   ],
   "source": [
    "delta = 0.05\n",
    "tol = np.sqrt(np.log(1/delta))\n",
    "omq = qsnorm + 2*tol*np.sqrt(3/(2*ns))\n",
    "plt.plot(ns,omq,label=\"Borne th\\\\'eorique ($\\delta = 0.05$)\")\n",
    "plt.plot(ns,norm,label='$\\max\\|\\mathcal{Q}(\\mathcal{S}_n)\\|$')\n",
    "plt.plot(ns,0*ns+qsnorm,'k--',label='$\\|q^\\star_\\lambda\\|$')\n",
    "plt.legend()\n",
    "# plt.plot(ns,[0.4811]*l)\n",
    "# plt.title('$\\max\\|q\\|$')\n",
    "plt.axis(ymin=0); "
   ]
  },
  {
   "cell_type": "code",
   "execution_count": 12,
   "metadata": {
    "autoscroll": "json-false",
    "ein.tags": [
     "worksheet-0"
    ],
    "slideshow": {
     "slide_type": "-"
    }
   },
   "outputs": [],
   "source": [
    "def indp(p,n=10_000,lamb=1/2):\n",
    "    X = np.random.randn(n,p)\n",
    "    r = np.random.randn(n)\n",
    "    q = 1/(2*lamb) * (X*r[:,None]).mean(axis=1)\n",
    "    return q\n",
    "\n",
    "def indX(p,n=10_000,lamb=1/2):\n",
    "    X = 1/np.sqrt(p) * np.random.randn(n,p)\n",
    "    r = X.sum(axis=1)\n",
    "    q = 1/(2*lamb) * (X*r[:,None]).mean(axis=1)\n",
    "    return q\n",
    "\n",
    "def depX(p,n=10_000,lamb=1/2):\n",
    "    r = np.random.randn(n)\n",
    "    X = np.tile(r,(p,1)).T\n",
    "    q = 1/(2*lamb) * (X*r[:,None]).mean(axis=1)\n",
    "    return q"
   ]
  },
  {
   "cell_type": "code",
   "execution_count": 13,
   "metadata": {
    "autoscroll": "json-false",
    "ein.tags": [
     "worksheet-0"
    ],
    "slideshow": {
     "slide_type": "-"
    }
   },
   "outputs": [],
   "source": [
    "ps = np.arange(2,50)\n",
    "depx = np.zeros(len(ps))\n",
    "for i,p in enumerate(ps):\n",
    "    q = depX(p)\n",
    "    depx[i] = np.linalg.norm(q)"
   ]
  },
  {
   "cell_type": "code",
   "execution_count": 14,
   "metadata": {
    "autoscroll": "json-false",
    "ein.tags": [
     "worksheet-0"
    ],
    "slideshow": {
     "slide_type": "-"
    }
   },
   "outputs": [
    {
     "ename": "NameError",
     "evalue": "name 'indps' is not defined",
     "output_type": "error",
     "traceback": [
      "\u001b[0;31m---------------------------------------------------------------------------\u001b[0m",
      "\u001b[0;31mNameError\u001b[0m                                 Traceback (most recent call last)",
      "\u001b[0;32m<ipython-input-14-e669c9a842e3>\u001b[0m in \u001b[0;36m<module>\u001b[0;34m()\u001b[0m\n\u001b[0;32m----> 1\u001b[0;31m \u001b[0mplt\u001b[0m\u001b[0;34m.\u001b[0m\u001b[0mplot\u001b[0m\u001b[0;34m(\u001b[0m\u001b[0mps\u001b[0m\u001b[0;34m,\u001b[0m\u001b[0mindps\u001b[0m\u001b[0;34m)\u001b[0m\u001b[0;34m\u001b[0m\u001b[0m\n\u001b[0m\u001b[1;32m      2\u001b[0m \u001b[0mplt\u001b[0m\u001b[0;34m.\u001b[0m\u001b[0mplot\u001b[0m\u001b[0;34m(\u001b[0m\u001b[0mps\u001b[0m\u001b[0;34m,\u001b[0m\u001b[0mindpx\u001b[0m\u001b[0;34m)\u001b[0m\u001b[0;34m\u001b[0m\u001b[0m\n\u001b[1;32m      3\u001b[0m \u001b[0mplt\u001b[0m\u001b[0;34m.\u001b[0m\u001b[0mplot\u001b[0m\u001b[0;34m(\u001b[0m\u001b[0mps\u001b[0m\u001b[0;34m,\u001b[0m\u001b[0mdepx\u001b[0m\u001b[0;34m)\u001b[0m\u001b[0;34m\u001b[0m\u001b[0m\n",
      "\u001b[0;31mNameError\u001b[0m: name 'indps' is not defined"
     ]
    }
   ],
   "source": [
    "plt.plot(ps,indps)\n",
    "plt.plot(ps,indpx)\n",
    "plt.plot(ps,depx)"
   ]
  },
  {
   "cell_type": "code",
   "execution_count": 15,
   "metadata": {
    "autoscroll": "json-false",
    "ein.tags": [
     "worksheet-0"
    ],
    "slideshow": {
     "slide_type": "-"
    }
   },
   "outputs": [],
   "source": [
    "def conv2qp(n,p,m=100,lamb=1/2):\n",
    "    n_true = 10_000\n",
    "    R_true = RademacherDistribution()\n",
    "    X_true = [RademacherDistribution() for _ in range(p)]\n",
    "    M_true = synth.GaussianMarket(X_true,R_true)\n",
    "    X_true,r_true = M_true.sample(n_true)\n",
    "\n",
    "    idx = np.random.choice(n_true,size=(m,n))\n",
    "    X = X_true[idx,:]\n",
    "    r = r_true[idx]\n",
    "\n",
    "    q = 1/(2*lamb) * (x*r[:,:,None]).mean(axis=1)\n",
    "    return q\n",
    "    "
   ]
  },
  {
   "cell_type": "code",
   "execution_count": 0,
   "metadata": {
    "autoscroll": "json-false",
    "ein.tags": [
     "worksheet-0"
    ],
    "slideshow": {
     "slide_type": "-"
    }
   },
   "outputs": [],
   "source": []
  },
  {
   "cell_type": "code",
   "execution_count": 16,
   "metadata": {
    "autoscroll": "json-false",
    "ein.tags": [
     "worksheet-0"
    ],
    "slideshow": {
     "slide_type": "-"
    }
   },
   "outputs": [],
   "source": [
    "def conv2(n,m=100,lamb=1/2):\n",
    "    idx = np.random.choice(n_true,size=(m,n))\n",
    "    X = X_true[idx,:]\n",
    "    r = r_true[idx]\n",
    "\n",
    "    q = 1/(2*lamb) * (X*r[:,:,None]).mean(axis=1)\n",
    "\n",
    "    insample = (r*np.einsum('mnp,mp->mn',X,q)).mean(axis=1)\n",
    "    outsample = (r_true * np.einsum('tp,mp->mt',X_true,q)).mean(axis=1)\n",
    "    return insample,outsample"
   ]
  },
  {
   "cell_type": "code",
   "execution_count": 17,
   "metadata": {
    "autoscroll": "json-false",
    "ein.tags": [
     "worksheet-0"
    ],
    "slideshow": {
     "slide_type": "-"
    }
   },
   "outputs": [],
   "source": [
    "ns = np.arange(5,205,5)\n",
    "m = 1000\n",
    "diff = np.empty((len(ns),m))\n",
    "for i,n in enumerate(ns):\n",
    "    ins,outs = conv2(n,m)\n",
    "    diff[i] = ins-outs"
   ]
  },
  {
   "cell_type": "code",
   "execution_count": 18,
   "metadata": {
    "autoscroll": "json-false",
    "ein.tags": [
     "worksheet-0"
    ],
    "slideshow": {
     "slide_type": "-"
    }
   },
   "outputs": [
    {
     "data": {
      "text/plain": [
       "[<matplotlib.lines.Line2D at 0x106cef828>]"
      ]
     },
     "execution_count": 18,
     "metadata": {},
     "output_type": "execute_result"
    },
    {
     "name": "stderr",
     "output_type": "stream",
     "text": [
      "/usr/local/lib/python3.7/site-packages/matplotlib/font_manager.py:1328: UserWarning: findfont: Font family ['serif'] not found. Falling back to DejaVu Sans\n",
      "  (prop.get_family(), self.defaultFamily[fontext]))\n"
     ]
    },
    {
     "data": {
      "image/svg+xml": [
       "<?xml version=\"1.0\" encoding=\"utf-8\" standalone=\"no\"?>\n",
       "<!DOCTYPE svg PUBLIC \"-//W3C//DTD SVG 1.1//EN\"\n",
       "  \"http://www.w3.org/Graphics/SVG/1.1/DTD/svg11.dtd\">\n",
       "<!-- Created with matplotlib (http://matplotlib.org/) -->\n",
       "<svg height=\"224.015677pt\" version=\"1.1\" viewBox=\"0 0 321.611414 224.015677\" width=\"321.611414pt\" xmlns=\"http://www.w3.org/2000/svg\" xmlns:xlink=\"http://www.w3.org/1999/xlink\">\n",
       " <defs>\n",
       "  <style type=\"text/css\">\n",
       "*{stroke-linecap:butt;stroke-linejoin:round;}\n",
       "  </style>\n",
       " </defs>\n",
       " <g id=\"figure_1\">\n",
       "  <g id=\"patch_1\">\n",
       "   <path d=\"M 0 224.015677 \n",
       "L 321.611414 224.015677 \n",
       "L 321.611414 0 \n",
       "L 0 0 \n",
       "z\n",
       "\" style=\"fill:none;\"/>\n",
       "  </g>\n",
       "  <g id=\"axes_1\">\n",
       "   <g id=\"patch_2\">\n",
       "    <path d=\"M 31.911414 200.96 \n",
       "L 310.911414 200.96 \n",
       "L 310.911414 10.7 \n",
       "L 31.911414 10.7 \n",
       "z\n",
       "\" style=\"fill:#ffffff;\"/>\n",
       "   </g>\n",
       "   <g id=\"matplotlib.axis_1\">\n",
       "    <g id=\"xtick_1\">\n",
       "     <g id=\"line2d_1\">\n",
       "      <defs>\n",
       "       <path d=\"M 0 0 \n",
       "L 0 3.5 \n",
       "\" id=\"mfb4a435678\" style=\"stroke:#000000;stroke-width:0.8;\"/>\n",
       "      </defs>\n",
       "      <g>\n",
       "       <use style=\"stroke:#000000;stroke-width:0.8;\" x=\"38.089736\" xlink:href=\"#mfb4a435678\" y=\"200.96\"/>\n",
       "      </g>\n",
       "     </g>\n",
       "     <g id=\"text_1\">\n",
       "      <!-- $0$ -->\n",
       "      <defs>\n",
       "       <path d=\"M 42 31.640625 \n",
       "C 42 37.75 41.90625 48.125 37.703125 56.109375 \n",
       "C 34 63.109375 28.09375 65.59375 22.90625 65.59375 \n",
       "C 18.09375 65.59375 12 63.40625 8.203125 56.203125 \n",
       "C 4.203125 48.71875 3.796875 39.4375 3.796875 31.640625 \n",
       "C 3.796875 25.953125 3.90625 17.28125 7 9.671875 \n",
       "C 11.296875 -0.609375 19 -2 22.90625 -2 \n",
       "C 27.5 -2 34.5 -0.109375 38.59375 9.375 \n",
       "C 41.59375 16.28125 42 24.359375 42 31.640625 \n",
       "z\n",
       "M 22.90625 -0.40625 \n",
       "C 16.5 -0.40625 12.703125 5.078125 11.296875 12.6875 \n",
       "C 10.203125 18.5625 10.203125 27.15625 10.203125 32.75 \n",
       "C 10.203125 40.4375 10.203125 46.828125 11.5 52.921875 \n",
       "C 13.40625 61.390625 19 64 22.90625 64 \n",
       "C 27 64 32.296875 61.296875 34.203125 53.125 \n",
       "C 35.5 47.4375 35.59375 40.734375 35.59375 32.75 \n",
       "C 35.59375 26.25 35.59375 18.265625 34.40625 12.375 \n",
       "C 32.296875 1.484375 26.40625 -0.40625 22.90625 -0.40625 \n",
       "z\n",
       "\" id=\"CMR17-48\"/>\n",
       "      </defs>\n",
       "      <g transform=\"translate(35.599068 214.878498)scale(0.1 -0.1)\">\n",
       "       <use transform=\"scale(0.996264)\" xlink:href=\"#CMR17-48\"/>\n",
       "      </g>\n",
       "     </g>\n",
       "    </g>\n",
       "    <g id=\"xtick_2\">\n",
       "     <g id=\"line2d_2\">\n",
       "      <g>\n",
       "       <use style=\"stroke:#000000;stroke-width:0.8;\" x=\"70.607218\" xlink:href=\"#mfb4a435678\" y=\"200.96\"/>\n",
       "      </g>\n",
       "     </g>\n",
       "     <g id=\"text_2\">\n",
       "      <!-- $25$ -->\n",
       "      <defs>\n",
       "       <path d=\"M 41.703125 15.453125 \n",
       "L 39.90625 15.453125 \n",
       "C 38.90625 8.375 38.09375 7.171875 37.703125 6.5625 \n",
       "C 37.203125 5.765625 30 5.765625 28.59375 5.765625 \n",
       "L 9.40625 5.765625 \n",
       "C 13 9.671875 20 16.75 28.5 24.953125 \n",
       "C 34.59375 30.734375 41.703125 37.53125 41.703125 47.421875 \n",
       "C 41.703125 59.21875 32.296875 66 21.796875 66 \n",
       "C 10.796875 66 4.09375 56.3125 4.09375 47.34375 \n",
       "C 4.09375 43.4375 7 42.9375 8.203125 42.9375 \n",
       "C 9.203125 42.9375 12.203125 43.546875 12.203125 47.03125 \n",
       "C 12.203125 50.109375 9.59375 51 8.203125 51 \n",
       "C 7.59375 51 7 50.90625 6.59375 50.703125 \n",
       "C 8.5 59.21875 14.296875 63.40625 20.40625 63.40625 \n",
       "C 29.09375 63.40625 34.796875 56.515625 34.796875 47.421875 \n",
       "C 34.796875 38.734375 29.703125 31.25 24 24.75 \n",
       "L 4.09375 2.28125 \n",
       "L 4.09375 0 \n",
       "L 39.296875 0 \n",
       "z\n",
       "\" id=\"CMR17-50\"/>\n",
       "       <path d=\"M 11.40625 57.6875 \n",
       "C 12.40625 57.28125 16.5 56 20.703125 56 \n",
       "C 30 56 35.09375 61.109375 38 64.0625 \n",
       "C 38 64.953125 38 65.5 37.40625 65.5 \n",
       "C 37.296875 65.5 37.09375 65.5 36.296875 65.046875 \n",
       "C 32.796875 63.40625 28.703125 62.078125 23.703125 62.078125 \n",
       "C 20.703125 62.078125 16.203125 62.484375 11.296875 64.671875 \n",
       "C 10.203125 65.171875 10 65.171875 9.90625 65.171875 \n",
       "C 9.40625 65.171875 9.296875 65.0625 9.296875 63.078125 \n",
       "L 9.296875 34.421875 \n",
       "C 9.296875 32.640625 9.296875 32.140625 10.296875 32.140625 \n",
       "C 10.796875 32.140625 11 32.34375 11.5 33.03125 \n",
       "C 14.703125 37.515625 19.09375 39.40625 24.09375 39.40625 \n",
       "C 27.59375 39.40625 35.09375 37.21875 35.09375 20.140625 \n",
       "C 35.09375 16.953125 35.09375 11.171875 32.09375 6.578125 \n",
       "C 29.59375 2.484375 25.703125 0.390625 21.40625 0.390625 \n",
       "C 14.796875 0.390625 8.09375 5 6.296875 12.71875 \n",
       "C 6.703125 12.609375 7.5 12.421875 7.90625 12.421875 \n",
       "C 9.203125 12.421875 11.703125 13.125 11.703125 16.21875 \n",
       "C 11.703125 18.90625 9.796875 20 7.90625 20 \n",
       "C 5.59375 20 4.09375 18.59375 4.09375 15.796875 \n",
       "C 4.09375 7.09375 11 -2 21.59375 -2 \n",
       "C 31.90625 -2 41.703125 6.875 41.703125 19.75 \n",
       "C 41.703125 31.71875 33.90625 41 24.203125 41 \n",
       "C 19.09375 41 14.796875 39.109375 11.40625 35.53125 \n",
       "z\n",
       "\" id=\"CMR17-53\"/>\n",
       "      </defs>\n",
       "      <g transform=\"translate(65.625883 214.878498)scale(0.1 -0.1)\">\n",
       "       <use transform=\"scale(0.996264)\" xlink:href=\"#CMR17-50\"/>\n",
       "       <use transform=\"translate(45.690477 0)scale(0.996264)\" xlink:href=\"#CMR17-53\"/>\n",
       "      </g>\n",
       "     </g>\n",
       "    </g>\n",
       "    <g id=\"xtick_3\">\n",
       "     <g id=\"line2d_3\">\n",
       "      <g>\n",
       "       <use style=\"stroke:#000000;stroke-width:0.8;\" x=\"103.124701\" xlink:href=\"#mfb4a435678\" y=\"200.96\"/>\n",
       "      </g>\n",
       "     </g>\n",
       "     <g id=\"text_3\">\n",
       "      <!-- $50$ -->\n",
       "      <g transform=\"translate(98.143366 214.878498)scale(0.1 -0.1)\">\n",
       "       <use transform=\"scale(0.996264)\" xlink:href=\"#CMR17-53\"/>\n",
       "       <use transform=\"translate(45.690477 0)scale(0.996264)\" xlink:href=\"#CMR17-48\"/>\n",
       "      </g>\n",
       "     </g>\n",
       "    </g>\n",
       "    <g id=\"xtick_4\">\n",
       "     <g id=\"line2d_4\">\n",
       "      <g>\n",
       "       <use style=\"stroke:#000000;stroke-width:0.8;\" x=\"135.642183\" xlink:href=\"#mfb4a435678\" y=\"200.96\"/>\n",
       "      </g>\n",
       "     </g>\n",
       "     <g id=\"text_4\">\n",
       "      <!-- $75$ -->\n",
       "      <defs>\n",
       "       <path d=\"M 45.09375 61.578125 \n",
       "L 45.09375 63.765625 \n",
       "L 21.59375 63.765625 \n",
       "C 9.90625 63.765625 9.703125 65.078125 9.296875 67 \n",
       "L 7.5 67 \n",
       "L 4.59375 48.34375 \n",
       "L 6.40625 48.34375 \n",
       "C 6.703125 50.234375 7.40625 55.3125 8.59375 57.203125 \n",
       "C 9.203125 58 16.59375 58 18.296875 58 \n",
       "L 40.296875 58 \n",
       "L 29.203125 41.578125 \n",
       "C 21.796875 30.53125 16.703125 15.609375 16.703125 2.578125 \n",
       "C 16.703125 1.390625 16.703125 -2 20.296875 -2 \n",
       "C 23.90625 -2 23.90625 1.390625 23.90625 2.671875 \n",
       "L 23.90625 7.265625 \n",
       "C 23.90625 23.5625 26.703125 34.3125 31.296875 41.1875 \n",
       "z\n",
       "\" id=\"CMR17-55\"/>\n",
       "      </defs>\n",
       "      <g transform=\"translate(130.660848 214.878498)scale(0.1 -0.1)\">\n",
       "       <use transform=\"scale(0.996264)\" xlink:href=\"#CMR17-55\"/>\n",
       "       <use transform=\"translate(45.690477 0)scale(0.996264)\" xlink:href=\"#CMR17-53\"/>\n",
       "      </g>\n",
       "     </g>\n",
       "    </g>\n",
       "    <g id=\"xtick_5\">\n",
       "     <g id=\"line2d_5\">\n",
       "      <g>\n",
       "       <use style=\"stroke:#000000;stroke-width:0.8;\" x=\"168.159666\" xlink:href=\"#mfb4a435678\" y=\"200.96\"/>\n",
       "      </g>\n",
       "     </g>\n",
       "     <g id=\"text_5\">\n",
       "      <!-- $100$ -->\n",
       "      <defs>\n",
       "       <path d=\"M 26.59375 63.40625 \n",
       "C 26.59375 65.5 26.5 65.5 25.09375 65.5 \n",
       "C 21.203125 61.1875 15.296875 59.796875 9.703125 59.796875 \n",
       "C 9.40625 59.796875 8.90625 59.796875 8.796875 59.5 \n",
       "C 8.703125 59.296875 8.703125 59.09375 8.703125 57 \n",
       "C 11.796875 57 17 57.59375 21 59.984375 \n",
       "L 21 7.203125 \n",
       "C 21 3.6875 20.796875 2.5 12.203125 2.5 \n",
       "L 9.203125 2.5 \n",
       "L 9.203125 0 \n",
       "C 14 0 19 0 23.796875 0 \n",
       "C 28.59375 0 33.59375 0 38.40625 0 \n",
       "L 38.40625 2.5 \n",
       "L 35.40625 2.5 \n",
       "C 26.796875 2.5 26.59375 3.59375 26.59375 7.15625 \n",
       "z\n",
       "\" id=\"CMR17-49\"/>\n",
       "      </defs>\n",
       "      <g transform=\"translate(160.687663 214.878498)scale(0.1 -0.1)\">\n",
       "       <use transform=\"scale(0.996264)\" xlink:href=\"#CMR17-49\"/>\n",
       "       <use transform=\"translate(45.690477 0)scale(0.996264)\" xlink:href=\"#CMR17-48\"/>\n",
       "       <use transform=\"translate(91.380954 0)scale(0.996264)\" xlink:href=\"#CMR17-48\"/>\n",
       "      </g>\n",
       "     </g>\n",
       "    </g>\n",
       "    <g id=\"xtick_6\">\n",
       "     <g id=\"line2d_6\">\n",
       "      <g>\n",
       "       <use style=\"stroke:#000000;stroke-width:0.8;\" x=\"200.677148\" xlink:href=\"#mfb4a435678\" y=\"200.96\"/>\n",
       "      </g>\n",
       "     </g>\n",
       "     <g id=\"text_6\">\n",
       "      <!-- $125$ -->\n",
       "      <g transform=\"translate(193.205146 214.878498)scale(0.1 -0.1)\">\n",
       "       <use transform=\"scale(0.996264)\" xlink:href=\"#CMR17-49\"/>\n",
       "       <use transform=\"translate(45.690477 0)scale(0.996264)\" xlink:href=\"#CMR17-50\"/>\n",
       "       <use transform=\"translate(91.380954 0)scale(0.996264)\" xlink:href=\"#CMR17-53\"/>\n",
       "      </g>\n",
       "     </g>\n",
       "    </g>\n",
       "    <g id=\"xtick_7\">\n",
       "     <g id=\"line2d_7\">\n",
       "      <g>\n",
       "       <use style=\"stroke:#000000;stroke-width:0.8;\" x=\"233.194631\" xlink:href=\"#mfb4a435678\" y=\"200.96\"/>\n",
       "      </g>\n",
       "     </g>\n",
       "     <g id=\"text_7\">\n",
       "      <!-- $150$ -->\n",
       "      <g transform=\"translate(225.722628 214.878498)scale(0.1 -0.1)\">\n",
       "       <use transform=\"scale(0.996264)\" xlink:href=\"#CMR17-49\"/>\n",
       "       <use transform=\"translate(45.690477 0)scale(0.996264)\" xlink:href=\"#CMR17-53\"/>\n",
       "       <use transform=\"translate(91.380954 0)scale(0.996264)\" xlink:href=\"#CMR17-48\"/>\n",
       "      </g>\n",
       "     </g>\n",
       "    </g>\n",
       "    <g id=\"xtick_8\">\n",
       "     <g id=\"line2d_8\">\n",
       "      <g>\n",
       "       <use style=\"stroke:#000000;stroke-width:0.8;\" x=\"265.712114\" xlink:href=\"#mfb4a435678\" y=\"200.96\"/>\n",
       "      </g>\n",
       "     </g>\n",
       "     <g id=\"text_8\">\n",
       "      <!-- $175$ -->\n",
       "      <g transform=\"translate(258.240111 214.878498)scale(0.1 -0.1)\">\n",
       "       <use transform=\"scale(0.996264)\" xlink:href=\"#CMR17-49\"/>\n",
       "       <use transform=\"translate(45.690477 0)scale(0.996264)\" xlink:href=\"#CMR17-55\"/>\n",
       "       <use transform=\"translate(91.380954 0)scale(0.996264)\" xlink:href=\"#CMR17-53\"/>\n",
       "      </g>\n",
       "     </g>\n",
       "    </g>\n",
       "    <g id=\"xtick_9\">\n",
       "     <g id=\"line2d_9\">\n",
       "      <g>\n",
       "       <use style=\"stroke:#000000;stroke-width:0.8;\" x=\"298.229596\" xlink:href=\"#mfb4a435678\" y=\"200.96\"/>\n",
       "      </g>\n",
       "     </g>\n",
       "     <g id=\"text_9\">\n",
       "      <!-- $200$ -->\n",
       "      <g transform=\"translate(290.757593 214.878498)scale(0.1 -0.1)\">\n",
       "       <use transform=\"scale(0.996264)\" xlink:href=\"#CMR17-50\"/>\n",
       "       <use transform=\"translate(45.690477 0)scale(0.996264)\" xlink:href=\"#CMR17-48\"/>\n",
       "       <use transform=\"translate(91.380954 0)scale(0.996264)\" xlink:href=\"#CMR17-48\"/>\n",
       "      </g>\n",
       "     </g>\n",
       "    </g>\n",
       "   </g>\n",
       "   <g id=\"matplotlib.axis_2\">\n",
       "    <g id=\"ytick_1\">\n",
       "     <g id=\"line2d_10\">\n",
       "      <defs>\n",
       "       <path d=\"M 0 0 \n",
       "L -3.5 0 \n",
       "\" id=\"m8da671c5f9\" style=\"stroke:#000000;stroke-width:0.8;\"/>\n",
       "      </defs>\n",
       "      <g>\n",
       "       <use style=\"stroke:#000000;stroke-width:0.8;\" x=\"31.911414\" xlink:href=\"#m8da671c5f9\" y=\"181.063459\"/>\n",
       "      </g>\n",
       "     </g>\n",
       "     <g id=\"text_10\">\n",
       "      <!-- $0.25$ -->\n",
       "      <defs>\n",
       "       <path d=\"M 18.40625 4.796875 \n",
       "C 18.40625 7.6875 16 9.671875 13.59375 9.671875 \n",
       "C 10.703125 9.671875 8.703125 7.28125 8.703125 4.890625 \n",
       "C 8.703125 2 11.09375 0 13.5 0 \n",
       "C 16.40625 0 18.40625 2.390625 18.40625 4.796875 \n",
       "z\n",
       "\" id=\"CMMI12-58\"/>\n",
       "      </defs>\n",
       "      <g transform=\"translate(7.2 184.522708)scale(0.1 -0.1)\">\n",
       "       <use transform=\"scale(0.996264)\" xlink:href=\"#CMR17-48\"/>\n",
       "       <use transform=\"translate(45.690477 0)scale(0.996264)\" xlink:href=\"#CMMI12-58\"/>\n",
       "       <use transform=\"translate(72.787654 0)scale(0.996264)\" xlink:href=\"#CMR17-50\"/>\n",
       "       <use transform=\"translate(118.478131 0)scale(0.996264)\" xlink:href=\"#CMR17-53\"/>\n",
       "      </g>\n",
       "     </g>\n",
       "    </g>\n",
       "    <g id=\"ytick_2\">\n",
       "     <g id=\"line2d_11\">\n",
       "      <g>\n",
       "       <use style=\"stroke:#000000;stroke-width:0.8;\" x=\"31.911414\" xlink:href=\"#m8da671c5f9\" y=\"157.868497\"/>\n",
       "      </g>\n",
       "     </g>\n",
       "     <g id=\"text_11\">\n",
       "      <!-- $0.50$ -->\n",
       "      <g transform=\"translate(7.2 161.327746)scale(0.1 -0.1)\">\n",
       "       <use transform=\"scale(0.996264)\" xlink:href=\"#CMR17-48\"/>\n",
       "       <use transform=\"translate(45.690477 0)scale(0.996264)\" xlink:href=\"#CMMI12-58\"/>\n",
       "       <use transform=\"translate(72.787654 0)scale(0.996264)\" xlink:href=\"#CMR17-53\"/>\n",
       "       <use transform=\"translate(118.478131 0)scale(0.996264)\" xlink:href=\"#CMR17-48\"/>\n",
       "      </g>\n",
       "     </g>\n",
       "    </g>\n",
       "    <g id=\"ytick_3\">\n",
       "     <g id=\"line2d_12\">\n",
       "      <g>\n",
       "       <use style=\"stroke:#000000;stroke-width:0.8;\" x=\"31.911414\" xlink:href=\"#m8da671c5f9\" y=\"134.673534\"/>\n",
       "      </g>\n",
       "     </g>\n",
       "     <g id=\"text_12\">\n",
       "      <!-- $0.75$ -->\n",
       "      <g transform=\"translate(7.2 138.132784)scale(0.1 -0.1)\">\n",
       "       <use transform=\"scale(0.996264)\" xlink:href=\"#CMR17-48\"/>\n",
       "       <use transform=\"translate(45.690477 0)scale(0.996264)\" xlink:href=\"#CMMI12-58\"/>\n",
       "       <use transform=\"translate(72.787654 0)scale(0.996264)\" xlink:href=\"#CMR17-55\"/>\n",
       "       <use transform=\"translate(118.478131 0)scale(0.996264)\" xlink:href=\"#CMR17-53\"/>\n",
       "      </g>\n",
       "     </g>\n",
       "    </g>\n",
       "    <g id=\"ytick_4\">\n",
       "     <g id=\"line2d_13\">\n",
       "      <g>\n",
       "       <use style=\"stroke:#000000;stroke-width:0.8;\" x=\"31.911414\" xlink:href=\"#m8da671c5f9\" y=\"111.478572\"/>\n",
       "      </g>\n",
       "     </g>\n",
       "     <g id=\"text_13\">\n",
       "      <!-- $1.00$ -->\n",
       "      <g transform=\"translate(7.2 114.937821)scale(0.1 -0.1)\">\n",
       "       <use transform=\"scale(0.996264)\" xlink:href=\"#CMR17-49\"/>\n",
       "       <use transform=\"translate(45.690477 0)scale(0.996264)\" xlink:href=\"#CMMI12-58\"/>\n",
       "       <use transform=\"translate(72.787654 0)scale(0.996264)\" xlink:href=\"#CMR17-48\"/>\n",
       "       <use transform=\"translate(118.478131 0)scale(0.996264)\" xlink:href=\"#CMR17-48\"/>\n",
       "      </g>\n",
       "     </g>\n",
       "    </g>\n",
       "    <g id=\"ytick_5\">\n",
       "     <g id=\"line2d_14\">\n",
       "      <g>\n",
       "       <use style=\"stroke:#000000;stroke-width:0.8;\" x=\"31.911414\" xlink:href=\"#m8da671c5f9\" y=\"88.28361\"/>\n",
       "      </g>\n",
       "     </g>\n",
       "     <g id=\"text_14\">\n",
       "      <!-- $1.25$ -->\n",
       "      <g transform=\"translate(7.2 91.742859)scale(0.1 -0.1)\">\n",
       "       <use transform=\"scale(0.996264)\" xlink:href=\"#CMR17-49\"/>\n",
       "       <use transform=\"translate(45.690477 0)scale(0.996264)\" xlink:href=\"#CMMI12-58\"/>\n",
       "       <use transform=\"translate(72.787654 0)scale(0.996264)\" xlink:href=\"#CMR17-50\"/>\n",
       "       <use transform=\"translate(118.478131 0)scale(0.996264)\" xlink:href=\"#CMR17-53\"/>\n",
       "      </g>\n",
       "     </g>\n",
       "    </g>\n",
       "    <g id=\"ytick_6\">\n",
       "     <g id=\"line2d_15\">\n",
       "      <g>\n",
       "       <use style=\"stroke:#000000;stroke-width:0.8;\" x=\"31.911414\" xlink:href=\"#m8da671c5f9\" y=\"65.088647\"/>\n",
       "      </g>\n",
       "     </g>\n",
       "     <g id=\"text_15\">\n",
       "      <!-- $1.50$ -->\n",
       "      <g transform=\"translate(7.2 68.547897)scale(0.1 -0.1)\">\n",
       "       <use transform=\"scale(0.996264)\" xlink:href=\"#CMR17-49\"/>\n",
       "       <use transform=\"translate(45.690477 0)scale(0.996264)\" xlink:href=\"#CMMI12-58\"/>\n",
       "       <use transform=\"translate(72.787654 0)scale(0.996264)\" xlink:href=\"#CMR17-53\"/>\n",
       "       <use transform=\"translate(118.478131 0)scale(0.996264)\" xlink:href=\"#CMR17-48\"/>\n",
       "      </g>\n",
       "     </g>\n",
       "    </g>\n",
       "    <g id=\"ytick_7\">\n",
       "     <g id=\"line2d_16\">\n",
       "      <g>\n",
       "       <use style=\"stroke:#000000;stroke-width:0.8;\" x=\"31.911414\" xlink:href=\"#m8da671c5f9\" y=\"41.893685\"/>\n",
       "      </g>\n",
       "     </g>\n",
       "     <g id=\"text_16\">\n",
       "      <!-- $1.75$ -->\n",
       "      <g transform=\"translate(7.2 45.352934)scale(0.1 -0.1)\">\n",
       "       <use transform=\"scale(0.996264)\" xlink:href=\"#CMR17-49\"/>\n",
       "       <use transform=\"translate(45.690477 0)scale(0.996264)\" xlink:href=\"#CMMI12-58\"/>\n",
       "       <use transform=\"translate(72.787654 0)scale(0.996264)\" xlink:href=\"#CMR17-55\"/>\n",
       "       <use transform=\"translate(118.478131 0)scale(0.996264)\" xlink:href=\"#CMR17-53\"/>\n",
       "      </g>\n",
       "     </g>\n",
       "    </g>\n",
       "    <g id=\"ytick_8\">\n",
       "     <g id=\"line2d_17\">\n",
       "      <g>\n",
       "       <use style=\"stroke:#000000;stroke-width:0.8;\" x=\"31.911414\" xlink:href=\"#m8da671c5f9\" y=\"18.698723\"/>\n",
       "      </g>\n",
       "     </g>\n",
       "     <g id=\"text_17\">\n",
       "      <!-- $2.00$ -->\n",
       "      <g transform=\"translate(7.2 22.157972)scale(0.1 -0.1)\">\n",
       "       <use transform=\"scale(0.996264)\" xlink:href=\"#CMR17-50\"/>\n",
       "       <use transform=\"translate(45.690477 0)scale(0.996264)\" xlink:href=\"#CMMI12-58\"/>\n",
       "       <use transform=\"translate(72.787654 0)scale(0.996264)\" xlink:href=\"#CMR17-48\"/>\n",
       "       <use transform=\"translate(118.478131 0)scale(0.996264)\" xlink:href=\"#CMR17-48\"/>\n",
       "      </g>\n",
       "     </g>\n",
       "    </g>\n",
       "   </g>\n",
       "   <g id=\"line2d_18\">\n",
       "    <path clip-path=\"url(#p773b3abbda)\" d=\"M 44.593232 19.348182 \n",
       "L 51.096729 94.819022 \n",
       "L 57.600225 131.192847 \n",
       "L 64.103722 131.6285 \n",
       "L 70.607218 151.949142 \n",
       "L 77.110715 154.543267 \n",
       "L 83.614211 154.373234 \n",
       "L 90.117708 164.608953 \n",
       "L 96.621204 170.928371 \n",
       "L 103.124701 174.260098 \n",
       "L 109.628197 171.932664 \n",
       "L 116.131694 173.519014 \n",
       "L 122.63519 178.623492 \n",
       "L 129.138687 182.685402 \n",
       "L 135.642183 181.931796 \n",
       "L 142.14568 182.733496 \n",
       "L 148.649176 181.532238 \n",
       "L 155.152673 183.988246 \n",
       "L 161.656169 183.788205 \n",
       "L 168.159666 181.567068 \n",
       "L 174.663162 186.616019 \n",
       "L 181.166659 186.625312 \n",
       "L 187.670155 186.609575 \n",
       "L 194.173652 177.980591 \n",
       "L 200.677148 185.768214 \n",
       "L 207.180645 185.633849 \n",
       "L 213.684142 188.54911 \n",
       "L 220.187638 188.971294 \n",
       "L 226.691135 188.710209 \n",
       "L 233.194631 186.825541 \n",
       "L 239.698128 190.099374 \n",
       "L 246.201624 189.218344 \n",
       "L 252.705121 190.595915 \n",
       "L 259.208617 192.311818 \n",
       "L 265.712114 189.405602 \n",
       "L 272.21561 190.434132 \n",
       "L 278.719107 189.729829 \n",
       "L 285.222603 191.756642 \n",
       "L 291.7261 191.077463 \n",
       "L 298.229596 189.052732 \n",
       "\" style=\"fill:none;stroke:#1f77b4;stroke-linecap:square;stroke-width:1.5;\"/>\n",
       "   </g>\n",
       "   <g id=\"patch_3\">\n",
       "    <path d=\"M 31.911414 200.96 \n",
       "L 31.911414 10.7 \n",
       "\" style=\"fill:none;stroke:#000000;stroke-linecap:square;stroke-linejoin:miter;stroke-width:0.8;\"/>\n",
       "   </g>\n",
       "   <g id=\"patch_4\">\n",
       "    <path d=\"M 310.911414 200.96 \n",
       "L 310.911414 10.7 \n",
       "\" style=\"fill:none;stroke:#000000;stroke-linecap:square;stroke-linejoin:miter;stroke-width:0.8;\"/>\n",
       "   </g>\n",
       "   <g id=\"patch_5\">\n",
       "    <path d=\"M 31.911414 200.96 \n",
       "L 310.911414 200.96 \n",
       "\" style=\"fill:none;stroke:#000000;stroke-linecap:square;stroke-linejoin:miter;stroke-width:0.8;\"/>\n",
       "   </g>\n",
       "   <g id=\"patch_6\">\n",
       "    <path d=\"M 31.911414 10.7 \n",
       "L 310.911414 10.7 \n",
       "\" style=\"fill:none;stroke:#000000;stroke-linecap:square;stroke-linejoin:miter;stroke-width:0.8;\"/>\n",
       "   </g>\n",
       "  </g>\n",
       " </g>\n",
       " <defs>\n",
       "  <clipPath id=\"p773b3abbda\">\n",
       "   <rect height=\"190.26\" width=\"279\" x=\"31.911414\" y=\"10.7\"/>\n",
       "  </clipPath>\n",
       " </defs>\n",
       "</svg>\n"
      ],
      "text/plain": [
       "<Figure size 360x252 with 1 Axes>"
      ]
     },
     "metadata": {
      "needs_background": "light"
     },
     "output_type": "display_data"
    }
   ],
   "source": [
    "plt.plot(ns,diff.max(axis=1))"
   ]
  },
  {
   "cell_type": "code",
   "execution_count": 20,
   "metadata": {
    "autoscroll": "json-false",
    "ein.tags": [
     "worksheet-0"
    ],
    "slideshow": {
     "slide_type": "-"
    }
   },
   "outputs": [],
   "source": [
    "lamb = 1/2\n",
    "delta = 0.03\n",
    "rms = r_true.max()**2\n",
    "beta = rms/(2*lamb*ns)\n"
   ]
  },
  {
   "cell_type": "code",
   "execution_count": 21,
   "metadata": {
    "autoscroll": "json-false",
    "ein.tags": [
     "worksheet-0"
    ],
    "slideshow": {
     "slide_type": "-"
    }
   },
   "outputs": [
    {
     "data": {
      "image/svg": "<?xml version=\"1.0\" encoding=\"utf-8\" standalone=\"no\"?>\n<!DOCTYPE svg PUBLIC \"-//W3C//DTD SVG 1.1//EN\"\n  \"http://www.w3.org/Graphics/SVG/1.1/DTD/svg11.dtd\">\n<!-- Created with matplotlib (http://matplotlib.org/) -->\n<svg height=\"275pt\" version=\"1.1\" viewBox=\"0 0 372 275\" width=\"372pt\" xmlns=\"http://www.w3.org/2000/svg\" xmlns:xlink=\"http://www.w3.org/1999/xlink\">\n <defs>\n  <style type=\"text/css\">\n*{stroke-linecap:butt;stroke-linejoin:round;}\n  </style>\n </defs>\n <g id=\"figure_1\">\n  <g id=\"patch_1\">\n   <path d=\"M 0 275.51773 \nL 372.430079 275.51773 \nL 372.430079 0 \nL 0 0 \nz\n\" style=\"fill:none;\"/>\n  </g>\n  <g id=\"axes_1\">\n   <g id=\"patch_2\">\n    <path d=\"M 26.930079 239.606376 \nL 361.730079 239.606376 \nL 361.730079 22.166376 \nL 26.930079 22.166376 \nz\n\" style=\"fill:#ffffff;\"/>\n   </g>\n   <g id=\"matplotlib.axis_1\">\n    <g id=\"xtick_1\">\n     <g id=\"line2d_1\">\n      <defs>\n       <path d=\"M 0 0 \nL 0 3.5 \n\" id=\"me679850ec7\" style=\"stroke:#000000;stroke-width:0.8;\"/>\n      </defs>\n      <g>\n       <use style=\"stroke:#000000;stroke-width:0.8;\" x=\"34.344065\" xlink:href=\"#me679850ec7\" y=\"239.606376\"/>\n      </g>\n     </g>\n     <g id=\"text_1\">\n      <!-- $0$ -->\n      <defs>\n       <path d=\"M 42 31.640625 \nC 42 37.75 41.90625 48.125 37.703125 56.109375 \nC 34 63.109375 28.09375 65.59375 22.90625 65.59375 \nC 18.09375 65.59375 12 63.40625 8.203125 56.203125 \nC 4.203125 48.71875 3.796875 39.4375 3.796875 31.640625 \nC 3.796875 25.953125 3.90625 17.28125 7 9.671875 \nC 11.296875 -0.609375 19 -2 22.90625 -2 \nC 27.5 -2 34.5 -0.109375 38.59375 9.375 \nC 41.59375 16.28125 42 24.359375 42 31.640625 \nM 22.90625 -0.40625 \nC 16.5 -0.40625 12.703125 5.078125 11.296875 12.6875 \nC 10.203125 18.5625 10.203125 27.15625 10.203125 32.75 \nC 10.203125 40.4375 10.203125 46.828125 11.5 52.921875 \nC 13.40625 61.390625 19 64 22.90625 64 \nC 27 64 32.296875 61.296875 34.203125 53.125 \nC 35.5 47.4375 35.59375 40.734375 35.59375 32.75 \nC 35.59375 26.25 35.59375 18.265625 34.40625 12.375 \nC 32.296875 1.484375 26.40625 -0.40625 22.90625 -0.40625 \n\" id=\"CMR17-48\"/>\n      </defs>\n      <g transform=\"translate(31.853397 253.524874)scale(0.1 -0.1)\">\n       <use transform=\"scale(0.996264)\" xlink:href=\"#CMR17-48\"/>\n      </g>\n     </g>\n    </g>\n    <g id=\"xtick_2\">\n     <g id=\"line2d_2\">\n      <g>\n       <use style=\"stroke:#000000;stroke-width:0.8;\" x=\"73.365044\" xlink:href=\"#me679850ec7\" y=\"239.606376\"/>\n      </g>\n     </g>\n     <g id=\"text_2\">\n      <!-- $25$ -->\n      <defs>\n       <path d=\"M 41.703125 15.453125 \nL 39.90625 15.453125 \nC 38.90625 8.375 38.09375 7.171875 37.703125 6.5625 \nC 37.203125 5.765625 30 5.765625 28.59375 5.765625 \nL 9.40625 5.765625 \nC 13 9.671875 20 16.75 28.5 24.953125 \nC 34.59375 30.734375 41.703125 37.53125 41.703125 47.421875 \nC 41.703125 59.21875 32.296875 66 21.796875 66 \nC 10.796875 66 4.09375 56.3125 4.09375 47.34375 \nC 4.09375 43.4375 7 42.9375 8.203125 42.9375 \nC 9.203125 42.9375 12.203125 43.546875 12.203125 47.03125 \nC 12.203125 50.109375 9.59375 51 8.203125 51 \nC 7.59375 51 7 50.90625 6.59375 50.703125 \nC 8.5 59.21875 14.296875 63.40625 20.40625 63.40625 \nC 29.09375 63.40625 34.796875 56.515625 34.796875 47.421875 \nC 34.796875 38.734375 29.703125 31.25 24 24.75 \nL 4.09375 2.28125 \nL 4.09375 0 \nL 39.296875 0 \nz\n\" id=\"CMR17-50\"/>\n       <path d=\"M 11.40625 57.6875 \nC 12.40625 57.28125 16.5 56 20.703125 56 \nC 30 56 35.09375 61.109375 38 64.0625 \nC 38 64.953125 38 65.5 37.40625 65.5 \nC 37.296875 65.5 37.09375 65.5 36.296875 65.046875 \nC 32.796875 63.40625 28.703125 62.078125 23.703125 62.078125 \nC 20.703125 62.078125 16.203125 62.484375 11.296875 64.671875 \nC 10.203125 65.171875 10 65.171875 9.90625 65.171875 \nC 9.40625 65.171875 9.296875 65.0625 9.296875 63.078125 \nL 9.296875 34.421875 \nC 9.296875 32.640625 9.296875 32.140625 10.296875 32.140625 \nC 10.796875 32.140625 11 32.34375 11.5 33.03125 \nC 14.703125 37.515625 19.09375 39.40625 24.09375 39.40625 \nC 27.59375 39.40625 35.09375 37.21875 35.09375 20.140625 \nC 35.09375 16.953125 35.09375 11.171875 32.09375 6.578125 \nC 29.59375 2.484375 25.703125 0.390625 21.40625 0.390625 \nC 14.796875 0.390625 8.09375 5 6.296875 12.71875 \nC 6.703125 12.609375 7.5 12.421875 7.90625 12.421875 \nC 9.203125 12.421875 11.703125 13.125 11.703125 16.21875 \nC 11.703125 18.90625 9.796875 20 7.90625 20 \nC 5.59375 20 4.09375 18.59375 4.09375 15.796875 \nC 4.09375 7.09375 11 -2 21.59375 -2 \nC 31.90625 -2 41.703125 6.875 41.703125 19.75 \nC 41.703125 31.71875 33.90625 41 24.203125 41 \nC 19.09375 41 14.796875 39.109375 11.40625 35.53125 \nz\n\" id=\"CMR17-53\"/>\n      </defs>\n      <g transform=\"translate(68.383709 253.524874)scale(0.1 -0.1)\">\n       <use transform=\"scale(0.996264)\" xlink:href=\"#CMR17-50\"/>\n       <use transform=\"translate(45.690477 0)scale(0.996264)\" xlink:href=\"#CMR17-53\"/>\n      </g>\n     </g>\n    </g>\n    <g id=\"xtick_3\">\n     <g id=\"line2d_3\">\n      <g>\n       <use style=\"stroke:#000000;stroke-width:0.8;\" x=\"112.386023\" xlink:href=\"#me679850ec7\" y=\"239.606376\"/>\n      </g>\n     </g>\n     <g id=\"text_3\">\n      <!-- $50$ -->\n      <g transform=\"translate(107.404688 253.524874)scale(0.1 -0.1)\">\n       <use transform=\"scale(0.996264)\" xlink:href=\"#CMR17-53\"/>\n       <use transform=\"translate(45.690477 0)scale(0.996264)\" xlink:href=\"#CMR17-48\"/>\n      </g>\n     </g>\n    </g>\n    <g id=\"xtick_4\">\n     <g id=\"line2d_4\">\n      <g>\n       <use style=\"stroke:#000000;stroke-width:0.8;\" x=\"151.407002\" xlink:href=\"#me679850ec7\" y=\"239.606376\"/>\n      </g>\n     </g>\n     <g id=\"text_4\">\n      <!-- $75$ -->\n      <defs>\n       <path d=\"M 45.09375 61.578125 \nL 45.09375 63.765625 \nL 21.59375 63.765625 \nC 9.90625 63.765625 9.703125 65.078125 9.296875 67 \nL 7.5 67 \nL 4.59375 48.34375 \nL 6.40625 48.34375 \nC 6.703125 50.234375 7.40625 55.3125 8.59375 57.203125 \nC 9.203125 58 16.59375 58 18.296875 58 \nL 40.296875 58 \nL 29.203125 41.578125 \nC 21.796875 30.53125 16.703125 15.609375 16.703125 2.578125 \nC 16.703125 1.390625 16.703125 -2 20.296875 -2 \nC 23.90625 -2 23.90625 1.390625 23.90625 2.671875 \nL 23.90625 7.265625 \nC 23.90625 23.5625 26.703125 34.3125 31.296875 41.1875 \nz\n\" id=\"CMR17-55\"/>\n      </defs>\n      <g transform=\"translate(146.425667 253.524874)scale(0.1 -0.1)\">\n       <use transform=\"scale(0.996264)\" xlink:href=\"#CMR17-55\"/>\n       <use transform=\"translate(45.690477 0)scale(0.996264)\" xlink:href=\"#CMR17-53\"/>\n      </g>\n     </g>\n    </g>\n    <g id=\"xtick_5\">\n     <g id=\"line2d_5\">\n      <g>\n       <use style=\"stroke:#000000;stroke-width:0.8;\" x=\"190.427981\" xlink:href=\"#me679850ec7\" y=\"239.606376\"/>\n      </g>\n     </g>\n     <g id=\"text_5\">\n      <!-- $100$ -->\n      <defs>\n       <path d=\"M 26.59375 63.40625 \nC 26.59375 65.5 26.5 65.5 25.09375 65.5 \nC 21.203125 61.1875 15.296875 59.796875 9.703125 59.796875 \nC 9.40625 59.796875 8.90625 59.796875 8.796875 59.5 \nC 8.703125 59.296875 8.703125 59.09375 8.703125 57 \nC 11.796875 57 17 57.59375 21 59.984375 \nL 21 7.203125 \nC 21 3.6875 20.796875 2.5 12.203125 2.5 \nL 9.203125 2.5 \nL 9.203125 0 \nC 14 0 19 0 23.796875 0 \nC 28.59375 0 33.59375 0 38.40625 0 \nL 38.40625 2.5 \nL 35.40625 2.5 \nC 26.796875 2.5 26.59375 3.59375 26.59375 7.15625 \nz\n\" id=\"CMR17-49\"/>\n      </defs>\n      <g transform=\"translate(182.955978 253.524874)scale(0.1 -0.1)\">\n       <use transform=\"scale(0.996264)\" xlink:href=\"#CMR17-49\"/>\n       <use transform=\"translate(45.690477 0)scale(0.996264)\" xlink:href=\"#CMR17-48\"/>\n       <use transform=\"translate(91.380954 0)scale(0.996264)\" xlink:href=\"#CMR17-48\"/>\n      </g>\n     </g>\n    </g>\n    <g id=\"xtick_6\">\n     <g id=\"line2d_6\">\n      <g>\n       <use style=\"stroke:#000000;stroke-width:0.8;\" x=\"229.44896\" xlink:href=\"#me679850ec7\" y=\"239.606376\"/>\n      </g>\n     </g>\n     <g id=\"text_6\">\n      <!-- $125$ -->\n      <g transform=\"translate(221.976957 253.524874)scale(0.1 -0.1)\">\n       <use transform=\"scale(0.996264)\" xlink:href=\"#CMR17-49\"/>\n       <use transform=\"translate(45.690477 0)scale(0.996264)\" xlink:href=\"#CMR17-50\"/>\n       <use transform=\"translate(91.380954 0)scale(0.996264)\" xlink:href=\"#CMR17-53\"/>\n      </g>\n     </g>\n    </g>\n    <g id=\"xtick_7\">\n     <g id=\"line2d_7\">\n      <g>\n       <use style=\"stroke:#000000;stroke-width:0.8;\" x=\"268.469939\" xlink:href=\"#me679850ec7\" y=\"239.606376\"/>\n      </g>\n     </g>\n     <g id=\"text_7\">\n      <!-- $150$ -->\n      <g transform=\"translate(260.997936 253.524874)scale(0.1 -0.1)\">\n       <use transform=\"scale(0.996264)\" xlink:href=\"#CMR17-49\"/>\n       <use transform=\"translate(45.690477 0)scale(0.996264)\" xlink:href=\"#CMR17-53\"/>\n       <use transform=\"translate(91.380954 0)scale(0.996264)\" xlink:href=\"#CMR17-48\"/>\n      </g>\n     </g>\n    </g>\n    <g id=\"xtick_8\">\n     <g id=\"line2d_8\">\n      <g>\n       <use style=\"stroke:#000000;stroke-width:0.8;\" x=\"307.490918\" xlink:href=\"#me679850ec7\" y=\"239.606376\"/>\n      </g>\n     </g>\n     <g id=\"text_8\">\n      <!-- $175$ -->\n      <g transform=\"translate(300.018915 253.524874)scale(0.1 -0.1)\">\n       <use transform=\"scale(0.996264)\" xlink:href=\"#CMR17-49\"/>\n       <use transform=\"translate(45.690477 0)scale(0.996264)\" xlink:href=\"#CMR17-55\"/>\n       <use transform=\"translate(91.380954 0)scale(0.996264)\" xlink:href=\"#CMR17-53\"/>\n      </g>\n     </g>\n    </g>\n    <g id=\"xtick_9\">\n     <g id=\"line2d_9\">\n      <g>\n       <use style=\"stroke:#000000;stroke-width:0.8;\" x=\"346.511897\" xlink:href=\"#me679850ec7\" y=\"239.606376\"/>\n      </g>\n     </g>\n     <g id=\"text_9\">\n      <!-- $200$ -->\n      <g transform=\"translate(339.039894 253.524874)scale(0.1 -0.1)\">\n       <use transform=\"scale(0.996264)\" xlink:href=\"#CMR17-50\"/>\n       <use transform=\"translate(45.690477 0)scale(0.996264)\" xlink:href=\"#CMR17-48\"/>\n       <use transform=\"translate(91.380954 0)scale(0.996264)\" xlink:href=\"#CMR17-48\"/>\n      </g>\n     </g>\n    </g>\n    <g id=\"text_10\">\n     <!-- $n$ -->\n     <defs>\n      <path d=\"M 20.59375 29.234375 \nC 20.796875 29.84375 23.296875 34.828125 27 38.015625 \nC 29.59375 40.40625 33 42.015625 36.90625 42.015625 \nC 40.90625 42.015625 42.296875 39.015625 42.296875 35.03125 \nC 42.296875 29.34375 38.203125 17.96875 36.203125 12.578125 \nC 35.296875 10.171875 34.796875 8.875 34.796875 7.078125 \nC 34.796875 2.59375 37.90625 -1 42.703125 -1 \nC 52 -1 55.5 13.671875 55.5 14.265625 \nC 55.5 14.765625 55.09375 15.171875 54.5 15.171875 \nC 53.59375 15.171875 53.5 14.875 53 13.171875 \nC 50.703125 4.984375 46.90625 1 43 1 \nC 42 1 40.40625 1 40.40625 4.203125 \nC 40.40625 6.703125 41.5 9.703125 42.09375 11.09375 \nC 44.09375 16.609375 48.296875 27.8125 48.296875 33.515625 \nC 48.296875 39.5 44.796875 44 37.203125 44 \nC 28.296875 44 23.59375 37.734375 21.796875 35.234375 \nC 21.5 40.90625 17.40625 44 13 44 \nC 9.796875 44 7.59375 42.109375 5.90625 38.71875 \nC 4.09375 35.125 2.703125 29.140625 2.703125 28.734375 \nC 2.703125 28.34375 3.09375 27.84375 3.796875 27.84375 \nC 4.59375 27.84375 4.703125 27.9375 5.296875 30.234375 \nC 6.90625 36.328125 8.703125 42.015625 12.703125 42.015625 \nC 15 42.015625 15.796875 40.40625 15.796875 37.421875 \nC 15.796875 35.21875 14.796875 31.328125 14.09375 28.234375 \nL 11.296875 17.46875 \nC 10.90625 15.5625 9.796875 11.078125 9.296875 9.28125 \nC 8.59375 6.6875 7.5 2 7.5 1.5 \nC 7.5 0.09375 8.59375 -1 10.09375 -1 \nC 11.296875 -1 12.703125 -0.40625 13.5 1.09375 \nC 13.703125 1.59375 14.59375 5.09375 15.09375 7.078125 \nL 17.296875 16.0625 \nz\n\" id=\"CMMI12-110\"/>\n     </defs>\n     <g transform=\"translate(191.340116 266.380551)scale(0.1 -0.1)\">\n      <use transform=\"scale(0.996264)\" xlink:href=\"#CMMI12-110\"/>\n     </g>\n    </g>\n   </g>\n   <g id=\"matplotlib.axis_2\">\n    <g id=\"ytick_1\">\n     <g id=\"line2d_10\">\n      <defs>\n       <path d=\"M 0 0 \nL -3.5 0 \n\" id=\"mf2352ce226\" style=\"stroke:#000000;stroke-width:0.8;\"/>\n      </defs>\n      <g>\n       <use style=\"stroke:#000000;stroke-width:0.8;\" x=\"26.930079\" xlink:href=\"#mf2352ce226\" y=\"230.611705\"/>\n      </g>\n     </g>\n     <g id=\"text_11\">\n      <!-- $0.0$ -->\n      <defs>\n       <path d=\"M 18.40625 4.796875 \nC 18.40625 7.6875 16 9.671875 13.59375 9.671875 \nC 10.703125 9.671875 8.703125 7.28125 8.703125 4.890625 \nC 8.703125 2 11.09375 0 13.5 0 \nC 16.40625 0 18.40625 2.390625 18.40625 4.796875 \n\" id=\"CMMI12-58\"/>\n      </defs>\n      <g transform=\"translate(7.2 234.070955)scale(0.1 -0.1)\">\n       <use transform=\"scale(0.996264)\" xlink:href=\"#CMR17-48\"/>\n       <use transform=\"translate(45.690477 0)scale(0.996264)\" xlink:href=\"#CMMI12-58\"/>\n       <use transform=\"translate(72.787654 0)scale(0.996264)\" xlink:href=\"#CMR17-48\"/>\n      </g>\n     </g>\n    </g>\n    <g id=\"ytick_2\">\n     <g id=\"line2d_11\">\n      <g>\n       <use style=\"stroke:#000000;stroke-width:0.8;\" x=\"26.930079\" xlink:href=\"#mf2352ce226\" y=\"197.244479\"/>\n      </g>\n     </g>\n     <g id=\"text_12\">\n      <!-- $0.5$ -->\n      <g transform=\"translate(7.2 200.703728)scale(0.1 -0.1)\">\n       <use transform=\"scale(0.996264)\" xlink:href=\"#CMR17-48\"/>\n       <use transform=\"translate(45.690477 0)scale(0.996264)\" xlink:href=\"#CMMI12-58\"/>\n       <use transform=\"translate(72.787654 0)scale(0.996264)\" xlink:href=\"#CMR17-53\"/>\n      </g>\n     </g>\n    </g>\n    <g id=\"ytick_3\">\n     <g id=\"line2d_12\">\n      <g>\n       <use style=\"stroke:#000000;stroke-width:0.8;\" x=\"26.930079\" xlink:href=\"#mf2352ce226\" y=\"163.877252\"/>\n      </g>\n     </g>\n     <g id=\"text_13\">\n      <!-- $1.0$ -->\n      <g transform=\"translate(7.2 167.336501)scale(0.1 -0.1)\">\n       <use transform=\"scale(0.996264)\" xlink:href=\"#CMR17-49\"/>\n       <use transform=\"translate(45.690477 0)scale(0.996264)\" xlink:href=\"#CMMI12-58\"/>\n       <use transform=\"translate(72.787654 0)scale(0.996264)\" xlink:href=\"#CMR17-48\"/>\n      </g>\n     </g>\n    </g>\n    <g id=\"ytick_4\">\n     <g id=\"line2d_13\">\n      <g>\n       <use style=\"stroke:#000000;stroke-width:0.8;\" x=\"26.930079\" xlink:href=\"#mf2352ce226\" y=\"130.510025\"/>\n      </g>\n     </g>\n     <g id=\"text_14\">\n      <!-- $1.5$ -->\n      <g transform=\"translate(7.2 133.969274)scale(0.1 -0.1)\">\n       <use transform=\"scale(0.996264)\" xlink:href=\"#CMR17-49\"/>\n       <use transform=\"translate(45.690477 0)scale(0.996264)\" xlink:href=\"#CMMI12-58\"/>\n       <use transform=\"translate(72.787654 0)scale(0.996264)\" xlink:href=\"#CMR17-53\"/>\n      </g>\n     </g>\n    </g>\n    <g id=\"ytick_5\">\n     <g id=\"line2d_14\">\n      <g>\n       <use style=\"stroke:#000000;stroke-width:0.8;\" x=\"26.930079\" xlink:href=\"#mf2352ce226\" y=\"97.142798\"/>\n      </g>\n     </g>\n     <g id=\"text_15\">\n      <!-- $2.0$ -->\n      <g transform=\"translate(7.2 100.602048)scale(0.1 -0.1)\">\n       <use transform=\"scale(0.996264)\" xlink:href=\"#CMR17-50\"/>\n       <use transform=\"translate(45.690477 0)scale(0.996264)\" xlink:href=\"#CMMI12-58\"/>\n       <use transform=\"translate(72.787654 0)scale(0.996264)\" xlink:href=\"#CMR17-48\"/>\n      </g>\n     </g>\n    </g>\n    <g id=\"ytick_6\">\n     <g id=\"line2d_15\">\n      <g>\n       <use style=\"stroke:#000000;stroke-width:0.8;\" x=\"26.930079\" xlink:href=\"#mf2352ce226\" y=\"63.775572\"/>\n      </g>\n     </g>\n     <g id=\"text_16\">\n      <!-- $2.5$ -->\n      <g transform=\"translate(7.2 67.234821)scale(0.1 -0.1)\">\n       <use transform=\"scale(0.996264)\" xlink:href=\"#CMR17-50\"/>\n       <use transform=\"translate(45.690477 0)scale(0.996264)\" xlink:href=\"#CMMI12-58\"/>\n       <use transform=\"translate(72.787654 0)scale(0.996264)\" xlink:href=\"#CMR17-53\"/>\n      </g>\n     </g>\n    </g>\n    <g id=\"ytick_7\">\n     <g id=\"line2d_16\">\n      <g>\n       <use style=\"stroke:#000000;stroke-width:0.8;\" x=\"26.930079\" xlink:href=\"#mf2352ce226\" y=\"30.408345\"/>\n      </g>\n     </g>\n     <g id=\"text_17\">\n      <!-- $3.0$ -->\n      <defs>\n       <path d=\"M 22.09375 33.703125 \nC 31 33.703125 34.90625 25.96875 34.90625 17.03125 \nC 34.90625 5 28.5 0.390625 22.703125 0.390625 \nC 17.40625 0.390625 8.796875 3.03125 6.09375 10.828125 \nC 6.59375 10.625 7.09375 10.625 7.59375 10.625 \nC 10 10.625 11.796875 12.21875 11.796875 14.8125 \nC 11.796875 17.703125 9.59375 19 7.59375 19 \nC 5.90625 19 3.296875 18.203125 3.296875 14.46875 \nC 3.296875 5.234375 12.296875 -2 22.90625 -2 \nC 34 -2 42.5 6.71875 42.5 16.953125 \nC 42.5 26.671875 34.5 33.703125 25 34.796875 \nC 32.59375 36.375 39.90625 43.0625 39.90625 52.015625 \nC 39.90625 59.6875 32 65.296875 23 65.296875 \nC 13.90625 65.296875 5.90625 59.828125 5.90625 52.015625 \nC 5.90625 48.59375 8.5 48 9.796875 48 \nC 11.90625 48 13.703125 49.296875 13.703125 51.890625 \nC 13.703125 54.46875 11.90625 55.765625 9.796875 55.765625 \nC 9.40625 55.765625 8.90625 55.765625 8.5 55.578125 \nC 11.40625 61.859375 19.296875 63 22.796875 63 \nC 26.296875 63 32.90625 61.328125 32.90625 51.875 \nC 32.90625 49.109375 32.5 44.1875 29.09375 39.84375 \nC 26.09375 36 22.703125 36 19.40625 35.6875 \nC 18.90625 35.6875 16.59375 35.453125 16.203125 35.453125 \nC 15.5 35.359375 15.09375 35.265625 15.09375 34.5 \nC 15.09375 33.796875 15.203125 33.703125 17.203125 33.703125 \nz\n\" id=\"CMR17-51\"/>\n      </defs>\n      <g transform=\"translate(7.2 33.867594)scale(0.1 -0.1)\">\n       <use transform=\"scale(0.996264)\" xlink:href=\"#CMR17-51\"/>\n       <use transform=\"translate(45.690477 0)scale(0.996264)\" xlink:href=\"#CMMI12-58\"/>\n       <use transform=\"translate(72.787654 0)scale(0.996264)\" xlink:href=\"#CMR17-48\"/>\n      </g>\n     </g>\n    </g>\n   </g>\n   <g id=\"line2d_17\">\n    <path clip-path=\"url(#p31b2e71bef)\" d=\"M 42.148261 32.050012 \nL 49.952457 113.786371 \nL 57.756652 156.337445 \nL 65.560848 166.52394 \nL 73.365044 179.585474 \nL 81.16924 172.811364 \nL 88.973436 183.371067 \nL 96.777631 195.583458 \nL 104.581827 196.340021 \nL 112.386023 194.939204 \nL 120.190219 199.615659 \nL 127.994415 202.613043 \nL 135.79861 202.643399 \nL 143.602806 206.038609 \nL 151.407002 207.876968 \nL 159.211198 205.48218 \nL 167.015394 210.452959 \nL 174.819589 209.497254 \nL 182.623785 211.618119 \nL 190.427981 210.499276 \nL 198.232177 210.472506 \nL 206.036373 213.199815 \nL 213.840568 213.183557 \nL 221.644764 213.058616 \nL 229.44896 215.25883 \nL 237.253156 215.228648 \nL 245.057352 215.380684 \nL 252.861548 215.240772 \nL 260.665743 216.51411 \nL 268.469939 214.870145 \nL 276.274135 216.732314 \nL 284.078331 213.968216 \nL 291.882527 216.872789 \nL 299.686722 216.468111 \nL 307.490918 216.085636 \nL 315.295114 216.918076 \nL 323.09931 216.039434 \nL 330.903506 218.278572 \nL 338.707701 215.910945 \nL 346.511897 219.238686 \n\" style=\"fill:none;stroke:#1f77b4;stroke-linecap:square;stroke-width:1.5;\"/>\n   </g>\n   <g id=\"line2d_18\">\n    <path clip-path=\"url(#p31b2e71bef)\" d=\"M 42.148261 59.194395 \nL 49.952457 112.165594 \nL 57.756652 134.900742 \nL 65.560848 148.239773 \nL 73.365044 157.251086 \nL 81.16924 163.855245 \nL 88.973436 168.960004 \nL 96.777631 173.057011 \nL 104.581827 176.438578 \nL 112.386023 179.290761 \nL 120.190219 181.738327 \nL 127.994415 183.868465 \nL 135.79861 185.744175 \nL 143.602806 187.412259 \nL 151.407002 188.908306 \nL 159.211198 190.25992 \nL 167.015394 191.488886 \nL 174.819589 192.612656 \nL 182.623785 193.645396 \nL 190.427981 194.59874 \nL 198.232177 195.482346 \nL 206.036373 196.304302 \nL 213.840568 197.071445 \nL 221.644764 197.789596 \nL 229.44896 198.463746 \nL 237.253156 199.098204 \nL 245.057352 199.69671 \nL 252.861548 200.262529 \nL 260.665743 200.798528 \nL 268.469939 201.307231 \nL 276.274135 201.790875 \nL 284.078331 202.251449 \nL 291.882527 202.690726 \nL 299.686722 203.110296 \nL 307.490918 203.511588 \nL 315.295114 203.895888 \nL 323.09931 204.264362 \nL 330.903506 204.618063 \nL 338.707701 204.957953 \nL 346.511897 205.284905 \n\" style=\"fill:none;stroke:#ff7f0e;stroke-linecap:square;stroke-width:1.5;\"/>\n   </g>\n   <g id=\"line2d_19\">\n    <path clip-path=\"url(#p31b2e71bef)\" d=\"M 42.148261 193.777331 \nL 49.952457 211.953064 \nL 57.756652 218.327167 \nL 65.560848 221.319107 \nL 73.365044 223.120263 \nL 81.16924 224.3943 \nL 88.973436 225.262082 \nL 96.777631 225.933815 \nL 104.581827 226.481579 \nL 112.386023 226.873102 \nL 120.190219 227.226176 \nL 127.994415 227.564874 \nL 135.79861 227.716317 \nL 143.602806 227.962583 \nL 151.407002 228.203383 \nL 159.211198 228.28414 \nL 167.015394 228.404425 \nL 174.819589 228.530354 \nL 182.623785 228.64135 \nL 190.427981 228.814408 \nL 198.232177 228.82519 \nL 206.036373 228.938173 \nL 213.840568 229.001437 \nL 221.644764 229.06432 \nL 229.44896 229.087034 \nL 237.253156 229.182545 \nL 245.057352 229.232509 \nL 252.861548 229.276908 \nL 260.665743 229.299066 \nL 268.469939 229.414011 \nL 276.274135 229.405858 \nL 284.078331 229.4269 \nL 291.882527 229.481304 \nL 299.686722 229.523862 \nL 307.490918 229.602978 \nL 315.295114 229.566365 \nL 323.09931 229.618197 \nL 330.903506 229.646179 \nL 338.707701 229.682822 \nL 346.511897 229.72274 \n\" style=\"fill:none;stroke:#2ca02c;stroke-linecap:square;stroke-width:1.5;\"/>\n   </g>\n   <g id=\"line2d_20\">\n    <path clip-path=\"url(#p31b2e71bef)\" d=\"M 42.148261 165.861696 \nL 49.952457 195.723778 \nL 57.756652 206.551259 \nL 65.560848 211.967065 \nL 73.365044 215.134388 \nL 81.16924 217.340678 \nL 88.973436 219.014988 \nL 96.777631 220.208804 \nL 104.581827 221.247713 \nL 112.386023 222.005978 \nL 120.190219 222.633195 \nL 127.994415 223.199434 \nL 135.79861 223.531647 \nL 143.602806 224.025644 \nL 151.407002 224.451659 \nL 159.211198 224.638561 \nL 167.015394 224.89973 \nL 174.819589 225.132972 \nL 182.623785 225.398128 \nL 190.427981 225.642749 \nL 198.232177 225.785315 \nL 206.036373 225.957346 \nL 213.840568 226.095063 \nL 221.644764 226.20545 \nL 229.44896 226.310591 \nL 237.253156 226.472823 \nL 245.057352 226.604788 \nL 252.861548 226.661204 \nL 260.665743 226.766107 \nL 268.469939 226.962968 \nL 276.274135 226.963441 \nL 284.078331 227.014655 \nL 291.882527 227.128264 \nL 299.686722 227.197667 \nL 307.490918 227.335986 \nL 315.295114 227.279668 \nL 323.09931 227.400714 \nL 330.903506 227.442145 \nL 338.707701 227.513686 \nL 346.511897 227.634308 \n\" style=\"fill:none;stroke:#d62728;stroke-linecap:square;stroke-width:1.5;\"/>\n   </g>\n   <g id=\"patch_3\">\n    <path d=\"M 26.930079 239.606376 \nL 26.930079 22.166376 \n\" style=\"fill:none;stroke:#000000;stroke-linecap:square;stroke-linejoin:miter;stroke-width:0.8;\"/>\n   </g>\n   <g id=\"patch_4\">\n    <path d=\"M 361.730079 239.606376 \nL 361.730079 22.166376 \n\" style=\"fill:none;stroke:#000000;stroke-linecap:square;stroke-linejoin:miter;stroke-width:0.8;\"/>\n   </g>\n   <g id=\"patch_5\">\n    <path d=\"M 26.930079 239.606376 \nL 361.730079 239.606376 \n\" style=\"fill:none;stroke:#000000;stroke-linecap:square;stroke-linejoin:miter;stroke-width:0.8;\"/>\n   </g>\n   <g id=\"patch_6\">\n    <path d=\"M 26.930079 22.166376 \nL 361.730079 22.166376 \n\" style=\"fill:none;stroke:#000000;stroke-linecap:square;stroke-linejoin:miter;stroke-width:0.8;\"/>\n   </g>\n   <g id=\"text_18\">\n    <!-- $p=\\mathcal{O}(1)$ -->\n    <defs>\n     <path d=\"M 4.296875 -12.328125 \nC 3.59375 -15.3125 3.203125 -16.109375 -0.90625 -16.109375 \nC -2.09375 -16.109375 -3.09375 -16.109375 -3.09375 -18 \nC -3.09375 -18.203125 -3 -19 -1.90625 -19 \nC -0.59375 -19 0.796875 -19 2.09375 -19 \nL 6.40625 -19 \nC 8.5 -19 13.59375 -19 15.703125 -19 \nC 16.296875 -19 17.5 -19 17.5 -17.203125 \nC 17.5 -16.109375 16.796875 -16.109375 15.09375 -16.109375 \nC 10.5 -16.109375 10.203125 -15.421875 10.203125 -14.640625 \nC 10.203125 -13.453125 14.703125 3.421875 15.296875 5.6875 \nC 16.40625 2.890625 19.09375 -1 24.296875 -1 \nC 35.59375 -1 47.796875 13.671875 47.796875 28.34375 \nC 47.796875 37.515625 42.59375 44 35.09375 44 \nC 28.703125 44 23.296875 37.8125 22.203125 36.421875 \nC 21.40625 41.40625 17.5 44 13.5 44 \nC 10.59375 44 8.296875 42.609375 6.40625 38.8125 \nC 4.59375 35.21875 3.203125 29.140625 3.203125 28.734375 \nC 3.203125 28.34375 3.59375 27.84375 4.296875 27.84375 \nC 5.09375 27.84375 5.203125 27.9375 5.796875 30.234375 \nC 7.296875 36.125 9.203125 42.015625 13.203125 42.015625 \nC 15.5 42.015625 16.296875 40.421875 16.296875 37.453125 \nC 16.296875 35.078125 16 34.078125 15.59375 32.296875 \nz\nM 21.59375 31.140625 \nC 22.296875 33.921875 25.09375 36.828125 26.703125 38.21875 \nC 27.796875 39.21875 31.09375 42.015625 34.90625 42.015625 \nC 39.296875 42.015625 41.296875 37.625 41.296875 32.4375 \nC 41.296875 27.640625 38.5 16.359375 36 11.171875 \nC 33.5 5.78125 28.90625 1 24.296875 1 \nC 17.5 1 16.40625 9.578125 16.40625 9.984375 \nC 16.40625 10.28125 16.59375 11.078125 16.703125 11.578125 \nz\n\" id=\"CMMI12-112\"/>\n     <path d=\"M 64.296875 31.515625 \nC 65.796875 31.515625 67.296875 31.515625 67.296875 33.203125 \nC 67.296875 35 65.59375 35 63.90625 35 \nL 8 35 \nC 6.296875 35 4.59375 35 4.59375 33.203125 \nC 4.59375 31.515625 6.09375 31.515625 7.59375 31.515625 \nz\nM 63.90625 14 \nC 65.59375 14 67.296875 14 67.296875 15.796875 \nC 67.296875 17.484375 65.796875 17.484375 64.296875 17.484375 \nL 7.59375 17.484375 \nC 6.09375 17.484375 4.59375 17.484375 4.59375 15.796875 \nC 4.59375 14 6.296875 14 8 14 \nz\n\" id=\"CMR17-61\"/>\n     <path d=\"M 77.703125 48.609375 \nC 77.703125 61.375 72.09375 71 59.90625 71 \nC 49.5 71 40.703125 62.5625 40 61.96875 \nC 32 54.03125 29 44.984375 29 44.796875 \nC 29 44.1875 29.5 44.09375 30 44.09375 \nC 31.90625 44.09375 33.5 45.09375 35 46.203125 \nC 36.796875 47.5 36.90625 47.8125 38 50.125 \nC 38.90625 52.140625 41.203125 57.046875 44.90625 61.28125 \nC 47.296875 64 49.296875 65.5 53.296875 65.5 \nC 63 65.5 69.203125 57.46875 69.203125 44.296875 \nC 69.203125 23.796875 54.703125 3.5 36.203125 3.5 \nC 22 3.5 14.203125 14.84375 14.203125 29.21875 \nC 14.203125 42.875 21.203125 57.953125 35.796875 66.578125 \nC 36.796875 67.1875 39.796875 69 39.796875 70.296875 \nC 39.796875 71 39 71 38.796875 71 \nC 35.296875 71 5.703125 55.03125 5.703125 24.90625 \nC 5.703125 10.84375 13 -2 29.59375 -2 \nC 49.09375 -2 77.703125 17.6875 77.703125 48.609375 \n\" id=\"CMSY10-79\"/>\n     <path d=\"M 30.59375 -24.390625 \nC 30.59375 -24.296875 30.59375 -24.09375 30.296875 -23.796875 \nC 25.703125 -19.125 13.40625 -6.359375 13.40625 24.703125 \nC 13.40625 55.765625 25.5 68.421875 30.40625 73.390625 \nC 30.40625 73.5 30.59375 73.703125 30.59375 74 \nC 30.59375 74.296875 30.296875 74.5 29.90625 74.5 \nC 28.796875 74.5 20.296875 67.125 15.40625 56.15625 \nC 10.40625 45.109375 9 34.359375 9 24.8125 \nC 9 17.625 9.703125 5.484375 15.703125 -7.359375 \nC 20.5 -17.734375 28.703125 -25 29.90625 -25 \nC 30.40625 -25 30.59375 -24.796875 30.59375 -24.390625 \n\" id=\"CMR17-40\"/>\n     <path d=\"M 26.296875 24.703125 \nC 26.296875 31.875 25.59375 44.015625 19.59375 56.859375 \nC 14.796875 67.234375 6.59375 74.5 5.40625 74.5 \nC 5.09375 74.5 4.703125 74.390625 4.703125 73.890625 \nC 4.703125 73.703125 4.796875 73.59375 4.90625 73.390625 \nC 9.703125 68.40625 21.90625 55.75 21.90625 24.75 \nC 21.90625 -6.359375 9.796875 -19.015625 4.90625 -24.015625 \nC 4.796875 -24.203125 4.703125 -24.3125 4.703125 -24.5 \nC 4.703125 -25 5.09375 -25 5.40625 -25 \nC 6.5 -25 15 -17.625 19.90625 -6.65625 \nC 24.90625 4.390625 26.296875 15.140625 26.296875 24.703125 \n\" id=\"CMR17-41\"/>\n    </defs>\n    <g transform=\"translate(171.11565 16.166376)scale(0.12 -0.12)\">\n     <use transform=\"scale(0.996264)\" xlink:href=\"#CMMI12-112\"/>\n     <use transform=\"translate(76.633523 0)scale(0.996264)\" xlink:href=\"#CMR17-61\"/>\n     <use transform=\"translate(176.02232 0)scale(0.996264)\" xlink:href=\"#CMSY10-79\"/>\n     <use transform=\"translate(258.103766 0)scale(0.996264)\" xlink:href=\"#CMR17-40\"/>\n     <use transform=\"translate(293.384534 0)scale(0.996264)\" xlink:href=\"#CMR17-49\"/>\n     <use transform=\"translate(339.075011 0)scale(0.996264)\" xlink:href=\"#CMR17-41\"/>\n    </g>\n   </g>\n   <g id=\"legend_1\">\n    <g id=\"patch_7\">\n     <path d=\"M 249.172424 85.915089 \nL 354.730079 85.915089 \nQ 356.730079 85.915089 356.730079 83.915089 \nL 356.730079 29.166376 \nQ 356.730079 27.166376 354.730079 27.166376 \nL 249.172424 27.166376 \nQ 247.172424 27.166376 247.172424 29.166376 \nL 247.172424 83.915089 \nQ 247.172424 85.915089 249.172424 85.915089 \nz\n\" style=\"fill:#ffffff;opacity:0.8;stroke:#cccccc;stroke-linejoin:miter;\"/>\n    </g>\n    <g id=\"line2d_21\">\n     <path d=\"M 251.172424 34.666376 \nL 271.172424 34.666376 \n\" style=\"fill:none;stroke:#1f77b4;stroke-linecap:square;stroke-width:1.5;\"/>\n    </g>\n    <g id=\"line2d_22\"/>\n    <g id=\"text_19\">\n     <!-- Erreur maximale -->\n     <defs>\n      <path d=\"M 60.703125 25.234375 \nL 58.90625 25.234375 \nC 56.703125 10.5625 55.40625 2.59375 37.796875 2.59375 \nL 23.90625 2.59375 \nC 19.90625 2.59375 19.703125 3.078125 19.703125 6.46875 \nL 19.703125 34 \nL 29.09375 34 \nC 38.5 34 39.40625 30.625 39.40625 22.34375 \nL 41.203125 22.34375 \nL 41.203125 48.140625 \nL 39.40625 48.140625 \nC 39.40625 39.953125 38.5 36.59375 29.09375 36.59375 \nL 19.703125 36.59375 \nL 19.703125 61.140625 \nC 19.703125 64.5 19.90625 65 23.90625 65 \nL 37.59375 65 \nC 53.09375 65 54.90625 58.890625 56.296875 45.765625 \nL 58.09375 45.765625 \nL 55.703125 67.578125 \nL 5.09375 67.578125 \nL 5.09375 65 \nC 12 65 13.09375 65 13.09375 60.53125 \nL 13.09375 7.046875 \nC 13.09375 2.59375 12 2.59375 5.09375 2.59375 \nL 5.09375 0 \nL 57.09375 0 \nz\n\" id=\"CMR17-69\"/>\n      <path d=\"M 15 23.390625 \nC 15 33 19.09375 42 26.59375 42 \nC 27.296875 42 28 41.90625 28.703125 41.59375 \nC 28.703125 41.59375 26.5 40.890625 26.5 38.3125 \nC 26.5 35.90625 28.40625 34.90625 29.90625 34.90625 \nC 31.09375 34.90625 33.296875 35.609375 33.296875 38.40625 \nC 33.296875 41.609375 30.09375 43.59375 26.703125 43.59375 \nC 19.09375 43.59375 15.796875 36.203125 14.796875 32.703125 \nL 14.703125 32.703125 \nL 14.703125 43.59375 \nL 3.09375 42.5 \nL 3.09375 39.90625 \nC 9 39.90625 9.90625 39.296875 9.90625 34.5 \nL 9.90625 6.6875 \nC 9.90625 2.875 9.5 2.390625 3.09375 2.390625 \nL 3.09375 -0.203125 \nC 5.5 0 10.09375 0 12.703125 0 \nC 15.59375 0 20.703125 0 23.40625 -0.203125 \nL 23.40625 2.390625 \nC 16.203125 2.390625 15 2.390625 15 6.875 \nz\n\" id=\"CMR17-114\"/>\n      <path d=\"M 38.09375 23 \nC 38.5 23.40625 38.5 23.609375 38.5 24.625 \nC 38.5 34.96875 33.09375 44 21.703125 44 \nC 11.09375 44 2.703125 33.890625 2.703125 21.609375 \nC 2.703125 8.609375 12.203125 -1 22.796875 -1 \nC 34 -1 38.40625 9.484375 38.40625 11.5625 \nC 38.40625 12.25 37.796875 12.25 37.59375 12.25 \nC 36.90625 12.25 36.796875 12.046875 36.40625 10.875 \nC 34.203125 4.140625 28.703125 0.796875 23.5 0.796875 \nC 19.203125 0.796875 14.90625 3.171875 12.203125 7.5 \nC 9.09375 12.546875 9.09375 18.375 9.09375 23 \nz\nM 9.203125 24.5 \nC 9.90625 39.140625 17.59375 42.40625 21.59375 42.40625 \nC 28.40625 42.40625 33 35.890625 33.09375 24.5 \nz\n\" id=\"CMR17-101\"/>\n      <path d=\"M 29.40625 42.078125 \nL 29.40625 39.5 \nC 35.296875 39.5 36.203125 38.890625 36.203125 34.15625 \nL 36.203125 16.125 \nC 36.203125 7.8125 31.703125 0.59375 24.296875 0.59375 \nC 16.09375 0.59375 15.40625 5.4375 15.40625 10.59375 \nL 15.40625 43.171875 \nL 3.296875 42.078125 \nL 3.296875 39.5 \nC 7.296875 39.5 10 39.5 10.09375 35.53125 \nL 10.09375 16.53125 \nC 10.09375 9.890625 10.09375 5.640625 12.703125 2.859375 \nC 14 1.578125 16.5 -1 23.703125 -1 \nC 32.203125 -1 35.5 5.890625 36.296875 7.90625 \nL 36.40625 7.90625 \nL 36.40625 -0.984375 \nL 48.296875 -0.984375 \nL 48.296875 2 \nC 42.40625 2 41.5 2.59375 41.5 7.390625 \nL 41.5 43.171875 \nz\n\" id=\"CMR17-117\"/>\n      <path d=\"M 67.59375 30.203125 \nC 67.59375 35.1875 66.703125 43.59375 54.796875 43.59375 \nC 48 43.59375 43.296875 39 41.5 33.609375 \nL 41.40625 33.609375 \nC 40.203125 41.8125 34.296875 43.59375 28.703125 43.59375 \nC 20.796875 43.59375 16.703125 37.5 15.203125 33.5 \nL 15.09375 33.5 \nL 15.09375 43.59375 \nL 3.296875 42.5 \nL 3.296875 39.90625 \nC 9.203125 39.90625 10.09375 39.296875 10.09375 34.5 \nL 10.09375 6.6875 \nC 10.09375 2.875 9.703125 2.390625 3.296875 2.390625 \nL 3.296875 -0.203125 \nC 5.703125 0 10.09375 0 12.703125 0 \nC 15.296875 0 19.796875 0 22.203125 -0.203125 \nL 22.203125 2.390625 \nC 15.796875 2.390625 15.40625 2.78125 15.40625 6.6875 \nL 15.40625 25.90625 \nC 15.40625 35.109375 21 42 28 42 \nC 35.40625 42 36.203125 35.40625 36.203125 30.59375 \nL 36.203125 6.6875 \nC 36.203125 2.875 35.796875 2.390625 29.40625 2.390625 \nL 29.40625 -0.203125 \nC 31.796875 0 36.203125 0 38.796875 0 \nC 41.40625 0 45.90625 0 48.296875 -0.203125 \nL 48.296875 2.390625 \nC 41.90625 2.390625 41.5 2.78125 41.5 6.6875 \nL 41.5 25.90625 \nC 41.5 35.109375 47.09375 42 54.09375 42 \nC 61.5 42 62.296875 35.40625 62.296875 30.59375 \nL 62.296875 6.6875 \nC 62.296875 2.875 61.90625 2.390625 55.5 2.390625 \nL 55.5 -0.203125 \nC 57.90625 0 62.296875 0 64.90625 0 \nC 67.5 0 72 0 74.40625 -0.203125 \nL 74.40625 2.390625 \nC 68 2.390625 67.59375 2.78125 67.59375 6.6875 \nz\n\" id=\"CMR17-109\"/>\n      <path d=\"M 36 25.828125 \nC 36 32.375 36 35.84375 31.796875 39.734375 \nC 28.09375 43 23.796875 44 20.40625 44 \nC 12.5 44 6.796875 37.609375 6.796875 30.796875 \nC 6.796875 27 9.796875 27 10.40625 27 \nC 11.703125 27 14 27.78125 14 30.53125 \nC 14 33 12.09375 34.078125 10.40625 34.078125 \nC 10 34.078125 9.5 33.96875 9.203125 33.875 \nC 11.296875 40.5 16.703125 42.40625 20.203125 42.40625 \nC 25.203125 42.40625 30.703125 37.953125 30.703125 29.453125 \nL 30.703125 25 \nC 24.796875 25 17.703125 24.203125 12.09375 21.203125 \nC 5.796875 17.703125 4 12.703125 4 8.90625 \nC 4 1.203125 13 -1 18.296875 -1 \nC 23.796875 -1 28.90625 2.171875 31.09375 7.984375 \nC 31.296875 3.640625 34.09375 -0.28125 38.5 -0.28125 \nC 40.59375 -0.28125 45.90625 1.09375 45.90625 8.859375 \nL 45.90625 14.375 \nL 44.09375 14.375 \nL 44.09375 8.78125 \nC 44.09375 2.78125 41.40625 2 40.09375 2 \nC 36 2 36 7.15625 36 11.53125 \nz\nM 30.703125 13.59375 \nC 30.703125 4.953125 24.5 0.59375 19 0.59375 \nC 14 0.59375 10.09375 4.296875 10.09375 8.90625 \nC 10.09375 11.890625 11.40625 17.1875 17.203125 20.390625 \nC 22 23.09375 27.5 23.5 30.703125 23.5 \nz\n\" id=\"CMR17-97\"/>\n      <path d=\"M 26 23.078125 \nC 29 26.96875 32.40625 31.34375 35.203125 34.625 \nC 38.5 38.40625 42.296875 40 46.703125 40 \nL 46.703125 42.59375 \nC 45 42.59375 41.5 42.59375 39.703125 42.59375 \nC 37 42.59375 33.90625 42.59375 31.59375 42.6875 \nL 31.59375 40.09375 \nC 33 39.890625 33.796875 38.890625 33.796875 37.5 \nC 33.796875 35.703125 32.796875 34.609375 32.296875 33.921875 \nL 24.90625 24.578125 \nL 16.09375 36.03125 \nC 15.203125 37.125 15.203125 37.3125 15.203125 37.8125 \nC 15.203125 39.015625 16.203125 40 17.90625 40 \nL 17.90625 42.6875 \nC 15.5 42.59375 11.203125 42.59375 8.703125 42.59375 \nC 6 42.59375 2.796875 42.59375 0.59375 42.6875 \nL 0.59375 40 \nC 6 40 7.203125 39.59375 9.59375 36.609375 \nL 21.09375 21.796875 \nC 21.296875 21.59375 21.796875 21 21.796875 20.703125 \nC 21.796875 20.296875 13.09375 9.671875 12 8.28125 \nC 7.5 2.890625 2.796875 2.5 0.09375 2.5 \nL 0.09375 0 \nC 1.796875 0 5.296875 0 7.09375 0 \nC 9.09375 0 13.5 0 15.296875 -0.09375 \nL 15.296875 2.5 \nC 14.703125 2.59375 13.09375 2.796875 13.09375 5.078125 \nC 13.09375 6.875 13.90625 7.96875 14.796875 9.15625 \nL 23.09375 19.3125 \nL 31.796875 8 \nC 32.59375 6.90625 33.796875 5.40625 33.796875 4.703125 \nC 33.796875 3.296875 32.59375 2.5 31 2.5 \nL 31 -0.09375 \nC 33.40625 0 37.703125 0 40.203125 0 \nC 42.90625 0 46.09375 0 48.296875 -0.09375 \nL 48.296875 2.5 \nC 43.296875 2.5 41.796875 2.6875 39.40625 5.78125 \nz\n\" id=\"CMR17-120\"/>\n      <path d=\"M 15.5 61.078125 \nC 15.5 63.265625 13.703125 65.15625 11.40625 65.15625 \nC 9.203125 65.15625 7.296875 63.375 7.296875 61.078125 \nC 7.296875 58.890625 9.09375 57 11.40625 57 \nC 13.59375 57 15.5 58.796875 15.5 61.078125 \nM 3.796875 42.28125 \nL 3.796875 39.703125 \nC 9.40625 39.703125 10.203125 39.09375 10.203125 34.328125 \nL 10.203125 6.671875 \nC 10.203125 2.875 9.796875 2.390625 3.40625 2.390625 \nL 3.40625 -0.203125 \nC 5.796875 0 10.09375 0 12.59375 0 \nC 15 0 19.09375 0 21.40625 -0.203125 \nL 21.40625 2.390625 \nC 15.5 2.390625 15.296875 2.984375 15.296875 6.5625 \nL 15.296875 43.375 \nz\n\" id=\"CMR17-105\"/>\n      <path d=\"M 15.296875 68.6875 \nL 3.40625 67.59375 \nL 3.40625 65 \nC 9.296875 65 10.203125 64.40625 10.203125 59.640625 \nL 10.203125 6.65625 \nC 10.203125 2.875 9.796875 2.390625 3.40625 2.390625 \nL 3.40625 -0.203125 \nC 5.796875 0 10.203125 0 12.703125 0 \nC 15.296875 0 19.703125 0 22.09375 -0.203125 \nL 22.09375 2.390625 \nC 15.703125 2.390625 15.296875 2.78125 15.296875 6.65625 \nz\n\" id=\"CMR17-108\"/>\n     </defs>\n     <g transform=\"translate(279.172424 38.166376)scale(0.1 -0.1)\">\n      <use transform=\"scale(0.996264)\" xlink:href=\"#CMR17-69\"/>\n      <use transform=\"translate(62.586301 0)scale(0.996264)\" xlink:href=\"#CMR17-114\"/>\n      <use transform=\"translate(97.867068 0)scale(0.996264)\" xlink:href=\"#CMR17-114\"/>\n      <use transform=\"translate(133.147836 0)scale(0.996264)\" xlink:href=\"#CMR17-101\"/>\n      <use transform=\"translate(173.633497 0)scale(0.996264)\" xlink:href=\"#CMR17-117\"/>\n      <use transform=\"translate(224.528866 0)scale(0.996264)\" xlink:href=\"#CMR17-114\"/>\n      <use transform=\"translate(289.885601 0)scale(0.996264)\" xlink:href=\"#CMR17-109\"/>\n      <use transform=\"translate(366.80519 0)scale(0.996264)\" xlink:href=\"#CMR17-97\"/>\n      <use transform=\"translate(412.495667 0)scale(0.996264)\" xlink:href=\"#CMR17-120\"/>\n      <use transform=\"translate(460.788583 0)scale(0.996264)\" xlink:href=\"#CMR17-105\"/>\n      <use transform=\"translate(485.659642 0)scale(0.996264)\" xlink:href=\"#CMR17-109\"/>\n      <use transform=\"translate(562.579232 0)scale(0.996264)\" xlink:href=\"#CMR17-97\"/>\n      <use transform=\"translate(608.269709 0)scale(0.996264)\" xlink:href=\"#CMR17-108\"/>\n      <use transform=\"translate(633.140767 0)scale(0.996264)\" xlink:href=\"#CMR17-101\"/>\n     </g>\n    </g>\n    <g id=\"line2d_23\">\n     <path d=\"M 251.172424 48.603554 \nL 271.172424 48.603554 \n\" style=\"fill:none;stroke:#ff7f0e;stroke-linecap:square;stroke-width:1.5;\"/>\n    </g>\n    <g id=\"line2d_24\"/>\n    <g id=\"text_20\">\n     <!-- Borne th\\'eorique -->\n     <defs>\n      <path d=\"M 5.203125 68 \nL 5.203125 65.40625 \nC 12.09375 65.40625 13.203125 65.40625 13.203125 60.9375 \nL 13.203125 7.0625 \nC 13.203125 2.59375 12.09375 2.59375 5.203125 2.59375 \nL 5.203125 0 \nL 39.59375 0 \nC 52.40625 0 60.703125 9.109375 60.703125 18.1875 \nC 60.703125 27.203125 52.5 34.890625 41.796875 34.890625 \nC 51.40625 36.8125 58.09375 43.296875 58.09375 51 \nC 58.09375 59.40625 49.90625 68 37 68 \nz\nM 19.5 36 \nL 19.5 61.515625 \nC 19.5 64.921875 19.703125 65.40625 23.703125 65.40625 \nL 36.5 65.40625 \nC 46.40625 65.40625 50.796875 57.40625 50.796875 51.203125 \nC 50.796875 43.609375 44.703125 36 33.90625 36 \nz\nM 23.703125 2.59375 \nC 19.703125 2.59375 19.5 3.078125 19.5 6.453125 \nL 19.5 34.40625 \nL 38 34.40625 \nC 48.296875 34.40625 53.296875 25.390625 53.296875 18.15625 \nC 53.296875 10.921875 47.59375 2.59375 36.703125 2.59375 \nz\n\" id=\"CMR17-66\"/>\n      <path d=\"M 43.09375 21.1875 \nC 43.09375 34 33.796875 44 22.90625 44 \nC 12 44 2.703125 34 2.703125 21.1875 \nC 2.703125 8.609375 12 -1 22.90625 -1 \nC 33.796875 -1 43.09375 8.609375 43.09375 21.1875 \nM 22.90625 0.796875 \nC 18.203125 0.796875 14.203125 3.59375 11.90625 7.5 \nC 9.40625 11.984375 9.09375 17.59375 9.09375 22 \nC 9.09375 26.203125 9.296875 31.40625 11.90625 35.90625 \nC 13.90625 39.203125 17.796875 42.40625 22.90625 42.40625 \nC 27.40625 42.40625 31.203125 39.90625 33.59375 36.40625 \nC 36.703125 31.703125 36.703125 25.109375 36.703125 22 \nC 36.703125 18.09375 36.5 12.109375 33.796875 7.296875 \nC 31 2.703125 26.703125 0.796875 22.90625 0.796875 \n\" id=\"CMR17-111\"/>\n      <path d=\"M 41.5 30.203125 \nC 41.5 35.296875 40.5 43.59375 28.703125 43.59375 \nC 20.796875 43.59375 16.703125 37.5 15.203125 33.5 \nL 15.09375 33.5 \nL 15.09375 43.59375 \nL 3.296875 42.5 \nL 3.296875 39.90625 \nC 9.203125 39.90625 10.09375 39.296875 10.09375 34.5 \nL 10.09375 6.6875 \nC 10.09375 2.875 9.703125 2.390625 3.296875 2.390625 \nL 3.296875 -0.203125 \nC 5.703125 0 10.09375 0 12.703125 0 \nC 15.296875 0 19.796875 0 22.203125 -0.203125 \nL 22.203125 2.390625 \nC 15.796875 2.390625 15.40625 2.78125 15.40625 6.6875 \nL 15.40625 25.90625 \nC 15.40625 35.109375 21 42 28 42 \nC 35.40625 42 36.203125 35.40625 36.203125 30.59375 \nL 36.203125 6.6875 \nC 36.203125 2.875 35.796875 2.390625 29.40625 2.390625 \nL 29.40625 -0.203125 \nC 31.796875 0 36.203125 0 38.796875 0 \nC 41.40625 0 45.90625 0 48.296875 -0.203125 \nL 48.296875 2.390625 \nC 41.90625 2.390625 41.5 2.78125 41.5 6.6875 \nz\n\" id=\"CMR17-110\"/>\n      <path d=\"M 15.09375 40 \nL 29.09375 40 \nL 29.09375 42.578125 \nL 15.09375 42.578125 \nL 15.09375 61 \nL 13.296875 61 \nC 13.09375 50.703125 9.59375 41.6875 1.09375 41.6875 \nL 1.09375 40 \nL 9.796875 40 \nL 9.796875 12.046875 \nC 9.796875 10.15625 9.796875 -1 21.40625 -1 \nC 27.296875 -1 30.703125 4.78125 30.703125 12.140625 \nL 30.703125 17.8125 \nL 28.90625 17.8125 \nL 28.90625 12.234375 \nC 28.90625 5.375 26.203125 0.796875 22 0.796875 \nC 19.09375 0.796875 15.09375 2.78125 15.09375 11.84375 \nz\n\" id=\"CMR17-116\"/>\n      <path d=\"M 41.5 30.203125 \nC 41.5 35.296875 40.5 43.59375 28.703125 43.59375 \nC 20.5 43.59375 16.5 37 15.296875 33.703125 \nL 15.203125 33.703125 \nL 15.203125 68.6875 \nL 3.296875 67.59375 \nL 3.296875 65 \nC 9.203125 65 10.09375 64.40625 10.09375 59.640625 \nL 10.09375 6.65625 \nC 10.09375 2.875 9.703125 2.390625 3.296875 2.390625 \nL 3.296875 -0.203125 \nC 5.703125 0 10.09375 0 12.703125 0 \nC 15.296875 0 19.796875 0 22.203125 -0.203125 \nL 22.203125 2.390625 \nC 15.796875 2.390625 15.40625 2.78125 15.40625 6.6875 \nL 15.40625 25.90625 \nC 15.40625 35.109375 21 42 28 42 \nC 35.40625 42 36.203125 35.40625 36.203125 30.59375 \nL 36.203125 6.6875 \nC 36.203125 2.875 35.796875 2.390625 29.40625 2.390625 \nL 29.40625 -0.203125 \nC 31.796875 0 36.203125 0 38.796875 0 \nC 41.40625 0 45.90625 0 48.296875 -0.203125 \nL 48.296875 2.390625 \nC 41.90625 2.390625 41.5 2.78125 41.5 6.6875 \nz\n\" id=\"CMR17-104\"/>\n      <path d=\"M 34.703125 63.921875 \nC 35.90625 65.015625 36.203125 65.21875 36.203125 66.3125 \nC 36.203125 67.796875 34.90625 69 33.5 69 \nC 32.296875 69 31.90625 68.5 30.90625 67.3125 \nL 19.59375 52.96875 \nC 18.90625 52.078125 18.90625 51.984375 18.90625 51.875 \nC 18.90625 51.78125 19.796875 50.875 20 50.6875 \nz\n\" id=\"CMR17-19\"/>\n      <path d=\"M 41.09375 43.78125 \nL 39.5 43.78125 \nL 36.5 33.9375 \nC 34.203125 39.203125 30 43.78125 23.296875 43.78125 \nC 13.09375 43.78125 3.296875 34.734375 3.296875 21.609375 \nC 3.296875 8.5625 12.5 -0.59375 22.5 -0.59375 \nC 30.203125 -0.59375 34.5 5.28125 35.796875 7.46875 \nL 35.796875 -12.328125 \nC 35.796875 -16.109375 35.40625 -16.609375 29 -16.609375 \nL 29 -19.1875 \nC 31.40625 -19 35.796875 -19 38.40625 -19 \nC 41 -19 45.5 -19 47.90625 -19.1875 \nL 47.90625 -16.609375 \nC 41.5 -16.609375 41.09375 -16.203125 41.09375 -12.328125 \nz\nM 36 13.84375 \nC 36 9.5625 32.40625 5.578125 32.09375 5.28125 \nC 29 1.796875 25.40625 1 23 1 \nC 15.5 1 9.703125 10.453125 9.703125 21.484375 \nC 9.703125 33.140625 16.296875 42 24 42 \nC 32 42 36 32.9375 36 27.765625 \nz\n\" id=\"CMR17-113\"/>\n     </defs>\n     <g transform=\"translate(279.172424 52.103554)scale(0.1 -0.1)\">\n      <use transform=\"scale(0.996264)\" xlink:href=\"#CMR17-66\"/>\n      <use transform=\"translate(65.188754 0)scale(0.996264)\" xlink:href=\"#CMR17-111\"/>\n      <use transform=\"translate(110.879232 0)scale(0.996264)\" xlink:href=\"#CMR17-114\"/>\n      <use transform=\"translate(146.159999 0)scale(0.996264)\" xlink:href=\"#CMR17-110\"/>\n      <use transform=\"translate(197.055369 0)scale(0.996264)\" xlink:href=\"#CMR17-101\"/>\n      <use transform=\"translate(267.616996 0)scale(0.996264)\" xlink:href=\"#CMR17-116\"/>\n      <use transform=\"translate(302.897764 0)scale(0.996264)\" xlink:href=\"#CMR17-104\"/>\n      <use transform=\"translate(351.190725 0)scale(0.996264)\" xlink:href=\"#CMR17-19\"/>\n      <use transform=\"translate(353.793134 0)scale(0.996264)\" xlink:href=\"#CMR17-101\"/>\n      <use transform=\"translate(394.278794 0)scale(0.996264)\" xlink:href=\"#CMR17-111\"/>\n      <use transform=\"translate(439.969271 0)scale(0.996264)\" xlink:href=\"#CMR17-114\"/>\n      <use transform=\"translate(475.250039 0)scale(0.996264)\" xlink:href=\"#CMR17-105\"/>\n      <use transform=\"translate(500.121097 0)scale(0.996264)\" xlink:href=\"#CMR17-113\"/>\n      <use transform=\"translate(548.414013 0)scale(0.996264)\" xlink:href=\"#CMR17-117\"/>\n      <use transform=\"translate(599.309383 0)scale(0.996264)\" xlink:href=\"#CMR17-101\"/>\n     </g>\n    </g>\n    <g id=\"line2d_25\">\n     <path d=\"M 251.172424 62.540733 \nL 271.172424 62.540733 \n\" style=\"fill:none;stroke:#2ca02c;stroke-linecap:square;stroke-width:1.5;\"/>\n    </g>\n    <g id=\"line2d_26\"/>\n    <g id=\"text_21\">\n     <!-- Moyenne -->\n     <defs>\n      <path d=\"M 20.90625 66 \nC 20.296875 67.5 20.203125 67.5 18.09375 67.5 \nL 5.296875 67.5 \nL 5.296875 65 \nC 12.203125 65 13.296875 65 13.296875 60.546875 \nL 13.296875 9.53125 \nC 13.296875 7.046875 13.296875 2.390625 5.296875 2.390625 \nL 5.296875 -0.203125 \nC 7.59375 0 11.796875 0 14.296875 0 \nC 16.796875 0 21 0 23.296875 -0.203125 \nL 23.296875 2.390625 \nC 15.296875 2.390625 15.296875 7.046875 15.296875 9.53125 \nL 15.296875 64.609375 \nL 15.40625 64.609375 \nL 38.90625 1.390625 \nC 39.296875 0.390625 39.5 -0.203125 40.296875 -0.203125 \nC 41.09375 -0.203125 41.296875 0.390625 41.703125 1.390625 \nL 65.40625 65.09375 \nL 65.5 65.09375 \nL 65.5 6.84375 \nC 65.5 2.390625 64.40625 2.390625 57.5 2.390625 \nL 57.5 -0.203125 \nC 60.203125 0 65.59375 0 68.5 0 \nC 71.40625 0 76.90625 0 79.59375 -0.203125 \nL 79.59375 2.390625 \nC 72.703125 2.390625 71.59375 2.390625 71.59375 6.84375 \nL 71.59375 60.546875 \nC 71.59375 65 72.703125 65 79.59375 65 \nL 79.59375 67.5 \nL 66.90625 67.5 \nC 64.796875 67.5 64.703125 67.40625 64.09375 65.90625 \nL 42.5 7.84375 \nz\n\" id=\"CMR17-77\"/>\n      <path d=\"M 39 34.328125 \nC 41.5 40.40625 46 40.40625 47.40625 40.40625 \nL 47.40625 43 \nC 45.5 43 43 43 41.09375 43 \nC 39 43 35.703125 43 33.703125 43.09375 \nL 33.703125 40.5 \nC 37.5 40.203125 37.59375 37.40625 37.59375 36.609375 \nC 37.59375 35.625 37.40625 35.125 36.90625 33.921875 \nL 26 7.015625 \nL 14.09375 36.03125 \nC 13.59375 37.21875 13.59375 37.90625 13.59375 38.015625 \nC 13.59375 40.203125 15.90625 40.40625 18.296875 40.40625 \nL 18.296875 43.09375 \nC 15.90625 43 11.59375 43 9.09375 43 \nC 6.40625 43 3.203125 43 1 43.09375 \nL 1 40.40625 \nC 6.40625 40.40625 7 39.90625 8.296875 36.71875 \nL 23.203125 0.234375 \nC 18.703125 -11.53125 16.09375 -18.40625 9.796875 -18.40625 \nC 8.703125 -18.40625 6.203125 -18.109375 4.40625 -16.3125 \nC 6.703125 -16.109375 7.703125 -14.71875 7.703125 -13.015625 \nC 7.703125 -11.328125 6.5 -9.828125 4.5 -9.828125 \nC 2.296875 -9.828125 1.203125 -11.328125 1.203125 -13.125 \nC 1.203125 -17.109375 5.296875 -20 9.796875 -20 \nC 15.59375 -20 19.203125 -14.40625 21.203125 -9.4375 \nz\n\" id=\"CMR17-121\"/>\n     </defs>\n     <g transform=\"translate(279.172424 66.040733)scale(0.1 -0.1)\">\n      <use transform=\"scale(0.996264)\" xlink:href=\"#CMR17-77\"/>\n      <use transform=\"translate(84.686941 0)scale(0.996264)\" xlink:href=\"#CMR17-111\"/>\n      <use transform=\"translate(127.774964 0)scale(0.996264)\" xlink:href=\"#CMR17-121\"/>\n      <use transform=\"translate(173.465426 0)scale(0.996264)\" xlink:href=\"#CMR17-101\"/>\n      <use transform=\"translate(213.951086 0)scale(0.996264)\" xlink:href=\"#CMR17-110\"/>\n      <use transform=\"translate(264.846456 0)scale(0.996264)\" xlink:href=\"#CMR17-110\"/>\n      <use transform=\"translate(315.741826 0)scale(0.996264)\" xlink:href=\"#CMR17-101\"/>\n     </g>\n    </g>\n    <g id=\"line2d_27\">\n     <path d=\"M 251.172424 76.477911 \nL 271.172424 76.477911 \n\" style=\"fill:none;stroke:#d62728;stroke-linecap:square;stroke-width:1.5;\"/>\n    </g>\n    <g id=\"line2d_28\"/>\n    <g id=\"text_22\">\n     <!-- D\\'eviation -->\n     <defs>\n      <path d=\"M 5.203125 68 \nL 5.203125 65.40625 \nC 12.09375 65.40625 13.203125 65.40625 13.203125 60.9375 \nL 13.203125 7.0625 \nC 13.203125 2.59375 12.09375 2.59375 5.203125 2.59375 \nL 5.203125 0 \nL 37 0 \nC 53.09375 0 66 14.734375 66 33.453125 \nC 66 52.28125 53.296875 68 37 68 \nz\nM 23.796875 2.59375 \nC 19.796875 2.59375 19.59375 3.078125 19.59375 6.46875 \nL 19.59375 61.53125 \nC 19.59375 64.921875 19.796875 65.40625 23.796875 65.40625 \nL 35 65.40625 \nC 43.296875 65.40625 58.59375 60.53125 58.59375 33.453125 \nC 58.59375 19.40625 54.5 13.734375 52.59375 11.046875 \nC 50.203125 7.96875 44.5 2.59375 35 2.59375 \nz\n\" id=\"CMR17-68\"/>\n      <path d=\"M 39.09375 33.796875 \nC 40 36 41.59375 40 47.40625 40 \nL 47.40625 42.59375 \nC 45.5 42.59375 43 42.59375 41.09375 42.59375 \nC 39 42.59375 35.703125 42.59375 33.703125 42.6875 \nL 33.703125 40.09375 \nC 36.203125 39.890625 37.59375 38.703125 37.59375 36.109375 \nC 37.59375 35.203125 37.59375 35 37 33.609375 \nL 26 5.890625 \nL 14.09375 35.71875 \nC 13.5 37.015625 13.5 37.203125 13.5 37.609375 \nC 13.5 40 16.796875 40 18.296875 40 \nL 18.296875 42.6875 \nC 15.90625 42.59375 11.5 42.59375 9 42.59375 \nC 6.296875 42.59375 3.203125 42.59375 1 42.6875 \nL 1 40 \nC 4.796875 40 6.90625 40 8.09375 36.90625 \nL 22.59375 0.6875 \nC 23.203125 -0.796875 23.296875 -1 24.203125 -1 \nC 25.09375 -1 25.203125 -0.796875 25.796875 0.6875 \nz\n\" id=\"CMR17-118\"/>\n     </defs>\n     <g transform=\"translate(279.172424 79.977911)scale(0.1 -0.1)\">\n      <use transform=\"scale(0.996264)\" xlink:href=\"#CMR17-68\"/>\n      <use transform=\"translate(67.791148 0)scale(0.996264)\" xlink:href=\"#CMR17-19\"/>\n      <use transform=\"translate(70.393556 0)scale(0.996264)\" xlink:href=\"#CMR17-101\"/>\n      <use transform=\"translate(110.879216 0)scale(0.996264)\" xlink:href=\"#CMR17-118\"/>\n      <use transform=\"translate(159.172132 0)scale(0.996264)\" xlink:href=\"#CMR17-105\"/>\n      <use transform=\"translate(184.043191 0)scale(0.996264)\" xlink:href=\"#CMR17-97\"/>\n      <use transform=\"translate(229.733668 0)scale(0.996264)\" xlink:href=\"#CMR17-116\"/>\n      <use transform=\"translate(265.014436 0)scale(0.996264)\" xlink:href=\"#CMR17-105\"/>\n      <use transform=\"translate(289.885494 0)scale(0.996264)\" xlink:href=\"#CMR17-111\"/>\n      <use transform=\"translate(335.575971 0)scale(0.996264)\" xlink:href=\"#CMR17-110\"/>\n     </g>\n    </g>\n   </g>\n  </g>\n </g>\n <defs>\n  <clipPath id=\"p31b2e71bef\">\n   <rect height=\"217.44\" width=\"334.8\" x=\"26.930079\" y=\"22.166376\"/>\n  </clipPath>\n </defs>\n</svg>\n",
      "text/plain": [
       "<matplotlib.figure.Figure at 0x10f52a2e8>"
      ]
     },
     "metadata": {},
     "output_type": "display_data"
    }
   ],
   "source": [
    "plt.plot(ns,diff,label='Erreur maximale')\n",
    "plt.plot(ns,rms*(1/ns+4*np.sqrt(np.log(1/delta)/(2*ns))),label=\"Borne th\\\\'eorique\")\n",
    "plt.plot(ns,mn,label='Moyenne')\n",
    "plt.plot(ns,mn+std,label=\"D\\\\'eviation\")\n",
    "# plt.plot(ns,mn,label='Erreur moyenne')\n",
    "plt.legend()\n",
    "plt.xlabel('$n$');\n",
    "plt.title('$p=\\mathcal{O}(1)$');\n",
    "# plt.savefig('fig/rad_bounds.pdf',bbox_inches='tight',pad_inches=0)"
   ]
  },
  {
   "cell_type": "code",
   "execution_count": 5,
   "metadata": {
    "autoscroll": "json-false",
    "ein.tags": [
     "worksheet-0"
    ],
    "slideshow": {
     "slide_type": "-"
    }
   },
   "outputs": [],
   "source": [
    "import matplotlib.pyplot as plt"
   ]
  },
  {
   "cell_type": "code",
   "execution_count": 6,
   "metadata": {
    "autoscroll": "json-false",
    "ein.tags": [
     "worksheet-0"
    ],
    "slideshow": {
     "slide_type": "-"
    }
   },
   "outputs": [
    {
     "ename": "AttributeError",
     "evalue": "type object 'LogTransformBase' has no attribute 'lower'",
     "output_type": "error",
     "traceback": [
      "\u001b[0;31m\u001b[0m",
      "\u001b[0;31mAttributeError\u001b[0mTraceback (most recent call last)",
      "\u001b[0;32m<ipython-input-6-89e910bb1700>\u001b[0m in \u001b[0;36m<module>\u001b[0;34m()\u001b[0m\n\u001b[0;32m----> 1\u001b[0;31m \u001b[0mplt\u001b[0m\u001b[0;34m.\u001b[0m\u001b[0mgca\u001b[0m\u001b[0;34m(\u001b[0m\u001b[0;34m)\u001b[0m\u001b[0;34m.\u001b[0m\u001b[0mset_xscale\u001b[0m\u001b[0;34m(\u001b[0m\u001b[0mmpl\u001b[0m\u001b[0;34m.\u001b[0m\u001b[0mscale\u001b[0m\u001b[0;34m.\u001b[0m\u001b[0mLogTransformBase\u001b[0m\u001b[0;34m)\u001b[0m\u001b[0;34m\u001b[0m\u001b[0m\n\u001b[0m",
      "\u001b[0;32m/usr/local/lib/python3.6/site-packages/matplotlib/axes/_base.py\u001b[0m in \u001b[0;36mset_xscale\u001b[0;34m(self, value, **kwargs)\u001b[0m\n\u001b[1;32m   2941\u001b[0m         \u001b[0;31m# If the scale is being set to log, clip nonposx to prevent headaches\u001b[0m\u001b[0;34m\u001b[0m\u001b[0;34m\u001b[0m\u001b[0m\n\u001b[1;32m   2942\u001b[0m         \u001b[0;31m# around zero\u001b[0m\u001b[0;34m\u001b[0m\u001b[0;34m\u001b[0m\u001b[0m\n\u001b[0;32m-> 2943\u001b[0;31m         \u001b[0;32mif\u001b[0m \u001b[0mvalue\u001b[0m\u001b[0;34m.\u001b[0m\u001b[0mlower\u001b[0m\u001b[0;34m(\u001b[0m\u001b[0;34m)\u001b[0m \u001b[0;34m==\u001b[0m \u001b[0;34m'log'\u001b[0m \u001b[0;32mand\u001b[0m \u001b[0;34m'nonposx'\u001b[0m \u001b[0;32mnot\u001b[0m \u001b[0;32min\u001b[0m \u001b[0mkwargs\u001b[0m\u001b[0;34m.\u001b[0m\u001b[0mkeys\u001b[0m\u001b[0;34m(\u001b[0m\u001b[0;34m)\u001b[0m\u001b[0;34m:\u001b[0m\u001b[0;34m\u001b[0m\u001b[0m\n\u001b[0m\u001b[1;32m   2944\u001b[0m             \u001b[0mkwargs\u001b[0m\u001b[0;34m[\u001b[0m\u001b[0;34m'nonposx'\u001b[0m\u001b[0;34m]\u001b[0m \u001b[0;34m=\u001b[0m \u001b[0;34m'clip'\u001b[0m\u001b[0;34m\u001b[0m\u001b[0m\n\u001b[1;32m   2945\u001b[0m \u001b[0;34m\u001b[0m\u001b[0m\n",
      "\u001b[0;31mAttributeError\u001b[0m: type object 'LogTransformBase' has no attribute 'lower'"
     ]
    }
   ],
   "source": [
    "plt.gca().set_xscale(mpl.scale.LogTransformBase)"
   ]
  },
  {
   "cell_type": "code",
   "execution_count": 1,
   "metadata": {
    "autoscroll": "json-false",
    "ein.tags": [
     "worksheet-0"
    ],
    "slideshow": {
     "slide_type": "-"
    }
   },
   "outputs": [],
   "source": [
    "from cd.model.distrs import E,Var,RademacherDistribution"
   ]
  },
  {
   "cell_type": "code",
   "execution_count": 3,
   "metadata": {
    "autoscroll": "json-false",
    "ein.tags": [
     "worksheet-0"
    ],
    "slideshow": {
     "slide_type": "-"
    }
   },
   "outputs": [
    {
     "data": {
      "text/plain": [
       "1.0"
      ]
     },
     "execution_count": 3,
     "metadata": {},
     "output_type": "execute_result"
    }
   ],
   "source": [
    "Var(RademacherDistribution())"
   ]
  }
 ],
 "metadata": {
  "kernelspec": {
   "display_name": "Python 3",
   "language": "python",
   "name": "python3"
  },
  "language_info": {
   "codemirror_mode": {
    "name": "ipython",
    "version": 3
   },
   "file_extension": ".py",
   "mimetype": "text/x-python",
   "name": "python",
   "nbconvert_exporter": "python",
   "pygments_lexer": "ipython3",
   "version": "3.7.0"
  },
  "name": "concentration2.ipynb"
 },
 "nbformat": 4,
 "nbformat_minor": 2
}
