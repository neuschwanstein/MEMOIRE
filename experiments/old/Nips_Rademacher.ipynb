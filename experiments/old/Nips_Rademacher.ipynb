{
 "cells": [
  {
   "cell_type": "code",
   "execution_count": 1,
   "metadata": {
    "autoscroll": "json-false",
    "collapsed": false,
    "deletable": true,
    "editable": true,
    "ein.tags": [
     "worksheet-0"
    ]
   },
   "outputs": [],
   "source": [
    "%matplotlib inline\n",
    "%load_ext autoreload\n",
    "%autoreload 2"
   ]
  },
  {
   "cell_type": "code",
   "execution_count": 8,
   "metadata": {
    "autoscroll": "json-false",
    "collapsed": false,
    "deletable": true,
    "editable": true,
    "ein.tags": [
     "worksheet-0"
    ]
   },
   "outputs": [],
   "source": [
    "import numpy as np\n",
    "import cvxpy as cvx\n",
    "from model.distrs import StudentTDistribution as TDistribution, NormalDistribution,RademacherDistribution\n",
    "from model.distrs import E,Var,Std\n",
    "from model.math_ops import D\n",
    "import model.synth_data as synth\n",
    "import model.utility as ut\n",
    "import model.problem as pr\n",
    "from helper.stats import five_stats"
   ]
  },
  {
   "cell_type": "code",
   "execution_count": 9,
   "metadata": {
    "autoscroll": "json-false",
    "collapsed": false,
    "deletable": true,
    "editable": true,
    "ein.tags": [
     "worksheet-0"
    ]
   },
   "outputs": [],
   "source": [
    "import matplotlib as mpl\n",
    "import matplotlib.pyplot as plt\n",
    "mpl.rcParams['figure.figsize'] = (6,4)\n",
    "mpl.rcParams['font.size'] = 10\n",
    "mpl.rcParams['font.family'] = 'serif'\n",
    "mpl.rcParams['savefig.dpi'] = 100\n",
    "plt.rc('text',usetex=True)\n",
    "plt.rc('font',serif='times')"
   ]
  },
  {
   "cell_type": "code",
   "execution_count": 10,
   "metadata": {
    "autoscroll": "json-false",
    "collapsed": false,
    "deletable": true,
    "editable": true,
    "ein.tags": [
     "worksheet-0"
    ]
   },
   "outputs": [],
   "source": [
    "p_true = 40\n",
    "sz = np.arange(4,p_true+1)\n",
    "\n",
    "n_true = 5000\n",
    "n_experiments = 50\n",
    "λ = 3\n",
    "δ = 0.2\n",
    "\n",
    "r_threshold = 60\n",
    "β = 0.5\n",
    "u = ut.LinearPlateauUtility(β,r_threshold)"
   ]
  },
  {
   "cell_type": "code",
   "execution_count": 11,
   "metadata": {
    "autoscroll": "json-false",
    "collapsed": false,
    "deletable": true,
    "editable": true,
    "ein.tags": [
     "worksheet-0"
    ]
   },
   "outputs": [],
   "source": [
    "R_true = NormalDistribution(5,10)\n",
    "X_true = [RademacherDistribution() for _ in range(p_true)]\n",
    "M_true = synth.GaussianMarket(X_true,R_true)\n",
    "X,R = M_true.sample(n_true)\n",
    "M = synth.MarketDiscreteDistribution(X,R)"
   ]
  },
  {
   "cell_type": "code",
   "execution_count": 14,
   "metadata": {
    "autoscroll": "json-false",
    "collapsed": false,
    "deletable": true,
    "editable": true,
    "ein.tags": [
     "worksheet-0"
    ]
   },
   "outputs": [
    {
     "name": "stdout",
     "output_type": "stream",
     "text": [
      "\n",
      "OPTIMAL (within feastol=1.5e-10, reltol=6.1e-09, abstol=2.9e-08).\n",
      "Runtime: 1.693861 seconds.\n",
      "\n",
      "22  -4.698e+00  -4.698e+00  +2e-07  1e-13  1e-09  5e-12  1e-11  0.9691  4e-02   1  0  0 |  0  0\n",
      "23  -4.698e+00  -4.698e+00  +3e-08  2e-14  1e-10  6e-13  2e-12  0.9890  1e-01   1  0  0 |  0  0\n",
      "20  -4.698e+00  -4.698e+00  +2e-05  8e-12  8e-08  4e-10  1e-09  0.9890  4e-02   1  0  0 |  0  0\n",
      "21  -4.698e+00  -4.698e+00  +3e-06  2e-12  2e-08  7e-11  2e-10  0.8134  3e-02   1  0  0 |  0  0\n",
      "18  -4.698e+00  -4.698e+00  +8e-04  4e-10  4e-06  2e-08  6e-08  0.8560  1e-01   1  0  0 |  0  0\n",
      "19  -4.698e+00  -4.698e+00  +3e-04  2e-10  1e-06  7e-09  2e-08  0.8743  2e-01   1  0  0 |  0  0\n",
      "16  -4.697e+00  -4.700e+00  +1e-02  6e-09  6e-05  3e-07  8e-07  0.6838  2e-01   1  0  0 |  0  0\n",
      "17  -4.697e+00  -4.698e+00  +3e-03  2e-09  2e-05  8e-08  2e-07  0.9890  3e-01   1  0  0 |  0  0\n",
      "14  -4.689e+00  -4.710e+00  +8e-02  4e-08  4e-04  2e-06  5e-06  0.6914  6e-02   1  0  0 |  0  0\n",
      "15  -4.695e+00  -4.702e+00  +3e-02  1e-08  1e-04  8e-07  2e-06  0.7735  2e-01   1  0  0 |  0  0\n",
      "12  -4.646e+00  -4.773e+00  +5e-01  3e-07  2e-03  2e-05  3e-05  0.7287  7e-02   0  0  0 |  0  0\n",
      "13  -4.673e+00  -4.732e+00  +2e-01  1e-07  1e-03  7e-06  1e-05  0.6455  2e-01   0  0  0 |  0  0\n",
      "10  -4.379e+00  -5.168e+00  +3e+00  2e-06  1e-02  1e-04  2e-04  0.5593  1e-01   0  0  0 |  0  0\n",
      "11  -4.536e+00  -4.932e+00  +1e+00  8e-07  7e-03  5e-05  1e-04  0.5719  1e-01   0  0  0 |  0  0\n",
      " 8  -2.664e+00  -7.442e+00  +2e+01  1e-05  9e-02  7e-04  1e-03  0.6824  7e-02   0  0  0 |  0  0\n",
      " 9  -4.050e+00  -5.650e+00  +6e+00  3e-06  3e-02  2e-04  4e-04  0.6718  4e-02   0  0  0 |  0  0\n",
      " 6  +2.862e+01  -1.120e+02  +2e+02  4e-04  2e+00  2e-03  1e-02  0.9099  7e-04   0  0  0 |  0  0\n",
      " 7  +3.058e+00  -1.360e+01  +5e+01  4e-05  3e-01  2e-03  3e-03  0.8202  1e-01   0  0  0 |  0  0\n",
      " 4  +2.428e+01  -5.223e+04  +6e+04  2e-01  4e+01  6e+00  4e+00  0.6245  2e-01   1  1  0 |  0  0\n",
      " 5  +3.629e+01  -1.790e+03  +2e+03  5e-03  2e+01  3e-01  1e-01  0.9706  3e-03   0  0  0 |  0  0\n",
      " 2  -1.143e+01  -1.654e+05  +3e+05  5e-01  3e+01  7e+00  2e+01  0.2748  6e-01   2  0  0 |  0  0\n",
      " 3  +9.168e+00  -8.629e+04  +1e+05  3e-01  4e+01  6e+00  8e+00  0.6259  8e-02   2  0  0 |  0  0\n",
      "\n",
      "ECOS 2.0.4 - (C) embotech GmbH, Zurich Switzerland, 2012-15. Web: www.embotech.com/ECOS\n",
      "\n",
      "It     pcost       dcost      gap   pres   dres    k/t    mu     step   sigma     IR    |   BT\n",
      " 0  -1.641e+01  -1.500e+05  +3e+05  4e-01  2e+01  1e+00  2e+01    ---    ---    1  1  - |  -  - \n",
      " 1  -1.540e+01  -1.529e+05  +3e+05  5e-01  2e+01  2e+00  2e+01  0.0842  5e-01   1  0  0 |  0  0\n"
     ]
    }
   ],
   "source": [
    "# Real q∗ value computation\n",
    "p_star = pr.Problem(X,R,λ=0,u=u)\n",
    "p_star.solve()\n",
    "q_star = p_star.q"
   ]
  },
  {
   "cell_type": "code",
   "execution_count": 15,
   "metadata": {
    "autoscroll": "json-false",
    "collapsed": false,
    "deletable": true,
    "editable": true,
    "ein.tags": [
     "worksheet-0"
    ]
   },
   "outputs": [],
   "source": [
    "R_star_q_star = p_star.insample_cost(q_star)\n",
    "CE_star_q_star = p_star.insample_CE(q_star)"
   ]
  },
  {
   "cell_type": "code",
   "execution_count": 0,
   "metadata": {
    "autoscroll": "json-false",
    "collapsed": false,
    "deletable": true,
    "editable": true,
    "ein.tags": [
     "worksheet-1"
    ]
   },
   "outputs": [],
   "source": [
    "## $p=O(1)$"
   ]
  },
  {
   "cell_type": "code",
   "execution_count": 17,
   "metadata": {
    "autoscroll": "json-false",
    "collapsed": true,
    "deletable": true,
    "editable": true,
    "ein.tags": [
     "worksheet-1"
    ]
   },
   "outputs": [
    {
     "data": {
      "text/plain": [
       "array([[ 40,  40],\n",
       "       [ 40,  50],\n",
       "       [ 40,  60],\n",
       "       [ 40,  70],\n",
       "       [ 40,  80],\n",
       "       [ 40,  90],\n",
       "       [ 40, 100],\n",
       "       [ 40, 110],\n",
       "       [ 40, 120],\n",
       "       [ 40, 130],\n",
       "       [ 40, 140],\n",
       "       [ 40, 150],\n",
       "       [ 40, 160],\n",
       "       [ 40, 170],\n",
       "       [ 40, 180],\n",
       "       [ 40, 190],\n",
       "       [ 40, 200],\n",
       "       [ 40, 210],\n",
       "       [ 40, 220],\n",
       "       [ 40, 230],\n",
       "       [ 40, 240],\n",
       "       [ 40, 250],\n",
       "       [ 40, 260],\n",
       "       [ 40, 270],\n",
       "       [ 40, 280],\n",
       "       [ 40, 290],\n",
       "       [ 40, 300],\n",
       "       [ 40, 310],\n",
       "       [ 40, 320],\n",
       "       [ 40, 330],\n",
       "       [ 40, 340],\n",
       "       [ 40, 350],\n",
       "       [ 40, 360],\n",
       "       [ 40, 370],\n",
       "       [ 40, 380],\n",
       "       [ 40, 390],\n",
       "       [ 40, 400]])"
      ]
     },
     "execution_count": 17,
     "metadata": {},
     "output_type": "execute_result"
    }
   ],
   "source": [
    "ns1 = sz*10\n",
    "ps1 = np.ones_like(sz)*p_true\n",
    "np.array([ps1,ns1]).T"
   ]
  },
  {
   "cell_type": "code",
   "execution_count": 18,
   "metadata": {
    "autoscroll": "json-false",
    "collapsed": true,
    "deletable": true,
    "editable": true,
    "ein.tags": [
     "worksheet-1"
    ]
   },
   "outputs": [
    {
     "name": "stdout",
     "output_type": "stream",
     "text": [
      "Sampling 50 problems of size 400 × 41\n",
      "Sampling 50 problems of size 390 × 41\n",
      "Sampling 50 problems of size 380 × 41\n",
      "Sampling 50 problems of size 370 × 41\n",
      "Sampling 50 problems of size 360 × 41\n",
      "Sampling 50 problems of size 350 × 41\n",
      "Sampling 50 problems of size 340 × 41\n",
      "Sampling 50 problems of size 330 × 41\n",
      "Sampling 50 problems of size 320 × 41\n",
      "Sampling 50 problems of size 310 × 41\n",
      "Sampling 50 problems of size 300 × 41\n",
      "Sampling 50 problems of size 290 × 41\n",
      "Sampling 50 problems of size 280 × 41\n",
      "Sampling 50 problems of size 270 × 41\n",
      "Sampling 50 problems of size 260 × 41\n",
      "Sampling 50 problems of size 250 × 41\n",
      "Sampling 50 problems of size 240 × 41\n",
      "Sampling 50 problems of size 230 × 41\n",
      "Sampling 50 problems of size 220 × 41\n",
      "Sampling 50 problems of size 210 × 41\n",
      "Sampling 50 problems of size 200 × 41\n",
      "Sampling 50 problems of size 190 × 41\n",
      "Sampling 50 problems of size 180 × 41\n",
      "Sampling 50 problems of size 170 × 41\n",
      "Sampling 50 problems of size 160 × 41\n",
      "Sampling 50 problems of size 150 × 41\n",
      "Sampling 50 problems of size 140 × 41\n",
      "Sampling 50 problems of size 130 × 41\n",
      "Sampling 50 problems of size 120 × 41\n",
      "Sampling 50 problems of size 110 × 41\n",
      "Sampling 50 problems of size 100 × 41\n",
      "Sampling 50 problems of size 90 × 41\n",
      "Sampling 50 problems of size 80 × 41\n",
      "Sampling 50 problems of size 70 × 41\n",
      "Sampling 50 problems of size 60 × 41\n",
      "Sampling 50 problems of size 50 × 41\n",
      "Sampling 50 problems of size 40 × 41\n"
     ]
    }
   ],
   "source": [
    "qs1 = np.zeros(shape=(len(ns1),p_true+1,n_experiments))\n",
    "CEs_ins1 = np.empty(shape=(len(ns1),n_experiments))\n",
    "CEs_oos1 = np.empty(shape=(len(ns1),n_experiments))\n",
    "\n",
    "for i,(n,p) in enumerate(zip(ns1,ps1)):\n",
    "    print('Sampling %d problems of size %d × %d' % (n_experiments,n,p+1))\n",
    "    prs = pr.ProblemsDistribution(M,n,λ,u,Rf=0,problem_t=pr.MaskedProblem)\n",
    "    prs.sample(n_experiments,{'fs':range(p+1)},par=True)\n",
    "    qs1[i,:p+1,:] = prs.qs.T\n",
    "    CEs_ins1[i,:] = prs.CEs_ins\n",
    "    CEs_oos1[i,:] = prs.CEs_oos"
   ]
  },
  {
   "cell_type": "code",
   "execution_count": 19,
   "metadata": {
    "autoscroll": "json-false",
    "collapsed": false,
    "deletable": true,
    "editable": true,
    "ein.tags": [
     "worksheet-1"
    ]
   },
   "outputs": [],
   "source": [
    "γ = u.γ\n",
    "r_bar = max(R)\n",
    "ξ = np.max(np.linalg.norm(X,axis=1))\n",
    "δ = 0.1\n",
    "norm_qstar = np.linalg.norm(q_star)\n",
    "Ω = γ*r_bar**2*ξ**2/λ * (γ/(2*ns1) + (1+γ)*np.sqrt(np.log(1/δ))/np.sqrt(2*ns1))\n",
    "ω = -λ*norm_qstar**2 - 8*γ**2*ξ**2*(32+np.log(1/δ))/(ns1*λ) - 2*γ*r_bar*ξ**2/λ * np.sqrt((32+np.log(1/δ))/ns1)"
   ]
  },
  {
   "cell_type": "code",
   "execution_count": 20,
   "metadata": {
    "autoscroll": "json-false",
    "collapsed": false,
    "deletable": true,
    "editable": true,
    "ein.tags": [
     "worksheet-1"
    ]
   },
   "outputs": [],
   "source": [
    "error_CE1 = CEs_oos1-CEs_ins1\n",
    "center_CE1 = np.median(error_CE1,axis=1)\n",
    "bottom_CE1 = np.percentile(error_CE1,10,axis=1)-center_CE1\n",
    "top_CE1 = -np.percentile(error_CE1,90,axis=1)+center_CE1\n",
    "\n",
    "error_bound1 = -(Ω/(D(u)(CEs_ins1)).T).T # double transpose is for broadcastigne\n",
    "center_bound1 = np.median(error_bound1,axis=1)\n",
    "bottom_bound1 = np.percentile(error_bound1,10,axis=1)-center_bound1\n",
    "top_bound1 = -np.percentile(error_bound1,90,axis=1)+center_bound1\n",
    "\n",
    "for i in range(len(top_CE1)):\n",
    "    if (i+1)%3 != 0:\n",
    "        bottom_CE1[i] = np.nan\n",
    "        top_CE1[i] = np.nan\n",
    "        bottom_bound1[i] = np.nan\n",
    "        top_bound1[i] = np.nan"
   ]
  },
  {
   "cell_type": "code",
   "execution_count": 22,
   "metadata": {
    "autoscroll": "json-false",
    "collapsed": false,
    "deletable": true,
    "editable": true,
    "ein.tags": [
     "worksheet-1"
    ]
   },
   "outputs": [
    {
     "data": {
      "image/png": "[encoded data removed]",
      "text/plain": [
       "<matplotlib.figure.Figure at 0x107cd8828>"
      ]
     },
     "metadata": {},
     "output_type": "display_data"
    }
   ],
   "source": [
    "fig1_oos = plt.figure()\n",
    "ax11_oos = fig1_oos.add_subplot(111)\n",
    "ax21_oos = ax11_oos.twinx()\n",
    "\n",
    "ax11_oos.errorbar(ns1,center_CE1,yerr=[top_CE1,bottom_CE1],color='b')\n",
    "ax11_oos.axis(xmin=min(ns1))\n",
    "ax11_oos.set_xlabel('$n\\,\\,(p=40)$')\n",
    "ax11_oos.set_ylabel('Returns (\\%)');\n",
    "for t in ax11_oos.get_yticklabels():\n",
    "    t.set_color('b')\n",
    "\n",
    "ax21_oos.errorbar(ns1,center_bound1,yerr=[top_bound1,bottom_bound1],color='r')\n",
    "# ax21_oos.axis(xmin=min(ns1),ymax=0,ymin=-1000000)\n",
    "for t in ax21_oos.get_yticklabels():\n",
    "    t.set_color('r')\n",
    "\n",
    "ax11_oos.set_title('Out-of-sample deviation with $p=O(1)$');"
   ]
  },
  {
   "cell_type": "code",
   "execution_count": 23,
   "metadata": {
    "autoscroll": "json-false",
    "collapsed": false,
    "deletable": true,
    "editable": true,
    "ein.tags": [
     "worksheet-1"
    ]
   },
   "outputs": [],
   "source": [
    "error_CE1sub = CE_star_q_star - CEs_oos1\n",
    "center_CE1sub = np.median(error_CE1sub,axis=1)\n",
    "bottom_CE1sub = np.percentile(error_CE1sub,10,axis=1)-center_CE1sub\n",
    "top_CE1sub = -np.percentile(error_CE1sub,90,axis=1)+center_CE1sub\n",
    "\n",
    "error_bound1sub = -(ω/(D(u)(CEs_oos1)).T).T\n",
    "center_bound1sub = np.median(error_bound1sub,axis=1)\n",
    "bottom_bound1sub = np.percentile(error_bound1sub,10,axis=1)-center_bound1sub\n",
    "top_bound1sub = -np.percentile(error_bound1sub,90,axis=1)+center_bound1sub\n",
    "\n",
    "for i in range(len(top_CE1sub)):\n",
    "    if (i+1)%3 != 0:\n",
    "        bottom_CE1sub[i] = np.nan\n",
    "        top_CE1sub[i] = np.nan\n",
    "        bottom_bound1sub[i] = np.nan\n",
    "        top_bound1sub[i] = np.nan"
   ]
  },
  {
   "cell_type": "code",
   "execution_count": 25,
   "metadata": {
    "autoscroll": "json-false",
    "collapsed": false,
    "deletable": true,
    "editable": true,
    "ein.tags": [
     "worksheet-1"
    ]
   },
   "outputs": [
    {
     "data": {
      "image/png": "[encoded data removed]",
      "text/plain": [
       "<matplotlib.figure.Figure at 0x1087512b0>"
      ]
     },
     "metadata": {},
     "output_type": "display_data"
    }
   ],
   "source": [
    "fig1_sub = plt.figure()\n",
    "ax11_sub = fig1_sub.add_subplot(111)\n",
    "ax21_sub = ax11_sub.twinx()\n",
    "\n",
    "ax11_sub.errorbar(ns1,center_CE1sub,yerr=[top_CE1sub,bottom_CE1sub])\n",
    "ax11_sub.axis(xmin=min(ns1))\n",
    "ax11_sub.set_xlabel('$n\\,\\,(p=40)$')\n",
    "ax11_sub.set_ylabel('Returns (\\%)');\n",
    "# ax11_sub.axis(ymax=7)\n",
    "for t in ax11_sub.get_yticklabels():\n",
    "    t.set_color('b')\n",
    "\n",
    "\n",
    "# ax21_sub.errorbar(ns1,center_bound1sub,yerr=[top_bound1sub,bottom_bound1sub],color='r')\n",
    "# # ax21_sub.axis(xmin=min(ns1),ymin=0,ymax=150000)\n",
    "# for t in ax21_sub.get_yticklabels():\n",
    "#     t.set_color('r')\n",
    "\n",
    "ax11_sub.set_title('Suboptimality deviation with $p=O(1)$');"
   ]
  },
  {
   "cell_type": "code",
   "execution_count": 0,
   "metadata": {
    "autoscroll": "json-false",
    "collapsed": false,
    "deletable": true,
    "editable": true,
    "ein.tags": [
     "worksheet-1"
    ]
   },
   "outputs": [],
   "source": []
  }
 ],
 "metadata": {
  "kernelspec": {
   "display_name": "Python 3",
   "language": "python",
   "name": "python3"
  },
  "language_info": {
   "codemirror_mode": {
    "name": "ipython",
    "version": 3
   },
   "file_extension": ".py",
   "mimetype": "text/x-python",
   "name": "python",
   "nbconvert_exporter": "python",
   "pygments_lexer": "ipython3",
   "version": "3.6.0"
  },
  "name": "Nips_Rademacher.ipynb"
 },
 "nbformat": 4,
 "nbformat_minor": 0
}
